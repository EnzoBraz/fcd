{
 "cells": [
  {
   "cell_type": "markdown",
   "metadata": {
    "slideshow": {
     "slide_type": "slide"
    }
   },
   "source": [
    "---\n",
    "layout: page\n",
    "title: Strings e Arrays\n",
    "nav_order: 4\n",
    "---\n",
    "[<img src=\"./colab_favicon_small.png\" style=\"float: right;\">](https://colab.research.google.com/github/flaviovdf/fcd/blob/master/_lessons/04-Arrays.ipynb)\n",
    "\n",
    "# Tópico 4 - Strings e Arrays\n",
    "\n",
    "{: .no_toc .mb-2 }\n",
    "\n",
    "Vetores (Arrays) representam um conjunto básico de dados. Vamos aprender como usar os mesmos.\n",
    "{: .fs-6 .fw-300 }\n",
    "\n",
    "{: .no_toc .text-delta }\n",
    "Resultados Esperados\n",
    "\n",
    "1. Entender tipos em Python, em particular a String\n",
    "1. Saber o que é a biblioteca [numpy](https://numpy.org/)\n",
    "1. Conhecimento básico de manipulação de arrays"
   ]
  },
  {
   "cell_type": "markdown",
   "metadata": {
    "slideshow": {
     "slide_type": "slide"
    }
   },
   "source": [
    "### Recursos 🤝\n",
    "\n",
    "- Estamos cobrindo **muito** conteúdo muito rapidamente. Se você está sobrecarregado, saiba que estamos aqui para apoiá-lo!\n",
    "- Os monitores foram definidos. Olhem a mensagem no moodle.\n",
    "- Procurem o professor depois da aula!"
   ]
  },
  {
   "cell_type": "markdown",
   "metadata": {
    "slideshow": {
     "slide_type": "slide"
    }
   },
   "source": [
    "### Agenda\n",
    "\n",
    "- Strings\n",
    "- Listas.\n",
    "- Matrizes.\n",
    "- Intervalos."
   ]
  },
  {
   "cell_type": "markdown",
   "metadata": {
    "slideshow": {
     "slide_type": "slide"
    }
   },
   "source": [
    "## Strings ou Texto"
   ]
  },
  {
   "cell_type": "markdown",
   "metadata": {
    "slideshow": {
     "slide_type": "slide"
    }
   },
   "source": [
    "### Strings\n",
    "\n",
    "- Uma string é um trecho de texto de qualquer comprimento.\n",
    "- Em Python, as strings são colocadas entre aspas simples ou duplas."
   ]
  },
  {
   "cell_type": "code",
   "execution_count": 1,
   "metadata": {
    "execution": {
     "iopub.execute_input": "2024-03-28T17:27:30.816460Z",
     "iopub.status.busy": "2024-03-28T17:27:30.815574Z",
     "iopub.status.idle": "2024-03-28T17:27:30.840815Z",
     "shell.execute_reply": "2024-03-28T17:27:30.839252Z"
    }
   },
   "outputs": [
    {
     "data": {
      "text/plain": [
       "'woof'"
      ]
     },
     "execution_count": 1,
     "metadata": {},
     "output_type": "execute_result"
    }
   ],
   "source": [
    "'woof'"
   ]
  },
  {
   "cell_type": "code",
   "execution_count": 2,
   "metadata": {
    "execution": {
     "iopub.execute_input": "2024-03-28T17:27:30.883246Z",
     "iopub.status.busy": "2024-03-28T17:27:30.882861Z",
     "iopub.status.idle": "2024-03-28T17:27:30.887283Z",
     "shell.execute_reply": "2024-03-28T17:27:30.886442Z"
    }
   },
   "outputs": [
    {
     "data": {
      "text/plain": [
       "str"
      ]
     },
     "execution_count": 2,
     "metadata": {},
     "output_type": "execute_result"
    }
   ],
   "source": [
    "type('woof')"
   ]
  },
  {
   "cell_type": "code",
   "execution_count": 3,
   "metadata": {
    "execution": {
     "iopub.execute_input": "2024-03-28T17:27:30.890151Z",
     "iopub.status.busy": "2024-03-28T17:27:30.889574Z",
     "iopub.status.idle": "2024-03-28T17:27:30.893763Z",
     "shell.execute_reply": "2024-03-28T17:27:30.893115Z"
    },
    "scrolled": true
   },
   "outputs": [
    {
     "data": {
      "text/plain": [
       "'woof'"
      ]
     },
     "execution_count": 3,
     "metadata": {},
     "output_type": "execute_result"
    }
   ],
   "source": [
    "\"woof\""
   ]
  },
  {
   "cell_type": "code",
   "execution_count": 4,
   "metadata": {
    "execution": {
     "iopub.execute_input": "2024-03-28T17:27:30.896794Z",
     "iopub.status.busy": "2024-03-28T17:27:30.896220Z",
     "iopub.status.idle": "2024-03-28T17:27:30.900335Z",
     "shell.execute_reply": "2024-03-28T17:27:30.899691Z"
    }
   },
   "outputs": [
    {
     "data": {
      "text/plain": [
       "'1998'"
      ]
     },
     "execution_count": 4,
     "metadata": {},
     "output_type": "execute_result"
    }
   ],
   "source": [
    "# A string, not an int!\n",
    "\"1998\""
   ]
  },
  {
   "cell_type": "markdown",
   "metadata": {
    "slideshow": {
     "slide_type": "slide"
    }
   },
   "source": [
    "### Aritmética de strings\n",
    "\n",
    "Ao usar o símbolo `+` entre duas strings, a operação é chamada de \"concatenação\"."
   ]
  },
  {
   "cell_type": "code",
   "execution_count": 5,
   "metadata": {
    "execution": {
     "iopub.execute_input": "2024-03-28T17:27:30.902705Z",
     "iopub.status.busy": "2024-03-28T17:27:30.902437Z",
     "iopub.status.idle": "2024-03-28T17:27:30.905825Z",
     "shell.execute_reply": "2024-03-28T17:27:30.905121Z"
    }
   },
   "outputs": [],
   "source": [
    "s1 = 'baby'\n",
    "s2 = '🐼'"
   ]
  },
  {
   "cell_type": "code",
   "execution_count": 6,
   "metadata": {
    "execution": {
     "iopub.execute_input": "2024-03-28T17:27:30.908758Z",
     "iopub.status.busy": "2024-03-28T17:27:30.908469Z",
     "iopub.status.idle": "2024-03-28T17:27:30.913102Z",
     "shell.execute_reply": "2024-03-28T17:27:30.912442Z"
    }
   },
   "outputs": [
    {
     "data": {
      "text/plain": [
       "'baby🐼'"
      ]
     },
     "execution_count": 6,
     "metadata": {},
     "output_type": "execute_result"
    }
   ],
   "source": [
    "s1 + s2"
   ]
  },
  {
   "cell_type": "code",
   "execution_count": 7,
   "metadata": {
    "execution": {
     "iopub.execute_input": "2024-03-28T17:27:30.915408Z",
     "iopub.status.busy": "2024-03-28T17:27:30.915170Z",
     "iopub.status.idle": "2024-03-28T17:27:30.919210Z",
     "shell.execute_reply": "2024-03-28T17:27:30.918545Z"
    }
   },
   "outputs": [
    {
     "data": {
      "text/plain": [
       "'baby 🐼'"
      ]
     },
     "execution_count": 7,
     "metadata": {},
     "output_type": "execute_result"
    }
   ],
   "source": [
    "s1 + ' ' + s2"
   ]
  },
  {
   "cell_type": "code",
   "execution_count": 8,
   "metadata": {
    "execution": {
     "iopub.execute_input": "2024-03-28T17:27:30.922087Z",
     "iopub.status.busy": "2024-03-28T17:27:30.921821Z",
     "iopub.status.idle": "2024-03-28T17:27:30.926056Z",
     "shell.execute_reply": "2024-03-28T17:27:30.925398Z"
    }
   },
   "outputs": [
    {
     "data": {
      "text/plain": [
       "'🐼🐼🐼'"
      ]
     },
     "execution_count": 8,
     "metadata": {},
     "output_type": "execute_result"
    }
   ],
   "source": [
    "s2 * 3"
   ]
  },
  {
   "cell_type": "markdown",
   "metadata": {
    "slideshow": {
     "slide_type": "slide"
    }
   },
   "source": [
    "### Métodos de string\n",
    "* Strings estão associadas a certas funções chamadas **métodos de string**.\n",
    "* Acesse métodos de string com um `.` após a string (\"notação de ponto\").\n",
    "* Por exemplo, para usar o método `upper` na string `s`, escrevemos `s.upper()`.\n",
    "* Exemplos incluem `upper`, `title` e `replace`."
   ]
  },
  {
   "cell_type": "code",
   "execution_count": 9,
   "metadata": {
    "execution": {
     "iopub.execute_input": "2024-03-28T17:27:30.929036Z",
     "iopub.status.busy": "2024-03-28T17:27:30.928783Z",
     "iopub.status.idle": "2024-03-28T17:27:30.931835Z",
     "shell.execute_reply": "2024-03-28T17:27:30.931153Z"
    }
   },
   "outputs": [],
   "source": [
    "my_cool_string = 'data science is super cool!'"
   ]
  },
  {
   "cell_type": "code",
   "execution_count": 10,
   "metadata": {
    "execution": {
     "iopub.execute_input": "2024-03-28T17:27:30.934761Z",
     "iopub.status.busy": "2024-03-28T17:27:30.934520Z",
     "iopub.status.idle": "2024-03-28T17:27:30.939429Z",
     "shell.execute_reply": "2024-03-28T17:27:30.938773Z"
    }
   },
   "outputs": [
    {
     "data": {
      "text/plain": [
       "'Data Science Is Super Cool!'"
      ]
     },
     "execution_count": 10,
     "metadata": {},
     "output_type": "execute_result"
    }
   ],
   "source": [
    "my_cool_string.title()"
   ]
  },
  {
   "cell_type": "code",
   "execution_count": 11,
   "metadata": {
    "execution": {
     "iopub.execute_input": "2024-03-28T17:27:30.941932Z",
     "iopub.status.busy": "2024-03-28T17:27:30.941648Z",
     "iopub.status.idle": "2024-03-28T17:27:30.945800Z",
     "shell.execute_reply": "2024-03-28T17:27:30.945151Z"
    }
   },
   "outputs": [
    {
     "data": {
      "text/plain": [
       "'DATA SCIENCE IS SUPER COOL!'"
      ]
     },
     "execution_count": 11,
     "metadata": {},
     "output_type": "execute_result"
    }
   ],
   "source": [
    "my_cool_string.upper()"
   ]
  },
  {
   "cell_type": "code",
   "execution_count": 12,
   "metadata": {
    "execution": {
     "iopub.execute_input": "2024-03-28T17:27:30.948354Z",
     "iopub.status.busy": "2024-03-28T17:27:30.947987Z",
     "iopub.status.idle": "2024-03-28T17:27:30.952678Z",
     "shell.execute_reply": "2024-03-28T17:27:30.952036Z"
    }
   },
   "outputs": [
    {
     "data": {
      "text/plain": [
       "'data science is 💯💯💯!'"
      ]
     },
     "execution_count": 12,
     "metadata": {},
     "output_type": "execute_result"
    }
   ],
   "source": [
    "my_cool_string.replace('super cool', '💯' * 3)"
   ]
  },
  {
   "cell_type": "code",
   "execution_count": 13,
   "metadata": {
    "execution": {
     "iopub.execute_input": "2024-03-28T17:27:30.955259Z",
     "iopub.status.busy": "2024-03-28T17:27:30.955025Z",
     "iopub.status.idle": "2024-03-28T17:27:30.959006Z",
     "shell.execute_reply": "2024-03-28T17:27:30.958413Z"
    }
   },
   "outputs": [
    {
     "data": {
      "text/plain": [
       "27"
      ]
     },
     "execution_count": 13,
     "metadata": {},
     "output_type": "execute_result"
    }
   ],
   "source": [
    "# len is not a method, since it doesn't use dot notation\n",
    "len(my_cool_string)"
   ]
  },
  {
   "cell_type": "markdown",
   "metadata": {
    "slideshow": {
     "slide_type": "slide"
    }
   },
   "source": [
    "### Caracteres especiais em strings\n",
    "\n",
    "Aspas simples e aspas duplas geralmente são intercambiáveis, exceto quando a própria string contém aspas simples ou duplas."
   ]
  },
  {
   "cell_type": "code",
   "execution_count": 14,
   "metadata": {
    "execution": {
     "iopub.execute_input": "2024-03-28T17:27:30.961770Z",
     "iopub.status.busy": "2024-03-28T17:27:30.961534Z",
     "iopub.status.idle": "2024-03-28T17:27:30.964310Z",
     "shell.execute_reply": "2024-03-28T17:27:30.963686Z"
    },
    "tags": [
     "raises-exception"
    ]
   },
   "outputs": [],
   "source": [
    "# a linha abaixo gera um erro, descomente e teste\n",
    "# 'my string's full of apostrophes!'"
   ]
  },
  {
   "cell_type": "code",
   "execution_count": 15,
   "metadata": {
    "execution": {
     "iopub.execute_input": "2024-03-28T17:27:30.966898Z",
     "iopub.status.busy": "2024-03-28T17:27:30.966449Z",
     "iopub.status.idle": "2024-03-28T17:27:30.971007Z",
     "shell.execute_reply": "2024-03-28T17:27:30.970315Z"
    }
   },
   "outputs": [
    {
     "data": {
      "text/plain": [
       "\"my string's full of apostrophes!\""
      ]
     },
     "execution_count": 15,
     "metadata": {},
     "output_type": "execute_result"
    }
   ],
   "source": [
    "\"my string's full of apostrophes!\""
   ]
  },
  {
   "cell_type": "code",
   "execution_count": 16,
   "metadata": {
    "execution": {
     "iopub.execute_input": "2024-03-28T17:27:30.973574Z",
     "iopub.status.busy": "2024-03-28T17:27:30.973196Z",
     "iopub.status.idle": "2024-03-28T17:27:30.978027Z",
     "shell.execute_reply": "2024-03-28T17:27:30.977353Z"
    }
   },
   "outputs": [
    {
     "data": {
      "text/plain": [
       "'my string\\'s \"full\" of apostrophes!'"
      ]
     },
     "execution_count": 16,
     "metadata": {},
     "output_type": "execute_result"
    }
   ],
   "source": [
    "# escape the apostrophe with a backslash!\n",
    "'my string\\'s \"full\" of apostrophes!'"
   ]
  },
  {
   "cell_type": "code",
   "execution_count": 17,
   "metadata": {
    "execution": {
     "iopub.execute_input": "2024-03-28T17:27:30.981199Z",
     "iopub.status.busy": "2024-03-28T17:27:30.980613Z",
     "iopub.status.idle": "2024-03-28T17:27:30.984386Z",
     "shell.execute_reply": "2024-03-28T17:27:30.983734Z"
    }
   },
   "outputs": [
    {
     "name": "stdout",
     "output_type": "stream",
     "text": [
      "my string's \"full\" of apostrophes!\n"
     ]
    }
   ],
   "source": [
    "print('my string\\'s \"full\" of apostrophes!')"
   ]
  },
  {
   "cell_type": "markdown",
   "metadata": {
    "slideshow": {
     "slide_type": "slide"
    }
   },
   "source": [
    "### Além: `print`\n",
    "- Por padrão, os notebooks Jupyter exibem o valor \"bruto\" da expressão da última linha de uma célula.\n",
    "- A função `print` exibe o valor em texto legível quando é avaliado."
   ]
  },
  {
   "cell_type": "code",
   "execution_count": 18,
   "metadata": {
    "execution": {
     "iopub.execute_input": "2024-03-28T17:27:30.987565Z",
     "iopub.status.busy": "2024-03-28T17:27:30.987254Z",
     "iopub.status.idle": "2024-03-28T17:27:30.991305Z",
     "shell.execute_reply": "2024-03-28T17:27:30.990714Z"
    }
   },
   "outputs": [
    {
     "data": {
      "text/plain": [
       "23"
      ]
     },
     "execution_count": 18,
     "metadata": {},
     "output_type": "execute_result"
    }
   ],
   "source": [
    "12 # 12 won't be displayed, since Python only shows the value of the last expression\n",
    "23"
   ]
  },
  {
   "cell_type": "code",
   "execution_count": 19,
   "metadata": {
    "execution": {
     "iopub.execute_input": "2024-03-28T17:27:30.993968Z",
     "iopub.status.busy": "2024-03-28T17:27:30.993744Z",
     "iopub.status.idle": "2024-03-28T17:27:30.997183Z",
     "shell.execute_reply": "2024-03-28T17:27:30.996544Z"
    }
   },
   "outputs": [
    {
     "name": "stdout",
     "output_type": "stream",
     "text": [
      "12\n",
      "23\n"
     ]
    }
   ],
   "source": [
    "# Note, there is no Out[number] to the left! That only appears when displaying a non-printed value.\n",
    "# But both 12 and 23 are displayed.\n",
    "print(12)\n",
    "print(23)"
   ]
  },
  {
   "cell_type": "code",
   "execution_count": 20,
   "metadata": {
    "execution": {
     "iopub.execute_input": "2024-03-28T17:27:30.999618Z",
     "iopub.status.busy": "2024-03-28T17:27:30.999334Z",
     "iopub.status.idle": "2024-03-28T17:27:31.003565Z",
     "shell.execute_reply": "2024-03-28T17:27:31.002811Z"
    }
   },
   "outputs": [
    {
     "data": {
      "text/plain": [
       "'here is a string with two lines.\\nhere is the second line'"
      ]
     },
     "execution_count": 20,
     "metadata": {},
     "output_type": "execute_result"
    }
   ],
   "source": [
    "# '\\n' inserts a new line\n",
    "my_newline_str = 'here is a string with two lines.\\nhere is the second line'  \n",
    "my_newline_str"
   ]
  },
  {
   "cell_type": "code",
   "execution_count": 21,
   "metadata": {
    "execution": {
     "iopub.execute_input": "2024-03-28T17:27:31.006513Z",
     "iopub.status.busy": "2024-03-28T17:27:31.006288Z",
     "iopub.status.idle": "2024-03-28T17:27:31.010039Z",
     "shell.execute_reply": "2024-03-28T17:27:31.009358Z"
    }
   },
   "outputs": [
    {
     "name": "stdout",
     "output_type": "stream",
     "text": [
      "here is a string with two lines.\n",
      "here is the second line\n"
     ]
    }
   ],
   "source": [
    "# The quotes disappeared and the newline is rendered!\n",
    "print(my_newline_str)  "
   ]
  },
  {
   "cell_type": "markdown",
   "metadata": {
    "slideshow": {
     "slide_type": "slide"
    }
   },
   "source": [
    "### Conversão de tipo de e para strings\n",
    "* Qualquer valor pode ser convertido em uma string usando ```str```.\n",
    "* Algumas strings podem ser convertidas para ```int``` e ```float```."
   ]
  },
  {
   "cell_type": "code",
   "execution_count": 22,
   "metadata": {
    "execution": {
     "iopub.execute_input": "2024-03-28T17:27:31.013136Z",
     "iopub.status.busy": "2024-03-28T17:27:31.012727Z",
     "iopub.status.idle": "2024-03-28T17:27:31.016774Z",
     "shell.execute_reply": "2024-03-28T17:27:31.016148Z"
    }
   },
   "outputs": [
    {
     "data": {
      "text/plain": [
       "'3'"
      ]
     },
     "execution_count": 22,
     "metadata": {},
     "output_type": "execute_result"
    }
   ],
   "source": [
    "str(3)"
   ]
  },
  {
   "cell_type": "code",
   "execution_count": 23,
   "metadata": {
    "execution": {
     "iopub.execute_input": "2024-03-28T17:27:31.019358Z",
     "iopub.status.busy": "2024-03-28T17:27:31.019097Z",
     "iopub.status.idle": "2024-03-28T17:27:31.023499Z",
     "shell.execute_reply": "2024-03-28T17:27:31.022820Z"
    }
   },
   "outputs": [
    {
     "data": {
      "text/plain": [
       "3.0"
      ]
     },
     "execution_count": 23,
     "metadata": {},
     "output_type": "execute_result"
    }
   ],
   "source": [
    "float('3')"
   ]
  },
  {
   "cell_type": "code",
   "execution_count": 24,
   "metadata": {
    "execution": {
     "iopub.execute_input": "2024-03-28T17:27:31.026134Z",
     "iopub.status.busy": "2024-03-28T17:27:31.025937Z",
     "iopub.status.idle": "2024-03-28T17:27:31.030481Z",
     "shell.execute_reply": "2024-03-28T17:27:31.029874Z"
    }
   },
   "outputs": [
    {
     "data": {
      "text/plain": [
       "4"
      ]
     },
     "execution_count": 24,
     "metadata": {},
     "output_type": "execute_result"
    }
   ],
   "source": [
    "int('4')"
   ]
  },
  {
   "cell_type": "code",
   "execution_count": 25,
   "metadata": {
    "execution": {
     "iopub.execute_input": "2024-03-28T17:27:31.033210Z",
     "iopub.status.busy": "2024-03-28T17:27:31.033011Z",
     "iopub.status.idle": "2024-03-28T17:27:31.170170Z",
     "shell.execute_reply": "2024-03-28T17:27:31.169482Z"
    },
    "scrolled": false,
    "tags": [
     "raises-exception"
    ]
   },
   "outputs": [
    {
     "ename": "ValueError",
     "evalue": "invalid literal for int() with base 10: 'baby panda'",
     "output_type": "error",
     "traceback": [
      "\u001b[0;31m---------------------------------------------------------------------------\u001b[0m",
      "\u001b[0;31mValueError\u001b[0m                                Traceback (most recent call last)",
      "Cell \u001b[0;32mIn[25], line 1\u001b[0m\n\u001b[0;32m----> 1\u001b[0m \u001b[38;5;28;43mint\u001b[39;49m\u001b[43m(\u001b[49m\u001b[38;5;124;43m'\u001b[39;49m\u001b[38;5;124;43mbaby panda\u001b[39;49m\u001b[38;5;124;43m'\u001b[39;49m\u001b[43m)\u001b[49m\n",
      "\u001b[0;31mValueError\u001b[0m: invalid literal for int() with base 10: 'baby panda'"
     ]
    }
   ],
   "source": [
    "int('baby panda')"
   ]
  },
  {
   "cell_type": "markdown",
   "metadata": {
    "slideshow": {
     "slide_type": "slide"
    }
   },
   "source": [
    "### Verificação de conceito ✅\n",
    "\n",
    "Suponha que você executou as seguintes instruções:\n",
    "\n",
    "```py\n",
    "x = 3\n",
    "y = '4'\n",
    "z = '5.6'\n",
    "```\n",
    "\n",
    "Escolha a expressão que será avaliada **sem** erro.\n",
    "\n",
    "R. `x + y`\n",
    "\n",
    "B. `x + int(y + z)`\n",
    "\n",
    "C.`str(x) + int(y)`\n",
    "\n",
    "D. `str (x) + z`\n",
    "\n",
    "E. Todos eles têm erros"
   ]
  },
  {
   "cell_type": "markdown",
   "metadata": {
    "slideshow": {
     "slide_type": "slide"
    }
   },
   "source": [
    "## Listas"
   ]
  },
  {
   "cell_type": "markdown",
   "metadata": {
    "slideshow": {
     "slide_type": "slide"
    }
   },
   "source": [
    "### Motivação\n",
    "\n",
    "Como armazenaríamos as temperaturas de cada um dos primeiros 6 dias do mês de setembro?\n",
    "\n",
    "Nossa melhor solução agora é criar uma variável separada para cada dia."
   ]
  },
  {
   "cell_type": "code",
   "execution_count": 26,
   "metadata": {
    "execution": {
     "iopub.execute_input": "2024-03-28T17:27:31.172958Z",
     "iopub.status.busy": "2024-03-28T17:27:31.172766Z",
     "iopub.status.idle": "2024-03-28T17:27:31.176002Z",
     "shell.execute_reply": "2024-03-28T17:27:31.175365Z"
    },
    "slideshow": {
     "slide_type": "fragment"
    }
   },
   "outputs": [],
   "source": [
    "temperature_on_sept_01 = 84\n",
    "temperature_on_sept_02 = 78\n",
    "temperature_on_sept_03 = 81\n",
    "temperature_on_sept_04 = 75\n",
    "temperature_on_sept_05 = 79\n",
    "temperature_on_sept_06 = 75"
   ]
  },
  {
   "cell_type": "markdown",
   "metadata": {
    "slideshow": {
     "slide_type": "fragment"
    }
   },
   "source": [
    "Isso _tecnicamente_ nos permite fazer coisas como calcular a temperatura média durante os primeiros 6 dias:"
   ]
  },
  {
   "cell_type": "markdown",
   "metadata": {
    "slideshow": {
     "slide_type": "-"
    }
   },
   "source": [
    "```\n",
    "avg_temperature = 1/6 * (\n",
    "    temperature_on_sept_01\n",
    "    + temperature_on_sept_02\n",
    "    + temperature_on_sept_03\n",
    "    + ...)\n",
    "```"
   ]
  },
  {
   "cell_type": "markdown",
   "metadata": {},
   "source": [
    "Imagine os dados de um mês inteiro ou os dados de um ano inteiro. Parece que precisamos de uma solução melhor.\n"
   ]
  },
  {
   "cell_type": "markdown",
   "metadata": {
    "slideshow": {
     "slide_type": "slide"
    }
   },
   "source": [
    "### Listas em Python\n",
    "\n",
    "Em Python, uma lista é usada para armazenar vários valores em um único valor/variável. Para criar uma nova lista do zero, usamos `[`colchetes`]`.\n"
   ]
  },
  {
   "cell_type": "code",
   "execution_count": 27,
   "metadata": {
    "execution": {
     "iopub.execute_input": "2024-03-28T17:27:31.179174Z",
     "iopub.status.busy": "2024-03-28T17:27:31.178884Z",
     "iopub.status.idle": "2024-03-28T17:27:31.182324Z",
     "shell.execute_reply": "2024-03-28T17:27:31.181627Z"
    }
   },
   "outputs": [],
   "source": [
    "temperature_list = [84, 78, 81, 75, 79, 75]"
   ]
  },
  {
   "cell_type": "code",
   "execution_count": 28,
   "metadata": {
    "execution": {
     "iopub.execute_input": "2024-03-28T17:27:31.184649Z",
     "iopub.status.busy": "2024-03-28T17:27:31.184425Z",
     "iopub.status.idle": "2024-03-28T17:27:31.189031Z",
     "shell.execute_reply": "2024-03-28T17:27:31.188412Z"
    }
   },
   "outputs": [
    {
     "data": {
      "text/plain": [
       "6"
      ]
     },
     "execution_count": 28,
     "metadata": {},
     "output_type": "execute_result"
    }
   ],
   "source": [
    "len(temperature_list)"
   ]
  },
  {
   "cell_type": "markdown",
   "metadata": {
    "slideshow": {
     "slide_type": "fragment"
    }
   },
   "source": [
    "Observe que os elementos de uma lista não precisam ser únicos!"
   ]
  },
  {
   "cell_type": "markdown",
   "metadata": {
    "slideshow": {
     "slide_type": "slide"
    }
   },
   "source": [
    "### As listas facilitam o trabalho com sequências!\n",
    "\n",
    "Para encontrar a temperatura média, basta dividir a **soma das temperaturas** pelo **número de temperaturas registradas**:"
   ]
  },
  {
   "cell_type": "code",
   "execution_count": 29,
   "metadata": {
    "execution": {
     "iopub.execute_input": "2024-03-28T17:27:31.192115Z",
     "iopub.status.busy": "2024-03-28T17:27:31.191822Z",
     "iopub.status.idle": "2024-03-28T17:27:31.196364Z",
     "shell.execute_reply": "2024-03-28T17:27:31.195709Z"
    }
   },
   "outputs": [
    {
     "data": {
      "text/plain": [
       "[84, 78, 81, 75, 79, 75]"
      ]
     },
     "execution_count": 29,
     "metadata": {},
     "output_type": "execute_result"
    }
   ],
   "source": [
    "temperature_list"
   ]
  },
  {
   "cell_type": "code",
   "execution_count": 30,
   "metadata": {
    "execution": {
     "iopub.execute_input": "2024-03-28T17:27:31.199344Z",
     "iopub.status.busy": "2024-03-28T17:27:31.198904Z",
     "iopub.status.idle": "2024-03-28T17:27:31.203162Z",
     "shell.execute_reply": "2024-03-28T17:27:31.202491Z"
    }
   },
   "outputs": [
    {
     "data": {
      "text/plain": [
       "78.66666666666667"
      ]
     },
     "execution_count": 30,
     "metadata": {},
     "output_type": "execute_result"
    }
   ],
   "source": [
    "sum(temperature_list) / len(temperature_list)"
   ]
  },
  {
   "cell_type": "markdown",
   "metadata": {
    "slideshow": {
     "slide_type": "slide"
    }
   },
   "source": [
    "### Tipos\n",
    "\n",
    "O `tipo` de uma lista é... `lista`."
   ]
  },
  {
   "cell_type": "code",
   "execution_count": 31,
   "metadata": {
    "execution": {
     "iopub.execute_input": "2024-03-28T17:27:31.206332Z",
     "iopub.status.busy": "2024-03-28T17:27:31.206043Z",
     "iopub.status.idle": "2024-03-28T17:27:31.210664Z",
     "shell.execute_reply": "2024-03-28T17:27:31.210008Z"
    }
   },
   "outputs": [
    {
     "data": {
      "text/plain": [
       "[84, 78, 81, 75, 79, 75]"
      ]
     },
     "execution_count": 31,
     "metadata": {},
     "output_type": "execute_result"
    }
   ],
   "source": [
    "temperature_list"
   ]
  },
  {
   "cell_type": "code",
   "execution_count": 32,
   "metadata": {
    "execution": {
     "iopub.execute_input": "2024-03-28T17:27:31.213355Z",
     "iopub.status.busy": "2024-03-28T17:27:31.213128Z",
     "iopub.status.idle": "2024-03-28T17:27:31.217736Z",
     "shell.execute_reply": "2024-03-28T17:27:31.217086Z"
    }
   },
   "outputs": [
    {
     "data": {
      "text/plain": [
       "list"
      ]
     },
     "execution_count": 32,
     "metadata": {},
     "output_type": "execute_result"
    }
   ],
   "source": [
    "type(temperature_list)"
   ]
  },
  {
   "cell_type": "markdown",
   "metadata": {
    "slideshow": {
     "slide_type": "fragment"
    }
   },
   "source": [
    "Dentro de uma lista, você pode armazenar elementos de diferentes tipos."
   ]
  },
  {
   "cell_type": "code",
   "execution_count": 33,
   "metadata": {
    "execution": {
     "iopub.execute_input": "2024-03-28T17:27:31.220814Z",
     "iopub.status.busy": "2024-03-28T17:27:31.220548Z",
     "iopub.status.idle": "2024-03-28T17:27:31.224884Z",
     "shell.execute_reply": "2024-03-28T17:27:31.224259Z"
    }
   },
   "outputs": [
    {
     "data": {
      "text/plain": [
       "[-2, 2.5, 'ucsd', [1, 3]]"
      ]
     },
     "execution_count": 33,
     "metadata": {},
     "output_type": "execute_result"
    }
   ],
   "source": [
    "mixed_list = [-2, 2.5, 'ucsd', [1, 3]]\n",
    "mixed_list"
   ]
  },
  {
   "cell_type": "markdown",
   "metadata": {
    "slideshow": {
     "slide_type": "slide"
    }
   },
   "source": [
    "### Há um problema...\n",
    "\n",
    "- As listas são **muito lentas**.\n",
    "- Isso não é grande coisa quando não há muitas entradas, mas é um grande problema quando há milhões ou bilhões de entradas."
   ]
  },
  {
   "cell_type": "markdown",
   "metadata": {
    "slideshow": {
     "slide_type": "slide"
    }
   },
   "source": [
    "## Matrizes"
   ]
  },
  {
   "cell_type": "markdown",
   "metadata": {
    "slideshow": {
     "slide_type": "slide"
    }
   },
   "source": [
    "### NumPy\n",
    "\n",
    "<center>\n",
    "<img src='https://raw.githubusercontent.com/flaviovdf/fcd/master/assets/04-Arrays/numpy.png' width=400>\n",
    "</center>\n",
    "\n",
    "- NumPy (pronuncia-se \"num pie\") é uma biblioteca (módulo) Python que fornece suporte para **arrays** e operações neles.\n",
    "\n",
    "- A biblioteca `babypandas`, sobre a qual você aprenderá no próximo tópico, anda de mãos dadas com o NumPy.\n",
    "- NumPy é muito usado no mundo real.\n",
    "\n",
    "- Para usar `numpy`, precisamos importá-lo. Geralmente é importado como `np` (mas não precisa ser!)"
   ]
  },
  {
   "cell_type": "code",
   "execution_count": 34,
   "metadata": {
    "execution": {
     "iopub.execute_input": "2024-03-28T17:27:31.228012Z",
     "iopub.status.busy": "2024-03-28T17:27:31.227743Z",
     "iopub.status.idle": "2024-03-28T17:27:31.347494Z",
     "shell.execute_reply": "2024-03-28T17:27:31.346800Z"
    }
   },
   "outputs": [],
   "source": [
    "import numpy as np"
   ]
  },
  {
   "cell_type": "markdown",
   "metadata": {
    "slideshow": {
     "slide_type": "slide"
    }
   },
   "source": [
    "### Matrizes\n",
    "\n",
    "Pense nos arrays NumPy (apenas \"arrays\" de agora em diante) como listas sofisticadas e mais rápidas.\n",
    "\n",
    "<center><img src=\"https://raw.githubusercontent.com/flaviovdf/fcd/master/assets/04-Arrays/squid.png\" width=30%></center>\n",
    "\n",
    "Para criar um array, passamos uma lista como entrada para a função `np.array`."
   ]
  },
  {
   "cell_type": "code",
   "execution_count": 35,
   "metadata": {
    "execution": {
     "iopub.execute_input": "2024-03-28T17:27:31.349981Z",
     "iopub.status.busy": "2024-03-28T17:27:31.349707Z",
     "iopub.status.idle": "2024-03-28T17:27:31.354269Z",
     "shell.execute_reply": "2024-03-28T17:27:31.353464Z"
    }
   },
   "outputs": [
    {
     "data": {
      "text/plain": [
       "array([4, 9, 1, 2])"
      ]
     },
     "execution_count": 35,
     "metadata": {},
     "output_type": "execute_result"
    }
   ],
   "source": [
    "np.array([4, 9, 1, 2])"
   ]
  },
  {
   "cell_type": "markdown",
   "metadata": {
    "slideshow": {
     "slide_type": "fragment"
    }
   },
   "source": [
    "<center>\n",
    "<img src='https://raw.githubusercontent.com/flaviovdf/fcd/master/assets/04-Arrays/brackets.png' width=50%>\n",
    "</center>"
   ]
  },
  {
   "cell_type": "code",
   "execution_count": 36,
   "metadata": {
    "execution": {
     "iopub.execute_input": "2024-03-28T17:27:31.356724Z",
     "iopub.status.busy": "2024-03-28T17:27:31.356492Z",
     "iopub.status.idle": "2024-03-28T17:27:31.360840Z",
     "shell.execute_reply": "2024-03-28T17:27:31.360164Z"
    }
   },
   "outputs": [
    {
     "data": {
      "text/plain": [
       "array([84, 78, 81, 75, 79, 75])"
      ]
     },
     "execution_count": 36,
     "metadata": {},
     "output_type": "execute_result"
    }
   ],
   "source": [
    "temperature_array = np.array([84, 78, 81, 75, 79, 75])\n",
    "temperature_array"
   ]
  },
  {
   "cell_type": "code",
   "execution_count": 37,
   "metadata": {
    "execution": {
     "iopub.execute_input": "2024-03-28T17:27:31.363497Z",
     "iopub.status.busy": "2024-03-28T17:27:31.363305Z",
     "iopub.status.idle": "2024-03-28T17:27:31.367411Z",
     "shell.execute_reply": "2024-03-28T17:27:31.366822Z"
    }
   },
   "outputs": [
    {
     "data": {
      "text/plain": [
       "[84, 78, 81, 75, 79, 75]"
      ]
     },
     "execution_count": 37,
     "metadata": {},
     "output_type": "execute_result"
    }
   ],
   "source": [
    "temperature_list"
   ]
  },
  {
   "cell_type": "code",
   "execution_count": 38,
   "metadata": {
    "execution": {
     "iopub.execute_input": "2024-03-28T17:27:31.369969Z",
     "iopub.status.busy": "2024-03-28T17:27:31.369776Z",
     "iopub.status.idle": "2024-03-28T17:27:31.374665Z",
     "shell.execute_reply": "2024-03-28T17:27:31.373994Z"
    }
   },
   "outputs": [
    {
     "data": {
      "text/plain": [
       "array([84, 78, 81, 75, 79, 75])"
      ]
     },
     "execution_count": 38,
     "metadata": {},
     "output_type": "execute_result"
    }
   ],
   "source": [
    "# No square brackets, because temperature_list is already a list!\n",
    "np.array(temperature_list)"
   ]
  },
  {
   "cell_type": "markdown",
   "metadata": {
    "slideshow": {
     "slide_type": "slide"
    }
   },
   "source": [
    "### Posições\n",
    "\n",
    "Quando as pessoas ficam em fila, cada pessoa tem uma posição.\n",
    "\n",
    "<center><img src=\"https://raw.githubusercontent.com/flaviovdf/fcd/master/assets/04-Arrays/position.png\" width=50%></center>\n",
    "\n",
    "Da mesma forma, cada elemento de um array (e lista) possui uma posição."
   ]
  },
  {
   "cell_type": "markdown",
   "metadata": {
    "slideshow": {
     "slide_type": "slide"
    }
   },
   "source": [
    "### Acessando elementos por posição\n",
    "\n",
    "- Python, como a maioria das linguagens de programação, é \"indexado em 0\".\n",
    "- Isso significa que a posição do primeiro elemento em uma matriz é 0, não 1.\n",
    "- Um motivo: a posição de um elemento representa o número de elementos à sua frente.\n",
    "- Para acessar o elemento do array `arr_name` na posição `pos`, usamos a sintaxe `arr_name[pos]`."
   ]
  },
  {
   "cell_type": "code",
   "execution_count": 39,
   "metadata": {
    "execution": {
     "iopub.execute_input": "2024-03-28T17:27:31.377651Z",
     "iopub.status.busy": "2024-03-28T17:27:31.377457Z",
     "iopub.status.idle": "2024-03-28T17:27:31.381676Z",
     "shell.execute_reply": "2024-03-28T17:27:31.381023Z"
    },
    "slideshow": {
     "slide_type": "-"
    }
   },
   "outputs": [
    {
     "data": {
      "text/plain": [
       "array([84, 78, 81, 75, 79, 75])"
      ]
     },
     "execution_count": 39,
     "metadata": {},
     "output_type": "execute_result"
    }
   ],
   "source": [
    "temperature_array"
   ]
  },
  {
   "cell_type": "code",
   "execution_count": 40,
   "metadata": {
    "execution": {
     "iopub.execute_input": "2024-03-28T17:27:31.384402Z",
     "iopub.status.busy": "2024-03-28T17:27:31.384205Z",
     "iopub.status.idle": "2024-03-28T17:27:31.389241Z",
     "shell.execute_reply": "2024-03-28T17:27:31.388471Z"
    }
   },
   "outputs": [
    {
     "data": {
      "text/plain": [
       "84"
      ]
     },
     "execution_count": 40,
     "metadata": {},
     "output_type": "execute_result"
    }
   ],
   "source": [
    "temperature_array[0]"
   ]
  },
  {
   "cell_type": "code",
   "execution_count": 41,
   "metadata": {
    "execution": {
     "iopub.execute_input": "2024-03-28T17:27:31.392170Z",
     "iopub.status.busy": "2024-03-28T17:27:31.391917Z",
     "iopub.status.idle": "2024-03-28T17:27:31.396805Z",
     "shell.execute_reply": "2024-03-28T17:27:31.396126Z"
    }
   },
   "outputs": [
    {
     "data": {
      "text/plain": [
       "78"
      ]
     },
     "execution_count": 41,
     "metadata": {},
     "output_type": "execute_result"
    }
   ],
   "source": [
    "temperature_array[1]"
   ]
  },
  {
   "cell_type": "code",
   "execution_count": 42,
   "metadata": {
    "execution": {
     "iopub.execute_input": "2024-03-28T17:27:31.399625Z",
     "iopub.status.busy": "2024-03-28T17:27:31.399336Z",
     "iopub.status.idle": "2024-03-28T17:27:31.403982Z",
     "shell.execute_reply": "2024-03-28T17:27:31.403106Z"
    }
   },
   "outputs": [
    {
     "data": {
      "text/plain": [
       "75"
      ]
     },
     "execution_count": 42,
     "metadata": {},
     "output_type": "execute_result"
    }
   ],
   "source": [
    "temperature_array[3]"
   ]
  },
  {
   "cell_type": "code",
   "execution_count": 43,
   "metadata": {
    "execution": {
     "iopub.execute_input": "2024-03-28T17:27:31.406450Z",
     "iopub.status.busy": "2024-03-28T17:27:31.406174Z",
     "iopub.status.idle": "2024-03-28T17:27:31.410576Z",
     "shell.execute_reply": "2024-03-28T17:27:31.409918Z"
    }
   },
   "outputs": [
    {
     "data": {
      "text/plain": [
       "75"
      ]
     },
     "execution_count": 43,
     "metadata": {},
     "output_type": "execute_result"
    }
   ],
   "source": [
    "# Access last element\n",
    "temperature_array[5]"
   ]
  },
  {
   "cell_type": "code",
   "execution_count": 44,
   "metadata": {
    "execution": {
     "iopub.execute_input": "2024-03-28T17:27:31.413291Z",
     "iopub.status.busy": "2024-03-28T17:27:31.413056Z",
     "iopub.status.idle": "2024-03-28T17:27:31.433373Z",
     "shell.execute_reply": "2024-03-28T17:27:31.432668Z"
    },
    "tags": [
     "raises-exception"
    ]
   },
   "outputs": [
    {
     "ename": "IndexError",
     "evalue": "index 6 is out of bounds for axis 0 with size 6",
     "output_type": "error",
     "traceback": [
      "\u001b[0;31m---------------------------------------------------------------------------\u001b[0m",
      "\u001b[0;31mIndexError\u001b[0m                                Traceback (most recent call last)",
      "Cell \u001b[0;32mIn[44], line 1\u001b[0m\n\u001b[0;32m----> 1\u001b[0m \u001b[43mtemperature_array\u001b[49m\u001b[43m[\u001b[49m\u001b[38;5;241;43m6\u001b[39;49m\u001b[43m]\u001b[49m\n",
      "\u001b[0;31mIndexError\u001b[0m: index 6 is out of bounds for axis 0 with size 6"
     ]
    }
   ],
   "source": [
    "temperature_array[6]"
   ]
  },
  {
   "cell_type": "code",
   "execution_count": 45,
   "metadata": {
    "execution": {
     "iopub.execute_input": "2024-03-28T17:27:31.435880Z",
     "iopub.status.busy": "2024-03-28T17:27:31.435638Z",
     "iopub.status.idle": "2024-03-28T17:27:31.440094Z",
     "shell.execute_reply": "2024-03-28T17:27:31.439403Z"
    }
   },
   "outputs": [
    {
     "data": {
      "text/plain": [
       "75"
      ]
     },
     "execution_count": 45,
     "metadata": {},
     "output_type": "execute_result"
    }
   ],
   "source": [
    "# If a position is negative, count from the end!\n",
    "temperature_array[-1]"
   ]
  },
  {
   "cell_type": "markdown",
   "metadata": {
    "slideshow": {
     "slide_type": "slide"
    }
   },
   "source": [
    "### Tipos\n",
    "\n",
    "Anteriormente nesta palestra, vimos que as listas podem armazenar elementos de vários tipos."
   ]
  },
  {
   "cell_type": "code",
   "execution_count": 46,
   "metadata": {
    "execution": {
     "iopub.execute_input": "2024-03-28T17:27:31.443088Z",
     "iopub.status.busy": "2024-03-28T17:27:31.442824Z",
     "iopub.status.idle": "2024-03-28T17:27:31.447876Z",
     "shell.execute_reply": "2024-03-28T17:27:31.447175Z"
    }
   },
   "outputs": [
    {
     "data": {
      "text/plain": [
       "['uc', 'sd', 1961, 3.14]"
      ]
     },
     "execution_count": 46,
     "metadata": {},
     "output_type": "execute_result"
    }
   ],
   "source": [
    "nums_and_strings_lst = ['uc', 'sd', 1961, 3.14]\n",
    "nums_and_strings_lst"
   ]
  },
  {
   "cell_type": "markdown",
   "metadata": {
    "slideshow": {
     "slide_type": "fragment"
    }
   },
   "source": [
    "**Isso não é verdade para arrays – todos os elementos de um array devem ser do mesmo tipo.**"
   ]
  },
  {
   "cell_type": "code",
   "execution_count": 47,
   "metadata": {
    "execution": {
     "iopub.execute_input": "2024-03-28T17:27:31.450488Z",
     "iopub.status.busy": "2024-03-28T17:27:31.450232Z",
     "iopub.status.idle": "2024-03-28T17:27:31.454723Z",
     "shell.execute_reply": "2024-03-28T17:27:31.453932Z"
    }
   },
   "outputs": [
    {
     "data": {
      "text/plain": [
       "array(['uc', 'sd', '1961', '3.14'], dtype='<U32')"
      ]
     },
     "execution_count": 47,
     "metadata": {},
     "output_type": "execute_result"
    }
   ],
   "source": [
    "# All elements are converted to strings!\n",
    "np.array(nums_and_strings_lst)"
   ]
  },
  {
   "cell_type": "markdown",
   "metadata": {
    "slideshow": {
     "slide_type": "slide"
    }
   },
   "source": [
    "### Aritmética de números de array\n",
    "\n",
    "As matrizes facilitam a execução da mesma operação em todos os elementos. Este comportamento é formalmente conhecido como \"transmissão\"."
   ]
  },
  {
   "cell_type": "code",
   "execution_count": 48,
   "metadata": {
    "execution": {
     "iopub.execute_input": "2024-03-28T17:27:31.457605Z",
     "iopub.status.busy": "2024-03-28T17:27:31.457361Z",
     "iopub.status.idle": "2024-03-28T17:27:31.461596Z",
     "shell.execute_reply": "2024-03-28T17:27:31.460882Z"
    }
   },
   "outputs": [
    {
     "data": {
      "text/plain": [
       "array([84, 78, 81, 75, 79, 75])"
      ]
     },
     "execution_count": 48,
     "metadata": {},
     "output_type": "execute_result"
    }
   ],
   "source": [
    "temperature_array"
   ]
  },
  {
   "cell_type": "code",
   "execution_count": 49,
   "metadata": {
    "execution": {
     "iopub.execute_input": "2024-03-28T17:27:31.464420Z",
     "iopub.status.busy": "2024-03-28T17:27:31.464175Z",
     "iopub.status.idle": "2024-03-28T17:27:31.468367Z",
     "shell.execute_reply": "2024-03-28T17:27:31.467677Z"
    }
   },
   "outputs": [
    {
     "data": {
      "text/plain": [
       "array([87, 81, 84, 78, 82, 78])"
      ]
     },
     "execution_count": 49,
     "metadata": {},
     "output_type": "execute_result"
    }
   ],
   "source": [
    "# Increase all temperatures by 3 degrees\n",
    "temperature_array + 3"
   ]
  },
  {
   "cell_type": "code",
   "execution_count": 50,
   "metadata": {
    "execution": {
     "iopub.execute_input": "2024-03-28T17:27:31.471303Z",
     "iopub.status.busy": "2024-03-28T17:27:31.471020Z",
     "iopub.status.idle": "2024-03-28T17:27:31.475276Z",
     "shell.execute_reply": "2024-03-28T17:27:31.474692Z"
    }
   },
   "outputs": [
    {
     "data": {
      "text/plain": [
       "array([42. , 39. , 40.5, 37.5, 39.5, 37.5])"
      ]
     },
     "execution_count": 50,
     "metadata": {},
     "output_type": "execute_result"
    }
   ],
   "source": [
    "# Halve all temperatures\n",
    "temperature_array / 2"
   ]
  },
  {
   "cell_type": "code",
   "execution_count": 51,
   "metadata": {
    "execution": {
     "iopub.execute_input": "2024-03-28T17:27:31.478125Z",
     "iopub.status.busy": "2024-03-28T17:27:31.477834Z",
     "iopub.status.idle": "2024-03-28T17:27:31.482207Z",
     "shell.execute_reply": "2024-03-28T17:27:31.481544Z"
    }
   },
   "outputs": [
    {
     "data": {
      "text/plain": [
       "array([28.88888889, 25.55555556, 27.22222222, 23.88888889, 26.11111111,\n",
       "       23.88888889])"
      ]
     },
     "execution_count": 51,
     "metadata": {},
     "output_type": "execute_result"
    }
   ],
   "source": [
    "# Convert all temperatures to Celsius\n",
    "(5 / 9) * (temperature_array - 32)"
   ]
  },
  {
   "cell_type": "markdown",
   "metadata": {
    "slideshow": {
     "slide_type": "fragment"
    }
   },
   "source": [
    "**Nota:** Em nenhuma das células acima modificamos `temperature_array`! Cada uma dessas expressões criou um novo array."
   ]
  },
  {
   "cell_type": "code",
   "execution_count": 52,
   "metadata": {
    "execution": {
     "iopub.execute_input": "2024-03-28T17:27:31.485222Z",
     "iopub.status.busy": "2024-03-28T17:27:31.484910Z",
     "iopub.status.idle": "2024-03-28T17:27:31.489297Z",
     "shell.execute_reply": "2024-03-28T17:27:31.488564Z"
    }
   },
   "outputs": [
    {
     "data": {
      "text/plain": [
       "array([84, 78, 81, 75, 79, 75])"
      ]
     },
     "execution_count": 52,
     "metadata": {},
     "output_type": "execute_result"
    }
   ],
   "source": [
    "temperature_array"
   ]
  },
  {
   "cell_type": "markdown",
   "metadata": {},
   "source": [
    "Para realmente alterar `temperature_array`, precisamos reatribuí-lo a um novo array."
   ]
  },
  {
   "cell_type": "code",
   "execution_count": 53,
   "metadata": {
    "execution": {
     "iopub.execute_input": "2024-03-28T17:27:31.492311Z",
     "iopub.status.busy": "2024-03-28T17:27:31.492060Z",
     "iopub.status.idle": "2024-03-28T17:27:31.495579Z",
     "shell.execute_reply": "2024-03-28T17:27:31.494916Z"
    }
   },
   "outputs": [],
   "source": [
    "temperature_array = (5 / 9) * (temperature_array - 32)"
   ]
  },
  {
   "cell_type": "code",
   "execution_count": 54,
   "metadata": {
    "execution": {
     "iopub.execute_input": "2024-03-28T17:27:31.498341Z",
     "iopub.status.busy": "2024-03-28T17:27:31.498095Z",
     "iopub.status.idle": "2024-03-28T17:27:31.502322Z",
     "shell.execute_reply": "2024-03-28T17:27:31.501647Z"
    }
   },
   "outputs": [
    {
     "data": {
      "text/plain": [
       "array([28.88888889, 25.55555556, 27.22222222, 23.88888889, 26.11111111,\n",
       "       23.88888889])"
      ]
     },
     "execution_count": 54,
     "metadata": {},
     "output_type": "execute_result"
    }
   ],
   "source": [
    "# Now in Celsius!\n",
    "temperature_array"
   ]
  },
  {
   "cell_type": "markdown",
   "metadata": {
    "slideshow": {
     "slide_type": "slide"
    }
   },
   "source": [
    "### Aritmética elemento a elemento\n",
    "\n",
    "- Podemos aplicar operações aritméticas a múltiplos arrays, desde que tenham o mesmo comprimento.\n",
    "- O resultado é calculado **por elemento**, o que significa que a operação aritmética é aplicada a um par de elementos de cada array por vez.\n",
    "- Por exemplo, `a + b` é um array cujo primeiro elemento é a soma do primeiro elemento de `a` e do primeiro elemento de `b`."
   ]
  },
  {
   "cell_type": "code",
   "execution_count": 55,
   "metadata": {
    "execution": {
     "iopub.execute_input": "2024-03-28T17:27:31.504863Z",
     "iopub.status.busy": "2024-03-28T17:27:31.504616Z",
     "iopub.status.idle": "2024-03-28T17:27:31.507756Z",
     "shell.execute_reply": "2024-03-28T17:27:31.507150Z"
    }
   },
   "outputs": [],
   "source": [
    "a = np.array([1, 2, 3])\n",
    "b = np.array([-4, 5, 9])"
   ]
  },
  {
   "cell_type": "code",
   "execution_count": 56,
   "metadata": {
    "execution": {
     "iopub.execute_input": "2024-03-28T17:27:31.510025Z",
     "iopub.status.busy": "2024-03-28T17:27:31.509782Z",
     "iopub.status.idle": "2024-03-28T17:27:31.514028Z",
     "shell.execute_reply": "2024-03-28T17:27:31.513334Z"
    }
   },
   "outputs": [
    {
     "data": {
      "text/plain": [
       "array([-3,  7, 12])"
      ]
     },
     "execution_count": 56,
     "metadata": {},
     "output_type": "execute_result"
    }
   ],
   "source": [
    "a + b"
   ]
  },
  {
   "cell_type": "code",
   "execution_count": 57,
   "metadata": {
    "execution": {
     "iopub.execute_input": "2024-03-28T17:27:31.516450Z",
     "iopub.status.busy": "2024-03-28T17:27:31.516182Z",
     "iopub.status.idle": "2024-03-28T17:27:31.520717Z",
     "shell.execute_reply": "2024-03-28T17:27:31.519785Z"
    }
   },
   "outputs": [
    {
     "data": {
      "text/plain": [
       "array([-0.25      ,  0.4       ,  0.33333333])"
      ]
     },
     "execution_count": 57,
     "metadata": {},
     "output_type": "execute_result"
    }
   ],
   "source": [
    "a / b"
   ]
  },
  {
   "cell_type": "code",
   "execution_count": 58,
   "metadata": {
    "execution": {
     "iopub.execute_input": "2024-03-28T17:27:31.523706Z",
     "iopub.status.busy": "2024-03-28T17:27:31.523415Z",
     "iopub.status.idle": "2024-03-28T17:27:31.527772Z",
     "shell.execute_reply": "2024-03-28T17:27:31.527080Z"
    }
   },
   "outputs": [
    {
     "data": {
      "text/plain": [
       "array([17, 29, 90])"
      ]
     },
     "execution_count": 58,
     "metadata": {},
     "output_type": "execute_result"
    }
   ],
   "source": [
    "a ** 2 + b ** 2"
   ]
  },
  {
   "cell_type": "markdown",
   "metadata": {
    "slideshow": {
     "slide_type": "slide"
    }
   },
   "source": [
    "### Exemplo: visualizações do TikTok 🎬\n",
    "\n",
    "Baby Panda fez uma série de cinco vídeos no TikTok chamada \"Um dia na vida de um mascote da ciência de dados\". O número de visualizações que eles receberam nesses vídeos é armazenado na matriz `views` abaixo."
   ]
  },
  {
   "cell_type": "code",
   "execution_count": 59,
   "metadata": {
    "execution": {
     "iopub.execute_input": "2024-03-28T17:27:31.530774Z",
     "iopub.status.busy": "2024-03-28T17:27:31.530479Z",
     "iopub.status.idle": "2024-03-28T17:27:31.534012Z",
     "shell.execute_reply": "2024-03-28T17:27:31.533349Z"
    }
   },
   "outputs": [],
   "source": [
    "views = np.array([158, 352, 195, 1423916, 46])"
   ]
  },
  {
   "cell_type": "markdown",
   "metadata": {},
   "source": [
    "Algumas perguntas:"
   ]
  },
  {
   "cell_type": "markdown",
   "metadata": {
    "slideshow": {
     "slide_type": "fragment"
    }
   },
   "source": [
    "Qual foi a contagem média de visualizações?"
   ]
  },
  {
   "cell_type": "code",
   "execution_count": 60,
   "metadata": {
    "execution": {
     "iopub.execute_input": "2024-03-28T17:27:31.536794Z",
     "iopub.status.busy": "2024-03-28T17:27:31.536530Z",
     "iopub.status.idle": "2024-03-28T17:27:31.540888Z",
     "shell.execute_reply": "2024-03-28T17:27:31.540210Z"
    }
   },
   "outputs": [
    {
     "data": {
      "text/plain": [
       "array([    158,     352,     195, 1423916,      46])"
      ]
     },
     "execution_count": 60,
     "metadata": {},
     "output_type": "execute_result"
    }
   ],
   "source": [
    "views"
   ]
  },
  {
   "cell_type": "code",
   "execution_count": 61,
   "metadata": {
    "execution": {
     "iopub.execute_input": "2024-03-28T17:27:31.543612Z",
     "iopub.status.busy": "2024-03-28T17:27:31.543378Z",
     "iopub.status.idle": "2024-03-28T17:27:31.547569Z",
     "shell.execute_reply": "2024-03-28T17:27:31.546956Z"
    }
   },
   "outputs": [
    {
     "data": {
      "text/plain": [
       "284933.4"
      ]
     },
     "execution_count": 61,
     "metadata": {},
     "output_type": "execute_result"
    }
   ],
   "source": [
    "sum(views) / len(views)"
   ]
  },
  {
   "cell_type": "code",
   "execution_count": 62,
   "metadata": {
    "execution": {
     "iopub.execute_input": "2024-03-28T17:27:31.550389Z",
     "iopub.status.busy": "2024-03-28T17:27:31.550100Z",
     "iopub.status.idle": "2024-03-28T17:27:31.554808Z",
     "shell.execute_reply": "2024-03-28T17:27:31.554096Z"
    }
   },
   "outputs": [
    {
     "data": {
      "text/plain": [
       "284933.4"
      ]
     },
     "execution_count": 62,
     "metadata": {},
     "output_type": "execute_result"
    }
   ],
   "source": [
    "# The mean method exists for arrays (but not for lists)\n",
    "views.mean()"
   ]
  },
  {
   "cell_type": "markdown",
   "metadata": {
    "slideshow": {
     "slide_type": "fragment"
    }
   },
   "source": [
    "Quantas visualizações seus vídeos mais e menos populares receberam?"
   ]
  },
  {
   "cell_type": "code",
   "execution_count": 63,
   "metadata": {
    "execution": {
     "iopub.execute_input": "2024-03-28T17:27:31.557706Z",
     "iopub.status.busy": "2024-03-28T17:27:31.557473Z",
     "iopub.status.idle": "2024-03-28T17:27:31.561710Z",
     "shell.execute_reply": "2024-03-28T17:27:31.561051Z"
    }
   },
   "outputs": [
    {
     "data": {
      "text/plain": [
       "array([    158,     352,     195, 1423916,      46])"
      ]
     },
     "execution_count": 63,
     "metadata": {},
     "output_type": "execute_result"
    }
   ],
   "source": [
    "views"
   ]
  },
  {
   "cell_type": "code",
   "execution_count": 64,
   "metadata": {
    "execution": {
     "iopub.execute_input": "2024-03-28T17:27:31.563998Z",
     "iopub.status.busy": "2024-03-28T17:27:31.563745Z",
     "iopub.status.idle": "2024-03-28T17:27:31.567924Z",
     "shell.execute_reply": "2024-03-28T17:27:31.567288Z"
    }
   },
   "outputs": [
    {
     "data": {
      "text/plain": [
       "1423916"
      ]
     },
     "execution_count": 64,
     "metadata": {},
     "output_type": "execute_result"
    }
   ],
   "source": [
    "views.max()"
   ]
  },
  {
   "cell_type": "code",
   "execution_count": 65,
   "metadata": {
    "execution": {
     "iopub.execute_input": "2024-03-28T17:27:31.570624Z",
     "iopub.status.busy": "2024-03-28T17:27:31.570332Z",
     "iopub.status.idle": "2024-03-28T17:27:31.574803Z",
     "shell.execute_reply": "2024-03-28T17:27:31.574151Z"
    }
   },
   "outputs": [
    {
     "data": {
      "text/plain": [
       "46"
      ]
     },
     "execution_count": 65,
     "metadata": {},
     "output_type": "execute_result"
    }
   ],
   "source": [
    "views.min()"
   ]
  },
  {
   "cell_type": "markdown",
   "metadata": {
    "slideshow": {
     "slide_type": "fragment"
    }
   },
   "source": [
    "Quantas visualizações **acima da média** cada um dos vídeos recebeu? Quantas visualizações acima da média o vídeo mais visto recebeu?"
   ]
  },
  {
   "cell_type": "code",
   "execution_count": 66,
   "metadata": {
    "execution": {
     "iopub.execute_input": "2024-03-28T17:27:31.577609Z",
     "iopub.status.busy": "2024-03-28T17:27:31.577348Z",
     "iopub.status.idle": "2024-03-28T17:27:31.581959Z",
     "shell.execute_reply": "2024-03-28T17:27:31.581298Z"
    }
   },
   "outputs": [
    {
     "data": {
      "text/plain": [
       "array([    158,     352,     195, 1423916,      46])"
      ]
     },
     "execution_count": 66,
     "metadata": {},
     "output_type": "execute_result"
    }
   ],
   "source": [
    "views"
   ]
  },
  {
   "cell_type": "code",
   "execution_count": 67,
   "metadata": {
    "execution": {
     "iopub.execute_input": "2024-03-28T17:27:31.584761Z",
     "iopub.status.busy": "2024-03-28T17:27:31.584523Z",
     "iopub.status.idle": "2024-03-28T17:27:31.589047Z",
     "shell.execute_reply": "2024-03-28T17:27:31.588328Z"
    }
   },
   "outputs": [
    {
     "data": {
      "text/plain": [
       "array([-284775.4, -284581.4, -284738.4, 1138982.6, -284887.4])"
      ]
     },
     "execution_count": 67,
     "metadata": {},
     "output_type": "execute_result"
    }
   ],
   "source": [
    "views - views.mean()"
   ]
  },
  {
   "cell_type": "code",
   "execution_count": 68,
   "metadata": {
    "execution": {
     "iopub.execute_input": "2024-03-28T17:27:31.592141Z",
     "iopub.status.busy": "2024-03-28T17:27:31.591585Z",
     "iopub.status.idle": "2024-03-28T17:27:31.596723Z",
     "shell.execute_reply": "2024-03-28T17:27:31.596046Z"
    }
   },
   "outputs": [
    {
     "data": {
      "text/plain": [
       "1138982.6"
      ]
     },
     "execution_count": 68,
     "metadata": {},
     "output_type": "execute_result"
    }
   ],
   "source": [
    "(views - views.mean()).max()"
   ]
  },
  {
   "cell_type": "markdown",
   "metadata": {
    "slideshow": {
     "slide_type": "fragment"
    }
   },
   "source": [
    "Foi [estimated](https://www.ngpf.org/blog/question-of-the-day/question-of-the-day-how-much-can-a-creator-on-tiktok-make-if-their-video-receives-1-million-views/) que o TikTok paga aos seus criadores \\\\$0,03 por 1000 visualizações. Se isso for verdade, quantos dólares o Bebê Panda ganhou com seu vídeo mais visto? 💸"
   ]
  },
  {
   "cell_type": "code",
   "execution_count": 69,
   "metadata": {
    "execution": {
     "iopub.execute_input": "2024-03-28T17:27:31.599483Z",
     "iopub.status.busy": "2024-03-28T17:27:31.598969Z",
     "iopub.status.idle": "2024-03-28T17:27:31.603377Z",
     "shell.execute_reply": "2024-03-28T17:27:31.602720Z"
    }
   },
   "outputs": [
    {
     "data": {
      "text/plain": [
       "array([    158,     352,     195, 1423916,      46])"
      ]
     },
     "execution_count": 69,
     "metadata": {},
     "output_type": "execute_result"
    }
   ],
   "source": [
    "views"
   ]
  },
  {
   "cell_type": "code",
   "execution_count": 70,
   "metadata": {
    "execution": {
     "iopub.execute_input": "2024-03-28T17:27:31.606606Z",
     "iopub.status.busy": "2024-03-28T17:27:31.606165Z",
     "iopub.status.idle": "2024-03-28T17:27:31.610801Z",
     "shell.execute_reply": "2024-03-28T17:27:31.610145Z"
    }
   },
   "outputs": [
    {
     "data": {
      "text/plain": [
       "42.717479999999995"
      ]
     },
     "execution_count": 70,
     "metadata": {},
     "output_type": "execute_result"
    }
   ],
   "source": [
    "views.max() * 0.03 / 1000"
   ]
  },
  {
   "cell_type": "markdown",
   "metadata": {
    "slideshow": {
     "slide_type": "slide"
    }
   },
   "source": [
    "## Gamas"
   ]
  },
  {
   "cell_type": "markdown",
   "metadata": {
    "slideshow": {
     "slide_type": "slide"
    }
   },
   "source": [
    "### Motivação\n",
    "\n",
    "Muitas vezes precisamos criar arrays como este:"
   ]
  },
  {
   "cell_type": "code",
   "execution_count": 71,
   "metadata": {
    "execution": {
     "iopub.execute_input": "2024-03-28T17:27:31.613246Z",
     "iopub.status.busy": "2024-03-28T17:27:31.613006Z",
     "iopub.status.idle": "2024-03-28T17:27:31.616471Z",
     "shell.execute_reply": "2024-03-28T17:27:31.615780Z"
    }
   },
   "outputs": [],
   "source": [
    "days_in_september = np.array([\n",
    "    1, 2, 3, 4, 5, 6, 7, 8, 9, 10, 11, 12, \n",
    "    13, 14, 15, 16, 17, 18, 19, 20, 21, 22, \n",
    "    23, 24, 25, 26, 27, 28, 29, 30\n",
    "])"
   ]
  },
  {
   "cell_type": "markdown",
   "metadata": {
    "slideshow": {
     "slide_type": "fragment"
    }
   },
   "source": [
    "Precisa haver uma maneira mais fácil de fazer isso!"
   ]
  },
  {
   "cell_type": "markdown",
   "metadata": {
    "slideshow": {
     "slide_type": "slide"
    }
   },
   "source": [
    "### Intervalos\n",
    "* Um **intervalo** é uma matriz de números espaçados uniformemente. Criamos intervalos usando `np.arange`.\n",
    "* A maneira mais geral de criar um intervalo é `np.arange(start, end, step)`. Isso retorna uma matriz tal que:\n",
    "- O primeiro número é `start`. **Por padrão, `iniciar` é 0.**\n",
    "- Todos os números subsequentes são espaçados por `step`, até (mas excluindo) `end`. **Por padrão, `step` é 1.**"
   ]
  },
  {
   "cell_type": "code",
   "execution_count": 72,
   "metadata": {
    "execution": {
     "iopub.execute_input": "2024-03-28T17:27:31.619065Z",
     "iopub.status.busy": "2024-03-28T17:27:31.618576Z",
     "iopub.status.idle": "2024-03-28T17:27:31.623541Z",
     "shell.execute_reply": "2024-03-28T17:27:31.622729Z"
    }
   },
   "outputs": [
    {
     "data": {
      "text/plain": [
       "array([0, 1, 2, 3, 4, 5, 6, 7])"
      ]
     },
     "execution_count": 72,
     "metadata": {},
     "output_type": "execute_result"
    }
   ],
   "source": [
    "# Start at 0, end before 8, step by 1\n",
    "# This will be our most common use-case!\n",
    "np.arange(8)"
   ]
  },
  {
   "cell_type": "code",
   "execution_count": 73,
   "metadata": {
    "execution": {
     "iopub.execute_input": "2024-03-28T17:27:31.626353Z",
     "iopub.status.busy": "2024-03-28T17:27:31.626120Z",
     "iopub.status.idle": "2024-03-28T17:27:31.630426Z",
     "shell.execute_reply": "2024-03-28T17:27:31.629740Z"
    }
   },
   "outputs": [
    {
     "data": {
      "text/plain": [
       "array([5, 6, 7, 8, 9])"
      ]
     },
     "execution_count": 73,
     "metadata": {},
     "output_type": "execute_result"
    }
   ],
   "source": [
    "# Start at 5, end before 10, step by 1\n",
    "np.arange(5, 10)"
   ]
  },
  {
   "cell_type": "code",
   "execution_count": 74,
   "metadata": {
    "execution": {
     "iopub.execute_input": "2024-03-28T17:27:31.633605Z",
     "iopub.status.busy": "2024-03-28T17:27:31.633099Z",
     "iopub.status.idle": "2024-03-28T17:27:31.638339Z",
     "shell.execute_reply": "2024-03-28T17:27:31.637485Z"
    }
   },
   "outputs": [
    {
     "data": {
      "text/plain": [
       "array([ 3,  8, 13, 18, 23, 28])"
      ]
     },
     "execution_count": 74,
     "metadata": {},
     "output_type": "execute_result"
    }
   ],
   "source": [
    "# Start at 3, end before 32, step by 5\n",
    "np.arange(3, 32, 5)"
   ]
  },
  {
   "cell_type": "code",
   "execution_count": 75,
   "metadata": {
    "execution": {
     "iopub.execute_input": "2024-03-28T17:27:31.641246Z",
     "iopub.status.busy": "2024-03-28T17:27:31.640962Z",
     "iopub.status.idle": "2024-03-28T17:27:31.645436Z",
     "shell.execute_reply": "2024-03-28T17:27:31.644781Z"
    }
   },
   "outputs": [
    {
     "data": {
      "text/plain": [
       "array([-3. , -2.5, -2. , -1.5, -1. , -0.5,  0. ,  0.5,  1. ,  1.5])"
      ]
     },
     "execution_count": 75,
     "metadata": {},
     "output_type": "execute_result"
    }
   ],
   "source": [
    "# Steps can be fractional!\n",
    "np.arange(-3, 2, 0.5)"
   ]
  },
  {
   "cell_type": "code",
   "execution_count": 76,
   "metadata": {
    "execution": {
     "iopub.execute_input": "2024-03-28T17:27:31.648173Z",
     "iopub.status.busy": "2024-03-28T17:27:31.647932Z",
     "iopub.status.idle": "2024-03-28T17:27:31.652271Z",
     "shell.execute_reply": "2024-03-28T17:27:31.651593Z"
    }
   },
   "outputs": [
    {
     "data": {
      "text/plain": [
       "array([ 1, -2, -5, -8])"
      ]
     },
     "execution_count": 76,
     "metadata": {},
     "output_type": "execute_result"
    }
   ],
   "source": [
    "# If step is negative, we count backwards.\n",
    "np.arange(1, -10, -3)"
   ]
  },
  {
   "cell_type": "markdown",
   "metadata": {
    "slideshow": {
     "slide_type": "slide"
    }
   },
   "source": [
    "### Atividade\n",
    "\n",
    "🎉 Parabéns! 🎉 Você ganhou na loteria 💰. Veja como funciona o seu pagamento: no primeiro dia de setembro, você receberá 0,01. A cada dia seguinte, seu salário dobra, então no segundo dia você recebe 0,02, no terceiro dia você recebe 0,04, no quarto dia você recebe 0,08 e assim por diante.\n",
    "\n",
    "Setembro tem 30 dias.\n",
    "\n",
    "Escreva uma **expressão de uma linha** que use os números `2` e `30`, junto com a função `np.arange` e o método `.sum()`, que calcula o valor total **em dólares** você será pago em setembro."
   ]
  },
  {
   "cell_type": "code",
   "execution_count": 77,
   "metadata": {
    "execution": {
     "iopub.execute_input": "2024-03-28T17:27:31.655560Z",
     "iopub.status.busy": "2024-03-28T17:27:31.655248Z",
     "iopub.status.idle": "2024-03-28T17:27:31.659915Z",
     "shell.execute_reply": "2024-03-28T17:27:31.659225Z"
    }
   },
   "outputs": [
    {
     "data": {
      "text/plain": [
       "Ellipsis"
      ]
     },
     "execution_count": 77,
     "metadata": {},
     "output_type": "execute_result"
    }
   ],
   "source": [
    "..."
   ]
  },
  {
   "cell_type": "markdown",
   "metadata": {
    "slideshow": {
     "slide_type": "slide"
    }
   },
   "source": [
    "## Resumo, da próxima vez"
   ]
  },
  {
   "cell_type": "markdown",
   "metadata": {
    "slideshow": {
     "slide_type": "slide"
    }
   },
   "source": [
    "### Resumo\n",
    "\n",
    "- Strings são usadas para armazenar texto. Coloque-os entre aspas simples ou duplas.\n",
    "- Listas e arrays são usados ​​para armazenar **sequências**.\n",
    "- Matrizes são mais rápidas e convenientes para operações numéricas.\n",
    "- Você pode executar facilmente operações numéricas em todos os elementos de um array e realizar operações em vários arrays.\n",
    "- Os intervalos são matrizes de números igualmente espaçados.\n",
    "- Lembre-se de consultar os recursos desde o início da palestra!"
   ]
  },
  {
   "cell_type": "markdown",
   "metadata": {
    "slideshow": {
     "slide_type": "slide"
    }
   },
   "source": [
    "### Próxima vez\n",
    "\n",
    "Aprenderemos como usar Python para trabalhar com dados tabulares do mundo real."
   ]
  }
 ],
 "metadata": {
  "kernelspec": {
   "display_name": "Python 3 (ipykernel)",
   "language": "python",
   "name": "python3"
  },
  "language_info": {
   "codemirror_mode": {
    "name": "ipython",
    "version": 3
   },
   "file_extension": ".py",
   "mimetype": "text/x-python",
   "name": "python",
   "nbconvert_exporter": "python",
   "pygments_lexer": "ipython3",
   "version": "3.11.2"
  },
  "livereveal": {
   "scroll": true,
   "transition": "none"
  },
  "rise": {
   "enable_chalkboard": true
  }
 },
 "nbformat": 4,
 "nbformat_minor": 2
}
