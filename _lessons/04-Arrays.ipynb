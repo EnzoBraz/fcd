{
 "cells": [
  {
   "cell_type": "markdown",
   "metadata": {
    "slideshow": {
     "slide_type": "slide"
    }
   },
   "source": [
    "---\n",
    "layout: page\n",
    "title: Strings e Arrays\n",
    "nav_order: 4\n",
    "---\n",
    "[<img src=\"./colab_favicon_small.png\" style=\"float: right;\">](https://colab.research.google.com/github/flaviovdf/fcd/blob/master/_lessons/04-Arrays.ipynb)\n",
    "\n",
    "# Tópico 4 - Strings e Arrays\n",
    "\n",
    "{: .no_toc .mb-2 }\n",
    "\n",
    "Vetores (Arrays) representam um conjunto básico de dados. Vamos aprender como usar os mesmos.\n",
    "{: .fs-6 .fw-300 }\n",
    "\n",
    "{: .no_toc .text-delta }\n",
    "Resultados Esperados\n",
    "\n",
    "1. Entender tipos em Python, em particular a String\n",
    "1. Saber o que é a biblioteca [numpy](https://numpy.org/)\n",
    "1. Conhecimento básico de manipulação de arrays"
   ]
  },
  {
   "cell_type": "markdown",
   "metadata": {
    "slideshow": {
     "slide_type": "slide"
    }
   },
   "source": [
    "### Recursos 🤝\n",
    "\n",
    "- Estamos cobrindo **muito** conteúdo muito rapidamente. Se você está sobrecarregado, saiba que estamos aqui para apoiá-lo!\n",
    "- Os monitores foram definidos. Olhem a mensagem no moodle.\n",
    "- Procurem o professor depois da aula!"
   ]
  },
  {
   "cell_type": "markdown",
   "metadata": {
    "slideshow": {
     "slide_type": "slide"
    }
   },
   "source": [
    "### Agenda\n",
    "\n",
    "- Strings\n",
    "- Listas.\n",
    "- Matrizes.\n",
    "- Gamas."
   ]
  },
  {
   "cell_type": "markdown",
   "metadata": {
    "slideshow": {
     "slide_type": "slide"
    }
   },
   "source": [
    "## Strings ou Texto"
   ]
  },
  {
   "cell_type": "markdown",
   "metadata": {
    "slideshow": {
     "slide_type": "slide"
    }
   },
   "source": [
    "### Strings\n",
    "\n",
    "- Uma string é um trecho de texto de qualquer comprimento.\n",
    "- Em Python, as strings são colocadas entre aspas simples ou duplas."
   ]
  },
  {
   "cell_type": "code",
   "execution_count": 1,
   "metadata": {
    "execution": {
     "iopub.execute_input": "2024-03-21T17:56:25.108354Z",
     "iopub.status.busy": "2024-03-21T17:56:25.106361Z",
     "iopub.status.idle": "2024-03-21T17:56:25.140578Z",
     "shell.execute_reply": "2024-03-21T17:56:25.138021Z"
    }
   },
   "outputs": [
    {
     "data": {
      "text/plain": [
       "'woof'"
      ]
     },
     "execution_count": 1,
     "metadata": {},
     "output_type": "execute_result"
    }
   ],
   "source": [
    "'woof'"
   ]
  },
  {
   "cell_type": "code",
   "execution_count": 2,
   "metadata": {
    "execution": {
     "iopub.execute_input": "2024-03-21T17:56:25.231720Z",
     "iopub.status.busy": "2024-03-21T17:56:25.231167Z",
     "iopub.status.idle": "2024-03-21T17:56:25.235359Z",
     "shell.execute_reply": "2024-03-21T17:56:25.234756Z"
    }
   },
   "outputs": [
    {
     "data": {
      "text/plain": [
       "str"
      ]
     },
     "execution_count": 2,
     "metadata": {},
     "output_type": "execute_result"
    }
   ],
   "source": [
    "type('woof')"
   ]
  },
  {
   "cell_type": "code",
   "execution_count": 3,
   "metadata": {
    "execution": {
     "iopub.execute_input": "2024-03-21T17:56:25.238082Z",
     "iopub.status.busy": "2024-03-21T17:56:25.237835Z",
     "iopub.status.idle": "2024-03-21T17:56:25.241849Z",
     "shell.execute_reply": "2024-03-21T17:56:25.241258Z"
    },
    "scrolled": true
   },
   "outputs": [
    {
     "data": {
      "text/plain": [
       "'woof'"
      ]
     },
     "execution_count": 3,
     "metadata": {},
     "output_type": "execute_result"
    }
   ],
   "source": [
    "\"woof\""
   ]
  },
  {
   "cell_type": "code",
   "execution_count": 4,
   "metadata": {
    "execution": {
     "iopub.execute_input": "2024-03-21T17:56:25.245100Z",
     "iopub.status.busy": "2024-03-21T17:56:25.244831Z",
     "iopub.status.idle": "2024-03-21T17:56:25.248998Z",
     "shell.execute_reply": "2024-03-21T17:56:25.248308Z"
    }
   },
   "outputs": [
    {
     "data": {
      "text/plain": [
       "'1998'"
      ]
     },
     "execution_count": 4,
     "metadata": {},
     "output_type": "execute_result"
    }
   ],
   "source": [
    "# A string, not an int!\n",
    "\"1998\""
   ]
  },
  {
   "cell_type": "markdown",
   "metadata": {
    "slideshow": {
     "slide_type": "slide"
    }
   },
   "source": [
    "### Aritmética de strings\n",
    "\n",
    "Ao usar o símbolo `+` entre duas strings, a operação é chamada de \"concatenação\"."
   ]
  },
  {
   "cell_type": "code",
   "execution_count": 5,
   "metadata": {
    "execution": {
     "iopub.execute_input": "2024-03-21T17:56:25.251869Z",
     "iopub.status.busy": "2024-03-21T17:56:25.251324Z",
     "iopub.status.idle": "2024-03-21T17:56:25.254750Z",
     "shell.execute_reply": "2024-03-21T17:56:25.254057Z"
    }
   },
   "outputs": [],
   "source": [
    "s1 = 'baby'\n",
    "s2 = '🐼'"
   ]
  },
  {
   "cell_type": "code",
   "execution_count": 6,
   "metadata": {
    "execution": {
     "iopub.execute_input": "2024-03-21T17:56:25.257678Z",
     "iopub.status.busy": "2024-03-21T17:56:25.257428Z",
     "iopub.status.idle": "2024-03-21T17:56:25.262348Z",
     "shell.execute_reply": "2024-03-21T17:56:25.261657Z"
    }
   },
   "outputs": [
    {
     "data": {
      "text/plain": [
       "'baby🐼'"
      ]
     },
     "execution_count": 6,
     "metadata": {},
     "output_type": "execute_result"
    }
   ],
   "source": [
    "s1 + s2"
   ]
  },
  {
   "cell_type": "code",
   "execution_count": 7,
   "metadata": {
    "execution": {
     "iopub.execute_input": "2024-03-21T17:56:25.265291Z",
     "iopub.status.busy": "2024-03-21T17:56:25.265021Z",
     "iopub.status.idle": "2024-03-21T17:56:25.269315Z",
     "shell.execute_reply": "2024-03-21T17:56:25.268662Z"
    }
   },
   "outputs": [
    {
     "data": {
      "text/plain": [
       "'baby 🐼'"
      ]
     },
     "execution_count": 7,
     "metadata": {},
     "output_type": "execute_result"
    }
   ],
   "source": [
    "s1 + ' ' + s2"
   ]
  },
  {
   "cell_type": "code",
   "execution_count": 8,
   "metadata": {
    "execution": {
     "iopub.execute_input": "2024-03-21T17:56:25.272195Z",
     "iopub.status.busy": "2024-03-21T17:56:25.271894Z",
     "iopub.status.idle": "2024-03-21T17:56:25.276543Z",
     "shell.execute_reply": "2024-03-21T17:56:25.275762Z"
    }
   },
   "outputs": [
    {
     "data": {
      "text/plain": [
       "'🐼🐼🐼'"
      ]
     },
     "execution_count": 8,
     "metadata": {},
     "output_type": "execute_result"
    }
   ],
   "source": [
    "s2 * 3"
   ]
  },
  {
   "cell_type": "markdown",
   "metadata": {
    "slideshow": {
     "slide_type": "slide"
    }
   },
   "source": [
    "### Métodos de string\n",
    "* Strings estão associadas a certas funções chamadas **métodos de string**.\n",
    "* Acesse métodos de string com um `.` após a string (\"notação de ponto\").\n",
    "* Por exemplo, para usar o método `upper` na string `s`, escrevemos `s.upper()`.\n",
    "* Exemplos incluem `upper`, `title` e `replace`."
   ]
  },
  {
   "cell_type": "code",
   "execution_count": 9,
   "metadata": {
    "execution": {
     "iopub.execute_input": "2024-03-21T17:56:25.279978Z",
     "iopub.status.busy": "2024-03-21T17:56:25.279675Z",
     "iopub.status.idle": "2024-03-21T17:56:25.283043Z",
     "shell.execute_reply": "2024-03-21T17:56:25.282347Z"
    }
   },
   "outputs": [],
   "source": [
    "my_cool_string = 'data science is super cool!'"
   ]
  },
  {
   "cell_type": "code",
   "execution_count": 10,
   "metadata": {
    "execution": {
     "iopub.execute_input": "2024-03-21T17:56:25.285867Z",
     "iopub.status.busy": "2024-03-21T17:56:25.285493Z",
     "iopub.status.idle": "2024-03-21T17:56:25.289638Z",
     "shell.execute_reply": "2024-03-21T17:56:25.288988Z"
    }
   },
   "outputs": [
    {
     "data": {
      "text/plain": [
       "'Data Science Is Super Cool!'"
      ]
     },
     "execution_count": 10,
     "metadata": {},
     "output_type": "execute_result"
    }
   ],
   "source": [
    "my_cool_string.title()"
   ]
  },
  {
   "cell_type": "code",
   "execution_count": 11,
   "metadata": {
    "execution": {
     "iopub.execute_input": "2024-03-21T17:56:25.291977Z",
     "iopub.status.busy": "2024-03-21T17:56:25.291743Z",
     "iopub.status.idle": "2024-03-21T17:56:25.296571Z",
     "shell.execute_reply": "2024-03-21T17:56:25.295897Z"
    }
   },
   "outputs": [
    {
     "data": {
      "text/plain": [
       "'DATA SCIENCE IS SUPER COOL!'"
      ]
     },
     "execution_count": 11,
     "metadata": {},
     "output_type": "execute_result"
    }
   ],
   "source": [
    "my_cool_string.upper()"
   ]
  },
  {
   "cell_type": "code",
   "execution_count": 12,
   "metadata": {
    "execution": {
     "iopub.execute_input": "2024-03-21T17:56:25.299266Z",
     "iopub.status.busy": "2024-03-21T17:56:25.299026Z",
     "iopub.status.idle": "2024-03-21T17:56:25.303176Z",
     "shell.execute_reply": "2024-03-21T17:56:25.302503Z"
    }
   },
   "outputs": [
    {
     "data": {
      "text/plain": [
       "'data science is 💯💯💯!'"
      ]
     },
     "execution_count": 12,
     "metadata": {},
     "output_type": "execute_result"
    }
   ],
   "source": [
    "my_cool_string.replace('super cool', '💯' * 3)"
   ]
  },
  {
   "cell_type": "code",
   "execution_count": 13,
   "metadata": {
    "execution": {
     "iopub.execute_input": "2024-03-21T17:56:25.306116Z",
     "iopub.status.busy": "2024-03-21T17:56:25.305812Z",
     "iopub.status.idle": "2024-03-21T17:56:25.310551Z",
     "shell.execute_reply": "2024-03-21T17:56:25.309777Z"
    }
   },
   "outputs": [
    {
     "data": {
      "text/plain": [
       "27"
      ]
     },
     "execution_count": 13,
     "metadata": {},
     "output_type": "execute_result"
    }
   ],
   "source": [
    "# len is not a method, since it doesn't use dot notation\n",
    "len(my_cool_string)"
   ]
  },
  {
   "cell_type": "markdown",
   "metadata": {
    "slideshow": {
     "slide_type": "slide"
    }
   },
   "source": [
    "### Caracteres especiais em strings\n",
    "\n",
    "Aspas simples e aspas duplas geralmente são intercambiáveis, exceto quando a própria string contém aspas simples ou duplas."
   ]
  },
  {
   "cell_type": "code",
   "execution_count": 14,
   "metadata": {
    "execution": {
     "iopub.execute_input": "2024-03-21T17:56:25.313545Z",
     "iopub.status.busy": "2024-03-21T17:56:25.313279Z",
     "iopub.status.idle": "2024-03-21T17:56:25.316265Z",
     "shell.execute_reply": "2024-03-21T17:56:25.315588Z"
    },
    "tags": [
     "raises-exception"
    ]
   },
   "outputs": [],
   "source": [
    "# a linha abaixo gera um erro, descomente e teste\n",
    "# 'my string's full of apostrophes!'"
   ]
  },
  {
   "cell_type": "code",
   "execution_count": 15,
   "metadata": {
    "execution": {
     "iopub.execute_input": "2024-03-21T17:56:25.318621Z",
     "iopub.status.busy": "2024-03-21T17:56:25.318376Z",
     "iopub.status.idle": "2024-03-21T17:56:25.322392Z",
     "shell.execute_reply": "2024-03-21T17:56:25.321694Z"
    }
   },
   "outputs": [
    {
     "data": {
      "text/plain": [
       "\"my string's full of apostrophes!\""
      ]
     },
     "execution_count": 15,
     "metadata": {},
     "output_type": "execute_result"
    }
   ],
   "source": [
    "\"my string's full of apostrophes!\""
   ]
  },
  {
   "cell_type": "code",
   "execution_count": 16,
   "metadata": {
    "execution": {
     "iopub.execute_input": "2024-03-21T17:56:25.325278Z",
     "iopub.status.busy": "2024-03-21T17:56:25.324988Z",
     "iopub.status.idle": "2024-03-21T17:56:25.329455Z",
     "shell.execute_reply": "2024-03-21T17:56:25.328788Z"
    }
   },
   "outputs": [
    {
     "data": {
      "text/plain": [
       "'my string\\'s \"full\" of apostrophes!'"
      ]
     },
     "execution_count": 16,
     "metadata": {},
     "output_type": "execute_result"
    }
   ],
   "source": [
    "# escape the apostrophe with a backslash!\n",
    "'my string\\'s \"full\" of apostrophes!'"
   ]
  },
  {
   "cell_type": "code",
   "execution_count": 17,
   "metadata": {
    "execution": {
     "iopub.execute_input": "2024-03-21T17:56:25.332627Z",
     "iopub.status.busy": "2024-03-21T17:56:25.332118Z",
     "iopub.status.idle": "2024-03-21T17:56:25.336033Z",
     "shell.execute_reply": "2024-03-21T17:56:25.335397Z"
    }
   },
   "outputs": [
    {
     "name": "stdout",
     "output_type": "stream",
     "text": [
      "my string's \"full\" of apostrophes!\n"
     ]
    }
   ],
   "source": [
    "print('my string\\'s \"full\" of apostrophes!')"
   ]
  },
  {
   "cell_type": "markdown",
   "metadata": {
    "slideshow": {
     "slide_type": "slide"
    }
   },
   "source": [
    "### Além: `print`\n",
    "- Por padrão, os notebooks Jupyter exibem o valor \"bruto\" da expressão da última linha de uma célula.\n",
    "- A função `print` exibe o valor em texto legível quando é avaliado."
   ]
  },
  {
   "cell_type": "code",
   "execution_count": 18,
   "metadata": {
    "execution": {
     "iopub.execute_input": "2024-03-21T17:56:25.338849Z",
     "iopub.status.busy": "2024-03-21T17:56:25.338650Z",
     "iopub.status.idle": "2024-03-21T17:56:25.342698Z",
     "shell.execute_reply": "2024-03-21T17:56:25.342048Z"
    }
   },
   "outputs": [
    {
     "data": {
      "text/plain": [
       "23"
      ]
     },
     "execution_count": 18,
     "metadata": {},
     "output_type": "execute_result"
    }
   ],
   "source": [
    "12 # 12 won't be displayed, since Python only shows the value of the last expression\n",
    "23"
   ]
  },
  {
   "cell_type": "code",
   "execution_count": 19,
   "metadata": {
    "execution": {
     "iopub.execute_input": "2024-03-21T17:56:25.345659Z",
     "iopub.status.busy": "2024-03-21T17:56:25.345134Z",
     "iopub.status.idle": "2024-03-21T17:56:25.348678Z",
     "shell.execute_reply": "2024-03-21T17:56:25.348028Z"
    }
   },
   "outputs": [
    {
     "name": "stdout",
     "output_type": "stream",
     "text": [
      "12\n",
      "23\n"
     ]
    }
   ],
   "source": [
    "# Note, there is no Out[number] to the left! That only appears when displaying a non-printed value.\n",
    "# But both 12 and 23 are displayed.\n",
    "print(12)\n",
    "print(23)"
   ]
  },
  {
   "cell_type": "code",
   "execution_count": 20,
   "metadata": {
    "execution": {
     "iopub.execute_input": "2024-03-21T17:56:25.351060Z",
     "iopub.status.busy": "2024-03-21T17:56:25.350793Z",
     "iopub.status.idle": "2024-03-21T17:56:25.354965Z",
     "shell.execute_reply": "2024-03-21T17:56:25.354277Z"
    }
   },
   "outputs": [
    {
     "data": {
      "text/plain": [
       "'here is a string with two lines.\\nhere is the second line'"
      ]
     },
     "execution_count": 20,
     "metadata": {},
     "output_type": "execute_result"
    }
   ],
   "source": [
    "# '\\n' inserts a new line\n",
    "my_newline_str = 'here is a string with two lines.\\nhere is the second line'  \n",
    "my_newline_str"
   ]
  },
  {
   "cell_type": "code",
   "execution_count": 21,
   "metadata": {
    "execution": {
     "iopub.execute_input": "2024-03-21T17:56:25.357793Z",
     "iopub.status.busy": "2024-03-21T17:56:25.357518Z",
     "iopub.status.idle": "2024-03-21T17:56:25.361365Z",
     "shell.execute_reply": "2024-03-21T17:56:25.360683Z"
    }
   },
   "outputs": [
    {
     "name": "stdout",
     "output_type": "stream",
     "text": [
      "here is a string with two lines.\n",
      "here is the second line\n"
     ]
    }
   ],
   "source": [
    "# The quotes disappeared and the newline is rendered!\n",
    "print(my_newline_str)  "
   ]
  },
  {
   "cell_type": "markdown",
   "metadata": {
    "slideshow": {
     "slide_type": "slide"
    }
   },
   "source": [
    "### Conversão de tipo de e para strings\n",
    "* Qualquer valor pode ser convertido em uma string usando ```str```.\n",
    "* Algumas strings podem ser convertidas para ```int``` e ```float```."
   ]
  },
  {
   "cell_type": "code",
   "execution_count": 22,
   "metadata": {
    "execution": {
     "iopub.execute_input": "2024-03-21T17:56:25.363756Z",
     "iopub.status.busy": "2024-03-21T17:56:25.363558Z",
     "iopub.status.idle": "2024-03-21T17:56:25.367697Z",
     "shell.execute_reply": "2024-03-21T17:56:25.367047Z"
    }
   },
   "outputs": [
    {
     "data": {
      "text/plain": [
       "'3'"
      ]
     },
     "execution_count": 22,
     "metadata": {},
     "output_type": "execute_result"
    }
   ],
   "source": [
    "str(3)"
   ]
  },
  {
   "cell_type": "code",
   "execution_count": 23,
   "metadata": {
    "execution": {
     "iopub.execute_input": "2024-03-21T17:56:25.369890Z",
     "iopub.status.busy": "2024-03-21T17:56:25.369661Z",
     "iopub.status.idle": "2024-03-21T17:56:25.373742Z",
     "shell.execute_reply": "2024-03-21T17:56:25.373092Z"
    }
   },
   "outputs": [
    {
     "data": {
      "text/plain": [
       "3.0"
      ]
     },
     "execution_count": 23,
     "metadata": {},
     "output_type": "execute_result"
    }
   ],
   "source": [
    "float('3')"
   ]
  },
  {
   "cell_type": "code",
   "execution_count": 24,
   "metadata": {
    "execution": {
     "iopub.execute_input": "2024-03-21T17:56:25.376737Z",
     "iopub.status.busy": "2024-03-21T17:56:25.376466Z",
     "iopub.status.idle": "2024-03-21T17:56:25.381095Z",
     "shell.execute_reply": "2024-03-21T17:56:25.380452Z"
    }
   },
   "outputs": [
    {
     "data": {
      "text/plain": [
       "4"
      ]
     },
     "execution_count": 24,
     "metadata": {},
     "output_type": "execute_result"
    }
   ],
   "source": [
    "int('4')"
   ]
  },
  {
   "cell_type": "code",
   "execution_count": 25,
   "metadata": {
    "execution": {
     "iopub.execute_input": "2024-03-21T17:56:25.383614Z",
     "iopub.status.busy": "2024-03-21T17:56:25.383383Z",
     "iopub.status.idle": "2024-03-21T17:56:25.522193Z",
     "shell.execute_reply": "2024-03-21T17:56:25.521492Z"
    },
    "scrolled": false,
    "tags": [
     "raises-exception"
    ]
   },
   "outputs": [
    {
     "ename": "ValueError",
     "evalue": "invalid literal for int() with base 10: 'baby panda'",
     "output_type": "error",
     "traceback": [
      "\u001b[0;31m---------------------------------------------------------------------------\u001b[0m",
      "\u001b[0;31mValueError\u001b[0m                                Traceback (most recent call last)",
      "Cell \u001b[0;32mIn[25], line 1\u001b[0m\n\u001b[0;32m----> 1\u001b[0m \u001b[38;5;28;43mint\u001b[39;49m\u001b[43m(\u001b[49m\u001b[38;5;124;43m'\u001b[39;49m\u001b[38;5;124;43mbaby panda\u001b[39;49m\u001b[38;5;124;43m'\u001b[39;49m\u001b[43m)\u001b[49m\n",
      "\u001b[0;31mValueError\u001b[0m: invalid literal for int() with base 10: 'baby panda'"
     ]
    }
   ],
   "source": [
    "int('baby panda')"
   ]
  },
  {
   "cell_type": "markdown",
   "metadata": {
    "slideshow": {
     "slide_type": "slide"
    }
   },
   "source": [
    "### Verificação de conceito ✅\n",
    "\n",
    "Suponha que você executou as seguintes instruções:\n",
    "\n",
    "```py\n",
    "x = 3\n",
    "y = '4'\n",
    "z = '5.6'\n",
    "```\n",
    "\n",
    "Escolha a expressão que será avaliada **sem** erro.\n",
    "\n",
    "R. `x + y`\n",
    "\n",
    "B. `x + int(y + z)`\n",
    "\n",
    "C.`str(x) + int(y)`\n",
    "\n",
    "D. `str (x) + z`\n",
    "\n",
    "E. Todos eles têm erros"
   ]
  },
  {
   "cell_type": "markdown",
   "metadata": {
    "slideshow": {
     "slide_type": "slide"
    }
   },
   "source": [
    "## Listas"
   ]
  },
  {
   "cell_type": "markdown",
   "metadata": {
    "slideshow": {
     "slide_type": "slide"
    }
   },
   "source": [
    "### Motivação\n",
    "\n",
    "Como armazenaríamos as temperaturas de cada um dos primeiros 6 dias do mês de setembro?\n",
    "\n",
    "Nossa melhor solução agora é criar uma variável separada para cada dia."
   ]
  },
  {
   "cell_type": "code",
   "execution_count": 26,
   "metadata": {
    "execution": {
     "iopub.execute_input": "2024-03-21T17:56:25.525555Z",
     "iopub.status.busy": "2024-03-21T17:56:25.525317Z",
     "iopub.status.idle": "2024-03-21T17:56:25.529153Z",
     "shell.execute_reply": "2024-03-21T17:56:25.528521Z"
    },
    "slideshow": {
     "slide_type": "fragment"
    }
   },
   "outputs": [],
   "source": [
    "temperature_on_sept_01 = 84\n",
    "temperature_on_sept_02 = 78\n",
    "temperature_on_sept_03 = 81\n",
    "temperature_on_sept_04 = 75\n",
    "temperature_on_sept_05 = 79\n",
    "temperature_on_sept_06 = 75"
   ]
  },
  {
   "cell_type": "markdown",
   "metadata": {
    "slideshow": {
     "slide_type": "fragment"
    }
   },
   "source": [
    "Isso _tecnicamente_ nos permite fazer coisas como calcular a temperatura média durante os primeiros 6 dias:"
   ]
  },
  {
   "cell_type": "markdown",
   "metadata": {
    "slideshow": {
     "slide_type": "-"
    }
   },
   "source": [
    "```\n",
    "avg_temperature = 1/6 * (\n",
    "    temperature_on_sept_01\n",
    "    + temperature_on_sept_02\n",
    "    + temperature_on_sept_03\n",
    "    + ...)\n",
    "```"
   ]
  },
  {
   "cell_type": "markdown",
   "metadata": {},
   "source": [
    "Imagine os dados de um mês inteiro ou os dados de um ano inteiro. Parece que precisamos de uma solução melhor.\n"
   ]
  },
  {
   "cell_type": "markdown",
   "metadata": {
    "slideshow": {
     "slide_type": "slide"
    }
   },
   "source": [
    "### Listas em Python\n",
    "\n",
    "Em Python, uma lista é usada para armazenar vários valores em um único valor/variável. Para criar uma nova lista do zero, usamos `[`colchetes`]`.\n"
   ]
  },
  {
   "cell_type": "code",
   "execution_count": 27,
   "metadata": {
    "execution": {
     "iopub.execute_input": "2024-03-21T17:56:25.531789Z",
     "iopub.status.busy": "2024-03-21T17:56:25.531537Z",
     "iopub.status.idle": "2024-03-21T17:56:25.535112Z",
     "shell.execute_reply": "2024-03-21T17:56:25.534411Z"
    }
   },
   "outputs": [],
   "source": [
    "temperature_list = [84, 78, 81, 75, 79, 75]"
   ]
  },
  {
   "cell_type": "code",
   "execution_count": 28,
   "metadata": {
    "execution": {
     "iopub.execute_input": "2024-03-21T17:56:25.538259Z",
     "iopub.status.busy": "2024-03-21T17:56:25.537673Z",
     "iopub.status.idle": "2024-03-21T17:56:25.542474Z",
     "shell.execute_reply": "2024-03-21T17:56:25.541820Z"
    }
   },
   "outputs": [
    {
     "data": {
      "text/plain": [
       "6"
      ]
     },
     "execution_count": 28,
     "metadata": {},
     "output_type": "execute_result"
    }
   ],
   "source": [
    "len(temperature_list)"
   ]
  },
  {
   "cell_type": "markdown",
   "metadata": {
    "slideshow": {
     "slide_type": "fragment"
    }
   },
   "source": [
    "Observe que os elementos de uma lista não precisam ser únicos!"
   ]
  },
  {
   "cell_type": "markdown",
   "metadata": {
    "slideshow": {
     "slide_type": "slide"
    }
   },
   "source": [
    "### As listas facilitam o trabalho com sequências!\n",
    "\n",
    "Para encontrar a temperatura média, basta dividir a **soma das temperaturas** pelo **número de temperaturas registradas**:"
   ]
  },
  {
   "cell_type": "code",
   "execution_count": 29,
   "metadata": {
    "execution": {
     "iopub.execute_input": "2024-03-21T17:56:25.545203Z",
     "iopub.status.busy": "2024-03-21T17:56:25.544962Z",
     "iopub.status.idle": "2024-03-21T17:56:25.549062Z",
     "shell.execute_reply": "2024-03-21T17:56:25.548378Z"
    }
   },
   "outputs": [
    {
     "data": {
      "text/plain": [
       "[84, 78, 81, 75, 79, 75]"
      ]
     },
     "execution_count": 29,
     "metadata": {},
     "output_type": "execute_result"
    }
   ],
   "source": [
    "temperature_list"
   ]
  },
  {
   "cell_type": "code",
   "execution_count": 30,
   "metadata": {
    "execution": {
     "iopub.execute_input": "2024-03-21T17:56:25.551723Z",
     "iopub.status.busy": "2024-03-21T17:56:25.551519Z",
     "iopub.status.idle": "2024-03-21T17:56:25.555717Z",
     "shell.execute_reply": "2024-03-21T17:56:25.555011Z"
    }
   },
   "outputs": [
    {
     "data": {
      "text/plain": [
       "78.66666666666667"
      ]
     },
     "execution_count": 30,
     "metadata": {},
     "output_type": "execute_result"
    }
   ],
   "source": [
    "sum(temperature_list) / len(temperature_list)"
   ]
  },
  {
   "cell_type": "markdown",
   "metadata": {
    "slideshow": {
     "slide_type": "slide"
    }
   },
   "source": [
    "### Tipos\n",
    "\n",
    "O `tipo` de uma lista é... `lista`."
   ]
  },
  {
   "cell_type": "code",
   "execution_count": 31,
   "metadata": {
    "execution": {
     "iopub.execute_input": "2024-03-21T17:56:25.558792Z",
     "iopub.status.busy": "2024-03-21T17:56:25.558363Z",
     "iopub.status.idle": "2024-03-21T17:56:25.562842Z",
     "shell.execute_reply": "2024-03-21T17:56:25.562163Z"
    }
   },
   "outputs": [
    {
     "data": {
      "text/plain": [
       "[84, 78, 81, 75, 79, 75]"
      ]
     },
     "execution_count": 31,
     "metadata": {},
     "output_type": "execute_result"
    }
   ],
   "source": [
    "temperature_list"
   ]
  },
  {
   "cell_type": "code",
   "execution_count": 32,
   "metadata": {
    "execution": {
     "iopub.execute_input": "2024-03-21T17:56:25.565603Z",
     "iopub.status.busy": "2024-03-21T17:56:25.565345Z",
     "iopub.status.idle": "2024-03-21T17:56:25.569728Z",
     "shell.execute_reply": "2024-03-21T17:56:25.569078Z"
    }
   },
   "outputs": [
    {
     "data": {
      "text/plain": [
       "list"
      ]
     },
     "execution_count": 32,
     "metadata": {},
     "output_type": "execute_result"
    }
   ],
   "source": [
    "type(temperature_list)"
   ]
  },
  {
   "cell_type": "markdown",
   "metadata": {
    "slideshow": {
     "slide_type": "fragment"
    }
   },
   "source": [
    "Dentro de uma lista, você pode armazenar elementos de diferentes tipos."
   ]
  },
  {
   "cell_type": "code",
   "execution_count": 33,
   "metadata": {
    "execution": {
     "iopub.execute_input": "2024-03-21T17:56:25.572145Z",
     "iopub.status.busy": "2024-03-21T17:56:25.571902Z",
     "iopub.status.idle": "2024-03-21T17:56:25.576353Z",
     "shell.execute_reply": "2024-03-21T17:56:25.575527Z"
    }
   },
   "outputs": [
    {
     "data": {
      "text/plain": [
       "[-2, 2.5, 'ucsd', [1, 3]]"
      ]
     },
     "execution_count": 33,
     "metadata": {},
     "output_type": "execute_result"
    }
   ],
   "source": [
    "mixed_list = [-2, 2.5, 'ucsd', [1, 3]]\n",
    "mixed_list"
   ]
  },
  {
   "cell_type": "markdown",
   "metadata": {
    "slideshow": {
     "slide_type": "slide"
    }
   },
   "source": [
    "### Há um problema...\n",
    "\n",
    "- As listas são **muito lentas**.\n",
    "- Isso não é grande coisa quando não há muitas entradas, mas é um grande problema quando há milhões ou bilhões de entradas."
   ]
  },
  {
   "cell_type": "markdown",
   "metadata": {
    "slideshow": {
     "slide_type": "slide"
    }
   },
   "source": [
    "## Matrizes"
   ]
  },
  {
   "cell_type": "markdown",
   "metadata": {
    "slideshow": {
     "slide_type": "slide"
    }
   },
   "source": [
    "### NumPy\n",
    "\n",
    "<center>\n",
    "<img src='https://raw.githubusercontent.com/flaviovdf/fcd/master/assets/04-Arrays/numpy.png' width=400>\n",
    "</center>\n",
    "\n",
    "- NumPy (pronuncia-se \"num pie\") é uma biblioteca (módulo) Python que fornece suporte para **arrays** e operações neles.\n",
    "\n",
    "- A biblioteca `babypandas`, sobre a qual você aprenderá no próximo tópico, anda de mãos dadas com o NumPy.\n",
    "- NumPy é muito usado no mundo real.\n",
    "\n",
    "- Para usar `numpy`, precisamos importá-lo. Geralmente é importado como `np` (mas não precisa ser!)"
   ]
  },
  {
   "cell_type": "code",
   "execution_count": 34,
   "metadata": {
    "execution": {
     "iopub.execute_input": "2024-03-21T17:56:25.579373Z",
     "iopub.status.busy": "2024-03-21T17:56:25.579140Z",
     "iopub.status.idle": "2024-03-21T17:56:25.706217Z",
     "shell.execute_reply": "2024-03-21T17:56:25.705562Z"
    }
   },
   "outputs": [],
   "source": [
    "import numpy as np"
   ]
  },
  {
   "cell_type": "markdown",
   "metadata": {
    "slideshow": {
     "slide_type": "slide"
    }
   },
   "source": [
    "### Matrizes\n",
    "\n",
    "Pense nos arrays NumPy (apenas \"arrays\" de agora em diante) como listas sofisticadas e mais rápidas.\n",
    "\n",
    "<center><img src=\"https://raw.githubusercontent.com/flaviovdf/fcd/master/assets/04-Arrays/squid.png\" width=30%></center>\n",
    "\n",
    "Para criar um array, passamos uma lista como entrada para a função `np.array`."
   ]
  },
  {
   "cell_type": "code",
   "execution_count": 35,
   "metadata": {
    "execution": {
     "iopub.execute_input": "2024-03-21T17:56:25.709373Z",
     "iopub.status.busy": "2024-03-21T17:56:25.708932Z",
     "iopub.status.idle": "2024-03-21T17:56:25.754463Z",
     "shell.execute_reply": "2024-03-21T17:56:25.753745Z"
    }
   },
   "outputs": [
    {
     "data": {
      "text/plain": [
       "array([4, 9, 1, 2])"
      ]
     },
     "execution_count": 35,
     "metadata": {},
     "output_type": "execute_result"
    }
   ],
   "source": [
    "np.array([4, 9, 1, 2])"
   ]
  },
  {
   "cell_type": "markdown",
   "metadata": {
    "slideshow": {
     "slide_type": "fragment"
    }
   },
   "source": [
    "<center>\n",
    "<img src='https://raw.githubusercontent.com/flaviovdf/fcd/master/assets/04-Arrays/brackets.png' width=50%>\n",
    "</center>"
   ]
  },
  {
   "cell_type": "code",
   "execution_count": 36,
   "metadata": {
    "execution": {
     "iopub.execute_input": "2024-03-21T17:56:25.756976Z",
     "iopub.status.busy": "2024-03-21T17:56:25.756728Z",
     "iopub.status.idle": "2024-03-21T17:56:25.761279Z",
     "shell.execute_reply": "2024-03-21T17:56:25.760622Z"
    }
   },
   "outputs": [
    {
     "data": {
      "text/plain": [
       "array([84, 78, 81, 75, 79, 75])"
      ]
     },
     "execution_count": 36,
     "metadata": {},
     "output_type": "execute_result"
    }
   ],
   "source": [
    "temperature_array = np.array([84, 78, 81, 75, 79, 75])\n",
    "temperature_array"
   ]
  },
  {
   "cell_type": "code",
   "execution_count": 37,
   "metadata": {
    "execution": {
     "iopub.execute_input": "2024-03-21T17:56:25.764038Z",
     "iopub.status.busy": "2024-03-21T17:56:25.763797Z",
     "iopub.status.idle": "2024-03-21T17:56:25.768179Z",
     "shell.execute_reply": "2024-03-21T17:56:25.767463Z"
    }
   },
   "outputs": [
    {
     "data": {
      "text/plain": [
       "[84, 78, 81, 75, 79, 75]"
      ]
     },
     "execution_count": 37,
     "metadata": {},
     "output_type": "execute_result"
    }
   ],
   "source": [
    "temperature_list"
   ]
  },
  {
   "cell_type": "code",
   "execution_count": 38,
   "metadata": {
    "execution": {
     "iopub.execute_input": "2024-03-21T17:56:25.771194Z",
     "iopub.status.busy": "2024-03-21T17:56:25.770934Z",
     "iopub.status.idle": "2024-03-21T17:56:25.775904Z",
     "shell.execute_reply": "2024-03-21T17:56:25.775191Z"
    }
   },
   "outputs": [
    {
     "data": {
      "text/plain": [
       "array([84, 78, 81, 75, 79, 75])"
      ]
     },
     "execution_count": 38,
     "metadata": {},
     "output_type": "execute_result"
    }
   ],
   "source": [
    "# No square brackets, because temperature_list is already a list!\n",
    "np.array(temperature_list)"
   ]
  },
  {
   "cell_type": "markdown",
   "metadata": {
    "slideshow": {
     "slide_type": "slide"
    }
   },
   "source": [
    "### Posições\n",
    "\n",
    "Quando as pessoas ficam em fila, cada pessoa tem uma posição.\n",
    "\n",
    "<center><img src=\"https://raw.githubusercontent.com/flaviovdf/fcd/master/assets/04-Arrays/position.png\" width=50%></center>\n",
    "\n",
    "Da mesma forma, cada elemento de um array (e lista) possui uma posição."
   ]
  },
  {
   "cell_type": "markdown",
   "metadata": {
    "slideshow": {
     "slide_type": "slide"
    }
   },
   "source": [
    "### Acessando elementos por posição\n",
    "\n",
    "- Python, como a maioria das linguagens de programação, é \"indexado em 0\".\n",
    "- Isso significa que a posição do primeiro elemento em uma matriz é 0, não 1.\n",
    "- Um motivo: a posição de um elemento representa o número de elementos à sua frente.\n",
    "- Para acessar o elemento do array `arr_name` na posição `pos`, usamos a sintaxe `arr_name[pos]`."
   ]
  },
  {
   "cell_type": "code",
   "execution_count": 39,
   "metadata": {
    "execution": {
     "iopub.execute_input": "2024-03-21T17:56:25.778852Z",
     "iopub.status.busy": "2024-03-21T17:56:25.778585Z",
     "iopub.status.idle": "2024-03-21T17:56:25.783311Z",
     "shell.execute_reply": "2024-03-21T17:56:25.782657Z"
    },
    "slideshow": {
     "slide_type": "-"
    }
   },
   "outputs": [
    {
     "data": {
      "text/plain": [
       "array([84, 78, 81, 75, 79, 75])"
      ]
     },
     "execution_count": 39,
     "metadata": {},
     "output_type": "execute_result"
    }
   ],
   "source": [
    "temperature_array"
   ]
  },
  {
   "cell_type": "code",
   "execution_count": 40,
   "metadata": {
    "execution": {
     "iopub.execute_input": "2024-03-21T17:56:25.785734Z",
     "iopub.status.busy": "2024-03-21T17:56:25.785502Z",
     "iopub.status.idle": "2024-03-21T17:56:25.789784Z",
     "shell.execute_reply": "2024-03-21T17:56:25.789096Z"
    }
   },
   "outputs": [
    {
     "data": {
      "text/plain": [
       "84"
      ]
     },
     "execution_count": 40,
     "metadata": {},
     "output_type": "execute_result"
    }
   ],
   "source": [
    "temperature_array[0]"
   ]
  },
  {
   "cell_type": "code",
   "execution_count": 41,
   "metadata": {
    "execution": {
     "iopub.execute_input": "2024-03-21T17:56:25.792842Z",
     "iopub.status.busy": "2024-03-21T17:56:25.792374Z",
     "iopub.status.idle": "2024-03-21T17:56:25.797552Z",
     "shell.execute_reply": "2024-03-21T17:56:25.796660Z"
    }
   },
   "outputs": [
    {
     "data": {
      "text/plain": [
       "78"
      ]
     },
     "execution_count": 41,
     "metadata": {},
     "output_type": "execute_result"
    }
   ],
   "source": [
    "temperature_array[1]"
   ]
  },
  {
   "cell_type": "code",
   "execution_count": 42,
   "metadata": {
    "execution": {
     "iopub.execute_input": "2024-03-21T17:56:25.800505Z",
     "iopub.status.busy": "2024-03-21T17:56:25.800250Z",
     "iopub.status.idle": "2024-03-21T17:56:25.805049Z",
     "shell.execute_reply": "2024-03-21T17:56:25.804365Z"
    }
   },
   "outputs": [
    {
     "data": {
      "text/plain": [
       "75"
      ]
     },
     "execution_count": 42,
     "metadata": {},
     "output_type": "execute_result"
    }
   ],
   "source": [
    "temperature_array[3]"
   ]
  },
  {
   "cell_type": "code",
   "execution_count": 43,
   "metadata": {
    "execution": {
     "iopub.execute_input": "2024-03-21T17:56:25.807825Z",
     "iopub.status.busy": "2024-03-21T17:56:25.807522Z",
     "iopub.status.idle": "2024-03-21T17:56:25.812426Z",
     "shell.execute_reply": "2024-03-21T17:56:25.811809Z"
    }
   },
   "outputs": [
    {
     "data": {
      "text/plain": [
       "75"
      ]
     },
     "execution_count": 43,
     "metadata": {},
     "output_type": "execute_result"
    }
   ],
   "source": [
    "# Access last element\n",
    "temperature_array[5]"
   ]
  },
  {
   "cell_type": "code",
   "execution_count": 44,
   "metadata": {
    "execution": {
     "iopub.execute_input": "2024-03-21T17:56:25.815224Z",
     "iopub.status.busy": "2024-03-21T17:56:25.814987Z",
     "iopub.status.idle": "2024-03-21T17:56:25.841868Z",
     "shell.execute_reply": "2024-03-21T17:56:25.840885Z"
    },
    "tags": [
     "raises-exception"
    ]
   },
   "outputs": [
    {
     "ename": "IndexError",
     "evalue": "index 6 is out of bounds for axis 0 with size 6",
     "output_type": "error",
     "traceback": [
      "\u001b[0;31m---------------------------------------------------------------------------\u001b[0m",
      "\u001b[0;31mIndexError\u001b[0m                                Traceback (most recent call last)",
      "Cell \u001b[0;32mIn[44], line 1\u001b[0m\n\u001b[0;32m----> 1\u001b[0m \u001b[43mtemperature_array\u001b[49m\u001b[43m[\u001b[49m\u001b[38;5;241;43m6\u001b[39;49m\u001b[43m]\u001b[49m\n",
      "\u001b[0;31mIndexError\u001b[0m: index 6 is out of bounds for axis 0 with size 6"
     ]
    }
   ],
   "source": [
    "temperature_array[6]"
   ]
  },
  {
   "cell_type": "code",
   "execution_count": 45,
   "metadata": {
    "execution": {
     "iopub.execute_input": "2024-03-21T17:56:25.847108Z",
     "iopub.status.busy": "2024-03-21T17:56:25.845757Z",
     "iopub.status.idle": "2024-03-21T17:56:25.851906Z",
     "shell.execute_reply": "2024-03-21T17:56:25.851306Z"
    }
   },
   "outputs": [
    {
     "data": {
      "text/plain": [
       "75"
      ]
     },
     "execution_count": 45,
     "metadata": {},
     "output_type": "execute_result"
    }
   ],
   "source": [
    "# If a position is negative, count from the end!\n",
    "temperature_array[-1]"
   ]
  },
  {
   "cell_type": "markdown",
   "metadata": {
    "slideshow": {
     "slide_type": "slide"
    }
   },
   "source": [
    "### Tipos\n",
    "\n",
    "Anteriormente nesta palestra, vimos que as listas podem armazenar elementos de vários tipos."
   ]
  },
  {
   "cell_type": "code",
   "execution_count": 46,
   "metadata": {
    "execution": {
     "iopub.execute_input": "2024-03-21T17:56:25.855040Z",
     "iopub.status.busy": "2024-03-21T17:56:25.854702Z",
     "iopub.status.idle": "2024-03-21T17:56:25.859217Z",
     "shell.execute_reply": "2024-03-21T17:56:25.858516Z"
    }
   },
   "outputs": [
    {
     "data": {
      "text/plain": [
       "['uc', 'sd', 1961, 3.14]"
      ]
     },
     "execution_count": 46,
     "metadata": {},
     "output_type": "execute_result"
    }
   ],
   "source": [
    "nums_and_strings_lst = ['uc', 'sd', 1961, 3.14]\n",
    "nums_and_strings_lst"
   ]
  },
  {
   "cell_type": "markdown",
   "metadata": {
    "slideshow": {
     "slide_type": "fragment"
    }
   },
   "source": [
    "**Isso não é verdade para arrays – todos os elementos de um array devem ser do mesmo tipo.**"
   ]
  },
  {
   "cell_type": "code",
   "execution_count": 47,
   "metadata": {
    "execution": {
     "iopub.execute_input": "2024-03-21T17:56:25.862461Z",
     "iopub.status.busy": "2024-03-21T17:56:25.862201Z",
     "iopub.status.idle": "2024-03-21T17:56:25.866971Z",
     "shell.execute_reply": "2024-03-21T17:56:25.866251Z"
    }
   },
   "outputs": [
    {
     "data": {
      "text/plain": [
       "array(['uc', 'sd', '1961', '3.14'], dtype='<U32')"
      ]
     },
     "execution_count": 47,
     "metadata": {},
     "output_type": "execute_result"
    }
   ],
   "source": [
    "# All elements are converted to strings!\n",
    "np.array(nums_and_strings_lst)"
   ]
  },
  {
   "cell_type": "markdown",
   "metadata": {
    "slideshow": {
     "slide_type": "slide"
    }
   },
   "source": [
    "### Aritmética de números de array\n",
    "\n",
    "As matrizes facilitam a execução da mesma operação em todos os elementos. Este comportamento é formalmente conhecido como \"transmissão\"."
   ]
  },
  {
   "cell_type": "code",
   "execution_count": 48,
   "metadata": {
    "execution": {
     "iopub.execute_input": "2024-03-21T17:56:25.869649Z",
     "iopub.status.busy": "2024-03-21T17:56:25.869140Z",
     "iopub.status.idle": "2024-03-21T17:56:25.873743Z",
     "shell.execute_reply": "2024-03-21T17:56:25.873046Z"
    }
   },
   "outputs": [
    {
     "data": {
      "text/plain": [
       "array([84, 78, 81, 75, 79, 75])"
      ]
     },
     "execution_count": 48,
     "metadata": {},
     "output_type": "execute_result"
    }
   ],
   "source": [
    "temperature_array"
   ]
  },
  {
   "cell_type": "code",
   "execution_count": 49,
   "metadata": {
    "execution": {
     "iopub.execute_input": "2024-03-21T17:56:25.876558Z",
     "iopub.status.busy": "2024-03-21T17:56:25.876283Z",
     "iopub.status.idle": "2024-03-21T17:56:25.881051Z",
     "shell.execute_reply": "2024-03-21T17:56:25.880382Z"
    }
   },
   "outputs": [
    {
     "data": {
      "text/plain": [
       "array([87, 81, 84, 78, 82, 78])"
      ]
     },
     "execution_count": 49,
     "metadata": {},
     "output_type": "execute_result"
    }
   ],
   "source": [
    "# Increase all temperatures by 3 degrees\n",
    "temperature_array + 3"
   ]
  },
  {
   "cell_type": "code",
   "execution_count": 50,
   "metadata": {
    "execution": {
     "iopub.execute_input": "2024-03-21T17:56:25.883982Z",
     "iopub.status.busy": "2024-03-21T17:56:25.883683Z",
     "iopub.status.idle": "2024-03-21T17:56:25.888255Z",
     "shell.execute_reply": "2024-03-21T17:56:25.887573Z"
    }
   },
   "outputs": [
    {
     "data": {
      "text/plain": [
       "array([42. , 39. , 40.5, 37.5, 39.5, 37.5])"
      ]
     },
     "execution_count": 50,
     "metadata": {},
     "output_type": "execute_result"
    }
   ],
   "source": [
    "# Halve all temperatures\n",
    "temperature_array / 2"
   ]
  },
  {
   "cell_type": "code",
   "execution_count": 51,
   "metadata": {
    "execution": {
     "iopub.execute_input": "2024-03-21T17:56:25.891072Z",
     "iopub.status.busy": "2024-03-21T17:56:25.890825Z",
     "iopub.status.idle": "2024-03-21T17:56:25.895476Z",
     "shell.execute_reply": "2024-03-21T17:56:25.894775Z"
    }
   },
   "outputs": [
    {
     "data": {
      "text/plain": [
       "array([28.88888889, 25.55555556, 27.22222222, 23.88888889, 26.11111111,\n",
       "       23.88888889])"
      ]
     },
     "execution_count": 51,
     "metadata": {},
     "output_type": "execute_result"
    }
   ],
   "source": [
    "# Convert all temperatures to Celsius\n",
    "(5 / 9) * (temperature_array - 32)"
   ]
  },
  {
   "cell_type": "markdown",
   "metadata": {
    "slideshow": {
     "slide_type": "fragment"
    }
   },
   "source": [
    "**Nota:** Em nenhuma das células acima modificamos `temperature_array`! Cada uma dessas expressões criou um novo array."
   ]
  },
  {
   "cell_type": "code",
   "execution_count": 52,
   "metadata": {
    "execution": {
     "iopub.execute_input": "2024-03-21T17:56:25.897988Z",
     "iopub.status.busy": "2024-03-21T17:56:25.897757Z",
     "iopub.status.idle": "2024-03-21T17:56:25.902100Z",
     "shell.execute_reply": "2024-03-21T17:56:25.901406Z"
    }
   },
   "outputs": [
    {
     "data": {
      "text/plain": [
       "array([84, 78, 81, 75, 79, 75])"
      ]
     },
     "execution_count": 52,
     "metadata": {},
     "output_type": "execute_result"
    }
   ],
   "source": [
    "temperature_array"
   ]
  },
  {
   "cell_type": "markdown",
   "metadata": {},
   "source": [
    "Para realmente alterar `temperature_array`, precisamos reatribuí-lo a um novo array."
   ]
  },
  {
   "cell_type": "code",
   "execution_count": 53,
   "metadata": {
    "execution": {
     "iopub.execute_input": "2024-03-21T17:56:25.904668Z",
     "iopub.status.busy": "2024-03-21T17:56:25.904374Z",
     "iopub.status.idle": "2024-03-21T17:56:25.907776Z",
     "shell.execute_reply": "2024-03-21T17:56:25.907178Z"
    }
   },
   "outputs": [],
   "source": [
    "temperature_array = (5 / 9) * (temperature_array - 32)"
   ]
  },
  {
   "cell_type": "code",
   "execution_count": 54,
   "metadata": {
    "execution": {
     "iopub.execute_input": "2024-03-21T17:56:25.910860Z",
     "iopub.status.busy": "2024-03-21T17:56:25.910518Z",
     "iopub.status.idle": "2024-03-21T17:56:25.915216Z",
     "shell.execute_reply": "2024-03-21T17:56:25.914527Z"
    }
   },
   "outputs": [
    {
     "data": {
      "text/plain": [
       "array([28.88888889, 25.55555556, 27.22222222, 23.88888889, 26.11111111,\n",
       "       23.88888889])"
      ]
     },
     "execution_count": 54,
     "metadata": {},
     "output_type": "execute_result"
    }
   ],
   "source": [
    "# Now in Celsius!\n",
    "temperature_array"
   ]
  },
  {
   "cell_type": "markdown",
   "metadata": {
    "slideshow": {
     "slide_type": "slide"
    }
   },
   "source": [
    "### Aritmética elemento a elemento\n",
    "\n",
    "- Podemos aplicar operações aritméticas a múltiplos arrays, desde que tenham o mesmo comprimento.\n",
    "- O resultado é calculado **por elemento**, o que significa que a operação aritmética é aplicada a um par de elementos de cada array por vez.\n",
    "- Por exemplo, `a + b` é um array cujo primeiro elemento é a soma do primeiro elemento de `a` e do primeiro elemento de `b`."
   ]
  },
  {
   "cell_type": "code",
   "execution_count": 55,
   "metadata": {
    "execution": {
     "iopub.execute_input": "2024-03-21T17:56:25.917865Z",
     "iopub.status.busy": "2024-03-21T17:56:25.917565Z",
     "iopub.status.idle": "2024-03-21T17:56:25.921373Z",
     "shell.execute_reply": "2024-03-21T17:56:25.920711Z"
    }
   },
   "outputs": [],
   "source": [
    "a = np.array([1, 2, 3])\n",
    "b = np.array([-4, 5, 9])"
   ]
  },
  {
   "cell_type": "code",
   "execution_count": 56,
   "metadata": {
    "execution": {
     "iopub.execute_input": "2024-03-21T17:56:25.924286Z",
     "iopub.status.busy": "2024-03-21T17:56:25.923993Z",
     "iopub.status.idle": "2024-03-21T17:56:25.928777Z",
     "shell.execute_reply": "2024-03-21T17:56:25.928052Z"
    }
   },
   "outputs": [
    {
     "data": {
      "text/plain": [
       "array([-3,  7, 12])"
      ]
     },
     "execution_count": 56,
     "metadata": {},
     "output_type": "execute_result"
    }
   ],
   "source": [
    "a + b"
   ]
  },
  {
   "cell_type": "code",
   "execution_count": 57,
   "metadata": {
    "execution": {
     "iopub.execute_input": "2024-03-21T17:56:25.931068Z",
     "iopub.status.busy": "2024-03-21T17:56:25.930821Z",
     "iopub.status.idle": "2024-03-21T17:56:25.935118Z",
     "shell.execute_reply": "2024-03-21T17:56:25.934405Z"
    }
   },
   "outputs": [
    {
     "data": {
      "text/plain": [
       "array([-0.25      ,  0.4       ,  0.33333333])"
      ]
     },
     "execution_count": 57,
     "metadata": {},
     "output_type": "execute_result"
    }
   ],
   "source": [
    "a / b"
   ]
  },
  {
   "cell_type": "code",
   "execution_count": 58,
   "metadata": {
    "execution": {
     "iopub.execute_input": "2024-03-21T17:56:25.938013Z",
     "iopub.status.busy": "2024-03-21T17:56:25.937708Z",
     "iopub.status.idle": "2024-03-21T17:56:25.942131Z",
     "shell.execute_reply": "2024-03-21T17:56:25.941472Z"
    }
   },
   "outputs": [
    {
     "data": {
      "text/plain": [
       "array([17, 29, 90])"
      ]
     },
     "execution_count": 58,
     "metadata": {},
     "output_type": "execute_result"
    }
   ],
   "source": [
    "a ** 2 + b ** 2"
   ]
  },
  {
   "cell_type": "markdown",
   "metadata": {
    "slideshow": {
     "slide_type": "slide"
    }
   },
   "source": [
    "### Exemplo: visualizações do TikTok 🎬\n",
    "\n",
    "Baby Panda fez uma série de cinco vídeos no TikTok chamada \"Um dia na vida de um mascote da ciência de dados\". O número de visualizações que eles receberam nesses vídeos é armazenado na matriz `views` abaixo."
   ]
  },
  {
   "cell_type": "code",
   "execution_count": 59,
   "metadata": {
    "execution": {
     "iopub.execute_input": "2024-03-21T17:56:25.945341Z",
     "iopub.status.busy": "2024-03-21T17:56:25.945080Z",
     "iopub.status.idle": "2024-03-21T17:56:25.948674Z",
     "shell.execute_reply": "2024-03-21T17:56:25.948046Z"
    }
   },
   "outputs": [],
   "source": [
    "views = np.array([158, 352, 195, 1423916, 46])"
   ]
  },
  {
   "cell_type": "markdown",
   "metadata": {},
   "source": [
    "Algumas perguntas:"
   ]
  },
  {
   "cell_type": "markdown",
   "metadata": {
    "slideshow": {
     "slide_type": "fragment"
    }
   },
   "source": [
    "Qual foi a contagem média de visualizações?"
   ]
  },
  {
   "cell_type": "code",
   "execution_count": 60,
   "metadata": {
    "execution": {
     "iopub.execute_input": "2024-03-21T17:56:25.951595Z",
     "iopub.status.busy": "2024-03-21T17:56:25.951204Z",
     "iopub.status.idle": "2024-03-21T17:56:25.955494Z",
     "shell.execute_reply": "2024-03-21T17:56:25.954794Z"
    }
   },
   "outputs": [
    {
     "data": {
      "text/plain": [
       "array([    158,     352,     195, 1423916,      46])"
      ]
     },
     "execution_count": 60,
     "metadata": {},
     "output_type": "execute_result"
    }
   ],
   "source": [
    "views"
   ]
  },
  {
   "cell_type": "code",
   "execution_count": 61,
   "metadata": {
    "execution": {
     "iopub.execute_input": "2024-03-21T17:56:25.957984Z",
     "iopub.status.busy": "2024-03-21T17:56:25.957726Z",
     "iopub.status.idle": "2024-03-21T17:56:25.962474Z",
     "shell.execute_reply": "2024-03-21T17:56:25.961780Z"
    }
   },
   "outputs": [
    {
     "data": {
      "text/plain": [
       "284933.4"
      ]
     },
     "execution_count": 61,
     "metadata": {},
     "output_type": "execute_result"
    }
   ],
   "source": [
    "sum(views) / len(views)"
   ]
  },
  {
   "cell_type": "code",
   "execution_count": 62,
   "metadata": {
    "execution": {
     "iopub.execute_input": "2024-03-21T17:56:25.965035Z",
     "iopub.status.busy": "2024-03-21T17:56:25.964775Z",
     "iopub.status.idle": "2024-03-21T17:56:25.969339Z",
     "shell.execute_reply": "2024-03-21T17:56:25.968752Z"
    }
   },
   "outputs": [
    {
     "data": {
      "text/plain": [
       "284933.4"
      ]
     },
     "execution_count": 62,
     "metadata": {},
     "output_type": "execute_result"
    }
   ],
   "source": [
    "# The mean method exists for arrays (but not for lists)\n",
    "views.mean()"
   ]
  },
  {
   "cell_type": "markdown",
   "metadata": {
    "slideshow": {
     "slide_type": "fragment"
    }
   },
   "source": [
    "Quantas visualizações seus vídeos mais e menos populares receberam?"
   ]
  },
  {
   "cell_type": "code",
   "execution_count": 63,
   "metadata": {
    "execution": {
     "iopub.execute_input": "2024-03-21T17:56:25.972224Z",
     "iopub.status.busy": "2024-03-21T17:56:25.971977Z",
     "iopub.status.idle": "2024-03-21T17:56:25.976171Z",
     "shell.execute_reply": "2024-03-21T17:56:25.975477Z"
    }
   },
   "outputs": [
    {
     "data": {
      "text/plain": [
       "array([    158,     352,     195, 1423916,      46])"
      ]
     },
     "execution_count": 63,
     "metadata": {},
     "output_type": "execute_result"
    }
   ],
   "source": [
    "views"
   ]
  },
  {
   "cell_type": "code",
   "execution_count": 64,
   "metadata": {
    "execution": {
     "iopub.execute_input": "2024-03-21T17:56:25.978814Z",
     "iopub.status.busy": "2024-03-21T17:56:25.978563Z",
     "iopub.status.idle": "2024-03-21T17:56:25.982781Z",
     "shell.execute_reply": "2024-03-21T17:56:25.982099Z"
    }
   },
   "outputs": [
    {
     "data": {
      "text/plain": [
       "1423916"
      ]
     },
     "execution_count": 64,
     "metadata": {},
     "output_type": "execute_result"
    }
   ],
   "source": [
    "views.max()"
   ]
  },
  {
   "cell_type": "code",
   "execution_count": 65,
   "metadata": {
    "execution": {
     "iopub.execute_input": "2024-03-21T17:56:25.985667Z",
     "iopub.status.busy": "2024-03-21T17:56:25.985371Z",
     "iopub.status.idle": "2024-03-21T17:56:25.989895Z",
     "shell.execute_reply": "2024-03-21T17:56:25.989212Z"
    }
   },
   "outputs": [
    {
     "data": {
      "text/plain": [
       "46"
      ]
     },
     "execution_count": 65,
     "metadata": {},
     "output_type": "execute_result"
    }
   ],
   "source": [
    "views.min()"
   ]
  },
  {
   "cell_type": "markdown",
   "metadata": {
    "slideshow": {
     "slide_type": "fragment"
    }
   },
   "source": [
    "Quantas visualizações **acima da média** cada um dos vídeos recebeu? Quantas visualizações acima da média o vídeo mais visto recebeu?"
   ]
  },
  {
   "cell_type": "code",
   "execution_count": 66,
   "metadata": {
    "execution": {
     "iopub.execute_input": "2024-03-21T17:56:25.992898Z",
     "iopub.status.busy": "2024-03-21T17:56:25.992643Z",
     "iopub.status.idle": "2024-03-21T17:56:25.997266Z",
     "shell.execute_reply": "2024-03-21T17:56:25.996603Z"
    }
   },
   "outputs": [
    {
     "data": {
      "text/plain": [
       "array([    158,     352,     195, 1423916,      46])"
      ]
     },
     "execution_count": 66,
     "metadata": {},
     "output_type": "execute_result"
    }
   ],
   "source": [
    "views"
   ]
  },
  {
   "cell_type": "code",
   "execution_count": 67,
   "metadata": {
    "execution": {
     "iopub.execute_input": "2024-03-21T17:56:26.000016Z",
     "iopub.status.busy": "2024-03-21T17:56:25.999761Z",
     "iopub.status.idle": "2024-03-21T17:56:26.004282Z",
     "shell.execute_reply": "2024-03-21T17:56:26.003599Z"
    }
   },
   "outputs": [
    {
     "data": {
      "text/plain": [
       "array([-284775.4, -284581.4, -284738.4, 1138982.6, -284887.4])"
      ]
     },
     "execution_count": 67,
     "metadata": {},
     "output_type": "execute_result"
    }
   ],
   "source": [
    "views - views.mean()"
   ]
  },
  {
   "cell_type": "code",
   "execution_count": 68,
   "metadata": {
    "execution": {
     "iopub.execute_input": "2024-03-21T17:56:26.006930Z",
     "iopub.status.busy": "2024-03-21T17:56:26.006497Z",
     "iopub.status.idle": "2024-03-21T17:56:26.011835Z",
     "shell.execute_reply": "2024-03-21T17:56:26.011099Z"
    }
   },
   "outputs": [
    {
     "data": {
      "text/plain": [
       "1138982.6"
      ]
     },
     "execution_count": 68,
     "metadata": {},
     "output_type": "execute_result"
    }
   ],
   "source": [
    "(views - views.mean()).max()"
   ]
  },
  {
   "cell_type": "markdown",
   "metadata": {
    "slideshow": {
     "slide_type": "fragment"
    }
   },
   "source": [
    "Foi [estimated](https://www.ngpf.org/blog/question-of-the-day/question-of-the-day-how-much-can-a-creator-on-tiktok-make-if-their-video-receives-1-million-views/) que o TikTok paga aos seus criadores \\\\$0,03 por 1000 visualizações. Se isso for verdade, quantos dólares o Bebê Panda ganhou com seu vídeo mais visto? 💸"
   ]
  },
  {
   "cell_type": "code",
   "execution_count": 69,
   "metadata": {
    "execution": {
     "iopub.execute_input": "2024-03-21T17:56:26.014357Z",
     "iopub.status.busy": "2024-03-21T17:56:26.014055Z",
     "iopub.status.idle": "2024-03-21T17:56:26.018290Z",
     "shell.execute_reply": "2024-03-21T17:56:26.017601Z"
    }
   },
   "outputs": [
    {
     "data": {
      "text/plain": [
       "array([    158,     352,     195, 1423916,      46])"
      ]
     },
     "execution_count": 69,
     "metadata": {},
     "output_type": "execute_result"
    }
   ],
   "source": [
    "views"
   ]
  },
  {
   "cell_type": "code",
   "execution_count": 70,
   "metadata": {
    "execution": {
     "iopub.execute_input": "2024-03-21T17:56:26.021224Z",
     "iopub.status.busy": "2024-03-21T17:56:26.020930Z",
     "iopub.status.idle": "2024-03-21T17:56:26.025264Z",
     "shell.execute_reply": "2024-03-21T17:56:26.024604Z"
    }
   },
   "outputs": [
    {
     "data": {
      "text/plain": [
       "42.717479999999995"
      ]
     },
     "execution_count": 70,
     "metadata": {},
     "output_type": "execute_result"
    }
   ],
   "source": [
    "views.max() * 0.03 / 1000"
   ]
  },
  {
   "cell_type": "markdown",
   "metadata": {
    "slideshow": {
     "slide_type": "slide"
    }
   },
   "source": [
    "## Gamas"
   ]
  },
  {
   "cell_type": "markdown",
   "metadata": {
    "slideshow": {
     "slide_type": "slide"
    }
   },
   "source": [
    "### Motivação\n",
    "\n",
    "Muitas vezes precisamos criar arrays como este:"
   ]
  },
  {
   "cell_type": "code",
   "execution_count": 71,
   "metadata": {
    "execution": {
     "iopub.execute_input": "2024-03-21T17:56:26.028168Z",
     "iopub.status.busy": "2024-03-21T17:56:26.027855Z",
     "iopub.status.idle": "2024-03-21T17:56:26.032343Z",
     "shell.execute_reply": "2024-03-21T17:56:26.031691Z"
    }
   },
   "outputs": [],
   "source": [
    "days_in_september = np.array([\n",
    "    1, 2, 3, 4, 5, 6, 7, 8, 9, 10, 11, 12, \n",
    "    13, 14, 15, 16, 17, 18, 19, 20, 21, 22, \n",
    "    23, 24, 25, 26, 27, 28, 29, 30\n",
    "])"
   ]
  },
  {
   "cell_type": "markdown",
   "metadata": {
    "slideshow": {
     "slide_type": "fragment"
    }
   },
   "source": [
    "Precisa haver uma maneira mais fácil de fazer isso!"
   ]
  },
  {
   "cell_type": "markdown",
   "metadata": {
    "slideshow": {
     "slide_type": "slide"
    }
   },
   "source": [
    "### Gamas\n",
    "* Um **intervalo** é uma matriz de números espaçados uniformemente. Criamos intervalos usando `np.arange`.\n",
    "* A maneira mais geral de criar um intervalo é `np.arange(start, end, step)`. Isso retorna uma matriz tal que:\n",
    "- O primeiro número é `start`. **Por padrão, `iniciar` é 0.**\n",
    "- Todos os números subsequentes são espaçados por `step`, até (mas excluindo) `end`. **Por padrão, `step` é 1.**"
   ]
  },
  {
   "cell_type": "code",
   "execution_count": 72,
   "metadata": {
    "execution": {
     "iopub.execute_input": "2024-03-21T17:56:26.035153Z",
     "iopub.status.busy": "2024-03-21T17:56:26.034948Z",
     "iopub.status.idle": "2024-03-21T17:56:26.039291Z",
     "shell.execute_reply": "2024-03-21T17:56:26.038620Z"
    }
   },
   "outputs": [
    {
     "data": {
      "text/plain": [
       "array([0, 1, 2, 3, 4, 5, 6, 7])"
      ]
     },
     "execution_count": 72,
     "metadata": {},
     "output_type": "execute_result"
    }
   ],
   "source": [
    "# Start at 0, end before 8, step by 1\n",
    "# This will be our most common use-case!\n",
    "np.arange(8)"
   ]
  },
  {
   "cell_type": "code",
   "execution_count": 73,
   "metadata": {
    "execution": {
     "iopub.execute_input": "2024-03-21T17:56:26.042135Z",
     "iopub.status.busy": "2024-03-21T17:56:26.041894Z",
     "iopub.status.idle": "2024-03-21T17:56:26.048096Z",
     "shell.execute_reply": "2024-03-21T17:56:26.047207Z"
    }
   },
   "outputs": [
    {
     "data": {
      "text/plain": [
       "array([5, 6, 7, 8, 9])"
      ]
     },
     "execution_count": 73,
     "metadata": {},
     "output_type": "execute_result"
    }
   ],
   "source": [
    "# Start at 5, end before 10, step by 1\n",
    "np.arange(5, 10)"
   ]
  },
  {
   "cell_type": "code",
   "execution_count": 74,
   "metadata": {
    "execution": {
     "iopub.execute_input": "2024-03-21T17:56:26.052134Z",
     "iopub.status.busy": "2024-03-21T17:56:26.051816Z",
     "iopub.status.idle": "2024-03-21T17:56:26.057083Z",
     "shell.execute_reply": "2024-03-21T17:56:26.056349Z"
    }
   },
   "outputs": [
    {
     "data": {
      "text/plain": [
       "array([ 3,  8, 13, 18, 23, 28])"
      ]
     },
     "execution_count": 74,
     "metadata": {},
     "output_type": "execute_result"
    }
   ],
   "source": [
    "# Start at 3, end before 32, step by 5\n",
    "np.arange(3, 32, 5)"
   ]
  },
  {
   "cell_type": "code",
   "execution_count": 75,
   "metadata": {
    "execution": {
     "iopub.execute_input": "2024-03-21T17:56:26.060369Z",
     "iopub.status.busy": "2024-03-21T17:56:26.060016Z",
     "iopub.status.idle": "2024-03-21T17:56:26.065597Z",
     "shell.execute_reply": "2024-03-21T17:56:26.064783Z"
    }
   },
   "outputs": [
    {
     "data": {
      "text/plain": [
       "array([-3. , -2.5, -2. , -1.5, -1. , -0.5,  0. ,  0.5,  1. ,  1.5])"
      ]
     },
     "execution_count": 75,
     "metadata": {},
     "output_type": "execute_result"
    }
   ],
   "source": [
    "# Steps can be fractional!\n",
    "np.arange(-3, 2, 0.5)"
   ]
  },
  {
   "cell_type": "code",
   "execution_count": 76,
   "metadata": {
    "execution": {
     "iopub.execute_input": "2024-03-21T17:56:26.068970Z",
     "iopub.status.busy": "2024-03-21T17:56:26.068573Z",
     "iopub.status.idle": "2024-03-21T17:56:26.074085Z",
     "shell.execute_reply": "2024-03-21T17:56:26.073362Z"
    }
   },
   "outputs": [
    {
     "data": {
      "text/plain": [
       "array([ 1, -2, -5, -8])"
      ]
     },
     "execution_count": 76,
     "metadata": {},
     "output_type": "execute_result"
    }
   ],
   "source": [
    "# If step is negative, we count backwards.\n",
    "np.arange(1, -10, -3)"
   ]
  },
  {
   "cell_type": "markdown",
   "metadata": {
    "slideshow": {
     "slide_type": "slide"
    }
   },
   "source": [
    "### Atividade\n",
    "\n",
    "🎉 Parabéns! 🎉 Você ganhou na loteria 💰. Veja como funciona o seu pagamento: no primeiro dia de setembro, você receberá 0,01. A cada dia seguinte, seu salário dobra, então no segundo dia você recebe 0,02, no terceiro dia você recebe 0,04, no quarto dia você recebe 0,08 e assim por diante.\n",
    "\n",
    "Setembro tem 30 dias.\n",
    "\n",
    "Escreva uma **expressão de uma linha** que use os números `2` e `30`, junto com a função `np.arange` e o método `.sum()`, que calcula o valor total **em dólares** você será pago em setembro."
   ]
  },
  {
   "cell_type": "code",
   "execution_count": 77,
   "metadata": {
    "execution": {
     "iopub.execute_input": "2024-03-21T17:56:26.077512Z",
     "iopub.status.busy": "2024-03-21T17:56:26.077236Z",
     "iopub.status.idle": "2024-03-21T17:56:26.081700Z",
     "shell.execute_reply": "2024-03-21T17:56:26.080960Z"
    }
   },
   "outputs": [
    {
     "data": {
      "text/plain": [
       "Ellipsis"
      ]
     },
     "execution_count": 77,
     "metadata": {},
     "output_type": "execute_result"
    }
   ],
   "source": [
    "..."
   ]
  },
  {
   "cell_type": "markdown",
   "metadata": {
    "slideshow": {
     "slide_type": "slide"
    }
   },
   "source": [
    "## Resumo, da próxima vez"
   ]
  },
  {
   "cell_type": "markdown",
   "metadata": {
    "slideshow": {
     "slide_type": "slide"
    }
   },
   "source": [
    "### Resumo\n",
    "\n",
    "- Strings são usadas para armazenar texto. Coloque-os entre aspas simples ou duplas.\n",
    "- Listas e arrays são usados ​​para armazenar **sequências**.\n",
    "- Matrizes são mais rápidas e convenientes para operações numéricas.\n",
    "- Você pode executar facilmente operações numéricas em todos os elementos de um array e realizar operações em vários arrays.\n",
    "- Os intervalos são matrizes de números igualmente espaçados.\n",
    "- Lembre-se de consultar os recursos desde o início da palestra!"
   ]
  },
  {
   "cell_type": "markdown",
   "metadata": {
    "slideshow": {
     "slide_type": "slide"
    }
   },
   "source": [
    "### Próxima vez\n",
    "\n",
    "Aprenderemos como usar Python para trabalhar com dados tabulares do mundo real."
   ]
  }
 ],
 "metadata": {
  "kernelspec": {
   "display_name": "Python 3 (ipykernel)",
   "language": "python",
   "name": "python3"
  },
  "language_info": {
   "codemirror_mode": {
    "name": "ipython",
    "version": 3
   },
   "file_extension": ".py",
   "mimetype": "text/x-python",
   "name": "python",
   "nbconvert_exporter": "python",
   "pygments_lexer": "ipython3",
   "version": "3.11.2"
  },
  "livereveal": {
   "scroll": true,
   "transition": "none"
  },
  "rise": {
   "enable_chalkboard": true
  }
 },
 "nbformat": 4,
 "nbformat_minor": 2
}
