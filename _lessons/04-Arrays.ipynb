{
 "cells": [
  {
   "cell_type": "markdown",
   "metadata": {
    "slideshow": {
     "slide_type": "slide"
    }
   },
   "source": [
    "---\n",
    "layout: page\n",
    "title: Strings e Arrays\n",
    "nav_order: 4\n",
    "---\n",
    "[<img src=\"https://raw.githubusercontent.com/flaviovdf/fcd/master/assets/colab_favicon_small.png\" style=\"float: right;\">](https://colab.research.google.com/github/flaviovdf/fcd/blob/master/_lessons/04-Arrays.ipynb)\n",
    "\n",
    "# Tópico 4 - Strings e Arrays\n",
    "{: .no_toc .mb-2 }\n",
    "\n",
    "Vetores (Arrays) representam um conjunto básico de dados. Vamos aprender como usar os mesmos.\n",
    "{: .fs-6 .fw-300 }\n",
    "\n",
    "{: .no_toc .text-delta }\n",
    "Resultados Esperados\n",
    "\n",
    "1. Entender tipos em Python, em particular a String\n",
    "1. Saber o que é a biblioteca [numpy](https://numpy.org/)\n",
    "1. Conhecimento básico de manipulação de arrays\n",
    "\n",
    "{: .no_toc .text-delta }\n",
    "Material Adaptador do [DSC10 (UCSD)](https://dsc10.com/)"
   ]
  },
  {
   "cell_type": "markdown",
   "metadata": {
    "slideshow": {
     "slide_type": "slide"
    }
   },
   "source": [
    "### Recursos 🤝\n",
    "\n",
    "- Estamos cobrindo **muito** conteúdo muito rapidamente. Se você está sobrecarregado, saiba que estamos aqui para apoiá-lo!\n",
    "- Os monitores foram definidos. Olhem a mensagem no moodle.\n",
    "- Procurem o professor depois da aula!"
   ]
  },
  {
   "cell_type": "markdown",
   "metadata": {
    "slideshow": {
     "slide_type": "slide"
    }
   },
   "source": [
    "### Agenda\n",
    "\n",
    "- Strings\n",
    "- Listas.\n",
    "- Matrizes.\n",
    "- Intervalos."
   ]
  },
  {
   "cell_type": "markdown",
   "metadata": {
    "slideshow": {
     "slide_type": "slide"
    }
   },
   "source": [
    "## Strings ou Texto"
   ]
  },
  {
   "cell_type": "markdown",
   "metadata": {
    "slideshow": {
     "slide_type": "slide"
    }
   },
   "source": [
    "### Strings\n",
    "\n",
    "- Uma string é um trecho de texto de qualquer comprimento.\n",
    "- Em Python, as strings são colocadas entre aspas simples ou duplas."
   ]
  },
  {
   "cell_type": "code",
   "execution_count": 1,
   "metadata": {
    "execution": {
     "iopub.execute_input": "2024-04-02T17:43:52.378803Z",
     "iopub.status.busy": "2024-04-02T17:43:52.377394Z",
     "iopub.status.idle": "2024-04-02T17:43:52.401102Z",
     "shell.execute_reply": "2024-04-02T17:43:52.399142Z"
    }
   },
   "outputs": [
    {
     "data": {
      "text/plain": [
       "'woof'"
      ]
     },
     "execution_count": 1,
     "metadata": {},
     "output_type": "execute_result"
    }
   ],
   "source": [
    "'woof'"
   ]
  },
  {
   "cell_type": "code",
   "execution_count": 2,
   "metadata": {
    "execution": {
     "iopub.execute_input": "2024-04-02T17:43:52.445355Z",
     "iopub.status.busy": "2024-04-02T17:43:52.445153Z",
     "iopub.status.idle": "2024-04-02T17:43:52.449579Z",
     "shell.execute_reply": "2024-04-02T17:43:52.448860Z"
    }
   },
   "outputs": [
    {
     "data": {
      "text/plain": [
       "str"
      ]
     },
     "execution_count": 2,
     "metadata": {},
     "output_type": "execute_result"
    }
   ],
   "source": [
    "type('woof')"
   ]
  },
  {
   "cell_type": "code",
   "execution_count": 3,
   "metadata": {
    "execution": {
     "iopub.execute_input": "2024-04-02T17:43:52.452041Z",
     "iopub.status.busy": "2024-04-02T17:43:52.451836Z",
     "iopub.status.idle": "2024-04-02T17:43:52.455912Z",
     "shell.execute_reply": "2024-04-02T17:43:52.455206Z"
    },
    "scrolled": true
   },
   "outputs": [
    {
     "data": {
      "text/plain": [
       "'woof'"
      ]
     },
     "execution_count": 3,
     "metadata": {},
     "output_type": "execute_result"
    }
   ],
   "source": [
    "\"woof\""
   ]
  },
  {
   "cell_type": "code",
   "execution_count": 4,
   "metadata": {
    "execution": {
     "iopub.execute_input": "2024-04-02T17:43:52.458681Z",
     "iopub.status.busy": "2024-04-02T17:43:52.458424Z",
     "iopub.status.idle": "2024-04-02T17:43:52.462982Z",
     "shell.execute_reply": "2024-04-02T17:43:52.462316Z"
    }
   },
   "outputs": [
    {
     "data": {
      "text/plain": [
       "'1998'"
      ]
     },
     "execution_count": 4,
     "metadata": {},
     "output_type": "execute_result"
    }
   ],
   "source": [
    "# A string, not an int!\n",
    "\"1998\""
   ]
  },
  {
   "cell_type": "markdown",
   "metadata": {
    "slideshow": {
     "slide_type": "slide"
    }
   },
   "source": [
    "### Aritmética de strings\n",
    "\n",
    "Ao usar o símbolo `+` entre duas strings, a operação é chamada de \"concatenação\"."
   ]
  },
  {
   "cell_type": "code",
   "execution_count": 5,
   "metadata": {
    "execution": {
     "iopub.execute_input": "2024-04-02T17:43:52.466036Z",
     "iopub.status.busy": "2024-04-02T17:43:52.465824Z",
     "iopub.status.idle": "2024-04-02T17:43:52.468977Z",
     "shell.execute_reply": "2024-04-02T17:43:52.468310Z"
    }
   },
   "outputs": [],
   "source": [
    "s1 = 'baby'\n",
    "s2 = '🐼'"
   ]
  },
  {
   "cell_type": "code",
   "execution_count": 6,
   "metadata": {
    "execution": {
     "iopub.execute_input": "2024-04-02T17:43:52.472067Z",
     "iopub.status.busy": "2024-04-02T17:43:52.471802Z",
     "iopub.status.idle": "2024-04-02T17:43:52.476948Z",
     "shell.execute_reply": "2024-04-02T17:43:52.476279Z"
    }
   },
   "outputs": [
    {
     "data": {
      "text/plain": [
       "'baby🐼'"
      ]
     },
     "execution_count": 6,
     "metadata": {},
     "output_type": "execute_result"
    }
   ],
   "source": [
    "s1 + s2"
   ]
  },
  {
   "cell_type": "code",
   "execution_count": 7,
   "metadata": {
    "execution": {
     "iopub.execute_input": "2024-04-02T17:43:52.479916Z",
     "iopub.status.busy": "2024-04-02T17:43:52.479469Z",
     "iopub.status.idle": "2024-04-02T17:43:52.483607Z",
     "shell.execute_reply": "2024-04-02T17:43:52.482910Z"
    }
   },
   "outputs": [
    {
     "data": {
      "text/plain": [
       "'baby 🐼'"
      ]
     },
     "execution_count": 7,
     "metadata": {},
     "output_type": "execute_result"
    }
   ],
   "source": [
    "s1 + ' ' + s2"
   ]
  },
  {
   "cell_type": "code",
   "execution_count": 8,
   "metadata": {
    "execution": {
     "iopub.execute_input": "2024-04-02T17:43:52.486560Z",
     "iopub.status.busy": "2024-04-02T17:43:52.486260Z",
     "iopub.status.idle": "2024-04-02T17:43:52.490941Z",
     "shell.execute_reply": "2024-04-02T17:43:52.490137Z"
    }
   },
   "outputs": [
    {
     "data": {
      "text/plain": [
       "'🐼🐼🐼'"
      ]
     },
     "execution_count": 8,
     "metadata": {},
     "output_type": "execute_result"
    }
   ],
   "source": [
    "s2 * 3"
   ]
  },
  {
   "cell_type": "markdown",
   "metadata": {
    "slideshow": {
     "slide_type": "slide"
    }
   },
   "source": [
    "### Métodos de string\n",
    "* Strings estão associadas a certas funções chamadas **métodos de string**.\n",
    "* Acesse métodos de string com um `.` após a string (\"notação de ponto\").\n",
    "* Por exemplo, para usar o método `upper` na string `s`, escrevemos `s.upper()`.\n",
    "* Exemplos incluem `upper`, `title` e `replace`."
   ]
  },
  {
   "cell_type": "code",
   "execution_count": 9,
   "metadata": {
    "execution": {
     "iopub.execute_input": "2024-04-02T17:43:52.494079Z",
     "iopub.status.busy": "2024-04-02T17:43:52.493822Z",
     "iopub.status.idle": "2024-04-02T17:43:52.497309Z",
     "shell.execute_reply": "2024-04-02T17:43:52.496576Z"
    }
   },
   "outputs": [],
   "source": [
    "my_cool_string = 'data science is super cool!'"
   ]
  },
  {
   "cell_type": "code",
   "execution_count": 10,
   "metadata": {
    "execution": {
     "iopub.execute_input": "2024-04-02T17:43:52.500639Z",
     "iopub.status.busy": "2024-04-02T17:43:52.500117Z",
     "iopub.status.idle": "2024-04-02T17:43:52.504730Z",
     "shell.execute_reply": "2024-04-02T17:43:52.504048Z"
    }
   },
   "outputs": [
    {
     "data": {
      "text/plain": [
       "'Data Science Is Super Cool!'"
      ]
     },
     "execution_count": 10,
     "metadata": {},
     "output_type": "execute_result"
    }
   ],
   "source": [
    "my_cool_string.title()"
   ]
  },
  {
   "cell_type": "code",
   "execution_count": 11,
   "metadata": {
    "execution": {
     "iopub.execute_input": "2024-04-02T17:43:52.507927Z",
     "iopub.status.busy": "2024-04-02T17:43:52.507536Z",
     "iopub.status.idle": "2024-04-02T17:43:52.511988Z",
     "shell.execute_reply": "2024-04-02T17:43:52.511274Z"
    }
   },
   "outputs": [
    {
     "data": {
      "text/plain": [
       "'DATA SCIENCE IS SUPER COOL!'"
      ]
     },
     "execution_count": 11,
     "metadata": {},
     "output_type": "execute_result"
    }
   ],
   "source": [
    "my_cool_string.upper()"
   ]
  },
  {
   "cell_type": "code",
   "execution_count": 12,
   "metadata": {
    "execution": {
     "iopub.execute_input": "2024-04-02T17:43:52.514529Z",
     "iopub.status.busy": "2024-04-02T17:43:52.514231Z",
     "iopub.status.idle": "2024-04-02T17:43:52.518620Z",
     "shell.execute_reply": "2024-04-02T17:43:52.518028Z"
    }
   },
   "outputs": [
    {
     "data": {
      "text/plain": [
       "'data science is 💯💯💯!'"
      ]
     },
     "execution_count": 12,
     "metadata": {},
     "output_type": "execute_result"
    }
   ],
   "source": [
    "my_cool_string.replace('super cool', '💯' * 3)"
   ]
  },
  {
   "cell_type": "code",
   "execution_count": 13,
   "metadata": {
    "execution": {
     "iopub.execute_input": "2024-04-02T17:43:52.521548Z",
     "iopub.status.busy": "2024-04-02T17:43:52.521151Z",
     "iopub.status.idle": "2024-04-02T17:43:52.525725Z",
     "shell.execute_reply": "2024-04-02T17:43:52.525147Z"
    }
   },
   "outputs": [
    {
     "data": {
      "text/plain": [
       "27"
      ]
     },
     "execution_count": 13,
     "metadata": {},
     "output_type": "execute_result"
    }
   ],
   "source": [
    "# len is not a method, since it doesn't use dot notation\n",
    "len(my_cool_string)"
   ]
  },
  {
   "cell_type": "markdown",
   "metadata": {
    "slideshow": {
     "slide_type": "slide"
    }
   },
   "source": [
    "### Caracteres especiais em strings\n",
    "\n",
    "Aspas simples e aspas duplas geralmente são intercambiáveis, exceto quando a própria string contém aspas simples ou duplas."
   ]
  },
  {
   "cell_type": "code",
   "execution_count": 14,
   "metadata": {
    "execution": {
     "iopub.execute_input": "2024-04-02T17:43:52.528796Z",
     "iopub.status.busy": "2024-04-02T17:43:52.528417Z",
     "iopub.status.idle": "2024-04-02T17:43:52.531542Z",
     "shell.execute_reply": "2024-04-02T17:43:52.530884Z"
    },
    "tags": [
     "raises-exception"
    ]
   },
   "outputs": [],
   "source": [
    "# a linha abaixo gera um erro, descomente e teste\n",
    "# 'my string's full of apostrophes!'"
   ]
  },
  {
   "cell_type": "code",
   "execution_count": 15,
   "metadata": {
    "execution": {
     "iopub.execute_input": "2024-04-02T17:43:52.535283Z",
     "iopub.status.busy": "2024-04-02T17:43:52.534881Z",
     "iopub.status.idle": "2024-04-02T17:43:52.539380Z",
     "shell.execute_reply": "2024-04-02T17:43:52.538771Z"
    }
   },
   "outputs": [
    {
     "data": {
      "text/plain": [
       "\"my string's full of apostrophes!\""
      ]
     },
     "execution_count": 15,
     "metadata": {},
     "output_type": "execute_result"
    }
   ],
   "source": [
    "\"my string's full of apostrophes!\""
   ]
  },
  {
   "cell_type": "code",
   "execution_count": 16,
   "metadata": {
    "execution": {
     "iopub.execute_input": "2024-04-02T17:43:52.542443Z",
     "iopub.status.busy": "2024-04-02T17:43:52.541970Z",
     "iopub.status.idle": "2024-04-02T17:43:52.545839Z",
     "shell.execute_reply": "2024-04-02T17:43:52.545211Z"
    }
   },
   "outputs": [
    {
     "data": {
      "text/plain": [
       "'my string\\'s \"full\" of apostrophes!'"
      ]
     },
     "execution_count": 16,
     "metadata": {},
     "output_type": "execute_result"
    }
   ],
   "source": [
    "# escape the apostrophe with a backslash!\n",
    "'my string\\'s \"full\" of apostrophes!'"
   ]
  },
  {
   "cell_type": "code",
   "execution_count": 17,
   "metadata": {
    "execution": {
     "iopub.execute_input": "2024-04-02T17:43:52.548704Z",
     "iopub.status.busy": "2024-04-02T17:43:52.548409Z",
     "iopub.status.idle": "2024-04-02T17:43:52.552290Z",
     "shell.execute_reply": "2024-04-02T17:43:52.551583Z"
    }
   },
   "outputs": [
    {
     "name": "stdout",
     "output_type": "stream",
     "text": [
      "my string's \"full\" of apostrophes!\n"
     ]
    }
   ],
   "source": [
    "print('my string\\'s \"full\" of apostrophes!')"
   ]
  },
  {
   "cell_type": "markdown",
   "metadata": {
    "slideshow": {
     "slide_type": "slide"
    }
   },
   "source": [
    "### Além: `print`\n",
    "- Por padrão, os notebooks Jupyter exibem o valor \"bruto\" da expressão da última linha de uma célula.\n",
    "- A função `print` exibe o valor em texto legível quando é avaliado."
   ]
  },
  {
   "cell_type": "code",
   "execution_count": 18,
   "metadata": {
    "execution": {
     "iopub.execute_input": "2024-04-02T17:43:52.555115Z",
     "iopub.status.busy": "2024-04-02T17:43:52.554866Z",
     "iopub.status.idle": "2024-04-02T17:43:52.559261Z",
     "shell.execute_reply": "2024-04-02T17:43:52.558572Z"
    }
   },
   "outputs": [
    {
     "data": {
      "text/plain": [
       "23"
      ]
     },
     "execution_count": 18,
     "metadata": {},
     "output_type": "execute_result"
    }
   ],
   "source": [
    "12 # 12 won't be displayed, since Python only shows the value of the last expression\n",
    "23"
   ]
  },
  {
   "cell_type": "code",
   "execution_count": 19,
   "metadata": {
    "execution": {
     "iopub.execute_input": "2024-04-02T17:43:52.562390Z",
     "iopub.status.busy": "2024-04-02T17:43:52.561896Z",
     "iopub.status.idle": "2024-04-02T17:43:52.565833Z",
     "shell.execute_reply": "2024-04-02T17:43:52.565183Z"
    }
   },
   "outputs": [
    {
     "name": "stdout",
     "output_type": "stream",
     "text": [
      "12\n",
      "23\n"
     ]
    }
   ],
   "source": [
    "# Note, there is no Out[number] to the left! That only appears when displaying a non-printed value.\n",
    "# But both 12 and 23 are displayed.\n",
    "print(12)\n",
    "print(23)"
   ]
  },
  {
   "cell_type": "code",
   "execution_count": 20,
   "metadata": {
    "execution": {
     "iopub.execute_input": "2024-04-02T17:43:52.568308Z",
     "iopub.status.busy": "2024-04-02T17:43:52.568024Z",
     "iopub.status.idle": "2024-04-02T17:43:52.572118Z",
     "shell.execute_reply": "2024-04-02T17:43:52.571451Z"
    }
   },
   "outputs": [
    {
     "data": {
      "text/plain": [
       "'here is a string with two lines.\\nhere is the second line'"
      ]
     },
     "execution_count": 20,
     "metadata": {},
     "output_type": "execute_result"
    }
   ],
   "source": [
    "# '\\n' inserts a new line\n",
    "my_newline_str = 'here is a string with two lines.\\nhere is the second line'  \n",
    "my_newline_str"
   ]
  },
  {
   "cell_type": "code",
   "execution_count": 21,
   "metadata": {
    "execution": {
     "iopub.execute_input": "2024-04-02T17:43:52.574901Z",
     "iopub.status.busy": "2024-04-02T17:43:52.574600Z",
     "iopub.status.idle": "2024-04-02T17:43:52.578241Z",
     "shell.execute_reply": "2024-04-02T17:43:52.577557Z"
    }
   },
   "outputs": [
    {
     "name": "stdout",
     "output_type": "stream",
     "text": [
      "here is a string with two lines.\n",
      "here is the second line\n"
     ]
    }
   ],
   "source": [
    "# The quotes disappeared and the newline is rendered!\n",
    "print(my_newline_str)  "
   ]
  },
  {
   "cell_type": "markdown",
   "metadata": {
    "slideshow": {
     "slide_type": "slide"
    }
   },
   "source": [
    "### Conversão de tipo de e para strings\n",
    "* Qualquer valor pode ser convertido em uma string usando ```str```.\n",
    "* Algumas strings podem ser convertidas para ```int``` e ```float```."
   ]
  },
  {
   "cell_type": "code",
   "execution_count": 22,
   "metadata": {
    "execution": {
     "iopub.execute_input": "2024-04-02T17:43:52.580649Z",
     "iopub.status.busy": "2024-04-02T17:43:52.580411Z",
     "iopub.status.idle": "2024-04-02T17:43:52.584455Z",
     "shell.execute_reply": "2024-04-02T17:43:52.583858Z"
    }
   },
   "outputs": [
    {
     "data": {
      "text/plain": [
       "'3'"
      ]
     },
     "execution_count": 22,
     "metadata": {},
     "output_type": "execute_result"
    }
   ],
   "source": [
    "str(3)"
   ]
  },
  {
   "cell_type": "code",
   "execution_count": 23,
   "metadata": {
    "execution": {
     "iopub.execute_input": "2024-04-02T17:43:52.586901Z",
     "iopub.status.busy": "2024-04-02T17:43:52.586610Z",
     "iopub.status.idle": "2024-04-02T17:43:52.591421Z",
     "shell.execute_reply": "2024-04-02T17:43:52.590666Z"
    }
   },
   "outputs": [
    {
     "data": {
      "text/plain": [
       "3.0"
      ]
     },
     "execution_count": 23,
     "metadata": {},
     "output_type": "execute_result"
    }
   ],
   "source": [
    "float('3')"
   ]
  },
  {
   "cell_type": "code",
   "execution_count": 24,
   "metadata": {
    "execution": {
     "iopub.execute_input": "2024-04-02T17:43:52.594261Z",
     "iopub.status.busy": "2024-04-02T17:43:52.594027Z",
     "iopub.status.idle": "2024-04-02T17:43:52.598190Z",
     "shell.execute_reply": "2024-04-02T17:43:52.597533Z"
    }
   },
   "outputs": [
    {
     "data": {
      "text/plain": [
       "4"
      ]
     },
     "execution_count": 24,
     "metadata": {},
     "output_type": "execute_result"
    }
   ],
   "source": [
    "int('4')"
   ]
  },
  {
   "cell_type": "code",
   "execution_count": 25,
   "metadata": {
    "execution": {
     "iopub.execute_input": "2024-04-02T17:43:52.601152Z",
     "iopub.status.busy": "2024-04-02T17:43:52.600710Z",
     "iopub.status.idle": "2024-04-02T17:43:52.744788Z",
     "shell.execute_reply": "2024-04-02T17:43:52.744174Z"
    },
    "scrolled": false,
    "tags": [
     "raises-exception"
    ]
   },
   "outputs": [
    {
     "ename": "ValueError",
     "evalue": "invalid literal for int() with base 10: 'baby panda'",
     "output_type": "error",
     "traceback": [
      "\u001b[0;31m---------------------------------------------------------------------------\u001b[0m",
      "\u001b[0;31mValueError\u001b[0m                                Traceback (most recent call last)",
      "Cell \u001b[0;32mIn[25], line 1\u001b[0m\n\u001b[0;32m----> 1\u001b[0m \u001b[38;5;28;43mint\u001b[39;49m\u001b[43m(\u001b[49m\u001b[38;5;124;43m'\u001b[39;49m\u001b[38;5;124;43mbaby panda\u001b[39;49m\u001b[38;5;124;43m'\u001b[39;49m\u001b[43m)\u001b[49m\n",
      "\u001b[0;31mValueError\u001b[0m: invalid literal for int() with base 10: 'baby panda'"
     ]
    }
   ],
   "source": [
    "int('baby panda')"
   ]
  },
  {
   "cell_type": "markdown",
   "metadata": {
    "slideshow": {
     "slide_type": "slide"
    }
   },
   "source": [
    "### Verificação de conceito ✅\n",
    "\n",
    "Suponha que você executou as seguintes instruções:\n",
    "\n",
    "```py\n",
    "x = 3\n",
    "y = '4'\n",
    "z = '5.6'\n",
    "```\n",
    "\n",
    "Escolha a expressão que será avaliada **sem** erro.\n",
    "\n",
    "R. `x + y`\n",
    "\n",
    "B. `x + int(y + z)`\n",
    "\n",
    "C.`str(x) + int(y)`\n",
    "\n",
    "D. `str (x) + z`\n",
    "\n",
    "E. Todos eles têm erros"
   ]
  },
  {
   "cell_type": "markdown",
   "metadata": {
    "slideshow": {
     "slide_type": "slide"
    }
   },
   "source": [
    "## Listas"
   ]
  },
  {
   "cell_type": "markdown",
   "metadata": {
    "slideshow": {
     "slide_type": "slide"
    }
   },
   "source": [
    "### Motivação\n",
    "\n",
    "Como armazenaríamos as temperaturas de cada um dos primeiros 6 dias do mês de setembro?\n",
    "\n",
    "Nossa melhor solução agora é criar uma variável separada para cada dia."
   ]
  },
  {
   "cell_type": "code",
   "execution_count": 26,
   "metadata": {
    "execution": {
     "iopub.execute_input": "2024-04-02T17:43:52.747865Z",
     "iopub.status.busy": "2024-04-02T17:43:52.747619Z",
     "iopub.status.idle": "2024-04-02T17:43:52.751456Z",
     "shell.execute_reply": "2024-04-02T17:43:52.750519Z"
    },
    "slideshow": {
     "slide_type": "fragment"
    }
   },
   "outputs": [],
   "source": [
    "temperature_on_sept_01 = 84\n",
    "temperature_on_sept_02 = 78\n",
    "temperature_on_sept_03 = 81\n",
    "temperature_on_sept_04 = 75\n",
    "temperature_on_sept_05 = 79\n",
    "temperature_on_sept_06 = 75"
   ]
  },
  {
   "cell_type": "markdown",
   "metadata": {
    "slideshow": {
     "slide_type": "fragment"
    }
   },
   "source": [
    "Isso _tecnicamente_ nos permite fazer coisas como calcular a temperatura média durante os primeiros 6 dias:"
   ]
  },
  {
   "cell_type": "markdown",
   "metadata": {
    "slideshow": {
     "slide_type": "-"
    }
   },
   "source": [
    "```\n",
    "avg_temperature = 1/6 * (\n",
    "    temperature_on_sept_01\n",
    "    + temperature_on_sept_02\n",
    "    + temperature_on_sept_03\n",
    "    + ...)\n",
    "```"
   ]
  },
  {
   "cell_type": "markdown",
   "metadata": {},
   "source": [
    "Imagine os dados de um mês inteiro ou os dados de um ano inteiro. Parece que precisamos de uma solução melhor.\n"
   ]
  },
  {
   "cell_type": "markdown",
   "metadata": {
    "slideshow": {
     "slide_type": "slide"
    }
   },
   "source": [
    "### Listas em Python\n",
    "\n",
    "Em Python, uma lista é usada para armazenar vários valores em um único valor/variável. Para criar uma nova lista do zero, usamos `[`colchetes`]`.\n"
   ]
  },
  {
   "cell_type": "code",
   "execution_count": 27,
   "metadata": {
    "execution": {
     "iopub.execute_input": "2024-04-02T17:43:52.754796Z",
     "iopub.status.busy": "2024-04-02T17:43:52.754398Z",
     "iopub.status.idle": "2024-04-02T17:43:52.757866Z",
     "shell.execute_reply": "2024-04-02T17:43:52.757067Z"
    }
   },
   "outputs": [],
   "source": [
    "temperature_list = [84, 78, 81, 75, 79, 75]"
   ]
  },
  {
   "cell_type": "code",
   "execution_count": 28,
   "metadata": {
    "execution": {
     "iopub.execute_input": "2024-04-02T17:43:52.760781Z",
     "iopub.status.busy": "2024-04-02T17:43:52.760524Z",
     "iopub.status.idle": "2024-04-02T17:43:52.765241Z",
     "shell.execute_reply": "2024-04-02T17:43:52.764533Z"
    }
   },
   "outputs": [
    {
     "data": {
      "text/plain": [
       "6"
      ]
     },
     "execution_count": 28,
     "metadata": {},
     "output_type": "execute_result"
    }
   ],
   "source": [
    "len(temperature_list)"
   ]
  },
  {
   "cell_type": "markdown",
   "metadata": {
    "slideshow": {
     "slide_type": "fragment"
    }
   },
   "source": [
    "Observe que os elementos de uma lista não precisam ser únicos!"
   ]
  },
  {
   "cell_type": "markdown",
   "metadata": {
    "slideshow": {
     "slide_type": "slide"
    }
   },
   "source": [
    "### As listas facilitam o trabalho com sequências!\n",
    "\n",
    "Para encontrar a temperatura média, basta dividir a **soma das temperaturas** pelo **número de temperaturas registradas**:"
   ]
  },
  {
   "cell_type": "code",
   "execution_count": 29,
   "metadata": {
    "execution": {
     "iopub.execute_input": "2024-04-02T17:43:52.768315Z",
     "iopub.status.busy": "2024-04-02T17:43:52.768022Z",
     "iopub.status.idle": "2024-04-02T17:43:52.772778Z",
     "shell.execute_reply": "2024-04-02T17:43:52.772109Z"
    }
   },
   "outputs": [
    {
     "data": {
      "text/plain": [
       "[84, 78, 81, 75, 79, 75]"
      ]
     },
     "execution_count": 29,
     "metadata": {},
     "output_type": "execute_result"
    }
   ],
   "source": [
    "temperature_list"
   ]
  },
  {
   "cell_type": "code",
   "execution_count": 30,
   "metadata": {
    "execution": {
     "iopub.execute_input": "2024-04-02T17:43:52.775484Z",
     "iopub.status.busy": "2024-04-02T17:43:52.775175Z",
     "iopub.status.idle": "2024-04-02T17:43:52.779964Z",
     "shell.execute_reply": "2024-04-02T17:43:52.779239Z"
    }
   },
   "outputs": [
    {
     "data": {
      "text/plain": [
       "78.66666666666667"
      ]
     },
     "execution_count": 30,
     "metadata": {},
     "output_type": "execute_result"
    }
   ],
   "source": [
    "sum(temperature_list) / len(temperature_list)"
   ]
  },
  {
   "cell_type": "markdown",
   "metadata": {
    "slideshow": {
     "slide_type": "slide"
    }
   },
   "source": [
    "### Tipos\n",
    "\n",
    "O `tipo` de uma lista é... `lista`."
   ]
  },
  {
   "cell_type": "code",
   "execution_count": 31,
   "metadata": {
    "execution": {
     "iopub.execute_input": "2024-04-02T17:43:52.782355Z",
     "iopub.status.busy": "2024-04-02T17:43:52.782117Z",
     "iopub.status.idle": "2024-04-02T17:43:52.786566Z",
     "shell.execute_reply": "2024-04-02T17:43:52.785901Z"
    }
   },
   "outputs": [
    {
     "data": {
      "text/plain": [
       "[84, 78, 81, 75, 79, 75]"
      ]
     },
     "execution_count": 31,
     "metadata": {},
     "output_type": "execute_result"
    }
   ],
   "source": [
    "temperature_list"
   ]
  },
  {
   "cell_type": "code",
   "execution_count": 32,
   "metadata": {
    "execution": {
     "iopub.execute_input": "2024-04-02T17:43:52.789632Z",
     "iopub.status.busy": "2024-04-02T17:43:52.789143Z",
     "iopub.status.idle": "2024-04-02T17:43:52.793940Z",
     "shell.execute_reply": "2024-04-02T17:43:52.793254Z"
    }
   },
   "outputs": [
    {
     "data": {
      "text/plain": [
       "list"
      ]
     },
     "execution_count": 32,
     "metadata": {},
     "output_type": "execute_result"
    }
   ],
   "source": [
    "type(temperature_list)"
   ]
  },
  {
   "cell_type": "markdown",
   "metadata": {
    "slideshow": {
     "slide_type": "fragment"
    }
   },
   "source": [
    "Dentro de uma lista, você pode armazenar elementos de diferentes tipos."
   ]
  },
  {
   "cell_type": "code",
   "execution_count": 33,
   "metadata": {
    "execution": {
     "iopub.execute_input": "2024-04-02T17:43:52.797151Z",
     "iopub.status.busy": "2024-04-02T17:43:52.796727Z",
     "iopub.status.idle": "2024-04-02T17:43:52.802073Z",
     "shell.execute_reply": "2024-04-02T17:43:52.801086Z"
    }
   },
   "outputs": [
    {
     "data": {
      "text/plain": [
       "[-2, 2.5, 'ucsd', [1, 3]]"
      ]
     },
     "execution_count": 33,
     "metadata": {},
     "output_type": "execute_result"
    }
   ],
   "source": [
    "mixed_list = [-2, 2.5, 'ucsd', [1, 3]]\n",
    "mixed_list"
   ]
  },
  {
   "cell_type": "markdown",
   "metadata": {
    "slideshow": {
     "slide_type": "slide"
    }
   },
   "source": [
    "### Há um problema...\n",
    "\n",
    "- As listas são **muito lentas**.\n",
    "- Isso não é grande coisa quando não há muitas entradas, mas é um grande problema quando há milhões ou bilhões de entradas."
   ]
  },
  {
   "cell_type": "markdown",
   "metadata": {
    "slideshow": {
     "slide_type": "slide"
    }
   },
   "source": [
    "## Matrizes"
   ]
  },
  {
   "cell_type": "markdown",
   "metadata": {
    "slideshow": {
     "slide_type": "slide"
    }
   },
   "source": [
    "### NumPy\n",
    "\n",
    "<center>\n",
    "<img src='https://raw.githubusercontent.com/flaviovdf/fcd/master/assets/04-Arrays/numpy.png' width=400>\n",
    "</center>\n",
    "\n",
    "- NumPy (pronuncia-se \"num pie\") é uma biblioteca (módulo) Python que fornece suporte para **arrays** e operações neles.\n",
    "\n",
    "- A biblioteca `babypandas`, sobre a qual você aprenderá no próximo tópico, anda de mãos dadas com o NumPy.\n",
    "- NumPy é muito usado no mundo real.\n",
    "\n",
    "- Para usar `numpy`, precisamos importá-lo. Geralmente é importado como `np` (mas não precisa ser!)"
   ]
  },
  {
   "cell_type": "code",
   "execution_count": 34,
   "metadata": {
    "execution": {
     "iopub.execute_input": "2024-04-02T17:43:52.804927Z",
     "iopub.status.busy": "2024-04-02T17:43:52.804676Z",
     "iopub.status.idle": "2024-04-02T17:43:52.913601Z",
     "shell.execute_reply": "2024-04-02T17:43:52.912978Z"
    }
   },
   "outputs": [],
   "source": [
    "import numpy as np"
   ]
  },
  {
   "cell_type": "markdown",
   "metadata": {
    "slideshow": {
     "slide_type": "slide"
    }
   },
   "source": [
    "### Matrizes\n",
    "\n",
    "Pense nos arrays NumPy (apenas \"arrays\" de agora em diante) como listas sofisticadas e mais rápidas.\n",
    "\n",
    "<center><img src=\"https://raw.githubusercontent.com/flaviovdf/fcd/master/assets/04-Arrays/squid.png\" width=30%></center>\n",
    "\n",
    "Para criar um array, passamos uma lista como entrada para a função `np.array`."
   ]
  },
  {
   "cell_type": "code",
   "execution_count": 35,
   "metadata": {
    "execution": {
     "iopub.execute_input": "2024-04-02T17:43:52.916299Z",
     "iopub.status.busy": "2024-04-02T17:43:52.915985Z",
     "iopub.status.idle": "2024-04-02T17:43:52.921302Z",
     "shell.execute_reply": "2024-04-02T17:43:52.920649Z"
    }
   },
   "outputs": [
    {
     "data": {
      "text/plain": [
       "array([4, 9, 1, 2])"
      ]
     },
     "execution_count": 35,
     "metadata": {},
     "output_type": "execute_result"
    }
   ],
   "source": [
    "np.array([4, 9, 1, 2])"
   ]
  },
  {
   "cell_type": "markdown",
   "metadata": {
    "slideshow": {
     "slide_type": "fragment"
    }
   },
   "source": [
    "<center>\n",
    "<img src='https://raw.githubusercontent.com/flaviovdf/fcd/master/assets/04-Arrays/brackets.png' width=50%>\n",
    "</center>"
   ]
  },
  {
   "cell_type": "code",
   "execution_count": 36,
   "metadata": {
    "execution": {
     "iopub.execute_input": "2024-04-02T17:43:52.923955Z",
     "iopub.status.busy": "2024-04-02T17:43:52.923707Z",
     "iopub.status.idle": "2024-04-02T17:43:52.928019Z",
     "shell.execute_reply": "2024-04-02T17:43:52.927395Z"
    }
   },
   "outputs": [
    {
     "data": {
      "text/plain": [
       "array([84, 78, 81, 75, 79, 75])"
      ]
     },
     "execution_count": 36,
     "metadata": {},
     "output_type": "execute_result"
    }
   ],
   "source": [
    "temperature_array = np.array([84, 78, 81, 75, 79, 75])\n",
    "temperature_array"
   ]
  },
  {
   "cell_type": "code",
   "execution_count": 37,
   "metadata": {
    "execution": {
     "iopub.execute_input": "2024-04-02T17:43:52.930354Z",
     "iopub.status.busy": "2024-04-02T17:43:52.930148Z",
     "iopub.status.idle": "2024-04-02T17:43:52.934233Z",
     "shell.execute_reply": "2024-04-02T17:43:52.933519Z"
    }
   },
   "outputs": [
    {
     "data": {
      "text/plain": [
       "[84, 78, 81, 75, 79, 75]"
      ]
     },
     "execution_count": 37,
     "metadata": {},
     "output_type": "execute_result"
    }
   ],
   "source": [
    "temperature_list"
   ]
  },
  {
   "cell_type": "code",
   "execution_count": 38,
   "metadata": {
    "execution": {
     "iopub.execute_input": "2024-04-02T17:43:52.936648Z",
     "iopub.status.busy": "2024-04-02T17:43:52.936414Z",
     "iopub.status.idle": "2024-04-02T17:43:52.941517Z",
     "shell.execute_reply": "2024-04-02T17:43:52.940670Z"
    }
   },
   "outputs": [
    {
     "data": {
      "text/plain": [
       "array([84, 78, 81, 75, 79, 75])"
      ]
     },
     "execution_count": 38,
     "metadata": {},
     "output_type": "execute_result"
    }
   ],
   "source": [
    "# No square brackets, because temperature_list is already a list!\n",
    "np.array(temperature_list)"
   ]
  },
  {
   "cell_type": "markdown",
   "metadata": {
    "slideshow": {
     "slide_type": "slide"
    }
   },
   "source": [
    "### Posições\n",
    "\n",
    "Quando as pessoas ficam em fila, cada pessoa tem uma posição.\n",
    "\n",
    "<center><img src=\"https://raw.githubusercontent.com/flaviovdf/fcd/master/assets/04-Arrays/position.png\" width=50%></center>\n",
    "\n",
    "Da mesma forma, cada elemento de um array (e lista) possui uma posição."
   ]
  },
  {
   "cell_type": "markdown",
   "metadata": {
    "slideshow": {
     "slide_type": "slide"
    }
   },
   "source": [
    "### Acessando elementos por posição\n",
    "\n",
    "- Python, como a maioria das linguagens de programação, é \"indexado em 0\".\n",
    "- Isso significa que a posição do primeiro elemento em uma matriz é 0, não 1.\n",
    "- Um motivo: a posição de um elemento representa o número de elementos à sua frente.\n",
    "- Para acessar o elemento do array `arr_name` na posição `pos`, usamos a sintaxe `arr_name[pos]`."
   ]
  },
  {
   "cell_type": "code",
   "execution_count": 39,
   "metadata": {
    "execution": {
     "iopub.execute_input": "2024-04-02T17:43:52.944366Z",
     "iopub.status.busy": "2024-04-02T17:43:52.943978Z",
     "iopub.status.idle": "2024-04-02T17:43:52.948738Z",
     "shell.execute_reply": "2024-04-02T17:43:52.948150Z"
    },
    "slideshow": {
     "slide_type": "-"
    }
   },
   "outputs": [
    {
     "data": {
      "text/plain": [
       "array([84, 78, 81, 75, 79, 75])"
      ]
     },
     "execution_count": 39,
     "metadata": {},
     "output_type": "execute_result"
    }
   ],
   "source": [
    "temperature_array"
   ]
  },
  {
   "cell_type": "code",
   "execution_count": 40,
   "metadata": {
    "execution": {
     "iopub.execute_input": "2024-04-02T17:43:52.951784Z",
     "iopub.status.busy": "2024-04-02T17:43:52.951264Z",
     "iopub.status.idle": "2024-04-02T17:43:52.955639Z",
     "shell.execute_reply": "2024-04-02T17:43:52.954934Z"
    }
   },
   "outputs": [
    {
     "data": {
      "text/plain": [
       "84"
      ]
     },
     "execution_count": 40,
     "metadata": {},
     "output_type": "execute_result"
    }
   ],
   "source": [
    "temperature_array[0]"
   ]
  },
  {
   "cell_type": "code",
   "execution_count": 41,
   "metadata": {
    "execution": {
     "iopub.execute_input": "2024-04-02T17:43:52.958411Z",
     "iopub.status.busy": "2024-04-02T17:43:52.958196Z",
     "iopub.status.idle": "2024-04-02T17:43:52.962529Z",
     "shell.execute_reply": "2024-04-02T17:43:52.961830Z"
    }
   },
   "outputs": [
    {
     "data": {
      "text/plain": [
       "78"
      ]
     },
     "execution_count": 41,
     "metadata": {},
     "output_type": "execute_result"
    }
   ],
   "source": [
    "temperature_array[1]"
   ]
  },
  {
   "cell_type": "code",
   "execution_count": 42,
   "metadata": {
    "execution": {
     "iopub.execute_input": "2024-04-02T17:43:52.965051Z",
     "iopub.status.busy": "2024-04-02T17:43:52.964801Z",
     "iopub.status.idle": "2024-04-02T17:43:52.968973Z",
     "shell.execute_reply": "2024-04-02T17:43:52.968338Z"
    }
   },
   "outputs": [
    {
     "data": {
      "text/plain": [
       "75"
      ]
     },
     "execution_count": 42,
     "metadata": {},
     "output_type": "execute_result"
    }
   ],
   "source": [
    "temperature_array[3]"
   ]
  },
  {
   "cell_type": "code",
   "execution_count": 43,
   "metadata": {
    "execution": {
     "iopub.execute_input": "2024-04-02T17:43:52.971599Z",
     "iopub.status.busy": "2024-04-02T17:43:52.971384Z",
     "iopub.status.idle": "2024-04-02T17:43:52.975836Z",
     "shell.execute_reply": "2024-04-02T17:43:52.975107Z"
    }
   },
   "outputs": [
    {
     "data": {
      "text/plain": [
       "75"
      ]
     },
     "execution_count": 43,
     "metadata": {},
     "output_type": "execute_result"
    }
   ],
   "source": [
    "# Access last element\n",
    "temperature_array[5]"
   ]
  },
  {
   "cell_type": "code",
   "execution_count": 44,
   "metadata": {
    "execution": {
     "iopub.execute_input": "2024-04-02T17:43:52.978425Z",
     "iopub.status.busy": "2024-04-02T17:43:52.978132Z",
     "iopub.status.idle": "2024-04-02T17:43:52.998933Z",
     "shell.execute_reply": "2024-04-02T17:43:52.998215Z"
    },
    "tags": [
     "raises-exception"
    ]
   },
   "outputs": [
    {
     "ename": "IndexError",
     "evalue": "index 6 is out of bounds for axis 0 with size 6",
     "output_type": "error",
     "traceback": [
      "\u001b[0;31m---------------------------------------------------------------------------\u001b[0m",
      "\u001b[0;31mIndexError\u001b[0m                                Traceback (most recent call last)",
      "Cell \u001b[0;32mIn[44], line 1\u001b[0m\n\u001b[0;32m----> 1\u001b[0m \u001b[43mtemperature_array\u001b[49m\u001b[43m[\u001b[49m\u001b[38;5;241;43m6\u001b[39;49m\u001b[43m]\u001b[49m\n",
      "\u001b[0;31mIndexError\u001b[0m: index 6 is out of bounds for axis 0 with size 6"
     ]
    }
   ],
   "source": [
    "temperature_array[6]"
   ]
  },
  {
   "cell_type": "code",
   "execution_count": 45,
   "metadata": {
    "execution": {
     "iopub.execute_input": "2024-04-02T17:43:53.001685Z",
     "iopub.status.busy": "2024-04-02T17:43:53.001198Z",
     "iopub.status.idle": "2024-04-02T17:43:53.006075Z",
     "shell.execute_reply": "2024-04-02T17:43:53.005414Z"
    }
   },
   "outputs": [
    {
     "data": {
      "text/plain": [
       "75"
      ]
     },
     "execution_count": 45,
     "metadata": {},
     "output_type": "execute_result"
    }
   ],
   "source": [
    "# If a position is negative, count from the end!\n",
    "temperature_array[-1]"
   ]
  },
  {
   "cell_type": "markdown",
   "metadata": {
    "slideshow": {
     "slide_type": "slide"
    }
   },
   "source": [
    "### Tipos\n",
    "\n",
    "Anteriormente nesta palestra, vimos que as listas podem armazenar elementos de vários tipos."
   ]
  },
  {
   "cell_type": "code",
   "execution_count": 46,
   "metadata": {
    "execution": {
     "iopub.execute_input": "2024-04-02T17:43:53.009020Z",
     "iopub.status.busy": "2024-04-02T17:43:53.008732Z",
     "iopub.status.idle": "2024-04-02T17:43:53.013135Z",
     "shell.execute_reply": "2024-04-02T17:43:53.012446Z"
    }
   },
   "outputs": [
    {
     "data": {
      "text/plain": [
       "['uc', 'sd', 1961, 3.14]"
      ]
     },
     "execution_count": 46,
     "metadata": {},
     "output_type": "execute_result"
    }
   ],
   "source": [
    "nums_and_strings_lst = ['uc', 'sd', 1961, 3.14]\n",
    "nums_and_strings_lst"
   ]
  },
  {
   "cell_type": "markdown",
   "metadata": {
    "slideshow": {
     "slide_type": "fragment"
    }
   },
   "source": [
    "**Isso não é verdade para arrays – todos os elementos de um array devem ser do mesmo tipo.**"
   ]
  },
  {
   "cell_type": "code",
   "execution_count": 47,
   "metadata": {
    "execution": {
     "iopub.execute_input": "2024-04-02T17:43:53.016105Z",
     "iopub.status.busy": "2024-04-02T17:43:53.015850Z",
     "iopub.status.idle": "2024-04-02T17:43:53.020718Z",
     "shell.execute_reply": "2024-04-02T17:43:53.020043Z"
    }
   },
   "outputs": [
    {
     "data": {
      "text/plain": [
       "array(['uc', 'sd', '1961', '3.14'], dtype='<U32')"
      ]
     },
     "execution_count": 47,
     "metadata": {},
     "output_type": "execute_result"
    }
   ],
   "source": [
    "# All elements are converted to strings!\n",
    "np.array(nums_and_strings_lst)"
   ]
  },
  {
   "cell_type": "markdown",
   "metadata": {
    "slideshow": {
     "slide_type": "slide"
    }
   },
   "source": [
    "### Aritmética de números de array\n",
    "\n",
    "As matrizes facilitam a execução da mesma operação em todos os elementos. Este comportamento é formalmente conhecido como \"transmissão\"."
   ]
  },
  {
   "cell_type": "code",
   "execution_count": 48,
   "metadata": {
    "execution": {
     "iopub.execute_input": "2024-04-02T17:43:53.023684Z",
     "iopub.status.busy": "2024-04-02T17:43:53.023392Z",
     "iopub.status.idle": "2024-04-02T17:43:53.028226Z",
     "shell.execute_reply": "2024-04-02T17:43:53.027571Z"
    }
   },
   "outputs": [
    {
     "data": {
      "text/plain": [
       "array([84, 78, 81, 75, 79, 75])"
      ]
     },
     "execution_count": 48,
     "metadata": {},
     "output_type": "execute_result"
    }
   ],
   "source": [
    "temperature_array"
   ]
  },
  {
   "cell_type": "code",
   "execution_count": 49,
   "metadata": {
    "execution": {
     "iopub.execute_input": "2024-04-02T17:43:53.030506Z",
     "iopub.status.busy": "2024-04-02T17:43:53.030277Z",
     "iopub.status.idle": "2024-04-02T17:43:53.034875Z",
     "shell.execute_reply": "2024-04-02T17:43:53.034192Z"
    }
   },
   "outputs": [
    {
     "data": {
      "text/plain": [
       "array([87, 81, 84, 78, 82, 78])"
      ]
     },
     "execution_count": 49,
     "metadata": {},
     "output_type": "execute_result"
    }
   ],
   "source": [
    "# Increase all temperatures by 3 degrees\n",
    "temperature_array + 3"
   ]
  },
  {
   "cell_type": "code",
   "execution_count": 50,
   "metadata": {
    "execution": {
     "iopub.execute_input": "2024-04-02T17:43:53.037197Z",
     "iopub.status.busy": "2024-04-02T17:43:53.036957Z",
     "iopub.status.idle": "2024-04-02T17:43:53.041861Z",
     "shell.execute_reply": "2024-04-02T17:43:53.040921Z"
    }
   },
   "outputs": [
    {
     "data": {
      "text/plain": [
       "array([42. , 39. , 40.5, 37.5, 39.5, 37.5])"
      ]
     },
     "execution_count": 50,
     "metadata": {},
     "output_type": "execute_result"
    }
   ],
   "source": [
    "# Halve all temperatures\n",
    "temperature_array / 2"
   ]
  },
  {
   "cell_type": "code",
   "execution_count": 51,
   "metadata": {
    "execution": {
     "iopub.execute_input": "2024-04-02T17:43:53.044432Z",
     "iopub.status.busy": "2024-04-02T17:43:53.044125Z",
     "iopub.status.idle": "2024-04-02T17:43:53.049021Z",
     "shell.execute_reply": "2024-04-02T17:43:53.048314Z"
    }
   },
   "outputs": [
    {
     "data": {
      "text/plain": [
       "array([28.88888889, 25.55555556, 27.22222222, 23.88888889, 26.11111111,\n",
       "       23.88888889])"
      ]
     },
     "execution_count": 51,
     "metadata": {},
     "output_type": "execute_result"
    }
   ],
   "source": [
    "# Convert all temperatures to Celsius\n",
    "(5 / 9) * (temperature_array - 32)"
   ]
  },
  {
   "cell_type": "markdown",
   "metadata": {
    "slideshow": {
     "slide_type": "fragment"
    }
   },
   "source": [
    "**Nota:** Em nenhuma das células acima modificamos `temperature_array`! Cada uma dessas expressões criou um novo array."
   ]
  },
  {
   "cell_type": "code",
   "execution_count": 52,
   "metadata": {
    "execution": {
     "iopub.execute_input": "2024-04-02T17:43:53.051933Z",
     "iopub.status.busy": "2024-04-02T17:43:53.051688Z",
     "iopub.status.idle": "2024-04-02T17:43:53.055939Z",
     "shell.execute_reply": "2024-04-02T17:43:53.055247Z"
    }
   },
   "outputs": [
    {
     "data": {
      "text/plain": [
       "array([84, 78, 81, 75, 79, 75])"
      ]
     },
     "execution_count": 52,
     "metadata": {},
     "output_type": "execute_result"
    }
   ],
   "source": [
    "temperature_array"
   ]
  },
  {
   "cell_type": "markdown",
   "metadata": {},
   "source": [
    "Para realmente alterar `temperature_array`, precisamos reatribuí-lo a um novo array."
   ]
  },
  {
   "cell_type": "code",
   "execution_count": 53,
   "metadata": {
    "execution": {
     "iopub.execute_input": "2024-04-02T17:43:53.058899Z",
     "iopub.status.busy": "2024-04-02T17:43:53.058534Z",
     "iopub.status.idle": "2024-04-02T17:43:53.061938Z",
     "shell.execute_reply": "2024-04-02T17:43:53.061254Z"
    }
   },
   "outputs": [],
   "source": [
    "temperature_array = (5 / 9) * (temperature_array - 32)"
   ]
  },
  {
   "cell_type": "code",
   "execution_count": 54,
   "metadata": {
    "execution": {
     "iopub.execute_input": "2024-04-02T17:43:53.064296Z",
     "iopub.status.busy": "2024-04-02T17:43:53.064021Z",
     "iopub.status.idle": "2024-04-02T17:43:53.068221Z",
     "shell.execute_reply": "2024-04-02T17:43:53.067602Z"
    }
   },
   "outputs": [
    {
     "data": {
      "text/plain": [
       "array([28.88888889, 25.55555556, 27.22222222, 23.88888889, 26.11111111,\n",
       "       23.88888889])"
      ]
     },
     "execution_count": 54,
     "metadata": {},
     "output_type": "execute_result"
    }
   ],
   "source": [
    "# Now in Celsius!\n",
    "temperature_array"
   ]
  },
  {
   "cell_type": "markdown",
   "metadata": {
    "slideshow": {
     "slide_type": "slide"
    }
   },
   "source": [
    "### Aritmética elemento a elemento\n",
    "\n",
    "- Podemos aplicar operações aritméticas a múltiplos arrays, desde que tenham o mesmo comprimento.\n",
    "- O resultado é calculado **por elemento**, o que significa que a operação aritmética é aplicada a um par de elementos de cada array por vez.\n",
    "- Por exemplo, `a + b` é um array cujo primeiro elemento é a soma do primeiro elemento de `a` e do primeiro elemento de `b`."
   ]
  },
  {
   "cell_type": "code",
   "execution_count": 55,
   "metadata": {
    "execution": {
     "iopub.execute_input": "2024-04-02T17:43:53.070976Z",
     "iopub.status.busy": "2024-04-02T17:43:53.070726Z",
     "iopub.status.idle": "2024-04-02T17:43:53.074152Z",
     "shell.execute_reply": "2024-04-02T17:43:53.073293Z"
    }
   },
   "outputs": [],
   "source": [
    "a = np.array([1, 2, 3])\n",
    "b = np.array([-4, 5, 9])"
   ]
  },
  {
   "cell_type": "code",
   "execution_count": 56,
   "metadata": {
    "execution": {
     "iopub.execute_input": "2024-04-02T17:43:53.077488Z",
     "iopub.status.busy": "2024-04-02T17:43:53.077032Z",
     "iopub.status.idle": "2024-04-02T17:43:53.081359Z",
     "shell.execute_reply": "2024-04-02T17:43:53.080678Z"
    }
   },
   "outputs": [
    {
     "data": {
      "text/plain": [
       "array([-3,  7, 12])"
      ]
     },
     "execution_count": 56,
     "metadata": {},
     "output_type": "execute_result"
    }
   ],
   "source": [
    "a + b"
   ]
  },
  {
   "cell_type": "code",
   "execution_count": 57,
   "metadata": {
    "execution": {
     "iopub.execute_input": "2024-04-02T17:43:53.083674Z",
     "iopub.status.busy": "2024-04-02T17:43:53.083407Z",
     "iopub.status.idle": "2024-04-02T17:43:53.087621Z",
     "shell.execute_reply": "2024-04-02T17:43:53.087004Z"
    }
   },
   "outputs": [
    {
     "data": {
      "text/plain": [
       "array([-0.25      ,  0.4       ,  0.33333333])"
      ]
     },
     "execution_count": 57,
     "metadata": {},
     "output_type": "execute_result"
    }
   ],
   "source": [
    "a / b"
   ]
  },
  {
   "cell_type": "code",
   "execution_count": 58,
   "metadata": {
    "execution": {
     "iopub.execute_input": "2024-04-02T17:43:53.090289Z",
     "iopub.status.busy": "2024-04-02T17:43:53.089816Z",
     "iopub.status.idle": "2024-04-02T17:43:53.094621Z",
     "shell.execute_reply": "2024-04-02T17:43:53.093959Z"
    }
   },
   "outputs": [
    {
     "data": {
      "text/plain": [
       "array([17, 29, 90])"
      ]
     },
     "execution_count": 58,
     "metadata": {},
     "output_type": "execute_result"
    }
   ],
   "source": [
    "a ** 2 + b ** 2"
   ]
  },
  {
   "cell_type": "markdown",
   "metadata": {
    "slideshow": {
     "slide_type": "slide"
    }
   },
   "source": [
    "### Exemplo: visualizações do TikTok 🎬\n",
    "\n",
    "Baby Panda fez uma série de cinco vídeos no TikTok chamada \"Um dia na vida de um mascote da ciência de dados\". O número de visualizações que eles receberam nesses vídeos é armazenado na matriz `views` abaixo."
   ]
  },
  {
   "cell_type": "code",
   "execution_count": 59,
   "metadata": {
    "execution": {
     "iopub.execute_input": "2024-04-02T17:43:53.097461Z",
     "iopub.status.busy": "2024-04-02T17:43:53.096993Z",
     "iopub.status.idle": "2024-04-02T17:43:53.100609Z",
     "shell.execute_reply": "2024-04-02T17:43:53.099892Z"
    }
   },
   "outputs": [],
   "source": [
    "views = np.array([158, 352, 195, 1423916, 46])"
   ]
  },
  {
   "cell_type": "markdown",
   "metadata": {},
   "source": [
    "Algumas perguntas:"
   ]
  },
  {
   "cell_type": "markdown",
   "metadata": {
    "slideshow": {
     "slide_type": "fragment"
    }
   },
   "source": [
    "Qual foi a contagem média de visualizações?"
   ]
  },
  {
   "cell_type": "code",
   "execution_count": 60,
   "metadata": {
    "execution": {
     "iopub.execute_input": "2024-04-02T17:43:53.103611Z",
     "iopub.status.busy": "2024-04-02T17:43:53.103320Z",
     "iopub.status.idle": "2024-04-02T17:43:53.108006Z",
     "shell.execute_reply": "2024-04-02T17:43:53.106818Z"
    }
   },
   "outputs": [
    {
     "data": {
      "text/plain": [
       "array([    158,     352,     195, 1423916,      46])"
      ]
     },
     "execution_count": 60,
     "metadata": {},
     "output_type": "execute_result"
    }
   ],
   "source": [
    "views"
   ]
  },
  {
   "cell_type": "code",
   "execution_count": 61,
   "metadata": {
    "execution": {
     "iopub.execute_input": "2024-04-02T17:43:53.110402Z",
     "iopub.status.busy": "2024-04-02T17:43:53.110156Z",
     "iopub.status.idle": "2024-04-02T17:43:53.114542Z",
     "shell.execute_reply": "2024-04-02T17:43:53.113847Z"
    }
   },
   "outputs": [
    {
     "data": {
      "text/plain": [
       "284933.4"
      ]
     },
     "execution_count": 61,
     "metadata": {},
     "output_type": "execute_result"
    }
   ],
   "source": [
    "sum(views) / len(views)"
   ]
  },
  {
   "cell_type": "code",
   "execution_count": 62,
   "metadata": {
    "execution": {
     "iopub.execute_input": "2024-04-02T17:43:53.117090Z",
     "iopub.status.busy": "2024-04-02T17:43:53.116708Z",
     "iopub.status.idle": "2024-04-02T17:43:53.121116Z",
     "shell.execute_reply": "2024-04-02T17:43:53.120398Z"
    }
   },
   "outputs": [
    {
     "data": {
      "text/plain": [
       "284933.4"
      ]
     },
     "execution_count": 62,
     "metadata": {},
     "output_type": "execute_result"
    }
   ],
   "source": [
    "# The mean method exists for arrays (but not for lists)\n",
    "views.mean()"
   ]
  },
  {
   "cell_type": "markdown",
   "metadata": {
    "slideshow": {
     "slide_type": "fragment"
    }
   },
   "source": [
    "Quantas visualizações seus vídeos mais e menos populares receberam?"
   ]
  },
  {
   "cell_type": "code",
   "execution_count": 63,
   "metadata": {
    "execution": {
     "iopub.execute_input": "2024-04-02T17:43:53.123723Z",
     "iopub.status.busy": "2024-04-02T17:43:53.123329Z",
     "iopub.status.idle": "2024-04-02T17:43:53.128040Z",
     "shell.execute_reply": "2024-04-02T17:43:53.127348Z"
    }
   },
   "outputs": [
    {
     "data": {
      "text/plain": [
       "array([    158,     352,     195, 1423916,      46])"
      ]
     },
     "execution_count": 63,
     "metadata": {},
     "output_type": "execute_result"
    }
   ],
   "source": [
    "views"
   ]
  },
  {
   "cell_type": "code",
   "execution_count": 64,
   "metadata": {
    "execution": {
     "iopub.execute_input": "2024-04-02T17:43:53.130878Z",
     "iopub.status.busy": "2024-04-02T17:43:53.130607Z",
     "iopub.status.idle": "2024-04-02T17:43:53.134740Z",
     "shell.execute_reply": "2024-04-02T17:43:53.134142Z"
    }
   },
   "outputs": [
    {
     "data": {
      "text/plain": [
       "1423916"
      ]
     },
     "execution_count": 64,
     "metadata": {},
     "output_type": "execute_result"
    }
   ],
   "source": [
    "views.max()"
   ]
  },
  {
   "cell_type": "code",
   "execution_count": 65,
   "metadata": {
    "execution": {
     "iopub.execute_input": "2024-04-02T17:43:53.137485Z",
     "iopub.status.busy": "2024-04-02T17:43:53.137006Z",
     "iopub.status.idle": "2024-04-02T17:43:53.141505Z",
     "shell.execute_reply": "2024-04-02T17:43:53.140836Z"
    }
   },
   "outputs": [
    {
     "data": {
      "text/plain": [
       "46"
      ]
     },
     "execution_count": 65,
     "metadata": {},
     "output_type": "execute_result"
    }
   ],
   "source": [
    "views.min()"
   ]
  },
  {
   "cell_type": "markdown",
   "metadata": {
    "slideshow": {
     "slide_type": "fragment"
    }
   },
   "source": [
    "Quantas visualizações **acima da média** cada um dos vídeos recebeu? Quantas visualizações acima da média o vídeo mais visto recebeu?"
   ]
  },
  {
   "cell_type": "code",
   "execution_count": 66,
   "metadata": {
    "execution": {
     "iopub.execute_input": "2024-04-02T17:43:53.144341Z",
     "iopub.status.busy": "2024-04-02T17:43:53.144097Z",
     "iopub.status.idle": "2024-04-02T17:43:53.148242Z",
     "shell.execute_reply": "2024-04-02T17:43:53.147540Z"
    }
   },
   "outputs": [
    {
     "data": {
      "text/plain": [
       "array([    158,     352,     195, 1423916,      46])"
      ]
     },
     "execution_count": 66,
     "metadata": {},
     "output_type": "execute_result"
    }
   ],
   "source": [
    "views"
   ]
  },
  {
   "cell_type": "code",
   "execution_count": 67,
   "metadata": {
    "execution": {
     "iopub.execute_input": "2024-04-02T17:43:53.150722Z",
     "iopub.status.busy": "2024-04-02T17:43:53.150370Z",
     "iopub.status.idle": "2024-04-02T17:43:53.155091Z",
     "shell.execute_reply": "2024-04-02T17:43:53.154393Z"
    }
   },
   "outputs": [
    {
     "data": {
      "text/plain": [
       "array([-284775.4, -284581.4, -284738.4, 1138982.6, -284887.4])"
      ]
     },
     "execution_count": 67,
     "metadata": {},
     "output_type": "execute_result"
    }
   ],
   "source": [
    "views - views.mean()"
   ]
  },
  {
   "cell_type": "code",
   "execution_count": 68,
   "metadata": {
    "execution": {
     "iopub.execute_input": "2024-04-02T17:43:53.157851Z",
     "iopub.status.busy": "2024-04-02T17:43:53.157530Z",
     "iopub.status.idle": "2024-04-02T17:43:53.162600Z",
     "shell.execute_reply": "2024-04-02T17:43:53.161919Z"
    }
   },
   "outputs": [
    {
     "data": {
      "text/plain": [
       "1138982.6"
      ]
     },
     "execution_count": 68,
     "metadata": {},
     "output_type": "execute_result"
    }
   ],
   "source": [
    "(views - views.mean()).max()"
   ]
  },
  {
   "cell_type": "markdown",
   "metadata": {
    "slideshow": {
     "slide_type": "fragment"
    }
   },
   "source": [
    "Foi [estimated](https://www.ngpf.org/blog/question-of-the-day/question-of-the-day-how-much-can-a-creator-on-tiktok-make-if-their-video-receives-1-million-views/) que o TikTok paga aos seus criadores \\\\$0,03 por 1000 visualizações. Se isso for verdade, quantos dólares o Bebê Panda ganhou com seu vídeo mais visto? 💸"
   ]
  },
  {
   "cell_type": "code",
   "execution_count": 69,
   "metadata": {
    "execution": {
     "iopub.execute_input": "2024-04-02T17:43:53.165585Z",
     "iopub.status.busy": "2024-04-02T17:43:53.165234Z",
     "iopub.status.idle": "2024-04-02T17:43:53.169287Z",
     "shell.execute_reply": "2024-04-02T17:43:53.168695Z"
    }
   },
   "outputs": [
    {
     "data": {
      "text/plain": [
       "array([    158,     352,     195, 1423916,      46])"
      ]
     },
     "execution_count": 69,
     "metadata": {},
     "output_type": "execute_result"
    }
   ],
   "source": [
    "views"
   ]
  },
  {
   "cell_type": "code",
   "execution_count": 70,
   "metadata": {
    "execution": {
     "iopub.execute_input": "2024-04-02T17:43:53.172023Z",
     "iopub.status.busy": "2024-04-02T17:43:53.171766Z",
     "iopub.status.idle": "2024-04-02T17:43:53.176961Z",
     "shell.execute_reply": "2024-04-02T17:43:53.176316Z"
    }
   },
   "outputs": [
    {
     "data": {
      "text/plain": [
       "42.717479999999995"
      ]
     },
     "execution_count": 70,
     "metadata": {},
     "output_type": "execute_result"
    }
   ],
   "source": [
    "views.max() * 0.03 / 1000"
   ]
  },
  {
   "cell_type": "markdown",
   "metadata": {
    "slideshow": {
     "slide_type": "slide"
    }
   },
   "source": [
    "## Gamas"
   ]
  },
  {
   "cell_type": "markdown",
   "metadata": {
    "slideshow": {
     "slide_type": "slide"
    }
   },
   "source": [
    "### Motivação\n",
    "\n",
    "Muitas vezes precisamos criar arrays como este:"
   ]
  },
  {
   "cell_type": "code",
   "execution_count": 71,
   "metadata": {
    "execution": {
     "iopub.execute_input": "2024-04-02T17:43:53.179934Z",
     "iopub.status.busy": "2024-04-02T17:43:53.179686Z",
     "iopub.status.idle": "2024-04-02T17:43:53.183118Z",
     "shell.execute_reply": "2024-04-02T17:43:53.182411Z"
    }
   },
   "outputs": [],
   "source": [
    "days_in_september = np.array([\n",
    "    1, 2, 3, 4, 5, 6, 7, 8, 9, 10, 11, 12, \n",
    "    13, 14, 15, 16, 17, 18, 19, 20, 21, 22, \n",
    "    23, 24, 25, 26, 27, 28, 29, 30\n",
    "])"
   ]
  },
  {
   "cell_type": "markdown",
   "metadata": {
    "slideshow": {
     "slide_type": "fragment"
    }
   },
   "source": [
    "Precisa haver uma maneira mais fácil de fazer isso!"
   ]
  },
  {
   "cell_type": "markdown",
   "metadata": {
    "slideshow": {
     "slide_type": "slide"
    }
   },
   "source": [
    "### Intervalos\n",
    "* Um **intervalo** é uma matriz de números espaçados uniformemente. Criamos intervalos usando `np.arange`.\n",
    "* A maneira mais geral de criar um intervalo é `np.arange(start, end, step)`. Isso retorna uma matriz tal que:\n",
    "- O primeiro número é `start`. **Por padrão, `iniciar` é 0.**\n",
    "- Todos os números subsequentes são espaçados por `step`, até (mas excluindo) `end`. **Por padrão, `step` é 1.**"
   ]
  },
  {
   "cell_type": "code",
   "execution_count": 72,
   "metadata": {
    "execution": {
     "iopub.execute_input": "2024-04-02T17:43:53.186125Z",
     "iopub.status.busy": "2024-04-02T17:43:53.185871Z",
     "iopub.status.idle": "2024-04-02T17:43:53.190511Z",
     "shell.execute_reply": "2024-04-02T17:43:53.189725Z"
    }
   },
   "outputs": [
    {
     "data": {
      "text/plain": [
       "array([0, 1, 2, 3, 4, 5, 6, 7])"
      ]
     },
     "execution_count": 72,
     "metadata": {},
     "output_type": "execute_result"
    }
   ],
   "source": [
    "# Start at 0, end before 8, step by 1\n",
    "# This will be our most common use-case!\n",
    "np.arange(8)"
   ]
  },
  {
   "cell_type": "code",
   "execution_count": 73,
   "metadata": {
    "execution": {
     "iopub.execute_input": "2024-04-02T17:43:53.193368Z",
     "iopub.status.busy": "2024-04-02T17:43:53.193158Z",
     "iopub.status.idle": "2024-04-02T17:43:53.197577Z",
     "shell.execute_reply": "2024-04-02T17:43:53.196888Z"
    }
   },
   "outputs": [
    {
     "data": {
      "text/plain": [
       "array([5, 6, 7, 8, 9])"
      ]
     },
     "execution_count": 73,
     "metadata": {},
     "output_type": "execute_result"
    }
   ],
   "source": [
    "# Start at 5, end before 10, step by 1\n",
    "np.arange(5, 10)"
   ]
  },
  {
   "cell_type": "code",
   "execution_count": 74,
   "metadata": {
    "execution": {
     "iopub.execute_input": "2024-04-02T17:43:53.200400Z",
     "iopub.status.busy": "2024-04-02T17:43:53.200196Z",
     "iopub.status.idle": "2024-04-02T17:43:53.204658Z",
     "shell.execute_reply": "2024-04-02T17:43:53.203957Z"
    }
   },
   "outputs": [
    {
     "data": {
      "text/plain": [
       "array([ 3,  8, 13, 18, 23, 28])"
      ]
     },
     "execution_count": 74,
     "metadata": {},
     "output_type": "execute_result"
    }
   ],
   "source": [
    "# Start at 3, end before 32, step by 5\n",
    "np.arange(3, 32, 5)"
   ]
  },
  {
   "cell_type": "code",
   "execution_count": 75,
   "metadata": {
    "execution": {
     "iopub.execute_input": "2024-04-02T17:43:53.207709Z",
     "iopub.status.busy": "2024-04-02T17:43:53.207345Z",
     "iopub.status.idle": "2024-04-02T17:43:53.212081Z",
     "shell.execute_reply": "2024-04-02T17:43:53.211401Z"
    }
   },
   "outputs": [
    {
     "data": {
      "text/plain": [
       "array([-3. , -2.5, -2. , -1.5, -1. , -0.5,  0. ,  0.5,  1. ,  1.5])"
      ]
     },
     "execution_count": 75,
     "metadata": {},
     "output_type": "execute_result"
    }
   ],
   "source": [
    "# Steps can be fractional!\n",
    "np.arange(-3, 2, 0.5)"
   ]
  },
  {
   "cell_type": "code",
   "execution_count": 76,
   "metadata": {
    "execution": {
     "iopub.execute_input": "2024-04-02T17:43:53.214935Z",
     "iopub.status.busy": "2024-04-02T17:43:53.214629Z",
     "iopub.status.idle": "2024-04-02T17:43:53.219083Z",
     "shell.execute_reply": "2024-04-02T17:43:53.218473Z"
    }
   },
   "outputs": [
    {
     "data": {
      "text/plain": [
       "array([ 1, -2, -5, -8])"
      ]
     },
     "execution_count": 76,
     "metadata": {},
     "output_type": "execute_result"
    }
   ],
   "source": [
    "# If step is negative, we count backwards.\n",
    "np.arange(1, -10, -3)"
   ]
  },
  {
   "cell_type": "markdown",
   "metadata": {
    "slideshow": {
     "slide_type": "slide"
    }
   },
   "source": [
    "### Atividade\n",
    "\n",
    "🎉 Parabéns! 🎉 Você ganhou na loteria 💰. Veja como funciona o seu pagamento: no primeiro dia de setembro, você receberá 0,01. A cada dia seguinte, seu salário dobra, então no segundo dia você recebe 0,02, no terceiro dia você recebe 0,04, no quarto dia você recebe 0,08 e assim por diante.\n",
    "\n",
    "Setembro tem 30 dias.\n",
    "\n",
    "Escreva uma **expressão de uma linha** que use os números `2` e `30`, junto com a função `np.arange` e o método `.sum()`, que calcula o valor total **em dólares** você será pago em setembro."
   ]
  },
  {
   "cell_type": "code",
   "execution_count": 77,
   "metadata": {
    "execution": {
     "iopub.execute_input": "2024-04-02T17:43:53.221779Z",
     "iopub.status.busy": "2024-04-02T17:43:53.221533Z",
     "iopub.status.idle": "2024-04-02T17:43:53.225765Z",
     "shell.execute_reply": "2024-04-02T17:43:53.225018Z"
    }
   },
   "outputs": [
    {
     "data": {
      "text/plain": [
       "Ellipsis"
      ]
     },
     "execution_count": 77,
     "metadata": {},
     "output_type": "execute_result"
    }
   ],
   "source": [
    "..."
   ]
  },
  {
   "cell_type": "markdown",
   "metadata": {
    "slideshow": {
     "slide_type": "slide"
    }
   },
   "source": [
    "## Resumo, da próxima vez"
   ]
  },
  {
   "cell_type": "markdown",
   "metadata": {
    "slideshow": {
     "slide_type": "slide"
    }
   },
   "source": [
    "### Resumo\n",
    "\n",
    "- Strings são usadas para armazenar texto. Coloque-os entre aspas simples ou duplas.\n",
    "- Listas e arrays são usados ​​para armazenar **sequências**.\n",
    "- Matrizes são mais rápidas e convenientes para operações numéricas.\n",
    "- Você pode executar facilmente operações numéricas em todos os elementos de um array e realizar operações em vários arrays.\n",
    "- Os intervalos são matrizes de números igualmente espaçados.\n",
    "- Lembre-se de consultar os recursos desde o início da palestra!"
   ]
  },
  {
   "cell_type": "markdown",
   "metadata": {
    "slideshow": {
     "slide_type": "slide"
    }
   },
   "source": [
    "### Próxima vez\n",
    "\n",
    "Aprenderemos como usar Python para trabalhar com dados tabulares do mundo real."
   ]
  }
 ],
 "metadata": {
  "kernelspec": {
   "display_name": "Python 3 (ipykernel)",
   "language": "python",
   "name": "python3"
  },
  "language_info": {
   "codemirror_mode": {
    "name": "ipython",
    "version": 3
   },
   "file_extension": ".py",
   "mimetype": "text/x-python",
   "name": "python",
   "nbconvert_exporter": "python",
   "pygments_lexer": "ipython3",
   "version": "3.11.2"
  },
  "livereveal": {
   "scroll": true,
   "transition": "none"
  },
  "rise": {
   "enable_chalkboard": true
  }
 },
 "nbformat": 4,
 "nbformat_minor": 2
}
