{
 "cells": [
  {
   "cell_type": "markdown",
   "metadata": {},
   "source": [
    "---\n",
    "layout: page\n",
    "title: Iteração\n",
    "nav_order: 10\n",
    "---\n",
    "[<img src=\"https://raw.githubusercontent.com/flaviovdf/fcd/master/assets/colab_favicon_small.png\" style=\"float: right;\">](https://colab.research.google.com/github/flaviovdf/fcd/blob/master/_lessons/10-Iteracao.ipynb)\n",
    "\n",
    "# Tópico 10 – Iteração\n",
    "{: .no_toc .mb-2 }\n",
    "\n",
    "Vamos aprender sobre laços em Python e um pouco sobre como gerar dados.\n",
    "{: .fs-6 .fw-300 }\n",
    "\n",
    "{: .no_toc .text-delta }\n",
    "Resultados Esperados\n",
    "\n",
    "1. Entender laços (`for`)\n",
    "1. Entender a geração de números aleatórios (`np.random`)\n",
    "\n",
    "{: .no_toc .text-delta }\n",
    "Material Adaptado do [DSC10 (UCSD)](https://dsc10.com/)"
   ]
  },
  {
   "cell_type": "markdown",
   "metadata": {},
   "source": [
    "<alert><font color='red'>Eu não tive tempo de mudar esses exemplos, então eles refletem a realidade da UCSD. Não da UFMG.</font></alert>"
   ]
  },
  {
   "cell_type": "code",
   "execution_count": 1,
   "metadata": {
    "execution": {
     "iopub.execute_input": "2024-04-23T16:35:10.590852Z",
     "iopub.status.busy": "2024-04-23T16:35:10.590491Z",
     "iopub.status.idle": "2024-04-23T16:35:10.983333Z",
     "shell.execute_reply": "2024-04-23T16:35:10.982703Z"
    },
    "slideshow": {
     "slide_type": "skip"
    }
   },
   "outputs": [],
   "source": [
    "import babypandas as bpd\n",
    "import numpy as np"
   ]
  },
  {
   "cell_type": "markdown",
   "metadata": {
    "slideshow": {
     "slide_type": "slide"
    }
   },
   "source": [
    "### Agenda\n",
    "\n",
    "- Booleanos.\n",
    "- Declarações condicionais (ou seja, declarações `if`).\n",
    "- Iteração (ou seja, loops `for`).\n",
    "\n",
    "**Observação:**\n",
    "- Concluímos a introdução de novas técnicas de manipulação de DataFrame.\n",
    "- Hoje abordaremos algumas ferramentas básicas de programação, que serão muito relevantes à medida que começarmos a abordar mais ideias em estatística (na próxima semana)."
   ]
  },
  {
   "cell_type": "markdown",
   "metadata": {
    "slideshow": {
     "slide_type": "slide"
    }
   },
   "source": [
    "## Booleanos"
   ]
  },
  {
   "cell_type": "markdown",
   "metadata": {
    "slideshow": {
     "slide_type": "slide"
    }
   },
   "source": [
    "### Recapitulação: Booleanos\n",
    "\n",
    "- `bool` é um tipo de dados em Python, assim como `int`, `float` e `str`.\n",
    "- Significa \"Boolean\", em homenagem a George Boole, um dos primeiros matemáticos.\n",
    "- Existem apenas dois valores booleanos possíveis: `True` ou `False`.\n",
    "- Sim ou não.\n",
    "- Ligado ou desligado.\n",
    "- 1 ou 0.\n",
    "- As comparações resultam em valores booleanos."
   ]
  },
  {
   "cell_type": "code",
   "execution_count": 2,
   "metadata": {
    "execution": {
     "iopub.execute_input": "2024-04-23T16:35:10.986930Z",
     "iopub.status.busy": "2024-04-23T16:35:10.986576Z",
     "iopub.status.idle": "2024-04-23T16:35:10.989917Z",
     "shell.execute_reply": "2024-04-23T16:35:10.989147Z"
    }
   },
   "outputs": [],
   "source": [
    "capstone = 'finished'\n",
    "units = 123"
   ]
  },
  {
   "cell_type": "code",
   "execution_count": 3,
   "metadata": {
    "execution": {
     "iopub.execute_input": "2024-04-23T16:35:10.993304Z",
     "iopub.status.busy": "2024-04-23T16:35:10.992788Z",
     "iopub.status.idle": "2024-04-23T16:35:11.003216Z",
     "shell.execute_reply": "2024-04-23T16:35:11.002311Z"
    }
   },
   "outputs": [
    {
     "data": {
      "text/plain": [
       "False"
      ]
     },
     "execution_count": 3,
     "metadata": {},
     "output_type": "execute_result"
    }
   ],
   "source": [
    "units >= 180"
   ]
  },
  {
   "cell_type": "code",
   "execution_count": 4,
   "metadata": {
    "execution": {
     "iopub.execute_input": "2024-04-23T16:35:11.111371Z",
     "iopub.status.busy": "2024-04-23T16:35:11.110857Z",
     "iopub.status.idle": "2024-04-23T16:35:11.115359Z",
     "shell.execute_reply": "2024-04-23T16:35:11.114668Z"
    }
   },
   "outputs": [
    {
     "data": {
      "text/plain": [
       "bool"
      ]
     },
     "execution_count": 4,
     "metadata": {},
     "output_type": "execute_result"
    }
   ],
   "source": [
    "type(units >= 180)"
   ]
  },
  {
   "cell_type": "markdown",
   "metadata": {
    "slideshow": {
     "slide_type": "slide"
    }
   },
   "source": [
    "### Operadores booleanos; `not`\n",
    "\n",
    "Existem três operadores que nos permitem realizar aritmética com booleanos – `not`, `and` e `or`."
   ]
  },
  {
   "cell_type": "markdown",
   "metadata": {
    "slideshow": {
     "slide_type": "fragment"
    }
   },
   "source": [
    "`not` vira `True` ↔️ `False`."
   ]
  },
  {
   "cell_type": "code",
   "execution_count": 5,
   "metadata": {
    "execution": {
     "iopub.execute_input": "2024-04-23T16:35:11.118334Z",
     "iopub.status.busy": "2024-04-23T16:35:11.118076Z",
     "iopub.status.idle": "2024-04-23T16:35:11.125318Z",
     "shell.execute_reply": "2024-04-23T16:35:11.123733Z"
    }
   },
   "outputs": [
    {
     "data": {
      "text/plain": [
       "'finished'"
      ]
     },
     "execution_count": 5,
     "metadata": {},
     "output_type": "execute_result"
    }
   ],
   "source": [
    "capstone"
   ]
  },
  {
   "cell_type": "code",
   "execution_count": 6,
   "metadata": {
    "execution": {
     "iopub.execute_input": "2024-04-23T16:35:11.128990Z",
     "iopub.status.busy": "2024-04-23T16:35:11.128659Z",
     "iopub.status.idle": "2024-04-23T16:35:11.133320Z",
     "shell.execute_reply": "2024-04-23T16:35:11.132613Z"
    }
   },
   "outputs": [
    {
     "data": {
      "text/plain": [
       "True"
      ]
     },
     "execution_count": 6,
     "metadata": {},
     "output_type": "execute_result"
    }
   ],
   "source": [
    "capstone == 'finished'"
   ]
  },
  {
   "cell_type": "code",
   "execution_count": 7,
   "metadata": {
    "execution": {
     "iopub.execute_input": "2024-04-23T16:35:11.139785Z",
     "iopub.status.busy": "2024-04-23T16:35:11.136372Z",
     "iopub.status.idle": "2024-04-23T16:35:11.144901Z",
     "shell.execute_reply": "2024-04-23T16:35:11.144056Z"
    }
   },
   "outputs": [
    {
     "data": {
      "text/plain": [
       "False"
      ]
     },
     "execution_count": 7,
     "metadata": {},
     "output_type": "execute_result"
    }
   ],
   "source": [
    "not capstone == 'finished'"
   ]
  },
  {
   "cell_type": "markdown",
   "metadata": {
    "slideshow": {
     "slide_type": "slide"
    }
   },
   "source": [
    "### O operador `e`\n",
    "\n",
    "O operador `and` é colocado entre dois `bool`s. É `True` se **ambos** forem `True`; caso contrário, é `Falso`."
   ]
  },
  {
   "cell_type": "code",
   "execution_count": 8,
   "metadata": {
    "execution": {
     "iopub.execute_input": "2024-04-23T16:35:11.148231Z",
     "iopub.status.busy": "2024-04-23T16:35:11.147715Z",
     "iopub.status.idle": "2024-04-23T16:35:11.152213Z",
     "shell.execute_reply": "2024-04-23T16:35:11.151529Z"
    }
   },
   "outputs": [
    {
     "data": {
      "text/plain": [
       "'finished'"
      ]
     },
     "execution_count": 8,
     "metadata": {},
     "output_type": "execute_result"
    }
   ],
   "source": [
    "capstone"
   ]
  },
  {
   "cell_type": "code",
   "execution_count": 9,
   "metadata": {
    "execution": {
     "iopub.execute_input": "2024-04-23T16:35:11.160585Z",
     "iopub.status.busy": "2024-04-23T16:35:11.159826Z",
     "iopub.status.idle": "2024-04-23T16:35:11.167711Z",
     "shell.execute_reply": "2024-04-23T16:35:11.166978Z"
    }
   },
   "outputs": [
    {
     "data": {
      "text/plain": [
       "123"
      ]
     },
     "execution_count": 9,
     "metadata": {},
     "output_type": "execute_result"
    }
   ],
   "source": [
    "units"
   ]
  },
  {
   "cell_type": "code",
   "execution_count": 10,
   "metadata": {
    "execution": {
     "iopub.execute_input": "2024-04-23T16:35:11.171075Z",
     "iopub.status.busy": "2024-04-23T16:35:11.170336Z",
     "iopub.status.idle": "2024-04-23T16:35:11.175556Z",
     "shell.execute_reply": "2024-04-23T16:35:11.174848Z"
    }
   },
   "outputs": [
    {
     "data": {
      "text/plain": [
       "False"
      ]
     },
     "execution_count": 10,
     "metadata": {},
     "output_type": "execute_result"
    }
   ],
   "source": [
    "capstone == 'finished' and units >= 180"
   ]
  },
  {
   "cell_type": "code",
   "execution_count": 11,
   "metadata": {
    "execution": {
     "iopub.execute_input": "2024-04-23T16:35:11.178666Z",
     "iopub.status.busy": "2024-04-23T16:35:11.178220Z",
     "iopub.status.idle": "2024-04-23T16:35:11.183235Z",
     "shell.execute_reply": "2024-04-23T16:35:11.182541Z"
    }
   },
   "outputs": [
    {
     "data": {
      "text/plain": [
       "True"
      ]
     },
     "execution_count": 11,
     "metadata": {},
     "output_type": "execute_result"
    }
   ],
   "source": [
    "capstone == 'finished' and units >= 120"
   ]
  },
  {
   "cell_type": "markdown",
   "metadata": {
    "slideshow": {
     "slide_type": "slide"
    }
   },
   "source": [
    "### O operador `ou`\n",
    "\n",
    "O operador `or` é colocado entre dois `bool`s. É `True` se **pelo menos um** for `True`; caso contrário, é `Falso`."
   ]
  },
  {
   "cell_type": "code",
   "execution_count": 12,
   "metadata": {
    "execution": {
     "iopub.execute_input": "2024-04-23T16:35:11.186819Z",
     "iopub.status.busy": "2024-04-23T16:35:11.186139Z",
     "iopub.status.idle": "2024-04-23T16:35:11.193178Z",
     "shell.execute_reply": "2024-04-23T16:35:11.190807Z"
    }
   },
   "outputs": [
    {
     "data": {
      "text/plain": [
       "'finished'"
      ]
     },
     "execution_count": 12,
     "metadata": {},
     "output_type": "execute_result"
    }
   ],
   "source": [
    "capstone"
   ]
  },
  {
   "cell_type": "code",
   "execution_count": 13,
   "metadata": {
    "execution": {
     "iopub.execute_input": "2024-04-23T16:35:11.197267Z",
     "iopub.status.busy": "2024-04-23T16:35:11.196829Z",
     "iopub.status.idle": "2024-04-23T16:35:11.201275Z",
     "shell.execute_reply": "2024-04-23T16:35:11.200564Z"
    }
   },
   "outputs": [
    {
     "data": {
      "text/plain": [
       "123"
      ]
     },
     "execution_count": 13,
     "metadata": {},
     "output_type": "execute_result"
    }
   ],
   "source": [
    "units"
   ]
  },
  {
   "cell_type": "code",
   "execution_count": 14,
   "metadata": {
    "execution": {
     "iopub.execute_input": "2024-04-23T16:35:11.204563Z",
     "iopub.status.busy": "2024-04-23T16:35:11.204101Z",
     "iopub.status.idle": "2024-04-23T16:35:11.208681Z",
     "shell.execute_reply": "2024-04-23T16:35:11.208024Z"
    }
   },
   "outputs": [
    {
     "data": {
      "text/plain": [
       "True"
      ]
     },
     "execution_count": 14,
     "metadata": {},
     "output_type": "execute_result"
    }
   ],
   "source": [
    "capstone == 'finished' or units >= 180"
   ]
  },
  {
   "cell_type": "code",
   "execution_count": 15,
   "metadata": {
    "execution": {
     "iopub.execute_input": "2024-04-23T16:35:11.211720Z",
     "iopub.status.busy": "2024-04-23T16:35:11.211408Z",
     "iopub.status.idle": "2024-04-23T16:35:11.216064Z",
     "shell.execute_reply": "2024-04-23T16:35:11.215380Z"
    }
   },
   "outputs": [
    {
     "data": {
      "text/plain": [
       "True"
      ]
     },
     "execution_count": 15,
     "metadata": {},
     "output_type": "execute_result"
    }
   ],
   "source": [
    "# Both are True!\n",
    "capstone == 'finished' or units >= 0"
   ]
  },
  {
   "cell_type": "code",
   "execution_count": 16,
   "metadata": {
    "execution": {
     "iopub.execute_input": "2024-04-23T16:35:11.219046Z",
     "iopub.status.busy": "2024-04-23T16:35:11.218738Z",
     "iopub.status.idle": "2024-04-23T16:35:11.226054Z",
     "shell.execute_reply": "2024-04-23T16:35:11.223776Z"
    }
   },
   "outputs": [
    {
     "data": {
      "text/plain": [
       "False"
      ]
     },
     "execution_count": 16,
     "metadata": {},
     "output_type": "execute_result"
    }
   ],
   "source": [
    "# Both are False!\n",
    "capstone == 'not started' or units >= 180"
   ]
  },
  {
   "cell_type": "markdown",
   "metadata": {
    "slideshow": {
     "slide_type": "slide"
    }
   },
   "source": [
    "### Ordem de operações\n",
    "\n",
    "- Por padrão, a ordem das operações é `not`, `and`, `or`. Veja a _precedência_ de todos os operadores em Python [here](https://www.programiz.com/python-programming/precedence-associativity).\n",
    "- Como de costume, use **`(`parênteses`)`** para tornar as expressões mais claras."
   ]
  },
  {
   "cell_type": "code",
   "execution_count": 17,
   "metadata": {
    "execution": {
     "iopub.execute_input": "2024-04-23T16:35:11.229892Z",
     "iopub.status.busy": "2024-04-23T16:35:11.229627Z",
     "iopub.status.idle": "2024-04-23T16:35:11.233865Z",
     "shell.execute_reply": "2024-04-23T16:35:11.233179Z"
    }
   },
   "outputs": [
    {
     "data": {
      "text/plain": [
       "'finished'"
      ]
     },
     "execution_count": 17,
     "metadata": {},
     "output_type": "execute_result"
    }
   ],
   "source": [
    "capstone"
   ]
  },
  {
   "cell_type": "code",
   "execution_count": 18,
   "metadata": {
    "execution": {
     "iopub.execute_input": "2024-04-23T16:35:11.237060Z",
     "iopub.status.busy": "2024-04-23T16:35:11.236767Z",
     "iopub.status.idle": "2024-04-23T16:35:11.241894Z",
     "shell.execute_reply": "2024-04-23T16:35:11.241037Z"
    }
   },
   "outputs": [
    {
     "data": {
      "text/plain": [
       "123"
      ]
     },
     "execution_count": 18,
     "metadata": {},
     "output_type": "execute_result"
    }
   ],
   "source": [
    "units"
   ]
  },
  {
   "cell_type": "code",
   "execution_count": 19,
   "metadata": {
    "execution": {
     "iopub.execute_input": "2024-04-23T16:35:11.244930Z",
     "iopub.status.busy": "2024-04-23T16:35:11.244618Z",
     "iopub.status.idle": "2024-04-23T16:35:11.249572Z",
     "shell.execute_reply": "2024-04-23T16:35:11.248846Z"
    }
   },
   "outputs": [
    {
     "data": {
      "text/plain": [
       "True"
      ]
     },
     "execution_count": 19,
     "metadata": {},
     "output_type": "execute_result"
    }
   ],
   "source": [
    "capstone == 'finished' or (capstone == 'in progress' and units >= 180)"
   ]
  },
  {
   "cell_type": "code",
   "execution_count": 20,
   "metadata": {
    "execution": {
     "iopub.execute_input": "2024-04-23T16:35:11.252614Z",
     "iopub.status.busy": "2024-04-23T16:35:11.252305Z",
     "iopub.status.idle": "2024-04-23T16:35:11.259899Z",
     "shell.execute_reply": "2024-04-23T16:35:11.259095Z"
    }
   },
   "outputs": [
    {
     "data": {
      "text/plain": [
       "False"
      ]
     },
     "execution_count": 20,
     "metadata": {},
     "output_type": "execute_result"
    }
   ],
   "source": [
    "# Different meaning!\n",
    "(capstone == 'finished' or capstone == 'in progress') and units >= 180"
   ]
  },
  {
   "cell_type": "code",
   "execution_count": 21,
   "metadata": {
    "execution": {
     "iopub.execute_input": "2024-04-23T16:35:11.263430Z",
     "iopub.status.busy": "2024-04-23T16:35:11.263086Z",
     "iopub.status.idle": "2024-04-23T16:35:11.268043Z",
     "shell.execute_reply": "2024-04-23T16:35:11.267382Z"
    }
   },
   "outputs": [
    {
     "data": {
      "text/plain": [
       "True"
      ]
     },
     "execution_count": 21,
     "metadata": {},
     "output_type": "execute_result"
    }
   ],
   "source": [
    "# \"and\" has precedence.\n",
    "capstone == 'finished' or capstone == 'in progress' and units >= 180"
   ]
  },
  {
   "cell_type": "markdown",
   "metadata": {
    "slideshow": {
     "slide_type": "slide"
    }
   },
   "source": [
    "### Booleanos podem ser complicados!\n",
    "\n",
    "Por exemplo, `não (a e b)` é **diferente** de `não a e não b`! Se você estiver curioso, leia mais sobre [De Morgan's Laws](https://blog.penjee.com/what-is-demorgans-law-in-programming-answered-with-pics/)."
   ]
  },
  {
   "cell_type": "code",
   "execution_count": 22,
   "metadata": {
    "execution": {
     "iopub.execute_input": "2024-04-23T16:35:11.271010Z",
     "iopub.status.busy": "2024-04-23T16:35:11.270754Z",
     "iopub.status.idle": "2024-04-23T16:35:11.274884Z",
     "shell.execute_reply": "2024-04-23T16:35:11.274214Z"
    }
   },
   "outputs": [
    {
     "data": {
      "text/plain": [
       "'finished'"
      ]
     },
     "execution_count": 22,
     "metadata": {},
     "output_type": "execute_result"
    }
   ],
   "source": [
    "capstone"
   ]
  },
  {
   "cell_type": "code",
   "execution_count": 23,
   "metadata": {
    "execution": {
     "iopub.execute_input": "2024-04-23T16:35:11.277938Z",
     "iopub.status.busy": "2024-04-23T16:35:11.277611Z",
     "iopub.status.idle": "2024-04-23T16:35:11.283390Z",
     "shell.execute_reply": "2024-04-23T16:35:11.282729Z"
    }
   },
   "outputs": [
    {
     "data": {
      "text/plain": [
       "123"
      ]
     },
     "execution_count": 23,
     "metadata": {},
     "output_type": "execute_result"
    }
   ],
   "source": [
    "units"
   ]
  },
  {
   "cell_type": "code",
   "execution_count": 24,
   "metadata": {
    "execution": {
     "iopub.execute_input": "2024-04-23T16:35:11.288392Z",
     "iopub.status.busy": "2024-04-23T16:35:11.287114Z",
     "iopub.status.idle": "2024-04-23T16:35:11.294548Z",
     "shell.execute_reply": "2024-04-23T16:35:11.293659Z"
    }
   },
   "outputs": [
    {
     "data": {
      "text/plain": [
       "True"
      ]
     },
     "execution_count": 24,
     "metadata": {},
     "output_type": "execute_result"
    }
   ],
   "source": [
    "not (capstone == 'finished' and units >= 180)"
   ]
  },
  {
   "cell_type": "code",
   "execution_count": 25,
   "metadata": {
    "execution": {
     "iopub.execute_input": "2024-04-23T16:35:11.298366Z",
     "iopub.status.busy": "2024-04-23T16:35:11.297761Z",
     "iopub.status.idle": "2024-04-23T16:35:11.305557Z",
     "shell.execute_reply": "2024-04-23T16:35:11.304642Z"
    }
   },
   "outputs": [
    {
     "data": {
      "text/plain": [
       "False"
      ]
     },
     "execution_count": 25,
     "metadata": {},
     "output_type": "execute_result"
    }
   ],
   "source": [
    "(not capstone == 'finished') and (not units >= 180)"
   ]
  },
  {
   "cell_type": "markdown",
   "metadata": {
    "slideshow": {
     "slide_type": "slide"
    }
   },
   "source": [
    "### Nota: `&` e `|` vs. `e` e `ou`"
   ]
  },
  {
   "cell_type": "markdown",
   "metadata": {
    "slideshow": {
     "slide_type": "fragment"
    }
   },
   "source": [
    "- Use os operadores `&` e `|` entre duas **Séries**. A aritmética será feita elemento a elemento (separadamente para cada linha).\n",
    "- Isto é relevante ao escrever consultas DataFrame, por ex. `df[(df.get('capstone') == 'concluído') & (df.get('units') >= 180)]`."
   ]
  },
  {
   "cell_type": "markdown",
   "metadata": {
    "slideshow": {
     "slide_type": "fragment"
    }
   },
   "source": [
    "- Use os operadores `and` e `or` entre dois booleanos **individuais**.\n",
    "- por exemplo. `capstone == 'acabado' e unidades >= 180`."
   ]
  },
  {
   "cell_type": "markdown",
   "metadata": {
    "slideshow": {
     "slide_type": "slide"
    }
   },
   "source": [
    "### Verificação de conceito ✅ – Resposta em [cc.dsc10.com](http://cc.dsc10.com)\n",
    "\n",
    "Suponha que definimos `a = True` e `b = True`. Qual é o valor da expressão a seguir?\n",
    "\n",
    "```py\n",
    "not (((not a) and b) or ((not b) or a))\n",
    "```\n",
    "\n",
    "A. `Verdade`\n",
    "\n",
    "Por exemplo, `Falso`\n",
    "\n",
    "C. Poderia ser qualquer um"
   ]
  },
  {
   "cell_type": "markdown",
   "metadata": {
    "slideshow": {
     "slide_type": "slide"
    }
   },
   "source": [
    "### Além: o operador `in`\n",
    "\n",
    "Às vezes, queremos verificar se um elemento específico está em uma lista/matriz ou se uma **substring** específica está em uma string. O operador `in` pode fazer isso por nós:"
   ]
  },
  {
   "cell_type": "code",
   "execution_count": 26,
   "metadata": {
    "execution": {
     "iopub.execute_input": "2024-04-23T16:35:11.310134Z",
     "iopub.status.busy": "2024-04-23T16:35:11.309831Z",
     "iopub.status.idle": "2024-04-23T16:35:11.317132Z",
     "shell.execute_reply": "2024-04-23T16:35:11.316281Z"
    }
   },
   "outputs": [
    {
     "data": {
      "text/plain": [
       "True"
      ]
     },
     "execution_count": 26,
     "metadata": {},
     "output_type": "execute_result"
    }
   ],
   "source": [
    "3 in [1, 2, 3]"
   ]
  },
  {
   "cell_type": "code",
   "execution_count": 27,
   "metadata": {
    "execution": {
     "iopub.execute_input": "2024-04-23T16:35:11.323731Z",
     "iopub.status.busy": "2024-04-23T16:35:11.320561Z",
     "iopub.status.idle": "2024-04-23T16:35:11.330053Z",
     "shell.execute_reply": "2024-04-23T16:35:11.329222Z"
    }
   },
   "outputs": [
    {
     "data": {
      "text/plain": [
       "True"
      ]
     },
     "execution_count": 27,
     "metadata": {},
     "output_type": "execute_result"
    }
   ],
   "source": [
    "'hey' in 'hey my name is'"
   ]
  },
  {
   "cell_type": "code",
   "execution_count": 28,
   "metadata": {
    "execution": {
     "iopub.execute_input": "2024-04-23T16:35:11.334459Z",
     "iopub.status.busy": "2024-04-23T16:35:11.333913Z",
     "iopub.status.idle": "2024-04-23T16:35:11.338978Z",
     "shell.execute_reply": "2024-04-23T16:35:11.338286Z"
    }
   },
   "outputs": [
    {
     "data": {
      "text/plain": [
       "False"
      ]
     },
     "execution_count": 28,
     "metadata": {},
     "output_type": "execute_result"
    }
   ],
   "source": [
    "'dog' in 'hey my name is'"
   ]
  },
  {
   "cell_type": "markdown",
   "metadata": {
    "slideshow": {
     "slide_type": "slide"
    }
   },
   "source": [
    "## Condicionais"
   ]
  },
  {
   "cell_type": "markdown",
   "metadata": {
    "slideshow": {
     "slide_type": "slide"
    }
   },
   "source": [
    "### instruções `if`\n",
    "\n",
    "- Freqüentemente, desejaremos executar um bloco de código somente se uma expressão condicional específica for `True`.\n",
    "- A sintaxe para isso é a seguinte (não esqueça dos dois pontos!):\n",
    "\n",
    "\n",
    "```py\n",
    "if <condition>:\n",
    "    <body>\n",
    "```\n",
    "\n",
    "- O recuo é importante!"
   ]
  },
  {
   "cell_type": "code",
   "execution_count": 29,
   "metadata": {
    "execution": {
     "iopub.execute_input": "2024-04-23T16:35:11.342451Z",
     "iopub.status.busy": "2024-04-23T16:35:11.341835Z",
     "iopub.status.idle": "2024-04-23T16:35:11.346495Z",
     "shell.execute_reply": "2024-04-23T16:35:11.345805Z"
    }
   },
   "outputs": [
    {
     "data": {
      "text/plain": [
       "'finished'"
      ]
     },
     "execution_count": 29,
     "metadata": {},
     "output_type": "execute_result"
    }
   ],
   "source": [
    "capstone = 'finished'\n",
    "capstone"
   ]
  },
  {
   "cell_type": "code",
   "execution_count": 30,
   "metadata": {
    "execution": {
     "iopub.execute_input": "2024-04-23T16:35:11.350020Z",
     "iopub.status.busy": "2024-04-23T16:35:11.349358Z",
     "iopub.status.idle": "2024-04-23T16:35:11.353512Z",
     "shell.execute_reply": "2024-04-23T16:35:11.352845Z"
    }
   },
   "outputs": [
    {
     "name": "stdout",
     "output_type": "stream",
     "text": [
      "Looks like you are ready to graduate!\n"
     ]
    }
   ],
   "source": [
    "if capstone == 'finished':\n",
    "    print('Looks like you are ready to graduate!')"
   ]
  },
  {
   "cell_type": "markdown",
   "metadata": {
    "slideshow": {
     "slide_type": "slide"
    }
   },
   "source": [
    "### `else`\n",
    "\n",
    "`else`: Faça outra coisa se a condição especificada for `False`."
   ]
  },
  {
   "cell_type": "code",
   "execution_count": 31,
   "metadata": {
    "execution": {
     "iopub.execute_input": "2024-04-23T16:35:11.359272Z",
     "iopub.status.busy": "2024-04-23T16:35:11.358503Z",
     "iopub.status.idle": "2024-04-23T16:35:11.364905Z",
     "shell.execute_reply": "2024-04-23T16:35:11.364015Z"
    }
   },
   "outputs": [
    {
     "data": {
      "text/plain": [
       "'finished'"
      ]
     },
     "execution_count": 31,
     "metadata": {},
     "output_type": "execute_result"
    }
   ],
   "source": [
    "capstone = 'finished'\n",
    "capstone"
   ]
  },
  {
   "cell_type": "code",
   "execution_count": 32,
   "metadata": {
    "execution": {
     "iopub.execute_input": "2024-04-23T16:35:11.367848Z",
     "iopub.status.busy": "2024-04-23T16:35:11.367174Z",
     "iopub.status.idle": "2024-04-23T16:35:11.371608Z",
     "shell.execute_reply": "2024-04-23T16:35:11.370947Z"
    }
   },
   "outputs": [
    {
     "name": "stdout",
     "output_type": "stream",
     "text": [
      "Looks like you are ready to graduate!\n"
     ]
    }
   ],
   "source": [
    "if capstone == 'finished':\n",
    "    print('Looks like you are ready to graduate!')\n",
    "else:\n",
    "    print('Before you graduate, you need to finish your capstone project.')"
   ]
  },
  {
   "cell_type": "markdown",
   "metadata": {
    "slideshow": {
     "slide_type": "slide"
    }
   },
   "source": [
    "### `elif`\n",
    "\n",
    "- E se quisermos verificar mais de uma condição? Use `elif`.\n",
    "- `elif`: se a condição especificada for `False`, verifique a próxima condição.\n",
    "- Se essa condição for `False`, verifique a próxima condição e assim por diante, até vermos uma condição `True`.\n",
    "- Depois de ver uma condição `True`, ele avalia o código recuado e para.\n",
    "- Se nenhuma das condições for `True`, o corpo `else` é executado."
   ]
  },
  {
   "cell_type": "code",
   "execution_count": 33,
   "metadata": {
    "execution": {
     "iopub.execute_input": "2024-04-23T16:35:11.374885Z",
     "iopub.status.busy": "2024-04-23T16:35:11.374445Z",
     "iopub.status.idle": "2024-04-23T16:35:11.377957Z",
     "shell.execute_reply": "2024-04-23T16:35:11.377175Z"
    }
   },
   "outputs": [],
   "source": [
    "capstone = 'in progress'\n",
    "units = 123"
   ]
  },
  {
   "cell_type": "code",
   "execution_count": 34,
   "metadata": {
    "execution": {
     "iopub.execute_input": "2024-04-23T16:35:11.380606Z",
     "iopub.status.busy": "2024-04-23T16:35:11.380301Z",
     "iopub.status.idle": "2024-04-23T16:35:11.385723Z",
     "shell.execute_reply": "2024-04-23T16:35:11.384841Z"
    }
   },
   "outputs": [
    {
     "name": "stdout",
     "output_type": "stream",
     "text": [
      "Before you graduate, you need to finish your capstone project and take 57 more units.\n"
     ]
    }
   ],
   "source": [
    "if capstone == 'finished' and units >= 180:\n",
    "    print('Looks like you are ready to graduate!')\n",
    "elif capstone != 'finished' and units < 180:\n",
    "    print('Before you graduate, you need to finish your capstone project and take', 180 - units, 'more units.')\n",
    "elif units >= 180:\n",
    "    print('Before you graduate, you need to finish your capstone project.')\n",
    "else:\n",
    "    print('Before you graduate, you need to take', 180 - units, 'more units.')"
   ]
  },
  {
   "cell_type": "markdown",
   "metadata": {
    "slideshow": {
     "slide_type": "fragment"
    }
   },
   "source": [
    "E se usarmos `if` em vez de `elif`?"
   ]
  },
  {
   "cell_type": "code",
   "execution_count": 35,
   "metadata": {
    "execution": {
     "iopub.execute_input": "2024-04-23T16:35:11.395305Z",
     "iopub.status.busy": "2024-04-23T16:35:11.394779Z",
     "iopub.status.idle": "2024-04-23T16:35:11.400762Z",
     "shell.execute_reply": "2024-04-23T16:35:11.399963Z"
    },
    "slideshow": {
     "slide_type": "-"
    }
   },
   "outputs": [
    {
     "name": "stdout",
     "output_type": "stream",
     "text": [
      "Before you graduate, you need to finish your capstone project and take 57 more units.\n",
      "Before you graduate, you need to take 57 more units.\n"
     ]
    }
   ],
   "source": [
    "if capstone == 'finished' and units >= 180:\n",
    "    print('Looks like you are ready to graduate!')\n",
    "if capstone != 'finished' and units < 180:\n",
    "    print('Before you graduate, you need to finish your capstone project and take', 180 - units, 'more units.')\n",
    "if units >= 180:\n",
    "    print('Before you graduate, you need to finish your capstone project.')\n",
    "else:\n",
    "    print('Before you graduate, you need to take', 180 - units, 'more units.')"
   ]
  },
  {
   "cell_type": "markdown",
   "metadata": {
    "slideshow": {
     "slide_type": "slide"
    }
   },
   "source": [
    "### Exemplo: Porcentagem para nota em letras\n",
    "\n",
    "Abaixo, complete a implementação da função `grade_converter`, que recebe uma nota percentual (`grade`) e retorna a letra da nota correspondente, conforme tabela:\n",
    "\n",
    "| Carta | Alcance |\n",
    "| --- | --- |\n",
    "| Um | [90, 100] |\n",
    "| B | [80, 90) |\n",
    "| C | [70, 80) |\n",
    "| D | [60, 70) |\n",
    "| F | [0, 60)\n",
    "\n",
    "Sua função deve funcionar nestes exemplos:\n",
    "\n",
    "```py\n",
    ">>> grade_converter(84)\n",
    "'B'\n",
    "\n",
    ">>> grade_converter(60)\n",
    "'D'\n",
    "```"
   ]
  },
  {
   "cell_type": "code",
   "execution_count": 36,
   "metadata": {
    "execution": {
     "iopub.execute_input": "2024-04-23T16:35:11.404346Z",
     "iopub.status.busy": "2024-04-23T16:35:11.404001Z",
     "iopub.status.idle": "2024-04-23T16:35:11.409545Z",
     "shell.execute_reply": "2024-04-23T16:35:11.407350Z"
    }
   },
   "outputs": [],
   "source": [
    "def grade_converter(grade):\n",
    "    ..."
   ]
  },
  {
   "cell_type": "code",
   "execution_count": 37,
   "metadata": {
    "execution": {
     "iopub.execute_input": "2024-04-23T16:35:11.412990Z",
     "iopub.status.busy": "2024-04-23T16:35:11.412367Z",
     "iopub.status.idle": "2024-04-23T16:35:11.416963Z",
     "shell.execute_reply": "2024-04-23T16:35:11.416103Z"
    }
   },
   "outputs": [],
   "source": [
    "grade_converter(84)"
   ]
  },
  {
   "cell_type": "code",
   "execution_count": 38,
   "metadata": {
    "execution": {
     "iopub.execute_input": "2024-04-23T16:35:11.422129Z",
     "iopub.status.busy": "2024-04-23T16:35:11.421487Z",
     "iopub.status.idle": "2024-04-23T16:35:11.432254Z",
     "shell.execute_reply": "2024-04-23T16:35:11.431277Z"
    }
   },
   "outputs": [],
   "source": [
    "grade_converter(60)"
   ]
  },
  {
   "cell_type": "markdown",
   "metadata": {
    "slideshow": {
     "slide_type": "slide"
    }
   },
   "source": [
    "### Atividade\n",
    "\n",
    "```py\n",
    "\n",
    "def mystery(a, b):\n",
    "    if (a + b > 4) and (b > 0):\n",
    "        return 'bear'\n",
    "    elif (a * b >= 4) or (b < 0):\n",
    "        return 'triton'\n",
    "    else:\n",
    "        return 'bruin'\n",
    "```\n",
    "\n",
    "Sem executar código:\n",
    "1. O que `mystery(2, 2)` retorna?\n",
    "1. Encontre entradas para que chamar `mystery` produza `'bruin'`."
   ]
  },
  {
   "cell_type": "code",
   "execution_count": 39,
   "metadata": {
    "execution": {
     "iopub.execute_input": "2024-04-23T16:35:11.437186Z",
     "iopub.status.busy": "2024-04-23T16:35:11.436480Z",
     "iopub.status.idle": "2024-04-23T16:35:11.441851Z",
     "shell.execute_reply": "2024-04-23T16:35:11.440867Z"
    },
    "slideshow": {
     "slide_type": "slide"
    }
   },
   "outputs": [],
   "source": [
    "def mystery(a, b):\n",
    "    if (a + b > 4) and (b > 0):\n",
    "        return 'bear'\n",
    "    elif (a * b >= 4) or (b < 0):\n",
    "        return 'triton'\n",
    "    else:\n",
    "        return 'bruin'"
   ]
  },
  {
   "cell_type": "markdown",
   "metadata": {
    "slideshow": {
     "slide_type": "slide"
    }
   },
   "source": [
    "## Iteração"
   ]
  },
  {
   "cell_type": "markdown",
   "metadata": {
    "slideshow": {
     "slide_type": "slide"
    }
   },
   "source": [
    "![](https://raw.githubusercontent.com/flaviovdf/fcd/master/assets/10-Iteracao/images/iteration.png)"
   ]
  },
  {
   "cell_type": "markdown",
   "metadata": {
    "slideshow": {
     "slide_type": "slide"
    }
   },
   "source": [
    "### loops `for`"
   ]
  },
  {
   "cell_type": "code",
   "execution_count": 40,
   "metadata": {
    "execution": {
     "iopub.execute_input": "2024-04-23T16:35:11.445035Z",
     "iopub.status.busy": "2024-04-23T16:35:11.444519Z",
     "iopub.status.idle": "2024-04-23T16:35:16.453520Z",
     "shell.execute_reply": "2024-04-23T16:35:16.452483Z"
    }
   },
   "outputs": [
    {
     "name": "stdout",
     "output_type": "stream",
     "text": [
      "Launching in...\n",
      "t-minus 10\n",
      "t-minus 9\n",
      "t-minus 8\n",
      "t-minus 7\n",
      "t-minus 6\n",
      "t-minus 5\n",
      "t-minus 4\n",
      "t-minus 3\n",
      "t-minus 2\n",
      "t-minus 1\n",
      "Blast off! 🚀\n"
     ]
    }
   ],
   "source": [
    "import time\n",
    "\n",
    "print('Launching in...')\n",
    "\n",
    "for x in [10, 9, 8, 7, 6, 5, 4, 3, 2, 1]:\n",
    "    print('t-minus', x)\n",
    "    time.sleep(0.5) # Pauses for half a second\n",
    "    \n",
    "print('Blast off! 🚀')"
   ]
  },
  {
   "cell_type": "markdown",
   "metadata": {
    "slideshow": {
     "slide_type": "slide"
    }
   },
   "source": [
    "### `for`-loops\n",
    "\n",
    "- Loops nos permitem repetir a execução do código. Existem dois tipos de loops em Python; o loop `for` é um deles.\n",
    "- A sintaxe de um loop `for` é a seguinte:\n",
    "```py\n",
    "for <element> in <sequence>:\n",
    "    <for body>\n",
    "```\n",
    "- Leia isto como: “para cada elemento desta sequência, repita este código”.\n",
    "- Nota: listas, arrays e strings são exemplos de sequências.\n",
    "- Assim como nas instruções `if`, o recuo é importante!"
   ]
  },
  {
   "cell_type": "markdown",
   "metadata": {
    "slideshow": {
     "slide_type": "slide"
    }
   },
   "source": [
    "### Exemplo: Quadrados"
   ]
  },
  {
   "cell_type": "code",
   "execution_count": 41,
   "metadata": {
    "execution": {
     "iopub.execute_input": "2024-04-23T16:35:16.458421Z",
     "iopub.status.busy": "2024-04-23T16:35:16.457272Z",
     "iopub.status.idle": "2024-04-23T16:35:16.464840Z",
     "shell.execute_reply": "2024-04-23T16:35:16.464097Z"
    }
   },
   "outputs": [
    {
     "name": "stdout",
     "output_type": "stream",
     "text": [
      "4 squared is 16\n",
      "2 squared is 4\n",
      "1 squared is 1\n",
      "3 squared is 9\n"
     ]
    }
   ],
   "source": [
    "num = 4\n",
    "print(num, 'squared is', num ** 2)\n",
    "\n",
    "num = 2\n",
    "print(num, 'squared is', num ** 2)\n",
    "\n",
    "num = 1\n",
    "print(num, 'squared is', num ** 2)\n",
    "\n",
    "num = 3\n",
    "print(num, 'squared is', num ** 2)"
   ]
  },
  {
   "cell_type": "code",
   "execution_count": 42,
   "metadata": {
    "execution": {
     "iopub.execute_input": "2024-04-23T16:35:16.467929Z",
     "iopub.status.busy": "2024-04-23T16:35:16.467622Z",
     "iopub.status.idle": "2024-04-23T16:35:16.472103Z",
     "shell.execute_reply": "2024-04-23T16:35:16.471283Z"
    },
    "slideshow": {
     "slide_type": "fragment"
    }
   },
   "outputs": [
    {
     "name": "stdout",
     "output_type": "stream",
     "text": [
      "4 squared is 16\n",
      "2 squared is 4\n",
      "1 squared is 1\n",
      "3 squared is 9\n"
     ]
    }
   ],
   "source": [
    "# The loop variable can be anything!\n",
    "\n",
    "list_of_numbers = [4, 2, 1, 3]\n",
    "\n",
    "for num in list_of_numbers:\n",
    "    print(num, 'squared is', num ** 2)"
   ]
  },
  {
   "cell_type": "markdown",
   "metadata": {
    "slideshow": {
     "slide_type": "fragment"
    }
   },
   "source": [
    "A linha `print(num, 'squared is', num ** 2)` é executada quatro vezes:\n",
    "- Na primeira iteração, `num` é 4.\n",
    "- Na segunda iteração, `num` é 2.\n",
    "- Na terceira iteração, `num` é 1.\n",
    "- Na quarta iteração, `num` é 3.\n",
    "\n",
    "Isso acontece mesmo que não haja `num = ` em lugar nenhum."
   ]
  },
  {
   "cell_type": "markdown",
   "metadata": {
    "slideshow": {
     "slide_type": "slide"
    }
   },
   "source": [
    "### Atividade\n",
    "\n",
    "Usando o array `colleges`, escreva um loop `for` que imprima:\n",
    "\n",
    "```\n",
    "Revelle College\n",
    "John Muir College\n",
    "Thurgood Marshall College\n",
    "Earl Warren College\n",
    "Eleanor Roosevelt College\n",
    "Sixth College\n",
    "Seventh College\n",
    "```\n",
    "\n",
    "<br>\n",
    "<detalhes>\n",
    "<summary>Clique aqui para ver a solução <b>depois</b> de tentar você mesmo.</summary>\n",
    "<br>\n",
    "<pré>\n",
    "para faculdade em faculdades:\n",
    "print(faculdade + 'Faculdade')\n",
    "</pré>\n",
    "\n",
    "</detalhes>"
   ]
  },
  {
   "cell_type": "code",
   "execution_count": 43,
   "metadata": {
    "execution": {
     "iopub.execute_input": "2024-04-23T16:35:16.475579Z",
     "iopub.status.busy": "2024-04-23T16:35:16.475086Z",
     "iopub.status.idle": "2024-04-23T16:35:16.481483Z",
     "shell.execute_reply": "2024-04-23T16:35:16.480576Z"
    }
   },
   "outputs": [],
   "source": [
    "colleges = np.array(['Revelle', 'John Muir', 'Thurgood Marshall', \n",
    "            'Earl Warren', 'Eleanor Roosevelt', 'Sixth', 'Seventh'])"
   ]
  },
  {
   "cell_type": "code",
   "execution_count": 44,
   "metadata": {
    "execution": {
     "iopub.execute_input": "2024-04-23T16:35:16.484988Z",
     "iopub.status.busy": "2024-04-23T16:35:16.484718Z",
     "iopub.status.idle": "2024-04-23T16:35:16.488995Z",
     "shell.execute_reply": "2024-04-23T16:35:16.488314Z"
    }
   },
   "outputs": [
    {
     "data": {
      "text/plain": [
       "Ellipsis"
      ]
     },
     "execution_count": 44,
     "metadata": {},
     "output_type": "execute_result"
    }
   ],
   "source": [
    "..."
   ]
  },
  {
   "cell_type": "markdown",
   "metadata": {
    "slideshow": {
     "slide_type": "slide"
    }
   },
   "source": [
    "### Gamas\n",
    "\n",
    "- Lembre-se, cada elemento de uma lista/array possui uma posição numérica.\n",
    "- A posição do primeiro elemento é 0, a posição do segundo elemento é 1, etc.\n",
    "- Podemos escrever um loop `for` que acessa cada elemento em um array usando sua posição.\n",
    "- `np.arange` será útil."
   ]
  },
  {
   "cell_type": "code",
   "execution_count": 45,
   "metadata": {
    "execution": {
     "iopub.execute_input": "2024-04-23T16:35:16.492159Z",
     "iopub.status.busy": "2024-04-23T16:35:16.491903Z",
     "iopub.status.idle": "2024-04-23T16:35:16.495406Z",
     "shell.execute_reply": "2024-04-23T16:35:16.494717Z"
    }
   },
   "outputs": [],
   "source": [
    "actions = np.array(['ate', 'slept', 'exercised'])\n",
    "feelings = np.array(['content 🙂', 'energized 😃', 'exhausted 😩'])"
   ]
  },
  {
   "cell_type": "code",
   "execution_count": 46,
   "metadata": {
    "execution": {
     "iopub.execute_input": "2024-04-23T16:35:16.498673Z",
     "iopub.status.busy": "2024-04-23T16:35:16.498270Z",
     "iopub.status.idle": "2024-04-23T16:35:16.503259Z",
     "shell.execute_reply": "2024-04-23T16:35:16.502542Z"
    }
   },
   "outputs": [
    {
     "data": {
      "text/plain": [
       "3"
      ]
     },
     "execution_count": 46,
     "metadata": {},
     "output_type": "execute_result"
    }
   ],
   "source": [
    "len(actions)"
   ]
  },
  {
   "cell_type": "code",
   "execution_count": 47,
   "metadata": {
    "execution": {
     "iopub.execute_input": "2024-04-23T16:35:16.506501Z",
     "iopub.status.busy": "2024-04-23T16:35:16.506008Z",
     "iopub.status.idle": "2024-04-23T16:35:16.512714Z",
     "shell.execute_reply": "2024-04-23T16:35:16.511887Z"
    }
   },
   "outputs": [
    {
     "name": "stdout",
     "output_type": "stream",
     "text": [
      "0\n",
      "1\n",
      "2\n"
     ]
    }
   ],
   "source": [
    "for i in np.arange(len(actions)):\n",
    "    print(i)"
   ]
  },
  {
   "cell_type": "code",
   "execution_count": 48,
   "metadata": {
    "execution": {
     "iopub.execute_input": "2024-04-23T16:35:16.516404Z",
     "iopub.status.busy": "2024-04-23T16:35:16.516128Z",
     "iopub.status.idle": "2024-04-23T16:35:16.520177Z",
     "shell.execute_reply": "2024-04-23T16:35:16.519475Z"
    }
   },
   "outputs": [
    {
     "name": "stdout",
     "output_type": "stream",
     "text": [
      "I ate and I felt content 🙂\n",
      "I slept and I felt energized 😃\n",
      "I exercised and I felt exhausted 😩\n"
     ]
    }
   ],
   "source": [
    "for i in np.arange(len(actions)):\n",
    "    print('I', actions[i], 'and I felt', feelings[i])"
   ]
  },
  {
   "cell_type": "markdown",
   "metadata": {
    "slideshow": {
     "slide_type": "slide"
    }
   },
   "source": [
    "### Exemplo: Cachinhos Dourados e os Três Ursos\n",
    "\n",
    "Não precisamos usar a variável de loop!"
   ]
  },
  {
   "cell_type": "code",
   "execution_count": 49,
   "metadata": {
    "execution": {
     "iopub.execute_input": "2024-04-23T16:35:16.523425Z",
     "iopub.status.busy": "2024-04-23T16:35:16.523110Z",
     "iopub.status.idle": "2024-04-23T16:35:16.527367Z",
     "shell.execute_reply": "2024-04-23T16:35:16.526677Z"
    }
   },
   "outputs": [
    {
     "name": "stdout",
     "output_type": "stream",
     "text": [
      "🐻\n",
      "🐻\n",
      "🐻\n",
      "👧🏼\n"
     ]
    }
   ],
   "source": [
    "for i in np.arange(3):\n",
    "    print('🐻')\n",
    "print('👧🏼')"
   ]
  },
  {
   "cell_type": "markdown",
   "metadata": {
    "slideshow": {
     "slide_type": "slide"
    }
   },
   "source": [
    "### Randomização e iteração\n",
    "\n",
    "- Nas próximas aulas, aprenderemos como **simular** eventos aleatórios, como jogar uma moeda."
   ]
  },
  {
   "cell_type": "markdown",
   "metadata": {
    "slideshow": {
     "slide_type": "fragment"
    }
   },
   "source": [
    "- Freqüentemente, iremos:\n",
    "1. Execute um experimento, por ex. \"jogue 10 moedas.\"\n",
    "2. Acompanhe algum resultado, por ex. \"número de cabeças.\"\n",
    "3. Repita as etapas 1 e 2 muitas e muitas vezes usando um loop `for`."
   ]
  },
  {
   "cell_type": "markdown",
   "metadata": {
    "slideshow": {
     "slide_type": "slide"
    }
   },
   "source": [
    "### Armazenando os resultados\n",
    "\n",
    "- Para armazenar nossos resultados, normalmente usaremos um `int` ou um array.\n",
    "- Se estiver usando um `int`, definimos uma variável `int` (geralmente para `0`) antes do loop, então usamos `+` para adicioná-la dentro do loop.\n",
    "- Se estiver usando um array, criamos um array (geralmente vazio) antes do loop, então usamos `np.append` para adicioná-lo dentro do loop.\n"
   ]
  },
  {
   "cell_type": "markdown",
   "metadata": {
    "slideshow": {
     "slide_type": "slide"
    }
   },
   "source": [
    "\n",
    "![](https://raw.githubusercontent.com/flaviovdf/fcd/master/assets/10-Iteracao/images/append.jpg)\n"
   ]
  },
  {
   "cell_type": "markdown",
   "metadata": {
    "slideshow": {
     "slide_type": "slide"
    }
   },
   "source": [
    "### `np.append`\n",
    "\n",
    "- Esta função recebe duas entradas:\n",
    "- uma matriz\n",
    "- um elemento para adicionar ao final do array\n",
    "- Retorna um novo array. Não modifica a matriz de entrada.\n",
    "- Normalmente usamos assim para estender um array em um elemento:\n",
    "`nome_do_array = np.append(nome_do_array, element_to_add)`\n",
    "- ⚠️ **Lembre-se de armazenar o resultado!**"
   ]
  },
  {
   "cell_type": "code",
   "execution_count": 50,
   "metadata": {
    "execution": {
     "iopub.execute_input": "2024-04-23T16:35:16.530552Z",
     "iopub.status.busy": "2024-04-23T16:35:16.530296Z",
     "iopub.status.idle": "2024-04-23T16:35:16.533563Z",
     "shell.execute_reply": "2024-04-23T16:35:16.532765Z"
    }
   },
   "outputs": [],
   "source": [
    "some_array = np.array([])"
   ]
  },
  {
   "cell_type": "code",
   "execution_count": 51,
   "metadata": {
    "execution": {
     "iopub.execute_input": "2024-04-23T16:35:16.536362Z",
     "iopub.status.busy": "2024-04-23T16:35:16.536110Z",
     "iopub.status.idle": "2024-04-23T16:35:16.542476Z",
     "shell.execute_reply": "2024-04-23T16:35:16.541501Z"
    }
   },
   "outputs": [
    {
     "data": {
      "text/plain": [
       "array(['hello'], dtype='<U32')"
      ]
     },
     "execution_count": 51,
     "metadata": {},
     "output_type": "execute_result"
    }
   ],
   "source": [
    "np.append(some_array, 'hello')"
   ]
  },
  {
   "cell_type": "code",
   "execution_count": 52,
   "metadata": {
    "execution": {
     "iopub.execute_input": "2024-04-23T16:35:16.546868Z",
     "iopub.status.busy": "2024-04-23T16:35:16.546528Z",
     "iopub.status.idle": "2024-04-23T16:35:16.551514Z",
     "shell.execute_reply": "2024-04-23T16:35:16.550753Z"
    }
   },
   "outputs": [
    {
     "data": {
      "text/plain": [
       "array([], dtype=float64)"
      ]
     },
     "execution_count": 52,
     "metadata": {},
     "output_type": "execute_result"
    }
   ],
   "source": [
    "some_array"
   ]
  },
  {
   "cell_type": "code",
   "execution_count": 53,
   "metadata": {
    "execution": {
     "iopub.execute_input": "2024-04-23T16:35:16.554676Z",
     "iopub.status.busy": "2024-04-23T16:35:16.554363Z",
     "iopub.status.idle": "2024-04-23T16:35:16.559307Z",
     "shell.execute_reply": "2024-04-23T16:35:16.558594Z"
    }
   },
   "outputs": [
    {
     "data": {
      "text/plain": [
       "array(['hello'], dtype='<U32')"
      ]
     },
     "execution_count": 53,
     "metadata": {},
     "output_type": "execute_result"
    }
   ],
   "source": [
    "# Need to save the new array!\n",
    "some_array = np.append(some_array, 'hello')\n",
    "some_array"
   ]
  },
  {
   "cell_type": "code",
   "execution_count": 54,
   "metadata": {
    "execution": {
     "iopub.execute_input": "2024-04-23T16:35:16.562414Z",
     "iopub.status.busy": "2024-04-23T16:35:16.561936Z",
     "iopub.status.idle": "2024-04-23T16:35:16.567010Z",
     "shell.execute_reply": "2024-04-23T16:35:16.566406Z"
    }
   },
   "outputs": [
    {
     "data": {
      "text/plain": [
       "array(['hello', 'there'], dtype='<U32')"
      ]
     },
     "execution_count": 54,
     "metadata": {},
     "output_type": "execute_result"
    }
   ],
   "source": [
    "some_array = np.append(some_array, 'there')\n",
    "some_array"
   ]
  },
  {
   "cell_type": "markdown",
   "metadata": {
    "slideshow": {
     "slide_type": "slide"
    }
   },
   "source": [
    "### Exemplo: lançamento de moeda\n",
    "\n",
    "A função `flip(n)` lança `n` moedas justas e retorna o número de caras que viu. (Não se preocupe em como isso funciona por enquanto.)"
   ]
  },
  {
   "cell_type": "code",
   "execution_count": 55,
   "metadata": {
    "execution": {
     "iopub.execute_input": "2024-04-23T16:35:16.572400Z",
     "iopub.status.busy": "2024-04-23T16:35:16.572021Z",
     "iopub.status.idle": "2024-04-23T16:35:16.576964Z",
     "shell.execute_reply": "2024-04-23T16:35:16.575961Z"
    }
   },
   "outputs": [],
   "source": [
    "def flip(n):\n",
    "    '''Returns the number of heads in n simulated coin flips, using randomness.'''\n",
    "    return np.random.multinomial(n, [0.5, 0.5])[0]"
   ]
  },
  {
   "cell_type": "code",
   "execution_count": 56,
   "metadata": {
    "execution": {
     "iopub.execute_input": "2024-04-23T16:35:16.581720Z",
     "iopub.status.busy": "2024-04-23T16:35:16.581001Z",
     "iopub.status.idle": "2024-04-23T16:35:16.592229Z",
     "shell.execute_reply": "2024-04-23T16:35:16.591491Z"
    }
   },
   "outputs": [
    {
     "data": {
      "text/plain": [
       "6"
      ]
     },
     "execution_count": 56,
     "metadata": {},
     "output_type": "execute_result"
    }
   ],
   "source": [
    "# Run this cell a few times – you'll see different results!\n",
    "flip(10)"
   ]
  },
  {
   "cell_type": "markdown",
   "metadata": {
    "slideshow": {
     "slide_type": "fragment"
    }
   },
   "source": [
    "Vamos repetir o ato de lançar 10 moedas, 10.000 vezes.\n",
    "- Cada vez, usaremos a função `flip` para lançar 10 moedas e calcular o número de caras que vimos.\n",
    "- Armazenaremos esses números em um array, `heads_array`.\n",
    "- Cada vez que usarmos nossa função `flip` para lançar 10 moedas, adicionaremos um elemento ao final de `heads_array`."
   ]
  },
  {
   "cell_type": "code",
   "execution_count": 57,
   "metadata": {
    "execution": {
     "iopub.execute_input": "2024-04-23T16:35:16.596464Z",
     "iopub.status.busy": "2024-04-23T16:35:16.596173Z",
     "iopub.status.idle": "2024-04-23T16:35:16.703056Z",
     "shell.execute_reply": "2024-04-23T16:35:16.702196Z"
    }
   },
   "outputs": [],
   "source": [
    "# heads_array starts empty – before the simulation, we haven't flipped any coins!\n",
    "heads_array = np.array([])\n",
    "\n",
    "for i in np.arange(10000):\n",
    "    \n",
    "    # Flip 10 coins and count the number of heads.\n",
    "    num_heads = flip(10)\n",
    "    \n",
    "    # Add the number of heads seen to heads_array.\n",
    "    heads_array = np.append(heads_array, num_heads)"
   ]
  },
  {
   "cell_type": "markdown",
   "metadata": {},
   "source": [
    "Agora, `heads_array` contém 10.000 números, cada um correspondendo ao número de caras em 10 lançamentos de moeda simulados."
   ]
  },
  {
   "cell_type": "code",
   "execution_count": 58,
   "metadata": {
    "execution": {
     "iopub.execute_input": "2024-04-23T16:35:16.709521Z",
     "iopub.status.busy": "2024-04-23T16:35:16.707639Z",
     "iopub.status.idle": "2024-04-23T16:35:16.717820Z",
     "shell.execute_reply": "2024-04-23T16:35:16.717014Z"
    }
   },
   "outputs": [
    {
     "data": {
      "text/plain": [
       "array([3., 2., 6., ..., 5., 8., 4.])"
      ]
     },
     "execution_count": 58,
     "metadata": {},
     "output_type": "execute_result"
    }
   ],
   "source": [
    "heads_array"
   ]
  },
  {
   "cell_type": "code",
   "execution_count": 59,
   "metadata": {
    "execution": {
     "iopub.execute_input": "2024-04-23T16:35:16.724076Z",
     "iopub.status.busy": "2024-04-23T16:35:16.723101Z",
     "iopub.status.idle": "2024-04-23T16:35:16.728373Z",
     "shell.execute_reply": "2024-04-23T16:35:16.727617Z"
    }
   },
   "outputs": [
    {
     "data": {
      "text/plain": [
       "10000"
      ]
     },
     "execution_count": 59,
     "metadata": {},
     "output_type": "execute_result"
    }
   ],
   "source": [
    "len(heads_array)"
   ]
  },
  {
   "cell_type": "code",
   "execution_count": 60,
   "metadata": {
    "execution": {
     "iopub.execute_input": "2024-04-23T16:35:16.731732Z",
     "iopub.status.busy": "2024-04-23T16:35:16.731122Z",
     "iopub.status.idle": "2024-04-23T16:35:17.580859Z",
     "shell.execute_reply": "2024-04-23T16:35:17.579997Z"
    }
   },
   "outputs": [
    {
     "data": {
      "image/png": "[encoded data removed]",
      "text/plain": [
       "<Figure size 640x480 with 1 Axes>"
      ]
     },
     "metadata": {},
     "output_type": "display_data"
    }
   ],
   "source": [
    "(bpd.DataFrame().assign(num_heads=heads_array)\n",
    " .plot(kind='hist', density=True, bins=np.arange(0, 12), ec='w', legend=False, \n",
    "       title = 'Distribution of the number of heads in 10 coin flips')\n",
    ");"
   ]
  },
  {
   "cell_type": "markdown",
   "metadata": {
    "slideshow": {
     "slide_type": "slide"
    }
   },
   "source": [
    "### O padrão acumulador"
   ]
  },
  {
   "cell_type": "markdown",
   "metadata": {},
   "source": [
    "![](https://raw.githubusercontent.com/flaviovdf/fcd/master/assets/10-Iteracao/images/accumulate.jpg)"
   ]
  },
  {
   "cell_type": "markdown",
   "metadata": {
    "slideshow": {
     "slide_type": "slide"
    }
   },
   "source": [
    "### loops `for` no DSC 10\n",
    "\n",
    "- Quase todos os loops `for` no DSC 10 usarão o **padrão acumulador**.\n",
    "- Isso significa que inicializamos uma variável e a adicionamos repetidamente dentro de um loop.\n",
    "\n",
    "- **Não** use loops `for` para realizar operações matemáticas em cada elemento de um array ou série.\n",
    "- Em vez disso, use manipulações de DataFrame e métodos de matriz ou série integrados.\n",
    "\n",
    "- Vídeo útil 🎥: [For Loops (and when not to use them) em DSC 10](https://www.youtube.com/watch?v=BlczSBT80fU)."
   ]
  },
  {
   "cell_type": "markdown",
   "metadata": {
    "slideshow": {
     "slide_type": "slide"
    }
   },
   "source": [
    "### Trabalhando com strings\n",
    "\n",
    "String são sequências, então podemos iterá-las também!"
   ]
  },
  {
   "cell_type": "code",
   "execution_count": 61,
   "metadata": {
    "execution": {
     "iopub.execute_input": "2024-04-23T16:35:17.586487Z",
     "iopub.status.busy": "2024-04-23T16:35:17.585521Z",
     "iopub.status.idle": "2024-04-23T16:35:17.592962Z",
     "shell.execute_reply": "2024-04-23T16:35:17.592133Z"
    }
   },
   "outputs": [
    {
     "name": "stdout",
     "output_type": "stream",
     "text": [
      "U\n",
      "C\n",
      " \n",
      "S\n",
      "A\n",
      "N\n",
      " \n",
      "D\n",
      "I\n",
      "E\n",
      "G\n",
      "O\n"
     ]
    }
   ],
   "source": [
    "for letter in 'uc san diego':\n",
    "    print(letter.upper())"
   ]
  },
  {
   "cell_type": "code",
   "execution_count": 62,
   "metadata": {
    "execution": {
     "iopub.execute_input": "2024-04-23T16:35:17.598723Z",
     "iopub.status.busy": "2024-04-23T16:35:17.597217Z",
     "iopub.status.idle": "2024-04-23T16:35:17.605712Z",
     "shell.execute_reply": "2024-04-23T16:35:17.603956Z"
    }
   },
   "outputs": [
    {
     "data": {
      "text/plain": [
       "2"
      ]
     },
     "execution_count": 62,
     "metadata": {},
     "output_type": "execute_result"
    }
   ],
   "source": [
    "'california'.count('a')"
   ]
  },
  {
   "cell_type": "markdown",
   "metadata": {
    "slideshow": {
     "slide_type": "slide"
    }
   },
   "source": [
    "### Exemplo: contagem de vogais\n",
    "\n",
    "Abaixo, complete a implementação da função `vowel_count`, que retorna o número de vogais na string de entrada `s` (incluindo repetições). Um exemplo de comportamento é mostrado abaixo.\n",
    "\n",
    "```py\n",
    ">>> vowel_count('king triton')\n",
    "3\n",
    "\n",
    ">>> vowel_count('i go to uc san diego')\n",
    "8\n",
    "```"
   ]
  },
  {
   "cell_type": "code",
   "execution_count": 63,
   "metadata": {
    "execution": {
     "iopub.execute_input": "2024-04-23T16:35:17.610377Z",
     "iopub.status.busy": "2024-04-23T16:35:17.610153Z",
     "iopub.status.idle": "2024-04-23T16:35:17.613577Z",
     "shell.execute_reply": "2024-04-23T16:35:17.612698Z"
    }
   },
   "outputs": [],
   "source": [
    "def vowel_count(s):\n",
    "    \n",
    "    # We need to keep track of the number of vowels seen so far. Before we start, we've seen zero vowels.\n",
    "    number = 0\n",
    "    \n",
    "    # For each of the 5 vowels:\n",
    "       \n",
    "        # Count the number of occurrences of this vowel in s.\n",
    "        \n",
    "        # Add this count to the variable number.\n",
    "    \n",
    "    # Once we've gotten through all 5 vowels, return the answer.\n",
    "    "
   ]
  },
  {
   "cell_type": "code",
   "execution_count": 64,
   "metadata": {
    "execution": {
     "iopub.execute_input": "2024-04-23T16:35:17.616712Z",
     "iopub.status.busy": "2024-04-23T16:35:17.616515Z",
     "iopub.status.idle": "2024-04-23T16:35:17.619544Z",
     "shell.execute_reply": "2024-04-23T16:35:17.618815Z"
    }
   },
   "outputs": [],
   "source": [
    "vowel_count('king triton')"
   ]
  },
  {
   "cell_type": "code",
   "execution_count": 65,
   "metadata": {
    "execution": {
     "iopub.execute_input": "2024-04-23T16:35:17.622492Z",
     "iopub.status.busy": "2024-04-23T16:35:17.622295Z",
     "iopub.status.idle": "2024-04-23T16:35:17.625269Z",
     "shell.execute_reply": "2024-04-23T16:35:17.624489Z"
    }
   },
   "outputs": [],
   "source": [
    "vowel_count('i go to uc san diego')"
   ]
  },
  {
   "cell_type": "markdown",
   "metadata": {
    "slideshow": {
     "slide_type": "slide"
    }
   },
   "source": [
    "## Resumo, da próxima vez"
   ]
  },
  {
   "cell_type": "markdown",
   "metadata": {
    "slideshow": {
     "slide_type": "slide"
    }
   },
   "source": [
    "### Resumo\n",
    "\n",
    "- As instruções `if` nos permitem executar pedaços de código dependendo se certas condições são `True`.\n",
    "- `for`-loops são usados ​​para repetir a execução do código para cada elemento de uma sequência.\n",
    "- Listas, arrays e strings são exemplos de sequências."
   ]
  }
 ],
 "metadata": {
  "kernelspec": {
   "display_name": "Python 3 (ipykernel)",
   "language": "python",
   "name": "python3"
  },
  "language_info": {
   "codemirror_mode": {
    "name": "ipython",
    "version": 3
   },
   "file_extension": ".py",
   "mimetype": "text/x-python",
   "name": "python",
   "nbconvert_exporter": "python",
   "pygments_lexer": "ipython3",
   "version": "3.11.2"
  },
  "livereveal": {
   "scroll": true,
   "transition": "none"
  },
  "rise": {
   "enable_chalkboard": true
  }
 },
 "nbformat": 4,
 "nbformat_minor": 4
}
