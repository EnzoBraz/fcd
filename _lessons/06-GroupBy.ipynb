{
 "cells": [
  {
   "cell_type": "markdown",
   "metadata": {},
   "source": [
    "---\n",
    "layout: page\n",
    "title: GroupBy\n",
    "nav_order: 6\n",
    "---\n",
    "[<img src=\"./colab_favicon_small.png\" style=\"float: right;\">](https://colab.research.google.com/github/flaviovdf/fcd/blob/master/_lessons/04-Arrays.ipynb)\n",
    "\n",
    "# Tópico 6 – Mais consultas e GroupBy\n",
    "\n",
    "Os dados de hoje estão [aqui (Afonso Pena)](https://raw.githubusercontent.com/flaviovdf/fcd/main/assets/06-GroupBy/data/afonso_pena.csv) e [aqui (IMDB)](https://raw.githubusercontent.com/flaviovdf/fcd/main/assets/06-GroupBy/data/imdb.csv)"
   ]
  },
  {
   "cell_type": "code",
   "execution_count": 1,
   "metadata": {
    "execution": {
     "iopub.execute_input": "2024-03-28T17:44:10.184139Z",
     "iopub.status.busy": "2024-03-28T17:44:10.182349Z",
     "iopub.status.idle": "2024-03-28T17:44:10.198016Z",
     "shell.execute_reply": "2024-03-28T17:44:10.194842Z"
    }
   },
   "outputs": [],
   "source": [
    "# Descomente e execute as linhas a seguir para usar o BabyPandas e o PandasTutor\n",
    "# (faça isso apenas se não tiver instalado ainda)\n",
    "# ! pip install babypandas\n",
    "# ! pip install pandas_tutor"
   ]
  },
  {
   "cell_type": "code",
   "execution_count": 2,
   "metadata": {
    "execution": {
     "iopub.execute_input": "2024-03-28T17:44:10.206218Z",
     "iopub.status.busy": "2024-03-28T17:44:10.205617Z",
     "iopub.status.idle": "2024-03-28T17:44:10.823233Z",
     "shell.execute_reply": "2024-03-28T17:44:10.822567Z"
    },
    "slideshow": {
     "slide_type": "skip"
    }
   },
   "outputs": [],
   "source": [
    "import babypandas as bpd\n",
    "import numpy as np\n",
    "\n",
    "\n",
    "# Estamos importando o matplotlib pela primeira vez.\n",
    "# Serve para fazer gráficos\n",
    "import matplotlib.pyplot as plt\n",
    "plt.style.use('ggplot')"
   ]
  },
  {
   "cell_type": "code",
   "execution_count": 3,
   "metadata": {
    "execution": {
     "iopub.execute_input": "2024-03-28T17:44:10.826767Z",
     "iopub.status.busy": "2024-03-28T17:44:10.826155Z",
     "iopub.status.idle": "2024-03-28T17:44:11.240540Z",
     "shell.execute_reply": "2024-03-28T17:44:11.239775Z"
    }
   },
   "outputs": [
    {
     "data": {
      "text/html": [
       "\n",
       "<script type=\"text/javascript\" src=\"https://pandastutor.com/build/wsembed.bundle.2022-07-07-release.js\"></script>\n",
       "<script>\n",
       "console.log(\"initializing pandas_tutor js\")\n",
       "\n",
       "function drawWsv(viz_id, spec, options) {\n",
       "  if (typeof createWsvFromPandasTrace === 'undefined') {\n",
       "    setTimeout(() => drawWsv(viz_id, spec, options), 2000) // retry in 2 seconds\n",
       "    return\n",
       "  }\n",
       "  createWsvFromPandasTrace(viz_id, spec, options)\n",
       "}\n",
       "</script>\n"
      ],
      "text/plain": [
       "<IPython.core.display.HTML object>"
      ]
     },
     "metadata": {},
     "output_type": "display_data"
    }
   ],
   "source": [
    "# Esssas linhas servem para que o Pandas Tutor execute\n",
    "%reload_ext pandas_tutor\n",
    "%set_pandas_tutor_options {'projectorMode': True}"
   ]
  },
  {
   "cell_type": "markdown",
   "metadata": {
    "slideshow": {
     "slide_type": "slide"
    }
   },
   "source": [
    "### Hoje\n",
    "\n",
    "- Recapitulação: consultas.\n",
    "- Consultas com múltiplas condições.\n",
    "- Grupo por.\n",
    "- Prática extra, incluindo problemas de desafio."
   ]
  },
  {
   "cell_type": "markdown",
   "metadata": {
    "slideshow": {
     "slide_type": "slide"
    }
   },
   "source": [
    "### Sobre os dados: Ainda estamos na feira da Afonso Pena\n",
    "\n",
    "O DataFrame `df` contém dados dos feirantes da Afonso Pena"
   ]
  },
  {
   "cell_type": "code",
   "execution_count": 4,
   "metadata": {
    "execution": {
     "iopub.execute_input": "2024-03-28T17:44:11.290373Z",
     "iopub.status.busy": "2024-03-28T17:44:11.289415Z",
     "iopub.status.idle": "2024-03-28T17:44:11.317880Z",
     "shell.execute_reply": "2024-03-28T17:44:11.317174Z"
    }
   },
   "outputs": [
    {
     "data": {
      "text/html": [
       "<div>\n",
       "<style scoped>\n",
       "    .dataframe tbody tr th:only-of-type {\n",
       "        vertical-align: middle;\n",
       "    }\n",
       "\n",
       "    .dataframe tbody tr th {\n",
       "        vertical-align: top;\n",
       "    }\n",
       "\n",
       "    .dataframe thead th {\n",
       "        text-align: right;\n",
       "    }\n",
       "</style>\n",
       "<table border=\"1\" class=\"dataframe\">\n",
       "  <thead>\n",
       "    <tr style=\"text-align: right;\">\n",
       "      <th></th>\n",
       "      <th>CODIGO_VAGA</th>\n",
       "      <th>NOME_FANTASIA</th>\n",
       "      <th>NOME_FEIRANTE</th>\n",
       "      <th>NOME_PREPOSTO</th>\n",
       "      <th>NOME_SETOR</th>\n",
       "      <th>PRODUTOS</th>\n",
       "      <th>NUMERO_PRODUTOS_CADASTRADOS</th>\n",
       "      <th>AREA</th>\n",
       "      <th>DENSIDADE</th>\n",
       "    </tr>\n",
       "    <tr>\n",
       "      <th>ID_FEIRA_AFONSO_PENA_BARRACA</th>\n",
       "      <th></th>\n",
       "      <th></th>\n",
       "      <th></th>\n",
       "      <th></th>\n",
       "      <th></th>\n",
       "      <th></th>\n",
       "      <th></th>\n",
       "      <th></th>\n",
       "      <th></th>\n",
       "    </tr>\n",
       "  </thead>\n",
       "  <tbody>\n",
       "    <tr>\n",
       "      <th>83</th>\n",
       "      <td>F.F2.V016</td>\n",
       "      <td>BARRACA CARMEN EMMANUEL DOS SANTOS SILVA</td>\n",
       "      <td>CARMEN EMMANUEL DOS SANTOS SILVA</td>\n",
       "      <td>JANA FONSECA VIEIRA</td>\n",
       "      <td>Criança</td>\n",
       "      <td>BOLSA DE BEBÊ, MALA DE MATERNIDADE, NECESSÁIRE...</td>\n",
       "      <td>5.0</td>\n",
       "      <td>11.838911</td>\n",
       "      <td>0.422336</td>\n",
       "    </tr>\n",
       "    <tr>\n",
       "      <th>84</th>\n",
       "      <td>G.F3.V052</td>\n",
       "      <td>BARRACA CARMEN FERNANDA ROCHA DE ALCANTARA</td>\n",
       "      <td>CARMEN FERNANDA ROCHA DE ALCANTARA</td>\n",
       "      <td>KARINA RODRIGUES BRANDORFI</td>\n",
       "      <td>Bijouterias</td>\n",
       "      <td>BRINCO, ANEL, PULSEIRA, COLAR, ARCO</td>\n",
       "      <td>5.0</td>\n",
       "      <td>11.838911</td>\n",
       "      <td>0.422336</td>\n",
       "    </tr>\n",
       "    <tr>\n",
       "      <th>85</th>\n",
       "      <td>E.F4.V003</td>\n",
       "      <td>BARRACA CARMEN LÚCIA CARVALHO DE ALMEIDA</td>\n",
       "      <td>CARMEN LÚCIA CARVALHO DE ALMEIDA</td>\n",
       "      <td>BARBARA ISABELLE CARVALHO DE PAULA</td>\n",
       "      <td>Vestuário Infantil</td>\n",
       "      <td>VESTIDO, CONJUNTO, MACACÃO</td>\n",
       "      <td>3.0</td>\n",
       "      <td>11.838911</td>\n",
       "      <td>0.253402</td>\n",
       "    </tr>\n",
       "    <tr>\n",
       "      <th>86</th>\n",
       "      <td>E.F2.V004</td>\n",
       "      <td>BARRACA CECÍLIA PAGANO NEVES SALAZAR</td>\n",
       "      <td>CECÍLIA PAGANO NEVES SALAZAR</td>\n",
       "      <td>GISELE PAGANO NEVES SALAZAR</td>\n",
       "      <td>Vestuário Infantil</td>\n",
       "      <td>MACACÃO, BLUSA, SAPATINHO</td>\n",
       "      <td>3.0</td>\n",
       "      <td>11.827592</td>\n",
       "      <td>0.253644</td>\n",
       "    </tr>\n",
       "    <tr>\n",
       "      <th>87</th>\n",
       "      <td>D.F2.V016</td>\n",
       "      <td>BARRACA CÉLIA APARECIDA DE SOUZA</td>\n",
       "      <td>CÉLIA APARECIDA DE SOUZA</td>\n",
       "      <td>EDSON PIRES DE SOUZA</td>\n",
       "      <td>Vestuário</td>\n",
       "      <td>BLUSA, BERMUDA, ROUPA DE GINÁSTICA, SAIA, VEST...</td>\n",
       "      <td>7.0</td>\n",
       "      <td>11.827592</td>\n",
       "      <td>0.591836</td>\n",
       "    </tr>\n",
       "    <tr>\n",
       "      <th>...</th>\n",
       "      <td>...</td>\n",
       "      <td>...</td>\n",
       "      <td>...</td>\n",
       "      <td>...</td>\n",
       "      <td>...</td>\n",
       "      <td>...</td>\n",
       "      <td>...</td>\n",
       "      <td>...</td>\n",
       "      <td>...</td>\n",
       "    </tr>\n",
       "    <tr>\n",
       "      <th>1350</th>\n",
       "      <td>G.F4.V014</td>\n",
       "      <td>BARRACA HELCIO LICIO SILVA</td>\n",
       "      <td>HELCIO LICIO SILVA</td>\n",
       "      <td>GRAZIELA CRISTINA RAMALHO SILVA</td>\n",
       "      <td>Bijouterias</td>\n",
       "      <td>ANEL, COLAR, BROCHE, BRINCO, PULSEIRA, ALIANÇA...</td>\n",
       "      <td>7.0</td>\n",
       "      <td>11.838911</td>\n",
       "      <td>0.591271</td>\n",
       "    </tr>\n",
       "    <tr>\n",
       "      <th>1351</th>\n",
       "      <td>J.F1.V004</td>\n",
       "      <td>BARRACA DIEGO DOS SANTOS DIAS</td>\n",
       "      <td>DIEGO DOS SANTOS DIAS</td>\n",
       "      <td>CELSO DE SOUZA LINHARES</td>\n",
       "      <td>Calçados</td>\n",
       "      <td>RASTEIRINHA, SAPATO, SANDÁLIA</td>\n",
       "      <td>3.0</td>\n",
       "      <td>11.827592</td>\n",
       "      <td>0.253644</td>\n",
       "    </tr>\n",
       "    <tr>\n",
       "      <th>1352</th>\n",
       "      <td>D.F4.V050</td>\n",
       "      <td>BARRACA JAIR CORREA</td>\n",
       "      <td>JAIR CORREA</td>\n",
       "      <td>Keli Aparecida Batista Correa</td>\n",
       "      <td>Vestuário</td>\n",
       "      <td>VESTIDO DE MALHA, BATA DE TECIDO, CONJUNTO, SA...</td>\n",
       "      <td>5.0</td>\n",
       "      <td>11.827592</td>\n",
       "      <td>0.422740</td>\n",
       "    </tr>\n",
       "    <tr>\n",
       "      <th>1353</th>\n",
       "      <td>G.F2.V010</td>\n",
       "      <td>BARRACA SIDNEY FERNANDO KNEIPP SOARES</td>\n",
       "      <td>SIDNEY FERNANDO KNEIPP SOARES</td>\n",
       "      <td>ANA PAULA FAUSTINA DE SOUZA</td>\n",
       "      <td>Bijouterias</td>\n",
       "      <td>COLAR, GARGANTILHA, ARCO, ANEL, PASSADOR DE CA...</td>\n",
       "      <td>7.0</td>\n",
       "      <td>11.838911</td>\n",
       "      <td>0.591271</td>\n",
       "    </tr>\n",
       "    <tr>\n",
       "      <th>1354</th>\n",
       "      <td>G.F1.V061</td>\n",
       "      <td>BARRACA REGINA GARCIA FERREIRA</td>\n",
       "      <td>REGINA GARCIA FERREIRA</td>\n",
       "      <td>Rejane Garcia Ferreira Clemente</td>\n",
       "      <td>Bijouterias</td>\n",
       "      <td>COLAR DE METAL, PRESILHA, PASSADOR DE CABELO, ...</td>\n",
       "      <td>4.0</td>\n",
       "      <td>11.827592</td>\n",
       "      <td>0.338192</td>\n",
       "    </tr>\n",
       "  </tbody>\n",
       "</table>\n",
       "<p>1250 rows × 9 columns</p>\n",
       "</div>"
      ],
      "text/plain": [
       "                             CODIGO_VAGA  \\\n",
       "ID_FEIRA_AFONSO_PENA_BARRACA               \n",
       "83                             F.F2.V016   \n",
       "84                             G.F3.V052   \n",
       "85                             E.F4.V003   \n",
       "86                             E.F2.V004   \n",
       "87                             D.F2.V016   \n",
       "...                                  ...   \n",
       "1350                           G.F4.V014   \n",
       "1351                           J.F1.V004   \n",
       "1352                           D.F4.V050   \n",
       "1353                           G.F2.V010   \n",
       "1354                           G.F1.V061   \n",
       "\n",
       "                                                           NOME_FANTASIA  \\\n",
       "ID_FEIRA_AFONSO_PENA_BARRACA                                               \n",
       "83                              BARRACA CARMEN EMMANUEL DOS SANTOS SILVA   \n",
       "84                            BARRACA CARMEN FERNANDA ROCHA DE ALCANTARA   \n",
       "85                              BARRACA CARMEN LÚCIA CARVALHO DE ALMEIDA   \n",
       "86                                  BARRACA CECÍLIA PAGANO NEVES SALAZAR   \n",
       "87                                      BARRACA CÉLIA APARECIDA DE SOUZA   \n",
       "...                                                                  ...   \n",
       "1350                                          BARRACA HELCIO LICIO SILVA   \n",
       "1351                                       BARRACA DIEGO DOS SANTOS DIAS   \n",
       "1352                                                 BARRACA JAIR CORREA   \n",
       "1353                               BARRACA SIDNEY FERNANDO KNEIPP SOARES   \n",
       "1354                                      BARRACA REGINA GARCIA FERREIRA   \n",
       "\n",
       "                                                   NOME_FEIRANTE  \\\n",
       "ID_FEIRA_AFONSO_PENA_BARRACA                                       \n",
       "83                              CARMEN EMMANUEL DOS SANTOS SILVA   \n",
       "84                            CARMEN FERNANDA ROCHA DE ALCANTARA   \n",
       "85                              CARMEN LÚCIA CARVALHO DE ALMEIDA   \n",
       "86                                  CECÍLIA PAGANO NEVES SALAZAR   \n",
       "87                                      CÉLIA APARECIDA DE SOUZA   \n",
       "...                                                          ...   \n",
       "1350                                          HELCIO LICIO SILVA   \n",
       "1351                                       DIEGO DOS SANTOS DIAS   \n",
       "1352                                                 JAIR CORREA   \n",
       "1353                               SIDNEY FERNANDO KNEIPP SOARES   \n",
       "1354                                      REGINA GARCIA FERREIRA   \n",
       "\n",
       "                                                   NOME_PREPOSTO  \\\n",
       "ID_FEIRA_AFONSO_PENA_BARRACA                                       \n",
       "83                                           JANA FONSECA VIEIRA   \n",
       "84                                    KARINA RODRIGUES BRANDORFI   \n",
       "85                            BARBARA ISABELLE CARVALHO DE PAULA   \n",
       "86                                   GISELE PAGANO NEVES SALAZAR   \n",
       "87                                          EDSON PIRES DE SOUZA   \n",
       "...                                                          ...   \n",
       "1350                             GRAZIELA CRISTINA RAMALHO SILVA   \n",
       "1351                                     CELSO DE SOUZA LINHARES   \n",
       "1352                               Keli Aparecida Batista Correa   \n",
       "1353                                 ANA PAULA FAUSTINA DE SOUZA   \n",
       "1354                             Rejane Garcia Ferreira Clemente   \n",
       "\n",
       "                                      NOME_SETOR  \\\n",
       "ID_FEIRA_AFONSO_PENA_BARRACA                       \n",
       "83                                       Criança   \n",
       "84                                   Bijouterias   \n",
       "85                            Vestuário Infantil   \n",
       "86                            Vestuário Infantil   \n",
       "87                                     Vestuário   \n",
       "...                                          ...   \n",
       "1350                                 Bijouterias   \n",
       "1351                                    Calçados   \n",
       "1352                                   Vestuário   \n",
       "1353                                 Bijouterias   \n",
       "1354                                 Bijouterias   \n",
       "\n",
       "                                                                       PRODUTOS  \\\n",
       "ID_FEIRA_AFONSO_PENA_BARRACA                                                      \n",
       "83                            BOLSA DE BEBÊ, MALA DE MATERNIDADE, NECESSÁIRE...   \n",
       "84                                          BRINCO, ANEL, PULSEIRA, COLAR, ARCO   \n",
       "85                                                   VESTIDO, CONJUNTO, MACACÃO   \n",
       "86                                                    MACACÃO, BLUSA, SAPATINHO   \n",
       "87                            BLUSA, BERMUDA, ROUPA DE GINÁSTICA, SAIA, VEST...   \n",
       "...                                                                         ...   \n",
       "1350                          ANEL, COLAR, BROCHE, BRINCO, PULSEIRA, ALIANÇA...   \n",
       "1351                                              RASTEIRINHA, SAPATO, SANDÁLIA   \n",
       "1352                          VESTIDO DE MALHA, BATA DE TECIDO, CONJUNTO, SA...   \n",
       "1353                          COLAR, GARGANTILHA, ARCO, ANEL, PASSADOR DE CA...   \n",
       "1354                          COLAR DE METAL, PRESILHA, PASSADOR DE CABELO, ...   \n",
       "\n",
       "                              NUMERO_PRODUTOS_CADASTRADOS       AREA  \\\n",
       "ID_FEIRA_AFONSO_PENA_BARRACA                                           \n",
       "83                                                    5.0  11.838911   \n",
       "84                                                    5.0  11.838911   \n",
       "85                                                    3.0  11.838911   \n",
       "86                                                    3.0  11.827592   \n",
       "87                                                    7.0  11.827592   \n",
       "...                                                   ...        ...   \n",
       "1350                                                  7.0  11.838911   \n",
       "1351                                                  3.0  11.827592   \n",
       "1352                                                  5.0  11.827592   \n",
       "1353                                                  7.0  11.838911   \n",
       "1354                                                  4.0  11.827592   \n",
       "\n",
       "                              DENSIDADE  \n",
       "ID_FEIRA_AFONSO_PENA_BARRACA             \n",
       "83                             0.422336  \n",
       "84                             0.422336  \n",
       "85                             0.253402  \n",
       "86                             0.253644  \n",
       "87                             0.591836  \n",
       "...                                 ...  \n",
       "1350                           0.591271  \n",
       "1351                           0.253644  \n",
       "1352                           0.422740  \n",
       "1353                           0.591271  \n",
       "1354                           0.338192  \n",
       "\n",
       "[1250 rows x 9 columns]"
      ]
     },
     "execution_count": 4,
     "metadata": {},
     "output_type": "execute_result"
    }
   ],
   "source": [
    "# para rodar no colab use 'https://raw.githubusercontent.com/flaviovdf/fcd/main/assets/06-GroupBy/data/afonso_pena.csv'\n",
    "# i.e., df = bpd.read_csv('https://raw.githubusercontent.com/flaviovdf/fcd/main/assets/06-GroupBy/data/afonso_pena.csv')\n",
    "df = bpd.read_csv('afonso_pena.csv')\n",
    "\n",
    "produtos = df.get('NUMERO_PRODUTOS_CADASTRADOS')\n",
    "area = df.get('AREA')\n",
    "\n",
    "df = df.assign(\n",
    "    DENSIDADE= produtos / area\n",
    ")\n",
    "df = df.set_index('ID_FEIRA_AFONSO_PENA_BARRACA')\n",
    "df"
   ]
  },
  {
   "cell_type": "markdown",
   "metadata": {
    "slideshow": {
     "slide_type": "slide"
    }
   },
   "source": [
    "## Recapitulação: consultas"
   ]
  },
  {
   "cell_type": "markdown",
   "metadata": {
    "slideshow": {
     "slide_type": "slide"
    }
   },
   "source": [
    "### O que é uma consulta? 🤔\n",
    "\n",
    "- Uma \"consulta\" é um código que extrai linhas de um DataFrame para as quais determinadas condições são verdadeiras.\n",
    "- Freqüentemente usamos consultas para _filtrar_ DataFrames para que contenham apenas as linhas que satisfaçam as condições declaradas em nossas perguntas."
   ]
  },
  {
   "cell_type": "markdown",
   "metadata": {
    "slideshow": {
     "slide_type": "slide"
    }
   },
   "source": [
    "### Como consultamos um DataFrame?\n",
    "\n",
    "Para selecionar apenas determinadas linhas do DataFrame `df`:\n",
    "\n",
    "1. Faça uma sequência (lista/array/Série) de `True`s (manter) e `False`s (jogar fora), geralmente fazendo uma comparação.\n",
    "2. Em seguida, passe-o para `df[consulta]`."
   ]
  },
  {
   "cell_type": "markdown",
   "metadata": {
    "slideshow": {
     "slide_type": "slide"
    }
   },
   "source": [
    "### Comparações entre elementos\n",
    "\n",
    "Existem vários tipos de comparações que podemos fazer.\n",
    "\n",
    "|símbolo|significado|\n",
    "|--------|--------|\n",
    "|`==` |igual a |\n",
    "|`!=` |diferente de |\n",
    "|`<`|menos que|\n",
    "|`<=`|menor ou igual a|\n",
    "|`>`|maior que|\n",
    "|`>=`|maior ou igual a|"
   ]
  },
  {
   "cell_type": "markdown",
   "metadata": {
    "slideshow": {
     "slide_type": "slide"
    }
   },
   "source": [
    "## Exemplo 5: Qual o número de barracas de comida?\n",
    "\n",
    "**Conceito principal**: consulta"
   ]
  },
  {
   "cell_type": "markdown",
   "metadata": {
    "slideshow": {
     "slide_type": "slide"
    }
   },
   "source": [
    "### Estratégia\n",
    "\n",
    "1. Consulta para extrair um DataFrame apenas das solicitações `'Alimentação'`.\n",
    "2. Classifique por `'NUMERO_PRODUTOS_CADASTRADOS'` em ordem decrescente.\n",
    "3. Extraia o primeiro elemento da coluna `'NOME_FEIRANTE'`."
   ]
  },
  {
   "cell_type": "code",
   "execution_count": 5,
   "metadata": {
    "execution": {
     "iopub.execute_input": "2024-03-28T17:44:11.320816Z",
     "iopub.status.busy": "2024-03-28T17:44:11.320431Z",
     "iopub.status.idle": "2024-03-28T17:44:11.325942Z",
     "shell.execute_reply": "2024-03-28T17:44:11.325249Z"
    }
   },
   "outputs": [
    {
     "data": {
      "text/plain": [
       "(100, 9)"
      ]
     },
     "execution_count": 5,
     "metadata": {},
     "output_type": "execute_result"
    }
   ],
   "source": [
    "comida = df[df.get('NOME_SETOR') == 'Alimentação']\n",
    "comida.shape"
   ]
  },
  {
   "cell_type": "markdown",
   "metadata": {},
   "source": [
    "### Qual o (**A PESSOA**) feirante que vende mais produtos de comida?"
   ]
  },
  {
   "cell_type": "code",
   "execution_count": 6,
   "metadata": {
    "execution": {
     "iopub.execute_input": "2024-03-28T17:44:11.328814Z",
     "iopub.status.busy": "2024-03-28T17:44:11.328612Z",
     "iopub.status.idle": "2024-03-28T17:44:11.341358Z",
     "shell.execute_reply": "2024-03-28T17:44:11.340723Z"
    }
   },
   "outputs": [
    {
     "data": {
      "text/html": [
       "<div>\n",
       "<style scoped>\n",
       "    .dataframe tbody tr th:only-of-type {\n",
       "        vertical-align: middle;\n",
       "    }\n",
       "\n",
       "    .dataframe tbody tr th {\n",
       "        vertical-align: top;\n",
       "    }\n",
       "\n",
       "    .dataframe thead th {\n",
       "        text-align: right;\n",
       "    }\n",
       "</style>\n",
       "<table border=\"1\" class=\"dataframe\">\n",
       "  <thead>\n",
       "    <tr style=\"text-align: right;\">\n",
       "      <th></th>\n",
       "      <th>CODIGO_VAGA</th>\n",
       "      <th>NOME_FANTASIA</th>\n",
       "      <th>NOME_FEIRANTE</th>\n",
       "      <th>NOME_PREPOSTO</th>\n",
       "      <th>NOME_SETOR</th>\n",
       "      <th>PRODUTOS</th>\n",
       "      <th>NUMERO_PRODUTOS_CADASTRADOS</th>\n",
       "      <th>AREA</th>\n",
       "      <th>DENSIDADE</th>\n",
       "    </tr>\n",
       "    <tr>\n",
       "      <th>ID_FEIRA_AFONSO_PENA_BARRACA</th>\n",
       "      <th></th>\n",
       "      <th></th>\n",
       "      <th></th>\n",
       "      <th></th>\n",
       "      <th></th>\n",
       "      <th></th>\n",
       "      <th></th>\n",
       "      <th></th>\n",
       "      <th></th>\n",
       "    </tr>\n",
       "  </thead>\n",
       "  <tbody>\n",
       "    <tr>\n",
       "      <th>109</th>\n",
       "      <td>Y.F1.V012</td>\n",
       "      <td>BARRACA DAYSE PINTO NORBERTO</td>\n",
       "      <td>DAYSE PINTO NORBERTO</td>\n",
       "      <td>DJALMA ANTÔNIO DE FREITAS</td>\n",
       "      <td>Alimentação</td>\n",
       "      <td>CERVEJA, TORRESMO, CHIPS, AZEITONA, REFRIGERAN...</td>\n",
       "      <td>21.0</td>\n",
       "      <td>33.611057</td>\n",
       "      <td>0.624794</td>\n",
       "    </tr>\n",
       "    <tr>\n",
       "      <th>1406</th>\n",
       "      <td>Z.F1.V007</td>\n",
       "      <td>BARRACA FRANCINERE AMARAL CARDOSO RIBEIRO DE S...</td>\n",
       "      <td>FRANCINERE AMARAL CARDOSO RIBEIRO DE SOUZA</td>\n",
       "      <td>RAYKARD AGUIAR DE JESUS</td>\n",
       "      <td>Alimentação</td>\n",
       "      <td>CERVEJA, REFRIGERANTE, SUCO INDUSTRIALIZADO, E...</td>\n",
       "      <td>20.0</td>\n",
       "      <td>33.611058</td>\n",
       "      <td>0.595042</td>\n",
       "    </tr>\n",
       "    <tr>\n",
       "      <th>1015</th>\n",
       "      <td>X.F1.V020</td>\n",
       "      <td>BARRACA VERA LUIZA DE CARVALHO MACEDO</td>\n",
       "      <td>VERA LUIZA DE CARVALHO MACEDO</td>\n",
       "      <td>ORLANDINEIA ALVES</td>\n",
       "      <td>Alimentação</td>\n",
       "      <td>CERVEJA, SANDUÍCHE NATURAL, BISCOITO, BOLO, RO...</td>\n",
       "      <td>17.0</td>\n",
       "      <td>33.595966</td>\n",
       "      <td>0.506013</td>\n",
       "    </tr>\n",
       "    <tr>\n",
       "      <th>380</th>\n",
       "      <td>Y.F1.V020</td>\n",
       "      <td>BARRACA MARGARET LÚCIA DA COSTA SILVA</td>\n",
       "      <td>MARGARET LÚCIA DA COSTA SILVA</td>\n",
       "      <td>MARIA TRINDADE DECIOLA DE JESUS</td>\n",
       "      <td>Alimentação</td>\n",
       "      <td>ACARAJÉ, BOLINHO DE CARNE DE SOL, SUCO DE AÇAÍ...</td>\n",
       "      <td>16.0</td>\n",
       "      <td>33.539371</td>\n",
       "      <td>0.477051</td>\n",
       "    </tr>\n",
       "    <tr>\n",
       "      <th>26</th>\n",
       "      <td>Y.F2.V007</td>\n",
       "      <td>BARRACA ANA CALDEIRA GOMES</td>\n",
       "      <td>ANA CALDEIRA GOMES</td>\n",
       "      <td>PAULO HENRIQUE DE JESUS CALDEIRA</td>\n",
       "      <td>Alimentação</td>\n",
       "      <td>CHURRASCO, PÃO DE QUEIJO, LEITE, REFRIGERANTE,...</td>\n",
       "      <td>14.0</td>\n",
       "      <td>33.611058</td>\n",
       "      <td>0.416530</td>\n",
       "    </tr>\n",
       "    <tr>\n",
       "      <th>...</th>\n",
       "      <td>...</td>\n",
       "      <td>...</td>\n",
       "      <td>...</td>\n",
       "      <td>...</td>\n",
       "      <td>...</td>\n",
       "      <td>...</td>\n",
       "      <td>...</td>\n",
       "      <td>...</td>\n",
       "      <td>...</td>\n",
       "    </tr>\n",
       "    <tr>\n",
       "      <th>1269</th>\n",
       "      <td>X.F2.V013</td>\n",
       "      <td>BARRACA FELIPE RODRIGUES ALVES DE DEUS</td>\n",
       "      <td>FELIPE RODRIGUES ALVES DE DEUS</td>\n",
       "      <td>SIDNEY ALVES DE DEUS</td>\n",
       "      <td>Alimentação</td>\n",
       "      <td>CHURRASCO</td>\n",
       "      <td>1.0</td>\n",
       "      <td>33.558728</td>\n",
       "      <td>0.029799</td>\n",
       "    </tr>\n",
       "    <tr>\n",
       "      <th>1457</th>\n",
       "      <td>X.F2.V011</td>\n",
       "      <td>BARRACA WELLINGTON ALVES DE DEUS</td>\n",
       "      <td>WELLINGTON ALVES DE DEUS</td>\n",
       "      <td>SANDRO ALVES DE DEUS</td>\n",
       "      <td>Alimentação</td>\n",
       "      <td>CHURRASCO</td>\n",
       "      <td>1.0</td>\n",
       "      <td>33.595966</td>\n",
       "      <td>0.029765</td>\n",
       "    </tr>\n",
       "    <tr>\n",
       "      <th>1423</th>\n",
       "      <td>X.F1.V003</td>\n",
       "      <td>BARRACA CELIA APARECIDA MONTEIRO CIPRIANO</td>\n",
       "      <td>CELIA APARECIDA MONTEIRO CIPRIANO</td>\n",
       "      <td>APARECIDA SANTOS MONTEIRO</td>\n",
       "      <td>Alimentação</td>\n",
       "      <td>ACARAJÉ</td>\n",
       "      <td>1.0</td>\n",
       "      <td>33.697508</td>\n",
       "      <td>0.029676</td>\n",
       "    </tr>\n",
       "    <tr>\n",
       "      <th>261</th>\n",
       "      <td>X.F2.V003</td>\n",
       "      <td>BARRACA JOÃO GERALDO MARTINS DE SOUZA</td>\n",
       "      <td>JOÃO GERALDO MARTINS DE SOUZA</td>\n",
       "      <td>CHARLES DAVIDSON ROSA MARTINS</td>\n",
       "      <td>Alimentação</td>\n",
       "      <td>CHURRASCO</td>\n",
       "      <td>1.0</td>\n",
       "      <td>33.569063</td>\n",
       "      <td>0.029789</td>\n",
       "    </tr>\n",
       "    <tr>\n",
       "      <th>92</th>\n",
       "      <td>Y.F1.V003</td>\n",
       "      <td>BARRACA CHAQUIBE HASSAN SOUKI HUNIOR</td>\n",
       "      <td>CHAQUIBE HASSAN SOUKI HUNIOR</td>\n",
       "      <td>GISMAR JOSÉ GOMES</td>\n",
       "      <td>Alimentação</td>\n",
       "      <td>DOCE DIVERSO</td>\n",
       "      <td>1.0</td>\n",
       "      <td>33.605972</td>\n",
       "      <td>0.029757</td>\n",
       "    </tr>\n",
       "  </tbody>\n",
       "</table>\n",
       "<p>100 rows × 9 columns</p>\n",
       "</div>"
      ],
      "text/plain": [
       "                             CODIGO_VAGA  \\\n",
       "ID_FEIRA_AFONSO_PENA_BARRACA               \n",
       "109                            Y.F1.V012   \n",
       "1406                           Z.F1.V007   \n",
       "1015                           X.F1.V020   \n",
       "380                            Y.F1.V020   \n",
       "26                             Y.F2.V007   \n",
       "...                                  ...   \n",
       "1269                           X.F2.V013   \n",
       "1457                           X.F2.V011   \n",
       "1423                           X.F1.V003   \n",
       "261                            X.F2.V003   \n",
       "92                             Y.F1.V003   \n",
       "\n",
       "                                                                  NOME_FANTASIA  \\\n",
       "ID_FEIRA_AFONSO_PENA_BARRACA                                                      \n",
       "109                                                BARRACA DAYSE PINTO NORBERTO   \n",
       "1406                          BARRACA FRANCINERE AMARAL CARDOSO RIBEIRO DE S...   \n",
       "1015                                      BARRACA VERA LUIZA DE CARVALHO MACEDO   \n",
       "380                                       BARRACA MARGARET LÚCIA DA COSTA SILVA   \n",
       "26                                                   BARRACA ANA CALDEIRA GOMES   \n",
       "...                                                                         ...   \n",
       "1269                                     BARRACA FELIPE RODRIGUES ALVES DE DEUS   \n",
       "1457                                           BARRACA WELLINGTON ALVES DE DEUS   \n",
       "1423                                  BARRACA CELIA APARECIDA MONTEIRO CIPRIANO   \n",
       "261                                       BARRACA JOÃO GERALDO MARTINS DE SOUZA   \n",
       "92                                         BARRACA CHAQUIBE HASSAN SOUKI HUNIOR   \n",
       "\n",
       "                                                           NOME_FEIRANTE  \\\n",
       "ID_FEIRA_AFONSO_PENA_BARRACA                                               \n",
       "109                                                 DAYSE PINTO NORBERTO   \n",
       "1406                          FRANCINERE AMARAL CARDOSO RIBEIRO DE SOUZA   \n",
       "1015                                       VERA LUIZA DE CARVALHO MACEDO   \n",
       "380                                        MARGARET LÚCIA DA COSTA SILVA   \n",
       "26                                                    ANA CALDEIRA GOMES   \n",
       "...                                                                  ...   \n",
       "1269                                      FELIPE RODRIGUES ALVES DE DEUS   \n",
       "1457                                            WELLINGTON ALVES DE DEUS   \n",
       "1423                                   CELIA APARECIDA MONTEIRO CIPRIANO   \n",
       "261                                        JOÃO GERALDO MARTINS DE SOUZA   \n",
       "92                                          CHAQUIBE HASSAN SOUKI HUNIOR   \n",
       "\n",
       "                                                 NOME_PREPOSTO   NOME_SETOR  \\\n",
       "ID_FEIRA_AFONSO_PENA_BARRACA                                                  \n",
       "109                                  DJALMA ANTÔNIO DE FREITAS  Alimentação   \n",
       "1406                                   RAYKARD AGUIAR DE JESUS  Alimentação   \n",
       "1015                                         ORLANDINEIA ALVES  Alimentação   \n",
       "380                            MARIA TRINDADE DECIOLA DE JESUS  Alimentação   \n",
       "26                            PAULO HENRIQUE DE JESUS CALDEIRA  Alimentação   \n",
       "...                                                        ...          ...   \n",
       "1269                                      SIDNEY ALVES DE DEUS  Alimentação   \n",
       "1457                                      SANDRO ALVES DE DEUS  Alimentação   \n",
       "1423                                 APARECIDA SANTOS MONTEIRO  Alimentação   \n",
       "261                              CHARLES DAVIDSON ROSA MARTINS  Alimentação   \n",
       "92                                           GISMAR JOSÉ GOMES  Alimentação   \n",
       "\n",
       "                                                                       PRODUTOS  \\\n",
       "ID_FEIRA_AFONSO_PENA_BARRACA                                                      \n",
       "109                           CERVEJA, TORRESMO, CHIPS, AZEITONA, REFRIGERAN...   \n",
       "1406                          CERVEJA, REFRIGERANTE, SUCO INDUSTRIALIZADO, E...   \n",
       "1015                          CERVEJA, SANDUÍCHE NATURAL, BISCOITO, BOLO, RO...   \n",
       "380                           ACARAJÉ, BOLINHO DE CARNE DE SOL, SUCO DE AÇAÍ...   \n",
       "26                            CHURRASCO, PÃO DE QUEIJO, LEITE, REFRIGERANTE,...   \n",
       "...                                                                         ...   \n",
       "1269                                                                  CHURRASCO   \n",
       "1457                                                                  CHURRASCO   \n",
       "1423                                                                    ACARAJÉ   \n",
       "261                                                                   CHURRASCO   \n",
       "92                                                                 DOCE DIVERSO   \n",
       "\n",
       "                              NUMERO_PRODUTOS_CADASTRADOS       AREA  \\\n",
       "ID_FEIRA_AFONSO_PENA_BARRACA                                           \n",
       "109                                                  21.0  33.611057   \n",
       "1406                                                 20.0  33.611058   \n",
       "1015                                                 17.0  33.595966   \n",
       "380                                                  16.0  33.539371   \n",
       "26                                                   14.0  33.611058   \n",
       "...                                                   ...        ...   \n",
       "1269                                                  1.0  33.558728   \n",
       "1457                                                  1.0  33.595966   \n",
       "1423                                                  1.0  33.697508   \n",
       "261                                                   1.0  33.569063   \n",
       "92                                                    1.0  33.605972   \n",
       "\n",
       "                              DENSIDADE  \n",
       "ID_FEIRA_AFONSO_PENA_BARRACA             \n",
       "109                            0.624794  \n",
       "1406                           0.595042  \n",
       "1015                           0.506013  \n",
       "380                            0.477051  \n",
       "26                             0.416530  \n",
       "...                                 ...  \n",
       "1269                           0.029799  \n",
       "1457                           0.029765  \n",
       "1423                           0.029676  \n",
       "261                            0.029789  \n",
       "92                             0.029757  \n",
       "\n",
       "[100 rows x 9 columns]"
      ]
     },
     "execution_count": 6,
     "metadata": {},
     "output_type": "execute_result"
    }
   ],
   "source": [
    "comida = comida.sort_values(by='NUMERO_PRODUTOS_CADASTRADOS', ascending=False)\n",
    "comida"
   ]
  },
  {
   "cell_type": "code",
   "execution_count": 7,
   "metadata": {
    "execution": {
     "iopub.execute_input": "2024-03-28T17:44:11.344280Z",
     "iopub.status.busy": "2024-03-28T17:44:11.344030Z",
     "iopub.status.idle": "2024-03-28T17:44:11.348800Z",
     "shell.execute_reply": "2024-03-28T17:44:11.348126Z"
    }
   },
   "outputs": [
    {
     "data": {
      "text/plain": [
       "'DAYSE PINTO NORBERTO'"
      ]
     },
     "execution_count": 7,
     "metadata": {},
     "output_type": "execute_result"
    }
   ],
   "source": [
    "# iloc pega a n-ésimo linha. não busca por índice, sim por linha\n",
    "comida.get('NOME_FEIRANTE').iloc[0]"
   ]
  },
  {
   "cell_type": "markdown",
   "metadata": {
    "slideshow": {
     "slide_type": "slide"
    }
   },
   "source": [
    "### E se a condição não for satisfeita?"
   ]
  },
  {
   "cell_type": "code",
   "execution_count": 8,
   "metadata": {
    "execution": {
     "iopub.execute_input": "2024-03-28T17:44:11.351609Z",
     "iopub.status.busy": "2024-03-28T17:44:11.351398Z",
     "iopub.status.idle": "2024-03-28T17:44:11.358680Z",
     "shell.execute_reply": "2024-03-28T17:44:11.357984Z"
    }
   },
   "outputs": [
    {
     "data": {
      "text/html": [
       "<div>\n",
       "<style scoped>\n",
       "    .dataframe tbody tr th:only-of-type {\n",
       "        vertical-align: middle;\n",
       "    }\n",
       "\n",
       "    .dataframe tbody tr th {\n",
       "        vertical-align: top;\n",
       "    }\n",
       "\n",
       "    .dataframe thead th {\n",
       "        text-align: right;\n",
       "    }\n",
       "</style>\n",
       "<table border=\"1\" class=\"dataframe\">\n",
       "  <thead>\n",
       "    <tr style=\"text-align: right;\">\n",
       "      <th></th>\n",
       "      <th>CODIGO_VAGA</th>\n",
       "      <th>NOME_FANTASIA</th>\n",
       "      <th>NOME_FEIRANTE</th>\n",
       "      <th>NOME_PREPOSTO</th>\n",
       "      <th>NOME_SETOR</th>\n",
       "      <th>PRODUTOS</th>\n",
       "      <th>NUMERO_PRODUTOS_CADASTRADOS</th>\n",
       "      <th>AREA</th>\n",
       "      <th>DENSIDADE</th>\n",
       "    </tr>\n",
       "    <tr>\n",
       "      <th>ID_FEIRA_AFONSO_PENA_BARRACA</th>\n",
       "      <th></th>\n",
       "      <th></th>\n",
       "      <th></th>\n",
       "      <th></th>\n",
       "      <th></th>\n",
       "      <th></th>\n",
       "      <th></th>\n",
       "      <th></th>\n",
       "      <th></th>\n",
       "    </tr>\n",
       "  </thead>\n",
       "  <tbody>\n",
       "  </tbody>\n",
       "</table>\n",
       "</div>"
      ],
      "text/plain": [
       "Empty DataFrame\n",
       "Columns: [CODIGO_VAGA, NOME_FANTASIA, NOME_FEIRANTE, NOME_PREPOSTO, NOME_SETOR, PRODUTOS, NUMERO_PRODUTOS_CADASTRADOS, AREA, DENSIDADE]\n",
       "Index: []"
      ]
     },
     "execution_count": 8,
     "metadata": {},
     "output_type": "execute_result"
    }
   ],
   "source": [
    "df[df.get('NOME_FEIRANTE') == 'FLAVIO FIGUEIREDO']"
   ]
  },
  {
   "cell_type": "markdown",
   "metadata": {
    "slideshow": {
     "slide_type": "slide"
    }
   },
   "source": [
    "### Verificação de conceito ✅\n",
    "\n",
    "Qual expressão abaixo é avaliada como **o número total de produtos infantis**?\n",
    "\n",
    "A. `df[df.get('NOME_SETOR') == 'Criança'].shape`\n",
    "\n",
    "B. `df[df.get('NOME_SETOR') == 'Criança'].get('NUMERO_PRODUTOS_CADASTRADOS').sum()`\n",
    "\n",
    "C.`df[df.get('NOME_SETOR') != 'Criança'].get('NUMERO_PRODUTOS_CADASTRADOS').sum()`\n",
    "\n",
    "D. Mais de um dos itens acima."
   ]
  },
  {
   "cell_type": "markdown",
   "metadata": {
    "slideshow": {
     "slide_type": "slide"
    }
   },
   "source": [
    "### Atividade 🚘\n",
    "\n",
    "**Pergunta**: Quais são os produtos vendidos pelo feirante que mais vende produtos infantis?\n",
    "\n",
    "Escreva uma linha de código que avalie a resposta."
   ]
  },
  {
   "cell_type": "code",
   "execution_count": 9,
   "metadata": {
    "execution": {
     "iopub.execute_input": "2024-03-28T17:44:11.361697Z",
     "iopub.status.busy": "2024-03-28T17:44:11.361330Z",
     "iopub.status.idle": "2024-03-28T17:44:11.365751Z",
     "shell.execute_reply": "2024-03-28T17:44:11.365083Z"
    },
    "scrolled": true
   },
   "outputs": [
    {
     "data": {
      "text/plain": [
       "Ellipsis"
      ]
     },
     "execution_count": 9,
     "metadata": {},
     "output_type": "execute_result"
    }
   ],
   "source": [
    "..."
   ]
  },
  {
   "cell_type": "markdown",
   "metadata": {
    "slideshow": {
     "slide_type": "slide"
    }
   },
   "source": [
    "## Exemplo 6: Quantos feirantes vendem Vestuário Infantil e Produtos Infantis?\n",
    "\n",
    "**Conceito principal**: Consultas com múltiplas condições."
   ]
  },
  {
   "cell_type": "markdown",
   "metadata": {
    "slideshow": {
     "slide_type": "slide"
    }
   },
   "source": [
    "### Múltiplas condições\n",
    "\n",
    "- Para escrever uma consulta com múltiplas condições, use `&` para \"e\" e `|` para \"ou\".\n",
    "- **Você deve usar `(`parênteses`)` em torno de cada condição!**\n",
    "- ⚠️ Não use as palavras-chave Python `and` e `or` aqui! Eles não se comportam como você gostaria.\n",
    "- Consulte [BPD 10.3](https://notes.dsc10.com/02-data_sets/querying.html#multiple-conditions) para obter uma explicação."
   ]
  },
  {
   "cell_type": "code",
   "execution_count": 10,
   "metadata": {
    "execution": {
     "iopub.execute_input": "2024-03-28T17:44:11.370914Z",
     "iopub.status.busy": "2024-03-28T17:44:11.370708Z",
     "iopub.status.idle": "2024-03-28T17:44:11.384571Z",
     "shell.execute_reply": "2024-03-28T17:44:11.383910Z"
    },
    "scrolled": false
   },
   "outputs": [
    {
     "data": {
      "text/html": [
       "<div>\n",
       "<style scoped>\n",
       "    .dataframe tbody tr th:only-of-type {\n",
       "        vertical-align: middle;\n",
       "    }\n",
       "\n",
       "    .dataframe tbody tr th {\n",
       "        vertical-align: top;\n",
       "    }\n",
       "\n",
       "    .dataframe thead th {\n",
       "        text-align: right;\n",
       "    }\n",
       "</style>\n",
       "<table border=\"1\" class=\"dataframe\">\n",
       "  <thead>\n",
       "    <tr style=\"text-align: right;\">\n",
       "      <th></th>\n",
       "      <th>CODIGO_VAGA</th>\n",
       "      <th>NOME_FANTASIA</th>\n",
       "      <th>NOME_FEIRANTE</th>\n",
       "      <th>NOME_PREPOSTO</th>\n",
       "      <th>NOME_SETOR</th>\n",
       "      <th>PRODUTOS</th>\n",
       "      <th>NUMERO_PRODUTOS_CADASTRADOS</th>\n",
       "      <th>AREA</th>\n",
       "      <th>DENSIDADE</th>\n",
       "    </tr>\n",
       "    <tr>\n",
       "      <th>ID_FEIRA_AFONSO_PENA_BARRACA</th>\n",
       "      <th></th>\n",
       "      <th></th>\n",
       "      <th></th>\n",
       "      <th></th>\n",
       "      <th></th>\n",
       "      <th></th>\n",
       "      <th></th>\n",
       "      <th></th>\n",
       "      <th></th>\n",
       "    </tr>\n",
       "  </thead>\n",
       "  <tbody>\n",
       "    <tr>\n",
       "      <th>83</th>\n",
       "      <td>F.F2.V016</td>\n",
       "      <td>BARRACA CARMEN EMMANUEL DOS SANTOS SILVA</td>\n",
       "      <td>CARMEN EMMANUEL DOS SANTOS SILVA</td>\n",
       "      <td>JANA FONSECA VIEIRA</td>\n",
       "      <td>Criança</td>\n",
       "      <td>BOLSA DE BEBÊ, MALA DE MATERNIDADE, NECESSÁIRE...</td>\n",
       "      <td>5.0</td>\n",
       "      <td>11.838911</td>\n",
       "      <td>0.422336</td>\n",
       "    </tr>\n",
       "    <tr>\n",
       "      <th>85</th>\n",
       "      <td>E.F4.V003</td>\n",
       "      <td>BARRACA CARMEN LÚCIA CARVALHO DE ALMEIDA</td>\n",
       "      <td>CARMEN LÚCIA CARVALHO DE ALMEIDA</td>\n",
       "      <td>BARBARA ISABELLE CARVALHO DE PAULA</td>\n",
       "      <td>Vestuário Infantil</td>\n",
       "      <td>VESTIDO, CONJUNTO, MACACÃO</td>\n",
       "      <td>3.0</td>\n",
       "      <td>11.838911</td>\n",
       "      <td>0.253402</td>\n",
       "    </tr>\n",
       "    <tr>\n",
       "      <th>86</th>\n",
       "      <td>E.F2.V004</td>\n",
       "      <td>BARRACA CECÍLIA PAGANO NEVES SALAZAR</td>\n",
       "      <td>CECÍLIA PAGANO NEVES SALAZAR</td>\n",
       "      <td>GISELE PAGANO NEVES SALAZAR</td>\n",
       "      <td>Vestuário Infantil</td>\n",
       "      <td>MACACÃO, BLUSA, SAPATINHO</td>\n",
       "      <td>3.0</td>\n",
       "      <td>11.827592</td>\n",
       "      <td>0.253644</td>\n",
       "    </tr>\n",
       "    <tr>\n",
       "      <th>88</th>\n",
       "      <td>E.F3.V016</td>\n",
       "      <td>BARRACA CELINA MARIA  SILVA MARCELINO</td>\n",
       "      <td>CELINA MARIA  SILVA MARCELINO</td>\n",
       "      <td>ALBERTINO SERGIO MARCELINO</td>\n",
       "      <td>Vestuário Infantil</td>\n",
       "      <td>FANTASIA, BERMUDA, CALÇA, SAIA, VESTIDO, CAMISA</td>\n",
       "      <td>6.0</td>\n",
       "      <td>11.827592</td>\n",
       "      <td>0.507288</td>\n",
       "    </tr>\n",
       "    <tr>\n",
       "      <th>94</th>\n",
       "      <td>E.F4.V029</td>\n",
       "      <td>BARRACA CLARICE CONCEIÇÃO DAS GRAÇAS DE OLIVEI...</td>\n",
       "      <td>CLARICE CONCEIÇÃO DAS GRAÇAS DE OLIVEIRA LIMA</td>\n",
       "      <td>ANGELICA MARIA DE OLIVEIRA LIMA</td>\n",
       "      <td>Vestuário Infantil</td>\n",
       "      <td>CONJUNTO, SHORT, CUECA, CAMISA, CAMISETA, BLUS...</td>\n",
       "      <td>7.0</td>\n",
       "      <td>11.838911</td>\n",
       "      <td>0.591271</td>\n",
       "    </tr>\n",
       "    <tr>\n",
       "      <th>...</th>\n",
       "      <td>...</td>\n",
       "      <td>...</td>\n",
       "      <td>...</td>\n",
       "      <td>...</td>\n",
       "      <td>...</td>\n",
       "      <td>...</td>\n",
       "      <td>...</td>\n",
       "      <td>...</td>\n",
       "      <td>...</td>\n",
       "    </tr>\n",
       "    <tr>\n",
       "      <th>1426</th>\n",
       "      <td>F.F3.V010</td>\n",
       "      <td>BARRACA ALESSANDRA DE ABREU REIS</td>\n",
       "      <td>ALESSANDRA DE ABREU REIS</td>\n",
       "      <td>GLAUCIA HELENA DE ABREU TAVARES</td>\n",
       "      <td>Criança</td>\n",
       "      <td>ACESSÓRIOS PARA CACHORRO, ALMOFADA, CAMA DE TE...</td>\n",
       "      <td>14.0</td>\n",
       "      <td>11.838911</td>\n",
       "      <td>1.182541</td>\n",
       "    </tr>\n",
       "    <tr>\n",
       "      <th>1435</th>\n",
       "      <td>E.F4.V006</td>\n",
       "      <td>BARRACA CILDA LUZIA GUALBERTO</td>\n",
       "      <td>CILDA LUZIA GUALBERTO</td>\n",
       "      <td>CILMA MARIA GUALBERTO DE OLIVEIRA</td>\n",
       "      <td>Vestuário Infantil</td>\n",
       "      <td>VESTIDO, BOLERO, CUECA, BERMUDA, SAIA, BLUSA</td>\n",
       "      <td>6.0</td>\n",
       "      <td>11.827592</td>\n",
       "      <td>0.507288</td>\n",
       "    </tr>\n",
       "    <tr>\n",
       "      <th>1337</th>\n",
       "      <td>F.F2.V004</td>\n",
       "      <td>BARRACA MATHEUS PESSALI TIAGO BARBOSA</td>\n",
       "      <td>MATHEUS PESSALI TIAGO BARBOSA</td>\n",
       "      <td>MIRNA COSTA GONÇALVES</td>\n",
       "      <td>Criança</td>\n",
       "      <td>QUADRO, TOALHA FRALDA, TOALHA, BRINQUEDO PEDAG...</td>\n",
       "      <td>6.0</td>\n",
       "      <td>11.838911</td>\n",
       "      <td>0.506803</td>\n",
       "    </tr>\n",
       "    <tr>\n",
       "      <th>1342</th>\n",
       "      <td>E.F1.V005</td>\n",
       "      <td>BARRACA MAIRA FERNANDES DE MOURA</td>\n",
       "      <td>MAIRA FERNANDES DE MOURA</td>\n",
       "      <td>MAURÍCIO MARTINS TERRINHA</td>\n",
       "      <td>Vestuário Infantil</td>\n",
       "      <td>JARDINEIRA, VESTIDO, SHORT, SAIA, BLUSA</td>\n",
       "      <td>5.0</td>\n",
       "      <td>11.838911</td>\n",
       "      <td>0.422336</td>\n",
       "    </tr>\n",
       "    <tr>\n",
       "      <th>1343</th>\n",
       "      <td>E.F1.V033</td>\n",
       "      <td>BARRACA ELIANE CORREA JANSEN</td>\n",
       "      <td>ELIANE CORREA JANSEN</td>\n",
       "      <td>ANDREA CORREA JANSEN</td>\n",
       "      <td>Vestuário Infantil</td>\n",
       "      <td>VESTIDO, TIARA, BLUSA, BODY, TOUCA, CALCINHA</td>\n",
       "      <td>6.0</td>\n",
       "      <td>11.838911</td>\n",
       "      <td>0.506803</td>\n",
       "    </tr>\n",
       "  </tbody>\n",
       "</table>\n",
       "<p>224 rows × 9 columns</p>\n",
       "</div>"
      ],
      "text/plain": [
       "                             CODIGO_VAGA  \\\n",
       "ID_FEIRA_AFONSO_PENA_BARRACA               \n",
       "83                             F.F2.V016   \n",
       "85                             E.F4.V003   \n",
       "86                             E.F2.V004   \n",
       "88                             E.F3.V016   \n",
       "94                             E.F4.V029   \n",
       "...                                  ...   \n",
       "1426                           F.F3.V010   \n",
       "1435                           E.F4.V006   \n",
       "1337                           F.F2.V004   \n",
       "1342                           E.F1.V005   \n",
       "1343                           E.F1.V033   \n",
       "\n",
       "                                                                  NOME_FANTASIA  \\\n",
       "ID_FEIRA_AFONSO_PENA_BARRACA                                                      \n",
       "83                                     BARRACA CARMEN EMMANUEL DOS SANTOS SILVA   \n",
       "85                                     BARRACA CARMEN LÚCIA CARVALHO DE ALMEIDA   \n",
       "86                                         BARRACA CECÍLIA PAGANO NEVES SALAZAR   \n",
       "88                                        BARRACA CELINA MARIA  SILVA MARCELINO   \n",
       "94                            BARRACA CLARICE CONCEIÇÃO DAS GRAÇAS DE OLIVEI...   \n",
       "...                                                                         ...   \n",
       "1426                                           BARRACA ALESSANDRA DE ABREU REIS   \n",
       "1435                                              BARRACA CILDA LUZIA GUALBERTO   \n",
       "1337                                      BARRACA MATHEUS PESSALI TIAGO BARBOSA   \n",
       "1342                                           BARRACA MAIRA FERNANDES DE MOURA   \n",
       "1343                                               BARRACA ELIANE CORREA JANSEN   \n",
       "\n",
       "                                                              NOME_FEIRANTE  \\\n",
       "ID_FEIRA_AFONSO_PENA_BARRACA                                                  \n",
       "83                                         CARMEN EMMANUEL DOS SANTOS SILVA   \n",
       "85                                         CARMEN LÚCIA CARVALHO DE ALMEIDA   \n",
       "86                                             CECÍLIA PAGANO NEVES SALAZAR   \n",
       "88                                            CELINA MARIA  SILVA MARCELINO   \n",
       "94                            CLARICE CONCEIÇÃO DAS GRAÇAS DE OLIVEIRA LIMA   \n",
       "...                                                                     ...   \n",
       "1426                                               ALESSANDRA DE ABREU REIS   \n",
       "1435                                                  CILDA LUZIA GUALBERTO   \n",
       "1337                                          MATHEUS PESSALI TIAGO BARBOSA   \n",
       "1342                                               MAIRA FERNANDES DE MOURA   \n",
       "1343                                                   ELIANE CORREA JANSEN   \n",
       "\n",
       "                                                   NOME_PREPOSTO  \\\n",
       "ID_FEIRA_AFONSO_PENA_BARRACA                                       \n",
       "83                                           JANA FONSECA VIEIRA   \n",
       "85                            BARBARA ISABELLE CARVALHO DE PAULA   \n",
       "86                                   GISELE PAGANO NEVES SALAZAR   \n",
       "88                                    ALBERTINO SERGIO MARCELINO   \n",
       "94                               ANGELICA MARIA DE OLIVEIRA LIMA   \n",
       "...                                                          ...   \n",
       "1426                             GLAUCIA HELENA DE ABREU TAVARES   \n",
       "1435                           CILMA MARIA GUALBERTO DE OLIVEIRA   \n",
       "1337                                       MIRNA COSTA GONÇALVES   \n",
       "1342                                   MAURÍCIO MARTINS TERRINHA   \n",
       "1343                                        ANDREA CORREA JANSEN   \n",
       "\n",
       "                                      NOME_SETOR  \\\n",
       "ID_FEIRA_AFONSO_PENA_BARRACA                       \n",
       "83                                       Criança   \n",
       "85                            Vestuário Infantil   \n",
       "86                            Vestuário Infantil   \n",
       "88                            Vestuário Infantil   \n",
       "94                            Vestuário Infantil   \n",
       "...                                          ...   \n",
       "1426                                     Criança   \n",
       "1435                          Vestuário Infantil   \n",
       "1337                                     Criança   \n",
       "1342                          Vestuário Infantil   \n",
       "1343                          Vestuário Infantil   \n",
       "\n",
       "                                                                       PRODUTOS  \\\n",
       "ID_FEIRA_AFONSO_PENA_BARRACA                                                      \n",
       "83                            BOLSA DE BEBÊ, MALA DE MATERNIDADE, NECESSÁIRE...   \n",
       "85                                                   VESTIDO, CONJUNTO, MACACÃO   \n",
       "86                                                    MACACÃO, BLUSA, SAPATINHO   \n",
       "88                              FANTASIA, BERMUDA, CALÇA, SAIA, VESTIDO, CAMISA   \n",
       "94                            CONJUNTO, SHORT, CUECA, CAMISA, CAMISETA, BLUS...   \n",
       "...                                                                         ...   \n",
       "1426                          ACESSÓRIOS PARA CACHORRO, ALMOFADA, CAMA DE TE...   \n",
       "1435                               VESTIDO, BOLERO, CUECA, BERMUDA, SAIA, BLUSA   \n",
       "1337                          QUADRO, TOALHA FRALDA, TOALHA, BRINQUEDO PEDAG...   \n",
       "1342                                    JARDINEIRA, VESTIDO, SHORT, SAIA, BLUSA   \n",
       "1343                               VESTIDO, TIARA, BLUSA, BODY, TOUCA, CALCINHA   \n",
       "\n",
       "                              NUMERO_PRODUTOS_CADASTRADOS       AREA  \\\n",
       "ID_FEIRA_AFONSO_PENA_BARRACA                                           \n",
       "83                                                    5.0  11.838911   \n",
       "85                                                    3.0  11.838911   \n",
       "86                                                    3.0  11.827592   \n",
       "88                                                    6.0  11.827592   \n",
       "94                                                    7.0  11.838911   \n",
       "...                                                   ...        ...   \n",
       "1426                                                 14.0  11.838911   \n",
       "1435                                                  6.0  11.827592   \n",
       "1337                                                  6.0  11.838911   \n",
       "1342                                                  5.0  11.838911   \n",
       "1343                                                  6.0  11.838911   \n",
       "\n",
       "                              DENSIDADE  \n",
       "ID_FEIRA_AFONSO_PENA_BARRACA             \n",
       "83                             0.422336  \n",
       "85                             0.253402  \n",
       "86                             0.253644  \n",
       "88                             0.507288  \n",
       "94                             0.591271  \n",
       "...                                 ...  \n",
       "1426                           1.182541  \n",
       "1435                           0.507288  \n",
       "1337                           0.506803  \n",
       "1342                           0.422336  \n",
       "1343                           0.506803  \n",
       "\n",
       "[224 rows x 9 columns]"
      ]
     },
     "execution_count": 10,
     "metadata": {},
     "output_type": "execute_result"
    }
   ],
   "source": [
    "df[(df.get('NOME_SETOR') == 'Vestuário Infantil') | (df.get('NOME_SETOR') == 'Criança')]"
   ]
  },
  {
   "cell_type": "code",
   "execution_count": 11,
   "metadata": {
    "execution": {
     "iopub.execute_input": "2024-03-28T17:44:11.387063Z",
     "iopub.status.busy": "2024-03-28T17:44:11.386803Z",
     "iopub.status.idle": "2024-03-28T17:44:11.400702Z",
     "shell.execute_reply": "2024-03-28T17:44:11.400015Z"
    },
    "scrolled": true
   },
   "outputs": [
    {
     "data": {
      "text/html": [
       "<div>\n",
       "<style scoped>\n",
       "    .dataframe tbody tr th:only-of-type {\n",
       "        vertical-align: middle;\n",
       "    }\n",
       "\n",
       "    .dataframe tbody tr th {\n",
       "        vertical-align: top;\n",
       "    }\n",
       "\n",
       "    .dataframe thead th {\n",
       "        text-align: right;\n",
       "    }\n",
       "</style>\n",
       "<table border=\"1\" class=\"dataframe\">\n",
       "  <thead>\n",
       "    <tr style=\"text-align: right;\">\n",
       "      <th></th>\n",
       "      <th>CODIGO_VAGA</th>\n",
       "      <th>NOME_FANTASIA</th>\n",
       "      <th>NOME_FEIRANTE</th>\n",
       "      <th>NOME_PREPOSTO</th>\n",
       "      <th>NOME_SETOR</th>\n",
       "      <th>PRODUTOS</th>\n",
       "      <th>NUMERO_PRODUTOS_CADASTRADOS</th>\n",
       "      <th>AREA</th>\n",
       "      <th>DENSIDADE</th>\n",
       "    </tr>\n",
       "    <tr>\n",
       "      <th>ID_FEIRA_AFONSO_PENA_BARRACA</th>\n",
       "      <th></th>\n",
       "      <th></th>\n",
       "      <th></th>\n",
       "      <th></th>\n",
       "      <th></th>\n",
       "      <th></th>\n",
       "      <th></th>\n",
       "      <th></th>\n",
       "      <th></th>\n",
       "    </tr>\n",
       "  </thead>\n",
       "  <tbody>\n",
       "    <tr>\n",
       "      <th>83</th>\n",
       "      <td>F.F2.V016</td>\n",
       "      <td>BARRACA CARMEN EMMANUEL DOS SANTOS SILVA</td>\n",
       "      <td>CARMEN EMMANUEL DOS SANTOS SILVA</td>\n",
       "      <td>JANA FONSECA VIEIRA</td>\n",
       "      <td>Criança</td>\n",
       "      <td>BOLSA DE BEBÊ, MALA DE MATERNIDADE, NECESSÁIRE...</td>\n",
       "      <td>5.0</td>\n",
       "      <td>11.838911</td>\n",
       "      <td>0.422336</td>\n",
       "    </tr>\n",
       "    <tr>\n",
       "      <th>85</th>\n",
       "      <td>E.F4.V003</td>\n",
       "      <td>BARRACA CARMEN LÚCIA CARVALHO DE ALMEIDA</td>\n",
       "      <td>CARMEN LÚCIA CARVALHO DE ALMEIDA</td>\n",
       "      <td>BARBARA ISABELLE CARVALHO DE PAULA</td>\n",
       "      <td>Vestuário Infantil</td>\n",
       "      <td>VESTIDO, CONJUNTO, MACACÃO</td>\n",
       "      <td>3.0</td>\n",
       "      <td>11.838911</td>\n",
       "      <td>0.253402</td>\n",
       "    </tr>\n",
       "    <tr>\n",
       "      <th>86</th>\n",
       "      <td>E.F2.V004</td>\n",
       "      <td>BARRACA CECÍLIA PAGANO NEVES SALAZAR</td>\n",
       "      <td>CECÍLIA PAGANO NEVES SALAZAR</td>\n",
       "      <td>GISELE PAGANO NEVES SALAZAR</td>\n",
       "      <td>Vestuário Infantil</td>\n",
       "      <td>MACACÃO, BLUSA, SAPATINHO</td>\n",
       "      <td>3.0</td>\n",
       "      <td>11.827592</td>\n",
       "      <td>0.253644</td>\n",
       "    </tr>\n",
       "    <tr>\n",
       "      <th>88</th>\n",
       "      <td>E.F3.V016</td>\n",
       "      <td>BARRACA CELINA MARIA  SILVA MARCELINO</td>\n",
       "      <td>CELINA MARIA  SILVA MARCELINO</td>\n",
       "      <td>ALBERTINO SERGIO MARCELINO</td>\n",
       "      <td>Vestuário Infantil</td>\n",
       "      <td>FANTASIA, BERMUDA, CALÇA, SAIA, VESTIDO, CAMISA</td>\n",
       "      <td>6.0</td>\n",
       "      <td>11.827592</td>\n",
       "      <td>0.507288</td>\n",
       "    </tr>\n",
       "    <tr>\n",
       "      <th>94</th>\n",
       "      <td>E.F4.V029</td>\n",
       "      <td>BARRACA CLARICE CONCEIÇÃO DAS GRAÇAS DE OLIVEI...</td>\n",
       "      <td>CLARICE CONCEIÇÃO DAS GRAÇAS DE OLIVEIRA LIMA</td>\n",
       "      <td>ANGELICA MARIA DE OLIVEIRA LIMA</td>\n",
       "      <td>Vestuário Infantil</td>\n",
       "      <td>CONJUNTO, SHORT, CUECA, CAMISA, CAMISETA, BLUS...</td>\n",
       "      <td>7.0</td>\n",
       "      <td>11.838911</td>\n",
       "      <td>0.591271</td>\n",
       "    </tr>\n",
       "    <tr>\n",
       "      <th>...</th>\n",
       "      <td>...</td>\n",
       "      <td>...</td>\n",
       "      <td>...</td>\n",
       "      <td>...</td>\n",
       "      <td>...</td>\n",
       "      <td>...</td>\n",
       "      <td>...</td>\n",
       "      <td>...</td>\n",
       "      <td>...</td>\n",
       "    </tr>\n",
       "    <tr>\n",
       "      <th>1426</th>\n",
       "      <td>F.F3.V010</td>\n",
       "      <td>BARRACA ALESSANDRA DE ABREU REIS</td>\n",
       "      <td>ALESSANDRA DE ABREU REIS</td>\n",
       "      <td>GLAUCIA HELENA DE ABREU TAVARES</td>\n",
       "      <td>Criança</td>\n",
       "      <td>ACESSÓRIOS PARA CACHORRO, ALMOFADA, CAMA DE TE...</td>\n",
       "      <td>14.0</td>\n",
       "      <td>11.838911</td>\n",
       "      <td>1.182541</td>\n",
       "    </tr>\n",
       "    <tr>\n",
       "      <th>1435</th>\n",
       "      <td>E.F4.V006</td>\n",
       "      <td>BARRACA CILDA LUZIA GUALBERTO</td>\n",
       "      <td>CILDA LUZIA GUALBERTO</td>\n",
       "      <td>CILMA MARIA GUALBERTO DE OLIVEIRA</td>\n",
       "      <td>Vestuário Infantil</td>\n",
       "      <td>VESTIDO, BOLERO, CUECA, BERMUDA, SAIA, BLUSA</td>\n",
       "      <td>6.0</td>\n",
       "      <td>11.827592</td>\n",
       "      <td>0.507288</td>\n",
       "    </tr>\n",
       "    <tr>\n",
       "      <th>1337</th>\n",
       "      <td>F.F2.V004</td>\n",
       "      <td>BARRACA MATHEUS PESSALI TIAGO BARBOSA</td>\n",
       "      <td>MATHEUS PESSALI TIAGO BARBOSA</td>\n",
       "      <td>MIRNA COSTA GONÇALVES</td>\n",
       "      <td>Criança</td>\n",
       "      <td>QUADRO, TOALHA FRALDA, TOALHA, BRINQUEDO PEDAG...</td>\n",
       "      <td>6.0</td>\n",
       "      <td>11.838911</td>\n",
       "      <td>0.506803</td>\n",
       "    </tr>\n",
       "    <tr>\n",
       "      <th>1342</th>\n",
       "      <td>E.F1.V005</td>\n",
       "      <td>BARRACA MAIRA FERNANDES DE MOURA</td>\n",
       "      <td>MAIRA FERNANDES DE MOURA</td>\n",
       "      <td>MAURÍCIO MARTINS TERRINHA</td>\n",
       "      <td>Vestuário Infantil</td>\n",
       "      <td>JARDINEIRA, VESTIDO, SHORT, SAIA, BLUSA</td>\n",
       "      <td>5.0</td>\n",
       "      <td>11.838911</td>\n",
       "      <td>0.422336</td>\n",
       "    </tr>\n",
       "    <tr>\n",
       "      <th>1343</th>\n",
       "      <td>E.F1.V033</td>\n",
       "      <td>BARRACA ELIANE CORREA JANSEN</td>\n",
       "      <td>ELIANE CORREA JANSEN</td>\n",
       "      <td>ANDREA CORREA JANSEN</td>\n",
       "      <td>Vestuário Infantil</td>\n",
       "      <td>VESTIDO, TIARA, BLUSA, BODY, TOUCA, CALCINHA</td>\n",
       "      <td>6.0</td>\n",
       "      <td>11.838911</td>\n",
       "      <td>0.506803</td>\n",
       "    </tr>\n",
       "  </tbody>\n",
       "</table>\n",
       "<p>224 rows × 9 columns</p>\n",
       "</div>"
      ],
      "text/plain": [
       "                             CODIGO_VAGA  \\\n",
       "ID_FEIRA_AFONSO_PENA_BARRACA               \n",
       "83                             F.F2.V016   \n",
       "85                             E.F4.V003   \n",
       "86                             E.F2.V004   \n",
       "88                             E.F3.V016   \n",
       "94                             E.F4.V029   \n",
       "...                                  ...   \n",
       "1426                           F.F3.V010   \n",
       "1435                           E.F4.V006   \n",
       "1337                           F.F2.V004   \n",
       "1342                           E.F1.V005   \n",
       "1343                           E.F1.V033   \n",
       "\n",
       "                                                                  NOME_FANTASIA  \\\n",
       "ID_FEIRA_AFONSO_PENA_BARRACA                                                      \n",
       "83                                     BARRACA CARMEN EMMANUEL DOS SANTOS SILVA   \n",
       "85                                     BARRACA CARMEN LÚCIA CARVALHO DE ALMEIDA   \n",
       "86                                         BARRACA CECÍLIA PAGANO NEVES SALAZAR   \n",
       "88                                        BARRACA CELINA MARIA  SILVA MARCELINO   \n",
       "94                            BARRACA CLARICE CONCEIÇÃO DAS GRAÇAS DE OLIVEI...   \n",
       "...                                                                         ...   \n",
       "1426                                           BARRACA ALESSANDRA DE ABREU REIS   \n",
       "1435                                              BARRACA CILDA LUZIA GUALBERTO   \n",
       "1337                                      BARRACA MATHEUS PESSALI TIAGO BARBOSA   \n",
       "1342                                           BARRACA MAIRA FERNANDES DE MOURA   \n",
       "1343                                               BARRACA ELIANE CORREA JANSEN   \n",
       "\n",
       "                                                              NOME_FEIRANTE  \\\n",
       "ID_FEIRA_AFONSO_PENA_BARRACA                                                  \n",
       "83                                         CARMEN EMMANUEL DOS SANTOS SILVA   \n",
       "85                                         CARMEN LÚCIA CARVALHO DE ALMEIDA   \n",
       "86                                             CECÍLIA PAGANO NEVES SALAZAR   \n",
       "88                                            CELINA MARIA  SILVA MARCELINO   \n",
       "94                            CLARICE CONCEIÇÃO DAS GRAÇAS DE OLIVEIRA LIMA   \n",
       "...                                                                     ...   \n",
       "1426                                               ALESSANDRA DE ABREU REIS   \n",
       "1435                                                  CILDA LUZIA GUALBERTO   \n",
       "1337                                          MATHEUS PESSALI TIAGO BARBOSA   \n",
       "1342                                               MAIRA FERNANDES DE MOURA   \n",
       "1343                                                   ELIANE CORREA JANSEN   \n",
       "\n",
       "                                                   NOME_PREPOSTO  \\\n",
       "ID_FEIRA_AFONSO_PENA_BARRACA                                       \n",
       "83                                           JANA FONSECA VIEIRA   \n",
       "85                            BARBARA ISABELLE CARVALHO DE PAULA   \n",
       "86                                   GISELE PAGANO NEVES SALAZAR   \n",
       "88                                    ALBERTINO SERGIO MARCELINO   \n",
       "94                               ANGELICA MARIA DE OLIVEIRA LIMA   \n",
       "...                                                          ...   \n",
       "1426                             GLAUCIA HELENA DE ABREU TAVARES   \n",
       "1435                           CILMA MARIA GUALBERTO DE OLIVEIRA   \n",
       "1337                                       MIRNA COSTA GONÇALVES   \n",
       "1342                                   MAURÍCIO MARTINS TERRINHA   \n",
       "1343                                        ANDREA CORREA JANSEN   \n",
       "\n",
       "                                      NOME_SETOR  \\\n",
       "ID_FEIRA_AFONSO_PENA_BARRACA                       \n",
       "83                                       Criança   \n",
       "85                            Vestuário Infantil   \n",
       "86                            Vestuário Infantil   \n",
       "88                            Vestuário Infantil   \n",
       "94                            Vestuário Infantil   \n",
       "...                                          ...   \n",
       "1426                                     Criança   \n",
       "1435                          Vestuário Infantil   \n",
       "1337                                     Criança   \n",
       "1342                          Vestuário Infantil   \n",
       "1343                          Vestuário Infantil   \n",
       "\n",
       "                                                                       PRODUTOS  \\\n",
       "ID_FEIRA_AFONSO_PENA_BARRACA                                                      \n",
       "83                            BOLSA DE BEBÊ, MALA DE MATERNIDADE, NECESSÁIRE...   \n",
       "85                                                   VESTIDO, CONJUNTO, MACACÃO   \n",
       "86                                                    MACACÃO, BLUSA, SAPATINHO   \n",
       "88                              FANTASIA, BERMUDA, CALÇA, SAIA, VESTIDO, CAMISA   \n",
       "94                            CONJUNTO, SHORT, CUECA, CAMISA, CAMISETA, BLUS...   \n",
       "...                                                                         ...   \n",
       "1426                          ACESSÓRIOS PARA CACHORRO, ALMOFADA, CAMA DE TE...   \n",
       "1435                               VESTIDO, BOLERO, CUECA, BERMUDA, SAIA, BLUSA   \n",
       "1337                          QUADRO, TOALHA FRALDA, TOALHA, BRINQUEDO PEDAG...   \n",
       "1342                                    JARDINEIRA, VESTIDO, SHORT, SAIA, BLUSA   \n",
       "1343                               VESTIDO, TIARA, BLUSA, BODY, TOUCA, CALCINHA   \n",
       "\n",
       "                              NUMERO_PRODUTOS_CADASTRADOS       AREA  \\\n",
       "ID_FEIRA_AFONSO_PENA_BARRACA                                           \n",
       "83                                                    5.0  11.838911   \n",
       "85                                                    3.0  11.838911   \n",
       "86                                                    3.0  11.827592   \n",
       "88                                                    6.0  11.827592   \n",
       "94                                                    7.0  11.838911   \n",
       "...                                                   ...        ...   \n",
       "1426                                                 14.0  11.838911   \n",
       "1435                                                  6.0  11.827592   \n",
       "1337                                                  6.0  11.838911   \n",
       "1342                                                  5.0  11.838911   \n",
       "1343                                                  6.0  11.838911   \n",
       "\n",
       "                              DENSIDADE  \n",
       "ID_FEIRA_AFONSO_PENA_BARRACA             \n",
       "83                             0.422336  \n",
       "85                             0.253402  \n",
       "86                             0.253644  \n",
       "88                             0.507288  \n",
       "94                             0.591271  \n",
       "...                                 ...  \n",
       "1426                           1.182541  \n",
       "1435                           0.507288  \n",
       "1337                           0.506803  \n",
       "1342                           0.422336  \n",
       "1343                           0.506803  \n",
       "\n",
       "[224 rows x 9 columns]"
      ]
     },
     "execution_count": 11,
     "metadata": {},
     "output_type": "execute_result"
    }
   ],
   "source": [
    "# Dentro de de parênteses () ou de colchetes [] podemos quebrar a linha. ajuda na leitura\n",
    "df[(df.get('NOME_SETOR') == 'Vestuário Infantil') | \n",
    "   (df.get('NOME_SETOR') == 'Criança')]"
   ]
  },
  {
   "cell_type": "markdown",
   "metadata": {
    "slideshow": {
     "slide_type": "slide"
    }
   },
   "source": [
    "### Pergunta Original: Quantos feirante nos dois setores?"
   ]
  },
  {
   "cell_type": "code",
   "execution_count": 12,
   "metadata": {
    "execution": {
     "iopub.execute_input": "2024-03-28T17:44:11.403720Z",
     "iopub.status.busy": "2024-03-28T17:44:11.403417Z",
     "iopub.status.idle": "2024-03-28T17:44:11.409076Z",
     "shell.execute_reply": "2024-03-28T17:44:11.408393Z"
    },
    "scrolled": true
   },
   "outputs": [
    {
     "data": {
      "text/plain": [
       "224"
      ]
     },
     "execution_count": 12,
     "metadata": {},
     "output_type": "execute_result"
    }
   ],
   "source": [
    "df[(df.get('NOME_SETOR') == 'Vestuário Infantil') | \n",
    "   (df.get('NOME_SETOR') == 'Criança')].shape[0]"
   ]
  },
  {
   "cell_type": "code",
   "execution_count": 13,
   "metadata": {
    "execution": {
     "iopub.execute_input": "2024-03-28T17:44:11.412200Z",
     "iopub.status.busy": "2024-03-28T17:44:11.411723Z",
     "iopub.status.idle": "2024-03-28T17:44:11.417048Z",
     "shell.execute_reply": "2024-03-28T17:44:11.416378Z"
    }
   },
   "outputs": [
    {
     "data": {
      "text/plain": [
       "array(['Criança', 'Bijouterias', 'Vestuário Infantil', 'Vestuário',\n",
       "       'Calçados', 'Alimentação', 'Cintos, Bolsas e Acessórios',\n",
       "       'Artes e Pintura', 'Arranjos e Complementos',\n",
       "       'Decoração e Utilidades', 'Cama, Mesa, Banho e Tapeçaria',\n",
       "       'Mobilário, Flores, Arranjos, Cestaria', 'Esculturas'],\n",
       "      dtype=object)"
      ]
     },
     "execution_count": 13,
     "metadata": {},
     "output_type": "execute_result"
    }
   ],
   "source": [
    "df.get('NOME_SETOR').unique()"
   ]
  },
  {
   "cell_type": "markdown",
   "metadata": {
    "slideshow": {
     "slide_type": "slide"
    }
   },
   "source": [
    "### Verificação de conceito ✅\n",
    "\n",
    "Cada uma das perguntas a seguir pode ser respondida consultando o DataFrame `requests`.\n",
    "\n",
    "1. Qual categoria tem mais produtos, 'Artes e Pintura' ou 'Esculturas'?\n",
    "2. Quantos feirantes vendem 'Vestuário'?\n",
    "3. Qual o nome do feirante que vende mais 'Vestuário'?\n",
    "4. Quantas das perguntas acima **exigem** que a consulta tenha **múltiplas condições**?\n",
    "\n",
    "\n",
    "Tente escrever o código para responder a cada pergunta."
   ]
  },
  {
   "cell_type": "code",
   "execution_count": 14,
   "metadata": {
    "execution": {
     "iopub.execute_input": "2024-03-28T17:44:11.419822Z",
     "iopub.status.busy": "2024-03-28T17:44:11.419609Z",
     "iopub.status.idle": "2024-03-28T17:44:11.423586Z",
     "shell.execute_reply": "2024-03-28T17:44:11.422972Z"
    }
   },
   "outputs": [
    {
     "data": {
      "text/plain": [
       "Ellipsis"
      ]
     },
     "execution_count": 14,
     "metadata": {},
     "output_type": "execute_result"
    }
   ],
   "source": [
    "..."
   ]
  },
  {
   "cell_type": "markdown",
   "metadata": {
    "slideshow": {
     "slide_type": "slide"
    }
   },
   "source": [
    "### Selecionando linhas por posição com `.take`\n",
    "\n",
    "- A consulta nos permite selecionar linhas que satisfaçam uma determinada _condição_.\n",
    "- Também podemos selecionar linhas em _posições_ específicas com `.take([list_of_integer_positions])`. Isso mantém apenas as linhas cujas posições estão na lista especificada.\n",
    "- Isso é análogo a usar `.iloc[]` em uma série.\n",
    "- É raro precisar selecionar linhas por posição inteira. Consultar é **muito** mais útil."
   ]
  },
  {
   "cell_type": "code",
   "execution_count": 15,
   "metadata": {
    "execution": {
     "iopub.execute_input": "2024-03-28T17:44:11.426570Z",
     "iopub.status.busy": "2024-03-28T17:44:11.426276Z",
     "iopub.status.idle": "2024-03-28T17:44:11.436634Z",
     "shell.execute_reply": "2024-03-28T17:44:11.435986Z"
    },
    "scrolled": true
   },
   "outputs": [
    {
     "data": {
      "text/html": [
       "<div>\n",
       "<style scoped>\n",
       "    .dataframe tbody tr th:only-of-type {\n",
       "        vertical-align: middle;\n",
       "    }\n",
       "\n",
       "    .dataframe tbody tr th {\n",
       "        vertical-align: top;\n",
       "    }\n",
       "\n",
       "    .dataframe thead th {\n",
       "        text-align: right;\n",
       "    }\n",
       "</style>\n",
       "<table border=\"1\" class=\"dataframe\">\n",
       "  <thead>\n",
       "    <tr style=\"text-align: right;\">\n",
       "      <th></th>\n",
       "      <th>CODIGO_VAGA</th>\n",
       "      <th>NOME_FANTASIA</th>\n",
       "      <th>NOME_FEIRANTE</th>\n",
       "      <th>NOME_PREPOSTO</th>\n",
       "      <th>NOME_SETOR</th>\n",
       "      <th>PRODUTOS</th>\n",
       "      <th>NUMERO_PRODUTOS_CADASTRADOS</th>\n",
       "      <th>AREA</th>\n",
       "      <th>DENSIDADE</th>\n",
       "    </tr>\n",
       "    <tr>\n",
       "      <th>ID_FEIRA_AFONSO_PENA_BARRACA</th>\n",
       "      <th></th>\n",
       "      <th></th>\n",
       "      <th></th>\n",
       "      <th></th>\n",
       "      <th></th>\n",
       "      <th></th>\n",
       "      <th></th>\n",
       "      <th></th>\n",
       "      <th></th>\n",
       "    </tr>\n",
       "  </thead>\n",
       "  <tbody>\n",
       "    <tr>\n",
       "      <th>84</th>\n",
       "      <td>G.F3.V052</td>\n",
       "      <td>BARRACA CARMEN FERNANDA ROCHA DE ALCANTARA</td>\n",
       "      <td>CARMEN FERNANDA ROCHA DE ALCANTARA</td>\n",
       "      <td>KARINA RODRIGUES BRANDORFI</td>\n",
       "      <td>Bijouterias</td>\n",
       "      <td>BRINCO, ANEL, PULSEIRA, COLAR, ARCO</td>\n",
       "      <td>5.0</td>\n",
       "      <td>11.838911</td>\n",
       "      <td>0.422336</td>\n",
       "    </tr>\n",
       "    <tr>\n",
       "      <th>86</th>\n",
       "      <td>E.F2.V004</td>\n",
       "      <td>BARRACA CECÍLIA PAGANO NEVES SALAZAR</td>\n",
       "      <td>CECÍLIA PAGANO NEVES SALAZAR</td>\n",
       "      <td>GISELE PAGANO NEVES SALAZAR</td>\n",
       "      <td>Vestuário Infantil</td>\n",
       "      <td>MACACÃO, BLUSA, SAPATINHO</td>\n",
       "      <td>3.0</td>\n",
       "      <td>11.827592</td>\n",
       "      <td>0.253644</td>\n",
       "    </tr>\n",
       "    <tr>\n",
       "      <th>88</th>\n",
       "      <td>E.F3.V016</td>\n",
       "      <td>BARRACA CELINA MARIA  SILVA MARCELINO</td>\n",
       "      <td>CELINA MARIA  SILVA MARCELINO</td>\n",
       "      <td>ALBERTINO SERGIO MARCELINO</td>\n",
       "      <td>Vestuário Infantil</td>\n",
       "      <td>FANTASIA, BERMUDA, CALÇA, SAIA, VESTIDO, CAMISA</td>\n",
       "      <td>6.0</td>\n",
       "      <td>11.827592</td>\n",
       "      <td>0.507288</td>\n",
       "    </tr>\n",
       "  </tbody>\n",
       "</table>\n",
       "</div>"
      ],
      "text/plain": [
       "                             CODIGO_VAGA  \\\n",
       "ID_FEIRA_AFONSO_PENA_BARRACA               \n",
       "84                             G.F3.V052   \n",
       "86                             E.F2.V004   \n",
       "88                             E.F3.V016   \n",
       "\n",
       "                                                           NOME_FANTASIA  \\\n",
       "ID_FEIRA_AFONSO_PENA_BARRACA                                               \n",
       "84                            BARRACA CARMEN FERNANDA ROCHA DE ALCANTARA   \n",
       "86                                  BARRACA CECÍLIA PAGANO NEVES SALAZAR   \n",
       "88                                 BARRACA CELINA MARIA  SILVA MARCELINO   \n",
       "\n",
       "                                                   NOME_FEIRANTE  \\\n",
       "ID_FEIRA_AFONSO_PENA_BARRACA                                       \n",
       "84                            CARMEN FERNANDA ROCHA DE ALCANTARA   \n",
       "86                                  CECÍLIA PAGANO NEVES SALAZAR   \n",
       "88                                 CELINA MARIA  SILVA MARCELINO   \n",
       "\n",
       "                                            NOME_PREPOSTO          NOME_SETOR  \\\n",
       "ID_FEIRA_AFONSO_PENA_BARRACA                                                    \n",
       "84                             KARINA RODRIGUES BRANDORFI         Bijouterias   \n",
       "86                            GISELE PAGANO NEVES SALAZAR  Vestuário Infantil   \n",
       "88                             ALBERTINO SERGIO MARCELINO  Vestuário Infantil   \n",
       "\n",
       "                                                                     PRODUTOS  \\\n",
       "ID_FEIRA_AFONSO_PENA_BARRACA                                                    \n",
       "84                                        BRINCO, ANEL, PULSEIRA, COLAR, ARCO   \n",
       "86                                                  MACACÃO, BLUSA, SAPATINHO   \n",
       "88                            FANTASIA, BERMUDA, CALÇA, SAIA, VESTIDO, CAMISA   \n",
       "\n",
       "                              NUMERO_PRODUTOS_CADASTRADOS       AREA  \\\n",
       "ID_FEIRA_AFONSO_PENA_BARRACA                                           \n",
       "84                                                    5.0  11.838911   \n",
       "86                                                    3.0  11.827592   \n",
       "88                                                    6.0  11.827592   \n",
       "\n",
       "                              DENSIDADE  \n",
       "ID_FEIRA_AFONSO_PENA_BARRACA             \n",
       "84                             0.422336  \n",
       "86                             0.253644  \n",
       "88                             0.507288  "
      ]
     },
     "execution_count": 15,
     "metadata": {},
     "output_type": "execute_result"
    }
   ],
   "source": [
    "df.take([1, 3, 5])"
   ]
  },
  {
   "cell_type": "code",
   "execution_count": 16,
   "metadata": {
    "execution": {
     "iopub.execute_input": "2024-03-28T17:44:11.439705Z",
     "iopub.status.busy": "2024-03-28T17:44:11.439364Z",
     "iopub.status.idle": "2024-03-28T17:44:11.452408Z",
     "shell.execute_reply": "2024-03-28T17:44:11.451725Z"
    }
   },
   "outputs": [
    {
     "data": {
      "text/html": [
       "<div>\n",
       "<style scoped>\n",
       "    .dataframe tbody tr th:only-of-type {\n",
       "        vertical-align: middle;\n",
       "    }\n",
       "\n",
       "    .dataframe tbody tr th {\n",
       "        vertical-align: top;\n",
       "    }\n",
       "\n",
       "    .dataframe thead th {\n",
       "        text-align: right;\n",
       "    }\n",
       "</style>\n",
       "<table border=\"1\" class=\"dataframe\">\n",
       "  <thead>\n",
       "    <tr style=\"text-align: right;\">\n",
       "      <th></th>\n",
       "      <th>CODIGO_VAGA</th>\n",
       "      <th>NOME_FANTASIA</th>\n",
       "      <th>NOME_FEIRANTE</th>\n",
       "      <th>NOME_PREPOSTO</th>\n",
       "      <th>NOME_SETOR</th>\n",
       "      <th>PRODUTOS</th>\n",
       "      <th>NUMERO_PRODUTOS_CADASTRADOS</th>\n",
       "      <th>AREA</th>\n",
       "      <th>DENSIDADE</th>\n",
       "    </tr>\n",
       "    <tr>\n",
       "      <th>ID_FEIRA_AFONSO_PENA_BARRACA</th>\n",
       "      <th></th>\n",
       "      <th></th>\n",
       "      <th></th>\n",
       "      <th></th>\n",
       "      <th></th>\n",
       "      <th></th>\n",
       "      <th></th>\n",
       "      <th></th>\n",
       "      <th></th>\n",
       "    </tr>\n",
       "  </thead>\n",
       "  <tbody>\n",
       "    <tr>\n",
       "      <th>83</th>\n",
       "      <td>F.F2.V016</td>\n",
       "      <td>BARRACA CARMEN EMMANUEL DOS SANTOS SILVA</td>\n",
       "      <td>CARMEN EMMANUEL DOS SANTOS SILVA</td>\n",
       "      <td>JANA FONSECA VIEIRA</td>\n",
       "      <td>Criança</td>\n",
       "      <td>BOLSA DE BEBÊ, MALA DE MATERNIDADE, NECESSÁIRE...</td>\n",
       "      <td>5.0</td>\n",
       "      <td>11.838911</td>\n",
       "      <td>0.422336</td>\n",
       "    </tr>\n",
       "    <tr>\n",
       "      <th>84</th>\n",
       "      <td>G.F3.V052</td>\n",
       "      <td>BARRACA CARMEN FERNANDA ROCHA DE ALCANTARA</td>\n",
       "      <td>CARMEN FERNANDA ROCHA DE ALCANTARA</td>\n",
       "      <td>KARINA RODRIGUES BRANDORFI</td>\n",
       "      <td>Bijouterias</td>\n",
       "      <td>BRINCO, ANEL, PULSEIRA, COLAR, ARCO</td>\n",
       "      <td>5.0</td>\n",
       "      <td>11.838911</td>\n",
       "      <td>0.422336</td>\n",
       "    </tr>\n",
       "    <tr>\n",
       "      <th>85</th>\n",
       "      <td>E.F4.V003</td>\n",
       "      <td>BARRACA CARMEN LÚCIA CARVALHO DE ALMEIDA</td>\n",
       "      <td>CARMEN LÚCIA CARVALHO DE ALMEIDA</td>\n",
       "      <td>BARBARA ISABELLE CARVALHO DE PAULA</td>\n",
       "      <td>Vestuário Infantil</td>\n",
       "      <td>VESTIDO, CONJUNTO, MACACÃO</td>\n",
       "      <td>3.0</td>\n",
       "      <td>11.838911</td>\n",
       "      <td>0.253402</td>\n",
       "    </tr>\n",
       "    <tr>\n",
       "      <th>86</th>\n",
       "      <td>E.F2.V004</td>\n",
       "      <td>BARRACA CECÍLIA PAGANO NEVES SALAZAR</td>\n",
       "      <td>CECÍLIA PAGANO NEVES SALAZAR</td>\n",
       "      <td>GISELE PAGANO NEVES SALAZAR</td>\n",
       "      <td>Vestuário Infantil</td>\n",
       "      <td>MACACÃO, BLUSA, SAPATINHO</td>\n",
       "      <td>3.0</td>\n",
       "      <td>11.827592</td>\n",
       "      <td>0.253644</td>\n",
       "    </tr>\n",
       "    <tr>\n",
       "      <th>87</th>\n",
       "      <td>D.F2.V016</td>\n",
       "      <td>BARRACA CÉLIA APARECIDA DE SOUZA</td>\n",
       "      <td>CÉLIA APARECIDA DE SOUZA</td>\n",
       "      <td>EDSON PIRES DE SOUZA</td>\n",
       "      <td>Vestuário</td>\n",
       "      <td>BLUSA, BERMUDA, ROUPA DE GINÁSTICA, SAIA, VEST...</td>\n",
       "      <td>7.0</td>\n",
       "      <td>11.827592</td>\n",
       "      <td>0.591836</td>\n",
       "    </tr>\n",
       "  </tbody>\n",
       "</table>\n",
       "</div>"
      ],
      "text/plain": [
       "                             CODIGO_VAGA  \\\n",
       "ID_FEIRA_AFONSO_PENA_BARRACA               \n",
       "83                             F.F2.V016   \n",
       "84                             G.F3.V052   \n",
       "85                             E.F4.V003   \n",
       "86                             E.F2.V004   \n",
       "87                             D.F2.V016   \n",
       "\n",
       "                                                           NOME_FANTASIA  \\\n",
       "ID_FEIRA_AFONSO_PENA_BARRACA                                               \n",
       "83                              BARRACA CARMEN EMMANUEL DOS SANTOS SILVA   \n",
       "84                            BARRACA CARMEN FERNANDA ROCHA DE ALCANTARA   \n",
       "85                              BARRACA CARMEN LÚCIA CARVALHO DE ALMEIDA   \n",
       "86                                  BARRACA CECÍLIA PAGANO NEVES SALAZAR   \n",
       "87                                      BARRACA CÉLIA APARECIDA DE SOUZA   \n",
       "\n",
       "                                                   NOME_FEIRANTE  \\\n",
       "ID_FEIRA_AFONSO_PENA_BARRACA                                       \n",
       "83                              CARMEN EMMANUEL DOS SANTOS SILVA   \n",
       "84                            CARMEN FERNANDA ROCHA DE ALCANTARA   \n",
       "85                              CARMEN LÚCIA CARVALHO DE ALMEIDA   \n",
       "86                                  CECÍLIA PAGANO NEVES SALAZAR   \n",
       "87                                      CÉLIA APARECIDA DE SOUZA   \n",
       "\n",
       "                                                   NOME_PREPOSTO  \\\n",
       "ID_FEIRA_AFONSO_PENA_BARRACA                                       \n",
       "83                                           JANA FONSECA VIEIRA   \n",
       "84                                    KARINA RODRIGUES BRANDORFI   \n",
       "85                            BARBARA ISABELLE CARVALHO DE PAULA   \n",
       "86                                   GISELE PAGANO NEVES SALAZAR   \n",
       "87                                          EDSON PIRES DE SOUZA   \n",
       "\n",
       "                                      NOME_SETOR  \\\n",
       "ID_FEIRA_AFONSO_PENA_BARRACA                       \n",
       "83                                       Criança   \n",
       "84                                   Bijouterias   \n",
       "85                            Vestuário Infantil   \n",
       "86                            Vestuário Infantil   \n",
       "87                                     Vestuário   \n",
       "\n",
       "                                                                       PRODUTOS  \\\n",
       "ID_FEIRA_AFONSO_PENA_BARRACA                                                      \n",
       "83                            BOLSA DE BEBÊ, MALA DE MATERNIDADE, NECESSÁIRE...   \n",
       "84                                          BRINCO, ANEL, PULSEIRA, COLAR, ARCO   \n",
       "85                                                   VESTIDO, CONJUNTO, MACACÃO   \n",
       "86                                                    MACACÃO, BLUSA, SAPATINHO   \n",
       "87                            BLUSA, BERMUDA, ROUPA DE GINÁSTICA, SAIA, VEST...   \n",
       "\n",
       "                              NUMERO_PRODUTOS_CADASTRADOS       AREA  \\\n",
       "ID_FEIRA_AFONSO_PENA_BARRACA                                           \n",
       "83                                                    5.0  11.838911   \n",
       "84                                                    5.0  11.838911   \n",
       "85                                                    3.0  11.838911   \n",
       "86                                                    3.0  11.827592   \n",
       "87                                                    7.0  11.827592   \n",
       "\n",
       "                              DENSIDADE  \n",
       "ID_FEIRA_AFONSO_PENA_BARRACA             \n",
       "83                             0.422336  \n",
       "84                             0.422336  \n",
       "85                             0.253402  \n",
       "86                             0.253644  \n",
       "87                             0.591836  "
      ]
     },
     "execution_count": 16,
     "metadata": {},
     "output_type": "execute_result"
    }
   ],
   "source": [
    "df.take(np.arange(5))"
   ]
  },
  {
   "cell_type": "markdown",
   "metadata": {
    "slideshow": {
     "slide_type": "slide"
    }
   },
   "source": [
    "## Exemplo 7: Qual é área todal de cada setor?\n",
    "\n",
    "**Conceito chave**: Agrupamento por uma coluna."
   ]
  },
  {
   "cell_type": "markdown",
   "metadata": {
    "slideshow": {
     "slide_type": "slide"
    }
   },
   "source": [
    "### Organizando solicitações por bairro\n",
    "\n",
    "- Podemos encontrar o número total da área por setor;\n",
    "- Por exemplo, `df[df.get('NOME_SETOR') == 'Criança'].get('AREA').sum()`.\n",
    "- Mas como podemos encontrar o total para **todos** os setores ao mesmo tempo?"
   ]
  },
  {
   "cell_type": "code",
   "execution_count": 17,
   "metadata": {
    "execution": {
     "iopub.execute_input": "2024-03-28T17:44:11.455212Z",
     "iopub.status.busy": "2024-03-28T17:44:11.454733Z",
     "iopub.status.idle": "2024-03-28T17:44:11.460306Z",
     "shell.execute_reply": "2024-03-28T17:44:11.459592Z"
    },
    "scrolled": true,
    "slideshow": {
     "slide_type": "slide"
    }
   },
   "outputs": [
    {
     "data": {
      "text/plain": [
       "1274.9974161428677"
      ]
     },
     "execution_count": 17,
     "metadata": {},
     "output_type": "execute_result"
    }
   ],
   "source": [
    "df[df.get('NOME_SETOR') == 'Criança'].get('AREA').sum()"
   ]
  },
  {
   "cell_type": "code",
   "execution_count": 18,
   "metadata": {
    "execution": {
     "iopub.execute_input": "2024-03-28T17:44:11.463301Z",
     "iopub.status.busy": "2024-03-28T17:44:11.463044Z",
     "iopub.status.idle": "2024-03-28T17:44:11.469341Z",
     "shell.execute_reply": "2024-03-28T17:44:11.468671Z"
    },
    "slideshow": {
     "slide_type": "-"
    }
   },
   "outputs": [
    {
     "data": {
      "text/plain": [
       "1431.87438966735"
      ]
     },
     "execution_count": 18,
     "metadata": {},
     "output_type": "execute_result"
    }
   ],
   "source": [
    "df[df.get('NOME_SETOR') == 'Vestuário Infantil'].get('AREA').sum()"
   ]
  },
  {
   "cell_type": "markdown",
   "metadata": {
    "slideshow": {
     "slide_type": "fragment"
    }
   },
   "source": [
    "Parece que tem que haver uma maneira melhor. E aqui está!"
   ]
  },
  {
   "cell_type": "markdown",
   "metadata": {
    "slideshow": {
     "slide_type": "slide"
    }
   },
   "source": [
    "### GroupBy: dividir, agregar e combinar\n",
    "\n",
    "Observe o que acontece quando usamos o método `.groupby` em `requests` com o argumento `'neighborhood'`."
   ]
  },
  {
   "cell_type": "code",
   "execution_count": 19,
   "metadata": {
    "execution": {
     "iopub.execute_input": "2024-03-28T17:44:11.472258Z",
     "iopub.status.busy": "2024-03-28T17:44:11.471994Z",
     "iopub.status.idle": "2024-03-28T17:44:11.486178Z",
     "shell.execute_reply": "2024-03-28T17:44:11.485480Z"
    },
    "slideshow": {
     "slide_type": "-"
    }
   },
   "outputs": [
    {
     "data": {
      "text/html": [
       "<div>\n",
       "<style scoped>\n",
       "    .dataframe tbody tr th:only-of-type {\n",
       "        vertical-align: middle;\n",
       "    }\n",
       "\n",
       "    .dataframe tbody tr th {\n",
       "        vertical-align: top;\n",
       "    }\n",
       "\n",
       "    .dataframe thead th {\n",
       "        text-align: right;\n",
       "    }\n",
       "</style>\n",
       "<table border=\"1\" class=\"dataframe\">\n",
       "  <thead>\n",
       "    <tr style=\"text-align: right;\">\n",
       "      <th></th>\n",
       "      <th>NUMERO_PRODUTOS_CADASTRADOS</th>\n",
       "      <th>AREA</th>\n",
       "      <th>DENSIDADE</th>\n",
       "    </tr>\n",
       "    <tr>\n",
       "      <th>NOME_SETOR</th>\n",
       "      <th></th>\n",
       "      <th></th>\n",
       "      <th></th>\n",
       "    </tr>\n",
       "  </thead>\n",
       "  <tbody>\n",
       "    <tr>\n",
       "      <th>Alimentação</th>\n",
       "      <td>733.0</td>\n",
       "      <td>3359.343283</td>\n",
       "      <td>21.820242</td>\n",
       "    </tr>\n",
       "    <tr>\n",
       "      <th>Arranjos e Complementos</th>\n",
       "      <td>379.0</td>\n",
       "      <td>615.329088</td>\n",
       "      <td>32.028438</td>\n",
       "    </tr>\n",
       "    <tr>\n",
       "      <th>Artes e Pintura</th>\n",
       "      <td>62.0</td>\n",
       "      <td>713.705731</td>\n",
       "      <td>2.606116</td>\n",
       "    </tr>\n",
       "    <tr>\n",
       "      <th>Bijouterias</th>\n",
       "      <td>1047.0</td>\n",
       "      <td>2165.445443</td>\n",
       "      <td>88.479383</td>\n",
       "    </tr>\n",
       "    <tr>\n",
       "      <th>Calçados</th>\n",
       "      <td>774.0</td>\n",
       "      <td>1881.447403</td>\n",
       "      <td>65.409968</td>\n",
       "    </tr>\n",
       "    <tr>\n",
       "      <th>...</th>\n",
       "      <td>...</td>\n",
       "      <td>...</td>\n",
       "      <td>...</td>\n",
       "    </tr>\n",
       "    <tr>\n",
       "      <th>Decoração e Utilidades</th>\n",
       "      <td>423.0</td>\n",
       "      <td>1033.677527</td>\n",
       "      <td>29.927868</td>\n",
       "    </tr>\n",
       "    <tr>\n",
       "      <th>Esculturas</th>\n",
       "      <td>6.0</td>\n",
       "      <td>47.580382</td>\n",
       "      <td>0.252205</td>\n",
       "    </tr>\n",
       "    <tr>\n",
       "      <th>Mobilário, Flores, Arranjos, Cestaria</th>\n",
       "      <td>247.0</td>\n",
       "      <td>771.488214</td>\n",
       "      <td>14.012735</td>\n",
       "    </tr>\n",
       "    <tr>\n",
       "      <th>Vestuário</th>\n",
       "      <td>1454.0</td>\n",
       "      <td>2591.442504</td>\n",
       "      <td>122.878561</td>\n",
       "    </tr>\n",
       "    <tr>\n",
       "      <th>Vestuário Infantil</th>\n",
       "      <td>788.0</td>\n",
       "      <td>1431.874390</td>\n",
       "      <td>66.590892</td>\n",
       "    </tr>\n",
       "  </tbody>\n",
       "</table>\n",
       "<p>13 rows × 3 columns</p>\n",
       "</div>"
      ],
      "text/plain": [
       "                                       NUMERO_PRODUTOS_CADASTRADOS  \\\n",
       "NOME_SETOR                                                           \n",
       "Alimentação                                                  733.0   \n",
       "Arranjos e Complementos                                      379.0   \n",
       "Artes e Pintura                                               62.0   \n",
       "Bijouterias                                                 1047.0   \n",
       "Calçados                                                     774.0   \n",
       "...                                                            ...   \n",
       "Decoração e Utilidades                                       423.0   \n",
       "Esculturas                                                     6.0   \n",
       "Mobilário, Flores, Arranjos, Cestaria                        247.0   \n",
       "Vestuário                                                   1454.0   \n",
       "Vestuário Infantil                                           788.0   \n",
       "\n",
       "                                              AREA   DENSIDADE  \n",
       "NOME_SETOR                                                      \n",
       "Alimentação                            3359.343283   21.820242  \n",
       "Arranjos e Complementos                 615.329088   32.028438  \n",
       "Artes e Pintura                         713.705731    2.606116  \n",
       "Bijouterias                            2165.445443   88.479383  \n",
       "Calçados                               1881.447403   65.409968  \n",
       "...                                            ...         ...  \n",
       "Decoração e Utilidades                 1033.677527   29.927868  \n",
       "Esculturas                               47.580382    0.252205  \n",
       "Mobilário, Flores, Arranjos, Cestaria   771.488214   14.012735  \n",
       "Vestuário                              2591.442504  122.878561  \n",
       "Vestuário Infantil                     1431.874390   66.590892  \n",
       "\n",
       "[13 rows x 3 columns]"
      ]
     },
     "execution_count": 19,
     "metadata": {},
     "output_type": "execute_result"
    }
   ],
   "source": [
    "df.groupby('NOME_SETOR').sum()"
   ]
  },
  {
   "cell_type": "markdown",
   "metadata": {
    "slideshow": {
     "slide_type": "fragment"
    }
   },
   "source": [
    "Observe que as contagens “totais” antes. O que acabou de acontecer? 🤯"
   ]
  },
  {
   "cell_type": "markdown",
   "metadata": {
    "slideshow": {
     "slide_type": "slide"
    }
   },
   "source": [
    "### Um exemplo ilustrativo: Animais de estimação 🐱 🐶🐹\n",
    "\n",
    "Considere os `animais de estimação` do DataFrame mostrados abaixo.\n"
   ]
  },
  {
   "cell_type": "code",
   "execution_count": 20,
   "metadata": {
    "execution": {
     "iopub.execute_input": "2024-03-28T17:44:11.489219Z",
     "iopub.status.busy": "2024-03-28T17:44:11.488965Z",
     "iopub.status.idle": "2024-03-28T17:44:11.499273Z",
     "shell.execute_reply": "2024-03-28T17:44:11.498594Z"
    },
    "slideshow": {
     "slide_type": "-"
    }
   },
   "outputs": [
    {
     "data": {
      "text/html": [
       "<div>\n",
       "<style scoped>\n",
       "    .dataframe tbody tr th:only-of-type {\n",
       "        vertical-align: middle;\n",
       "    }\n",
       "\n",
       "    .dataframe tbody tr th {\n",
       "        vertical-align: top;\n",
       "    }\n",
       "\n",
       "    .dataframe thead th {\n",
       "        text-align: right;\n",
       "    }\n",
       "</style>\n",
       "<table border=\"1\" class=\"dataframe\">\n",
       "  <thead>\n",
       "    <tr style=\"text-align: right;\">\n",
       "      <th></th>\n",
       "      <th>Species</th>\n",
       "      <th>Color</th>\n",
       "      <th>Weight</th>\n",
       "      <th>Age</th>\n",
       "    </tr>\n",
       "  </thead>\n",
       "  <tbody>\n",
       "    <tr>\n",
       "      <th>0</th>\n",
       "      <td>dog</td>\n",
       "      <td>black</td>\n",
       "      <td>40</td>\n",
       "      <td>5.0</td>\n",
       "    </tr>\n",
       "    <tr>\n",
       "      <th>1</th>\n",
       "      <td>cat</td>\n",
       "      <td>golden</td>\n",
       "      <td>15</td>\n",
       "      <td>8.0</td>\n",
       "    </tr>\n",
       "    <tr>\n",
       "      <th>2</th>\n",
       "      <td>cat</td>\n",
       "      <td>black</td>\n",
       "      <td>20</td>\n",
       "      <td>9.0</td>\n",
       "    </tr>\n",
       "    <tr>\n",
       "      <th>3</th>\n",
       "      <td>dog</td>\n",
       "      <td>white</td>\n",
       "      <td>80</td>\n",
       "      <td>2.0</td>\n",
       "    </tr>\n",
       "    <tr>\n",
       "      <th>4</th>\n",
       "      <td>dog</td>\n",
       "      <td>golden</td>\n",
       "      <td>25</td>\n",
       "      <td>0.5</td>\n",
       "    </tr>\n",
       "    <tr>\n",
       "      <th>5</th>\n",
       "      <td>hamster</td>\n",
       "      <td>golden</td>\n",
       "      <td>1</td>\n",
       "      <td>3.0</td>\n",
       "    </tr>\n",
       "  </tbody>\n",
       "</table>\n",
       "</div>"
      ],
      "text/plain": [
       "   Species   Color  Weight  Age\n",
       "0      dog   black      40  5.0\n",
       "1      cat  golden      15  8.0\n",
       "2      cat   black      20  9.0\n",
       "3      dog   white      80  2.0\n",
       "4      dog  golden      25  0.5\n",
       "5  hamster  golden       1  3.0"
      ]
     },
     "execution_count": 20,
     "metadata": {},
     "output_type": "execute_result"
    }
   ],
   "source": [
    "pets = bpd.DataFrame().assign(\n",
    "    Species=['dog', 'cat', 'cat', 'dog', 'dog', 'hamster'],\n",
    "    Color=['black', 'golden', 'black', 'white', 'golden', 'golden'],\n",
    "    Weight=[40, 15, 20, 80, 25, 1],\n",
    "    Age=[5, 8, 9, 2, 0.5, 3]\n",
    ")\n",
    "pets"
   ]
  },
  {
   "cell_type": "markdown",
   "metadata": {
    "slideshow": {
     "slide_type": "slide"
    }
   },
   "source": [
    "### Visualizando `pets.groupby('Species').mean()`\n",
    "\n",
    "1. **Divida** as linhas de `animais de estimação` em \"grupos\" de acordo com seus valores na coluna `'Espécies'`.\n",
    "2. **Agregue** as linhas com o mesmo valor de `'Species'` tomando a `média` de todas as colunas numéricas.\n",
    "3. **Combine** estes meios em um novo DataFrame que é indexado por `'Species'` e classificado por `'Species'` em ordem crescente.\n",
    "\n",
    "Observe que o resultado contém apenas uma linha para gatos, uma linha para cães e uma linha para hamsters!"
   ]
  },
  {
   "cell_type": "code",
   "execution_count": 21,
   "metadata": {
    "execution": {
     "iopub.execute_input": "2024-03-28T17:44:11.502083Z",
     "iopub.status.busy": "2024-03-28T17:44:11.501843Z",
     "iopub.status.idle": "2024-03-28T17:44:11.564483Z",
     "shell.execute_reply": "2024-03-28T17:44:11.563593Z"
    },
    "scrolled": false
   },
   "outputs": [
    {
     "data": {
      "text/html": [
       "\n",
       "<div class=\"pt-viz\" id=\"pt-viz-0\"></div>\n",
       "<script>\n",
       "drawWsv('#pt-viz-0', \"{\\n  \\\"code\\\": \\\"\\\\npets.groupby('Species').mean()\\\\n\\\",\\n  \\\"explanation\\\": [\\n    {\\n      \\\"type\\\": \\\"GroupByCall\\\",\\n      \\\"code_step\\\": \\\"pets.groupby('Species').mean()\\\",\\n      \\\"fragment\\\": {\\n        \\\"start\\\": {\\n          \\\"line\\\": 0,\\n          \\\"ch\\\": 4\\n        },\\n        \\\"end\\\": {\\n          \\\"line\\\": 0,\\n          \\\"ch\\\": 23\\n        }\\n      },\\n      \\\"marks\\\": [\\n        {\\n          \\\"type\\\": \\\"using\\\",\\n          \\\"pos\\\": {\\n            \\\"type\\\": \\\"axis\\\",\\n            \\\"anchor\\\": \\\"lhs\\\",\\n            \\\"select\\\": \\\"column\\\",\\n            \\\"label\\\": \\\"Species\\\"\\n          }\\n        }\\n      ],\\n      \\\"data\\\": {\\n        \\\"lhs\\\": {\\n          \\\"type\\\": \\\"DataFrame\\\",\\n          \\\"columns\\\": {\\n            \\\"names\\\": [\\n              null\\n            ],\\n            \\\"labels\\\": [\\n              \\\"Species\\\",\\n              \\\"Color\\\",\\n              \\\"Weight\\\",\\n              \\\"Age\\\"\\n            ]\\n          },\\n          \\\"index\\\": {\\n            \\\"names\\\": [\\n              null\\n            ],\\n            \\\"labels\\\": [\\n              0,\\n              1,\\n              2,\\n              3,\\n              4,\\n              5\\n            ]\\n          },\\n          \\\"data\\\": [\\n            [\\n              \\\"dog\\\",\\n              \\\"black\\\",\\n              40,\\n              5.0\\n            ],\\n            [\\n              \\\"cat\\\",\\n              \\\"golden\\\",\\n              15,\\n              8.0\\n            ],\\n            [\\n              \\\"cat\\\",\\n              \\\"black\\\",\\n              20,\\n              9.0\\n            ],\\n            [\\n              \\\"dog\\\",\\n              \\\"white\\\",\\n              80,\\n              2.0\\n            ],\\n            [\\n              \\\"dog\\\",\\n              \\\"golden\\\",\\n              25,\\n              0.5\\n            ],\\n            [\\n              \\\"hamster\\\",\\n              \\\"golden\\\",\\n              1,\\n              3.0\\n            ]\\n          ]\\n        },\\n        \\\"rhs\\\": {\\n          \\\"type\\\": \\\"DataFrameGroupBy\\\",\\n          \\\"columns\\\": {\\n            \\\"names\\\": [\\n              null\\n            ],\\n            \\\"labels\\\": [\\n              \\\"Species\\\",\\n              \\\"Color\\\",\\n              \\\"Weight\\\",\\n              \\\"Age\\\"\\n            ]\\n          },\\n          \\\"index\\\": {\\n            \\\"names\\\": [\\n              null\\n            ],\\n            \\\"labels\\\": [\\n              0,\\n              1,\\n              2,\\n              3,\\n              4,\\n              5\\n            ]\\n          },\\n          \\\"data\\\": [\\n            [\\n              \\\"dog\\\",\\n              \\\"black\\\",\\n              40,\\n              5.0\\n            ],\\n            [\\n              \\\"cat\\\",\\n              \\\"golden\\\",\\n              15,\\n              8.0\\n            ],\\n            [\\n              \\\"cat\\\",\\n              \\\"black\\\",\\n              20,\\n              9.0\\n            ],\\n            [\\n              \\\"dog\\\",\\n              \\\"white\\\",\\n              80,\\n              2.0\\n            ],\\n            [\\n              \\\"dog\\\",\\n              \\\"golden\\\",\\n              25,\\n              0.5\\n            ],\\n            [\\n              \\\"hamster\\\",\\n              \\\"golden\\\",\\n              1,\\n              3.0\\n            ]\\n          ],\\n          \\\"group_data\\\": {\\n            \\\"columns\\\": [\\n              \\\"Species\\\"\\n            ],\\n            \\\"groups\\\": [\\n              {\\n                \\\"name\\\": [\\n                  \\\"cat\\\"\\n                ],\\n                \\\"labels\\\": [\\n                  1,\\n                  2\\n                ]\\n              },\\n              {\\n                \\\"name\\\": [\\n                  \\\"dog\\\"\\n                ],\\n                \\\"labels\\\": [\\n                  0,\\n                  3,\\n                  4\\n                ]\\n              },\\n              {\\n                \\\"name\\\": [\\n                  \\\"hamster\\\"\\n                ],\\n                \\\"labels\\\": [\\n                  5\\n                ]\\n              }\\n            ]\\n          }\\n        }\\n      }\\n    },\\n    {\\n      \\\"type\\\": \\\"AggCall\\\",\\n      \\\"code_step\\\": \\\"pets.groupby('Species').mean()\\\",\\n      \\\"fragment\\\": {\\n        \\\"start\\\": {\\n          \\\"line\\\": 0,\\n          \\\"ch\\\": 23\\n        },\\n        \\\"end\\\": {\\n          \\\"line\\\": 0,\\n          \\\"ch\\\": 30\\n        }\\n      },\\n      \\\"marks\\\": [\\n        {\\n          \\\"type\\\": \\\"map\\\",\\n          \\\"from\\\": {\\n            \\\"type\\\": \\\"axis\\\",\\n            \\\"anchor\\\": \\\"lhs\\\",\\n            \\\"select\\\": \\\"row\\\",\\n            \\\"label\\\": 1\\n          },\\n          \\\"to\\\": {\\n            \\\"type\\\": \\\"axis\\\",\\n            \\\"anchor\\\": \\\"rhs\\\",\\n            \\\"select\\\": \\\"row\\\",\\n            \\\"label\\\": \\\"cat\\\"\\n          }\\n        },\\n        {\\n          \\\"type\\\": \\\"map\\\",\\n          \\\"from\\\": {\\n            \\\"type\\\": \\\"axis\\\",\\n            \\\"anchor\\\": \\\"lhs\\\",\\n            \\\"select\\\": \\\"row\\\",\\n            \\\"label\\\": 2\\n          },\\n          \\\"to\\\": {\\n            \\\"type\\\": \\\"axis\\\",\\n            \\\"anchor\\\": \\\"rhs\\\",\\n            \\\"select\\\": \\\"row\\\",\\n            \\\"label\\\": \\\"cat\\\"\\n          }\\n        },\\n        {\\n          \\\"type\\\": \\\"map\\\",\\n          \\\"from\\\": {\\n            \\\"type\\\": \\\"axis\\\",\\n            \\\"anchor\\\": \\\"lhs\\\",\\n            \\\"select\\\": \\\"row\\\",\\n            \\\"label\\\": 0\\n          },\\n          \\\"to\\\": {\\n            \\\"type\\\": \\\"axis\\\",\\n            \\\"anchor\\\": \\\"rhs\\\",\\n            \\\"select\\\": \\\"row\\\",\\n            \\\"label\\\": \\\"dog\\\"\\n          }\\n        },\\n        {\\n          \\\"type\\\": \\\"map\\\",\\n          \\\"from\\\": {\\n            \\\"type\\\": \\\"axis\\\",\\n            \\\"anchor\\\": \\\"lhs\\\",\\n            \\\"select\\\": \\\"row\\\",\\n            \\\"label\\\": 3\\n          },\\n          \\\"to\\\": {\\n            \\\"type\\\": \\\"axis\\\",\\n            \\\"anchor\\\": \\\"rhs\\\",\\n            \\\"select\\\": \\\"row\\\",\\n            \\\"label\\\": \\\"dog\\\"\\n          }\\n        },\\n        {\\n          \\\"type\\\": \\\"map\\\",\\n          \\\"from\\\": {\\n            \\\"type\\\": \\\"axis\\\",\\n            \\\"anchor\\\": \\\"lhs\\\",\\n            \\\"select\\\": \\\"row\\\",\\n            \\\"label\\\": 4\\n          },\\n          \\\"to\\\": {\\n            \\\"type\\\": \\\"axis\\\",\\n            \\\"anchor\\\": \\\"rhs\\\",\\n            \\\"select\\\": \\\"row\\\",\\n            \\\"label\\\": \\\"dog\\\"\\n          }\\n        },\\n        {\\n          \\\"type\\\": \\\"map\\\",\\n          \\\"from\\\": {\\n            \\\"type\\\": \\\"axis\\\",\\n            \\\"anchor\\\": \\\"lhs\\\",\\n            \\\"select\\\": \\\"row\\\",\\n            \\\"label\\\": 5\\n          },\\n          \\\"to\\\": {\\n            \\\"type\\\": \\\"axis\\\",\\n            \\\"anchor\\\": \\\"rhs\\\",\\n            \\\"select\\\": \\\"row\\\",\\n            \\\"label\\\": \\\"hamster\\\"\\n          }\\n        }\\n      ],\\n      \\\"data\\\": {\\n        \\\"lhs\\\": \\\"prev_rhs\\\",\\n        \\\"rhs\\\": {\\n          \\\"type\\\": \\\"DataFrame\\\",\\n          \\\"columns\\\": {\\n            \\\"names\\\": [\\n              null\\n            ],\\n            \\\"labels\\\": [\\n              \\\"Weight\\\",\\n              \\\"Age\\\"\\n            ]\\n          },\\n          \\\"index\\\": {\\n            \\\"names\\\": [\\n              \\\"Species\\\"\\n            ],\\n            \\\"labels\\\": [\\n              \\\"cat\\\",\\n              \\\"dog\\\",\\n              \\\"hamster\\\"\\n            ]\\n          },\\n          \\\"data\\\": [\\n            [\\n              17.5,\\n              8.5\\n            ],\\n            [\\n              48.333333333333336,\\n              2.5\\n            ],\\n            [\\n              1.0,\\n              3.0\\n            ]\\n          ]\\n        }\\n      }\\n    }\\n  ]\\n}\", {\"nohover\": true, \"maxDisplayRows\": 7, \"maxDisplayCols\": 5, \"colorPalette\": [\"#e41a1c\", \"#377eb8\", \"#4daf4a\", \"#984ea3\", \"#ff7f00\", \"#a65628\", \"#f781bf\", \"#999999\"]});\n",
       "</script>\n"
      ],
      "text/plain": [
       "<IPython.core.display.HTML object>"
      ]
     },
     "metadata": {},
     "output_type": "display_data"
    }
   ],
   "source": [
    "%%pt\n",
    "\n",
    "pets.groupby('Species').mean()"
   ]
  },
  {
   "cell_type": "markdown",
   "metadata": {
    "slideshow": {
     "slide_type": "slide"
    }
   },
   "source": [
    "### Tutor de Pandas\n",
    "\n",
    "- Na última célula, vimos não apenas a saída do código, mas uma visualização do funcionamento interno do código.\n",
    "- Isso graças ao Pandas Tutor, uma nova ferramenta desenvolvida por [Sam Lau](https://www.samlau.me), que ministrou este curso durante o verão.\n",
    "- Pandas Tutor desenha diagramas para explicar o código `pandas` (e `babypandas`).\n",
    "- Adicione `%%pt` ao topo de uma célula de código para explicar a última linha do código `babypandas`.\n",
    "- Isso requer a importação do Pandas Tutor, o que já fizemos neste notebook.\n",
    "- Você também pode usar o Pandas Tutor através de seu site, [pandastutor.com](https://pandastutor.com/)."
   ]
  },
  {
   "cell_type": "code",
   "execution_count": 22,
   "metadata": {
    "execution": {
     "iopub.execute_input": "2024-03-28T17:44:11.567101Z",
     "iopub.status.busy": "2024-03-28T17:44:11.566871Z",
     "iopub.status.idle": "2024-03-28T17:44:11.575501Z",
     "shell.execute_reply": "2024-03-28T17:44:11.574909Z"
    },
    "scrolled": true,
    "slideshow": {
     "slide_type": "-"
    }
   },
   "outputs": [
    {
     "data": {
      "text/html": [
       "<div>\n",
       "<style scoped>\n",
       "    .dataframe tbody tr th:only-of-type {\n",
       "        vertical-align: middle;\n",
       "    }\n",
       "\n",
       "    .dataframe tbody tr th {\n",
       "        vertical-align: top;\n",
       "    }\n",
       "\n",
       "    .dataframe thead th {\n",
       "        text-align: right;\n",
       "    }\n",
       "</style>\n",
       "<table border=\"1\" class=\"dataframe\">\n",
       "  <thead>\n",
       "    <tr style=\"text-align: right;\">\n",
       "      <th></th>\n",
       "      <th>Weight</th>\n",
       "      <th>Age</th>\n",
       "    </tr>\n",
       "    <tr>\n",
       "      <th>Species</th>\n",
       "      <th></th>\n",
       "      <th></th>\n",
       "    </tr>\n",
       "  </thead>\n",
       "  <tbody>\n",
       "    <tr>\n",
       "      <th>cat</th>\n",
       "      <td>17.500000</td>\n",
       "      <td>8.5</td>\n",
       "    </tr>\n",
       "    <tr>\n",
       "      <th>dog</th>\n",
       "      <td>48.333333</td>\n",
       "      <td>2.5</td>\n",
       "    </tr>\n",
       "    <tr>\n",
       "      <th>hamster</th>\n",
       "      <td>1.000000</td>\n",
       "      <td>3.0</td>\n",
       "    </tr>\n",
       "  </tbody>\n",
       "</table>\n",
       "</div>"
      ],
      "text/plain": [
       "            Weight  Age\n",
       "Species                \n",
       "cat      17.500000  8.5\n",
       "dog      48.333333  2.5\n",
       "hamster   1.000000  3.0"
      ]
     },
     "execution_count": 22,
     "metadata": {},
     "output_type": "execute_result"
    }
   ],
   "source": [
    "# Without Pandas Tutor\n",
    "pets.groupby('Species').mean()"
   ]
  },
  {
   "cell_type": "code",
   "execution_count": 23,
   "metadata": {
    "execution": {
     "iopub.execute_input": "2024-03-28T17:44:11.577752Z",
     "iopub.status.busy": "2024-03-28T17:44:11.577505Z",
     "iopub.status.idle": "2024-03-28T17:44:11.608204Z",
     "shell.execute_reply": "2024-03-28T17:44:11.607495Z"
    }
   },
   "outputs": [
    {
     "data": {
      "text/html": [
       "\n",
       "<div class=\"pt-viz\" id=\"pt-viz-1\"></div>\n",
       "<script>\n",
       "drawWsv('#pt-viz-1', \"{\\n  \\\"code\\\": \\\"\\\\n# With Pandas Tutor\\\\npets.groupby('Species').mean()\\\\n\\\",\\n  \\\"explanation\\\": [\\n    {\\n      \\\"type\\\": \\\"GroupByCall\\\",\\n      \\\"code_step\\\": \\\"pets.groupby('Species').mean()\\\",\\n      \\\"fragment\\\": {\\n        \\\"start\\\": {\\n          \\\"line\\\": 0,\\n          \\\"ch\\\": 4\\n        },\\n        \\\"end\\\": {\\n          \\\"line\\\": 0,\\n          \\\"ch\\\": 23\\n        }\\n      },\\n      \\\"marks\\\": [\\n        {\\n          \\\"type\\\": \\\"using\\\",\\n          \\\"pos\\\": {\\n            \\\"type\\\": \\\"axis\\\",\\n            \\\"anchor\\\": \\\"lhs\\\",\\n            \\\"select\\\": \\\"column\\\",\\n            \\\"label\\\": \\\"Species\\\"\\n          }\\n        }\\n      ],\\n      \\\"data\\\": {\\n        \\\"lhs\\\": {\\n          \\\"type\\\": \\\"DataFrame\\\",\\n          \\\"columns\\\": {\\n            \\\"names\\\": [\\n              null\\n            ],\\n            \\\"labels\\\": [\\n              \\\"Species\\\",\\n              \\\"Color\\\",\\n              \\\"Weight\\\",\\n              \\\"Age\\\"\\n            ]\\n          },\\n          \\\"index\\\": {\\n            \\\"names\\\": [\\n              null\\n            ],\\n            \\\"labels\\\": [\\n              0,\\n              1,\\n              2,\\n              3,\\n              4,\\n              5\\n            ]\\n          },\\n          \\\"data\\\": [\\n            [\\n              \\\"dog\\\",\\n              \\\"black\\\",\\n              40,\\n              5.0\\n            ],\\n            [\\n              \\\"cat\\\",\\n              \\\"golden\\\",\\n              15,\\n              8.0\\n            ],\\n            [\\n              \\\"cat\\\",\\n              \\\"black\\\",\\n              20,\\n              9.0\\n            ],\\n            [\\n              \\\"dog\\\",\\n              \\\"white\\\",\\n              80,\\n              2.0\\n            ],\\n            [\\n              \\\"dog\\\",\\n              \\\"golden\\\",\\n              25,\\n              0.5\\n            ],\\n            [\\n              \\\"hamster\\\",\\n              \\\"golden\\\",\\n              1,\\n              3.0\\n            ]\\n          ]\\n        },\\n        \\\"rhs\\\": {\\n          \\\"type\\\": \\\"DataFrameGroupBy\\\",\\n          \\\"columns\\\": {\\n            \\\"names\\\": [\\n              null\\n            ],\\n            \\\"labels\\\": [\\n              \\\"Species\\\",\\n              \\\"Color\\\",\\n              \\\"Weight\\\",\\n              \\\"Age\\\"\\n            ]\\n          },\\n          \\\"index\\\": {\\n            \\\"names\\\": [\\n              null\\n            ],\\n            \\\"labels\\\": [\\n              0,\\n              1,\\n              2,\\n              3,\\n              4,\\n              5\\n            ]\\n          },\\n          \\\"data\\\": [\\n            [\\n              \\\"dog\\\",\\n              \\\"black\\\",\\n              40,\\n              5.0\\n            ],\\n            [\\n              \\\"cat\\\",\\n              \\\"golden\\\",\\n              15,\\n              8.0\\n            ],\\n            [\\n              \\\"cat\\\",\\n              \\\"black\\\",\\n              20,\\n              9.0\\n            ],\\n            [\\n              \\\"dog\\\",\\n              \\\"white\\\",\\n              80,\\n              2.0\\n            ],\\n            [\\n              \\\"dog\\\",\\n              \\\"golden\\\",\\n              25,\\n              0.5\\n            ],\\n            [\\n              \\\"hamster\\\",\\n              \\\"golden\\\",\\n              1,\\n              3.0\\n            ]\\n          ],\\n          \\\"group_data\\\": {\\n            \\\"columns\\\": [\\n              \\\"Species\\\"\\n            ],\\n            \\\"groups\\\": [\\n              {\\n                \\\"name\\\": [\\n                  \\\"cat\\\"\\n                ],\\n                \\\"labels\\\": [\\n                  1,\\n                  2\\n                ]\\n              },\\n              {\\n                \\\"name\\\": [\\n                  \\\"dog\\\"\\n                ],\\n                \\\"labels\\\": [\\n                  0,\\n                  3,\\n                  4\\n                ]\\n              },\\n              {\\n                \\\"name\\\": [\\n                  \\\"hamster\\\"\\n                ],\\n                \\\"labels\\\": [\\n                  5\\n                ]\\n              }\\n            ]\\n          }\\n        }\\n      }\\n    },\\n    {\\n      \\\"type\\\": \\\"AggCall\\\",\\n      \\\"code_step\\\": \\\"pets.groupby('Species').mean()\\\",\\n      \\\"fragment\\\": {\\n        \\\"start\\\": {\\n          \\\"line\\\": 0,\\n          \\\"ch\\\": 23\\n        },\\n        \\\"end\\\": {\\n          \\\"line\\\": 0,\\n          \\\"ch\\\": 30\\n        }\\n      },\\n      \\\"marks\\\": [\\n        {\\n          \\\"type\\\": \\\"map\\\",\\n          \\\"from\\\": {\\n            \\\"type\\\": \\\"axis\\\",\\n            \\\"anchor\\\": \\\"lhs\\\",\\n            \\\"select\\\": \\\"row\\\",\\n            \\\"label\\\": 1\\n          },\\n          \\\"to\\\": {\\n            \\\"type\\\": \\\"axis\\\",\\n            \\\"anchor\\\": \\\"rhs\\\",\\n            \\\"select\\\": \\\"row\\\",\\n            \\\"label\\\": \\\"cat\\\"\\n          }\\n        },\\n        {\\n          \\\"type\\\": \\\"map\\\",\\n          \\\"from\\\": {\\n            \\\"type\\\": \\\"axis\\\",\\n            \\\"anchor\\\": \\\"lhs\\\",\\n            \\\"select\\\": \\\"row\\\",\\n            \\\"label\\\": 2\\n          },\\n          \\\"to\\\": {\\n            \\\"type\\\": \\\"axis\\\",\\n            \\\"anchor\\\": \\\"rhs\\\",\\n            \\\"select\\\": \\\"row\\\",\\n            \\\"label\\\": \\\"cat\\\"\\n          }\\n        },\\n        {\\n          \\\"type\\\": \\\"map\\\",\\n          \\\"from\\\": {\\n            \\\"type\\\": \\\"axis\\\",\\n            \\\"anchor\\\": \\\"lhs\\\",\\n            \\\"select\\\": \\\"row\\\",\\n            \\\"label\\\": 0\\n          },\\n          \\\"to\\\": {\\n            \\\"type\\\": \\\"axis\\\",\\n            \\\"anchor\\\": \\\"rhs\\\",\\n            \\\"select\\\": \\\"row\\\",\\n            \\\"label\\\": \\\"dog\\\"\\n          }\\n        },\\n        {\\n          \\\"type\\\": \\\"map\\\",\\n          \\\"from\\\": {\\n            \\\"type\\\": \\\"axis\\\",\\n            \\\"anchor\\\": \\\"lhs\\\",\\n            \\\"select\\\": \\\"row\\\",\\n            \\\"label\\\": 3\\n          },\\n          \\\"to\\\": {\\n            \\\"type\\\": \\\"axis\\\",\\n            \\\"anchor\\\": \\\"rhs\\\",\\n            \\\"select\\\": \\\"row\\\",\\n            \\\"label\\\": \\\"dog\\\"\\n          }\\n        },\\n        {\\n          \\\"type\\\": \\\"map\\\",\\n          \\\"from\\\": {\\n            \\\"type\\\": \\\"axis\\\",\\n            \\\"anchor\\\": \\\"lhs\\\",\\n            \\\"select\\\": \\\"row\\\",\\n            \\\"label\\\": 4\\n          },\\n          \\\"to\\\": {\\n            \\\"type\\\": \\\"axis\\\",\\n            \\\"anchor\\\": \\\"rhs\\\",\\n            \\\"select\\\": \\\"row\\\",\\n            \\\"label\\\": \\\"dog\\\"\\n          }\\n        },\\n        {\\n          \\\"type\\\": \\\"map\\\",\\n          \\\"from\\\": {\\n            \\\"type\\\": \\\"axis\\\",\\n            \\\"anchor\\\": \\\"lhs\\\",\\n            \\\"select\\\": \\\"row\\\",\\n            \\\"label\\\": 5\\n          },\\n          \\\"to\\\": {\\n            \\\"type\\\": \\\"axis\\\",\\n            \\\"anchor\\\": \\\"rhs\\\",\\n            \\\"select\\\": \\\"row\\\",\\n            \\\"label\\\": \\\"hamster\\\"\\n          }\\n        }\\n      ],\\n      \\\"data\\\": {\\n        \\\"lhs\\\": \\\"prev_rhs\\\",\\n        \\\"rhs\\\": {\\n          \\\"type\\\": \\\"DataFrame\\\",\\n          \\\"columns\\\": {\\n            \\\"names\\\": [\\n              null\\n            ],\\n            \\\"labels\\\": [\\n              \\\"Weight\\\",\\n              \\\"Age\\\"\\n            ]\\n          },\\n          \\\"index\\\": {\\n            \\\"names\\\": [\\n              \\\"Species\\\"\\n            ],\\n            \\\"labels\\\": [\\n              \\\"cat\\\",\\n              \\\"dog\\\",\\n              \\\"hamster\\\"\\n            ]\\n          },\\n          \\\"data\\\": [\\n            [\\n              17.5,\\n              8.5\\n            ],\\n            [\\n              48.333333333333336,\\n              2.5\\n            ],\\n            [\\n              1.0,\\n              3.0\\n            ]\\n          ]\\n        }\\n      }\\n    }\\n  ]\\n}\", {\"nohover\": true, \"maxDisplayRows\": 7, \"maxDisplayCols\": 5, \"colorPalette\": [\"#e41a1c\", \"#377eb8\", \"#4daf4a\", \"#984ea3\", \"#ff7f00\", \"#a65628\", \"#f781bf\", \"#999999\"]});\n",
       "</script>\n"
      ],
      "text/plain": [
       "<IPython.core.display.HTML object>"
      ]
     },
     "metadata": {},
     "output_type": "display_data"
    }
   ],
   "source": [
    "%%pt\n",
    "\n",
    "# With Pandas Tutor\n",
    "pets.groupby('Species').mean()"
   ]
  },
  {
   "cell_type": "markdown",
   "metadata": {
    "slideshow": {
     "slide_type": "slide"
    }
   },
   "source": [
    "### Voltar para solicitações de serviço Get It Done 👷"
   ]
  },
  {
   "cell_type": "code",
   "execution_count": 24,
   "metadata": {
    "execution": {
     "iopub.execute_input": "2024-03-28T17:44:11.611203Z",
     "iopub.status.busy": "2024-03-28T17:44:11.610899Z",
     "iopub.status.idle": "2024-03-28T17:44:11.623271Z",
     "shell.execute_reply": "2024-03-28T17:44:11.622568Z"
    }
   },
   "outputs": [
    {
     "data": {
      "text/html": [
       "<div>\n",
       "<style scoped>\n",
       "    .dataframe tbody tr th:only-of-type {\n",
       "        vertical-align: middle;\n",
       "    }\n",
       "\n",
       "    .dataframe tbody tr th {\n",
       "        vertical-align: top;\n",
       "    }\n",
       "\n",
       "    .dataframe thead th {\n",
       "        text-align: right;\n",
       "    }\n",
       "</style>\n",
       "<table border=\"1\" class=\"dataframe\">\n",
       "  <thead>\n",
       "    <tr style=\"text-align: right;\">\n",
       "      <th></th>\n",
       "      <th>CODIGO_VAGA</th>\n",
       "      <th>NOME_FANTASIA</th>\n",
       "      <th>NOME_FEIRANTE</th>\n",
       "      <th>NOME_PREPOSTO</th>\n",
       "      <th>NOME_SETOR</th>\n",
       "      <th>PRODUTOS</th>\n",
       "      <th>NUMERO_PRODUTOS_CADASTRADOS</th>\n",
       "      <th>AREA</th>\n",
       "      <th>DENSIDADE</th>\n",
       "    </tr>\n",
       "    <tr>\n",
       "      <th>ID_FEIRA_AFONSO_PENA_BARRACA</th>\n",
       "      <th></th>\n",
       "      <th></th>\n",
       "      <th></th>\n",
       "      <th></th>\n",
       "      <th></th>\n",
       "      <th></th>\n",
       "      <th></th>\n",
       "      <th></th>\n",
       "      <th></th>\n",
       "    </tr>\n",
       "  </thead>\n",
       "  <tbody>\n",
       "    <tr>\n",
       "      <th>83</th>\n",
       "      <td>F.F2.V016</td>\n",
       "      <td>BARRACA CARMEN EMMANUEL DOS SANTOS SILVA</td>\n",
       "      <td>CARMEN EMMANUEL DOS SANTOS SILVA</td>\n",
       "      <td>JANA FONSECA VIEIRA</td>\n",
       "      <td>Criança</td>\n",
       "      <td>BOLSA DE BEBÊ, MALA DE MATERNIDADE, NECESSÁIRE...</td>\n",
       "      <td>5.0</td>\n",
       "      <td>11.838911</td>\n",
       "      <td>0.422336</td>\n",
       "    </tr>\n",
       "    <tr>\n",
       "      <th>84</th>\n",
       "      <td>G.F3.V052</td>\n",
       "      <td>BARRACA CARMEN FERNANDA ROCHA DE ALCANTARA</td>\n",
       "      <td>CARMEN FERNANDA ROCHA DE ALCANTARA</td>\n",
       "      <td>KARINA RODRIGUES BRANDORFI</td>\n",
       "      <td>Bijouterias</td>\n",
       "      <td>BRINCO, ANEL, PULSEIRA, COLAR, ARCO</td>\n",
       "      <td>5.0</td>\n",
       "      <td>11.838911</td>\n",
       "      <td>0.422336</td>\n",
       "    </tr>\n",
       "    <tr>\n",
       "      <th>85</th>\n",
       "      <td>E.F4.V003</td>\n",
       "      <td>BARRACA CARMEN LÚCIA CARVALHO DE ALMEIDA</td>\n",
       "      <td>CARMEN LÚCIA CARVALHO DE ALMEIDA</td>\n",
       "      <td>BARBARA ISABELLE CARVALHO DE PAULA</td>\n",
       "      <td>Vestuário Infantil</td>\n",
       "      <td>VESTIDO, CONJUNTO, MACACÃO</td>\n",
       "      <td>3.0</td>\n",
       "      <td>11.838911</td>\n",
       "      <td>0.253402</td>\n",
       "    </tr>\n",
       "    <tr>\n",
       "      <th>86</th>\n",
       "      <td>E.F2.V004</td>\n",
       "      <td>BARRACA CECÍLIA PAGANO NEVES SALAZAR</td>\n",
       "      <td>CECÍLIA PAGANO NEVES SALAZAR</td>\n",
       "      <td>GISELE PAGANO NEVES SALAZAR</td>\n",
       "      <td>Vestuário Infantil</td>\n",
       "      <td>MACACÃO, BLUSA, SAPATINHO</td>\n",
       "      <td>3.0</td>\n",
       "      <td>11.827592</td>\n",
       "      <td>0.253644</td>\n",
       "    </tr>\n",
       "    <tr>\n",
       "      <th>87</th>\n",
       "      <td>D.F2.V016</td>\n",
       "      <td>BARRACA CÉLIA APARECIDA DE SOUZA</td>\n",
       "      <td>CÉLIA APARECIDA DE SOUZA</td>\n",
       "      <td>EDSON PIRES DE SOUZA</td>\n",
       "      <td>Vestuário</td>\n",
       "      <td>BLUSA, BERMUDA, ROUPA DE GINÁSTICA, SAIA, VEST...</td>\n",
       "      <td>7.0</td>\n",
       "      <td>11.827592</td>\n",
       "      <td>0.591836</td>\n",
       "    </tr>\n",
       "    <tr>\n",
       "      <th>...</th>\n",
       "      <td>...</td>\n",
       "      <td>...</td>\n",
       "      <td>...</td>\n",
       "      <td>...</td>\n",
       "      <td>...</td>\n",
       "      <td>...</td>\n",
       "      <td>...</td>\n",
       "      <td>...</td>\n",
       "      <td>...</td>\n",
       "    </tr>\n",
       "    <tr>\n",
       "      <th>1350</th>\n",
       "      <td>G.F4.V014</td>\n",
       "      <td>BARRACA HELCIO LICIO SILVA</td>\n",
       "      <td>HELCIO LICIO SILVA</td>\n",
       "      <td>GRAZIELA CRISTINA RAMALHO SILVA</td>\n",
       "      <td>Bijouterias</td>\n",
       "      <td>ANEL, COLAR, BROCHE, BRINCO, PULSEIRA, ALIANÇA...</td>\n",
       "      <td>7.0</td>\n",
       "      <td>11.838911</td>\n",
       "      <td>0.591271</td>\n",
       "    </tr>\n",
       "    <tr>\n",
       "      <th>1351</th>\n",
       "      <td>J.F1.V004</td>\n",
       "      <td>BARRACA DIEGO DOS SANTOS DIAS</td>\n",
       "      <td>DIEGO DOS SANTOS DIAS</td>\n",
       "      <td>CELSO DE SOUZA LINHARES</td>\n",
       "      <td>Calçados</td>\n",
       "      <td>RASTEIRINHA, SAPATO, SANDÁLIA</td>\n",
       "      <td>3.0</td>\n",
       "      <td>11.827592</td>\n",
       "      <td>0.253644</td>\n",
       "    </tr>\n",
       "    <tr>\n",
       "      <th>1352</th>\n",
       "      <td>D.F4.V050</td>\n",
       "      <td>BARRACA JAIR CORREA</td>\n",
       "      <td>JAIR CORREA</td>\n",
       "      <td>Keli Aparecida Batista Correa</td>\n",
       "      <td>Vestuário</td>\n",
       "      <td>VESTIDO DE MALHA, BATA DE TECIDO, CONJUNTO, SA...</td>\n",
       "      <td>5.0</td>\n",
       "      <td>11.827592</td>\n",
       "      <td>0.422740</td>\n",
       "    </tr>\n",
       "    <tr>\n",
       "      <th>1353</th>\n",
       "      <td>G.F2.V010</td>\n",
       "      <td>BARRACA SIDNEY FERNANDO KNEIPP SOARES</td>\n",
       "      <td>SIDNEY FERNANDO KNEIPP SOARES</td>\n",
       "      <td>ANA PAULA FAUSTINA DE SOUZA</td>\n",
       "      <td>Bijouterias</td>\n",
       "      <td>COLAR, GARGANTILHA, ARCO, ANEL, PASSADOR DE CA...</td>\n",
       "      <td>7.0</td>\n",
       "      <td>11.838911</td>\n",
       "      <td>0.591271</td>\n",
       "    </tr>\n",
       "    <tr>\n",
       "      <th>1354</th>\n",
       "      <td>G.F1.V061</td>\n",
       "      <td>BARRACA REGINA GARCIA FERREIRA</td>\n",
       "      <td>REGINA GARCIA FERREIRA</td>\n",
       "      <td>Rejane Garcia Ferreira Clemente</td>\n",
       "      <td>Bijouterias</td>\n",
       "      <td>COLAR DE METAL, PRESILHA, PASSADOR DE CABELO, ...</td>\n",
       "      <td>4.0</td>\n",
       "      <td>11.827592</td>\n",
       "      <td>0.338192</td>\n",
       "    </tr>\n",
       "  </tbody>\n",
       "</table>\n",
       "<p>1250 rows × 9 columns</p>\n",
       "</div>"
      ],
      "text/plain": [
       "                             CODIGO_VAGA  \\\n",
       "ID_FEIRA_AFONSO_PENA_BARRACA               \n",
       "83                             F.F2.V016   \n",
       "84                             G.F3.V052   \n",
       "85                             E.F4.V003   \n",
       "86                             E.F2.V004   \n",
       "87                             D.F2.V016   \n",
       "...                                  ...   \n",
       "1350                           G.F4.V014   \n",
       "1351                           J.F1.V004   \n",
       "1352                           D.F4.V050   \n",
       "1353                           G.F2.V010   \n",
       "1354                           G.F1.V061   \n",
       "\n",
       "                                                           NOME_FANTASIA  \\\n",
       "ID_FEIRA_AFONSO_PENA_BARRACA                                               \n",
       "83                              BARRACA CARMEN EMMANUEL DOS SANTOS SILVA   \n",
       "84                            BARRACA CARMEN FERNANDA ROCHA DE ALCANTARA   \n",
       "85                              BARRACA CARMEN LÚCIA CARVALHO DE ALMEIDA   \n",
       "86                                  BARRACA CECÍLIA PAGANO NEVES SALAZAR   \n",
       "87                                      BARRACA CÉLIA APARECIDA DE SOUZA   \n",
       "...                                                                  ...   \n",
       "1350                                          BARRACA HELCIO LICIO SILVA   \n",
       "1351                                       BARRACA DIEGO DOS SANTOS DIAS   \n",
       "1352                                                 BARRACA JAIR CORREA   \n",
       "1353                               BARRACA SIDNEY FERNANDO KNEIPP SOARES   \n",
       "1354                                      BARRACA REGINA GARCIA FERREIRA   \n",
       "\n",
       "                                                   NOME_FEIRANTE  \\\n",
       "ID_FEIRA_AFONSO_PENA_BARRACA                                       \n",
       "83                              CARMEN EMMANUEL DOS SANTOS SILVA   \n",
       "84                            CARMEN FERNANDA ROCHA DE ALCANTARA   \n",
       "85                              CARMEN LÚCIA CARVALHO DE ALMEIDA   \n",
       "86                                  CECÍLIA PAGANO NEVES SALAZAR   \n",
       "87                                      CÉLIA APARECIDA DE SOUZA   \n",
       "...                                                          ...   \n",
       "1350                                          HELCIO LICIO SILVA   \n",
       "1351                                       DIEGO DOS SANTOS DIAS   \n",
       "1352                                                 JAIR CORREA   \n",
       "1353                               SIDNEY FERNANDO KNEIPP SOARES   \n",
       "1354                                      REGINA GARCIA FERREIRA   \n",
       "\n",
       "                                                   NOME_PREPOSTO  \\\n",
       "ID_FEIRA_AFONSO_PENA_BARRACA                                       \n",
       "83                                           JANA FONSECA VIEIRA   \n",
       "84                                    KARINA RODRIGUES BRANDORFI   \n",
       "85                            BARBARA ISABELLE CARVALHO DE PAULA   \n",
       "86                                   GISELE PAGANO NEVES SALAZAR   \n",
       "87                                          EDSON PIRES DE SOUZA   \n",
       "...                                                          ...   \n",
       "1350                             GRAZIELA CRISTINA RAMALHO SILVA   \n",
       "1351                                     CELSO DE SOUZA LINHARES   \n",
       "1352                               Keli Aparecida Batista Correa   \n",
       "1353                                 ANA PAULA FAUSTINA DE SOUZA   \n",
       "1354                             Rejane Garcia Ferreira Clemente   \n",
       "\n",
       "                                      NOME_SETOR  \\\n",
       "ID_FEIRA_AFONSO_PENA_BARRACA                       \n",
       "83                                       Criança   \n",
       "84                                   Bijouterias   \n",
       "85                            Vestuário Infantil   \n",
       "86                            Vestuário Infantil   \n",
       "87                                     Vestuário   \n",
       "...                                          ...   \n",
       "1350                                 Bijouterias   \n",
       "1351                                    Calçados   \n",
       "1352                                   Vestuário   \n",
       "1353                                 Bijouterias   \n",
       "1354                                 Bijouterias   \n",
       "\n",
       "                                                                       PRODUTOS  \\\n",
       "ID_FEIRA_AFONSO_PENA_BARRACA                                                      \n",
       "83                            BOLSA DE BEBÊ, MALA DE MATERNIDADE, NECESSÁIRE...   \n",
       "84                                          BRINCO, ANEL, PULSEIRA, COLAR, ARCO   \n",
       "85                                                   VESTIDO, CONJUNTO, MACACÃO   \n",
       "86                                                    MACACÃO, BLUSA, SAPATINHO   \n",
       "87                            BLUSA, BERMUDA, ROUPA DE GINÁSTICA, SAIA, VEST...   \n",
       "...                                                                         ...   \n",
       "1350                          ANEL, COLAR, BROCHE, BRINCO, PULSEIRA, ALIANÇA...   \n",
       "1351                                              RASTEIRINHA, SAPATO, SANDÁLIA   \n",
       "1352                          VESTIDO DE MALHA, BATA DE TECIDO, CONJUNTO, SA...   \n",
       "1353                          COLAR, GARGANTILHA, ARCO, ANEL, PASSADOR DE CA...   \n",
       "1354                          COLAR DE METAL, PRESILHA, PASSADOR DE CABELO, ...   \n",
       "\n",
       "                              NUMERO_PRODUTOS_CADASTRADOS       AREA  \\\n",
       "ID_FEIRA_AFONSO_PENA_BARRACA                                           \n",
       "83                                                    5.0  11.838911   \n",
       "84                                                    5.0  11.838911   \n",
       "85                                                    3.0  11.838911   \n",
       "86                                                    3.0  11.827592   \n",
       "87                                                    7.0  11.827592   \n",
       "...                                                   ...        ...   \n",
       "1350                                                  7.0  11.838911   \n",
       "1351                                                  3.0  11.827592   \n",
       "1352                                                  5.0  11.827592   \n",
       "1353                                                  7.0  11.838911   \n",
       "1354                                                  4.0  11.827592   \n",
       "\n",
       "                              DENSIDADE  \n",
       "ID_FEIRA_AFONSO_PENA_BARRACA             \n",
       "83                             0.422336  \n",
       "84                             0.422336  \n",
       "85                             0.253402  \n",
       "86                             0.253644  \n",
       "87                             0.591836  \n",
       "...                                 ...  \n",
       "1350                           0.591271  \n",
       "1351                           0.253644  \n",
       "1352                           0.422740  \n",
       "1353                           0.591271  \n",
       "1354                           0.338192  \n",
       "\n",
       "[1250 rows x 9 columns]"
      ]
     },
     "execution_count": 24,
     "metadata": {},
     "output_type": "execute_result"
    }
   ],
   "source": [
    "df"
   ]
  },
  {
   "cell_type": "code",
   "execution_count": 25,
   "metadata": {
    "execution": {
     "iopub.execute_input": "2024-03-28T17:44:11.626291Z",
     "iopub.status.busy": "2024-03-28T17:44:11.626020Z",
     "iopub.status.idle": "2024-03-28T17:44:11.637495Z",
     "shell.execute_reply": "2024-03-28T17:44:11.636817Z"
    }
   },
   "outputs": [
    {
     "data": {
      "text/html": [
       "<div>\n",
       "<style scoped>\n",
       "    .dataframe tbody tr th:only-of-type {\n",
       "        vertical-align: middle;\n",
       "    }\n",
       "\n",
       "    .dataframe tbody tr th {\n",
       "        vertical-align: top;\n",
       "    }\n",
       "\n",
       "    .dataframe thead th {\n",
       "        text-align: right;\n",
       "    }\n",
       "</style>\n",
       "<table border=\"1\" class=\"dataframe\">\n",
       "  <thead>\n",
       "    <tr style=\"text-align: right;\">\n",
       "      <th></th>\n",
       "      <th>NUMERO_PRODUTOS_CADASTRADOS</th>\n",
       "      <th>AREA</th>\n",
       "      <th>DENSIDADE</th>\n",
       "    </tr>\n",
       "    <tr>\n",
       "      <th>NOME_SETOR</th>\n",
       "      <th></th>\n",
       "      <th></th>\n",
       "      <th></th>\n",
       "    </tr>\n",
       "  </thead>\n",
       "  <tbody>\n",
       "    <tr>\n",
       "      <th>Alimentação</th>\n",
       "      <td>733.0</td>\n",
       "      <td>3359.343283</td>\n",
       "      <td>21.820242</td>\n",
       "    </tr>\n",
       "    <tr>\n",
       "      <th>Arranjos e Complementos</th>\n",
       "      <td>379.0</td>\n",
       "      <td>615.329088</td>\n",
       "      <td>32.028438</td>\n",
       "    </tr>\n",
       "    <tr>\n",
       "      <th>Artes e Pintura</th>\n",
       "      <td>62.0</td>\n",
       "      <td>713.705731</td>\n",
       "      <td>2.606116</td>\n",
       "    </tr>\n",
       "    <tr>\n",
       "      <th>Bijouterias</th>\n",
       "      <td>1047.0</td>\n",
       "      <td>2165.445443</td>\n",
       "      <td>88.479383</td>\n",
       "    </tr>\n",
       "    <tr>\n",
       "      <th>Calçados</th>\n",
       "      <td>774.0</td>\n",
       "      <td>1881.447403</td>\n",
       "      <td>65.409968</td>\n",
       "    </tr>\n",
       "    <tr>\n",
       "      <th>...</th>\n",
       "      <td>...</td>\n",
       "      <td>...</td>\n",
       "      <td>...</td>\n",
       "    </tr>\n",
       "    <tr>\n",
       "      <th>Decoração e Utilidades</th>\n",
       "      <td>423.0</td>\n",
       "      <td>1033.677527</td>\n",
       "      <td>29.927868</td>\n",
       "    </tr>\n",
       "    <tr>\n",
       "      <th>Esculturas</th>\n",
       "      <td>6.0</td>\n",
       "      <td>47.580382</td>\n",
       "      <td>0.252205</td>\n",
       "    </tr>\n",
       "    <tr>\n",
       "      <th>Mobilário, Flores, Arranjos, Cestaria</th>\n",
       "      <td>247.0</td>\n",
       "      <td>771.488214</td>\n",
       "      <td>14.012735</td>\n",
       "    </tr>\n",
       "    <tr>\n",
       "      <th>Vestuário</th>\n",
       "      <td>1454.0</td>\n",
       "      <td>2591.442504</td>\n",
       "      <td>122.878561</td>\n",
       "    </tr>\n",
       "    <tr>\n",
       "      <th>Vestuário Infantil</th>\n",
       "      <td>788.0</td>\n",
       "      <td>1431.874390</td>\n",
       "      <td>66.590892</td>\n",
       "    </tr>\n",
       "  </tbody>\n",
       "</table>\n",
       "<p>13 rows × 3 columns</p>\n",
       "</div>"
      ],
      "text/plain": [
       "                                       NUMERO_PRODUTOS_CADASTRADOS  \\\n",
       "NOME_SETOR                                                           \n",
       "Alimentação                                                  733.0   \n",
       "Arranjos e Complementos                                      379.0   \n",
       "Artes e Pintura                                               62.0   \n",
       "Bijouterias                                                 1047.0   \n",
       "Calçados                                                     774.0   \n",
       "...                                                            ...   \n",
       "Decoração e Utilidades                                       423.0   \n",
       "Esculturas                                                     6.0   \n",
       "Mobilário, Flores, Arranjos, Cestaria                        247.0   \n",
       "Vestuário                                                   1454.0   \n",
       "Vestuário Infantil                                           788.0   \n",
       "\n",
       "                                              AREA   DENSIDADE  \n",
       "NOME_SETOR                                                      \n",
       "Alimentação                            3359.343283   21.820242  \n",
       "Arranjos e Complementos                 615.329088   32.028438  \n",
       "Artes e Pintura                         713.705731    2.606116  \n",
       "Bijouterias                            2165.445443   88.479383  \n",
       "Calçados                               1881.447403   65.409968  \n",
       "...                                            ...         ...  \n",
       "Decoração e Utilidades                 1033.677527   29.927868  \n",
       "Esculturas                               47.580382    0.252205  \n",
       "Mobilário, Flores, Arranjos, Cestaria   771.488214   14.012735  \n",
       "Vestuário                              2591.442504  122.878561  \n",
       "Vestuário Infantil                     1431.874390   66.590892  \n",
       "\n",
       "[13 rows x 3 columns]"
      ]
     },
     "execution_count": 25,
     "metadata": {},
     "output_type": "execute_result"
    }
   ],
   "source": [
    "df.groupby('NOME_SETOR').sum()"
   ]
  },
  {
   "cell_type": "markdown",
   "metadata": {
    "slideshow": {
     "slide_type": "slide"
    }
   },
   "source": [
    "### Usando `.groupby` em geral\n",
    "\n",
    "Resumindo, `.groupby` agrega todas as linhas com o mesmo valor em uma coluna especificada (por exemplo, `'NOME_SETOR'`) em uma única linha no DataFrame resultante, usando um método de agregação (por exemplo, `.sum()`) para combinar valores.\n",
    "\n",
    "1. **Escolha uma coluna para agrupar**.\n",
    "- `.groupby(column_name)` reunirá linhas que possuem o mesmo valor na coluna especificada (`column_name`).\n",
    "- No slide anterior agrupamos por `'NOME_SETOR'`.\n",
    "2. **Escolha um método de agregação**.\n",
    "- O método de agregação será aplicado **dentro** de cada grupo.\n",
    "- No exemplo anterior, aplicamos o método `.sum()` a cada `'NOME_SETOR'`.\n",
    "- O método de agregação é aplicado individualmente a cada coluna\n",
    "- Se não fizer sentido usar o método de agregação em uma coluna, a coluna será eliminada da saída – veremos isso com mais detalhes em breve (Tipo o nome do feirante).\n",
    "- Métodos de agregação comuns incluem `.count()`, `.sum()`, `.mean()`, `.median()`, `.max()` e `.min()`."
   ]
  },
  {
   "cell_type": "markdown",
   "metadata": {
    "slideshow": {
     "slide_type": "slide"
    }
   },
   "source": [
    "### Observação #1\n",
    "\n",
    "- O índice mudou para nomes de SETORES.\n",
    "- Em geral, os novos rótulos de linha são os *rótulos de grupo* (ou seja, os valores exclusivos na coluna em que agrupamos)."
   ]
  },
  {
   "cell_type": "code",
   "execution_count": 26,
   "metadata": {
    "execution": {
     "iopub.execute_input": "2024-03-28T17:44:11.640581Z",
     "iopub.status.busy": "2024-03-28T17:44:11.640283Z",
     "iopub.status.idle": "2024-03-28T17:44:11.652210Z",
     "shell.execute_reply": "2024-03-28T17:44:11.651497Z"
    },
    "slideshow": {
     "slide_type": "-"
    }
   },
   "outputs": [
    {
     "data": {
      "text/html": [
       "<div>\n",
       "<style scoped>\n",
       "    .dataframe tbody tr th:only-of-type {\n",
       "        vertical-align: middle;\n",
       "    }\n",
       "\n",
       "    .dataframe tbody tr th {\n",
       "        vertical-align: top;\n",
       "    }\n",
       "\n",
       "    .dataframe thead th {\n",
       "        text-align: right;\n",
       "    }\n",
       "</style>\n",
       "<table border=\"1\" class=\"dataframe\">\n",
       "  <thead>\n",
       "    <tr style=\"text-align: right;\">\n",
       "      <th></th>\n",
       "      <th>CODIGO_VAGA</th>\n",
       "      <th>NOME_FANTASIA</th>\n",
       "      <th>NOME_FEIRANTE</th>\n",
       "      <th>NOME_PREPOSTO</th>\n",
       "      <th>NOME_SETOR</th>\n",
       "      <th>PRODUTOS</th>\n",
       "      <th>NUMERO_PRODUTOS_CADASTRADOS</th>\n",
       "      <th>AREA</th>\n",
       "      <th>DENSIDADE</th>\n",
       "    </tr>\n",
       "    <tr>\n",
       "      <th>ID_FEIRA_AFONSO_PENA_BARRACA</th>\n",
       "      <th></th>\n",
       "      <th></th>\n",
       "      <th></th>\n",
       "      <th></th>\n",
       "      <th></th>\n",
       "      <th></th>\n",
       "      <th></th>\n",
       "      <th></th>\n",
       "      <th></th>\n",
       "    </tr>\n",
       "  </thead>\n",
       "  <tbody>\n",
       "    <tr>\n",
       "      <th>83</th>\n",
       "      <td>F.F2.V016</td>\n",
       "      <td>BARRACA CARMEN EMMANUEL DOS SANTOS SILVA</td>\n",
       "      <td>CARMEN EMMANUEL DOS SANTOS SILVA</td>\n",
       "      <td>JANA FONSECA VIEIRA</td>\n",
       "      <td>Criança</td>\n",
       "      <td>BOLSA DE BEBÊ, MALA DE MATERNIDADE, NECESSÁIRE...</td>\n",
       "      <td>5.0</td>\n",
       "      <td>11.838911</td>\n",
       "      <td>0.422336</td>\n",
       "    </tr>\n",
       "    <tr>\n",
       "      <th>84</th>\n",
       "      <td>G.F3.V052</td>\n",
       "      <td>BARRACA CARMEN FERNANDA ROCHA DE ALCANTARA</td>\n",
       "      <td>CARMEN FERNANDA ROCHA DE ALCANTARA</td>\n",
       "      <td>KARINA RODRIGUES BRANDORFI</td>\n",
       "      <td>Bijouterias</td>\n",
       "      <td>BRINCO, ANEL, PULSEIRA, COLAR, ARCO</td>\n",
       "      <td>5.0</td>\n",
       "      <td>11.838911</td>\n",
       "      <td>0.422336</td>\n",
       "    </tr>\n",
       "    <tr>\n",
       "      <th>85</th>\n",
       "      <td>E.F4.V003</td>\n",
       "      <td>BARRACA CARMEN LÚCIA CARVALHO DE ALMEIDA</td>\n",
       "      <td>CARMEN LÚCIA CARVALHO DE ALMEIDA</td>\n",
       "      <td>BARBARA ISABELLE CARVALHO DE PAULA</td>\n",
       "      <td>Vestuário Infantil</td>\n",
       "      <td>VESTIDO, CONJUNTO, MACACÃO</td>\n",
       "      <td>3.0</td>\n",
       "      <td>11.838911</td>\n",
       "      <td>0.253402</td>\n",
       "    </tr>\n",
       "    <tr>\n",
       "      <th>86</th>\n",
       "      <td>E.F2.V004</td>\n",
       "      <td>BARRACA CECÍLIA PAGANO NEVES SALAZAR</td>\n",
       "      <td>CECÍLIA PAGANO NEVES SALAZAR</td>\n",
       "      <td>GISELE PAGANO NEVES SALAZAR</td>\n",
       "      <td>Vestuário Infantil</td>\n",
       "      <td>MACACÃO, BLUSA, SAPATINHO</td>\n",
       "      <td>3.0</td>\n",
       "      <td>11.827592</td>\n",
       "      <td>0.253644</td>\n",
       "    </tr>\n",
       "    <tr>\n",
       "      <th>87</th>\n",
       "      <td>D.F2.V016</td>\n",
       "      <td>BARRACA CÉLIA APARECIDA DE SOUZA</td>\n",
       "      <td>CÉLIA APARECIDA DE SOUZA</td>\n",
       "      <td>EDSON PIRES DE SOUZA</td>\n",
       "      <td>Vestuário</td>\n",
       "      <td>BLUSA, BERMUDA, ROUPA DE GINÁSTICA, SAIA, VEST...</td>\n",
       "      <td>7.0</td>\n",
       "      <td>11.827592</td>\n",
       "      <td>0.591836</td>\n",
       "    </tr>\n",
       "    <tr>\n",
       "      <th>...</th>\n",
       "      <td>...</td>\n",
       "      <td>...</td>\n",
       "      <td>...</td>\n",
       "      <td>...</td>\n",
       "      <td>...</td>\n",
       "      <td>...</td>\n",
       "      <td>...</td>\n",
       "      <td>...</td>\n",
       "      <td>...</td>\n",
       "    </tr>\n",
       "    <tr>\n",
       "      <th>1350</th>\n",
       "      <td>G.F4.V014</td>\n",
       "      <td>BARRACA HELCIO LICIO SILVA</td>\n",
       "      <td>HELCIO LICIO SILVA</td>\n",
       "      <td>GRAZIELA CRISTINA RAMALHO SILVA</td>\n",
       "      <td>Bijouterias</td>\n",
       "      <td>ANEL, COLAR, BROCHE, BRINCO, PULSEIRA, ALIANÇA...</td>\n",
       "      <td>7.0</td>\n",
       "      <td>11.838911</td>\n",
       "      <td>0.591271</td>\n",
       "    </tr>\n",
       "    <tr>\n",
       "      <th>1351</th>\n",
       "      <td>J.F1.V004</td>\n",
       "      <td>BARRACA DIEGO DOS SANTOS DIAS</td>\n",
       "      <td>DIEGO DOS SANTOS DIAS</td>\n",
       "      <td>CELSO DE SOUZA LINHARES</td>\n",
       "      <td>Calçados</td>\n",
       "      <td>RASTEIRINHA, SAPATO, SANDÁLIA</td>\n",
       "      <td>3.0</td>\n",
       "      <td>11.827592</td>\n",
       "      <td>0.253644</td>\n",
       "    </tr>\n",
       "    <tr>\n",
       "      <th>1352</th>\n",
       "      <td>D.F4.V050</td>\n",
       "      <td>BARRACA JAIR CORREA</td>\n",
       "      <td>JAIR CORREA</td>\n",
       "      <td>Keli Aparecida Batista Correa</td>\n",
       "      <td>Vestuário</td>\n",
       "      <td>VESTIDO DE MALHA, BATA DE TECIDO, CONJUNTO, SA...</td>\n",
       "      <td>5.0</td>\n",
       "      <td>11.827592</td>\n",
       "      <td>0.422740</td>\n",
       "    </tr>\n",
       "    <tr>\n",
       "      <th>1353</th>\n",
       "      <td>G.F2.V010</td>\n",
       "      <td>BARRACA SIDNEY FERNANDO KNEIPP SOARES</td>\n",
       "      <td>SIDNEY FERNANDO KNEIPP SOARES</td>\n",
       "      <td>ANA PAULA FAUSTINA DE SOUZA</td>\n",
       "      <td>Bijouterias</td>\n",
       "      <td>COLAR, GARGANTILHA, ARCO, ANEL, PASSADOR DE CA...</td>\n",
       "      <td>7.0</td>\n",
       "      <td>11.838911</td>\n",
       "      <td>0.591271</td>\n",
       "    </tr>\n",
       "    <tr>\n",
       "      <th>1354</th>\n",
       "      <td>G.F1.V061</td>\n",
       "      <td>BARRACA REGINA GARCIA FERREIRA</td>\n",
       "      <td>REGINA GARCIA FERREIRA</td>\n",
       "      <td>Rejane Garcia Ferreira Clemente</td>\n",
       "      <td>Bijouterias</td>\n",
       "      <td>COLAR DE METAL, PRESILHA, PASSADOR DE CABELO, ...</td>\n",
       "      <td>4.0</td>\n",
       "      <td>11.827592</td>\n",
       "      <td>0.338192</td>\n",
       "    </tr>\n",
       "  </tbody>\n",
       "</table>\n",
       "<p>1250 rows × 9 columns</p>\n",
       "</div>"
      ],
      "text/plain": [
       "                             CODIGO_VAGA  \\\n",
       "ID_FEIRA_AFONSO_PENA_BARRACA               \n",
       "83                             F.F2.V016   \n",
       "84                             G.F3.V052   \n",
       "85                             E.F4.V003   \n",
       "86                             E.F2.V004   \n",
       "87                             D.F2.V016   \n",
       "...                                  ...   \n",
       "1350                           G.F4.V014   \n",
       "1351                           J.F1.V004   \n",
       "1352                           D.F4.V050   \n",
       "1353                           G.F2.V010   \n",
       "1354                           G.F1.V061   \n",
       "\n",
       "                                                           NOME_FANTASIA  \\\n",
       "ID_FEIRA_AFONSO_PENA_BARRACA                                               \n",
       "83                              BARRACA CARMEN EMMANUEL DOS SANTOS SILVA   \n",
       "84                            BARRACA CARMEN FERNANDA ROCHA DE ALCANTARA   \n",
       "85                              BARRACA CARMEN LÚCIA CARVALHO DE ALMEIDA   \n",
       "86                                  BARRACA CECÍLIA PAGANO NEVES SALAZAR   \n",
       "87                                      BARRACA CÉLIA APARECIDA DE SOUZA   \n",
       "...                                                                  ...   \n",
       "1350                                          BARRACA HELCIO LICIO SILVA   \n",
       "1351                                       BARRACA DIEGO DOS SANTOS DIAS   \n",
       "1352                                                 BARRACA JAIR CORREA   \n",
       "1353                               BARRACA SIDNEY FERNANDO KNEIPP SOARES   \n",
       "1354                                      BARRACA REGINA GARCIA FERREIRA   \n",
       "\n",
       "                                                   NOME_FEIRANTE  \\\n",
       "ID_FEIRA_AFONSO_PENA_BARRACA                                       \n",
       "83                              CARMEN EMMANUEL DOS SANTOS SILVA   \n",
       "84                            CARMEN FERNANDA ROCHA DE ALCANTARA   \n",
       "85                              CARMEN LÚCIA CARVALHO DE ALMEIDA   \n",
       "86                                  CECÍLIA PAGANO NEVES SALAZAR   \n",
       "87                                      CÉLIA APARECIDA DE SOUZA   \n",
       "...                                                          ...   \n",
       "1350                                          HELCIO LICIO SILVA   \n",
       "1351                                       DIEGO DOS SANTOS DIAS   \n",
       "1352                                                 JAIR CORREA   \n",
       "1353                               SIDNEY FERNANDO KNEIPP SOARES   \n",
       "1354                                      REGINA GARCIA FERREIRA   \n",
       "\n",
       "                                                   NOME_PREPOSTO  \\\n",
       "ID_FEIRA_AFONSO_PENA_BARRACA                                       \n",
       "83                                           JANA FONSECA VIEIRA   \n",
       "84                                    KARINA RODRIGUES BRANDORFI   \n",
       "85                            BARBARA ISABELLE CARVALHO DE PAULA   \n",
       "86                                   GISELE PAGANO NEVES SALAZAR   \n",
       "87                                          EDSON PIRES DE SOUZA   \n",
       "...                                                          ...   \n",
       "1350                             GRAZIELA CRISTINA RAMALHO SILVA   \n",
       "1351                                     CELSO DE SOUZA LINHARES   \n",
       "1352                               Keli Aparecida Batista Correa   \n",
       "1353                                 ANA PAULA FAUSTINA DE SOUZA   \n",
       "1354                             Rejane Garcia Ferreira Clemente   \n",
       "\n",
       "                                      NOME_SETOR  \\\n",
       "ID_FEIRA_AFONSO_PENA_BARRACA                       \n",
       "83                                       Criança   \n",
       "84                                   Bijouterias   \n",
       "85                            Vestuário Infantil   \n",
       "86                            Vestuário Infantil   \n",
       "87                                     Vestuário   \n",
       "...                                          ...   \n",
       "1350                                 Bijouterias   \n",
       "1351                                    Calçados   \n",
       "1352                                   Vestuário   \n",
       "1353                                 Bijouterias   \n",
       "1354                                 Bijouterias   \n",
       "\n",
       "                                                                       PRODUTOS  \\\n",
       "ID_FEIRA_AFONSO_PENA_BARRACA                                                      \n",
       "83                            BOLSA DE BEBÊ, MALA DE MATERNIDADE, NECESSÁIRE...   \n",
       "84                                          BRINCO, ANEL, PULSEIRA, COLAR, ARCO   \n",
       "85                                                   VESTIDO, CONJUNTO, MACACÃO   \n",
       "86                                                    MACACÃO, BLUSA, SAPATINHO   \n",
       "87                            BLUSA, BERMUDA, ROUPA DE GINÁSTICA, SAIA, VEST...   \n",
       "...                                                                         ...   \n",
       "1350                          ANEL, COLAR, BROCHE, BRINCO, PULSEIRA, ALIANÇA...   \n",
       "1351                                              RASTEIRINHA, SAPATO, SANDÁLIA   \n",
       "1352                          VESTIDO DE MALHA, BATA DE TECIDO, CONJUNTO, SA...   \n",
       "1353                          COLAR, GARGANTILHA, ARCO, ANEL, PASSADOR DE CA...   \n",
       "1354                          COLAR DE METAL, PRESILHA, PASSADOR DE CABELO, ...   \n",
       "\n",
       "                              NUMERO_PRODUTOS_CADASTRADOS       AREA  \\\n",
       "ID_FEIRA_AFONSO_PENA_BARRACA                                           \n",
       "83                                                    5.0  11.838911   \n",
       "84                                                    5.0  11.838911   \n",
       "85                                                    3.0  11.838911   \n",
       "86                                                    3.0  11.827592   \n",
       "87                                                    7.0  11.827592   \n",
       "...                                                   ...        ...   \n",
       "1350                                                  7.0  11.838911   \n",
       "1351                                                  3.0  11.827592   \n",
       "1352                                                  5.0  11.827592   \n",
       "1353                                                  7.0  11.838911   \n",
       "1354                                                  4.0  11.827592   \n",
       "\n",
       "                              DENSIDADE  \n",
       "ID_FEIRA_AFONSO_PENA_BARRACA             \n",
       "83                             0.422336  \n",
       "84                             0.422336  \n",
       "85                             0.253402  \n",
       "86                             0.253644  \n",
       "87                             0.591836  \n",
       "...                                 ...  \n",
       "1350                           0.591271  \n",
       "1351                           0.253644  \n",
       "1352                           0.422740  \n",
       "1353                           0.591271  \n",
       "1354                           0.338192  \n",
       "\n",
       "[1250 rows x 9 columns]"
      ]
     },
     "execution_count": 26,
     "metadata": {},
     "output_type": "execute_result"
    }
   ],
   "source": [
    "df"
   ]
  },
  {
   "cell_type": "code",
   "execution_count": 27,
   "metadata": {
    "execution": {
     "iopub.execute_input": "2024-03-28T17:44:11.654949Z",
     "iopub.status.busy": "2024-03-28T17:44:11.654423Z",
     "iopub.status.idle": "2024-03-28T17:44:11.665144Z",
     "shell.execute_reply": "2024-03-28T17:44:11.664398Z"
    }
   },
   "outputs": [
    {
     "data": {
      "text/html": [
       "<div>\n",
       "<style scoped>\n",
       "    .dataframe tbody tr th:only-of-type {\n",
       "        vertical-align: middle;\n",
       "    }\n",
       "\n",
       "    .dataframe tbody tr th {\n",
       "        vertical-align: top;\n",
       "    }\n",
       "\n",
       "    .dataframe thead th {\n",
       "        text-align: right;\n",
       "    }\n",
       "</style>\n",
       "<table border=\"1\" class=\"dataframe\">\n",
       "  <thead>\n",
       "    <tr style=\"text-align: right;\">\n",
       "      <th></th>\n",
       "      <th>NUMERO_PRODUTOS_CADASTRADOS</th>\n",
       "      <th>AREA</th>\n",
       "      <th>DENSIDADE</th>\n",
       "    </tr>\n",
       "    <tr>\n",
       "      <th>NOME_SETOR</th>\n",
       "      <th></th>\n",
       "      <th></th>\n",
       "      <th></th>\n",
       "    </tr>\n",
       "  </thead>\n",
       "  <tbody>\n",
       "    <tr>\n",
       "      <th>Alimentação</th>\n",
       "      <td>733.0</td>\n",
       "      <td>3359.343283</td>\n",
       "      <td>21.820242</td>\n",
       "    </tr>\n",
       "    <tr>\n",
       "      <th>Arranjos e Complementos</th>\n",
       "      <td>379.0</td>\n",
       "      <td>615.329088</td>\n",
       "      <td>32.028438</td>\n",
       "    </tr>\n",
       "    <tr>\n",
       "      <th>Artes e Pintura</th>\n",
       "      <td>62.0</td>\n",
       "      <td>713.705731</td>\n",
       "      <td>2.606116</td>\n",
       "    </tr>\n",
       "    <tr>\n",
       "      <th>Bijouterias</th>\n",
       "      <td>1047.0</td>\n",
       "      <td>2165.445443</td>\n",
       "      <td>88.479383</td>\n",
       "    </tr>\n",
       "    <tr>\n",
       "      <th>Calçados</th>\n",
       "      <td>774.0</td>\n",
       "      <td>1881.447403</td>\n",
       "      <td>65.409968</td>\n",
       "    </tr>\n",
       "    <tr>\n",
       "      <th>...</th>\n",
       "      <td>...</td>\n",
       "      <td>...</td>\n",
       "      <td>...</td>\n",
       "    </tr>\n",
       "    <tr>\n",
       "      <th>Decoração e Utilidades</th>\n",
       "      <td>423.0</td>\n",
       "      <td>1033.677527</td>\n",
       "      <td>29.927868</td>\n",
       "    </tr>\n",
       "    <tr>\n",
       "      <th>Esculturas</th>\n",
       "      <td>6.0</td>\n",
       "      <td>47.580382</td>\n",
       "      <td>0.252205</td>\n",
       "    </tr>\n",
       "    <tr>\n",
       "      <th>Mobilário, Flores, Arranjos, Cestaria</th>\n",
       "      <td>247.0</td>\n",
       "      <td>771.488214</td>\n",
       "      <td>14.012735</td>\n",
       "    </tr>\n",
       "    <tr>\n",
       "      <th>Vestuário</th>\n",
       "      <td>1454.0</td>\n",
       "      <td>2591.442504</td>\n",
       "      <td>122.878561</td>\n",
       "    </tr>\n",
       "    <tr>\n",
       "      <th>Vestuário Infantil</th>\n",
       "      <td>788.0</td>\n",
       "      <td>1431.874390</td>\n",
       "      <td>66.590892</td>\n",
       "    </tr>\n",
       "  </tbody>\n",
       "</table>\n",
       "<p>13 rows × 3 columns</p>\n",
       "</div>"
      ],
      "text/plain": [
       "                                       NUMERO_PRODUTOS_CADASTRADOS  \\\n",
       "NOME_SETOR                                                           \n",
       "Alimentação                                                  733.0   \n",
       "Arranjos e Complementos                                      379.0   \n",
       "Artes e Pintura                                               62.0   \n",
       "Bijouterias                                                 1047.0   \n",
       "Calçados                                                     774.0   \n",
       "...                                                            ...   \n",
       "Decoração e Utilidades                                       423.0   \n",
       "Esculturas                                                     6.0   \n",
       "Mobilário, Flores, Arranjos, Cestaria                        247.0   \n",
       "Vestuário                                                   1454.0   \n",
       "Vestuário Infantil                                           788.0   \n",
       "\n",
       "                                              AREA   DENSIDADE  \n",
       "NOME_SETOR                                                      \n",
       "Alimentação                            3359.343283   21.820242  \n",
       "Arranjos e Complementos                 615.329088   32.028438  \n",
       "Artes e Pintura                         713.705731    2.606116  \n",
       "Bijouterias                            2165.445443   88.479383  \n",
       "Calçados                               1881.447403   65.409968  \n",
       "...                                            ...         ...  \n",
       "Decoração e Utilidades                 1033.677527   29.927868  \n",
       "Esculturas                               47.580382    0.252205  \n",
       "Mobilário, Flores, Arranjos, Cestaria   771.488214   14.012735  \n",
       "Vestuário                              2591.442504  122.878561  \n",
       "Vestuário Infantil                     1431.874390   66.590892  \n",
       "\n",
       "[13 rows x 3 columns]"
      ]
     },
     "execution_count": 27,
     "metadata": {},
     "output_type": "execute_result"
    }
   ],
   "source": [
    "df.groupby('NOME_SETOR').sum()"
   ]
  },
  {
   "cell_type": "markdown",
   "metadata": {
    "slideshow": {
     "slide_type": "slide"
    }
   },
   "source": [
    "### Observação #2\n",
    "\n",
    "A coluna `'NOME_FANTASIA'` e vároas outras desapareceram. Por que?"
   ]
  },
  {
   "cell_type": "code",
   "execution_count": 28,
   "metadata": {
    "execution": {
     "iopub.execute_input": "2024-03-28T17:44:11.667797Z",
     "iopub.status.busy": "2024-03-28T17:44:11.667489Z",
     "iopub.status.idle": "2024-03-28T17:44:11.678796Z",
     "shell.execute_reply": "2024-03-28T17:44:11.678054Z"
    }
   },
   "outputs": [
    {
     "data": {
      "text/html": [
       "<div>\n",
       "<style scoped>\n",
       "    .dataframe tbody tr th:only-of-type {\n",
       "        vertical-align: middle;\n",
       "    }\n",
       "\n",
       "    .dataframe tbody tr th {\n",
       "        vertical-align: top;\n",
       "    }\n",
       "\n",
       "    .dataframe thead th {\n",
       "        text-align: right;\n",
       "    }\n",
       "</style>\n",
       "<table border=\"1\" class=\"dataframe\">\n",
       "  <thead>\n",
       "    <tr style=\"text-align: right;\">\n",
       "      <th></th>\n",
       "      <th>CODIGO_VAGA</th>\n",
       "      <th>NOME_FANTASIA</th>\n",
       "      <th>NOME_FEIRANTE</th>\n",
       "      <th>NOME_PREPOSTO</th>\n",
       "      <th>NOME_SETOR</th>\n",
       "      <th>PRODUTOS</th>\n",
       "      <th>NUMERO_PRODUTOS_CADASTRADOS</th>\n",
       "      <th>AREA</th>\n",
       "      <th>DENSIDADE</th>\n",
       "    </tr>\n",
       "    <tr>\n",
       "      <th>ID_FEIRA_AFONSO_PENA_BARRACA</th>\n",
       "      <th></th>\n",
       "      <th></th>\n",
       "      <th></th>\n",
       "      <th></th>\n",
       "      <th></th>\n",
       "      <th></th>\n",
       "      <th></th>\n",
       "      <th></th>\n",
       "      <th></th>\n",
       "    </tr>\n",
       "  </thead>\n",
       "  <tbody>\n",
       "    <tr>\n",
       "      <th>83</th>\n",
       "      <td>F.F2.V016</td>\n",
       "      <td>BARRACA CARMEN EMMANUEL DOS SANTOS SILVA</td>\n",
       "      <td>CARMEN EMMANUEL DOS SANTOS SILVA</td>\n",
       "      <td>JANA FONSECA VIEIRA</td>\n",
       "      <td>Criança</td>\n",
       "      <td>BOLSA DE BEBÊ, MALA DE MATERNIDADE, NECESSÁIRE...</td>\n",
       "      <td>5.0</td>\n",
       "      <td>11.838911</td>\n",
       "      <td>0.422336</td>\n",
       "    </tr>\n",
       "    <tr>\n",
       "      <th>84</th>\n",
       "      <td>G.F3.V052</td>\n",
       "      <td>BARRACA CARMEN FERNANDA ROCHA DE ALCANTARA</td>\n",
       "      <td>CARMEN FERNANDA ROCHA DE ALCANTARA</td>\n",
       "      <td>KARINA RODRIGUES BRANDORFI</td>\n",
       "      <td>Bijouterias</td>\n",
       "      <td>BRINCO, ANEL, PULSEIRA, COLAR, ARCO</td>\n",
       "      <td>5.0</td>\n",
       "      <td>11.838911</td>\n",
       "      <td>0.422336</td>\n",
       "    </tr>\n",
       "    <tr>\n",
       "      <th>85</th>\n",
       "      <td>E.F4.V003</td>\n",
       "      <td>BARRACA CARMEN LÚCIA CARVALHO DE ALMEIDA</td>\n",
       "      <td>CARMEN LÚCIA CARVALHO DE ALMEIDA</td>\n",
       "      <td>BARBARA ISABELLE CARVALHO DE PAULA</td>\n",
       "      <td>Vestuário Infantil</td>\n",
       "      <td>VESTIDO, CONJUNTO, MACACÃO</td>\n",
       "      <td>3.0</td>\n",
       "      <td>11.838911</td>\n",
       "      <td>0.253402</td>\n",
       "    </tr>\n",
       "    <tr>\n",
       "      <th>86</th>\n",
       "      <td>E.F2.V004</td>\n",
       "      <td>BARRACA CECÍLIA PAGANO NEVES SALAZAR</td>\n",
       "      <td>CECÍLIA PAGANO NEVES SALAZAR</td>\n",
       "      <td>GISELE PAGANO NEVES SALAZAR</td>\n",
       "      <td>Vestuário Infantil</td>\n",
       "      <td>MACACÃO, BLUSA, SAPATINHO</td>\n",
       "      <td>3.0</td>\n",
       "      <td>11.827592</td>\n",
       "      <td>0.253644</td>\n",
       "    </tr>\n",
       "    <tr>\n",
       "      <th>87</th>\n",
       "      <td>D.F2.V016</td>\n",
       "      <td>BARRACA CÉLIA APARECIDA DE SOUZA</td>\n",
       "      <td>CÉLIA APARECIDA DE SOUZA</td>\n",
       "      <td>EDSON PIRES DE SOUZA</td>\n",
       "      <td>Vestuário</td>\n",
       "      <td>BLUSA, BERMUDA, ROUPA DE GINÁSTICA, SAIA, VEST...</td>\n",
       "      <td>7.0</td>\n",
       "      <td>11.827592</td>\n",
       "      <td>0.591836</td>\n",
       "    </tr>\n",
       "    <tr>\n",
       "      <th>...</th>\n",
       "      <td>...</td>\n",
       "      <td>...</td>\n",
       "      <td>...</td>\n",
       "      <td>...</td>\n",
       "      <td>...</td>\n",
       "      <td>...</td>\n",
       "      <td>...</td>\n",
       "      <td>...</td>\n",
       "      <td>...</td>\n",
       "    </tr>\n",
       "    <tr>\n",
       "      <th>1350</th>\n",
       "      <td>G.F4.V014</td>\n",
       "      <td>BARRACA HELCIO LICIO SILVA</td>\n",
       "      <td>HELCIO LICIO SILVA</td>\n",
       "      <td>GRAZIELA CRISTINA RAMALHO SILVA</td>\n",
       "      <td>Bijouterias</td>\n",
       "      <td>ANEL, COLAR, BROCHE, BRINCO, PULSEIRA, ALIANÇA...</td>\n",
       "      <td>7.0</td>\n",
       "      <td>11.838911</td>\n",
       "      <td>0.591271</td>\n",
       "    </tr>\n",
       "    <tr>\n",
       "      <th>1351</th>\n",
       "      <td>J.F1.V004</td>\n",
       "      <td>BARRACA DIEGO DOS SANTOS DIAS</td>\n",
       "      <td>DIEGO DOS SANTOS DIAS</td>\n",
       "      <td>CELSO DE SOUZA LINHARES</td>\n",
       "      <td>Calçados</td>\n",
       "      <td>RASTEIRINHA, SAPATO, SANDÁLIA</td>\n",
       "      <td>3.0</td>\n",
       "      <td>11.827592</td>\n",
       "      <td>0.253644</td>\n",
       "    </tr>\n",
       "    <tr>\n",
       "      <th>1352</th>\n",
       "      <td>D.F4.V050</td>\n",
       "      <td>BARRACA JAIR CORREA</td>\n",
       "      <td>JAIR CORREA</td>\n",
       "      <td>Keli Aparecida Batista Correa</td>\n",
       "      <td>Vestuário</td>\n",
       "      <td>VESTIDO DE MALHA, BATA DE TECIDO, CONJUNTO, SA...</td>\n",
       "      <td>5.0</td>\n",
       "      <td>11.827592</td>\n",
       "      <td>0.422740</td>\n",
       "    </tr>\n",
       "    <tr>\n",
       "      <th>1353</th>\n",
       "      <td>G.F2.V010</td>\n",
       "      <td>BARRACA SIDNEY FERNANDO KNEIPP SOARES</td>\n",
       "      <td>SIDNEY FERNANDO KNEIPP SOARES</td>\n",
       "      <td>ANA PAULA FAUSTINA DE SOUZA</td>\n",
       "      <td>Bijouterias</td>\n",
       "      <td>COLAR, GARGANTILHA, ARCO, ANEL, PASSADOR DE CA...</td>\n",
       "      <td>7.0</td>\n",
       "      <td>11.838911</td>\n",
       "      <td>0.591271</td>\n",
       "    </tr>\n",
       "    <tr>\n",
       "      <th>1354</th>\n",
       "      <td>G.F1.V061</td>\n",
       "      <td>BARRACA REGINA GARCIA FERREIRA</td>\n",
       "      <td>REGINA GARCIA FERREIRA</td>\n",
       "      <td>Rejane Garcia Ferreira Clemente</td>\n",
       "      <td>Bijouterias</td>\n",
       "      <td>COLAR DE METAL, PRESILHA, PASSADOR DE CABELO, ...</td>\n",
       "      <td>4.0</td>\n",
       "      <td>11.827592</td>\n",
       "      <td>0.338192</td>\n",
       "    </tr>\n",
       "  </tbody>\n",
       "</table>\n",
       "<p>1250 rows × 9 columns</p>\n",
       "</div>"
      ],
      "text/plain": [
       "                             CODIGO_VAGA  \\\n",
       "ID_FEIRA_AFONSO_PENA_BARRACA               \n",
       "83                             F.F2.V016   \n",
       "84                             G.F3.V052   \n",
       "85                             E.F4.V003   \n",
       "86                             E.F2.V004   \n",
       "87                             D.F2.V016   \n",
       "...                                  ...   \n",
       "1350                           G.F4.V014   \n",
       "1351                           J.F1.V004   \n",
       "1352                           D.F4.V050   \n",
       "1353                           G.F2.V010   \n",
       "1354                           G.F1.V061   \n",
       "\n",
       "                                                           NOME_FANTASIA  \\\n",
       "ID_FEIRA_AFONSO_PENA_BARRACA                                               \n",
       "83                              BARRACA CARMEN EMMANUEL DOS SANTOS SILVA   \n",
       "84                            BARRACA CARMEN FERNANDA ROCHA DE ALCANTARA   \n",
       "85                              BARRACA CARMEN LÚCIA CARVALHO DE ALMEIDA   \n",
       "86                                  BARRACA CECÍLIA PAGANO NEVES SALAZAR   \n",
       "87                                      BARRACA CÉLIA APARECIDA DE SOUZA   \n",
       "...                                                                  ...   \n",
       "1350                                          BARRACA HELCIO LICIO SILVA   \n",
       "1351                                       BARRACA DIEGO DOS SANTOS DIAS   \n",
       "1352                                                 BARRACA JAIR CORREA   \n",
       "1353                               BARRACA SIDNEY FERNANDO KNEIPP SOARES   \n",
       "1354                                      BARRACA REGINA GARCIA FERREIRA   \n",
       "\n",
       "                                                   NOME_FEIRANTE  \\\n",
       "ID_FEIRA_AFONSO_PENA_BARRACA                                       \n",
       "83                              CARMEN EMMANUEL DOS SANTOS SILVA   \n",
       "84                            CARMEN FERNANDA ROCHA DE ALCANTARA   \n",
       "85                              CARMEN LÚCIA CARVALHO DE ALMEIDA   \n",
       "86                                  CECÍLIA PAGANO NEVES SALAZAR   \n",
       "87                                      CÉLIA APARECIDA DE SOUZA   \n",
       "...                                                          ...   \n",
       "1350                                          HELCIO LICIO SILVA   \n",
       "1351                                       DIEGO DOS SANTOS DIAS   \n",
       "1352                                                 JAIR CORREA   \n",
       "1353                               SIDNEY FERNANDO KNEIPP SOARES   \n",
       "1354                                      REGINA GARCIA FERREIRA   \n",
       "\n",
       "                                                   NOME_PREPOSTO  \\\n",
       "ID_FEIRA_AFONSO_PENA_BARRACA                                       \n",
       "83                                           JANA FONSECA VIEIRA   \n",
       "84                                    KARINA RODRIGUES BRANDORFI   \n",
       "85                            BARBARA ISABELLE CARVALHO DE PAULA   \n",
       "86                                   GISELE PAGANO NEVES SALAZAR   \n",
       "87                                          EDSON PIRES DE SOUZA   \n",
       "...                                                          ...   \n",
       "1350                             GRAZIELA CRISTINA RAMALHO SILVA   \n",
       "1351                                     CELSO DE SOUZA LINHARES   \n",
       "1352                               Keli Aparecida Batista Correa   \n",
       "1353                                 ANA PAULA FAUSTINA DE SOUZA   \n",
       "1354                             Rejane Garcia Ferreira Clemente   \n",
       "\n",
       "                                      NOME_SETOR  \\\n",
       "ID_FEIRA_AFONSO_PENA_BARRACA                       \n",
       "83                                       Criança   \n",
       "84                                   Bijouterias   \n",
       "85                            Vestuário Infantil   \n",
       "86                            Vestuário Infantil   \n",
       "87                                     Vestuário   \n",
       "...                                          ...   \n",
       "1350                                 Bijouterias   \n",
       "1351                                    Calçados   \n",
       "1352                                   Vestuário   \n",
       "1353                                 Bijouterias   \n",
       "1354                                 Bijouterias   \n",
       "\n",
       "                                                                       PRODUTOS  \\\n",
       "ID_FEIRA_AFONSO_PENA_BARRACA                                                      \n",
       "83                            BOLSA DE BEBÊ, MALA DE MATERNIDADE, NECESSÁIRE...   \n",
       "84                                          BRINCO, ANEL, PULSEIRA, COLAR, ARCO   \n",
       "85                                                   VESTIDO, CONJUNTO, MACACÃO   \n",
       "86                                                    MACACÃO, BLUSA, SAPATINHO   \n",
       "87                            BLUSA, BERMUDA, ROUPA DE GINÁSTICA, SAIA, VEST...   \n",
       "...                                                                         ...   \n",
       "1350                          ANEL, COLAR, BROCHE, BRINCO, PULSEIRA, ALIANÇA...   \n",
       "1351                                              RASTEIRINHA, SAPATO, SANDÁLIA   \n",
       "1352                          VESTIDO DE MALHA, BATA DE TECIDO, CONJUNTO, SA...   \n",
       "1353                          COLAR, GARGANTILHA, ARCO, ANEL, PASSADOR DE CA...   \n",
       "1354                          COLAR DE METAL, PRESILHA, PASSADOR DE CABELO, ...   \n",
       "\n",
       "                              NUMERO_PRODUTOS_CADASTRADOS       AREA  \\\n",
       "ID_FEIRA_AFONSO_PENA_BARRACA                                           \n",
       "83                                                    5.0  11.838911   \n",
       "84                                                    5.0  11.838911   \n",
       "85                                                    3.0  11.838911   \n",
       "86                                                    3.0  11.827592   \n",
       "87                                                    7.0  11.827592   \n",
       "...                                                   ...        ...   \n",
       "1350                                                  7.0  11.838911   \n",
       "1351                                                  3.0  11.827592   \n",
       "1352                                                  5.0  11.827592   \n",
       "1353                                                  7.0  11.838911   \n",
       "1354                                                  4.0  11.827592   \n",
       "\n",
       "                              DENSIDADE  \n",
       "ID_FEIRA_AFONSO_PENA_BARRACA             \n",
       "83                             0.422336  \n",
       "84                             0.422336  \n",
       "85                             0.253402  \n",
       "86                             0.253644  \n",
       "87                             0.591836  \n",
       "...                                 ...  \n",
       "1350                           0.591271  \n",
       "1351                           0.253644  \n",
       "1352                           0.422740  \n",
       "1353                           0.591271  \n",
       "1354                           0.338192  \n",
       "\n",
       "[1250 rows x 9 columns]"
      ]
     },
     "execution_count": 28,
     "metadata": {},
     "output_type": "execute_result"
    }
   ],
   "source": [
    "df"
   ]
  },
  {
   "cell_type": "code",
   "execution_count": 29,
   "metadata": {
    "execution": {
     "iopub.execute_input": "2024-03-28T17:44:11.681580Z",
     "iopub.status.busy": "2024-03-28T17:44:11.681244Z",
     "iopub.status.idle": "2024-03-28T17:44:11.693206Z",
     "shell.execute_reply": "2024-03-28T17:44:11.692504Z"
    },
    "scrolled": false
   },
   "outputs": [
    {
     "data": {
      "text/html": [
       "<div>\n",
       "<style scoped>\n",
       "    .dataframe tbody tr th:only-of-type {\n",
       "        vertical-align: middle;\n",
       "    }\n",
       "\n",
       "    .dataframe tbody tr th {\n",
       "        vertical-align: top;\n",
       "    }\n",
       "\n",
       "    .dataframe thead th {\n",
       "        text-align: right;\n",
       "    }\n",
       "</style>\n",
       "<table border=\"1\" class=\"dataframe\">\n",
       "  <thead>\n",
       "    <tr style=\"text-align: right;\">\n",
       "      <th></th>\n",
       "      <th>NUMERO_PRODUTOS_CADASTRADOS</th>\n",
       "      <th>AREA</th>\n",
       "      <th>DENSIDADE</th>\n",
       "    </tr>\n",
       "    <tr>\n",
       "      <th>NOME_SETOR</th>\n",
       "      <th></th>\n",
       "      <th></th>\n",
       "      <th></th>\n",
       "    </tr>\n",
       "  </thead>\n",
       "  <tbody>\n",
       "    <tr>\n",
       "      <th>Alimentação</th>\n",
       "      <td>733.0</td>\n",
       "      <td>3359.343283</td>\n",
       "      <td>21.820242</td>\n",
       "    </tr>\n",
       "    <tr>\n",
       "      <th>Arranjos e Complementos</th>\n",
       "      <td>379.0</td>\n",
       "      <td>615.329088</td>\n",
       "      <td>32.028438</td>\n",
       "    </tr>\n",
       "    <tr>\n",
       "      <th>Artes e Pintura</th>\n",
       "      <td>62.0</td>\n",
       "      <td>713.705731</td>\n",
       "      <td>2.606116</td>\n",
       "    </tr>\n",
       "    <tr>\n",
       "      <th>Bijouterias</th>\n",
       "      <td>1047.0</td>\n",
       "      <td>2165.445443</td>\n",
       "      <td>88.479383</td>\n",
       "    </tr>\n",
       "    <tr>\n",
       "      <th>Calçados</th>\n",
       "      <td>774.0</td>\n",
       "      <td>1881.447403</td>\n",
       "      <td>65.409968</td>\n",
       "    </tr>\n",
       "    <tr>\n",
       "      <th>...</th>\n",
       "      <td>...</td>\n",
       "      <td>...</td>\n",
       "      <td>...</td>\n",
       "    </tr>\n",
       "    <tr>\n",
       "      <th>Decoração e Utilidades</th>\n",
       "      <td>423.0</td>\n",
       "      <td>1033.677527</td>\n",
       "      <td>29.927868</td>\n",
       "    </tr>\n",
       "    <tr>\n",
       "      <th>Esculturas</th>\n",
       "      <td>6.0</td>\n",
       "      <td>47.580382</td>\n",
       "      <td>0.252205</td>\n",
       "    </tr>\n",
       "    <tr>\n",
       "      <th>Mobilário, Flores, Arranjos, Cestaria</th>\n",
       "      <td>247.0</td>\n",
       "      <td>771.488214</td>\n",
       "      <td>14.012735</td>\n",
       "    </tr>\n",
       "    <tr>\n",
       "      <th>Vestuário</th>\n",
       "      <td>1454.0</td>\n",
       "      <td>2591.442504</td>\n",
       "      <td>122.878561</td>\n",
       "    </tr>\n",
       "    <tr>\n",
       "      <th>Vestuário Infantil</th>\n",
       "      <td>788.0</td>\n",
       "      <td>1431.874390</td>\n",
       "      <td>66.590892</td>\n",
       "    </tr>\n",
       "  </tbody>\n",
       "</table>\n",
       "<p>13 rows × 3 columns</p>\n",
       "</div>"
      ],
      "text/plain": [
       "                                       NUMERO_PRODUTOS_CADASTRADOS  \\\n",
       "NOME_SETOR                                                           \n",
       "Alimentação                                                  733.0   \n",
       "Arranjos e Complementos                                      379.0   \n",
       "Artes e Pintura                                               62.0   \n",
       "Bijouterias                                                 1047.0   \n",
       "Calçados                                                     774.0   \n",
       "...                                                            ...   \n",
       "Decoração e Utilidades                                       423.0   \n",
       "Esculturas                                                     6.0   \n",
       "Mobilário, Flores, Arranjos, Cestaria                        247.0   \n",
       "Vestuário                                                   1454.0   \n",
       "Vestuário Infantil                                           788.0   \n",
       "\n",
       "                                              AREA   DENSIDADE  \n",
       "NOME_SETOR                                                      \n",
       "Alimentação                            3359.343283   21.820242  \n",
       "Arranjos e Complementos                 615.329088   32.028438  \n",
       "Artes e Pintura                         713.705731    2.606116  \n",
       "Bijouterias                            2165.445443   88.479383  \n",
       "Calçados                               1881.447403   65.409968  \n",
       "...                                            ...         ...  \n",
       "Decoração e Utilidades                 1033.677527   29.927868  \n",
       "Esculturas                               47.580382    0.252205  \n",
       "Mobilário, Flores, Arranjos, Cestaria   771.488214   14.012735  \n",
       "Vestuário                              2591.442504  122.878561  \n",
       "Vestuário Infantil                     1431.874390   66.590892  \n",
       "\n",
       "[13 rows x 3 columns]"
      ]
     },
     "execution_count": 29,
     "metadata": {},
     "output_type": "execute_result"
    }
   ],
   "source": [
    "df.groupby('NOME_SETOR').sum()"
   ]
  },
  {
   "cell_type": "markdown",
   "metadata": {
    "slideshow": {
     "slide_type": "slide"
    }
   },
   "source": [
    "### Colunas desaparecendo ✨🐇🎩\n",
    "\n",
    "- O método de agregação – `.sum()`, neste caso – é aplicado a cada coluna.\n",
    "- Se não fizer sentido aplicá-lo a uma determinada coluna, essa coluna desaparecerá.\n",
    "- Por exemplo, não podemos somar strings, como na coluna `'NOME_FANTASIA'`."
   ]
  },
  {
   "cell_type": "markdown",
   "metadata": {
    "slideshow": {
     "slide_type": "slide"
    }
   },
   "source": [
    "### Observação #3\n",
    "\n",
    "- O método de agregação é aplicado a cada coluna **separadamente**.\n",
    "- As linhas do DataFrame resultante precisam ser interpretadas com cuidado."
   ]
  },
  {
   "cell_type": "code",
   "execution_count": 30,
   "metadata": {
    "execution": {
     "iopub.execute_input": "2024-03-28T17:44:11.696202Z",
     "iopub.status.busy": "2024-03-28T17:44:11.695949Z",
     "iopub.status.idle": "2024-03-28T17:44:11.706485Z",
     "shell.execute_reply": "2024-03-28T17:44:11.705879Z"
    }
   },
   "outputs": [
    {
     "data": {
      "text/html": [
       "<div>\n",
       "<style scoped>\n",
       "    .dataframe tbody tr th:only-of-type {\n",
       "        vertical-align: middle;\n",
       "    }\n",
       "\n",
       "    .dataframe tbody tr th {\n",
       "        vertical-align: top;\n",
       "    }\n",
       "\n",
       "    .dataframe thead th {\n",
       "        text-align: right;\n",
       "    }\n",
       "</style>\n",
       "<table border=\"1\" class=\"dataframe\">\n",
       "  <thead>\n",
       "    <tr style=\"text-align: right;\">\n",
       "      <th></th>\n",
       "      <th>NUMERO_PRODUTOS_CADASTRADOS</th>\n",
       "      <th>AREA</th>\n",
       "      <th>DENSIDADE</th>\n",
       "    </tr>\n",
       "    <tr>\n",
       "      <th>NOME_SETOR</th>\n",
       "      <th></th>\n",
       "      <th></th>\n",
       "      <th></th>\n",
       "    </tr>\n",
       "  </thead>\n",
       "  <tbody>\n",
       "    <tr>\n",
       "      <th>Alimentação</th>\n",
       "      <td>7.330000</td>\n",
       "      <td>33.593433</td>\n",
       "      <td>0.218202</td>\n",
       "    </tr>\n",
       "    <tr>\n",
       "      <th>Arranjos e Complementos</th>\n",
       "      <td>7.288462</td>\n",
       "      <td>11.833252</td>\n",
       "      <td>0.615931</td>\n",
       "    </tr>\n",
       "    <tr>\n",
       "      <th>Artes e Pintura</th>\n",
       "      <td>2.066667</td>\n",
       "      <td>23.790191</td>\n",
       "      <td>0.086871</td>\n",
       "    </tr>\n",
       "    <tr>\n",
       "      <th>Bijouterias</th>\n",
       "      <td>5.721311</td>\n",
       "      <td>11.833035</td>\n",
       "      <td>0.483494</td>\n",
       "    </tr>\n",
       "    <tr>\n",
       "      <th>Calçados</th>\n",
       "      <td>4.867925</td>\n",
       "      <td>11.833003</td>\n",
       "      <td>0.411383</td>\n",
       "    </tr>\n",
       "    <tr>\n",
       "      <th>...</th>\n",
       "      <td>...</td>\n",
       "      <td>...</td>\n",
       "      <td>...</td>\n",
       "    </tr>\n",
       "    <tr>\n",
       "      <th>Decoração e Utilidades</th>\n",
       "      <td>6.130435</td>\n",
       "      <td>14.980834</td>\n",
       "      <td>0.433737</td>\n",
       "    </tr>\n",
       "    <tr>\n",
       "      <th>Esculturas</th>\n",
       "      <td>3.000000</td>\n",
       "      <td>23.790191</td>\n",
       "      <td>0.126102</td>\n",
       "    </tr>\n",
       "    <tr>\n",
       "      <th>Mobilário, Flores, Arranjos, Cestaria</th>\n",
       "      <td>5.880952</td>\n",
       "      <td>18.368767</td>\n",
       "      <td>0.333637</td>\n",
       "    </tr>\n",
       "    <tr>\n",
       "      <th>Vestuário</th>\n",
       "      <td>6.639269</td>\n",
       "      <td>11.833071</td>\n",
       "      <td>0.561089</td>\n",
       "    </tr>\n",
       "    <tr>\n",
       "      <th>Vestuário Infantil</th>\n",
       "      <td>6.512397</td>\n",
       "      <td>11.833673</td>\n",
       "      <td>0.550338</td>\n",
       "    </tr>\n",
       "  </tbody>\n",
       "</table>\n",
       "<p>13 rows × 3 columns</p>\n",
       "</div>"
      ],
      "text/plain": [
       "                                       NUMERO_PRODUTOS_CADASTRADOS       AREA  \\\n",
       "NOME_SETOR                                                                      \n",
       "Alimentação                                               7.330000  33.593433   \n",
       "Arranjos e Complementos                                   7.288462  11.833252   \n",
       "Artes e Pintura                                           2.066667  23.790191   \n",
       "Bijouterias                                               5.721311  11.833035   \n",
       "Calçados                                                  4.867925  11.833003   \n",
       "...                                                            ...        ...   \n",
       "Decoração e Utilidades                                    6.130435  14.980834   \n",
       "Esculturas                                                3.000000  23.790191   \n",
       "Mobilário, Flores, Arranjos, Cestaria                     5.880952  18.368767   \n",
       "Vestuário                                                 6.639269  11.833071   \n",
       "Vestuário Infantil                                        6.512397  11.833673   \n",
       "\n",
       "                                       DENSIDADE  \n",
       "NOME_SETOR                                        \n",
       "Alimentação                             0.218202  \n",
       "Arranjos e Complementos                 0.615931  \n",
       "Artes e Pintura                         0.086871  \n",
       "Bijouterias                             0.483494  \n",
       "Calçados                                0.411383  \n",
       "...                                          ...  \n",
       "Decoração e Utilidades                  0.433737  \n",
       "Esculturas                              0.126102  \n",
       "Mobilário, Flores, Arranjos, Cestaria   0.333637  \n",
       "Vestuário                               0.561089  \n",
       "Vestuário Infantil                      0.550338  \n",
       "\n",
       "[13 rows x 3 columns]"
      ]
     },
     "execution_count": 30,
     "metadata": {},
     "output_type": "execute_result"
    }
   ],
   "source": [
    "df.groupby('NOME_SETOR').mean()"
   ]
  },
  {
   "cell_type": "markdown",
   "metadata": {
    "slideshow": {
     "slide_type": "slide"
    }
   },
   "source": [
    "### Duas escolhas a serem feitas ao usar `.groupby`\n",
    "\n",
    "Como encontramos **o número de diferentes serviços solicitados em cada bairro**?\n",
    "\n",
    "**Duas opções**:\n",
    "1. Por qual coluna devemos agrupar?\n",
    "2. Que método de agregação devemos usar?\n",
    "- Alguns mais comuns são `.count()`, `.sum()`, `.mean()`, `.median()`, `.max()` e `.min()`."
   ]
  },
  {
   "cell_type": "code",
   "execution_count": 31,
   "metadata": {
    "execution": {
     "iopub.execute_input": "2024-03-28T17:44:11.709324Z",
     "iopub.status.busy": "2024-03-28T17:44:11.708976Z",
     "iopub.status.idle": "2024-03-28T17:44:11.713528Z",
     "shell.execute_reply": "2024-03-28T17:44:11.712787Z"
    },
    "scrolled": false
   },
   "outputs": [
    {
     "data": {
      "text/plain": [
       "Ellipsis"
      ]
     },
     "execution_count": 31,
     "metadata": {},
     "output_type": "execute_result"
    }
   ],
   "source": [
    "..."
   ]
  },
  {
   "cell_type": "markdown",
   "metadata": {
    "slideshow": {
     "slide_type": "slide"
    }
   },
   "source": [
    "### Observação #4\n",
    "\n",
    "- Para contar a quantidade de elementos por grupo use o `.size()`"
   ]
  },
  {
   "cell_type": "code",
   "execution_count": 32,
   "metadata": {
    "execution": {
     "iopub.execute_input": "2024-03-28T17:44:11.716771Z",
     "iopub.status.busy": "2024-03-28T17:44:11.716471Z",
     "iopub.status.idle": "2024-03-28T17:44:11.723160Z",
     "shell.execute_reply": "2024-03-28T17:44:11.722460Z"
    },
    "slideshow": {
     "slide_type": "-"
    }
   },
   "outputs": [
    {
     "data": {
      "text/plain": [
       "NOME_SETOR\n",
       "Alimentação                              100\n",
       "Arranjos e Complementos                   52\n",
       "Artes e Pintura                           30\n",
       "Bijouterias                              183\n",
       "Calçados                                 159\n",
       "                                        ... \n",
       "Decoração e Utilidades                    69\n",
       "Esculturas                                 2\n",
       "Mobilário, Flores, Arranjos, Cestaria     42\n",
       "Vestuário                                219\n",
       "Vestuário Infantil                       121\n",
       "Length: 13, dtype: int64"
      ]
     },
     "execution_count": 32,
     "metadata": {},
     "output_type": "execute_result"
    }
   ],
   "source": [
    "num_barracas = df.groupby('NOME_SETOR').size()\n",
    "num_barracas"
   ]
  },
  {
   "cell_type": "markdown",
   "metadata": {
    "slideshow": {
     "slide_type": "slide"
    }
   },
   "source": [
    "## Mais prática: conjunto de dados IMDb 🎞️\n",
    "\n",
    "- Os dados estão [aqui](https://raw.githubusercontent.com/flaviovdf/fcd/main/assets/06-GroupBy/data/imdb.csv)"
   ]
  },
  {
   "cell_type": "markdown",
   "metadata": {
    "slideshow": {
     "slide_type": "-"
    }
   },
   "source": [
    "![](https://raw.githubusercontent.com/flaviovdf/fcd/master/assets/06-GroupBy/images/imdb.png)"
   ]
  },
  {
   "cell_type": "code",
   "execution_count": 33,
   "metadata": {
    "execution": {
     "iopub.execute_input": "2024-03-28T17:44:11.726510Z",
     "iopub.status.busy": "2024-03-28T17:44:11.725968Z",
     "iopub.status.idle": "2024-03-28T17:44:11.737928Z",
     "shell.execute_reply": "2024-03-28T17:44:11.737234Z"
    },
    "slideshow": {
     "slide_type": "slide"
    }
   },
   "outputs": [
    {
     "data": {
      "text/html": [
       "<div>\n",
       "<style scoped>\n",
       "    .dataframe tbody tr th:only-of-type {\n",
       "        vertical-align: middle;\n",
       "    }\n",
       "\n",
       "    .dataframe tbody tr th {\n",
       "        vertical-align: top;\n",
       "    }\n",
       "\n",
       "    .dataframe thead th {\n",
       "        text-align: right;\n",
       "    }\n",
       "</style>\n",
       "<table border=\"1\" class=\"dataframe\">\n",
       "  <thead>\n",
       "    <tr style=\"text-align: right;\">\n",
       "      <th></th>\n",
       "      <th>Votes</th>\n",
       "      <th>Rating</th>\n",
       "      <th>Year</th>\n",
       "      <th>Decade</th>\n",
       "    </tr>\n",
       "    <tr>\n",
       "      <th>Title</th>\n",
       "      <th></th>\n",
       "      <th></th>\n",
       "      <th></th>\n",
       "      <th></th>\n",
       "    </tr>\n",
       "  </thead>\n",
       "  <tbody>\n",
       "    <tr>\n",
       "      <th>Akira</th>\n",
       "      <td>91652</td>\n",
       "      <td>8.0</td>\n",
       "      <td>1988</td>\n",
       "      <td>1980</td>\n",
       "    </tr>\n",
       "    <tr>\n",
       "      <th>Per un pugno di dollari</th>\n",
       "      <td>124671</td>\n",
       "      <td>8.0</td>\n",
       "      <td>1964</td>\n",
       "      <td>1960</td>\n",
       "    </tr>\n",
       "    <tr>\n",
       "      <th>Guardians of the Galaxy</th>\n",
       "      <td>527349</td>\n",
       "      <td>8.0</td>\n",
       "      <td>2014</td>\n",
       "      <td>2010</td>\n",
       "    </tr>\n",
       "    <tr>\n",
       "      <th>The Man Who Shot Liberty Valance</th>\n",
       "      <td>49135</td>\n",
       "      <td>8.0</td>\n",
       "      <td>1962</td>\n",
       "      <td>1960</td>\n",
       "    </tr>\n",
       "    <tr>\n",
       "      <th>Underground</th>\n",
       "      <td>39447</td>\n",
       "      <td>8.0</td>\n",
       "      <td>1995</td>\n",
       "      <td>1990</td>\n",
       "    </tr>\n",
       "    <tr>\n",
       "      <th>...</th>\n",
       "      <td>...</td>\n",
       "      <td>...</td>\n",
       "      <td>...</td>\n",
       "      <td>...</td>\n",
       "    </tr>\n",
       "    <tr>\n",
       "      <th>Schindler's List</th>\n",
       "      <td>761224</td>\n",
       "      <td>8.9</td>\n",
       "      <td>1993</td>\n",
       "      <td>1990</td>\n",
       "    </tr>\n",
       "    <tr>\n",
       "      <th>12 Angry Men</th>\n",
       "      <td>384187</td>\n",
       "      <td>8.9</td>\n",
       "      <td>1957</td>\n",
       "      <td>1950</td>\n",
       "    </tr>\n",
       "    <tr>\n",
       "      <th>The Godfather: Part II</th>\n",
       "      <td>692753</td>\n",
       "      <td>9.0</td>\n",
       "      <td>1974</td>\n",
       "      <td>1970</td>\n",
       "    </tr>\n",
       "    <tr>\n",
       "      <th>The Shawshank Redemption</th>\n",
       "      <td>1498733</td>\n",
       "      <td>9.2</td>\n",
       "      <td>1994</td>\n",
       "      <td>1990</td>\n",
       "    </tr>\n",
       "    <tr>\n",
       "      <th>The Godfather</th>\n",
       "      <td>1027398</td>\n",
       "      <td>9.2</td>\n",
       "      <td>1972</td>\n",
       "      <td>1970</td>\n",
       "    </tr>\n",
       "  </tbody>\n",
       "</table>\n",
       "<p>250 rows × 4 columns</p>\n",
       "</div>"
      ],
      "text/plain": [
       "                                    Votes  Rating  Year  Decade\n",
       "Title                                                          \n",
       "Akira                               91652     8.0  1988    1980\n",
       "Per un pugno di dollari            124671     8.0  1964    1960\n",
       "Guardians of the Galaxy            527349     8.0  2014    2010\n",
       "The Man Who Shot Liberty Valance    49135     8.0  1962    1960\n",
       "Underground                         39447     8.0  1995    1990\n",
       "...                                   ...     ...   ...     ...\n",
       "Schindler's List                   761224     8.9  1993    1990\n",
       "12 Angry Men                       384187     8.9  1957    1950\n",
       "The Godfather: Part II             692753     9.0  1974    1970\n",
       "The Shawshank Redemption          1498733     9.2  1994    1990\n",
       "The Godfather                     1027398     9.2  1972    1970\n",
       "\n",
       "[250 rows x 4 columns]"
      ]
     },
     "execution_count": 33,
     "metadata": {},
     "output_type": "execute_result"
    }
   ],
   "source": [
    "# No colab, use este caminho 'https://raw.githubusercontent.com/flaviovdf/fcd/main/assets/06-GroupBy/data/imdb.csv'\n",
    "imdb = bpd.read_csv('imdb.csv').set_index('Title').sort_values(by='Rating')\n",
    "imdb"
   ]
  },
  {
   "cell_type": "markdown",
   "metadata": {
    "slideshow": {
     "slide_type": "slide"
    }
   },
   "source": [
    "### Pergunta: Quantos filmes aparecem em cada década?"
   ]
  },
  {
   "cell_type": "code",
   "execution_count": 34,
   "metadata": {
    "execution": {
     "iopub.execute_input": "2024-03-28T17:44:11.741007Z",
     "iopub.status.busy": "2024-03-28T17:44:11.740621Z",
     "iopub.status.idle": "2024-03-28T17:44:11.749621Z",
     "shell.execute_reply": "2024-03-28T17:44:11.748926Z"
    }
   },
   "outputs": [
    {
     "data": {
      "text/html": [
       "<div>\n",
       "<style scoped>\n",
       "    .dataframe tbody tr th:only-of-type {\n",
       "        vertical-align: middle;\n",
       "    }\n",
       "\n",
       "    .dataframe tbody tr th {\n",
       "        vertical-align: top;\n",
       "    }\n",
       "\n",
       "    .dataframe thead th {\n",
       "        text-align: right;\n",
       "    }\n",
       "</style>\n",
       "<table border=\"1\" class=\"dataframe\">\n",
       "  <thead>\n",
       "    <tr style=\"text-align: right;\">\n",
       "      <th></th>\n",
       "      <th>Votes</th>\n",
       "      <th>Rating</th>\n",
       "      <th>Year</th>\n",
       "    </tr>\n",
       "    <tr>\n",
       "      <th>Decade</th>\n",
       "      <th></th>\n",
       "      <th></th>\n",
       "      <th></th>\n",
       "    </tr>\n",
       "  </thead>\n",
       "  <tbody>\n",
       "    <tr>\n",
       "      <th>1920</th>\n",
       "      <td>4</td>\n",
       "      <td>4</td>\n",
       "      <td>4</td>\n",
       "    </tr>\n",
       "    <tr>\n",
       "      <th>1930</th>\n",
       "      <td>7</td>\n",
       "      <td>7</td>\n",
       "      <td>7</td>\n",
       "    </tr>\n",
       "    <tr>\n",
       "      <th>1940</th>\n",
       "      <td>14</td>\n",
       "      <td>14</td>\n",
       "      <td>14</td>\n",
       "    </tr>\n",
       "    <tr>\n",
       "      <th>1950</th>\n",
       "      <td>30</td>\n",
       "      <td>30</td>\n",
       "      <td>30</td>\n",
       "    </tr>\n",
       "    <tr>\n",
       "      <th>1960</th>\n",
       "      <td>22</td>\n",
       "      <td>22</td>\n",
       "      <td>22</td>\n",
       "    </tr>\n",
       "    <tr>\n",
       "      <th>1970</th>\n",
       "      <td>21</td>\n",
       "      <td>21</td>\n",
       "      <td>21</td>\n",
       "    </tr>\n",
       "    <tr>\n",
       "      <th>1980</th>\n",
       "      <td>31</td>\n",
       "      <td>31</td>\n",
       "      <td>31</td>\n",
       "    </tr>\n",
       "    <tr>\n",
       "      <th>1990</th>\n",
       "      <td>42</td>\n",
       "      <td>42</td>\n",
       "      <td>42</td>\n",
       "    </tr>\n",
       "    <tr>\n",
       "      <th>2000</th>\n",
       "      <td>50</td>\n",
       "      <td>50</td>\n",
       "      <td>50</td>\n",
       "    </tr>\n",
       "    <tr>\n",
       "      <th>2010</th>\n",
       "      <td>29</td>\n",
       "      <td>29</td>\n",
       "      <td>29</td>\n",
       "    </tr>\n",
       "  </tbody>\n",
       "</table>\n",
       "</div>"
      ],
      "text/plain": [
       "        Votes  Rating  Year\n",
       "Decade                     \n",
       "1920        4       4     4\n",
       "1930        7       7     7\n",
       "1940       14      14    14\n",
       "1950       30      30    30\n",
       "1960       22      22    22\n",
       "1970       21      21    21\n",
       "1980       31      31    31\n",
       "1990       42      42    42\n",
       "2000       50      50    50\n",
       "2010       29      29    29"
      ]
     },
     "execution_count": 34,
     "metadata": {},
     "output_type": "execute_result"
    }
   ],
   "source": [
    "imdb.groupby('Decade').count()"
   ]
  },
  {
   "cell_type": "code",
   "execution_count": 35,
   "metadata": {
    "execution": {
     "iopub.execute_input": "2024-03-28T17:44:11.752053Z",
     "iopub.status.busy": "2024-03-28T17:44:11.751848Z",
     "iopub.status.idle": "2024-03-28T17:44:12.011224Z",
     "shell.execute_reply": "2024-03-28T17:44:12.010513Z"
    },
    "scrolled": true
   },
   "outputs": [
    {
     "data": {
      "image/png": "[encoded data removed]",
      "text/plain": [
       "<Figure size 640x480 with 1 Axes>"
      ]
     },
     "metadata": {},
     "output_type": "display_data"
    }
   ],
   "source": [
    "# We'll learn how to make plots like this in the next lecture!\n",
    "imdb.groupby('Decade').count().plot(y='Year');"
   ]
  },
  {
   "cell_type": "markdown",
   "metadata": {
    "slideshow": {
     "slide_type": "slide"
    }
   },
   "source": [
    "### Pergunta: Qual foi o filme de maior audiência da década de 1990?\n",
    "\n",
    "Vamos tentar fazer isso de duas maneiras diferentes."
   ]
  },
  {
   "cell_type": "markdown",
   "metadata": {
    "slideshow": {
     "slide_type": "slide"
    }
   },
   "source": [
    "#### Sem agrupamento"
   ]
  },
  {
   "cell_type": "code",
   "execution_count": 36,
   "metadata": {
    "execution": {
     "iopub.execute_input": "2024-03-28T17:44:12.014134Z",
     "iopub.status.busy": "2024-03-28T17:44:12.013590Z",
     "iopub.status.idle": "2024-03-28T17:44:12.081092Z",
     "shell.execute_reply": "2024-03-28T17:44:12.080024Z"
    }
   },
   "outputs": [
    {
     "data": {
      "text/html": [
       "\n",
       "<div class=\"pt-viz\" id=\"pt-viz-2\"></div>\n",
       "<script>\n",
       "drawWsv('#pt-viz-2', \"{\\n  \\\"code\\\": \\\"imdb[imdb.get('Decade') == 1990].sort_values('Rating', ascending=False).index[0]\\\\n\\\",\\n  \\\"explanation\\\": [\\n    {\\n      \\\"type\\\": \\\"Subscript\\\",\\n      \\\"code_step\\\": \\\"imdb[imdb.get('Decade') == 1990].sort_values('Rating', ascending=False).index[0]\\\",\\n      \\\"fragment\\\": {\\n        \\\"start\\\": {\\n          \\\"line\\\": 0,\\n          \\\"ch\\\": 4\\n        },\\n        \\\"end\\\": {\\n          \\\"line\\\": 0,\\n          \\\"ch\\\": 32\\n        }\\n      },\\n      \\\"marks\\\": [\\n        {\\n          \\\"type\\\": \\\"using\\\",\\n          \\\"pos\\\": {\\n            \\\"type\\\": \\\"axis\\\",\\n            \\\"anchor\\\": \\\"lhs\\\",\\n            \\\"select\\\": \\\"column\\\",\\n            \\\"label\\\": \\\"Decade\\\"\\n          }\\n        },\\n        {\\n          \\\"type\\\": \\\"map\\\",\\n          \\\"from\\\": {\\n            \\\"type\\\": \\\"axis\\\",\\n            \\\"anchor\\\": \\\"lhs\\\",\\n            \\\"select\\\": \\\"row\\\",\\n            \\\"label\\\": \\\"Underground\\\"\\n          },\\n          \\\"to\\\": {\\n            \\\"type\\\": \\\"axis\\\",\\n            \\\"anchor\\\": \\\"rhs\\\",\\n            \\\"select\\\": \\\"row\\\",\\n            \\\"label\\\": \\\"Underground\\\"\\n          }\\n        },\\n        {\\n          \\\"type\\\": \\\"map\\\",\\n          \\\"from\\\": {\\n            \\\"type\\\": \\\"axis\\\",\\n            \\\"anchor\\\": \\\"lhs\\\",\\n            \\\"select\\\": \\\"row\\\",\\n            \\\"label\\\": \\\"Beauty and the Beast\\\"\\n          },\\n          \\\"to\\\": {\\n            \\\"type\\\": \\\"axis\\\",\\n            \\\"anchor\\\": \\\"rhs\\\",\\n            \\\"select\\\": \\\"row\\\",\\n            \\\"label\\\": \\\"Beauty and the Beast\\\"\\n          }\\n        },\\n        {\\n          \\\"type\\\": \\\"map\\\",\\n          \\\"from\\\": {\\n            \\\"type\\\": \\\"axis\\\",\\n            \\\"anchor\\\": \\\"lhs\\\",\\n            \\\"select\\\": \\\"row\\\",\\n            \\\"label\\\": \\\"The Truman Show\\\"\\n          },\\n          \\\"to\\\": {\\n            \\\"type\\\": \\\"axis\\\",\\n            \\\"anchor\\\": \\\"rhs\\\",\\n            \\\"select\\\": \\\"row\\\",\\n            \\\"label\\\": \\\"The Truman Show\\\"\\n          }\\n        },\\n        {\\n          \\\"type\\\": \\\"map\\\",\\n          \\\"from\\\": {\\n            \\\"type\\\": \\\"axis\\\",\\n            \\\"anchor\\\": \\\"lhs\\\",\\n            \\\"select\\\": \\\"row\\\",\\n            \\\"label\\\": \\\"Jurassic Park\\\"\\n          },\\n          \\\"to\\\": {\\n            \\\"type\\\": \\\"axis\\\",\\n            \\\"anchor\\\": \\\"rhs\\\",\\n            \\\"select\\\": \\\"row\\\",\\n            \\\"label\\\": \\\"Jurassic Park\\\"\\n          }\\n        },\\n        {\\n          \\\"type\\\": \\\"map\\\",\\n          \\\"from\\\": {\\n            \\\"type\\\": \\\"axis\\\",\\n            \\\"anchor\\\": \\\"lhs\\\",\\n            \\\"select\\\": \\\"row\\\",\\n            \\\"label\\\": \\\"Trois couleurs: Rouge\\\"\\n          },\\n          \\\"to\\\": {\\n            \\\"type\\\": \\\"axis\\\",\\n            \\\"anchor\\\": \\\"rhs\\\",\\n            \\\"select\\\": \\\"row\\\",\\n            \\\"label\\\": \\\"Trois couleurs: Rouge\\\"\\n          }\\n        },\\n        {\\n          \\\"type\\\": \\\"map\\\",\\n          \\\"from\\\": {\\n            \\\"type\\\": \\\"axis\\\",\\n            \\\"anchor\\\": \\\"lhs\\\",\\n            \\\"select\\\": \\\"row\\\",\\n            \\\"label\\\": \\\"Twelve Monkeys\\\"\\n          },\\n          \\\"to\\\": {\\n            \\\"type\\\": \\\"axis\\\",\\n            \\\"anchor\\\": \\\"rhs\\\",\\n            \\\"select\\\": \\\"row\\\",\\n            \\\"label\\\": \\\"Twelve Monkeys\\\"\\n          }\\n        },\\n        {\\n          \\\"type\\\": \\\"map\\\",\\n          \\\"from\\\": {\\n            \\\"type\\\": \\\"axis\\\",\\n            \\\"anchor\\\": \\\"lhs\\\",\\n            \\\"select\\\": \\\"row\\\",\\n            \\\"label\\\": \\\"Groundhog Day\\\"\\n          },\\n          \\\"to\\\": {\\n            \\\"type\\\": \\\"axis\\\",\\n            \\\"anchor\\\": \\\"rhs\\\",\\n            \\\"select\\\": \\\"row\\\",\\n            \\\"label\\\": \\\"Groundhog Day\\\"\\n          }\\n        },\\n        {\\n          \\\"type\\\": \\\"map\\\",\\n          \\\"from\\\": {\\n            \\\"type\\\": \\\"axis\\\",\\n            \\\"anchor\\\": \\\"lhs\\\",\\n            \\\"select\\\": \\\"row\\\",\\n            \\\"label\\\": \\\"La haine\\\"\\n          },\\n          \\\"to\\\": {\\n            \\\"type\\\": \\\"axis\\\",\\n            \\\"anchor\\\": \\\"rhs\\\",\\n            \\\"select\\\": \\\"row\\\",\\n            \\\"label\\\": \\\"La haine\\\"\\n          }\\n        },\\n        {\\n          \\\"type\\\": \\\"map\\\",\\n          \\\"from\\\": {\\n            \\\"type\\\": \\\"axis\\\",\\n            \\\"anchor\\\": \\\"lhs\\\",\\n            \\\"select\\\": \\\"row\\\",\\n            \\\"label\\\": \\\"Before Sunrise\\\"\\n          },\\n          \\\"to\\\": {\\n            \\\"type\\\": \\\"axis\\\",\\n            \\\"anchor\\\": \\\"rhs\\\",\\n            \\\"select\\\": \\\"row\\\",\\n            \\\"label\\\": \\\"Before Sunrise\\\"\\n          }\\n        },\\n        {\\n          \\\"type\\\": \\\"map\\\",\\n          \\\"from\\\": {\\n            \\\"type\\\": \\\"axis\\\",\\n            \\\"anchor\\\": \\\"lhs\\\",\\n            \\\"select\\\": \\\"row\\\",\\n            \\\"label\\\": \\\"In the Name of the Father\\\"\\n          },\\n          \\\"to\\\": {\\n            \\\"type\\\": \\\"axis\\\",\\n            \\\"anchor\\\": \\\"rhs\\\",\\n            \\\"select\\\": \\\"row\\\",\\n            \\\"label\\\": \\\"In the Name of the Father\\\"\\n          }\\n        },\\n        {\\n          \\\"type\\\": \\\"map\\\",\\n          \\\"from\\\": {\\n            \\\"type\\\": \\\"axis\\\",\\n            \\\"anchor\\\": \\\"lhs\\\",\\n            \\\"select\\\": \\\"row\\\",\\n            \\\"label\\\": \\\"The Sixth Sense\\\"\\n          },\\n          \\\"to\\\": {\\n            \\\"type\\\": \\\"axis\\\",\\n            \\\"anchor\\\": \\\"rhs\\\",\\n            \\\"select\\\": \\\"row\\\",\\n            \\\"label\\\": \\\"The Sixth Sense\\\"\\n          }\\n        },\\n        {\\n          \\\"type\\\": \\\"map\\\",\\n          \\\"from\\\": {\\n            \\\"type\\\": \\\"axis\\\",\\n            \\\"anchor\\\": \\\"lhs\\\",\\n            \\\"select\\\": \\\"row\\\",\\n            \\\"label\\\": \\\"Fargo\\\"\\n          },\\n          \\\"to\\\": {\\n            \\\"type\\\": \\\"axis\\\",\\n            \\\"anchor\\\": \\\"rhs\\\",\\n            \\\"select\\\": \\\"row\\\",\\n            \\\"label\\\": \\\"Fargo\\\"\\n          }\\n        },\\n        {\\n          \\\"type\\\": \\\"map\\\",\\n          \\\"from\\\": {\\n            \\\"type\\\": \\\"axis\\\",\\n            \\\"anchor\\\": \\\"lhs\\\",\\n            \\\"select\\\": \\\"row\\\",\\n            \\\"label\\\": \\\"Trainspotting\\\"\\n          },\\n          \\\"to\\\": {\\n            \\\"type\\\": \\\"axis\\\",\\n            \\\"anchor\\\": \\\"rhs\\\",\\n            \\\"select\\\": \\\"row\\\",\\n            \\\"label\\\": \\\"Trainspotting\\\"\\n          }\\n        },\\n        {\\n          \\\"type\\\": \\\"map\\\",\\n          \\\"from\\\": {\\n            \\\"type\\\": \\\"axis\\\",\\n            \\\"anchor\\\": \\\"lhs\\\",\\n            \\\"select\\\": \\\"row\\\",\\n            \\\"label\\\": \\\"Good Will Hunting\\\"\\n          },\\n          \\\"to\\\": {\\n            \\\"type\\\": \\\"axis\\\",\\n            \\\"anchor\\\": \\\"rhs\\\",\\n            \\\"select\\\": \\\"row\\\",\\n            \\\"label\\\": \\\"Good Will Hunting\\\"\\n          }\\n        },\\n        {\\n          \\\"type\\\": \\\"map\\\",\\n          \\\"from\\\": {\\n            \\\"type\\\": \\\"axis\\\",\\n            \\\"anchor\\\": \\\"lhs\\\",\\n            \\\"select\\\": \\\"row\\\",\\n            \\\"label\\\": \\\"Casino\\\"\\n          },\\n          \\\"to\\\": {\\n            \\\"type\\\": \\\"axis\\\",\\n            \\\"anchor\\\": \\\"rhs\\\",\\n            \\\"select\\\": \\\"row\\\",\\n            \\\"label\\\": \\\"Casino\\\"\\n          }\\n        },\\n        {\\n          \\\"type\\\": \\\"map\\\",\\n          \\\"from\\\": {\\n            \\\"type\\\": \\\"axis\\\",\\n            \\\"anchor\\\": \\\"lhs\\\",\\n            \\\"select\\\": \\\"row\\\",\\n            \\\"label\\\": \\\"Lock, Stock and Two Smoking Barrels (1998)\\\"\\n          },\\n          \\\"to\\\": {\\n            \\\"type\\\": \\\"axis\\\",\\n            \\\"anchor\\\": \\\"rhs\\\",\\n            \\\"select\\\": \\\"row\\\",\\n            \\\"label\\\": \\\"Lock, Stock and Two Smoking Barrels (1998)\\\"\\n          }\\n        },\\n        {\\n          \\\"type\\\": \\\"map\\\",\\n          \\\"from\\\": {\\n            \\\"type\\\": \\\"axis\\\",\\n            \\\"anchor\\\": \\\"lhs\\\",\\n            \\\"select\\\": \\\"row\\\",\\n            \\\"label\\\": \\\"The Big Lebowski\\\"\\n          },\\n          \\\"to\\\": {\\n            \\\"type\\\": \\\"axis\\\",\\n            \\\"anchor\\\": \\\"rhs\\\",\\n            \\\"select\\\": \\\"row\\\",\\n            \\\"label\\\": \\\"The Big Lebowski\\\"\\n          }\\n        },\\n        {\\n          \\\"type\\\": \\\"map\\\",\\n          \\\"from\\\": {\\n            \\\"type\\\": \\\"axis\\\",\\n            \\\"anchor\\\": \\\"lhs\\\",\\n            \\\"select\\\": \\\"row\\\",\\n            \\\"label\\\": \\\"Heat\\\"\\n          },\\n          \\\"to\\\": {\\n            \\\"type\\\": \\\"axis\\\",\\n            \\\"anchor\\\": \\\"rhs\\\",\\n            \\\"select\\\": \\\"row\\\",\\n            \\\"label\\\": \\\"Heat\\\"\\n          }\\n        },\\n        {\\n          \\\"type\\\": \\\"map\\\",\\n          \\\"from\\\": {\\n            \\\"type\\\": \\\"axis\\\",\\n            \\\"anchor\\\": \\\"lhs\\\",\\n            \\\"select\\\": \\\"row\\\",\\n            \\\"label\\\": \\\"Braveheart\\\"\\n          },\\n          \\\"to\\\": {\\n            \\\"type\\\": \\\"axis\\\",\\n            \\\"anchor\\\": \\\"rhs\\\",\\n            \\\"select\\\": \\\"row\\\",\\n            \\\"label\\\": \\\"Braveheart\\\"\\n          }\\n        },\\n        {\\n          \\\"type\\\": \\\"map\\\",\\n          \\\"from\\\": {\\n            \\\"type\\\": \\\"axis\\\",\\n            \\\"anchor\\\": \\\"lhs\\\",\\n            \\\"select\\\": \\\"row\\\",\\n            \\\"label\\\": \\\"L.A. Confidential\\\"\\n          },\\n          \\\"to\\\": {\\n            \\\"type\\\": \\\"axis\\\",\\n            \\\"anchor\\\": \\\"rhs\\\",\\n            \\\"select\\\": \\\"row\\\",\\n            \\\"label\\\": \\\"L.A. Confidential\\\"\\n          }\\n        },\\n        {\\n          \\\"type\\\": \\\"map\\\",\\n          \\\"from\\\": {\\n            \\\"type\\\": \\\"axis\\\",\\n            \\\"anchor\\\": \\\"lhs\\\",\\n            \\\"select\\\": \\\"row\\\",\\n            \\\"label\\\": \\\"Toy Story\\\"\\n          },\\n          \\\"to\\\": {\\n            \\\"type\\\": \\\"axis\\\",\\n            \\\"anchor\\\": \\\"rhs\\\",\\n            \\\"select\\\": \\\"row\\\",\\n            \\\"label\\\": \\\"Toy Story\\\"\\n          }\\n        },\\n        {\\n          \\\"type\\\": \\\"map\\\",\\n          \\\"from\\\": {\\n            \\\"type\\\": \\\"axis\\\",\\n            \\\"anchor\\\": \\\"lhs\\\",\\n            \\\"select\\\": \\\"row\\\",\\n            \\\"label\\\": \\\"Reservoir Dogs\\\"\\n          },\\n          \\\"to\\\": {\\n            \\\"type\\\": \\\"axis\\\",\\n            \\\"anchor\\\": \\\"rhs\\\",\\n            \\\"select\\\": \\\"row\\\",\\n            \\\"label\\\": \\\"Reservoir Dogs\\\"\\n          }\\n        },\\n        {\\n          \\\"type\\\": \\\"map\\\",\\n          \\\"from\\\": {\\n            \\\"type\\\": \\\"axis\\\",\\n            \\\"anchor\\\": \\\"lhs\\\",\\n            \\\"select\\\": \\\"row\\\",\\n            \\\"label\\\": \\\"Unforgiven\\\"\\n          },\\n          \\\"to\\\": {\\n            \\\"type\\\": \\\"axis\\\",\\n            \\\"anchor\\\": \\\"rhs\\\",\\n            \\\"select\\\": \\\"row\\\",\\n            \\\"label\\\": \\\"Unforgiven\\\"\\n          }\\n        },\\n        {\\n          \\\"type\\\": \\\"map\\\",\\n          \\\"from\\\": {\\n            \\\"type\\\": \\\"axis\\\",\\n            \\\"anchor\\\": \\\"lhs\\\",\\n            \\\"select\\\": \\\"row\\\",\\n            \\\"label\\\": \\\"The Lion King\\\"\\n          },\\n          \\\"to\\\": {\\n            \\\"type\\\": \\\"axis\\\",\\n            \\\"anchor\\\": \\\"rhs\\\",\\n            \\\"select\\\": \\\"row\\\",\\n            \\\"label\\\": \\\"The Lion King\\\"\\n          }\\n        },\\n        {\\n          \\\"type\\\": \\\"map\\\",\\n          \\\"from\\\": {\\n            \\\"type\\\": \\\"axis\\\",\\n            \\\"anchor\\\": \\\"lhs\\\",\\n            \\\"select\\\": \\\"row\\\",\\n            \\\"label\\\": \\\"Mononoke-hime\\\"\\n          },\\n          \\\"to\\\": {\\n            \\\"type\\\": \\\"axis\\\",\\n            \\\"anchor\\\": \\\"rhs\\\",\\n            \\\"select\\\": \\\"row\\\",\\n            \\\"label\\\": \\\"Mononoke-hime\\\"\\n          }\\n        },\\n        {\\n          \\\"type\\\": \\\"map\\\",\\n          \\\"from\\\": {\\n            \\\"type\\\": \\\"axis\\\",\\n            \\\"anchor\\\": \\\"lhs\\\",\\n            \\\"select\\\": \\\"row\\\",\\n            \\\"label\\\": \\\"American Beauty\\\"\\n          },\\n          \\\"to\\\": {\\n            \\\"type\\\": \\\"axis\\\",\\n            \\\"anchor\\\": \\\"rhs\\\",\\n            \\\"select\\\": \\\"row\\\",\\n            \\\"label\\\": \\\"American Beauty\\\"\\n          }\\n        },\\n        {\\n          \\\"type\\\": \\\"map\\\",\\n          \\\"from\\\": {\\n            \\\"type\\\": \\\"axis\\\",\\n            \\\"anchor\\\": \\\"lhs\\\",\\n            \\\"select\\\": \\\"row\\\",\\n            \\\"label\\\": \\\"American History X\\\"\\n          },\\n          \\\"to\\\": {\\n            \\\"type\\\": \\\"axis\\\",\\n            \\\"anchor\\\": \\\"rhs\\\",\\n            \\\"select\\\": \\\"row\\\",\\n            \\\"label\\\": \\\"American History X\\\"\\n          }\\n        },\\n        {\\n          \\\"type\\\": \\\"map\\\",\\n          \\\"from\\\": {\\n            \\\"type\\\": \\\"axis\\\",\\n            \\\"anchor\\\": \\\"lhs\\\",\\n            \\\"select\\\": \\\"row\\\",\\n            \\\"label\\\": \\\"Terminator 2: Judgment Day\\\"\\n          },\\n          \\\"to\\\": {\\n            \\\"type\\\": \\\"axis\\\",\\n            \\\"anchor\\\": \\\"rhs\\\",\\n            \\\"select\\\": \\\"row\\\",\\n            \\\"label\\\": \\\"Terminator 2: Judgment Day\\\"\\n          }\\n        },\\n        {\\n          \\\"type\\\": \\\"map\\\",\\n          \\\"from\\\": {\\n            \\\"type\\\": \\\"axis\\\",\\n            \\\"anchor\\\": \\\"lhs\\\",\\n            \\\"select\\\": \\\"row\\\",\\n            \\\"label\\\": \\\"Saving Private Ryan\\\"\\n          },\\n          \\\"to\\\": {\\n            \\\"type\\\": \\\"axis\\\",\\n            \\\"anchor\\\": \\\"rhs\\\",\\n            \\\"select\\\": \\\"row\\\",\\n            \\\"label\\\": \\\"Saving Private Ryan\\\"\\n          }\\n        },\\n        {\\n          \\\"type\\\": \\\"map\\\",\\n          \\\"from\\\": {\\n            \\\"type\\\": \\\"axis\\\",\\n            \\\"anchor\\\": \\\"lhs\\\",\\n            \\\"select\\\": \\\"row\\\",\\n            \\\"label\\\": \\\"The Green Mile\\\"\\n          },\\n          \\\"to\\\": {\\n            \\\"type\\\": \\\"axis\\\",\\n            \\\"anchor\\\": \\\"rhs\\\",\\n            \\\"select\\\": \\\"row\\\",\\n            \\\"label\\\": \\\"The Green Mile\\\"\\n          }\\n        },\\n        {\\n          \\\"type\\\": \\\"map\\\",\\n          \\\"from\\\": {\\n            \\\"type\\\": \\\"axis\\\",\\n            \\\"anchor\\\": \\\"lhs\\\",\\n            \\\"select\\\": \\\"row\\\",\\n            \\\"label\\\": \\\"Se7en\\\"\\n          },\\n          \\\"to\\\": {\\n            \\\"type\\\": \\\"axis\\\",\\n            \\\"anchor\\\": \\\"rhs\\\",\\n            \\\"select\\\": \\\"row\\\",\\n            \\\"label\\\": \\\"Se7en\\\"\\n          }\\n        },\\n        {\\n          \\\"type\\\": \\\"map\\\",\\n          \\\"from\\\": {\\n            \\\"type\\\": \\\"axis\\\",\\n            \\\"anchor\\\": \\\"lhs\\\",\\n            \\\"select\\\": \\\"row\\\",\\n            \\\"label\\\": \\\"La vita \\\\u00e8 bella\\\"\\n          },\\n          \\\"to\\\": {\\n            \\\"type\\\": \\\"axis\\\",\\n            \\\"anchor\\\": \\\"rhs\\\",\\n            \\\"select\\\": \\\"row\\\",\\n            \\\"label\\\": \\\"La vita \\\\u00e8 bella\\\"\\n          }\\n        },\\n        {\\n          \\\"type\\\": \\\"map\\\",\\n          \\\"from\\\": {\\n            \\\"type\\\": \\\"axis\\\",\\n            \\\"anchor\\\": \\\"lhs\\\",\\n            \\\"select\\\": \\\"row\\\",\\n            \\\"label\\\": \\\"L\\\\u00e9on\\\"\\n          },\\n          \\\"to\\\": {\\n            \\\"type\\\": \\\"axis\\\",\\n            \\\"anchor\\\": \\\"rhs\\\",\\n            \\\"select\\\": \\\"row\\\",\\n            \\\"label\\\": \\\"L\\\\u00e9on\\\"\\n          }\\n        },\\n        {\\n          \\\"type\\\": \\\"map\\\",\\n          \\\"from\\\": {\\n            \\\"type\\\": \\\"axis\\\",\\n            \\\"anchor\\\": \\\"lhs\\\",\\n            \\\"select\\\": \\\"row\\\",\\n            \\\"label\\\": \\\"The Usual Suspects\\\"\\n          },\\n          \\\"to\\\": {\\n            \\\"type\\\": \\\"axis\\\",\\n            \\\"anchor\\\": \\\"rhs\\\",\\n            \\\"select\\\": \\\"row\\\",\\n            \\\"label\\\": \\\"The Usual Suspects\\\"\\n          }\\n        },\\n        {\\n          \\\"type\\\": \\\"map\\\",\\n          \\\"from\\\": {\\n            \\\"type\\\": \\\"axis\\\",\\n            \\\"anchor\\\": \\\"lhs\\\",\\n            \\\"select\\\": \\\"row\\\",\\n            \\\"label\\\": \\\"The Silence of the Lambs\\\"\\n          },\\n          \\\"to\\\": {\\n            \\\"type\\\": \\\"axis\\\",\\n            \\\"anchor\\\": \\\"rhs\\\",\\n            \\\"select\\\": \\\"row\\\",\\n            \\\"label\\\": \\\"The Silence of the Lambs\\\"\\n          }\\n        },\\n        {\\n          \\\"type\\\": \\\"map\\\",\\n          \\\"from\\\": {\\n            \\\"type\\\": \\\"axis\\\",\\n            \\\"anchor\\\": \\\"lhs\\\",\\n            \\\"select\\\": \\\"row\\\",\\n            \\\"label\\\": \\\"Forrest Gump\\\"\\n          },\\n          \\\"to\\\": {\\n            \\\"type\\\": \\\"axis\\\",\\n            \\\"anchor\\\": \\\"rhs\\\",\\n            \\\"select\\\": \\\"row\\\",\\n            \\\"label\\\": \\\"Forrest Gump\\\"\\n          }\\n        },\\n        {\\n          \\\"type\\\": \\\"map\\\",\\n          \\\"from\\\": {\\n            \\\"type\\\": \\\"axis\\\",\\n            \\\"anchor\\\": \\\"lhs\\\",\\n            \\\"select\\\": \\\"row\\\",\\n            \\\"label\\\": \\\"The Matrix\\\"\\n          },\\n          \\\"to\\\": {\\n            \\\"type\\\": \\\"axis\\\",\\n            \\\"anchor\\\": \\\"rhs\\\",\\n            \\\"select\\\": \\\"row\\\",\\n            \\\"label\\\": \\\"The Matrix\\\"\\n          }\\n        },\\n        {\\n          \\\"type\\\": \\\"map\\\",\\n          \\\"from\\\": {\\n            \\\"type\\\": \\\"axis\\\",\\n            \\\"anchor\\\": \\\"lhs\\\",\\n            \\\"select\\\": \\\"row\\\",\\n            \\\"label\\\": \\\"Goodfellas\\\"\\n          },\\n          \\\"to\\\": {\\n            \\\"type\\\": \\\"axis\\\",\\n            \\\"anchor\\\": \\\"rhs\\\",\\n            \\\"select\\\": \\\"row\\\",\\n            \\\"label\\\": \\\"Goodfellas\\\"\\n          }\\n        },\\n        {\\n          \\\"type\\\": \\\"map\\\",\\n          \\\"from\\\": {\\n            \\\"type\\\": \\\"axis\\\",\\n            \\\"anchor\\\": \\\"lhs\\\",\\n            \\\"select\\\": \\\"row\\\",\\n            \\\"label\\\": \\\"Fight Club\\\"\\n          },\\n          \\\"to\\\": {\\n            \\\"type\\\": \\\"axis\\\",\\n            \\\"anchor\\\": \\\"rhs\\\",\\n            \\\"select\\\": \\\"row\\\",\\n            \\\"label\\\": \\\"Fight Club\\\"\\n          }\\n        },\\n        {\\n          \\\"type\\\": \\\"map\\\",\\n          \\\"from\\\": {\\n            \\\"type\\\": \\\"axis\\\",\\n            \\\"anchor\\\": \\\"lhs\\\",\\n            \\\"select\\\": \\\"row\\\",\\n            \\\"label\\\": \\\"Pulp Fiction\\\"\\n          },\\n          \\\"to\\\": {\\n            \\\"type\\\": \\\"axis\\\",\\n            \\\"anchor\\\": \\\"rhs\\\",\\n            \\\"select\\\": \\\"row\\\",\\n            \\\"label\\\": \\\"Pulp Fiction\\\"\\n          }\\n        },\\n        {\\n          \\\"type\\\": \\\"map\\\",\\n          \\\"from\\\": {\\n            \\\"type\\\": \\\"axis\\\",\\n            \\\"anchor\\\": \\\"lhs\\\",\\n            \\\"select\\\": \\\"row\\\",\\n            \\\"label\\\": \\\"Schindler's List\\\"\\n          },\\n          \\\"to\\\": {\\n            \\\"type\\\": \\\"axis\\\",\\n            \\\"anchor\\\": \\\"rhs\\\",\\n            \\\"select\\\": \\\"row\\\",\\n            \\\"label\\\": \\\"Schindler's List\\\"\\n          }\\n        },\\n        {\\n          \\\"type\\\": \\\"map\\\",\\n          \\\"from\\\": {\\n            \\\"type\\\": \\\"axis\\\",\\n            \\\"anchor\\\": \\\"lhs\\\",\\n            \\\"select\\\": \\\"row\\\",\\n            \\\"label\\\": \\\"The Shawshank Redemption\\\"\\n          },\\n          \\\"to\\\": {\\n            \\\"type\\\": \\\"axis\\\",\\n            \\\"anchor\\\": \\\"rhs\\\",\\n            \\\"select\\\": \\\"row\\\",\\n            \\\"label\\\": \\\"The Shawshank Redemption\\\"\\n          }\\n        }\\n      ],\\n      \\\"data\\\": {\\n        \\\"lhs\\\": {\\n          \\\"type\\\": \\\"DataFrame\\\",\\n          \\\"columns\\\": {\\n            \\\"names\\\": [\\n              null\\n            ],\\n            \\\"labels\\\": [\\n              \\\"Votes\\\",\\n              \\\"Rating\\\",\\n              \\\"Year\\\",\\n              \\\"Decade\\\"\\n            ]\\n          },\\n          \\\"index\\\": {\\n            \\\"names\\\": [\\n              \\\"Title\\\"\\n            ],\\n            \\\"labels\\\": [\\n              \\\"Akira\\\",\\n              \\\"Per un pugno di dollari\\\",\\n              \\\"Guardians of the Galaxy\\\",\\n              \\\"The Man Who Shot Liberty Valance\\\",\\n              \\\"Underground\\\",\\n              \\\"Le samoura\\\\u00ef\\\",\\n              \\\"Beauty and the Beast\\\",\\n              \\\"La strada\\\",\\n              \\\"The Avengers\\\",\\n              \\\"The King's Speech\\\",\\n              \\\"Barry Lyndon\\\",\\n              \\\"Dog Day Afternoon\\\",\\n              \\\"The Imitation Game\\\",\\n              \\\"The Truman Show\\\",\\n              \\\"Roman Holiday\\\",\\n              \\\"The Hustler\\\",\\n              \\\"X-Men: Days of Future Past\\\",\\n              \\\"High Noon\\\",\\n              \\\"Before Sunset\\\",\\n              \\\"Monsters, Inc. (2001)\\\",\\n              \\\"Harry Potter and the Deathly Hallows: Part 2\\\",\\n              \\\"Lagaan: Once Upon a Time in India\\\",\\n              \\\"Jurassic Park\\\",\\n              \\\"Trois couleurs: Rouge\\\",\\n              \\\"Fanny och Alexander\\\",\\n              \\\"The Help\\\",\\n              \\\"Who's Afraid of Virginia Woolf?\\\",\\n              \\\"The Terminator\\\",\\n              \\\"Twelve Monkeys\\\",\\n              \\\"Kumonosu-j\\\\u00f4\\\",\\n              \\\"Groundhog Day\\\",\\n              \\\"Yip Man\\\",\\n              \\\"Notorious\\\",\\n              \\\"Pirates of the Caribbean: The Curse of the Black Pearl\\\",\\n              \\\"La haine\\\",\\n              \\\"Mou gaan dou\\\",\\n              \\\"Salinui chueok\\\",\\n              \\\"The Big Sleep\\\",\\n              \\\"Paris, Texas (1984)\\\",\\n              \\\"Rocky\\\",\\n              \\\"Prisoners\\\",\\n              \\\"The Killing\\\",\\n              \\\"The Night of the Hunter\\\",\\n              \\\"La battaglia di Algeri\\\",\\n              \\\"Bom yeoreum gaeul gyeoul geurigo bom\\\",\\n              \\\"Papillon\\\",\\n              \\\"Before Sunrise\\\",\\n              \\\"Tenk\\\\u00fb no shiro Rapyuta\\\",\\n              \\\"Jaws\\\",\\n              \\\"Relatos salvajes\\\",\\n              \\\"Incendies\\\",\\n              \\\"Hachi: A Dog's Tale\\\",\\n              \\\"The Best Years of Our Lives\\\",\\n              \\\"The Wizard of Oz\\\",\\n              \\\"Cool Hand Luke\\\",\\n              \\\"In the Name of the Father\\\",\\n              \\\"The Grapes of Wrath\\\",\\n              \\\"A Beautiful Mind\\\",\\n              \\\"Donnie Darko\\\",\\n              \\\"Mary and Max\\\",\\n              \\\"Stand by Me\\\",\\n              \\\"The Grand Budapest Hotel\\\",\\n              \\\"Butch Cassidy and the Sundance Kid\\\",\\n              \\\"The Sixth Sense\\\",\\n              \\\"The Thing\\\",\\n              \\\"Le salaire de la peur\\\",\\n              \\\"Persona\\\",\\n              \\\"Annie Hall\\\",\\n              \\\"Ben-Hur\\\",\\n              \\\"8\\\\u00bd\\\",\\n              \\\"Fargo\\\",\\n              \\\"Strangers on a Train\\\",\\n              \\\"Gone Girl\\\",\\n              \\\"Million Dollar Baby\\\",\\n              \\\"Network\\\",\\n              \\\"It Happened One Night\\\",\\n              \\\"Trainspotting\\\",\\n              \\\"Les diaboliques\\\",\\n              \\\"There Will Be Blood\\\",\\n              \\\"The Princess Bride\\\",\\n              \\\"Dial M for Murder\\\",\\n              \\\"Hotel Rwanda\\\",\\n              \\\"Sin City\\\",\\n              \\\"The Deer Hunter\\\",\\n              \\\"How to Train Your Dragon\\\",\\n              \\\"Into the Wild\\\",\\n              \\\"Rush (2013/I)\\\",\\n              \\\"Gandhi\\\",\\n              \\\"The Maltese Falcon\\\",\\n              \\\"Amores perros\\\",\\n              \\\"12 Years a Slave\\\",\\n              \\\"The Bourne Ultimatum\\\",\\n              \\\"Kaze no tani no Naushika\\\",\\n              \\\"Platoon\\\",\\n              \\\"Finding Nemo\\\",\\n              \\\"Stalker\\\",\\n              \\\"Life of Brian\\\",\\n              \\\"Gone with the Wind\\\",\\n              \\\"Touch of Evil\\\",\\n              \\\"No Country for Old Men\\\",\\n              \\\"Les quatre cents coups\\\",\\n              \\\"Shutter Island\\\",\\n              \\\"Kill Bill: Vol. 1\\\",\\n              \\\"El secreto de sus ojos\\\",\\n              \\\"Gran Torino\\\",\\n              \\\"Smultronst\\\\u00e4llet\\\",\\n              \\\"Good Will Hunting\\\",\\n              \\\"Jagten\\\",\\n              \\\"The Bridge on the River Kwai\\\",\\n              \\\"The Elephant Man\\\",\\n              \\\"Casino\\\",\\n              \\\"Lock, Stock and Two Smoking Barrels (1998)\\\",\\n              \\\"The Wolf of Wall Street\\\",\\n              \\\"Tonari no Totoro\\\",\\n              \\\"3 Idiots\\\",\\n              \\\"The General\\\",\\n              \\\"Judgment at Nuremberg\\\",\\n              \\\"The Gold Rush\\\",\\n              \\\"The Big Lebowski\\\",\\n              \\\"The Great Escape\\\",\\n              \\\"Up\\\",\\n              \\\"Warrior\\\",\\n              \\\"Ran\\\",\\n              \\\"Der Untergang\\\",\\n              \\\"Hauru no ugoku shiro\\\",\\n              \\\"V for Vendetta\\\",\\n              \\\"Chinatown\\\",\\n              \\\"El laberinto del fauno\\\",\\n              \\\"Blade Runner\\\",\\n              \\\"On the Waterfront\\\",\\n              \\\"Raging Bull\\\",\\n              \\\"Det sjunde inseglet\\\",\\n              \\\"Ikiru\\\",\\n              \\\"Mr. Smith Goes to Washington\\\",\\n              \\\"Rebecca\\\",\\n              \\\"Heat\\\",\\n              \\\"Die Hard\\\",\\n              \\\"Per qualche dollaro in pi\\\\u00f9\\\",\\n              \\\"Mad Max: Fury Road\\\",\\n              \\\"Monty Python and the Holy Grail\\\",\\n              \\\"Witness for the Prosecution\\\",\\n              \\\"A Clockwork Orange\\\",\\n              \\\"The Third Man\\\",\\n              \\\"Braveheart\\\",\\n              \\\"Amadeus\\\",\\n              \\\"Indiana Jones and the Last Crusade\\\",\\n              \\\"The Kid\\\",\\n              \\\"Y\\\\u00f4jinb\\\\u00f4\\\",\\n              \\\"Jodaeiye Nader az Simin\\\",\\n              \\\"Eternal Sunshine of the Spotless Mind\\\",\\n              \\\"The Apartment\\\",\\n              \\\"Requiem for a Dream\\\",\\n              \\\"Rash\\\\u00f4mon\\\",\\n              \\\"Toy Story 3\\\",\\n              \\\"Double Indemnity\\\",\\n              \\\"Metropolis\\\",\\n              \\\"L.A. Confidential\\\",\\n              \\\"Snatch.\\\",\\n              \\\"Lawrence of Arabia\\\",\\n              \\\"2001: A Space Odyssey\\\",\\n              \\\"The Sting\\\",\\n              \\\"The Treasure of the Sierra Madre\\\",\\n              \\\"Ladri di biciclette\\\",\\n              \\\"Toy Story\\\",\\n              \\\"Inglourious Basterds\\\",\\n              \\\"Singin' in the Rain\\\",\\n              \\\"All About Eve\\\",\\n              \\\"To Kill a Mockingbird\\\",\\n              \\\"Scarface\\\",\\n              \\\"Full Metal Jacket\\\",\\n              \\\"Taxi Driver\\\",\\n              \\\"Reservoir Dogs\\\",\\n              \\\"Unforgiven\\\",\\n              \\\"Some Like It Hot\\\",\\n              \\\"Batman Begins\\\",\\n              \\\"The Great Dictator\\\",\\n              \\\"The Shining\\\",\\n              \\\"Nuovo Cinema Paradiso\\\",\\n              \\\"The Dark Knight Rises\\\",\\n              \\\"WALL\\\\u00b7E\\\",\\n              \\\"Citizen Kane\\\",\\n              \\\"Once Upon a Time in America\\\",\\n              \\\"The Lion King\\\",\\n              \\\"Das Leben der Anderen\\\",\\n              \\\"Oldeuboi\\\",\\n              \\\"Mononoke-hime\\\",\\n              \\\"Vertigo\\\",\\n              \\\"Das Boot\\\",\\n              \\\"M\\\",\\n              \\\"Star Wars: Episode VI - Return of the Jedi\\\",\\n              \\\"Le fabuleux destin d'Am\\\\u00e9lie Poulain\\\",\\n              \\\"American Beauty\\\",\\n              \\\"Django Unchained\\\",\\n              \\\"North by Northwest\\\",\\n              \\\"Aliens\\\",\\n              \\\"Paths of Glory\\\",\\n              \\\"Hotaru no haka\\\",\\n              \\\"American History X\\\",\\n              \\\"City Lights\\\",\\n              \\\"Rear Window\\\",\\n              \\\"Dr. Strangelove or: How I Learned to Stop Worrying and Love the Bomb\\\",\\n              \\\"Terminator 2: Judgment Day\\\",\\n              \\\"Inside Out (2015/I)\\\",\\n              \\\"Sen to Chihiro no Kamikakushi\\\",\\n              \\\"Casablanca\\\",\\n              \\\"Back to the Future\\\",\\n              \\\"Modern Times\\\",\\n              \\\"Saving Private Ryan\\\",\\n              \\\"Gladiator\\\",\\n              \\\"Raiders of the Lost Ark\\\",\\n              \\\"Intouchables\\\",\\n              \\\"Psycho\\\",\\n              \\\"Whiplash\\\",\\n              \\\"The Green Mile\\\",\\n              \\\"Memento\\\",\\n              \\\"The Prestige\\\",\\n              \\\"The Departed\\\",\\n              \\\"The Pianist\\\",\\n              \\\"Alien\\\",\\n              \\\"Apocalypse Now\\\",\\n              \\\"Sunset Blvd.\\\",\\n              \\\"Se7en\\\",\\n              \\\"La vita \\\\u00e8 bella\\\",\\n              \\\"Interstellar\\\",\\n              \\\"It's a Wonderful Life\\\",\\n              \\\"Cidade de Deus\\\",\\n              \\\"L\\\\u00e9on\\\",\\n              \\\"C'era una volta il West\\\",\\n              \\\"The Usual Suspects\\\",\\n              \\\"The Silence of the Lambs\\\",\\n              \\\"Forrest Gump\\\",\\n              \\\"The Lord of the Rings: The Two Towers\\\",\\n              \\\"Star Wars: Episode V - The Empire Strikes Back\\\",\\n              \\\"The Matrix\\\",\\n              \\\"Star Wars\\\",\\n              \\\"Goodfellas\\\",\\n              \\\"One Flew Over the Cuckoo's Nest\\\",\\n              \\\"Shichinin no samurai\\\",\\n              \\\"Inception\\\",\\n              \\\"Fight Club\\\",\\n              \\\"The Lord of the Rings: The Fellowship of the Ring\\\",\\n              \\\"Pulp Fiction\\\",\\n              \\\"The Dark Knight\\\",\\n              \\\"Il buono, il brutto, il cattivo (1966)\\\",\\n              \\\"The Lord of the Rings: The Return of the King\\\",\\n              \\\"Schindler's List\\\",\\n              \\\"12 Angry Men\\\",\\n              \\\"The Godfather: Part II\\\",\\n              \\\"The Shawshank Redemption\\\",\\n              \\\"The Godfather\\\"\\n            ]\\n          },\\n          \\\"data\\\": [\\n            [\\n              91652.0,\\n              8.0,\\n              1988.0,\\n              1980.0\\n            ],\\n            [\\n              124671.0,\\n              8.0,\\n              1964.0,\\n              1960.0\\n            ],\\n            [\\n              527349.0,\\n              8.0,\\n              2014.0,\\n              2010.0\\n            ],\\n            [\\n              49135.0,\\n              8.0,\\n              1962.0,\\n              1960.0\\n            ],\\n            [\\n              39447.0,\\n              8.0,\\n              1995.0,\\n              1990.0\\n            ],\\n            [\\n              28012.0,\\n              8.0,\\n              1967.0,\\n              1960.0\\n            ],\\n            [\\n              268480.0,\\n              8.0,\\n              1991.0,\\n              1990.0\\n            ],\\n            [\\n              42446.0,\\n              8.0,\\n              1954.0,\\n              1950.0\\n            ],\\n            [\\n              862016.0,\\n              8.0,\\n              2012.0,\\n              2010.0\\n            ],\\n            [\\n              434906.0,\\n              8.0,\\n              2010.0,\\n              2010.0\\n            ],\\n            [\\n              89920.0,\\n              8.0,\\n              1975.0,\\n              1970.0\\n            ],\\n            [\\n              164419.0,\\n              8.0,\\n              1975.0,\\n              1970.0\\n            ],\\n            [\\n              321834.0,\\n              8.0,\\n              2014.0,\\n              2010.0\\n            ],\\n            [\\n              583004.0,\\n              8.0,\\n              1998.0,\\n              1990.0\\n            ],\\n            [\\n              87437.0,\\n              8.0,\\n              1953.0,\\n              1950.0\\n            ],\\n            [\\n              57842.0,\\n              8.0,\\n              1961.0,\\n              1960.0\\n            ],\\n            [\\n              427099.0,\\n              8.0,\\n              2014.0,\\n              2010.0\\n            ],\\n            [\\n              72007.0,\\n              8.0,\\n              1952.0,\\n              1950.0\\n            ],\\n            [\\n              147277.0,\\n              8.0,\\n              2004.0,\\n              2000.0\\n            ],\\n            [\\n              500576.0,\\n              8.0,\\n              2001.0,\\n              2000.0\\n            ],\\n            [\\n              466111.0,\\n              8.0,\\n              2011.0,\\n              2010.0\\n            ],\\n            [\\n              59377.0,\\n              8.0,\\n              2001.0,\\n              2000.0\\n            ],\\n            [\\n              520391.0,\\n              8.0,\\n              1993.0,\\n              1990.0\\n            ],\\n            [\\n              57644.0,\\n              8.0,\\n              1994.0,\\n              1990.0\\n            ],\\n            [\\n              37972.0,\\n              8.0,\\n              1982.0,\\n              1980.0\\n            ],\\n            [\\n              282774.0,\\n              8.0,\\n              2011.0,\\n              2010.0\\n            ],\\n            [\\n              50208.0,\\n              8.0,\\n              1966.0,\\n              1960.0\\n            ],\\n            [\\n              527274.0,\\n              8.0,\\n              1984.0,\\n              1980.0\\n            ],\\n            [\\n              415809.0,\\n              8.0,\\n              1995.0,\\n              1990.0\\n            ],\\n            [\\n              26012.0,\\n              8.0,\\n              1957.0,\\n              1950.0\\n            ],\\n            [\\n              384272.0,\\n              8.0,\\n              1993.0,\\n              1990.0\\n            ],\\n            [\\n              138240.0,\\n              8.0,\\n              2008.0,\\n              2000.0\\n            ],\\n            [\\n              66622.0,\\n              8.0,\\n              1946.0,\\n              1940.0\\n            ],\\n            [\\n              718645.0,\\n              8.0,\\n              2003.0,\\n              2000.0\\n            ],\\n            [\\n              90937.0,\\n              8.0,\\n              1995.0,\\n              1990.0\\n            ],\\n            [\\n              82440.0,\\n              8.0,\\n              2002.0,\\n              2000.0\\n            ],\\n            [\\n              54651.0,\\n              8.0,\\n              2003.0,\\n              2000.0\\n            ],\\n            [\\n              59578.0,\\n              8.0,\\n              1946.0,\\n              1940.0\\n            ],\\n            [\\n              43090.0,\\n              8.0,\\n              1984.0,\\n              1980.0\\n            ],\\n            [\\n              318041.0,\\n              8.0,\\n              1976.0,\\n              1970.0\\n            ],\\n            [\\n              312516.0,\\n              8.0,\\n              2013.0,\\n              2010.0\\n            ],\\n            [\\n              56671.0,\\n              8.0,\\n              1956.0,\\n              1950.0\\n            ],\\n            [\\n              57974.0,\\n              8.0,\\n              1955.0,\\n              1950.0\\n            ],\\n            [\\n              32385.0,\\n              8.0,\\n              1966.0,\\n              1960.0\\n            ],\\n            [\\n              55382.0,\\n              8.0,\\n              2003.0,\\n              2000.0\\n            ],\\n            [\\n              87591.0,\\n              8.0,\\n              1973.0,\\n              1970.0\\n            ],\\n            [\\n              158867.0,\\n              8.0,\\n              1995.0,\\n              1990.0\\n            ],\\n            [\\n              83941.0,\\n              8.0,\\n              1986.0,\\n              1980.0\\n            ],\\n            [\\n              364225.0,\\n              8.0,\\n              1975.0,\\n              1970.0\\n            ],\\n            [\\n              46987.0,\\n              8.0,\\n              2014.0,\\n              2010.0\\n            ],\\n            [\\n              65122.0,\\n              8.1,\\n              2010.0,\\n              2010.0\\n            ],\\n            [\\n              121599.0,\\n              8.1,\\n              2009.0,\\n              2000.0\\n            ],\\n            [\\n              35983.0,\\n              8.1,\\n              1946.0,\\n              1940.0\\n            ],\\n            [\\n              259235.0,\\n              8.1,\\n              1939.0,\\n              1930.0\\n            ],\\n            [\\n              108128.0,\\n              8.1,\\n              1967.0,\\n              1960.0\\n            ],\\n            [\\n              95212.0,\\n              8.1,\\n              1993.0,\\n              1990.0\\n            ],\\n            [\\n              55793.0,\\n              8.1,\\n              1940.0,\\n              1940.0\\n            ],\\n            [\\n              525515.0,\\n              8.1,\\n              2001.0,\\n              2000.0\\n            ],\\n            [\\n              522119.0,\\n              8.1,\\n              2001.0,\\n              2000.0\\n            ],\\n            [\\n              102735.0,\\n              8.1,\\n              2009.0,\\n              2000.0\\n            ],\\n            [\\n              242381.0,\\n              8.1,\\n              1986.0,\\n              1980.0\\n            ],\\n            [\\n              369141.0,\\n              8.1,\\n              2014.0,\\n              2010.0\\n            ],\\n            [\\n              134552.0,\\n              8.1,\\n              1969.0,\\n              1960.0\\n            ],\\n            [\\n              630994.0,\\n              8.1,\\n              1999.0,\\n              1990.0\\n            ],\\n            [\\n              228230.0,\\n              8.1,\\n              1982.0,\\n              1980.0\\n            ],\\n            [\\n              31003.0,\\n              8.1,\\n              1953.0,\\n              1950.0\\n            ],\\n            [\\n              52573.0,\\n              8.1,\\n              1966.0,\\n              1960.0\\n            ],\\n            [\\n              169982.0,\\n              8.1,\\n              1977.0,\\n              1970.0\\n            ],\\n            [\\n              141768.0,\\n              8.1,\\n              1959.0,\\n              1950.0\\n            ],\\n            [\\n              69988.0,\\n              8.1,\\n              1963.0,\\n              1960.0\\n            ],\\n            [\\n              395997.0,\\n              8.1,\\n              1996.0,\\n              1990.0\\n            ],\\n            [\\n              85012.0,\\n              8.1,\\n              1951.0,\\n              1950.0\\n            ],\\n            [\\n              441174.0,\\n              8.1,\\n              2014.0,\\n              2010.0\\n            ],\\n            [\\n              424957.0,\\n              8.1,\\n              2004.0,\\n              2000.0\\n            ],\\n            [\\n              91689.0,\\n              8.1,\\n              1976.0,\\n              1970.0\\n            ],\\n            [\\n              56842.0,\\n              8.1,\\n              1934.0,\\n              1930.0\\n            ],\\n            [\\n              419372.0,\\n              8.1,\\n              1996.0,\\n              1990.0\\n            ],\\n            [\\n              36725.0,\\n              8.1,\\n              1955.0,\\n              1950.0\\n            ],\\n            [\\n              331348.0,\\n              8.1,\\n              2007.0,\\n              2000.0\\n            ],\\n            [\\n              264285.0,\\n              8.1,\\n              1987.0,\\n              1980.0\\n            ],\\n            [\\n              92244.0,\\n              8.1,\\n              1954.0,\\n              1950.0\\n            ],\\n            [\\n              237292.0,\\n              8.1,\\n              2004.0,\\n              2000.0\\n            ],\\n            [\\n              596880.0,\\n              8.1,\\n              2005.0,\\n              2000.0\\n            ],\\n            [\\n              209677.0,\\n              8.1,\\n              1978.0,\\n              1970.0\\n            ],\\n            [\\n              415845.0,\\n              8.1,\\n              2010.0,\\n              2010.0\\n            ],\\n            [\\n              372803.0,\\n              8.1,\\n              2007.0,\\n              2000.0\\n            ],\\n            [\\n              258882.0,\\n              8.1,\\n              2013.0,\\n              2010.0\\n            ],\\n            [\\n              151697.0,\\n              8.1,\\n              1982.0,\\n              1980.0\\n            ],\\n            [\\n              101754.0,\\n              8.1,\\n              1941.0,\\n              1940.0\\n            ],\\n            [\\n              156030.0,\\n              8.1,\\n              2000.0,\\n              2000.0\\n            ],\\n            [\\n              359121.0,\\n              8.1,\\n              2013.0,\\n              2010.0\\n            ],\\n            [\\n              433487.0,\\n              8.1,\\n              2007.0,\\n              2000.0\\n            ],\\n            [\\n              81809.0,\\n              8.1,\\n              1984.0,\\n              1980.0\\n            ],\\n            [\\n              262404.0,\\n              8.1,\\n              1986.0,\\n              1980.0\\n            ],\\n            [\\n              591219.0,\\n              8.1,\\n              2003.0,\\n              2000.0\\n            ],\\n            [\\n              59272.0,\\n              8.1,\\n              1979.0,\\n              1970.0\\n            ],\\n            [\\n              242886.0,\\n              8.1,\\n              1979.0,\\n              1970.0\\n            ],\\n            [\\n              192791.0,\\n              8.1,\\n              1939.0,\\n              1930.0\\n            ],\\n            [\\n              65408.0,\\n              8.1,\\n              1958.0,\\n              1950.0\\n            ],\\n            [\\n              540744.0,\\n              8.1,\\n              2007.0,\\n              2000.0\\n            ],\\n            [\\n              61776.0,\\n              8.1,\\n              1959.0,\\n              1950.0\\n            ],\\n            [\\n              670328.0,\\n              8.1,\\n              2010.0,\\n              2010.0\\n            ],\\n            [\\n              647120.0,\\n              8.1,\\n              2003.0,\\n              2000.0\\n            ],\\n            [\\n              109254.0,\\n              8.2,\\n              2009.0,\\n              2000.0\\n            ],\\n            [\\n              502773.0,\\n              8.2,\\n              2008.0,\\n              2000.0\\n            ],\\n            [\\n              55861.0,\\n              8.2,\\n              1957.0,\\n              1950.0\\n            ],\\n            [\\n              529800.0,\\n              8.2,\\n              1997.0,\\n              1990.0\\n            ],\\n            [\\n              137310.0,\\n              8.2,\\n              2012.0,\\n              2010.0\\n            ],\\n            [\\n              132677.0,\\n              8.2,\\n              1957.0,\\n              1950.0\\n            ],\\n            [\\n              145514.0,\\n              8.2,\\n              1980.0,\\n              1980.0\\n            ],\\n            [\\n              294394.0,\\n              8.2,\\n              1995.0,\\n              1990.0\\n            ],\\n            [\\n              372863.0,\\n              8.2,\\n              1998.0,\\n              1990.0\\n            ],\\n            [\\n              624943.0,\\n              8.2,\\n              2013.0,\\n              2010.0\\n            ],\\n            [\\n              142605.0,\\n              8.2,\\n              1988.0,\\n              1980.0\\n            ],\\n            [\\n              167076.0,\\n              8.2,\\n              2009.0,\\n              2000.0\\n            ],\\n            [\\n              46332.0,\\n              8.2,\\n              1926.0,\\n              1920.0\\n            ],\\n            [\\n              37664.0,\\n              8.2,\\n              1961.0,\\n              1960.0\\n            ],\\n            [\\n              58506.0,\\n              8.2,\\n              1925.0,\\n              1920.0\\n            ],\\n            [\\n              473988.0,\\n              8.2,\\n              1998.0,\\n              1990.0\\n            ],\\n            [\\n              147372.0,\\n              8.2,\\n              1963.0,\\n              1960.0\\n            ],\\n            [\\n              566091.0,\\n              8.2,\\n              2009.0,\\n              2000.0\\n            ],\\n            [\\n              287727.0,\\n              8.2,\\n              2011.0,\\n              2010.0\\n            ],\\n            [\\n              69287.0,\\n              8.2,\\n              1985.0,\\n              1980.0\\n            ],\\n            [\\n              223834.0,\\n              8.2,\\n              2004.0,\\n              2000.0\\n            ],\\n            [\\n              182525.0,\\n              8.2,\\n              2004.0,\\n              2000.0\\n            ],\\n            [\\n              700999.0,\\n              8.2,\\n              2005.0,\\n              2000.0\\n            ],\\n            [\\n              192744.0,\\n              8.2,\\n              1974.0,\\n              1970.0\\n            ],\\n            [\\n              416467.0,\\n              8.2,\\n              2006.0,\\n              2000.0\\n            ],\\n            [\\n              415615.0,\\n              8.2,\\n              1982.0,\\n              1980.0\\n            ],\\n            [\\n              89233.0,\\n              8.2,\\n              1954.0,\\n              1950.0\\n            ],\\n            [\\n              210647.0,\\n              8.2,\\n              1980.0,\\n              1980.0\\n            ],\\n            [\\n              98949.0,\\n              8.2,\\n              1957.0,\\n              1950.0\\n            ],\\n            [\\n              36638.0,\\n              8.2,\\n              1952.0,\\n              1950.0\\n            ],\\n            [\\n              69510.0,\\n              8.2,\\n              1939.0,\\n              1930.0\\n            ],\\n            [\\n              78216.0,\\n              8.2,\\n              1940.0,\\n              1940.0\\n            ],\\n            [\\n              388239.0,\\n              8.2,\\n              1995.0,\\n              1990.0\\n            ],\\n            [\\n              529287.0,\\n              8.2,\\n              1988.0,\\n              1980.0\\n            ],\\n            [\\n              135556.0,\\n              8.3,\\n              1965.0,\\n              1960.0\\n            ],\\n            [\\n              262425.0,\\n              8.3,\\n              2015.0,\\n              2010.0\\n            ],\\n            [\\n              343300.0,\\n              8.3,\\n              1975.0,\\n              1970.0\\n            ],\\n            [\\n              53186.0,\\n              8.3,\\n              1957.0,\\n              1950.0\\n            ],\\n            [\\n              489807.0,\\n              8.3,\\n              1971.0,\\n              1970.0\\n            ],\\n            [\\n              101785.0,\\n              8.3,\\n              1949.0,\\n              1940.0\\n            ],\\n            [\\n              653769.0,\\n              8.3,\\n              1995.0,\\n              1990.0\\n            ],\\n            [\\n              240308.0,\\n              8.3,\\n              1984.0,\\n              1980.0\\n            ],\\n            [\\n              453748.0,\\n              8.3,\\n              1989.0,\\n              1980.0\\n            ],\\n            [\\n              55784.0,\\n              8.3,\\n              1921.0,\\n              1920.0\\n            ],\\n            [\\n              65370.0,\\n              8.3,\\n              1961.0,\\n              1960.0\\n            ],\\n            [\\n              133760.0,\\n              8.3,\\n              2011.0,\\n              2010.0\\n            ],\\n            [\\n              589477.0,\\n              8.3,\\n              2004.0,\\n              2000.0\\n            ],\\n            [\\n              96190.0,\\n              8.3,\\n              1960.0,\\n              1960.0\\n            ],\\n            [\\n              511177.0,\\n              8.3,\\n              2000.0,\\n              2000.0\\n            ],\\n            [\\n              90434.0,\\n              8.3,\\n              1950.0,\\n              1950.0\\n            ],\\n            [\\n              470158.0,\\n              8.3,\\n              2010.0,\\n              2010.0\\n            ],\\n            [\\n              86715.0,\\n              8.3,\\n              1944.0,\\n              1940.0\\n            ],\\n            [\\n              98794.0,\\n              8.3,\\n              1927.0,\\n              1920.0\\n            ],\\n            [\\n              376590.0,\\n              8.3,\\n              1997.0,\\n              1990.0\\n            ],\\n            [\\n              536053.0,\\n              8.3,\\n              2000.0,\\n              2000.0\\n            ],\\n            [\\n              170302.0,\\n              8.3,\\n              1962.0,\\n              1960.0\\n            ],\\n            [\\n              373482.0,\\n              8.3,\\n              1968.0,\\n              1960.0\\n            ],\\n            [\\n              155691.0,\\n              8.3,\\n              1973.0,\\n              1970.0\\n            ],\\n            [\\n              71003.0,\\n              8.3,\\n              1948.0,\\n              1940.0\\n            ],\\n            [\\n              81887.0,\\n              8.3,\\n              1948.0,\\n              1940.0\\n            ],\\n            [\\n              535249.0,\\n              8.3,\\n              1995.0,\\n              1990.0\\n            ],\\n            [\\n              755013.0,\\n              8.3,\\n              2009.0,\\n              2000.0\\n            ],\\n            [\\n              132823.0,\\n              8.3,\\n              1952.0,\\n              1950.0\\n            ],\\n            [\\n              74178.0,\\n              8.3,\\n              1950.0,\\n              1950.0\\n            ],\\n            [\\n              188160.0,\\n              8.3,\\n              1962.0,\\n              1960.0\\n            ],\\n            [\\n              475594.0,\\n              8.3,\\n              1983.0,\\n              1980.0\\n            ],\\n            [\\n              425461.0,\\n              8.3,\\n              1987.0,\\n              1980.0\\n            ],\\n            [\\n              444534.0,\\n              8.3,\\n              1976.0,\\n              1970.0\\n            ],\\n            [\\n              578684.0,\\n              8.3,\\n              1992.0,\\n              1990.0\\n            ],\\n            [\\n              248514.0,\\n              8.3,\\n              1992.0,\\n              1990.0\\n            ],\\n            [\\n              156432.0,\\n              8.3,\\n              1959.0,\\n              1950.0\\n            ],\\n            [\\n              850601.0,\\n              8.3,\\n              2005.0,\\n              2000.0\\n            ],\\n            [\\n              117590.0,\\n              8.4,\\n              1940.0,\\n              1940.0\\n            ],\\n            [\\n              532559.0,\\n              8.4,\\n              1980.0,\\n              1980.0\\n            ],\\n            [\\n              132121.0,\\n              8.4,\\n              1988.0,\\n              1980.0\\n            ],\\n            [\\n              997350.0,\\n              8.4,\\n              2012.0,\\n              2010.0\\n            ],\\n            [\\n              618914.0,\\n              8.4,\\n              2008.0,\\n              2000.0\\n            ],\\n            [\\n              268905.0,\\n              8.4,\\n              1941.0,\\n              1940.0\\n            ],\\n            [\\n              195266.0,\\n              8.4,\\n              1984.0,\\n              1980.0\\n            ],\\n            [\\n              548750.0,\\n              8.4,\\n              1994.0,\\n              1990.0\\n            ],\\n            [\\n              229533.0,\\n              8.4,\\n              2006.0,\\n              2000.0\\n            ],\\n            [\\n              311070.0,\\n              8.4,\\n              2003.0,\\n              2000.0\\n            ],\\n            [\\n              192165.0,\\n              8.4,\\n              1997.0,\\n              1990.0\\n            ],\\n            [\\n              218430.0,\\n              8.4,\\n              1958.0,\\n              1950.0\\n            ],\\n            [\\n              151256.0,\\n              8.4,\\n              1981.0,\\n              1980.0\\n            ],\\n            [\\n              88355.0,\\n              8.4,\\n              1931.0,\\n              1930.0\\n            ],\\n            [\\n              556811.0,\\n              8.4,\\n              1983.0,\\n              1980.0\\n            ],\\n            [\\n              474068.0,\\n              8.4,\\n              2001.0,\\n              2000.0\\n            ],\\n            [\\n              735056.0,\\n              8.4,\\n              1999.0,\\n              1990.0\\n            ],\\n            [\\n              804729.0,\\n              8.4,\\n              2012.0,\\n              2010.0\\n            ],\\n            [\\n              198795.0,\\n              8.4,\\n              1959.0,\\n              1950.0\\n            ],\\n            [\\n              436218.0,\\n              8.4,\\n              1986.0,\\n              1980.0\\n            ],\\n            [\\n              106038.0,\\n              8.4,\\n              1957.0,\\n              1950.0\\n            ],\\n            [\\n              115740.0,\\n              8.4,\\n              1988.0,\\n              1980.0\\n            ],\\n            [\\n              694602.0,\\n              8.5,\\n              1998.0,\\n              1990.0\\n            ],\\n            [\\n              92375.0,\\n              8.5,\\n              1931.0,\\n              1930.0\\n            ],\\n            [\\n              280432.0,\\n              8.5,\\n              1954.0,\\n              1950.0\\n            ],\\n            [\\n              309141.0,\\n              8.5,\\n              1964.0,\\n              1960.0\\n            ],\\n            [\\n              658564.0,\\n              8.5,\\n              1991.0,\\n              1990.0\\n            ],\\n            [\\n              79615.0,\\n              8.5,\\n              2015.0,\\n              2010.0\\n            ],\\n            [\\n              357355.0,\\n              8.5,\\n              2001.0,\\n              2000.0\\n            ],\\n            [\\n              350551.0,\\n              8.5,\\n              1942.0,\\n              1940.0\\n            ],\\n            [\\n              625463.0,\\n              8.5,\\n              1985.0,\\n              1980.0\\n            ],\\n            [\\n              121668.0,\\n              8.5,\\n              1936.0,\\n              1930.0\\n            ],\\n            [\\n              769893.0,\\n              8.5,\\n              1998.0,\\n              1990.0\\n            ],\\n            [\\n              862216.0,\\n              8.5,\\n              2000.0,\\n              2000.0\\n            ],\\n            [\\n              585474.0,\\n              8.5,\\n              1981.0,\\n              1980.0\\n            ],\\n            [\\n              417122.0,\\n              8.5,\\n              2011.0,\\n              2010.0\\n            ],\\n            [\\n              371791.0,\\n              8.5,\\n              1960.0,\\n              1960.0\\n            ],\\n            [\\n              264333.0,\\n              8.5,\\n              2014.0,\\n              2010.0\\n            ],\\n            [\\n              672878.0,\\n              8.5,\\n              1999.0,\\n              1990.0\\n            ],\\n            [\\n              752122.0,\\n              8.5,\\n              2000.0,\\n              2000.0\\n            ],\\n            [\\n              733490.0,\\n              8.5,\\n              2006.0,\\n              2000.0\\n            ],\\n            [\\n              763871.0,\\n              8.5,\\n              2006.0,\\n              2000.0\\n            ],\\n            [\\n              431856.0,\\n              8.5,\\n              2002.0,\\n              2000.0\\n            ],\\n            [\\n              496833.0,\\n              8.5,\\n              1979.0,\\n              1970.0\\n            ],\\n            [\\n              403754.0,\\n              8.5,\\n              1979.0,\\n              1970.0\\n            ],\\n            [\\n              123879.0,\\n              8.5,\\n              1950.0,\\n              1950.0\\n            ],\\n            [\\n              895411.0,\\n              8.6,\\n              1995.0,\\n              1990.0\\n            ],\\n            [\\n              358305.0,\\n              8.6,\\n              1997.0,\\n              1990.0\\n            ],\\n            [\\n              689541.0,\\n              8.6,\\n              2014.0,\\n              2010.0\\n            ],\\n            [\\n              242353.0,\\n              8.6,\\n              1946.0,\\n              1940.0\\n            ],\\n            [\\n              476501.0,\\n              8.6,\\n              2002.0,\\n              2000.0\\n            ],\\n            [\\n              635139.0,\\n              8.6,\\n              1994.0,\\n              1990.0\\n            ],\\n            [\\n              192206.0,\\n              8.6,\\n              1968.0,\\n              1960.0\\n            ],\\n            [\\n              656756.0,\\n              8.6,\\n              1995.0,\\n              1990.0\\n            ],\\n            [\\n              767224.0,\\n              8.6,\\n              1991.0,\\n              1990.0\\n            ],\\n            [\\n              1078416.0,\\n              8.7,\\n              1994.0,\\n              1990.0\\n            ],\\n            [\\n              967389.0,\\n              8.7,\\n              2002.0,\\n              2000.0\\n            ],\\n            [\\n              700283.0,\\n              8.7,\\n              1980.0,\\n              1980.0\\n            ],\\n            [\\n              1073043.0,\\n              8.7,\\n              1999.0,\\n              1990.0\\n            ],\\n            [\\n              770011.0,\\n              8.7,\\n              1977.0,\\n              1970.0\\n            ],\\n            [\\n              644556.0,\\n              8.7,\\n              1990.0,\\n              1990.0\\n            ],\\n            [\\n              606395.0,\\n              8.7,\\n              1975.0,\\n              1970.0\\n            ],\\n            [\\n              206216.0,\\n              8.7,\\n              1954.0,\\n              1950.0\\n            ],\\n            [\\n              1271949.0,\\n              8.7,\\n              2010.0,\\n              2010.0\\n            ],\\n            [\\n              1177098.0,\\n              8.8,\\n              1999.0,\\n              1990.0\\n            ],\\n            [\\n              1099087.0,\\n              8.8,\\n              2001.0,\\n              2000.0\\n            ],\\n            [\\n              1166532.0,\\n              8.9,\\n              1994.0,\\n              1990.0\\n            ],\\n            [\\n              1473049.0,\\n              8.9,\\n              2008.0,\\n              2000.0\\n            ],\\n            [\\n              447875.0,\\n              8.9,\\n              1966.0,\\n              1960.0\\n            ],\\n            [\\n              1074146.0,\\n              8.9,\\n              2003.0,\\n              2000.0\\n            ],\\n            [\\n              761224.0,\\n              8.9,\\n              1993.0,\\n              1990.0\\n            ],\\n            [\\n              384187.0,\\n              8.9,\\n              1957.0,\\n              1950.0\\n            ],\\n            [\\n              692753.0,\\n              9.0,\\n              1974.0,\\n              1970.0\\n            ],\\n            [\\n              1498733.0,\\n              9.2,\\n              1994.0,\\n              1990.0\\n            ],\\n            [\\n              1027398.0,\\n              9.2,\\n              1972.0,\\n              1970.0\\n            ]\\n          ]\\n        },\\n        \\\"rhs\\\": {\\n          \\\"type\\\": \\\"DataFrame\\\",\\n          \\\"columns\\\": {\\n            \\\"names\\\": [\\n              null\\n            ],\\n            \\\"labels\\\": [\\n              \\\"Votes\\\",\\n              \\\"Rating\\\",\\n              \\\"Year\\\",\\n              \\\"Decade\\\"\\n            ]\\n          },\\n          \\\"index\\\": {\\n            \\\"names\\\": [\\n              \\\"Title\\\"\\n            ],\\n            \\\"labels\\\": [\\n              \\\"Underground\\\",\\n              \\\"Beauty and the Beast\\\",\\n              \\\"The Truman Show\\\",\\n              \\\"Jurassic Park\\\",\\n              \\\"Trois couleurs: Rouge\\\",\\n              \\\"Twelve Monkeys\\\",\\n              \\\"Groundhog Day\\\",\\n              \\\"La haine\\\",\\n              \\\"Before Sunrise\\\",\\n              \\\"In the Name of the Father\\\",\\n              \\\"The Sixth Sense\\\",\\n              \\\"Fargo\\\",\\n              \\\"Trainspotting\\\",\\n              \\\"Good Will Hunting\\\",\\n              \\\"Casino\\\",\\n              \\\"Lock, Stock and Two Smoking Barrels (1998)\\\",\\n              \\\"The Big Lebowski\\\",\\n              \\\"Heat\\\",\\n              \\\"Braveheart\\\",\\n              \\\"L.A. Confidential\\\",\\n              \\\"Toy Story\\\",\\n              \\\"Reservoir Dogs\\\",\\n              \\\"Unforgiven\\\",\\n              \\\"The Lion King\\\",\\n              \\\"Mononoke-hime\\\",\\n              \\\"American Beauty\\\",\\n              \\\"American History X\\\",\\n              \\\"Terminator 2: Judgment Day\\\",\\n              \\\"Saving Private Ryan\\\",\\n              \\\"The Green Mile\\\",\\n              \\\"Se7en\\\",\\n              \\\"La vita \\\\u00e8 bella\\\",\\n              \\\"L\\\\u00e9on\\\",\\n              \\\"The Usual Suspects\\\",\\n              \\\"The Silence of the Lambs\\\",\\n              \\\"Forrest Gump\\\",\\n              \\\"The Matrix\\\",\\n              \\\"Goodfellas\\\",\\n              \\\"Fight Club\\\",\\n              \\\"Pulp Fiction\\\",\\n              \\\"Schindler's List\\\",\\n              \\\"The Shawshank Redemption\\\"\\n            ]\\n          },\\n          \\\"data\\\": [\\n            [\\n              39447.0,\\n              8.0,\\n              1995.0,\\n              1990.0\\n            ],\\n            [\\n              268480.0,\\n              8.0,\\n              1991.0,\\n              1990.0\\n            ],\\n            [\\n              583004.0,\\n              8.0,\\n              1998.0,\\n              1990.0\\n            ],\\n            [\\n              520391.0,\\n              8.0,\\n              1993.0,\\n              1990.0\\n            ],\\n            [\\n              57644.0,\\n              8.0,\\n              1994.0,\\n              1990.0\\n            ],\\n            [\\n              415809.0,\\n              8.0,\\n              1995.0,\\n              1990.0\\n            ],\\n            [\\n              384272.0,\\n              8.0,\\n              1993.0,\\n              1990.0\\n            ],\\n            [\\n              90937.0,\\n              8.0,\\n              1995.0,\\n              1990.0\\n            ],\\n            [\\n              158867.0,\\n              8.0,\\n              1995.0,\\n              1990.0\\n            ],\\n            [\\n              95212.0,\\n              8.1,\\n              1993.0,\\n              1990.0\\n            ],\\n            [\\n              630994.0,\\n              8.1,\\n              1999.0,\\n              1990.0\\n            ],\\n            [\\n              395997.0,\\n              8.1,\\n              1996.0,\\n              1990.0\\n            ],\\n            [\\n              419372.0,\\n              8.1,\\n              1996.0,\\n              1990.0\\n            ],\\n            [\\n              529800.0,\\n              8.2,\\n              1997.0,\\n              1990.0\\n            ],\\n            [\\n              294394.0,\\n              8.2,\\n              1995.0,\\n              1990.0\\n            ],\\n            [\\n              372863.0,\\n              8.2,\\n              1998.0,\\n              1990.0\\n            ],\\n            [\\n              473988.0,\\n              8.2,\\n              1998.0,\\n              1990.0\\n            ],\\n            [\\n              388239.0,\\n              8.2,\\n              1995.0,\\n              1990.0\\n            ],\\n            [\\n              653769.0,\\n              8.3,\\n              1995.0,\\n              1990.0\\n            ],\\n            [\\n              376590.0,\\n              8.3,\\n              1997.0,\\n              1990.0\\n            ],\\n            [\\n              535249.0,\\n              8.3,\\n              1995.0,\\n              1990.0\\n            ],\\n            [\\n              578684.0,\\n              8.3,\\n              1992.0,\\n              1990.0\\n            ],\\n            [\\n              248514.0,\\n              8.3,\\n              1992.0,\\n              1990.0\\n            ],\\n            [\\n              548750.0,\\n              8.4,\\n              1994.0,\\n              1990.0\\n            ],\\n            [\\n              192165.0,\\n              8.4,\\n              1997.0,\\n              1990.0\\n            ],\\n            [\\n              735056.0,\\n              8.4,\\n              1999.0,\\n              1990.0\\n            ],\\n            [\\n              694602.0,\\n              8.5,\\n              1998.0,\\n              1990.0\\n            ],\\n            [\\n              658564.0,\\n              8.5,\\n              1991.0,\\n              1990.0\\n            ],\\n            [\\n              769893.0,\\n              8.5,\\n              1998.0,\\n              1990.0\\n            ],\\n            [\\n              672878.0,\\n              8.5,\\n              1999.0,\\n              1990.0\\n            ],\\n            [\\n              895411.0,\\n              8.6,\\n              1995.0,\\n              1990.0\\n            ],\\n            [\\n              358305.0,\\n              8.6,\\n              1997.0,\\n              1990.0\\n            ],\\n            [\\n              635139.0,\\n              8.6,\\n              1994.0,\\n              1990.0\\n            ],\\n            [\\n              656756.0,\\n              8.6,\\n              1995.0,\\n              1990.0\\n            ],\\n            [\\n              767224.0,\\n              8.6,\\n              1991.0,\\n              1990.0\\n            ],\\n            [\\n              1078416.0,\\n              8.7,\\n              1994.0,\\n              1990.0\\n            ],\\n            [\\n              1073043.0,\\n              8.7,\\n              1999.0,\\n              1990.0\\n            ],\\n            [\\n              644556.0,\\n              8.7,\\n              1990.0,\\n              1990.0\\n            ],\\n            [\\n              1177098.0,\\n              8.8,\\n              1999.0,\\n              1990.0\\n            ],\\n            [\\n              1166532.0,\\n              8.9,\\n              1994.0,\\n              1990.0\\n            ],\\n            [\\n              761224.0,\\n              8.9,\\n              1993.0,\\n              1990.0\\n            ],\\n            [\\n              1498733.0,\\n              9.2,\\n              1994.0,\\n              1990.0\\n            ]\\n          ]\\n        }\\n      }\\n    },\\n    {\\n      \\\"type\\\": \\\"SortValuesCall\\\",\\n      \\\"code_step\\\": \\\"imdb[imdb.get('Decade') == 1990].sort_values('Rating', ascending=False).index[0]\\\",\\n      \\\"fragment\\\": {\\n        \\\"start\\\": {\\n          \\\"line\\\": 0,\\n          \\\"ch\\\": 32\\n        },\\n        \\\"end\\\": {\\n          \\\"line\\\": 0,\\n          \\\"ch\\\": 71\\n        }\\n      },\\n      \\\"marks\\\": [\\n        {\\n          \\\"type\\\": \\\"using\\\",\\n          \\\"pos\\\": {\\n            \\\"type\\\": \\\"axis\\\",\\n            \\\"anchor\\\": \\\"rhs\\\",\\n            \\\"select\\\": \\\"column\\\",\\n            \\\"label\\\": \\\"Rating\\\"\\n          }\\n        },\\n        {\\n          \\\"type\\\": \\\"map\\\",\\n          \\\"from\\\": {\\n            \\\"type\\\": \\\"axis\\\",\\n            \\\"anchor\\\": \\\"lhs\\\",\\n            \\\"select\\\": \\\"row\\\",\\n            \\\"label\\\": \\\"Underground\\\"\\n          },\\n          \\\"to\\\": {\\n            \\\"type\\\": \\\"axis\\\",\\n            \\\"anchor\\\": \\\"rhs\\\",\\n            \\\"select\\\": \\\"row\\\",\\n            \\\"label\\\": \\\"Underground\\\"\\n          }\\n        },\\n        {\\n          \\\"type\\\": \\\"map\\\",\\n          \\\"from\\\": {\\n            \\\"type\\\": \\\"axis\\\",\\n            \\\"anchor\\\": \\\"lhs\\\",\\n            \\\"select\\\": \\\"row\\\",\\n            \\\"label\\\": \\\"Beauty and the Beast\\\"\\n          },\\n          \\\"to\\\": {\\n            \\\"type\\\": \\\"axis\\\",\\n            \\\"anchor\\\": \\\"rhs\\\",\\n            \\\"select\\\": \\\"row\\\",\\n            \\\"label\\\": \\\"Beauty and the Beast\\\"\\n          }\\n        },\\n        {\\n          \\\"type\\\": \\\"map\\\",\\n          \\\"from\\\": {\\n            \\\"type\\\": \\\"axis\\\",\\n            \\\"anchor\\\": \\\"lhs\\\",\\n            \\\"select\\\": \\\"row\\\",\\n            \\\"label\\\": \\\"The Truman Show\\\"\\n          },\\n          \\\"to\\\": {\\n            \\\"type\\\": \\\"axis\\\",\\n            \\\"anchor\\\": \\\"rhs\\\",\\n            \\\"select\\\": \\\"row\\\",\\n            \\\"label\\\": \\\"The Truman Show\\\"\\n          }\\n        },\\n        {\\n          \\\"type\\\": \\\"map\\\",\\n          \\\"from\\\": {\\n            \\\"type\\\": \\\"axis\\\",\\n            \\\"anchor\\\": \\\"lhs\\\",\\n            \\\"select\\\": \\\"row\\\",\\n            \\\"label\\\": \\\"Jurassic Park\\\"\\n          },\\n          \\\"to\\\": {\\n            \\\"type\\\": \\\"axis\\\",\\n            \\\"anchor\\\": \\\"rhs\\\",\\n            \\\"select\\\": \\\"row\\\",\\n            \\\"label\\\": \\\"Jurassic Park\\\"\\n          }\\n        },\\n        {\\n          \\\"type\\\": \\\"map\\\",\\n          \\\"from\\\": {\\n            \\\"type\\\": \\\"axis\\\",\\n            \\\"anchor\\\": \\\"lhs\\\",\\n            \\\"select\\\": \\\"row\\\",\\n            \\\"label\\\": \\\"Trois couleurs: Rouge\\\"\\n          },\\n          \\\"to\\\": {\\n            \\\"type\\\": \\\"axis\\\",\\n            \\\"anchor\\\": \\\"rhs\\\",\\n            \\\"select\\\": \\\"row\\\",\\n            \\\"label\\\": \\\"Trois couleurs: Rouge\\\"\\n          }\\n        },\\n        {\\n          \\\"type\\\": \\\"map\\\",\\n          \\\"from\\\": {\\n            \\\"type\\\": \\\"axis\\\",\\n            \\\"anchor\\\": \\\"lhs\\\",\\n            \\\"select\\\": \\\"row\\\",\\n            \\\"label\\\": \\\"Twelve Monkeys\\\"\\n          },\\n          \\\"to\\\": {\\n            \\\"type\\\": \\\"axis\\\",\\n            \\\"anchor\\\": \\\"rhs\\\",\\n            \\\"select\\\": \\\"row\\\",\\n            \\\"label\\\": \\\"Twelve Monkeys\\\"\\n          }\\n        },\\n        {\\n          \\\"type\\\": \\\"map\\\",\\n          \\\"from\\\": {\\n            \\\"type\\\": \\\"axis\\\",\\n            \\\"anchor\\\": \\\"lhs\\\",\\n            \\\"select\\\": \\\"row\\\",\\n            \\\"label\\\": \\\"Groundhog Day\\\"\\n          },\\n          \\\"to\\\": {\\n            \\\"type\\\": \\\"axis\\\",\\n            \\\"anchor\\\": \\\"rhs\\\",\\n            \\\"select\\\": \\\"row\\\",\\n            \\\"label\\\": \\\"Groundhog Day\\\"\\n          }\\n        },\\n        {\\n          \\\"type\\\": \\\"map\\\",\\n          \\\"from\\\": {\\n            \\\"type\\\": \\\"axis\\\",\\n            \\\"anchor\\\": \\\"lhs\\\",\\n            \\\"select\\\": \\\"row\\\",\\n            \\\"label\\\": \\\"La haine\\\"\\n          },\\n          \\\"to\\\": {\\n            \\\"type\\\": \\\"axis\\\",\\n            \\\"anchor\\\": \\\"rhs\\\",\\n            \\\"select\\\": \\\"row\\\",\\n            \\\"label\\\": \\\"La haine\\\"\\n          }\\n        },\\n        {\\n          \\\"type\\\": \\\"map\\\",\\n          \\\"from\\\": {\\n            \\\"type\\\": \\\"axis\\\",\\n            \\\"anchor\\\": \\\"lhs\\\",\\n            \\\"select\\\": \\\"row\\\",\\n            \\\"label\\\": \\\"Before Sunrise\\\"\\n          },\\n          \\\"to\\\": {\\n            \\\"type\\\": \\\"axis\\\",\\n            \\\"anchor\\\": \\\"rhs\\\",\\n            \\\"select\\\": \\\"row\\\",\\n            \\\"label\\\": \\\"Before Sunrise\\\"\\n          }\\n        },\\n        {\\n          \\\"type\\\": \\\"map\\\",\\n          \\\"from\\\": {\\n            \\\"type\\\": \\\"axis\\\",\\n            \\\"anchor\\\": \\\"lhs\\\",\\n            \\\"select\\\": \\\"row\\\",\\n            \\\"label\\\": \\\"In the Name of the Father\\\"\\n          },\\n          \\\"to\\\": {\\n            \\\"type\\\": \\\"axis\\\",\\n            \\\"anchor\\\": \\\"rhs\\\",\\n            \\\"select\\\": \\\"row\\\",\\n            \\\"label\\\": \\\"In the Name of the Father\\\"\\n          }\\n        },\\n        {\\n          \\\"type\\\": \\\"map\\\",\\n          \\\"from\\\": {\\n            \\\"type\\\": \\\"axis\\\",\\n            \\\"anchor\\\": \\\"lhs\\\",\\n            \\\"select\\\": \\\"row\\\",\\n            \\\"label\\\": \\\"The Sixth Sense\\\"\\n          },\\n          \\\"to\\\": {\\n            \\\"type\\\": \\\"axis\\\",\\n            \\\"anchor\\\": \\\"rhs\\\",\\n            \\\"select\\\": \\\"row\\\",\\n            \\\"label\\\": \\\"The Sixth Sense\\\"\\n          }\\n        },\\n        {\\n          \\\"type\\\": \\\"map\\\",\\n          \\\"from\\\": {\\n            \\\"type\\\": \\\"axis\\\",\\n            \\\"anchor\\\": \\\"lhs\\\",\\n            \\\"select\\\": \\\"row\\\",\\n            \\\"label\\\": \\\"Fargo\\\"\\n          },\\n          \\\"to\\\": {\\n            \\\"type\\\": \\\"axis\\\",\\n            \\\"anchor\\\": \\\"rhs\\\",\\n            \\\"select\\\": \\\"row\\\",\\n            \\\"label\\\": \\\"Fargo\\\"\\n          }\\n        },\\n        {\\n          \\\"type\\\": \\\"map\\\",\\n          \\\"from\\\": {\\n            \\\"type\\\": \\\"axis\\\",\\n            \\\"anchor\\\": \\\"lhs\\\",\\n            \\\"select\\\": \\\"row\\\",\\n            \\\"label\\\": \\\"Trainspotting\\\"\\n          },\\n          \\\"to\\\": {\\n            \\\"type\\\": \\\"axis\\\",\\n            \\\"anchor\\\": \\\"rhs\\\",\\n            \\\"select\\\": \\\"row\\\",\\n            \\\"label\\\": \\\"Trainspotting\\\"\\n          }\\n        },\\n        {\\n          \\\"type\\\": \\\"map\\\",\\n          \\\"from\\\": {\\n            \\\"type\\\": \\\"axis\\\",\\n            \\\"anchor\\\": \\\"lhs\\\",\\n            \\\"select\\\": \\\"row\\\",\\n            \\\"label\\\": \\\"Good Will Hunting\\\"\\n          },\\n          \\\"to\\\": {\\n            \\\"type\\\": \\\"axis\\\",\\n            \\\"anchor\\\": \\\"rhs\\\",\\n            \\\"select\\\": \\\"row\\\",\\n            \\\"label\\\": \\\"Good Will Hunting\\\"\\n          }\\n        },\\n        {\\n          \\\"type\\\": \\\"map\\\",\\n          \\\"from\\\": {\\n            \\\"type\\\": \\\"axis\\\",\\n            \\\"anchor\\\": \\\"lhs\\\",\\n            \\\"select\\\": \\\"row\\\",\\n            \\\"label\\\": \\\"Casino\\\"\\n          },\\n          \\\"to\\\": {\\n            \\\"type\\\": \\\"axis\\\",\\n            \\\"anchor\\\": \\\"rhs\\\",\\n            \\\"select\\\": \\\"row\\\",\\n            \\\"label\\\": \\\"Casino\\\"\\n          }\\n        },\\n        {\\n          \\\"type\\\": \\\"map\\\",\\n          \\\"from\\\": {\\n            \\\"type\\\": \\\"axis\\\",\\n            \\\"anchor\\\": \\\"lhs\\\",\\n            \\\"select\\\": \\\"row\\\",\\n            \\\"label\\\": \\\"Lock, Stock and Two Smoking Barrels (1998)\\\"\\n          },\\n          \\\"to\\\": {\\n            \\\"type\\\": \\\"axis\\\",\\n            \\\"anchor\\\": \\\"rhs\\\",\\n            \\\"select\\\": \\\"row\\\",\\n            \\\"label\\\": \\\"Lock, Stock and Two Smoking Barrels (1998)\\\"\\n          }\\n        },\\n        {\\n          \\\"type\\\": \\\"map\\\",\\n          \\\"from\\\": {\\n            \\\"type\\\": \\\"axis\\\",\\n            \\\"anchor\\\": \\\"lhs\\\",\\n            \\\"select\\\": \\\"row\\\",\\n            \\\"label\\\": \\\"The Big Lebowski\\\"\\n          },\\n          \\\"to\\\": {\\n            \\\"type\\\": \\\"axis\\\",\\n            \\\"anchor\\\": \\\"rhs\\\",\\n            \\\"select\\\": \\\"row\\\",\\n            \\\"label\\\": \\\"The Big Lebowski\\\"\\n          }\\n        },\\n        {\\n          \\\"type\\\": \\\"map\\\",\\n          \\\"from\\\": {\\n            \\\"type\\\": \\\"axis\\\",\\n            \\\"anchor\\\": \\\"lhs\\\",\\n            \\\"select\\\": \\\"row\\\",\\n            \\\"label\\\": \\\"Heat\\\"\\n          },\\n          \\\"to\\\": {\\n            \\\"type\\\": \\\"axis\\\",\\n            \\\"anchor\\\": \\\"rhs\\\",\\n            \\\"select\\\": \\\"row\\\",\\n            \\\"label\\\": \\\"Heat\\\"\\n          }\\n        },\\n        {\\n          \\\"type\\\": \\\"map\\\",\\n          \\\"from\\\": {\\n            \\\"type\\\": \\\"axis\\\",\\n            \\\"anchor\\\": \\\"lhs\\\",\\n            \\\"select\\\": \\\"row\\\",\\n            \\\"label\\\": \\\"Braveheart\\\"\\n          },\\n          \\\"to\\\": {\\n            \\\"type\\\": \\\"axis\\\",\\n            \\\"anchor\\\": \\\"rhs\\\",\\n            \\\"select\\\": \\\"row\\\",\\n            \\\"label\\\": \\\"Braveheart\\\"\\n          }\\n        },\\n        {\\n          \\\"type\\\": \\\"map\\\",\\n          \\\"from\\\": {\\n            \\\"type\\\": \\\"axis\\\",\\n            \\\"anchor\\\": \\\"lhs\\\",\\n            \\\"select\\\": \\\"row\\\",\\n            \\\"label\\\": \\\"L.A. Confidential\\\"\\n          },\\n          \\\"to\\\": {\\n            \\\"type\\\": \\\"axis\\\",\\n            \\\"anchor\\\": \\\"rhs\\\",\\n            \\\"select\\\": \\\"row\\\",\\n            \\\"label\\\": \\\"L.A. Confidential\\\"\\n          }\\n        },\\n        {\\n          \\\"type\\\": \\\"map\\\",\\n          \\\"from\\\": {\\n            \\\"type\\\": \\\"axis\\\",\\n            \\\"anchor\\\": \\\"lhs\\\",\\n            \\\"select\\\": \\\"row\\\",\\n            \\\"label\\\": \\\"Toy Story\\\"\\n          },\\n          \\\"to\\\": {\\n            \\\"type\\\": \\\"axis\\\",\\n            \\\"anchor\\\": \\\"rhs\\\",\\n            \\\"select\\\": \\\"row\\\",\\n            \\\"label\\\": \\\"Toy Story\\\"\\n          }\\n        },\\n        {\\n          \\\"type\\\": \\\"map\\\",\\n          \\\"from\\\": {\\n            \\\"type\\\": \\\"axis\\\",\\n            \\\"anchor\\\": \\\"lhs\\\",\\n            \\\"select\\\": \\\"row\\\",\\n            \\\"label\\\": \\\"Reservoir Dogs\\\"\\n          },\\n          \\\"to\\\": {\\n            \\\"type\\\": \\\"axis\\\",\\n            \\\"anchor\\\": \\\"rhs\\\",\\n            \\\"select\\\": \\\"row\\\",\\n            \\\"label\\\": \\\"Reservoir Dogs\\\"\\n          }\\n        },\\n        {\\n          \\\"type\\\": \\\"map\\\",\\n          \\\"from\\\": {\\n            \\\"type\\\": \\\"axis\\\",\\n            \\\"anchor\\\": \\\"lhs\\\",\\n            \\\"select\\\": \\\"row\\\",\\n            \\\"label\\\": \\\"Unforgiven\\\"\\n          },\\n          \\\"to\\\": {\\n            \\\"type\\\": \\\"axis\\\",\\n            \\\"anchor\\\": \\\"rhs\\\",\\n            \\\"select\\\": \\\"row\\\",\\n            \\\"label\\\": \\\"Unforgiven\\\"\\n          }\\n        },\\n        {\\n          \\\"type\\\": \\\"map\\\",\\n          \\\"from\\\": {\\n            \\\"type\\\": \\\"axis\\\",\\n            \\\"anchor\\\": \\\"lhs\\\",\\n            \\\"select\\\": \\\"row\\\",\\n            \\\"label\\\": \\\"The Lion King\\\"\\n          },\\n          \\\"to\\\": {\\n            \\\"type\\\": \\\"axis\\\",\\n            \\\"anchor\\\": \\\"rhs\\\",\\n            \\\"select\\\": \\\"row\\\",\\n            \\\"label\\\": \\\"The Lion King\\\"\\n          }\\n        },\\n        {\\n          \\\"type\\\": \\\"map\\\",\\n          \\\"from\\\": {\\n            \\\"type\\\": \\\"axis\\\",\\n            \\\"anchor\\\": \\\"lhs\\\",\\n            \\\"select\\\": \\\"row\\\",\\n            \\\"label\\\": \\\"Mononoke-hime\\\"\\n          },\\n          \\\"to\\\": {\\n            \\\"type\\\": \\\"axis\\\",\\n            \\\"anchor\\\": \\\"rhs\\\",\\n            \\\"select\\\": \\\"row\\\",\\n            \\\"label\\\": \\\"Mononoke-hime\\\"\\n          }\\n        },\\n        {\\n          \\\"type\\\": \\\"map\\\",\\n          \\\"from\\\": {\\n            \\\"type\\\": \\\"axis\\\",\\n            \\\"anchor\\\": \\\"lhs\\\",\\n            \\\"select\\\": \\\"row\\\",\\n            \\\"label\\\": \\\"American Beauty\\\"\\n          },\\n          \\\"to\\\": {\\n            \\\"type\\\": \\\"axis\\\",\\n            \\\"anchor\\\": \\\"rhs\\\",\\n            \\\"select\\\": \\\"row\\\",\\n            \\\"label\\\": \\\"American Beauty\\\"\\n          }\\n        },\\n        {\\n          \\\"type\\\": \\\"map\\\",\\n          \\\"from\\\": {\\n            \\\"type\\\": \\\"axis\\\",\\n            \\\"anchor\\\": \\\"lhs\\\",\\n            \\\"select\\\": \\\"row\\\",\\n            \\\"label\\\": \\\"American History X\\\"\\n          },\\n          \\\"to\\\": {\\n            \\\"type\\\": \\\"axis\\\",\\n            \\\"anchor\\\": \\\"rhs\\\",\\n            \\\"select\\\": \\\"row\\\",\\n            \\\"label\\\": \\\"American History X\\\"\\n          }\\n        },\\n        {\\n          \\\"type\\\": \\\"map\\\",\\n          \\\"from\\\": {\\n            \\\"type\\\": \\\"axis\\\",\\n            \\\"anchor\\\": \\\"lhs\\\",\\n            \\\"select\\\": \\\"row\\\",\\n            \\\"label\\\": \\\"Terminator 2: Judgment Day\\\"\\n          },\\n          \\\"to\\\": {\\n            \\\"type\\\": \\\"axis\\\",\\n            \\\"anchor\\\": \\\"rhs\\\",\\n            \\\"select\\\": \\\"row\\\",\\n            \\\"label\\\": \\\"Terminator 2: Judgment Day\\\"\\n          }\\n        },\\n        {\\n          \\\"type\\\": \\\"map\\\",\\n          \\\"from\\\": {\\n            \\\"type\\\": \\\"axis\\\",\\n            \\\"anchor\\\": \\\"lhs\\\",\\n            \\\"select\\\": \\\"row\\\",\\n            \\\"label\\\": \\\"Saving Private Ryan\\\"\\n          },\\n          \\\"to\\\": {\\n            \\\"type\\\": \\\"axis\\\",\\n            \\\"anchor\\\": \\\"rhs\\\",\\n            \\\"select\\\": \\\"row\\\",\\n            \\\"label\\\": \\\"Saving Private Ryan\\\"\\n          }\\n        },\\n        {\\n          \\\"type\\\": \\\"map\\\",\\n          \\\"from\\\": {\\n            \\\"type\\\": \\\"axis\\\",\\n            \\\"anchor\\\": \\\"lhs\\\",\\n            \\\"select\\\": \\\"row\\\",\\n            \\\"label\\\": \\\"The Green Mile\\\"\\n          },\\n          \\\"to\\\": {\\n            \\\"type\\\": \\\"axis\\\",\\n            \\\"anchor\\\": \\\"rhs\\\",\\n            \\\"select\\\": \\\"row\\\",\\n            \\\"label\\\": \\\"The Green Mile\\\"\\n          }\\n        },\\n        {\\n          \\\"type\\\": \\\"map\\\",\\n          \\\"from\\\": {\\n            \\\"type\\\": \\\"axis\\\",\\n            \\\"anchor\\\": \\\"lhs\\\",\\n            \\\"select\\\": \\\"row\\\",\\n            \\\"label\\\": \\\"Se7en\\\"\\n          },\\n          \\\"to\\\": {\\n            \\\"type\\\": \\\"axis\\\",\\n            \\\"anchor\\\": \\\"rhs\\\",\\n            \\\"select\\\": \\\"row\\\",\\n            \\\"label\\\": \\\"Se7en\\\"\\n          }\\n        },\\n        {\\n          \\\"type\\\": \\\"map\\\",\\n          \\\"from\\\": {\\n            \\\"type\\\": \\\"axis\\\",\\n            \\\"anchor\\\": \\\"lhs\\\",\\n            \\\"select\\\": \\\"row\\\",\\n            \\\"label\\\": \\\"La vita \\\\u00e8 bella\\\"\\n          },\\n          \\\"to\\\": {\\n            \\\"type\\\": \\\"axis\\\",\\n            \\\"anchor\\\": \\\"rhs\\\",\\n            \\\"select\\\": \\\"row\\\",\\n            \\\"label\\\": \\\"La vita \\\\u00e8 bella\\\"\\n          }\\n        },\\n        {\\n          \\\"type\\\": \\\"map\\\",\\n          \\\"from\\\": {\\n            \\\"type\\\": \\\"axis\\\",\\n            \\\"anchor\\\": \\\"lhs\\\",\\n            \\\"select\\\": \\\"row\\\",\\n            \\\"label\\\": \\\"L\\\\u00e9on\\\"\\n          },\\n          \\\"to\\\": {\\n            \\\"type\\\": \\\"axis\\\",\\n            \\\"anchor\\\": \\\"rhs\\\",\\n            \\\"select\\\": \\\"row\\\",\\n            \\\"label\\\": \\\"L\\\\u00e9on\\\"\\n          }\\n        },\\n        {\\n          \\\"type\\\": \\\"map\\\",\\n          \\\"from\\\": {\\n            \\\"type\\\": \\\"axis\\\",\\n            \\\"anchor\\\": \\\"lhs\\\",\\n            \\\"select\\\": \\\"row\\\",\\n            \\\"label\\\": \\\"The Usual Suspects\\\"\\n          },\\n          \\\"to\\\": {\\n            \\\"type\\\": \\\"axis\\\",\\n            \\\"anchor\\\": \\\"rhs\\\",\\n            \\\"select\\\": \\\"row\\\",\\n            \\\"label\\\": \\\"The Usual Suspects\\\"\\n          }\\n        },\\n        {\\n          \\\"type\\\": \\\"map\\\",\\n          \\\"from\\\": {\\n            \\\"type\\\": \\\"axis\\\",\\n            \\\"anchor\\\": \\\"lhs\\\",\\n            \\\"select\\\": \\\"row\\\",\\n            \\\"label\\\": \\\"The Silence of the Lambs\\\"\\n          },\\n          \\\"to\\\": {\\n            \\\"type\\\": \\\"axis\\\",\\n            \\\"anchor\\\": \\\"rhs\\\",\\n            \\\"select\\\": \\\"row\\\",\\n            \\\"label\\\": \\\"The Silence of the Lambs\\\"\\n          }\\n        },\\n        {\\n          \\\"type\\\": \\\"map\\\",\\n          \\\"from\\\": {\\n            \\\"type\\\": \\\"axis\\\",\\n            \\\"anchor\\\": \\\"lhs\\\",\\n            \\\"select\\\": \\\"row\\\",\\n            \\\"label\\\": \\\"Forrest Gump\\\"\\n          },\\n          \\\"to\\\": {\\n            \\\"type\\\": \\\"axis\\\",\\n            \\\"anchor\\\": \\\"rhs\\\",\\n            \\\"select\\\": \\\"row\\\",\\n            \\\"label\\\": \\\"Forrest Gump\\\"\\n          }\\n        },\\n        {\\n          \\\"type\\\": \\\"map\\\",\\n          \\\"from\\\": {\\n            \\\"type\\\": \\\"axis\\\",\\n            \\\"anchor\\\": \\\"lhs\\\",\\n            \\\"select\\\": \\\"row\\\",\\n            \\\"label\\\": \\\"The Matrix\\\"\\n          },\\n          \\\"to\\\": {\\n            \\\"type\\\": \\\"axis\\\",\\n            \\\"anchor\\\": \\\"rhs\\\",\\n            \\\"select\\\": \\\"row\\\",\\n            \\\"label\\\": \\\"The Matrix\\\"\\n          }\\n        },\\n        {\\n          \\\"type\\\": \\\"map\\\",\\n          \\\"from\\\": {\\n            \\\"type\\\": \\\"axis\\\",\\n            \\\"anchor\\\": \\\"lhs\\\",\\n            \\\"select\\\": \\\"row\\\",\\n            \\\"label\\\": \\\"Goodfellas\\\"\\n          },\\n          \\\"to\\\": {\\n            \\\"type\\\": \\\"axis\\\",\\n            \\\"anchor\\\": \\\"rhs\\\",\\n            \\\"select\\\": \\\"row\\\",\\n            \\\"label\\\": \\\"Goodfellas\\\"\\n          }\\n        },\\n        {\\n          \\\"type\\\": \\\"map\\\",\\n          \\\"from\\\": {\\n            \\\"type\\\": \\\"axis\\\",\\n            \\\"anchor\\\": \\\"lhs\\\",\\n            \\\"select\\\": \\\"row\\\",\\n            \\\"label\\\": \\\"Fight Club\\\"\\n          },\\n          \\\"to\\\": {\\n            \\\"type\\\": \\\"axis\\\",\\n            \\\"anchor\\\": \\\"rhs\\\",\\n            \\\"select\\\": \\\"row\\\",\\n            \\\"label\\\": \\\"Fight Club\\\"\\n          }\\n        },\\n        {\\n          \\\"type\\\": \\\"map\\\",\\n          \\\"from\\\": {\\n            \\\"type\\\": \\\"axis\\\",\\n            \\\"anchor\\\": \\\"lhs\\\",\\n            \\\"select\\\": \\\"row\\\",\\n            \\\"label\\\": \\\"Pulp Fiction\\\"\\n          },\\n          \\\"to\\\": {\\n            \\\"type\\\": \\\"axis\\\",\\n            \\\"anchor\\\": \\\"rhs\\\",\\n            \\\"select\\\": \\\"row\\\",\\n            \\\"label\\\": \\\"Pulp Fiction\\\"\\n          }\\n        },\\n        {\\n          \\\"type\\\": \\\"map\\\",\\n          \\\"from\\\": {\\n            \\\"type\\\": \\\"axis\\\",\\n            \\\"anchor\\\": \\\"lhs\\\",\\n            \\\"select\\\": \\\"row\\\",\\n            \\\"label\\\": \\\"Schindler's List\\\"\\n          },\\n          \\\"to\\\": {\\n            \\\"type\\\": \\\"axis\\\",\\n            \\\"anchor\\\": \\\"rhs\\\",\\n            \\\"select\\\": \\\"row\\\",\\n            \\\"label\\\": \\\"Schindler's List\\\"\\n          }\\n        },\\n        {\\n          \\\"type\\\": \\\"map\\\",\\n          \\\"from\\\": {\\n            \\\"type\\\": \\\"axis\\\",\\n            \\\"anchor\\\": \\\"lhs\\\",\\n            \\\"select\\\": \\\"row\\\",\\n            \\\"label\\\": \\\"The Shawshank Redemption\\\"\\n          },\\n          \\\"to\\\": {\\n            \\\"type\\\": \\\"axis\\\",\\n            \\\"anchor\\\": \\\"rhs\\\",\\n            \\\"select\\\": \\\"row\\\",\\n            \\\"label\\\": \\\"The Shawshank Redemption\\\"\\n          }\\n        }\\n      ],\\n      \\\"data\\\": {\\n        \\\"lhs\\\": \\\"prev_rhs\\\",\\n        \\\"rhs\\\": {\\n          \\\"type\\\": \\\"DataFrame\\\",\\n          \\\"columns\\\": {\\n            \\\"names\\\": [\\n              null\\n            ],\\n            \\\"labels\\\": [\\n              \\\"Votes\\\",\\n              \\\"Rating\\\",\\n              \\\"Year\\\",\\n              \\\"Decade\\\"\\n            ]\\n          },\\n          \\\"index\\\": {\\n            \\\"names\\\": [\\n              \\\"Title\\\"\\n            ],\\n            \\\"labels\\\": [\\n              \\\"The Shawshank Redemption\\\",\\n              \\\"Schindler's List\\\",\\n              \\\"Pulp Fiction\\\",\\n              \\\"Fight Club\\\",\\n              \\\"Goodfellas\\\",\\n              \\\"The Matrix\\\",\\n              \\\"Forrest Gump\\\",\\n              \\\"La vita \\\\u00e8 bella\\\",\\n              \\\"Se7en\\\",\\n              \\\"L\\\\u00e9on\\\",\\n              \\\"The Usual Suspects\\\",\\n              \\\"The Silence of the Lambs\\\",\\n              \\\"The Green Mile\\\",\\n              \\\"Saving Private Ryan\\\",\\n              \\\"Terminator 2: Judgment Day\\\",\\n              \\\"American History X\\\",\\n              \\\"American Beauty\\\",\\n              \\\"Mononoke-hime\\\",\\n              \\\"The Lion King\\\",\\n              \\\"Unforgiven\\\",\\n              \\\"Reservoir Dogs\\\",\\n              \\\"L.A. Confidential\\\",\\n              \\\"Braveheart\\\",\\n              \\\"Toy Story\\\",\\n              \\\"Heat\\\",\\n              \\\"The Big Lebowski\\\",\\n              \\\"Lock, Stock and Two Smoking Barrels (1998)\\\",\\n              \\\"Casino\\\",\\n              \\\"Good Will Hunting\\\",\\n              \\\"Fargo\\\",\\n              \\\"Trainspotting\\\",\\n              \\\"The Sixth Sense\\\",\\n              \\\"In the Name of the Father\\\",\\n              \\\"Twelve Monkeys\\\",\\n              \\\"The Truman Show\\\",\\n              \\\"Jurassic Park\\\",\\n              \\\"Trois couleurs: Rouge\\\",\\n              \\\"Beauty and the Beast\\\",\\n              \\\"Groundhog Day\\\",\\n              \\\"La haine\\\",\\n              \\\"Before Sunrise\\\",\\n              \\\"Underground\\\"\\n            ]\\n          },\\n          \\\"data\\\": [\\n            [\\n              1498733.0,\\n              9.2,\\n              1994.0,\\n              1990.0\\n            ],\\n            [\\n              761224.0,\\n              8.9,\\n              1993.0,\\n              1990.0\\n            ],\\n            [\\n              1166532.0,\\n              8.9,\\n              1994.0,\\n              1990.0\\n            ],\\n            [\\n              1177098.0,\\n              8.8,\\n              1999.0,\\n              1990.0\\n            ],\\n            [\\n              644556.0,\\n              8.7,\\n              1990.0,\\n              1990.0\\n            ],\\n            [\\n              1073043.0,\\n              8.7,\\n              1999.0,\\n              1990.0\\n            ],\\n            [\\n              1078416.0,\\n              8.7,\\n              1994.0,\\n              1990.0\\n            ],\\n            [\\n              358305.0,\\n              8.6,\\n              1997.0,\\n              1990.0\\n            ],\\n            [\\n              895411.0,\\n              8.6,\\n              1995.0,\\n              1990.0\\n            ],\\n            [\\n              635139.0,\\n              8.6,\\n              1994.0,\\n              1990.0\\n            ],\\n            [\\n              656756.0,\\n              8.6,\\n              1995.0,\\n              1990.0\\n            ],\\n            [\\n              767224.0,\\n              8.6,\\n              1991.0,\\n              1990.0\\n            ],\\n            [\\n              672878.0,\\n              8.5,\\n              1999.0,\\n              1990.0\\n            ],\\n            [\\n              769893.0,\\n              8.5,\\n              1998.0,\\n              1990.0\\n            ],\\n            [\\n              658564.0,\\n              8.5,\\n              1991.0,\\n              1990.0\\n            ],\\n            [\\n              694602.0,\\n              8.5,\\n              1998.0,\\n              1990.0\\n            ],\\n            [\\n              735056.0,\\n              8.4,\\n              1999.0,\\n              1990.0\\n            ],\\n            [\\n              192165.0,\\n              8.4,\\n              1997.0,\\n              1990.0\\n            ],\\n            [\\n              548750.0,\\n              8.4,\\n              1994.0,\\n              1990.0\\n            ],\\n            [\\n              248514.0,\\n              8.3,\\n              1992.0,\\n              1990.0\\n            ],\\n            [\\n              578684.0,\\n              8.3,\\n              1992.0,\\n              1990.0\\n            ],\\n            [\\n              376590.0,\\n              8.3,\\n              1997.0,\\n              1990.0\\n            ],\\n            [\\n              653769.0,\\n              8.3,\\n              1995.0,\\n              1990.0\\n            ],\\n            [\\n              535249.0,\\n              8.3,\\n              1995.0,\\n              1990.0\\n            ],\\n            [\\n              388239.0,\\n              8.2,\\n              1995.0,\\n              1990.0\\n            ],\\n            [\\n              473988.0,\\n              8.2,\\n              1998.0,\\n              1990.0\\n            ],\\n            [\\n              372863.0,\\n              8.2,\\n              1998.0,\\n              1990.0\\n            ],\\n            [\\n              294394.0,\\n              8.2,\\n              1995.0,\\n              1990.0\\n            ],\\n            [\\n              529800.0,\\n              8.2,\\n              1997.0,\\n              1990.0\\n            ],\\n            [\\n              395997.0,\\n              8.1,\\n              1996.0,\\n              1990.0\\n            ],\\n            [\\n              419372.0,\\n              8.1,\\n              1996.0,\\n              1990.0\\n            ],\\n            [\\n              630994.0,\\n              8.1,\\n              1999.0,\\n              1990.0\\n            ],\\n            [\\n              95212.0,\\n              8.1,\\n              1993.0,\\n              1990.0\\n            ],\\n            [\\n              415809.0,\\n              8.0,\\n              1995.0,\\n              1990.0\\n            ],\\n            [\\n              583004.0,\\n              8.0,\\n              1998.0,\\n              1990.0\\n            ],\\n            [\\n              520391.0,\\n              8.0,\\n              1993.0,\\n              1990.0\\n            ],\\n            [\\n              57644.0,\\n              8.0,\\n              1994.0,\\n              1990.0\\n            ],\\n            [\\n              268480.0,\\n              8.0,\\n              1991.0,\\n              1990.0\\n            ],\\n            [\\n              384272.0,\\n              8.0,\\n              1993.0,\\n              1990.0\\n            ],\\n            [\\n              90937.0,\\n              8.0,\\n              1995.0,\\n              1990.0\\n            ],\\n            [\\n              158867.0,\\n              8.0,\\n              1995.0,\\n              1990.0\\n            ],\\n            [\\n              39447.0,\\n              8.0,\\n              1995.0,\\n              1990.0\\n            ]\\n          ]\\n        }\\n      }\\n    },\\n    {\\n      \\\"type\\\": \\\"Subscript\\\",\\n      \\\"code_step\\\": \\\"imdb[imdb.get('Decade') == 1990].sort_values('Rating', ascending=False).index[0]\\\",\\n      \\\"fragment\\\": {\\n        \\\"start\\\": {\\n          \\\"line\\\": 0,\\n          \\\"ch\\\": 77\\n        },\\n        \\\"end\\\": {\\n          \\\"line\\\": 0,\\n          \\\"ch\\\": 80\\n        }\\n      },\\n      \\\"marks\\\": [\\n        {\\n          \\\"type\\\": \\\"map\\\",\\n          \\\"from\\\": {\\n            \\\"type\\\": \\\"cell\\\",\\n            \\\"anchor\\\": \\\"lhs\\\",\\n            \\\"row\\\": 0,\\n            \\\"column\\\": null\\n          },\\n          \\\"to\\\": {\\n            \\\"type\\\": \\\"scalar\\\",\\n            \\\"anchor\\\": \\\"rhs\\\"\\n          }\\n        }\\n      ],\\n      \\\"data\\\": {\\n        \\\"lhs\\\": \\\"prev_rhs\\\",\\n        \\\"rhs\\\": {\\n          \\\"type\\\": \\\"Scalar\\\",\\n          \\\"py_type\\\": \\\"<class 'str'>\\\",\\n          \\\"data\\\": \\\"The Shawshank Redemption\\\"\\n        }\\n      }\\n    }\\n  ]\\n}\", {\"nohover\": true, \"maxDisplayRows\": 7, \"maxDisplayCols\": 5, \"colorPalette\": [\"#e41a1c\", \"#377eb8\", \"#4daf4a\", \"#984ea3\", \"#ff7f00\", \"#a65628\", \"#f781bf\", \"#999999\"]});\n",
       "</script>\n"
      ],
      "text/plain": [
       "<IPython.core.display.HTML object>"
      ]
     },
     "metadata": {},
     "output_type": "display_data"
    }
   ],
   "source": [
    "%%pt\n",
    "imdb[imdb.get('Decade') == 1990].sort_values('Rating', ascending=False).index[0]"
   ]
  },
  {
   "cell_type": "markdown",
   "metadata": {
    "slideshow": {
     "slide_type": "fragment"
    }
   },
   "source": [
    "_Nota:_ O comando para extrair o índice de um DataFrame é `.index` - sem parênteses! Isso é diferente da maneira como extraímos colunas, com `.get()`, porque o índice não é uma coluna."
   ]
  },
  {
   "cell_type": "markdown",
   "metadata": {
    "slideshow": {
     "slide_type": "slide"
    }
   },
   "source": [
    "#### Com agrupamento"
   ]
  },
  {
   "cell_type": "code",
   "execution_count": 37,
   "metadata": {
    "execution": {
     "iopub.execute_input": "2024-03-28T17:44:12.085163Z",
     "iopub.status.busy": "2024-03-28T17:44:12.084632Z",
     "iopub.status.idle": "2024-03-28T17:44:12.157451Z",
     "shell.execute_reply": "2024-03-28T17:44:12.156760Z"
    }
   },
   "outputs": [
    {
     "data": {
      "text/html": [
       "\n",
       "<div class=\"pt-viz\" id=\"pt-viz-3\"></div>\n",
       "<script>\n",
       "drawWsv('#pt-viz-3', \"{\\n  \\\"code\\\": \\\"imdb.reset_index().groupby('Decade').max()\\\\n\\\",\\n  \\\"explanation\\\": [\\n    {\\n      \\\"type\\\": \\\"ResetIndexCall\\\",\\n      \\\"code_step\\\": \\\"imdb.reset_index().groupby('Decade').max()\\\",\\n      \\\"fragment\\\": {\\n        \\\"start\\\": {\\n          \\\"line\\\": 0,\\n          \\\"ch\\\": 4\\n        },\\n        \\\"end\\\": {\\n          \\\"line\\\": 0,\\n          \\\"ch\\\": 18\\n        }\\n      },\\n      \\\"marks\\\": [\\n        {\\n          \\\"type\\\": \\\"map\\\",\\n          \\\"from\\\": {\\n            \\\"type\\\": \\\"index_level\\\",\\n            \\\"anchor\\\": \\\"lhs\\\",\\n            \\\"select\\\": \\\"row\\\",\\n            \\\"level\\\": 0\\n          },\\n          \\\"to\\\": {\\n            \\\"type\\\": \\\"axis\\\",\\n            \\\"anchor\\\": \\\"rhs\\\",\\n            \\\"select\\\": \\\"column\\\",\\n            \\\"label\\\": \\\"Title\\\"\\n          }\\n        }\\n      ],\\n      \\\"data\\\": {\\n        \\\"lhs\\\": {\\n          \\\"type\\\": \\\"DataFrame\\\",\\n          \\\"columns\\\": {\\n            \\\"names\\\": [\\n              null\\n            ],\\n            \\\"labels\\\": [\\n              \\\"Votes\\\",\\n              \\\"Rating\\\",\\n              \\\"Year\\\",\\n              \\\"Decade\\\"\\n            ]\\n          },\\n          \\\"index\\\": {\\n            \\\"names\\\": [\\n              \\\"Title\\\"\\n            ],\\n            \\\"labels\\\": [\\n              \\\"Akira\\\",\\n              \\\"Per un pugno di dollari\\\",\\n              \\\"Guardians of the Galaxy\\\",\\n              \\\"The Man Who Shot Liberty Valance\\\",\\n              \\\"Underground\\\",\\n              \\\"Le samoura\\\\u00ef\\\",\\n              \\\"Beauty and the Beast\\\",\\n              \\\"La strada\\\",\\n              \\\"The Avengers\\\",\\n              \\\"The King's Speech\\\",\\n              \\\"Barry Lyndon\\\",\\n              \\\"Dog Day Afternoon\\\",\\n              \\\"The Imitation Game\\\",\\n              \\\"The Truman Show\\\",\\n              \\\"Roman Holiday\\\",\\n              \\\"The Hustler\\\",\\n              \\\"X-Men: Days of Future Past\\\",\\n              \\\"High Noon\\\",\\n              \\\"Before Sunset\\\",\\n              \\\"Monsters, Inc. (2001)\\\",\\n              \\\"Harry Potter and the Deathly Hallows: Part 2\\\",\\n              \\\"Lagaan: Once Upon a Time in India\\\",\\n              \\\"Jurassic Park\\\",\\n              \\\"Trois couleurs: Rouge\\\",\\n              \\\"Fanny och Alexander\\\",\\n              \\\"The Help\\\",\\n              \\\"Who's Afraid of Virginia Woolf?\\\",\\n              \\\"The Terminator\\\",\\n              \\\"Twelve Monkeys\\\",\\n              \\\"Kumonosu-j\\\\u00f4\\\",\\n              \\\"Groundhog Day\\\",\\n              \\\"Yip Man\\\",\\n              \\\"Notorious\\\",\\n              \\\"Pirates of the Caribbean: The Curse of the Black Pearl\\\",\\n              \\\"La haine\\\",\\n              \\\"Mou gaan dou\\\",\\n              \\\"Salinui chueok\\\",\\n              \\\"The Big Sleep\\\",\\n              \\\"Paris, Texas (1984)\\\",\\n              \\\"Rocky\\\",\\n              \\\"Prisoners\\\",\\n              \\\"The Killing\\\",\\n              \\\"The Night of the Hunter\\\",\\n              \\\"La battaglia di Algeri\\\",\\n              \\\"Bom yeoreum gaeul gyeoul geurigo bom\\\",\\n              \\\"Papillon\\\",\\n              \\\"Before Sunrise\\\",\\n              \\\"Tenk\\\\u00fb no shiro Rapyuta\\\",\\n              \\\"Jaws\\\",\\n              \\\"Relatos salvajes\\\",\\n              \\\"Incendies\\\",\\n              \\\"Hachi: A Dog's Tale\\\",\\n              \\\"The Best Years of Our Lives\\\",\\n              \\\"The Wizard of Oz\\\",\\n              \\\"Cool Hand Luke\\\",\\n              \\\"In the Name of the Father\\\",\\n              \\\"The Grapes of Wrath\\\",\\n              \\\"A Beautiful Mind\\\",\\n              \\\"Donnie Darko\\\",\\n              \\\"Mary and Max\\\",\\n              \\\"Stand by Me\\\",\\n              \\\"The Grand Budapest Hotel\\\",\\n              \\\"Butch Cassidy and the Sundance Kid\\\",\\n              \\\"The Sixth Sense\\\",\\n              \\\"The Thing\\\",\\n              \\\"Le salaire de la peur\\\",\\n              \\\"Persona\\\",\\n              \\\"Annie Hall\\\",\\n              \\\"Ben-Hur\\\",\\n              \\\"8\\\\u00bd\\\",\\n              \\\"Fargo\\\",\\n              \\\"Strangers on a Train\\\",\\n              \\\"Gone Girl\\\",\\n              \\\"Million Dollar Baby\\\",\\n              \\\"Network\\\",\\n              \\\"It Happened One Night\\\",\\n              \\\"Trainspotting\\\",\\n              \\\"Les diaboliques\\\",\\n              \\\"There Will Be Blood\\\",\\n              \\\"The Princess Bride\\\",\\n              \\\"Dial M for Murder\\\",\\n              \\\"Hotel Rwanda\\\",\\n              \\\"Sin City\\\",\\n              \\\"The Deer Hunter\\\",\\n              \\\"How to Train Your Dragon\\\",\\n              \\\"Into the Wild\\\",\\n              \\\"Rush (2013/I)\\\",\\n              \\\"Gandhi\\\",\\n              \\\"The Maltese Falcon\\\",\\n              \\\"Amores perros\\\",\\n              \\\"12 Years a Slave\\\",\\n              \\\"The Bourne Ultimatum\\\",\\n              \\\"Kaze no tani no Naushika\\\",\\n              \\\"Platoon\\\",\\n              \\\"Finding Nemo\\\",\\n              \\\"Stalker\\\",\\n              \\\"Life of Brian\\\",\\n              \\\"Gone with the Wind\\\",\\n              \\\"Touch of Evil\\\",\\n              \\\"No Country for Old Men\\\",\\n              \\\"Les quatre cents coups\\\",\\n              \\\"Shutter Island\\\",\\n              \\\"Kill Bill: Vol. 1\\\",\\n              \\\"El secreto de sus ojos\\\",\\n              \\\"Gran Torino\\\",\\n              \\\"Smultronst\\\\u00e4llet\\\",\\n              \\\"Good Will Hunting\\\",\\n              \\\"Jagten\\\",\\n              \\\"The Bridge on the River Kwai\\\",\\n              \\\"The Elephant Man\\\",\\n              \\\"Casino\\\",\\n              \\\"Lock, Stock and Two Smoking Barrels (1998)\\\",\\n              \\\"The Wolf of Wall Street\\\",\\n              \\\"Tonari no Totoro\\\",\\n              \\\"3 Idiots\\\",\\n              \\\"The General\\\",\\n              \\\"Judgment at Nuremberg\\\",\\n              \\\"The Gold Rush\\\",\\n              \\\"The Big Lebowski\\\",\\n              \\\"The Great Escape\\\",\\n              \\\"Up\\\",\\n              \\\"Warrior\\\",\\n              \\\"Ran\\\",\\n              \\\"Der Untergang\\\",\\n              \\\"Hauru no ugoku shiro\\\",\\n              \\\"V for Vendetta\\\",\\n              \\\"Chinatown\\\",\\n              \\\"El laberinto del fauno\\\",\\n              \\\"Blade Runner\\\",\\n              \\\"On the Waterfront\\\",\\n              \\\"Raging Bull\\\",\\n              \\\"Det sjunde inseglet\\\",\\n              \\\"Ikiru\\\",\\n              \\\"Mr. Smith Goes to Washington\\\",\\n              \\\"Rebecca\\\",\\n              \\\"Heat\\\",\\n              \\\"Die Hard\\\",\\n              \\\"Per qualche dollaro in pi\\\\u00f9\\\",\\n              \\\"Mad Max: Fury Road\\\",\\n              \\\"Monty Python and the Holy Grail\\\",\\n              \\\"Witness for the Prosecution\\\",\\n              \\\"A Clockwork Orange\\\",\\n              \\\"The Third Man\\\",\\n              \\\"Braveheart\\\",\\n              \\\"Amadeus\\\",\\n              \\\"Indiana Jones and the Last Crusade\\\",\\n              \\\"The Kid\\\",\\n              \\\"Y\\\\u00f4jinb\\\\u00f4\\\",\\n              \\\"Jodaeiye Nader az Simin\\\",\\n              \\\"Eternal Sunshine of the Spotless Mind\\\",\\n              \\\"The Apartment\\\",\\n              \\\"Requiem for a Dream\\\",\\n              \\\"Rash\\\\u00f4mon\\\",\\n              \\\"Toy Story 3\\\",\\n              \\\"Double Indemnity\\\",\\n              \\\"Metropolis\\\",\\n              \\\"L.A. Confidential\\\",\\n              \\\"Snatch.\\\",\\n              \\\"Lawrence of Arabia\\\",\\n              \\\"2001: A Space Odyssey\\\",\\n              \\\"The Sting\\\",\\n              \\\"The Treasure of the Sierra Madre\\\",\\n              \\\"Ladri di biciclette\\\",\\n              \\\"Toy Story\\\",\\n              \\\"Inglourious Basterds\\\",\\n              \\\"Singin' in the Rain\\\",\\n              \\\"All About Eve\\\",\\n              \\\"To Kill a Mockingbird\\\",\\n              \\\"Scarface\\\",\\n              \\\"Full Metal Jacket\\\",\\n              \\\"Taxi Driver\\\",\\n              \\\"Reservoir Dogs\\\",\\n              \\\"Unforgiven\\\",\\n              \\\"Some Like It Hot\\\",\\n              \\\"Batman Begins\\\",\\n              \\\"The Great Dictator\\\",\\n              \\\"The Shining\\\",\\n              \\\"Nuovo Cinema Paradiso\\\",\\n              \\\"The Dark Knight Rises\\\",\\n              \\\"WALL\\\\u00b7E\\\",\\n              \\\"Citizen Kane\\\",\\n              \\\"Once Upon a Time in America\\\",\\n              \\\"The Lion King\\\",\\n              \\\"Das Leben der Anderen\\\",\\n              \\\"Oldeuboi\\\",\\n              \\\"Mononoke-hime\\\",\\n              \\\"Vertigo\\\",\\n              \\\"Das Boot\\\",\\n              \\\"M\\\",\\n              \\\"Star Wars: Episode VI - Return of the Jedi\\\",\\n              \\\"Le fabuleux destin d'Am\\\\u00e9lie Poulain\\\",\\n              \\\"American Beauty\\\",\\n              \\\"Django Unchained\\\",\\n              \\\"North by Northwest\\\",\\n              \\\"Aliens\\\",\\n              \\\"Paths of Glory\\\",\\n              \\\"Hotaru no haka\\\",\\n              \\\"American History X\\\",\\n              \\\"City Lights\\\",\\n              \\\"Rear Window\\\",\\n              \\\"Dr. Strangelove or: How I Learned to Stop Worrying and Love the Bomb\\\",\\n              \\\"Terminator 2: Judgment Day\\\",\\n              \\\"Inside Out (2015/I)\\\",\\n              \\\"Sen to Chihiro no Kamikakushi\\\",\\n              \\\"Casablanca\\\",\\n              \\\"Back to the Future\\\",\\n              \\\"Modern Times\\\",\\n              \\\"Saving Private Ryan\\\",\\n              \\\"Gladiator\\\",\\n              \\\"Raiders of the Lost Ark\\\",\\n              \\\"Intouchables\\\",\\n              \\\"Psycho\\\",\\n              \\\"Whiplash\\\",\\n              \\\"The Green Mile\\\",\\n              \\\"Memento\\\",\\n              \\\"The Prestige\\\",\\n              \\\"The Departed\\\",\\n              \\\"The Pianist\\\",\\n              \\\"Alien\\\",\\n              \\\"Apocalypse Now\\\",\\n              \\\"Sunset Blvd.\\\",\\n              \\\"Se7en\\\",\\n              \\\"La vita \\\\u00e8 bella\\\",\\n              \\\"Interstellar\\\",\\n              \\\"It's a Wonderful Life\\\",\\n              \\\"Cidade de Deus\\\",\\n              \\\"L\\\\u00e9on\\\",\\n              \\\"C'era una volta il West\\\",\\n              \\\"The Usual Suspects\\\",\\n              \\\"The Silence of the Lambs\\\",\\n              \\\"Forrest Gump\\\",\\n              \\\"The Lord of the Rings: The Two Towers\\\",\\n              \\\"Star Wars: Episode V - The Empire Strikes Back\\\",\\n              \\\"The Matrix\\\",\\n              \\\"Star Wars\\\",\\n              \\\"Goodfellas\\\",\\n              \\\"One Flew Over the Cuckoo's Nest\\\",\\n              \\\"Shichinin no samurai\\\",\\n              \\\"Inception\\\",\\n              \\\"Fight Club\\\",\\n              \\\"The Lord of the Rings: The Fellowship of the Ring\\\",\\n              \\\"Pulp Fiction\\\",\\n              \\\"The Dark Knight\\\",\\n              \\\"Il buono, il brutto, il cattivo (1966)\\\",\\n              \\\"The Lord of the Rings: The Return of the King\\\",\\n              \\\"Schindler's List\\\",\\n              \\\"12 Angry Men\\\",\\n              \\\"The Godfather: Part II\\\",\\n              \\\"The Shawshank Redemption\\\",\\n              \\\"The Godfather\\\"\\n            ]\\n          },\\n          \\\"data\\\": [\\n            [\\n              91652.0,\\n              8.0,\\n              1988.0,\\n              1980.0\\n            ],\\n            [\\n              124671.0,\\n              8.0,\\n              1964.0,\\n              1960.0\\n            ],\\n            [\\n              527349.0,\\n              8.0,\\n              2014.0,\\n              2010.0\\n            ],\\n            [\\n              49135.0,\\n              8.0,\\n              1962.0,\\n              1960.0\\n            ],\\n            [\\n              39447.0,\\n              8.0,\\n              1995.0,\\n              1990.0\\n            ],\\n            [\\n              28012.0,\\n              8.0,\\n              1967.0,\\n              1960.0\\n            ],\\n            [\\n              268480.0,\\n              8.0,\\n              1991.0,\\n              1990.0\\n            ],\\n            [\\n              42446.0,\\n              8.0,\\n              1954.0,\\n              1950.0\\n            ],\\n            [\\n              862016.0,\\n              8.0,\\n              2012.0,\\n              2010.0\\n            ],\\n            [\\n              434906.0,\\n              8.0,\\n              2010.0,\\n              2010.0\\n            ],\\n            [\\n              89920.0,\\n              8.0,\\n              1975.0,\\n              1970.0\\n            ],\\n            [\\n              164419.0,\\n              8.0,\\n              1975.0,\\n              1970.0\\n            ],\\n            [\\n              321834.0,\\n              8.0,\\n              2014.0,\\n              2010.0\\n            ],\\n            [\\n              583004.0,\\n              8.0,\\n              1998.0,\\n              1990.0\\n            ],\\n            [\\n              87437.0,\\n              8.0,\\n              1953.0,\\n              1950.0\\n            ],\\n            [\\n              57842.0,\\n              8.0,\\n              1961.0,\\n              1960.0\\n            ],\\n            [\\n              427099.0,\\n              8.0,\\n              2014.0,\\n              2010.0\\n            ],\\n            [\\n              72007.0,\\n              8.0,\\n              1952.0,\\n              1950.0\\n            ],\\n            [\\n              147277.0,\\n              8.0,\\n              2004.0,\\n              2000.0\\n            ],\\n            [\\n              500576.0,\\n              8.0,\\n              2001.0,\\n              2000.0\\n            ],\\n            [\\n              466111.0,\\n              8.0,\\n              2011.0,\\n              2010.0\\n            ],\\n            [\\n              59377.0,\\n              8.0,\\n              2001.0,\\n              2000.0\\n            ],\\n            [\\n              520391.0,\\n              8.0,\\n              1993.0,\\n              1990.0\\n            ],\\n            [\\n              57644.0,\\n              8.0,\\n              1994.0,\\n              1990.0\\n            ],\\n            [\\n              37972.0,\\n              8.0,\\n              1982.0,\\n              1980.0\\n            ],\\n            [\\n              282774.0,\\n              8.0,\\n              2011.0,\\n              2010.0\\n            ],\\n            [\\n              50208.0,\\n              8.0,\\n              1966.0,\\n              1960.0\\n            ],\\n            [\\n              527274.0,\\n              8.0,\\n              1984.0,\\n              1980.0\\n            ],\\n            [\\n              415809.0,\\n              8.0,\\n              1995.0,\\n              1990.0\\n            ],\\n            [\\n              26012.0,\\n              8.0,\\n              1957.0,\\n              1950.0\\n            ],\\n            [\\n              384272.0,\\n              8.0,\\n              1993.0,\\n              1990.0\\n            ],\\n            [\\n              138240.0,\\n              8.0,\\n              2008.0,\\n              2000.0\\n            ],\\n            [\\n              66622.0,\\n              8.0,\\n              1946.0,\\n              1940.0\\n            ],\\n            [\\n              718645.0,\\n              8.0,\\n              2003.0,\\n              2000.0\\n            ],\\n            [\\n              90937.0,\\n              8.0,\\n              1995.0,\\n              1990.0\\n            ],\\n            [\\n              82440.0,\\n              8.0,\\n              2002.0,\\n              2000.0\\n            ],\\n            [\\n              54651.0,\\n              8.0,\\n              2003.0,\\n              2000.0\\n            ],\\n            [\\n              59578.0,\\n              8.0,\\n              1946.0,\\n              1940.0\\n            ],\\n            [\\n              43090.0,\\n              8.0,\\n              1984.0,\\n              1980.0\\n            ],\\n            [\\n              318041.0,\\n              8.0,\\n              1976.0,\\n              1970.0\\n            ],\\n            [\\n              312516.0,\\n              8.0,\\n              2013.0,\\n              2010.0\\n            ],\\n            [\\n              56671.0,\\n              8.0,\\n              1956.0,\\n              1950.0\\n            ],\\n            [\\n              57974.0,\\n              8.0,\\n              1955.0,\\n              1950.0\\n            ],\\n            [\\n              32385.0,\\n              8.0,\\n              1966.0,\\n              1960.0\\n            ],\\n            [\\n              55382.0,\\n              8.0,\\n              2003.0,\\n              2000.0\\n            ],\\n            [\\n              87591.0,\\n              8.0,\\n              1973.0,\\n              1970.0\\n            ],\\n            [\\n              158867.0,\\n              8.0,\\n              1995.0,\\n              1990.0\\n            ],\\n            [\\n              83941.0,\\n              8.0,\\n              1986.0,\\n              1980.0\\n            ],\\n            [\\n              364225.0,\\n              8.0,\\n              1975.0,\\n              1970.0\\n            ],\\n            [\\n              46987.0,\\n              8.0,\\n              2014.0,\\n              2010.0\\n            ],\\n            [\\n              65122.0,\\n              8.1,\\n              2010.0,\\n              2010.0\\n            ],\\n            [\\n              121599.0,\\n              8.1,\\n              2009.0,\\n              2000.0\\n            ],\\n            [\\n              35983.0,\\n              8.1,\\n              1946.0,\\n              1940.0\\n            ],\\n            [\\n              259235.0,\\n              8.1,\\n              1939.0,\\n              1930.0\\n            ],\\n            [\\n              108128.0,\\n              8.1,\\n              1967.0,\\n              1960.0\\n            ],\\n            [\\n              95212.0,\\n              8.1,\\n              1993.0,\\n              1990.0\\n            ],\\n            [\\n              55793.0,\\n              8.1,\\n              1940.0,\\n              1940.0\\n            ],\\n            [\\n              525515.0,\\n              8.1,\\n              2001.0,\\n              2000.0\\n            ],\\n            [\\n              522119.0,\\n              8.1,\\n              2001.0,\\n              2000.0\\n            ],\\n            [\\n              102735.0,\\n              8.1,\\n              2009.0,\\n              2000.0\\n            ],\\n            [\\n              242381.0,\\n              8.1,\\n              1986.0,\\n              1980.0\\n            ],\\n            [\\n              369141.0,\\n              8.1,\\n              2014.0,\\n              2010.0\\n            ],\\n            [\\n              134552.0,\\n              8.1,\\n              1969.0,\\n              1960.0\\n            ],\\n            [\\n              630994.0,\\n              8.1,\\n              1999.0,\\n              1990.0\\n            ],\\n            [\\n              228230.0,\\n              8.1,\\n              1982.0,\\n              1980.0\\n            ],\\n            [\\n              31003.0,\\n              8.1,\\n              1953.0,\\n              1950.0\\n            ],\\n            [\\n              52573.0,\\n              8.1,\\n              1966.0,\\n              1960.0\\n            ],\\n            [\\n              169982.0,\\n              8.1,\\n              1977.0,\\n              1970.0\\n            ],\\n            [\\n              141768.0,\\n              8.1,\\n              1959.0,\\n              1950.0\\n            ],\\n            [\\n              69988.0,\\n              8.1,\\n              1963.0,\\n              1960.0\\n            ],\\n            [\\n              395997.0,\\n              8.1,\\n              1996.0,\\n              1990.0\\n            ],\\n            [\\n              85012.0,\\n              8.1,\\n              1951.0,\\n              1950.0\\n            ],\\n            [\\n              441174.0,\\n              8.1,\\n              2014.0,\\n              2010.0\\n            ],\\n            [\\n              424957.0,\\n              8.1,\\n              2004.0,\\n              2000.0\\n            ],\\n            [\\n              91689.0,\\n              8.1,\\n              1976.0,\\n              1970.0\\n            ],\\n            [\\n              56842.0,\\n              8.1,\\n              1934.0,\\n              1930.0\\n            ],\\n            [\\n              419372.0,\\n              8.1,\\n              1996.0,\\n              1990.0\\n            ],\\n            [\\n              36725.0,\\n              8.1,\\n              1955.0,\\n              1950.0\\n            ],\\n            [\\n              331348.0,\\n              8.1,\\n              2007.0,\\n              2000.0\\n            ],\\n            [\\n              264285.0,\\n              8.1,\\n              1987.0,\\n              1980.0\\n            ],\\n            [\\n              92244.0,\\n              8.1,\\n              1954.0,\\n              1950.0\\n            ],\\n            [\\n              237292.0,\\n              8.1,\\n              2004.0,\\n              2000.0\\n            ],\\n            [\\n              596880.0,\\n              8.1,\\n              2005.0,\\n              2000.0\\n            ],\\n            [\\n              209677.0,\\n              8.1,\\n              1978.0,\\n              1970.0\\n            ],\\n            [\\n              415845.0,\\n              8.1,\\n              2010.0,\\n              2010.0\\n            ],\\n            [\\n              372803.0,\\n              8.1,\\n              2007.0,\\n              2000.0\\n            ],\\n            [\\n              258882.0,\\n              8.1,\\n              2013.0,\\n              2010.0\\n            ],\\n            [\\n              151697.0,\\n              8.1,\\n              1982.0,\\n              1980.0\\n            ],\\n            [\\n              101754.0,\\n              8.1,\\n              1941.0,\\n              1940.0\\n            ],\\n            [\\n              156030.0,\\n              8.1,\\n              2000.0,\\n              2000.0\\n            ],\\n            [\\n              359121.0,\\n              8.1,\\n              2013.0,\\n              2010.0\\n            ],\\n            [\\n              433487.0,\\n              8.1,\\n              2007.0,\\n              2000.0\\n            ],\\n            [\\n              81809.0,\\n              8.1,\\n              1984.0,\\n              1980.0\\n            ],\\n            [\\n              262404.0,\\n              8.1,\\n              1986.0,\\n              1980.0\\n            ],\\n            [\\n              591219.0,\\n              8.1,\\n              2003.0,\\n              2000.0\\n            ],\\n            [\\n              59272.0,\\n              8.1,\\n              1979.0,\\n              1970.0\\n            ],\\n            [\\n              242886.0,\\n              8.1,\\n              1979.0,\\n              1970.0\\n            ],\\n            [\\n              192791.0,\\n              8.1,\\n              1939.0,\\n              1930.0\\n            ],\\n            [\\n              65408.0,\\n              8.1,\\n              1958.0,\\n              1950.0\\n            ],\\n            [\\n              540744.0,\\n              8.1,\\n              2007.0,\\n              2000.0\\n            ],\\n            [\\n              61776.0,\\n              8.1,\\n              1959.0,\\n              1950.0\\n            ],\\n            [\\n              670328.0,\\n              8.1,\\n              2010.0,\\n              2010.0\\n            ],\\n            [\\n              647120.0,\\n              8.1,\\n              2003.0,\\n              2000.0\\n            ],\\n            [\\n              109254.0,\\n              8.2,\\n              2009.0,\\n              2000.0\\n            ],\\n            [\\n              502773.0,\\n              8.2,\\n              2008.0,\\n              2000.0\\n            ],\\n            [\\n              55861.0,\\n              8.2,\\n              1957.0,\\n              1950.0\\n            ],\\n            [\\n              529800.0,\\n              8.2,\\n              1997.0,\\n              1990.0\\n            ],\\n            [\\n              137310.0,\\n              8.2,\\n              2012.0,\\n              2010.0\\n            ],\\n            [\\n              132677.0,\\n              8.2,\\n              1957.0,\\n              1950.0\\n            ],\\n            [\\n              145514.0,\\n              8.2,\\n              1980.0,\\n              1980.0\\n            ],\\n            [\\n              294394.0,\\n              8.2,\\n              1995.0,\\n              1990.0\\n            ],\\n            [\\n              372863.0,\\n              8.2,\\n              1998.0,\\n              1990.0\\n            ],\\n            [\\n              624943.0,\\n              8.2,\\n              2013.0,\\n              2010.0\\n            ],\\n            [\\n              142605.0,\\n              8.2,\\n              1988.0,\\n              1980.0\\n            ],\\n            [\\n              167076.0,\\n              8.2,\\n              2009.0,\\n              2000.0\\n            ],\\n            [\\n              46332.0,\\n              8.2,\\n              1926.0,\\n              1920.0\\n            ],\\n            [\\n              37664.0,\\n              8.2,\\n              1961.0,\\n              1960.0\\n            ],\\n            [\\n              58506.0,\\n              8.2,\\n              1925.0,\\n              1920.0\\n            ],\\n            [\\n              473988.0,\\n              8.2,\\n              1998.0,\\n              1990.0\\n            ],\\n            [\\n              147372.0,\\n              8.2,\\n              1963.0,\\n              1960.0\\n            ],\\n            [\\n              566091.0,\\n              8.2,\\n              2009.0,\\n              2000.0\\n            ],\\n            [\\n              287727.0,\\n              8.2,\\n              2011.0,\\n              2010.0\\n            ],\\n            [\\n              69287.0,\\n              8.2,\\n              1985.0,\\n              1980.0\\n            ],\\n            [\\n              223834.0,\\n              8.2,\\n              2004.0,\\n              2000.0\\n            ],\\n            [\\n              182525.0,\\n              8.2,\\n              2004.0,\\n              2000.0\\n            ],\\n            [\\n              700999.0,\\n              8.2,\\n              2005.0,\\n              2000.0\\n            ],\\n            [\\n              192744.0,\\n              8.2,\\n              1974.0,\\n              1970.0\\n            ],\\n            [\\n              416467.0,\\n              8.2,\\n              2006.0,\\n              2000.0\\n            ],\\n            [\\n              415615.0,\\n              8.2,\\n              1982.0,\\n              1980.0\\n            ],\\n            [\\n              89233.0,\\n              8.2,\\n              1954.0,\\n              1950.0\\n            ],\\n            [\\n              210647.0,\\n              8.2,\\n              1980.0,\\n              1980.0\\n            ],\\n            [\\n              98949.0,\\n              8.2,\\n              1957.0,\\n              1950.0\\n            ],\\n            [\\n              36638.0,\\n              8.2,\\n              1952.0,\\n              1950.0\\n            ],\\n            [\\n              69510.0,\\n              8.2,\\n              1939.0,\\n              1930.0\\n            ],\\n            [\\n              78216.0,\\n              8.2,\\n              1940.0,\\n              1940.0\\n            ],\\n            [\\n              388239.0,\\n              8.2,\\n              1995.0,\\n              1990.0\\n            ],\\n            [\\n              529287.0,\\n              8.2,\\n              1988.0,\\n              1980.0\\n            ],\\n            [\\n              135556.0,\\n              8.3,\\n              1965.0,\\n              1960.0\\n            ],\\n            [\\n              262425.0,\\n              8.3,\\n              2015.0,\\n              2010.0\\n            ],\\n            [\\n              343300.0,\\n              8.3,\\n              1975.0,\\n              1970.0\\n            ],\\n            [\\n              53186.0,\\n              8.3,\\n              1957.0,\\n              1950.0\\n            ],\\n            [\\n              489807.0,\\n              8.3,\\n              1971.0,\\n              1970.0\\n            ],\\n            [\\n              101785.0,\\n              8.3,\\n              1949.0,\\n              1940.0\\n            ],\\n            [\\n              653769.0,\\n              8.3,\\n              1995.0,\\n              1990.0\\n            ],\\n            [\\n              240308.0,\\n              8.3,\\n              1984.0,\\n              1980.0\\n            ],\\n            [\\n              453748.0,\\n              8.3,\\n              1989.0,\\n              1980.0\\n            ],\\n            [\\n              55784.0,\\n              8.3,\\n              1921.0,\\n              1920.0\\n            ],\\n            [\\n              65370.0,\\n              8.3,\\n              1961.0,\\n              1960.0\\n            ],\\n            [\\n              133760.0,\\n              8.3,\\n              2011.0,\\n              2010.0\\n            ],\\n            [\\n              589477.0,\\n              8.3,\\n              2004.0,\\n              2000.0\\n            ],\\n            [\\n              96190.0,\\n              8.3,\\n              1960.0,\\n              1960.0\\n            ],\\n            [\\n              511177.0,\\n              8.3,\\n              2000.0,\\n              2000.0\\n            ],\\n            [\\n              90434.0,\\n              8.3,\\n              1950.0,\\n              1950.0\\n            ],\\n            [\\n              470158.0,\\n              8.3,\\n              2010.0,\\n              2010.0\\n            ],\\n            [\\n              86715.0,\\n              8.3,\\n              1944.0,\\n              1940.0\\n            ],\\n            [\\n              98794.0,\\n              8.3,\\n              1927.0,\\n              1920.0\\n            ],\\n            [\\n              376590.0,\\n              8.3,\\n              1997.0,\\n              1990.0\\n            ],\\n            [\\n              536053.0,\\n              8.3,\\n              2000.0,\\n              2000.0\\n            ],\\n            [\\n              170302.0,\\n              8.3,\\n              1962.0,\\n              1960.0\\n            ],\\n            [\\n              373482.0,\\n              8.3,\\n              1968.0,\\n              1960.0\\n            ],\\n            [\\n              155691.0,\\n              8.3,\\n              1973.0,\\n              1970.0\\n            ],\\n            [\\n              71003.0,\\n              8.3,\\n              1948.0,\\n              1940.0\\n            ],\\n            [\\n              81887.0,\\n              8.3,\\n              1948.0,\\n              1940.0\\n            ],\\n            [\\n              535249.0,\\n              8.3,\\n              1995.0,\\n              1990.0\\n            ],\\n            [\\n              755013.0,\\n              8.3,\\n              2009.0,\\n              2000.0\\n            ],\\n            [\\n              132823.0,\\n              8.3,\\n              1952.0,\\n              1950.0\\n            ],\\n            [\\n              74178.0,\\n              8.3,\\n              1950.0,\\n              1950.0\\n            ],\\n            [\\n              188160.0,\\n              8.3,\\n              1962.0,\\n              1960.0\\n            ],\\n            [\\n              475594.0,\\n              8.3,\\n              1983.0,\\n              1980.0\\n            ],\\n            [\\n              425461.0,\\n              8.3,\\n              1987.0,\\n              1980.0\\n            ],\\n            [\\n              444534.0,\\n              8.3,\\n              1976.0,\\n              1970.0\\n            ],\\n            [\\n              578684.0,\\n              8.3,\\n              1992.0,\\n              1990.0\\n            ],\\n            [\\n              248514.0,\\n              8.3,\\n              1992.0,\\n              1990.0\\n            ],\\n            [\\n              156432.0,\\n              8.3,\\n              1959.0,\\n              1950.0\\n            ],\\n            [\\n              850601.0,\\n              8.3,\\n              2005.0,\\n              2000.0\\n            ],\\n            [\\n              117590.0,\\n              8.4,\\n              1940.0,\\n              1940.0\\n            ],\\n            [\\n              532559.0,\\n              8.4,\\n              1980.0,\\n              1980.0\\n            ],\\n            [\\n              132121.0,\\n              8.4,\\n              1988.0,\\n              1980.0\\n            ],\\n            [\\n              997350.0,\\n              8.4,\\n              2012.0,\\n              2010.0\\n            ],\\n            [\\n              618914.0,\\n              8.4,\\n              2008.0,\\n              2000.0\\n            ],\\n            [\\n              268905.0,\\n              8.4,\\n              1941.0,\\n              1940.0\\n            ],\\n            [\\n              195266.0,\\n              8.4,\\n              1984.0,\\n              1980.0\\n            ],\\n            [\\n              548750.0,\\n              8.4,\\n              1994.0,\\n              1990.0\\n            ],\\n            [\\n              229533.0,\\n              8.4,\\n              2006.0,\\n              2000.0\\n            ],\\n            [\\n              311070.0,\\n              8.4,\\n              2003.0,\\n              2000.0\\n            ],\\n            [\\n              192165.0,\\n              8.4,\\n              1997.0,\\n              1990.0\\n            ],\\n            [\\n              218430.0,\\n              8.4,\\n              1958.0,\\n              1950.0\\n            ],\\n            [\\n              151256.0,\\n              8.4,\\n              1981.0,\\n              1980.0\\n            ],\\n            [\\n              88355.0,\\n              8.4,\\n              1931.0,\\n              1930.0\\n            ],\\n            [\\n              556811.0,\\n              8.4,\\n              1983.0,\\n              1980.0\\n            ],\\n            [\\n              474068.0,\\n              8.4,\\n              2001.0,\\n              2000.0\\n            ],\\n            [\\n              735056.0,\\n              8.4,\\n              1999.0,\\n              1990.0\\n            ],\\n            [\\n              804729.0,\\n              8.4,\\n              2012.0,\\n              2010.0\\n            ],\\n            [\\n              198795.0,\\n              8.4,\\n              1959.0,\\n              1950.0\\n            ],\\n            [\\n              436218.0,\\n              8.4,\\n              1986.0,\\n              1980.0\\n            ],\\n            [\\n              106038.0,\\n              8.4,\\n              1957.0,\\n              1950.0\\n            ],\\n            [\\n              115740.0,\\n              8.4,\\n              1988.0,\\n              1980.0\\n            ],\\n            [\\n              694602.0,\\n              8.5,\\n              1998.0,\\n              1990.0\\n            ],\\n            [\\n              92375.0,\\n              8.5,\\n              1931.0,\\n              1930.0\\n            ],\\n            [\\n              280432.0,\\n              8.5,\\n              1954.0,\\n              1950.0\\n            ],\\n            [\\n              309141.0,\\n              8.5,\\n              1964.0,\\n              1960.0\\n            ],\\n            [\\n              658564.0,\\n              8.5,\\n              1991.0,\\n              1990.0\\n            ],\\n            [\\n              79615.0,\\n              8.5,\\n              2015.0,\\n              2010.0\\n            ],\\n            [\\n              357355.0,\\n              8.5,\\n              2001.0,\\n              2000.0\\n            ],\\n            [\\n              350551.0,\\n              8.5,\\n              1942.0,\\n              1940.0\\n            ],\\n            [\\n              625463.0,\\n              8.5,\\n              1985.0,\\n              1980.0\\n            ],\\n            [\\n              121668.0,\\n              8.5,\\n              1936.0,\\n              1930.0\\n            ],\\n            [\\n              769893.0,\\n              8.5,\\n              1998.0,\\n              1990.0\\n            ],\\n            [\\n              862216.0,\\n              8.5,\\n              2000.0,\\n              2000.0\\n            ],\\n            [\\n              585474.0,\\n              8.5,\\n              1981.0,\\n              1980.0\\n            ],\\n            [\\n              417122.0,\\n              8.5,\\n              2011.0,\\n              2010.0\\n            ],\\n            [\\n              371791.0,\\n              8.5,\\n              1960.0,\\n              1960.0\\n            ],\\n            [\\n              264333.0,\\n              8.5,\\n              2014.0,\\n              2010.0\\n            ],\\n            [\\n              672878.0,\\n              8.5,\\n              1999.0,\\n              1990.0\\n            ],\\n            [\\n              752122.0,\\n              8.5,\\n              2000.0,\\n              2000.0\\n            ],\\n            [\\n              733490.0,\\n              8.5,\\n              2006.0,\\n              2000.0\\n            ],\\n            [\\n              763871.0,\\n              8.5,\\n              2006.0,\\n              2000.0\\n            ],\\n            [\\n              431856.0,\\n              8.5,\\n              2002.0,\\n              2000.0\\n            ],\\n            [\\n              496833.0,\\n              8.5,\\n              1979.0,\\n              1970.0\\n            ],\\n            [\\n              403754.0,\\n              8.5,\\n              1979.0,\\n              1970.0\\n            ],\\n            [\\n              123879.0,\\n              8.5,\\n              1950.0,\\n              1950.0\\n            ],\\n            [\\n              895411.0,\\n              8.6,\\n              1995.0,\\n              1990.0\\n            ],\\n            [\\n              358305.0,\\n              8.6,\\n              1997.0,\\n              1990.0\\n            ],\\n            [\\n              689541.0,\\n              8.6,\\n              2014.0,\\n              2010.0\\n            ],\\n            [\\n              242353.0,\\n              8.6,\\n              1946.0,\\n              1940.0\\n            ],\\n            [\\n              476501.0,\\n              8.6,\\n              2002.0,\\n              2000.0\\n            ],\\n            [\\n              635139.0,\\n              8.6,\\n              1994.0,\\n              1990.0\\n            ],\\n            [\\n              192206.0,\\n              8.6,\\n              1968.0,\\n              1960.0\\n            ],\\n            [\\n              656756.0,\\n              8.6,\\n              1995.0,\\n              1990.0\\n            ],\\n            [\\n              767224.0,\\n              8.6,\\n              1991.0,\\n              1990.0\\n            ],\\n            [\\n              1078416.0,\\n              8.7,\\n              1994.0,\\n              1990.0\\n            ],\\n            [\\n              967389.0,\\n              8.7,\\n              2002.0,\\n              2000.0\\n            ],\\n            [\\n              700283.0,\\n              8.7,\\n              1980.0,\\n              1980.0\\n            ],\\n            [\\n              1073043.0,\\n              8.7,\\n              1999.0,\\n              1990.0\\n            ],\\n            [\\n              770011.0,\\n              8.7,\\n              1977.0,\\n              1970.0\\n            ],\\n            [\\n              644556.0,\\n              8.7,\\n              1990.0,\\n              1990.0\\n            ],\\n            [\\n              606395.0,\\n              8.7,\\n              1975.0,\\n              1970.0\\n            ],\\n            [\\n              206216.0,\\n              8.7,\\n              1954.0,\\n              1950.0\\n            ],\\n            [\\n              1271949.0,\\n              8.7,\\n              2010.0,\\n              2010.0\\n            ],\\n            [\\n              1177098.0,\\n              8.8,\\n              1999.0,\\n              1990.0\\n            ],\\n            [\\n              1099087.0,\\n              8.8,\\n              2001.0,\\n              2000.0\\n            ],\\n            [\\n              1166532.0,\\n              8.9,\\n              1994.0,\\n              1990.0\\n            ],\\n            [\\n              1473049.0,\\n              8.9,\\n              2008.0,\\n              2000.0\\n            ],\\n            [\\n              447875.0,\\n              8.9,\\n              1966.0,\\n              1960.0\\n            ],\\n            [\\n              1074146.0,\\n              8.9,\\n              2003.0,\\n              2000.0\\n            ],\\n            [\\n              761224.0,\\n              8.9,\\n              1993.0,\\n              1990.0\\n            ],\\n            [\\n              384187.0,\\n              8.9,\\n              1957.0,\\n              1950.0\\n            ],\\n            [\\n              692753.0,\\n              9.0,\\n              1974.0,\\n              1970.0\\n            ],\\n            [\\n              1498733.0,\\n              9.2,\\n              1994.0,\\n              1990.0\\n            ],\\n            [\\n              1027398.0,\\n              9.2,\\n              1972.0,\\n              1970.0\\n            ]\\n          ]\\n        },\\n        \\\"rhs\\\": {\\n          \\\"type\\\": \\\"DataFrame\\\",\\n          \\\"columns\\\": {\\n            \\\"names\\\": [\\n              null\\n            ],\\n            \\\"labels\\\": [\\n              \\\"Title\\\",\\n              \\\"Votes\\\",\\n              \\\"Rating\\\",\\n              \\\"Year\\\",\\n              \\\"Decade\\\"\\n            ]\\n          },\\n          \\\"index\\\": {\\n            \\\"names\\\": [\\n              null\\n            ],\\n            \\\"labels\\\": [\\n              0,\\n              1,\\n              2,\\n              3,\\n              4,\\n              5,\\n              6,\\n              7,\\n              8,\\n              9,\\n              10,\\n              11,\\n              12,\\n              13,\\n              14,\\n              15,\\n              16,\\n              17,\\n              18,\\n              19,\\n              20,\\n              21,\\n              22,\\n              23,\\n              24,\\n              25,\\n              26,\\n              27,\\n              28,\\n              29,\\n              30,\\n              31,\\n              32,\\n              33,\\n              34,\\n              35,\\n              36,\\n              37,\\n              38,\\n              39,\\n              40,\\n              41,\\n              42,\\n              43,\\n              44,\\n              45,\\n              46,\\n              47,\\n              48,\\n              49,\\n              50,\\n              51,\\n              52,\\n              53,\\n              54,\\n              55,\\n              56,\\n              57,\\n              58,\\n              59,\\n              60,\\n              61,\\n              62,\\n              63,\\n              64,\\n              65,\\n              66,\\n              67,\\n              68,\\n              69,\\n              70,\\n              71,\\n              72,\\n              73,\\n              74,\\n              75,\\n              76,\\n              77,\\n              78,\\n              79,\\n              80,\\n              81,\\n              82,\\n              83,\\n              84,\\n              85,\\n              86,\\n              87,\\n              88,\\n              89,\\n              90,\\n              91,\\n              92,\\n              93,\\n              94,\\n              95,\\n              96,\\n              97,\\n              98,\\n              99,\\n              100,\\n              101,\\n              102,\\n              103,\\n              104,\\n              105,\\n              106,\\n              107,\\n              108,\\n              109,\\n              110,\\n              111,\\n              112,\\n              113,\\n              114,\\n              115,\\n              116,\\n              117,\\n              118,\\n              119,\\n              120,\\n              121,\\n              122,\\n              123,\\n              124,\\n              125,\\n              126,\\n              127,\\n              128,\\n              129,\\n              130,\\n              131,\\n              132,\\n              133,\\n              134,\\n              135,\\n              136,\\n              137,\\n              138,\\n              139,\\n              140,\\n              141,\\n              142,\\n              143,\\n              144,\\n              145,\\n              146,\\n              147,\\n              148,\\n              149,\\n              150,\\n              151,\\n              152,\\n              153,\\n              154,\\n              155,\\n              156,\\n              157,\\n              158,\\n              159,\\n              160,\\n              161,\\n              162,\\n              163,\\n              164,\\n              165,\\n              166,\\n              167,\\n              168,\\n              169,\\n              170,\\n              171,\\n              172,\\n              173,\\n              174,\\n              175,\\n              176,\\n              177,\\n              178,\\n              179,\\n              180,\\n              181,\\n              182,\\n              183,\\n              184,\\n              185,\\n              186,\\n              187,\\n              188,\\n              189,\\n              190,\\n              191,\\n              192,\\n              193,\\n              194,\\n              195,\\n              196,\\n              197,\\n              198,\\n              199,\\n              200,\\n              201,\\n              202,\\n              203,\\n              204,\\n              205,\\n              206,\\n              207,\\n              208,\\n              209,\\n              210,\\n              211,\\n              212,\\n              213,\\n              214,\\n              215,\\n              216,\\n              217,\\n              218,\\n              219,\\n              220,\\n              221,\\n              222,\\n              223,\\n              224,\\n              225,\\n              226,\\n              227,\\n              228,\\n              229,\\n              230,\\n              231,\\n              232,\\n              233,\\n              234,\\n              235,\\n              236,\\n              237,\\n              238,\\n              239,\\n              240,\\n              241,\\n              242,\\n              243,\\n              244,\\n              245,\\n              246,\\n              247,\\n              248,\\n              249\\n            ]\\n          },\\n          \\\"data\\\": [\\n            [\\n              \\\"Akira\\\",\\n              91652,\\n              8.0,\\n              1988,\\n              1980\\n            ],\\n            [\\n              \\\"Per un pugno di dollari\\\",\\n              124671,\\n              8.0,\\n              1964,\\n              1960\\n            ],\\n            [\\n              \\\"Guardians of the Galaxy\\\",\\n              527349,\\n              8.0,\\n              2014,\\n              2010\\n            ],\\n            [\\n              \\\"The Man Who Shot Liberty Valance\\\",\\n              49135,\\n              8.0,\\n              1962,\\n              1960\\n            ],\\n            [\\n              \\\"Underground\\\",\\n              39447,\\n              8.0,\\n              1995,\\n              1990\\n            ],\\n            [\\n              \\\"Le samoura\\\\u00ef\\\",\\n              28012,\\n              8.0,\\n              1967,\\n              1960\\n            ],\\n            [\\n              \\\"Beauty and the Beast\\\",\\n              268480,\\n              8.0,\\n              1991,\\n              1990\\n            ],\\n            [\\n              \\\"La strada\\\",\\n              42446,\\n              8.0,\\n              1954,\\n              1950\\n            ],\\n            [\\n              \\\"The Avengers\\\",\\n              862016,\\n              8.0,\\n              2012,\\n              2010\\n            ],\\n            [\\n              \\\"The King's Speech\\\",\\n              434906,\\n              8.0,\\n              2010,\\n              2010\\n            ],\\n            [\\n              \\\"Barry Lyndon\\\",\\n              89920,\\n              8.0,\\n              1975,\\n              1970\\n            ],\\n            [\\n              \\\"Dog Day Afternoon\\\",\\n              164419,\\n              8.0,\\n              1975,\\n              1970\\n            ],\\n            [\\n              \\\"The Imitation Game\\\",\\n              321834,\\n              8.0,\\n              2014,\\n              2010\\n            ],\\n            [\\n              \\\"The Truman Show\\\",\\n              583004,\\n              8.0,\\n              1998,\\n              1990\\n            ],\\n            [\\n              \\\"Roman Holiday\\\",\\n              87437,\\n              8.0,\\n              1953,\\n              1950\\n            ],\\n            [\\n              \\\"The Hustler\\\",\\n              57842,\\n              8.0,\\n              1961,\\n              1960\\n            ],\\n            [\\n              \\\"X-Men: Days of Future Past\\\",\\n              427099,\\n              8.0,\\n              2014,\\n              2010\\n            ],\\n            [\\n              \\\"High Noon\\\",\\n              72007,\\n              8.0,\\n              1952,\\n              1950\\n            ],\\n            [\\n              \\\"Before Sunset\\\",\\n              147277,\\n              8.0,\\n              2004,\\n              2000\\n            ],\\n            [\\n              \\\"Monsters, Inc. (2001)\\\",\\n              500576,\\n              8.0,\\n              2001,\\n              2000\\n            ],\\n            [\\n              \\\"Harry Potter and the Deathly Hallows: Part 2\\\",\\n              466111,\\n              8.0,\\n              2011,\\n              2010\\n            ],\\n            [\\n              \\\"Lagaan: Once Upon a Time in India\\\",\\n              59377,\\n              8.0,\\n              2001,\\n              2000\\n            ],\\n            [\\n              \\\"Jurassic Park\\\",\\n              520391,\\n              8.0,\\n              1993,\\n              1990\\n            ],\\n            [\\n              \\\"Trois couleurs: Rouge\\\",\\n              57644,\\n              8.0,\\n              1994,\\n              1990\\n            ],\\n            [\\n              \\\"Fanny och Alexander\\\",\\n              37972,\\n              8.0,\\n              1982,\\n              1980\\n            ],\\n            [\\n              \\\"The Help\\\",\\n              282774,\\n              8.0,\\n              2011,\\n              2010\\n            ],\\n            [\\n              \\\"Who's Afraid of Virginia Woolf?\\\",\\n              50208,\\n              8.0,\\n              1966,\\n              1960\\n            ],\\n            [\\n              \\\"The Terminator\\\",\\n              527274,\\n              8.0,\\n              1984,\\n              1980\\n            ],\\n            [\\n              \\\"Twelve Monkeys\\\",\\n              415809,\\n              8.0,\\n              1995,\\n              1990\\n            ],\\n            [\\n              \\\"Kumonosu-j\\\\u00f4\\\",\\n              26012,\\n              8.0,\\n              1957,\\n              1950\\n            ],\\n            [\\n              \\\"Groundhog Day\\\",\\n              384272,\\n              8.0,\\n              1993,\\n              1990\\n            ],\\n            [\\n              \\\"Yip Man\\\",\\n              138240,\\n              8.0,\\n              2008,\\n              2000\\n            ],\\n            [\\n              \\\"Notorious\\\",\\n              66622,\\n              8.0,\\n              1946,\\n              1940\\n            ],\\n            [\\n              \\\"Pirates of the Caribbean: The Curse of the Black Pearl\\\",\\n              718645,\\n              8.0,\\n              2003,\\n              2000\\n            ],\\n            [\\n              \\\"La haine\\\",\\n              90937,\\n              8.0,\\n              1995,\\n              1990\\n            ],\\n            [\\n              \\\"Mou gaan dou\\\",\\n              82440,\\n              8.0,\\n              2002,\\n              2000\\n            ],\\n            [\\n              \\\"Salinui chueok\\\",\\n              54651,\\n              8.0,\\n              2003,\\n              2000\\n            ],\\n            [\\n              \\\"The Big Sleep\\\",\\n              59578,\\n              8.0,\\n              1946,\\n              1940\\n            ],\\n            [\\n              \\\"Paris, Texas (1984)\\\",\\n              43090,\\n              8.0,\\n              1984,\\n              1980\\n            ],\\n            [\\n              \\\"Rocky\\\",\\n              318041,\\n              8.0,\\n              1976,\\n              1970\\n            ],\\n            [\\n              \\\"Prisoners\\\",\\n              312516,\\n              8.0,\\n              2013,\\n              2010\\n            ],\\n            [\\n              \\\"The Killing\\\",\\n              56671,\\n              8.0,\\n              1956,\\n              1950\\n            ],\\n            [\\n              \\\"The Night of the Hunter\\\",\\n              57974,\\n              8.0,\\n              1955,\\n              1950\\n            ],\\n            [\\n              \\\"La battaglia di Algeri\\\",\\n              32385,\\n              8.0,\\n              1966,\\n              1960\\n            ],\\n            [\\n              \\\"Bom yeoreum gaeul gyeoul geurigo bom\\\",\\n              55382,\\n              8.0,\\n              2003,\\n              2000\\n            ],\\n            [\\n              \\\"Papillon\\\",\\n              87591,\\n              8.0,\\n              1973,\\n              1970\\n            ],\\n            [\\n              \\\"Before Sunrise\\\",\\n              158867,\\n              8.0,\\n              1995,\\n              1990\\n            ],\\n            [\\n              \\\"Tenk\\\\u00fb no shiro Rapyuta\\\",\\n              83941,\\n              8.0,\\n              1986,\\n              1980\\n            ],\\n            [\\n              \\\"Jaws\\\",\\n              364225,\\n              8.0,\\n              1975,\\n              1970\\n            ],\\n            [\\n              \\\"Relatos salvajes\\\",\\n              46987,\\n              8.0,\\n              2014,\\n              2010\\n            ],\\n            [\\n              \\\"Incendies\\\",\\n              65122,\\n              8.1,\\n              2010,\\n              2010\\n            ],\\n            [\\n              \\\"Hachi: A Dog's Tale\\\",\\n              121599,\\n              8.1,\\n              2009,\\n              2000\\n            ],\\n            [\\n              \\\"The Best Years of Our Lives\\\",\\n              35983,\\n              8.1,\\n              1946,\\n              1940\\n            ],\\n            [\\n              \\\"The Wizard of Oz\\\",\\n              259235,\\n              8.1,\\n              1939,\\n              1930\\n            ],\\n            [\\n              \\\"Cool Hand Luke\\\",\\n              108128,\\n              8.1,\\n              1967,\\n              1960\\n            ],\\n            [\\n              \\\"In the Name of the Father\\\",\\n              95212,\\n              8.1,\\n              1993,\\n              1990\\n            ],\\n            [\\n              \\\"The Grapes of Wrath\\\",\\n              55793,\\n              8.1,\\n              1940,\\n              1940\\n            ],\\n            [\\n              \\\"A Beautiful Mind\\\",\\n              525515,\\n              8.1,\\n              2001,\\n              2000\\n            ],\\n            [\\n              \\\"Donnie Darko\\\",\\n              522119,\\n              8.1,\\n              2001,\\n              2000\\n            ],\\n            [\\n              \\\"Mary and Max\\\",\\n              102735,\\n              8.1,\\n              2009,\\n              2000\\n            ],\\n            [\\n              \\\"Stand by Me\\\",\\n              242381,\\n              8.1,\\n              1986,\\n              1980\\n            ],\\n            [\\n              \\\"The Grand Budapest Hotel\\\",\\n              369141,\\n              8.1,\\n              2014,\\n              2010\\n            ],\\n            [\\n              \\\"Butch Cassidy and the Sundance Kid\\\",\\n              134552,\\n              8.1,\\n              1969,\\n              1960\\n            ],\\n            [\\n              \\\"The Sixth Sense\\\",\\n              630994,\\n              8.1,\\n              1999,\\n              1990\\n            ],\\n            [\\n              \\\"The Thing\\\",\\n              228230,\\n              8.1,\\n              1982,\\n              1980\\n            ],\\n            [\\n              \\\"Le salaire de la peur\\\",\\n              31003,\\n              8.1,\\n              1953,\\n              1950\\n            ],\\n            [\\n              \\\"Persona\\\",\\n              52573,\\n              8.1,\\n              1966,\\n              1960\\n            ],\\n            [\\n              \\\"Annie Hall\\\",\\n              169982,\\n              8.1,\\n              1977,\\n              1970\\n            ],\\n            [\\n              \\\"Ben-Hur\\\",\\n              141768,\\n              8.1,\\n              1959,\\n              1950\\n            ],\\n            [\\n              \\\"8\\\\u00bd\\\",\\n              69988,\\n              8.1,\\n              1963,\\n              1960\\n            ],\\n            [\\n              \\\"Fargo\\\",\\n              395997,\\n              8.1,\\n              1996,\\n              1990\\n            ],\\n            [\\n              \\\"Strangers on a Train\\\",\\n              85012,\\n              8.1,\\n              1951,\\n              1950\\n            ],\\n            [\\n              \\\"Gone Girl\\\",\\n              441174,\\n              8.1,\\n              2014,\\n              2010\\n            ],\\n            [\\n              \\\"Million Dollar Baby\\\",\\n              424957,\\n              8.1,\\n              2004,\\n              2000\\n            ],\\n            [\\n              \\\"Network\\\",\\n              91689,\\n              8.1,\\n              1976,\\n              1970\\n            ],\\n            [\\n              \\\"It Happened One Night\\\",\\n              56842,\\n              8.1,\\n              1934,\\n              1930\\n            ],\\n            [\\n              \\\"Trainspotting\\\",\\n              419372,\\n              8.1,\\n              1996,\\n              1990\\n            ],\\n            [\\n              \\\"Les diaboliques\\\",\\n              36725,\\n              8.1,\\n              1955,\\n              1950\\n            ],\\n            [\\n              \\\"There Will Be Blood\\\",\\n              331348,\\n              8.1,\\n              2007,\\n              2000\\n            ],\\n            [\\n              \\\"The Princess Bride\\\",\\n              264285,\\n              8.1,\\n              1987,\\n              1980\\n            ],\\n            [\\n              \\\"Dial M for Murder\\\",\\n              92244,\\n              8.1,\\n              1954,\\n              1950\\n            ],\\n            [\\n              \\\"Hotel Rwanda\\\",\\n              237292,\\n              8.1,\\n              2004,\\n              2000\\n            ],\\n            [\\n              \\\"Sin City\\\",\\n              596880,\\n              8.1,\\n              2005,\\n              2000\\n            ],\\n            [\\n              \\\"The Deer Hunter\\\",\\n              209677,\\n              8.1,\\n              1978,\\n              1970\\n            ],\\n            [\\n              \\\"How to Train Your Dragon\\\",\\n              415845,\\n              8.1,\\n              2010,\\n              2010\\n            ],\\n            [\\n              \\\"Into the Wild\\\",\\n              372803,\\n              8.1,\\n              2007,\\n              2000\\n            ],\\n            [\\n              \\\"Rush (2013/I)\\\",\\n              258882,\\n              8.1,\\n              2013,\\n              2010\\n            ],\\n            [\\n              \\\"Gandhi\\\",\\n              151697,\\n              8.1,\\n              1982,\\n              1980\\n            ],\\n            [\\n              \\\"The Maltese Falcon\\\",\\n              101754,\\n              8.1,\\n              1941,\\n              1940\\n            ],\\n            [\\n              \\\"Amores perros\\\",\\n              156030,\\n              8.1,\\n              2000,\\n              2000\\n            ],\\n            [\\n              \\\"12 Years a Slave\\\",\\n              359121,\\n              8.1,\\n              2013,\\n              2010\\n            ],\\n            [\\n              \\\"The Bourne Ultimatum\\\",\\n              433487,\\n              8.1,\\n              2007,\\n              2000\\n            ],\\n            [\\n              \\\"Kaze no tani no Naushika\\\",\\n              81809,\\n              8.1,\\n              1984,\\n              1980\\n            ],\\n            [\\n              \\\"Platoon\\\",\\n              262404,\\n              8.1,\\n              1986,\\n              1980\\n            ],\\n            [\\n              \\\"Finding Nemo\\\",\\n              591219,\\n              8.1,\\n              2003,\\n              2000\\n            ],\\n            [\\n              \\\"Stalker\\\",\\n              59272,\\n              8.1,\\n              1979,\\n              1970\\n            ],\\n            [\\n              \\\"Life of Brian\\\",\\n              242886,\\n              8.1,\\n              1979,\\n              1970\\n            ],\\n            [\\n              \\\"Gone with the Wind\\\",\\n              192791,\\n              8.1,\\n              1939,\\n              1930\\n            ],\\n            [\\n              \\\"Touch of Evil\\\",\\n              65408,\\n              8.1,\\n              1958,\\n              1950\\n            ],\\n            [\\n              \\\"No Country for Old Men\\\",\\n              540744,\\n              8.1,\\n              2007,\\n              2000\\n            ],\\n            [\\n              \\\"Les quatre cents coups\\\",\\n              61776,\\n              8.1,\\n              1959,\\n              1950\\n            ],\\n            [\\n              \\\"Shutter Island\\\",\\n              670328,\\n              8.1,\\n              2010,\\n              2010\\n            ],\\n            [\\n              \\\"Kill Bill: Vol. 1\\\",\\n              647120,\\n              8.1,\\n              2003,\\n              2000\\n            ],\\n            [\\n              \\\"El secreto de sus ojos\\\",\\n              109254,\\n              8.2,\\n              2009,\\n              2000\\n            ],\\n            [\\n              \\\"Gran Torino\\\",\\n              502773,\\n              8.2,\\n              2008,\\n              2000\\n            ],\\n            [\\n              \\\"Smultronst\\\\u00e4llet\\\",\\n              55861,\\n              8.2,\\n              1957,\\n              1950\\n            ],\\n            [\\n              \\\"Good Will Hunting\\\",\\n              529800,\\n              8.2,\\n              1997,\\n              1990\\n            ],\\n            [\\n              \\\"Jagten\\\",\\n              137310,\\n              8.2,\\n              2012,\\n              2010\\n            ],\\n            [\\n              \\\"The Bridge on the River Kwai\\\",\\n              132677,\\n              8.2,\\n              1957,\\n              1950\\n            ],\\n            [\\n              \\\"The Elephant Man\\\",\\n              145514,\\n              8.2,\\n              1980,\\n              1980\\n            ],\\n            [\\n              \\\"Casino\\\",\\n              294394,\\n              8.2,\\n              1995,\\n              1990\\n            ],\\n            [\\n              \\\"Lock, Stock and Two Smoking Barrels (1998)\\\",\\n              372863,\\n              8.2,\\n              1998,\\n              1990\\n            ],\\n            [\\n              \\\"The Wolf of Wall Street\\\",\\n              624943,\\n              8.2,\\n              2013,\\n              2010\\n            ],\\n            [\\n              \\\"Tonari no Totoro\\\",\\n              142605,\\n              8.2,\\n              1988,\\n              1980\\n            ],\\n            [\\n              \\\"3 Idiots\\\",\\n              167076,\\n              8.2,\\n              2009,\\n              2000\\n            ],\\n            [\\n              \\\"The General\\\",\\n              46332,\\n              8.2,\\n              1926,\\n              1920\\n            ],\\n            [\\n              \\\"Judgment at Nuremberg\\\",\\n              37664,\\n              8.2,\\n              1961,\\n              1960\\n            ],\\n            [\\n              \\\"The Gold Rush\\\",\\n              58506,\\n              8.2,\\n              1925,\\n              1920\\n            ],\\n            [\\n              \\\"The Big Lebowski\\\",\\n              473988,\\n              8.2,\\n              1998,\\n              1990\\n            ],\\n            [\\n              \\\"The Great Escape\\\",\\n              147372,\\n              8.2,\\n              1963,\\n              1960\\n            ],\\n            [\\n              \\\"Up\\\",\\n              566091,\\n              8.2,\\n              2009,\\n              2000\\n            ],\\n            [\\n              \\\"Warrior\\\",\\n              287727,\\n              8.2,\\n              2011,\\n              2010\\n            ],\\n            [\\n              \\\"Ran\\\",\\n              69287,\\n              8.2,\\n              1985,\\n              1980\\n            ],\\n            [\\n              \\\"Der Untergang\\\",\\n              223834,\\n              8.2,\\n              2004,\\n              2000\\n            ],\\n            [\\n              \\\"Hauru no ugoku shiro\\\",\\n              182525,\\n              8.2,\\n              2004,\\n              2000\\n            ],\\n            [\\n              \\\"V for Vendetta\\\",\\n              700999,\\n              8.2,\\n              2005,\\n              2000\\n            ],\\n            [\\n              \\\"Chinatown\\\",\\n              192744,\\n              8.2,\\n              1974,\\n              1970\\n            ],\\n            [\\n              \\\"El laberinto del fauno\\\",\\n              416467,\\n              8.2,\\n              2006,\\n              2000\\n            ],\\n            [\\n              \\\"Blade Runner\\\",\\n              415615,\\n              8.2,\\n              1982,\\n              1980\\n            ],\\n            [\\n              \\\"On the Waterfront\\\",\\n              89233,\\n              8.2,\\n              1954,\\n              1950\\n            ],\\n            [\\n              \\\"Raging Bull\\\",\\n              210647,\\n              8.2,\\n              1980,\\n              1980\\n            ],\\n            [\\n              \\\"Det sjunde inseglet\\\",\\n              98949,\\n              8.2,\\n              1957,\\n              1950\\n            ],\\n            [\\n              \\\"Ikiru\\\",\\n              36638,\\n              8.2,\\n              1952,\\n              1950\\n            ],\\n            [\\n              \\\"Mr. Smith Goes to Washington\\\",\\n              69510,\\n              8.2,\\n              1939,\\n              1930\\n            ],\\n            [\\n              \\\"Rebecca\\\",\\n              78216,\\n              8.2,\\n              1940,\\n              1940\\n            ],\\n            [\\n              \\\"Heat\\\",\\n              388239,\\n              8.2,\\n              1995,\\n              1990\\n            ],\\n            [\\n              \\\"Die Hard\\\",\\n              529287,\\n              8.2,\\n              1988,\\n              1980\\n            ],\\n            [\\n              \\\"Per qualche dollaro in pi\\\\u00f9\\\",\\n              135556,\\n              8.3,\\n              1965,\\n              1960\\n            ],\\n            [\\n              \\\"Mad Max: Fury Road\\\",\\n              262425,\\n              8.3,\\n              2015,\\n              2010\\n            ],\\n            [\\n              \\\"Monty Python and the Holy Grail\\\",\\n              343300,\\n              8.3,\\n              1975,\\n              1970\\n            ],\\n            [\\n              \\\"Witness for the Prosecution\\\",\\n              53186,\\n              8.3,\\n              1957,\\n              1950\\n            ],\\n            [\\n              \\\"A Clockwork Orange\\\",\\n              489807,\\n              8.3,\\n              1971,\\n              1970\\n            ],\\n            [\\n              \\\"The Third Man\\\",\\n              101785,\\n              8.3,\\n              1949,\\n              1940\\n            ],\\n            [\\n              \\\"Braveheart\\\",\\n              653769,\\n              8.3,\\n              1995,\\n              1990\\n            ],\\n            [\\n              \\\"Amadeus\\\",\\n              240308,\\n              8.3,\\n              1984,\\n              1980\\n            ],\\n            [\\n              \\\"Indiana Jones and the Last Crusade\\\",\\n              453748,\\n              8.3,\\n              1989,\\n              1980\\n            ],\\n            [\\n              \\\"The Kid\\\",\\n              55784,\\n              8.3,\\n              1921,\\n              1920\\n            ],\\n            [\\n              \\\"Y\\\\u00f4jinb\\\\u00f4\\\",\\n              65370,\\n              8.3,\\n              1961,\\n              1960\\n            ],\\n            [\\n              \\\"Jodaeiye Nader az Simin\\\",\\n              133760,\\n              8.3,\\n              2011,\\n              2010\\n            ],\\n            [\\n              \\\"Eternal Sunshine of the Spotless Mind\\\",\\n              589477,\\n              8.3,\\n              2004,\\n              2000\\n            ],\\n            [\\n              \\\"The Apartment\\\",\\n              96190,\\n              8.3,\\n              1960,\\n              1960\\n            ],\\n            [\\n              \\\"Requiem for a Dream\\\",\\n              511177,\\n              8.3,\\n              2000,\\n              2000\\n            ],\\n            [\\n              \\\"Rash\\\\u00f4mon\\\",\\n              90434,\\n              8.3,\\n              1950,\\n              1950\\n            ],\\n            [\\n              \\\"Toy Story 3\\\",\\n              470158,\\n              8.3,\\n              2010,\\n              2010\\n            ],\\n            [\\n              \\\"Double Indemnity\\\",\\n              86715,\\n              8.3,\\n              1944,\\n              1940\\n            ],\\n            [\\n              \\\"Metropolis\\\",\\n              98794,\\n              8.3,\\n              1927,\\n              1920\\n            ],\\n            [\\n              \\\"L.A. Confidential\\\",\\n              376590,\\n              8.3,\\n              1997,\\n              1990\\n            ],\\n            [\\n              \\\"Snatch.\\\",\\n              536053,\\n              8.3,\\n              2000,\\n              2000\\n            ],\\n            [\\n              \\\"Lawrence of Arabia\\\",\\n              170302,\\n              8.3,\\n              1962,\\n              1960\\n            ],\\n            [\\n              \\\"2001: A Space Odyssey\\\",\\n              373482,\\n              8.3,\\n              1968,\\n              1960\\n            ],\\n            [\\n              \\\"The Sting\\\",\\n              155691,\\n              8.3,\\n              1973,\\n              1970\\n            ],\\n            [\\n              \\\"The Treasure of the Sierra Madre\\\",\\n              71003,\\n              8.3,\\n              1948,\\n              1940\\n            ],\\n            [\\n              \\\"Ladri di biciclette\\\",\\n              81887,\\n              8.3,\\n              1948,\\n              1940\\n            ],\\n            [\\n              \\\"Toy Story\\\",\\n              535249,\\n              8.3,\\n              1995,\\n              1990\\n            ],\\n            [\\n              \\\"Inglourious Basterds\\\",\\n              755013,\\n              8.3,\\n              2009,\\n              2000\\n            ],\\n            [\\n              \\\"Singin' in the Rain\\\",\\n              132823,\\n              8.3,\\n              1952,\\n              1950\\n            ],\\n            [\\n              \\\"All About Eve\\\",\\n              74178,\\n              8.3,\\n              1950,\\n              1950\\n            ],\\n            [\\n              \\\"To Kill a Mockingbird\\\",\\n              188160,\\n              8.3,\\n              1962,\\n              1960\\n            ],\\n            [\\n              \\\"Scarface\\\",\\n              475594,\\n              8.3,\\n              1983,\\n              1980\\n            ],\\n            [\\n              \\\"Full Metal Jacket\\\",\\n              425461,\\n              8.3,\\n              1987,\\n              1980\\n            ],\\n            [\\n              \\\"Taxi Driver\\\",\\n              444534,\\n              8.3,\\n              1976,\\n              1970\\n            ],\\n            [\\n              \\\"Reservoir Dogs\\\",\\n              578684,\\n              8.3,\\n              1992,\\n              1990\\n            ],\\n            [\\n              \\\"Unforgiven\\\",\\n              248514,\\n              8.3,\\n              1992,\\n              1990\\n            ],\\n            [\\n              \\\"Some Like It Hot\\\",\\n              156432,\\n              8.3,\\n              1959,\\n              1950\\n            ],\\n            [\\n              \\\"Batman Begins\\\",\\n              850601,\\n              8.3,\\n              2005,\\n              2000\\n            ],\\n            [\\n              \\\"The Great Dictator\\\",\\n              117590,\\n              8.4,\\n              1940,\\n              1940\\n            ],\\n            [\\n              \\\"The Shining\\\",\\n              532559,\\n              8.4,\\n              1980,\\n              1980\\n            ],\\n            [\\n              \\\"Nuovo Cinema Paradiso\\\",\\n              132121,\\n              8.4,\\n              1988,\\n              1980\\n            ],\\n            [\\n              \\\"The Dark Knight Rises\\\",\\n              997350,\\n              8.4,\\n              2012,\\n              2010\\n            ],\\n            [\\n              \\\"WALL\\\\u00b7E\\\",\\n              618914,\\n              8.4,\\n              2008,\\n              2000\\n            ],\\n            [\\n              \\\"Citizen Kane\\\",\\n              268905,\\n              8.4,\\n              1941,\\n              1940\\n            ],\\n            [\\n              \\\"Once Upon a Time in America\\\",\\n              195266,\\n              8.4,\\n              1984,\\n              1980\\n            ],\\n            [\\n              \\\"The Lion King\\\",\\n              548750,\\n              8.4,\\n              1994,\\n              1990\\n            ],\\n            [\\n              \\\"Das Leben der Anderen\\\",\\n              229533,\\n              8.4,\\n              2006,\\n              2000\\n            ],\\n            [\\n              \\\"Oldeuboi\\\",\\n              311070,\\n              8.4,\\n              2003,\\n              2000\\n            ],\\n            [\\n              \\\"Mononoke-hime\\\",\\n              192165,\\n              8.4,\\n              1997,\\n              1990\\n            ],\\n            [\\n              \\\"Vertigo\\\",\\n              218430,\\n              8.4,\\n              1958,\\n              1950\\n            ],\\n            [\\n              \\\"Das Boot\\\",\\n              151256,\\n              8.4,\\n              1981,\\n              1980\\n            ],\\n            [\\n              \\\"M\\\",\\n              88355,\\n              8.4,\\n              1931,\\n              1930\\n            ],\\n            [\\n              \\\"Star Wars: Episode VI - Return of the Jedi\\\",\\n              556811,\\n              8.4,\\n              1983,\\n              1980\\n            ],\\n            [\\n              \\\"Le fabuleux destin d'Am\\\\u00e9lie Poulain\\\",\\n              474068,\\n              8.4,\\n              2001,\\n              2000\\n            ],\\n            [\\n              \\\"American Beauty\\\",\\n              735056,\\n              8.4,\\n              1999,\\n              1990\\n            ],\\n            [\\n              \\\"Django Unchained\\\",\\n              804729,\\n              8.4,\\n              2012,\\n              2010\\n            ],\\n            [\\n              \\\"North by Northwest\\\",\\n              198795,\\n              8.4,\\n              1959,\\n              1950\\n            ],\\n            [\\n              \\\"Aliens\\\",\\n              436218,\\n              8.4,\\n              1986,\\n              1980\\n            ],\\n            [\\n              \\\"Paths of Glory\\\",\\n              106038,\\n              8.4,\\n              1957,\\n              1950\\n            ],\\n            [\\n              \\\"Hotaru no haka\\\",\\n              115740,\\n              8.4,\\n              1988,\\n              1980\\n            ],\\n            [\\n              \\\"American History X\\\",\\n              694602,\\n              8.5,\\n              1998,\\n              1990\\n            ],\\n            [\\n              \\\"City Lights\\\",\\n              92375,\\n              8.5,\\n              1931,\\n              1930\\n            ],\\n            [\\n              \\\"Rear Window\\\",\\n              280432,\\n              8.5,\\n              1954,\\n              1950\\n            ],\\n            [\\n              \\\"Dr. Strangelove or: How I Learned to Stop Worrying and Love the Bomb\\\",\\n              309141,\\n              8.5,\\n              1964,\\n              1960\\n            ],\\n            [\\n              \\\"Terminator 2: Judgment Day\\\",\\n              658564,\\n              8.5,\\n              1991,\\n              1990\\n            ],\\n            [\\n              \\\"Inside Out (2015/I)\\\",\\n              79615,\\n              8.5,\\n              2015,\\n              2010\\n            ],\\n            [\\n              \\\"Sen to Chihiro no Kamikakushi\\\",\\n              357355,\\n              8.5,\\n              2001,\\n              2000\\n            ],\\n            [\\n              \\\"Casablanca\\\",\\n              350551,\\n              8.5,\\n              1942,\\n              1940\\n            ],\\n            [\\n              \\\"Back to the Future\\\",\\n              625463,\\n              8.5,\\n              1985,\\n              1980\\n            ],\\n            [\\n              \\\"Modern Times\\\",\\n              121668,\\n              8.5,\\n              1936,\\n              1930\\n            ],\\n            [\\n              \\\"Saving Private Ryan\\\",\\n              769893,\\n              8.5,\\n              1998,\\n              1990\\n            ],\\n            [\\n              \\\"Gladiator\\\",\\n              862216,\\n              8.5,\\n              2000,\\n              2000\\n            ],\\n            [\\n              \\\"Raiders of the Lost Ark\\\",\\n              585474,\\n              8.5,\\n              1981,\\n              1980\\n            ],\\n            [\\n              \\\"Intouchables\\\",\\n              417122,\\n              8.5,\\n              2011,\\n              2010\\n            ],\\n            [\\n              \\\"Psycho\\\",\\n              371791,\\n              8.5,\\n              1960,\\n              1960\\n            ],\\n            [\\n              \\\"Whiplash\\\",\\n              264333,\\n              8.5,\\n              2014,\\n              2010\\n            ],\\n            [\\n              \\\"The Green Mile\\\",\\n              672878,\\n              8.5,\\n              1999,\\n              1990\\n            ],\\n            [\\n              \\\"Memento\\\",\\n              752122,\\n              8.5,\\n              2000,\\n              2000\\n            ],\\n            [\\n              \\\"The Prestige\\\",\\n              733490,\\n              8.5,\\n              2006,\\n              2000\\n            ],\\n            [\\n              \\\"The Departed\\\",\\n              763871,\\n              8.5,\\n              2006,\\n              2000\\n            ],\\n            [\\n              \\\"The Pianist\\\",\\n              431856,\\n              8.5,\\n              2002,\\n              2000\\n            ],\\n            [\\n              \\\"Alien\\\",\\n              496833,\\n              8.5,\\n              1979,\\n              1970\\n            ],\\n            [\\n              \\\"Apocalypse Now\\\",\\n              403754,\\n              8.5,\\n              1979,\\n              1970\\n            ],\\n            [\\n              \\\"Sunset Blvd.\\\",\\n              123879,\\n              8.5,\\n              1950,\\n              1950\\n            ],\\n            [\\n              \\\"Se7en\\\",\\n              895411,\\n              8.6,\\n              1995,\\n              1990\\n            ],\\n            [\\n              \\\"La vita \\\\u00e8 bella\\\",\\n              358305,\\n              8.6,\\n              1997,\\n              1990\\n            ],\\n            [\\n              \\\"Interstellar\\\",\\n              689541,\\n              8.6,\\n              2014,\\n              2010\\n            ],\\n            [\\n              \\\"It's a Wonderful Life\\\",\\n              242353,\\n              8.6,\\n              1946,\\n              1940\\n            ],\\n            [\\n              \\\"Cidade de Deus\\\",\\n              476501,\\n              8.6,\\n              2002,\\n              2000\\n            ],\\n            [\\n              \\\"L\\\\u00e9on\\\",\\n              635139,\\n              8.6,\\n              1994,\\n              1990\\n            ],\\n            [\\n              \\\"C'era una volta il West\\\",\\n              192206,\\n              8.6,\\n              1968,\\n              1960\\n            ],\\n            [\\n              \\\"The Usual Suspects\\\",\\n              656756,\\n              8.6,\\n              1995,\\n              1990\\n            ],\\n            [\\n              \\\"The Silence of the Lambs\\\",\\n              767224,\\n              8.6,\\n              1991,\\n              1990\\n            ],\\n            [\\n              \\\"Forrest Gump\\\",\\n              1078416,\\n              8.7,\\n              1994,\\n              1990\\n            ],\\n            [\\n              \\\"The Lord of the Rings: The Two Towers\\\",\\n              967389,\\n              8.7,\\n              2002,\\n              2000\\n            ],\\n            [\\n              \\\"Star Wars: Episode V - The Empire Strikes Back\\\",\\n              700283,\\n              8.7,\\n              1980,\\n              1980\\n            ],\\n            [\\n              \\\"The Matrix\\\",\\n              1073043,\\n              8.7,\\n              1999,\\n              1990\\n            ],\\n            [\\n              \\\"Star Wars\\\",\\n              770011,\\n              8.7,\\n              1977,\\n              1970\\n            ],\\n            [\\n              \\\"Goodfellas\\\",\\n              644556,\\n              8.7,\\n              1990,\\n              1990\\n            ],\\n            [\\n              \\\"One Flew Over the Cuckoo's Nest\\\",\\n              606395,\\n              8.7,\\n              1975,\\n              1970\\n            ],\\n            [\\n              \\\"Shichinin no samurai\\\",\\n              206216,\\n              8.7,\\n              1954,\\n              1950\\n            ],\\n            [\\n              \\\"Inception\\\",\\n              1271949,\\n              8.7,\\n              2010,\\n              2010\\n            ],\\n            [\\n              \\\"Fight Club\\\",\\n              1177098,\\n              8.8,\\n              1999,\\n              1990\\n            ],\\n            [\\n              \\\"The Lord of the Rings: The Fellowship of the Ring\\\",\\n              1099087,\\n              8.8,\\n              2001,\\n              2000\\n            ],\\n            [\\n              \\\"Pulp Fiction\\\",\\n              1166532,\\n              8.9,\\n              1994,\\n              1990\\n            ],\\n            [\\n              \\\"The Dark Knight\\\",\\n              1473049,\\n              8.9,\\n              2008,\\n              2000\\n            ],\\n            [\\n              \\\"Il buono, il brutto, il cattivo (1966)\\\",\\n              447875,\\n              8.9,\\n              1966,\\n              1960\\n            ],\\n            [\\n              \\\"The Lord of the Rings: The Return of the King\\\",\\n              1074146,\\n              8.9,\\n              2003,\\n              2000\\n            ],\\n            [\\n              \\\"Schindler's List\\\",\\n              761224,\\n              8.9,\\n              1993,\\n              1990\\n            ],\\n            [\\n              \\\"12 Angry Men\\\",\\n              384187,\\n              8.9,\\n              1957,\\n              1950\\n            ],\\n            [\\n              \\\"The Godfather: Part II\\\",\\n              692753,\\n              9.0,\\n              1974,\\n              1970\\n            ],\\n            [\\n              \\\"The Shawshank Redemption\\\",\\n              1498733,\\n              9.2,\\n              1994,\\n              1990\\n            ],\\n            [\\n              \\\"The Godfather\\\",\\n              1027398,\\n              9.2,\\n              1972,\\n              1970\\n            ]\\n          ]\\n        }\\n      }\\n    },\\n    {\\n      \\\"type\\\": \\\"GroupByCall\\\",\\n      \\\"code_step\\\": \\\"imdb.reset_index().groupby('Decade').max()\\\",\\n      \\\"fragment\\\": {\\n        \\\"start\\\": {\\n          \\\"line\\\": 0,\\n          \\\"ch\\\": 18\\n        },\\n        \\\"end\\\": {\\n          \\\"line\\\": 0,\\n          \\\"ch\\\": 36\\n        }\\n      },\\n      \\\"marks\\\": [\\n        {\\n          \\\"type\\\": \\\"using\\\",\\n          \\\"pos\\\": {\\n            \\\"type\\\": \\\"axis\\\",\\n            \\\"anchor\\\": \\\"lhs\\\",\\n            \\\"select\\\": \\\"column\\\",\\n            \\\"label\\\": \\\"Decade\\\"\\n          }\\n        }\\n      ],\\n      \\\"data\\\": {\\n        \\\"lhs\\\": \\\"prev_rhs\\\",\\n        \\\"rhs\\\": {\\n          \\\"type\\\": \\\"DataFrameGroupBy\\\",\\n          \\\"columns\\\": {\\n            \\\"names\\\": [\\n              null\\n            ],\\n            \\\"labels\\\": [\\n              \\\"Title\\\",\\n              \\\"Votes\\\",\\n              \\\"Rating\\\",\\n              \\\"Year\\\",\\n              \\\"Decade\\\"\\n            ]\\n          },\\n          \\\"index\\\": {\\n            \\\"names\\\": [\\n              null\\n            ],\\n            \\\"labels\\\": [\\n              0,\\n              1,\\n              2,\\n              3,\\n              4,\\n              5,\\n              6,\\n              7,\\n              8,\\n              9,\\n              10,\\n              11,\\n              12,\\n              13,\\n              14,\\n              15,\\n              16,\\n              17,\\n              18,\\n              19,\\n              20,\\n              21,\\n              22,\\n              23,\\n              24,\\n              25,\\n              26,\\n              27,\\n              28,\\n              29,\\n              30,\\n              31,\\n              32,\\n              33,\\n              34,\\n              35,\\n              36,\\n              37,\\n              38,\\n              39,\\n              40,\\n              41,\\n              42,\\n              43,\\n              44,\\n              45,\\n              46,\\n              47,\\n              48,\\n              49,\\n              50,\\n              51,\\n              52,\\n              53,\\n              54,\\n              55,\\n              56,\\n              57,\\n              58,\\n              59,\\n              60,\\n              61,\\n              62,\\n              63,\\n              64,\\n              65,\\n              66,\\n              67,\\n              68,\\n              69,\\n              70,\\n              71,\\n              72,\\n              73,\\n              74,\\n              75,\\n              76,\\n              77,\\n              78,\\n              79,\\n              80,\\n              81,\\n              82,\\n              83,\\n              84,\\n              85,\\n              86,\\n              87,\\n              88,\\n              89,\\n              90,\\n              91,\\n              92,\\n              93,\\n              94,\\n              95,\\n              96,\\n              97,\\n              98,\\n              99,\\n              100,\\n              101,\\n              102,\\n              103,\\n              104,\\n              105,\\n              106,\\n              107,\\n              108,\\n              109,\\n              110,\\n              111,\\n              112,\\n              113,\\n              114,\\n              115,\\n              116,\\n              117,\\n              118,\\n              119,\\n              120,\\n              121,\\n              122,\\n              123,\\n              124,\\n              125,\\n              126,\\n              127,\\n              128,\\n              129,\\n              130,\\n              131,\\n              132,\\n              133,\\n              134,\\n              135,\\n              136,\\n              137,\\n              138,\\n              139,\\n              140,\\n              141,\\n              142,\\n              143,\\n              144,\\n              145,\\n              146,\\n              147,\\n              148,\\n              149,\\n              150,\\n              151,\\n              152,\\n              153,\\n              154,\\n              155,\\n              156,\\n              157,\\n              158,\\n              159,\\n              160,\\n              161,\\n              162,\\n              163,\\n              164,\\n              165,\\n              166,\\n              167,\\n              168,\\n              169,\\n              170,\\n              171,\\n              172,\\n              173,\\n              174,\\n              175,\\n              176,\\n              177,\\n              178,\\n              179,\\n              180,\\n              181,\\n              182,\\n              183,\\n              184,\\n              185,\\n              186,\\n              187,\\n              188,\\n              189,\\n              190,\\n              191,\\n              192,\\n              193,\\n              194,\\n              195,\\n              196,\\n              197,\\n              198,\\n              199,\\n              200,\\n              201,\\n              202,\\n              203,\\n              204,\\n              205,\\n              206,\\n              207,\\n              208,\\n              209,\\n              210,\\n              211,\\n              212,\\n              213,\\n              214,\\n              215,\\n              216,\\n              217,\\n              218,\\n              219,\\n              220,\\n              221,\\n              222,\\n              223,\\n              224,\\n              225,\\n              226,\\n              227,\\n              228,\\n              229,\\n              230,\\n              231,\\n              232,\\n              233,\\n              234,\\n              235,\\n              236,\\n              237,\\n              238,\\n              239,\\n              240,\\n              241,\\n              242,\\n              243,\\n              244,\\n              245,\\n              246,\\n              247,\\n              248,\\n              249\\n            ]\\n          },\\n          \\\"data\\\": [\\n            [\\n              \\\"Akira\\\",\\n              91652,\\n              8.0,\\n              1988,\\n              1980\\n            ],\\n            [\\n              \\\"Per un pugno di dollari\\\",\\n              124671,\\n              8.0,\\n              1964,\\n              1960\\n            ],\\n            [\\n              \\\"Guardians of the Galaxy\\\",\\n              527349,\\n              8.0,\\n              2014,\\n              2010\\n            ],\\n            [\\n              \\\"The Man Who Shot Liberty Valance\\\",\\n              49135,\\n              8.0,\\n              1962,\\n              1960\\n            ],\\n            [\\n              \\\"Underground\\\",\\n              39447,\\n              8.0,\\n              1995,\\n              1990\\n            ],\\n            [\\n              \\\"Le samoura\\\\u00ef\\\",\\n              28012,\\n              8.0,\\n              1967,\\n              1960\\n            ],\\n            [\\n              \\\"Beauty and the Beast\\\",\\n              268480,\\n              8.0,\\n              1991,\\n              1990\\n            ],\\n            [\\n              \\\"La strada\\\",\\n              42446,\\n              8.0,\\n              1954,\\n              1950\\n            ],\\n            [\\n              \\\"The Avengers\\\",\\n              862016,\\n              8.0,\\n              2012,\\n              2010\\n            ],\\n            [\\n              \\\"The King's Speech\\\",\\n              434906,\\n              8.0,\\n              2010,\\n              2010\\n            ],\\n            [\\n              \\\"Barry Lyndon\\\",\\n              89920,\\n              8.0,\\n              1975,\\n              1970\\n            ],\\n            [\\n              \\\"Dog Day Afternoon\\\",\\n              164419,\\n              8.0,\\n              1975,\\n              1970\\n            ],\\n            [\\n              \\\"The Imitation Game\\\",\\n              321834,\\n              8.0,\\n              2014,\\n              2010\\n            ],\\n            [\\n              \\\"The Truman Show\\\",\\n              583004,\\n              8.0,\\n              1998,\\n              1990\\n            ],\\n            [\\n              \\\"Roman Holiday\\\",\\n              87437,\\n              8.0,\\n              1953,\\n              1950\\n            ],\\n            [\\n              \\\"The Hustler\\\",\\n              57842,\\n              8.0,\\n              1961,\\n              1960\\n            ],\\n            [\\n              \\\"X-Men: Days of Future Past\\\",\\n              427099,\\n              8.0,\\n              2014,\\n              2010\\n            ],\\n            [\\n              \\\"High Noon\\\",\\n              72007,\\n              8.0,\\n              1952,\\n              1950\\n            ],\\n            [\\n              \\\"Before Sunset\\\",\\n              147277,\\n              8.0,\\n              2004,\\n              2000\\n            ],\\n            [\\n              \\\"Monsters, Inc. (2001)\\\",\\n              500576,\\n              8.0,\\n              2001,\\n              2000\\n            ],\\n            [\\n              \\\"Harry Potter and the Deathly Hallows: Part 2\\\",\\n              466111,\\n              8.0,\\n              2011,\\n              2010\\n            ],\\n            [\\n              \\\"Lagaan: Once Upon a Time in India\\\",\\n              59377,\\n              8.0,\\n              2001,\\n              2000\\n            ],\\n            [\\n              \\\"Jurassic Park\\\",\\n              520391,\\n              8.0,\\n              1993,\\n              1990\\n            ],\\n            [\\n              \\\"Trois couleurs: Rouge\\\",\\n              57644,\\n              8.0,\\n              1994,\\n              1990\\n            ],\\n            [\\n              \\\"Fanny och Alexander\\\",\\n              37972,\\n              8.0,\\n              1982,\\n              1980\\n            ],\\n            [\\n              \\\"The Help\\\",\\n              282774,\\n              8.0,\\n              2011,\\n              2010\\n            ],\\n            [\\n              \\\"Who's Afraid of Virginia Woolf?\\\",\\n              50208,\\n              8.0,\\n              1966,\\n              1960\\n            ],\\n            [\\n              \\\"The Terminator\\\",\\n              527274,\\n              8.0,\\n              1984,\\n              1980\\n            ],\\n            [\\n              \\\"Twelve Monkeys\\\",\\n              415809,\\n              8.0,\\n              1995,\\n              1990\\n            ],\\n            [\\n              \\\"Kumonosu-j\\\\u00f4\\\",\\n              26012,\\n              8.0,\\n              1957,\\n              1950\\n            ],\\n            [\\n              \\\"Groundhog Day\\\",\\n              384272,\\n              8.0,\\n              1993,\\n              1990\\n            ],\\n            [\\n              \\\"Yip Man\\\",\\n              138240,\\n              8.0,\\n              2008,\\n              2000\\n            ],\\n            [\\n              \\\"Notorious\\\",\\n              66622,\\n              8.0,\\n              1946,\\n              1940\\n            ],\\n            [\\n              \\\"Pirates of the Caribbean: The Curse of the Black Pearl\\\",\\n              718645,\\n              8.0,\\n              2003,\\n              2000\\n            ],\\n            [\\n              \\\"La haine\\\",\\n              90937,\\n              8.0,\\n              1995,\\n              1990\\n            ],\\n            [\\n              \\\"Mou gaan dou\\\",\\n              82440,\\n              8.0,\\n              2002,\\n              2000\\n            ],\\n            [\\n              \\\"Salinui chueok\\\",\\n              54651,\\n              8.0,\\n              2003,\\n              2000\\n            ],\\n            [\\n              \\\"The Big Sleep\\\",\\n              59578,\\n              8.0,\\n              1946,\\n              1940\\n            ],\\n            [\\n              \\\"Paris, Texas (1984)\\\",\\n              43090,\\n              8.0,\\n              1984,\\n              1980\\n            ],\\n            [\\n              \\\"Rocky\\\",\\n              318041,\\n              8.0,\\n              1976,\\n              1970\\n            ],\\n            [\\n              \\\"Prisoners\\\",\\n              312516,\\n              8.0,\\n              2013,\\n              2010\\n            ],\\n            [\\n              \\\"The Killing\\\",\\n              56671,\\n              8.0,\\n              1956,\\n              1950\\n            ],\\n            [\\n              \\\"The Night of the Hunter\\\",\\n              57974,\\n              8.0,\\n              1955,\\n              1950\\n            ],\\n            [\\n              \\\"La battaglia di Algeri\\\",\\n              32385,\\n              8.0,\\n              1966,\\n              1960\\n            ],\\n            [\\n              \\\"Bom yeoreum gaeul gyeoul geurigo bom\\\",\\n              55382,\\n              8.0,\\n              2003,\\n              2000\\n            ],\\n            [\\n              \\\"Papillon\\\",\\n              87591,\\n              8.0,\\n              1973,\\n              1970\\n            ],\\n            [\\n              \\\"Before Sunrise\\\",\\n              158867,\\n              8.0,\\n              1995,\\n              1990\\n            ],\\n            [\\n              \\\"Tenk\\\\u00fb no shiro Rapyuta\\\",\\n              83941,\\n              8.0,\\n              1986,\\n              1980\\n            ],\\n            [\\n              \\\"Jaws\\\",\\n              364225,\\n              8.0,\\n              1975,\\n              1970\\n            ],\\n            [\\n              \\\"Relatos salvajes\\\",\\n              46987,\\n              8.0,\\n              2014,\\n              2010\\n            ],\\n            [\\n              \\\"Incendies\\\",\\n              65122,\\n              8.1,\\n              2010,\\n              2010\\n            ],\\n            [\\n              \\\"Hachi: A Dog's Tale\\\",\\n              121599,\\n              8.1,\\n              2009,\\n              2000\\n            ],\\n            [\\n              \\\"The Best Years of Our Lives\\\",\\n              35983,\\n              8.1,\\n              1946,\\n              1940\\n            ],\\n            [\\n              \\\"The Wizard of Oz\\\",\\n              259235,\\n              8.1,\\n              1939,\\n              1930\\n            ],\\n            [\\n              \\\"Cool Hand Luke\\\",\\n              108128,\\n              8.1,\\n              1967,\\n              1960\\n            ],\\n            [\\n              \\\"In the Name of the Father\\\",\\n              95212,\\n              8.1,\\n              1993,\\n              1990\\n            ],\\n            [\\n              \\\"The Grapes of Wrath\\\",\\n              55793,\\n              8.1,\\n              1940,\\n              1940\\n            ],\\n            [\\n              \\\"A Beautiful Mind\\\",\\n              525515,\\n              8.1,\\n              2001,\\n              2000\\n            ],\\n            [\\n              \\\"Donnie Darko\\\",\\n              522119,\\n              8.1,\\n              2001,\\n              2000\\n            ],\\n            [\\n              \\\"Mary and Max\\\",\\n              102735,\\n              8.1,\\n              2009,\\n              2000\\n            ],\\n            [\\n              \\\"Stand by Me\\\",\\n              242381,\\n              8.1,\\n              1986,\\n              1980\\n            ],\\n            [\\n              \\\"The Grand Budapest Hotel\\\",\\n              369141,\\n              8.1,\\n              2014,\\n              2010\\n            ],\\n            [\\n              \\\"Butch Cassidy and the Sundance Kid\\\",\\n              134552,\\n              8.1,\\n              1969,\\n              1960\\n            ],\\n            [\\n              \\\"The Sixth Sense\\\",\\n              630994,\\n              8.1,\\n              1999,\\n              1990\\n            ],\\n            [\\n              \\\"The Thing\\\",\\n              228230,\\n              8.1,\\n              1982,\\n              1980\\n            ],\\n            [\\n              \\\"Le salaire de la peur\\\",\\n              31003,\\n              8.1,\\n              1953,\\n              1950\\n            ],\\n            [\\n              \\\"Persona\\\",\\n              52573,\\n              8.1,\\n              1966,\\n              1960\\n            ],\\n            [\\n              \\\"Annie Hall\\\",\\n              169982,\\n              8.1,\\n              1977,\\n              1970\\n            ],\\n            [\\n              \\\"Ben-Hur\\\",\\n              141768,\\n              8.1,\\n              1959,\\n              1950\\n            ],\\n            [\\n              \\\"8\\\\u00bd\\\",\\n              69988,\\n              8.1,\\n              1963,\\n              1960\\n            ],\\n            [\\n              \\\"Fargo\\\",\\n              395997,\\n              8.1,\\n              1996,\\n              1990\\n            ],\\n            [\\n              \\\"Strangers on a Train\\\",\\n              85012,\\n              8.1,\\n              1951,\\n              1950\\n            ],\\n            [\\n              \\\"Gone Girl\\\",\\n              441174,\\n              8.1,\\n              2014,\\n              2010\\n            ],\\n            [\\n              \\\"Million Dollar Baby\\\",\\n              424957,\\n              8.1,\\n              2004,\\n              2000\\n            ],\\n            [\\n              \\\"Network\\\",\\n              91689,\\n              8.1,\\n              1976,\\n              1970\\n            ],\\n            [\\n              \\\"It Happened One Night\\\",\\n              56842,\\n              8.1,\\n              1934,\\n              1930\\n            ],\\n            [\\n              \\\"Trainspotting\\\",\\n              419372,\\n              8.1,\\n              1996,\\n              1990\\n            ],\\n            [\\n              \\\"Les diaboliques\\\",\\n              36725,\\n              8.1,\\n              1955,\\n              1950\\n            ],\\n            [\\n              \\\"There Will Be Blood\\\",\\n              331348,\\n              8.1,\\n              2007,\\n              2000\\n            ],\\n            [\\n              \\\"The Princess Bride\\\",\\n              264285,\\n              8.1,\\n              1987,\\n              1980\\n            ],\\n            [\\n              \\\"Dial M for Murder\\\",\\n              92244,\\n              8.1,\\n              1954,\\n              1950\\n            ],\\n            [\\n              \\\"Hotel Rwanda\\\",\\n              237292,\\n              8.1,\\n              2004,\\n              2000\\n            ],\\n            [\\n              \\\"Sin City\\\",\\n              596880,\\n              8.1,\\n              2005,\\n              2000\\n            ],\\n            [\\n              \\\"The Deer Hunter\\\",\\n              209677,\\n              8.1,\\n              1978,\\n              1970\\n            ],\\n            [\\n              \\\"How to Train Your Dragon\\\",\\n              415845,\\n              8.1,\\n              2010,\\n              2010\\n            ],\\n            [\\n              \\\"Into the Wild\\\",\\n              372803,\\n              8.1,\\n              2007,\\n              2000\\n            ],\\n            [\\n              \\\"Rush (2013/I)\\\",\\n              258882,\\n              8.1,\\n              2013,\\n              2010\\n            ],\\n            [\\n              \\\"Gandhi\\\",\\n              151697,\\n              8.1,\\n              1982,\\n              1980\\n            ],\\n            [\\n              \\\"The Maltese Falcon\\\",\\n              101754,\\n              8.1,\\n              1941,\\n              1940\\n            ],\\n            [\\n              \\\"Amores perros\\\",\\n              156030,\\n              8.1,\\n              2000,\\n              2000\\n            ],\\n            [\\n              \\\"12 Years a Slave\\\",\\n              359121,\\n              8.1,\\n              2013,\\n              2010\\n            ],\\n            [\\n              \\\"The Bourne Ultimatum\\\",\\n              433487,\\n              8.1,\\n              2007,\\n              2000\\n            ],\\n            [\\n              \\\"Kaze no tani no Naushika\\\",\\n              81809,\\n              8.1,\\n              1984,\\n              1980\\n            ],\\n            [\\n              \\\"Platoon\\\",\\n              262404,\\n              8.1,\\n              1986,\\n              1980\\n            ],\\n            [\\n              \\\"Finding Nemo\\\",\\n              591219,\\n              8.1,\\n              2003,\\n              2000\\n            ],\\n            [\\n              \\\"Stalker\\\",\\n              59272,\\n              8.1,\\n              1979,\\n              1970\\n            ],\\n            [\\n              \\\"Life of Brian\\\",\\n              242886,\\n              8.1,\\n              1979,\\n              1970\\n            ],\\n            [\\n              \\\"Gone with the Wind\\\",\\n              192791,\\n              8.1,\\n              1939,\\n              1930\\n            ],\\n            [\\n              \\\"Touch of Evil\\\",\\n              65408,\\n              8.1,\\n              1958,\\n              1950\\n            ],\\n            [\\n              \\\"No Country for Old Men\\\",\\n              540744,\\n              8.1,\\n              2007,\\n              2000\\n            ],\\n            [\\n              \\\"Les quatre cents coups\\\",\\n              61776,\\n              8.1,\\n              1959,\\n              1950\\n            ],\\n            [\\n              \\\"Shutter Island\\\",\\n              670328,\\n              8.1,\\n              2010,\\n              2010\\n            ],\\n            [\\n              \\\"Kill Bill: Vol. 1\\\",\\n              647120,\\n              8.1,\\n              2003,\\n              2000\\n            ],\\n            [\\n              \\\"El secreto de sus ojos\\\",\\n              109254,\\n              8.2,\\n              2009,\\n              2000\\n            ],\\n            [\\n              \\\"Gran Torino\\\",\\n              502773,\\n              8.2,\\n              2008,\\n              2000\\n            ],\\n            [\\n              \\\"Smultronst\\\\u00e4llet\\\",\\n              55861,\\n              8.2,\\n              1957,\\n              1950\\n            ],\\n            [\\n              \\\"Good Will Hunting\\\",\\n              529800,\\n              8.2,\\n              1997,\\n              1990\\n            ],\\n            [\\n              \\\"Jagten\\\",\\n              137310,\\n              8.2,\\n              2012,\\n              2010\\n            ],\\n            [\\n              \\\"The Bridge on the River Kwai\\\",\\n              132677,\\n              8.2,\\n              1957,\\n              1950\\n            ],\\n            [\\n              \\\"The Elephant Man\\\",\\n              145514,\\n              8.2,\\n              1980,\\n              1980\\n            ],\\n            [\\n              \\\"Casino\\\",\\n              294394,\\n              8.2,\\n              1995,\\n              1990\\n            ],\\n            [\\n              \\\"Lock, Stock and Two Smoking Barrels (1998)\\\",\\n              372863,\\n              8.2,\\n              1998,\\n              1990\\n            ],\\n            [\\n              \\\"The Wolf of Wall Street\\\",\\n              624943,\\n              8.2,\\n              2013,\\n              2010\\n            ],\\n            [\\n              \\\"Tonari no Totoro\\\",\\n              142605,\\n              8.2,\\n              1988,\\n              1980\\n            ],\\n            [\\n              \\\"3 Idiots\\\",\\n              167076,\\n              8.2,\\n              2009,\\n              2000\\n            ],\\n            [\\n              \\\"The General\\\",\\n              46332,\\n              8.2,\\n              1926,\\n              1920\\n            ],\\n            [\\n              \\\"Judgment at Nuremberg\\\",\\n              37664,\\n              8.2,\\n              1961,\\n              1960\\n            ],\\n            [\\n              \\\"The Gold Rush\\\",\\n              58506,\\n              8.2,\\n              1925,\\n              1920\\n            ],\\n            [\\n              \\\"The Big Lebowski\\\",\\n              473988,\\n              8.2,\\n              1998,\\n              1990\\n            ],\\n            [\\n              \\\"The Great Escape\\\",\\n              147372,\\n              8.2,\\n              1963,\\n              1960\\n            ],\\n            [\\n              \\\"Up\\\",\\n              566091,\\n              8.2,\\n              2009,\\n              2000\\n            ],\\n            [\\n              \\\"Warrior\\\",\\n              287727,\\n              8.2,\\n              2011,\\n              2010\\n            ],\\n            [\\n              \\\"Ran\\\",\\n              69287,\\n              8.2,\\n              1985,\\n              1980\\n            ],\\n            [\\n              \\\"Der Untergang\\\",\\n              223834,\\n              8.2,\\n              2004,\\n              2000\\n            ],\\n            [\\n              \\\"Hauru no ugoku shiro\\\",\\n              182525,\\n              8.2,\\n              2004,\\n              2000\\n            ],\\n            [\\n              \\\"V for Vendetta\\\",\\n              700999,\\n              8.2,\\n              2005,\\n              2000\\n            ],\\n            [\\n              \\\"Chinatown\\\",\\n              192744,\\n              8.2,\\n              1974,\\n              1970\\n            ],\\n            [\\n              \\\"El laberinto del fauno\\\",\\n              416467,\\n              8.2,\\n              2006,\\n              2000\\n            ],\\n            [\\n              \\\"Blade Runner\\\",\\n              415615,\\n              8.2,\\n              1982,\\n              1980\\n            ],\\n            [\\n              \\\"On the Waterfront\\\",\\n              89233,\\n              8.2,\\n              1954,\\n              1950\\n            ],\\n            [\\n              \\\"Raging Bull\\\",\\n              210647,\\n              8.2,\\n              1980,\\n              1980\\n            ],\\n            [\\n              \\\"Det sjunde inseglet\\\",\\n              98949,\\n              8.2,\\n              1957,\\n              1950\\n            ],\\n            [\\n              \\\"Ikiru\\\",\\n              36638,\\n              8.2,\\n              1952,\\n              1950\\n            ],\\n            [\\n              \\\"Mr. Smith Goes to Washington\\\",\\n              69510,\\n              8.2,\\n              1939,\\n              1930\\n            ],\\n            [\\n              \\\"Rebecca\\\",\\n              78216,\\n              8.2,\\n              1940,\\n              1940\\n            ],\\n            [\\n              \\\"Heat\\\",\\n              388239,\\n              8.2,\\n              1995,\\n              1990\\n            ],\\n            [\\n              \\\"Die Hard\\\",\\n              529287,\\n              8.2,\\n              1988,\\n              1980\\n            ],\\n            [\\n              \\\"Per qualche dollaro in pi\\\\u00f9\\\",\\n              135556,\\n              8.3,\\n              1965,\\n              1960\\n            ],\\n            [\\n              \\\"Mad Max: Fury Road\\\",\\n              262425,\\n              8.3,\\n              2015,\\n              2010\\n            ],\\n            [\\n              \\\"Monty Python and the Holy Grail\\\",\\n              343300,\\n              8.3,\\n              1975,\\n              1970\\n            ],\\n            [\\n              \\\"Witness for the Prosecution\\\",\\n              53186,\\n              8.3,\\n              1957,\\n              1950\\n            ],\\n            [\\n              \\\"A Clockwork Orange\\\",\\n              489807,\\n              8.3,\\n              1971,\\n              1970\\n            ],\\n            [\\n              \\\"The Third Man\\\",\\n              101785,\\n              8.3,\\n              1949,\\n              1940\\n            ],\\n            [\\n              \\\"Braveheart\\\",\\n              653769,\\n              8.3,\\n              1995,\\n              1990\\n            ],\\n            [\\n              \\\"Amadeus\\\",\\n              240308,\\n              8.3,\\n              1984,\\n              1980\\n            ],\\n            [\\n              \\\"Indiana Jones and the Last Crusade\\\",\\n              453748,\\n              8.3,\\n              1989,\\n              1980\\n            ],\\n            [\\n              \\\"The Kid\\\",\\n              55784,\\n              8.3,\\n              1921,\\n              1920\\n            ],\\n            [\\n              \\\"Y\\\\u00f4jinb\\\\u00f4\\\",\\n              65370,\\n              8.3,\\n              1961,\\n              1960\\n            ],\\n            [\\n              \\\"Jodaeiye Nader az Simin\\\",\\n              133760,\\n              8.3,\\n              2011,\\n              2010\\n            ],\\n            [\\n              \\\"Eternal Sunshine of the Spotless Mind\\\",\\n              589477,\\n              8.3,\\n              2004,\\n              2000\\n            ],\\n            [\\n              \\\"The Apartment\\\",\\n              96190,\\n              8.3,\\n              1960,\\n              1960\\n            ],\\n            [\\n              \\\"Requiem for a Dream\\\",\\n              511177,\\n              8.3,\\n              2000,\\n              2000\\n            ],\\n            [\\n              \\\"Rash\\\\u00f4mon\\\",\\n              90434,\\n              8.3,\\n              1950,\\n              1950\\n            ],\\n            [\\n              \\\"Toy Story 3\\\",\\n              470158,\\n              8.3,\\n              2010,\\n              2010\\n            ],\\n            [\\n              \\\"Double Indemnity\\\",\\n              86715,\\n              8.3,\\n              1944,\\n              1940\\n            ],\\n            [\\n              \\\"Metropolis\\\",\\n              98794,\\n              8.3,\\n              1927,\\n              1920\\n            ],\\n            [\\n              \\\"L.A. Confidential\\\",\\n              376590,\\n              8.3,\\n              1997,\\n              1990\\n            ],\\n            [\\n              \\\"Snatch.\\\",\\n              536053,\\n              8.3,\\n              2000,\\n              2000\\n            ],\\n            [\\n              \\\"Lawrence of Arabia\\\",\\n              170302,\\n              8.3,\\n              1962,\\n              1960\\n            ],\\n            [\\n              \\\"2001: A Space Odyssey\\\",\\n              373482,\\n              8.3,\\n              1968,\\n              1960\\n            ],\\n            [\\n              \\\"The Sting\\\",\\n              155691,\\n              8.3,\\n              1973,\\n              1970\\n            ],\\n            [\\n              \\\"The Treasure of the Sierra Madre\\\",\\n              71003,\\n              8.3,\\n              1948,\\n              1940\\n            ],\\n            [\\n              \\\"Ladri di biciclette\\\",\\n              81887,\\n              8.3,\\n              1948,\\n              1940\\n            ],\\n            [\\n              \\\"Toy Story\\\",\\n              535249,\\n              8.3,\\n              1995,\\n              1990\\n            ],\\n            [\\n              \\\"Inglourious Basterds\\\",\\n              755013,\\n              8.3,\\n              2009,\\n              2000\\n            ],\\n            [\\n              \\\"Singin' in the Rain\\\",\\n              132823,\\n              8.3,\\n              1952,\\n              1950\\n            ],\\n            [\\n              \\\"All About Eve\\\",\\n              74178,\\n              8.3,\\n              1950,\\n              1950\\n            ],\\n            [\\n              \\\"To Kill a Mockingbird\\\",\\n              188160,\\n              8.3,\\n              1962,\\n              1960\\n            ],\\n            [\\n              \\\"Scarface\\\",\\n              475594,\\n              8.3,\\n              1983,\\n              1980\\n            ],\\n            [\\n              \\\"Full Metal Jacket\\\",\\n              425461,\\n              8.3,\\n              1987,\\n              1980\\n            ],\\n            [\\n              \\\"Taxi Driver\\\",\\n              444534,\\n              8.3,\\n              1976,\\n              1970\\n            ],\\n            [\\n              \\\"Reservoir Dogs\\\",\\n              578684,\\n              8.3,\\n              1992,\\n              1990\\n            ],\\n            [\\n              \\\"Unforgiven\\\",\\n              248514,\\n              8.3,\\n              1992,\\n              1990\\n            ],\\n            [\\n              \\\"Some Like It Hot\\\",\\n              156432,\\n              8.3,\\n              1959,\\n              1950\\n            ],\\n            [\\n              \\\"Batman Begins\\\",\\n              850601,\\n              8.3,\\n              2005,\\n              2000\\n            ],\\n            [\\n              \\\"The Great Dictator\\\",\\n              117590,\\n              8.4,\\n              1940,\\n              1940\\n            ],\\n            [\\n              \\\"The Shining\\\",\\n              532559,\\n              8.4,\\n              1980,\\n              1980\\n            ],\\n            [\\n              \\\"Nuovo Cinema Paradiso\\\",\\n              132121,\\n              8.4,\\n              1988,\\n              1980\\n            ],\\n            [\\n              \\\"The Dark Knight Rises\\\",\\n              997350,\\n              8.4,\\n              2012,\\n              2010\\n            ],\\n            [\\n              \\\"WALL\\\\u00b7E\\\",\\n              618914,\\n              8.4,\\n              2008,\\n              2000\\n            ],\\n            [\\n              \\\"Citizen Kane\\\",\\n              268905,\\n              8.4,\\n              1941,\\n              1940\\n            ],\\n            [\\n              \\\"Once Upon a Time in America\\\",\\n              195266,\\n              8.4,\\n              1984,\\n              1980\\n            ],\\n            [\\n              \\\"The Lion King\\\",\\n              548750,\\n              8.4,\\n              1994,\\n              1990\\n            ],\\n            [\\n              \\\"Das Leben der Anderen\\\",\\n              229533,\\n              8.4,\\n              2006,\\n              2000\\n            ],\\n            [\\n              \\\"Oldeuboi\\\",\\n              311070,\\n              8.4,\\n              2003,\\n              2000\\n            ],\\n            [\\n              \\\"Mononoke-hime\\\",\\n              192165,\\n              8.4,\\n              1997,\\n              1990\\n            ],\\n            [\\n              \\\"Vertigo\\\",\\n              218430,\\n              8.4,\\n              1958,\\n              1950\\n            ],\\n            [\\n              \\\"Das Boot\\\",\\n              151256,\\n              8.4,\\n              1981,\\n              1980\\n            ],\\n            [\\n              \\\"M\\\",\\n              88355,\\n              8.4,\\n              1931,\\n              1930\\n            ],\\n            [\\n              \\\"Star Wars: Episode VI - Return of the Jedi\\\",\\n              556811,\\n              8.4,\\n              1983,\\n              1980\\n            ],\\n            [\\n              \\\"Le fabuleux destin d'Am\\\\u00e9lie Poulain\\\",\\n              474068,\\n              8.4,\\n              2001,\\n              2000\\n            ],\\n            [\\n              \\\"American Beauty\\\",\\n              735056,\\n              8.4,\\n              1999,\\n              1990\\n            ],\\n            [\\n              \\\"Django Unchained\\\",\\n              804729,\\n              8.4,\\n              2012,\\n              2010\\n            ],\\n            [\\n              \\\"North by Northwest\\\",\\n              198795,\\n              8.4,\\n              1959,\\n              1950\\n            ],\\n            [\\n              \\\"Aliens\\\",\\n              436218,\\n              8.4,\\n              1986,\\n              1980\\n            ],\\n            [\\n              \\\"Paths of Glory\\\",\\n              106038,\\n              8.4,\\n              1957,\\n              1950\\n            ],\\n            [\\n              \\\"Hotaru no haka\\\",\\n              115740,\\n              8.4,\\n              1988,\\n              1980\\n            ],\\n            [\\n              \\\"American History X\\\",\\n              694602,\\n              8.5,\\n              1998,\\n              1990\\n            ],\\n            [\\n              \\\"City Lights\\\",\\n              92375,\\n              8.5,\\n              1931,\\n              1930\\n            ],\\n            [\\n              \\\"Rear Window\\\",\\n              280432,\\n              8.5,\\n              1954,\\n              1950\\n            ],\\n            [\\n              \\\"Dr. Strangelove or: How I Learned to Stop Worrying and Love the Bomb\\\",\\n              309141,\\n              8.5,\\n              1964,\\n              1960\\n            ],\\n            [\\n              \\\"Terminator 2: Judgment Day\\\",\\n              658564,\\n              8.5,\\n              1991,\\n              1990\\n            ],\\n            [\\n              \\\"Inside Out (2015/I)\\\",\\n              79615,\\n              8.5,\\n              2015,\\n              2010\\n            ],\\n            [\\n              \\\"Sen to Chihiro no Kamikakushi\\\",\\n              357355,\\n              8.5,\\n              2001,\\n              2000\\n            ],\\n            [\\n              \\\"Casablanca\\\",\\n              350551,\\n              8.5,\\n              1942,\\n              1940\\n            ],\\n            [\\n              \\\"Back to the Future\\\",\\n              625463,\\n              8.5,\\n              1985,\\n              1980\\n            ],\\n            [\\n              \\\"Modern Times\\\",\\n              121668,\\n              8.5,\\n              1936,\\n              1930\\n            ],\\n            [\\n              \\\"Saving Private Ryan\\\",\\n              769893,\\n              8.5,\\n              1998,\\n              1990\\n            ],\\n            [\\n              \\\"Gladiator\\\",\\n              862216,\\n              8.5,\\n              2000,\\n              2000\\n            ],\\n            [\\n              \\\"Raiders of the Lost Ark\\\",\\n              585474,\\n              8.5,\\n              1981,\\n              1980\\n            ],\\n            [\\n              \\\"Intouchables\\\",\\n              417122,\\n              8.5,\\n              2011,\\n              2010\\n            ],\\n            [\\n              \\\"Psycho\\\",\\n              371791,\\n              8.5,\\n              1960,\\n              1960\\n            ],\\n            [\\n              \\\"Whiplash\\\",\\n              264333,\\n              8.5,\\n              2014,\\n              2010\\n            ],\\n            [\\n              \\\"The Green Mile\\\",\\n              672878,\\n              8.5,\\n              1999,\\n              1990\\n            ],\\n            [\\n              \\\"Memento\\\",\\n              752122,\\n              8.5,\\n              2000,\\n              2000\\n            ],\\n            [\\n              \\\"The Prestige\\\",\\n              733490,\\n              8.5,\\n              2006,\\n              2000\\n            ],\\n            [\\n              \\\"The Departed\\\",\\n              763871,\\n              8.5,\\n              2006,\\n              2000\\n            ],\\n            [\\n              \\\"The Pianist\\\",\\n              431856,\\n              8.5,\\n              2002,\\n              2000\\n            ],\\n            [\\n              \\\"Alien\\\",\\n              496833,\\n              8.5,\\n              1979,\\n              1970\\n            ],\\n            [\\n              \\\"Apocalypse Now\\\",\\n              403754,\\n              8.5,\\n              1979,\\n              1970\\n            ],\\n            [\\n              \\\"Sunset Blvd.\\\",\\n              123879,\\n              8.5,\\n              1950,\\n              1950\\n            ],\\n            [\\n              \\\"Se7en\\\",\\n              895411,\\n              8.6,\\n              1995,\\n              1990\\n            ],\\n            [\\n              \\\"La vita \\\\u00e8 bella\\\",\\n              358305,\\n              8.6,\\n              1997,\\n              1990\\n            ],\\n            [\\n              \\\"Interstellar\\\",\\n              689541,\\n              8.6,\\n              2014,\\n              2010\\n            ],\\n            [\\n              \\\"It's a Wonderful Life\\\",\\n              242353,\\n              8.6,\\n              1946,\\n              1940\\n            ],\\n            [\\n              \\\"Cidade de Deus\\\",\\n              476501,\\n              8.6,\\n              2002,\\n              2000\\n            ],\\n            [\\n              \\\"L\\\\u00e9on\\\",\\n              635139,\\n              8.6,\\n              1994,\\n              1990\\n            ],\\n            [\\n              \\\"C'era una volta il West\\\",\\n              192206,\\n              8.6,\\n              1968,\\n              1960\\n            ],\\n            [\\n              \\\"The Usual Suspects\\\",\\n              656756,\\n              8.6,\\n              1995,\\n              1990\\n            ],\\n            [\\n              \\\"The Silence of the Lambs\\\",\\n              767224,\\n              8.6,\\n              1991,\\n              1990\\n            ],\\n            [\\n              \\\"Forrest Gump\\\",\\n              1078416,\\n              8.7,\\n              1994,\\n              1990\\n            ],\\n            [\\n              \\\"The Lord of the Rings: The Two Towers\\\",\\n              967389,\\n              8.7,\\n              2002,\\n              2000\\n            ],\\n            [\\n              \\\"Star Wars: Episode V - The Empire Strikes Back\\\",\\n              700283,\\n              8.7,\\n              1980,\\n              1980\\n            ],\\n            [\\n              \\\"The Matrix\\\",\\n              1073043,\\n              8.7,\\n              1999,\\n              1990\\n            ],\\n            [\\n              \\\"Star Wars\\\",\\n              770011,\\n              8.7,\\n              1977,\\n              1970\\n            ],\\n            [\\n              \\\"Goodfellas\\\",\\n              644556,\\n              8.7,\\n              1990,\\n              1990\\n            ],\\n            [\\n              \\\"One Flew Over the Cuckoo's Nest\\\",\\n              606395,\\n              8.7,\\n              1975,\\n              1970\\n            ],\\n            [\\n              \\\"Shichinin no samurai\\\",\\n              206216,\\n              8.7,\\n              1954,\\n              1950\\n            ],\\n            [\\n              \\\"Inception\\\",\\n              1271949,\\n              8.7,\\n              2010,\\n              2010\\n            ],\\n            [\\n              \\\"Fight Club\\\",\\n              1177098,\\n              8.8,\\n              1999,\\n              1990\\n            ],\\n            [\\n              \\\"The Lord of the Rings: The Fellowship of the Ring\\\",\\n              1099087,\\n              8.8,\\n              2001,\\n              2000\\n            ],\\n            [\\n              \\\"Pulp Fiction\\\",\\n              1166532,\\n              8.9,\\n              1994,\\n              1990\\n            ],\\n            [\\n              \\\"The Dark Knight\\\",\\n              1473049,\\n              8.9,\\n              2008,\\n              2000\\n            ],\\n            [\\n              \\\"Il buono, il brutto, il cattivo (1966)\\\",\\n              447875,\\n              8.9,\\n              1966,\\n              1960\\n            ],\\n            [\\n              \\\"The Lord of the Rings: The Return of the King\\\",\\n              1074146,\\n              8.9,\\n              2003,\\n              2000\\n            ],\\n            [\\n              \\\"Schindler's List\\\",\\n              761224,\\n              8.9,\\n              1993,\\n              1990\\n            ],\\n            [\\n              \\\"12 Angry Men\\\",\\n              384187,\\n              8.9,\\n              1957,\\n              1950\\n            ],\\n            [\\n              \\\"The Godfather: Part II\\\",\\n              692753,\\n              9.0,\\n              1974,\\n              1970\\n            ],\\n            [\\n              \\\"The Shawshank Redemption\\\",\\n              1498733,\\n              9.2,\\n              1994,\\n              1990\\n            ],\\n            [\\n              \\\"The Godfather\\\",\\n              1027398,\\n              9.2,\\n              1972,\\n              1970\\n            ]\\n          ],\\n          \\\"group_data\\\": {\\n            \\\"columns\\\": [\\n              \\\"Decade\\\"\\n            ],\\n            \\\"groups\\\": [\\n              {\\n                \\\"name\\\": [\\n                  1920\\n                ],\\n                \\\"labels\\\": [\\n                  115,\\n                  117,\\n                  146,\\n                  155\\n                ]\\n              },\\n              {\\n                \\\"name\\\": [\\n                  1930\\n                ],\\n                \\\"labels\\\": [\\n                  53,\\n                  75,\\n                  97,\\n                  133,\\n                  188,\\n                  198,\\n                  206\\n                ]\\n              },\\n              {\\n                \\\"name\\\": [\\n                  1940\\n                ],\\n                \\\"labels\\\": [\\n                  32,\\n                  37,\\n                  52,\\n                  56,\\n                  88,\\n                  134,\\n                  142,\\n                  154,\\n                  161,\\n                  162,\\n                  175,\\n                  180,\\n                  204,\\n                  224\\n                ]\\n              },\\n              {\\n                \\\"name\\\": [\\n                  1950\\n                ],\\n                \\\"labels\\\": [\\n                  7,\\n                  14,\\n                  17,\\n                  29,\\n                  41,\\n                  42,\\n                  65,\\n                  68,\\n                  71,\\n                  77,\\n                  80,\\n                  98,\\n                  100,\\n                  105,\\n                  108,\\n                  129,\\n                  131,\\n                  132,\\n                  140,\\n                  152,\\n                  165,\\n                  166,\\n                  173,\\n                  186,\\n                  193,\\n                  195,\\n                  199,\\n                  220,\\n                  237,\\n                  246\\n                ]\\n              },\\n              {\\n                \\\"name\\\": [\\n                  1960\\n                ],\\n                \\\"labels\\\": [\\n                  1,\\n                  3,\\n                  5,\\n                  15,\\n                  26,\\n                  43,\\n                  54,\\n                  62,\\n                  66,\\n                  69,\\n                  116,\\n                  119,\\n                  137,\\n                  147,\\n                  150,\\n                  158,\\n                  159,\\n                  167,\\n                  200,\\n                  211,\\n                  227,\\n                  243\\n                ]\\n              },\\n              {\\n                \\\"name\\\": [\\n                  1970\\n                ],\\n                \\\"labels\\\": [\\n                  10,\\n                  11,\\n                  39,\\n                  45,\\n                  48,\\n                  67,\\n                  74,\\n                  83,\\n                  95,\\n                  96,\\n                  126,\\n                  139,\\n                  141,\\n                  160,\\n                  170,\\n                  218,\\n                  219,\\n                  234,\\n                  236,\\n                  247,\\n                  249\\n                ]\\n              },\\n              {\\n                \\\"name\\\": [\\n                  1980\\n                ],\\n                \\\"labels\\\": [\\n                  0,\\n                  24,\\n                  27,\\n                  38,\\n                  47,\\n                  60,\\n                  64,\\n                  79,\\n                  87,\\n                  92,\\n                  93,\\n                  109,\\n                  113,\\n                  122,\\n                  128,\\n                  130,\\n                  136,\\n                  144,\\n                  145,\\n                  168,\\n                  169,\\n                  176,\\n                  177,\\n                  181,\\n                  187,\\n                  189,\\n                  194,\\n                  196,\\n                  205,\\n                  209,\\n                  232\\n                ]\\n              },\\n              {\\n                \\\"name\\\": [\\n                  1990\\n                ],\\n                \\\"labels\\\": [\\n                  4,\\n                  6,\\n                  13,\\n                  22,\\n                  23,\\n                  28,\\n                  30,\\n                  34,\\n                  46,\\n                  55,\\n                  63,\\n                  70,\\n                  76,\\n                  106,\\n                  110,\\n                  111,\\n                  118,\\n                  135,\\n                  143,\\n                  156,\\n                  163,\\n                  171,\\n                  172,\\n                  182,\\n                  185,\\n                  191,\\n                  197,\\n                  201,\\n                  207,\\n                  213,\\n                  221,\\n                  222,\\n                  226,\\n                  228,\\n                  229,\\n                  230,\\n                  233,\\n                  235,\\n                  239,\\n                  241,\\n                  245,\\n                  248\\n                ]\\n              },\\n              {\\n                \\\"name\\\": [\\n                  2000\\n                ],\\n                \\\"labels\\\": [\\n                  18,\\n                  19,\\n                  21,\\n                  31,\\n                  33,\\n                  35,\\n                  36,\\n                  44,\\n                  51,\\n                  57,\\n                  58,\\n                  59,\\n                  73,\\n                  78,\\n                  81,\\n                  82,\\n                  85,\\n                  89,\\n                  91,\\n                  94,\\n                  99,\\n                  102,\\n                  103,\\n                  104,\\n                  114,\\n                  120,\\n                  123,\\n                  124,\\n                  125,\\n                  127,\\n                  149,\\n                  151,\\n                  157,\\n                  164,\\n                  174,\\n                  179,\\n                  183,\\n                  184,\\n                  190,\\n                  203,\\n                  208,\\n                  214,\\n                  215,\\n                  216,\\n                  217,\\n                  225,\\n                  231,\\n                  240,\\n                  242,\\n                  244\\n                ]\\n              },\\n              {\\n                \\\"name\\\": [\\n                  2010\\n                ],\\n                \\\"labels\\\": [\\n                  2,\\n                  8,\\n                  9,\\n                  12,\\n                  16,\\n                  20,\\n                  25,\\n                  40,\\n                  49,\\n                  50,\\n                  61,\\n                  72,\\n                  84,\\n                  86,\\n                  90,\\n                  101,\\n                  107,\\n                  112,\\n                  121,\\n                  138,\\n                  148,\\n                  153,\\n                  178,\\n                  192,\\n                  202,\\n                  210,\\n                  212,\\n                  223,\\n                  238\\n                ]\\n              }\\n            ]\\n          }\\n        }\\n      }\\n    },\\n    {\\n      \\\"type\\\": \\\"AggCall\\\",\\n      \\\"code_step\\\": \\\"imdb.reset_index().groupby('Decade').max()\\\",\\n      \\\"fragment\\\": {\\n        \\\"start\\\": {\\n          \\\"line\\\": 0,\\n          \\\"ch\\\": 36\\n        },\\n        \\\"end\\\": {\\n          \\\"line\\\": 0,\\n          \\\"ch\\\": 42\\n        }\\n      },\\n      \\\"marks\\\": [\\n        {\\n          \\\"type\\\": \\\"map\\\",\\n          \\\"from\\\": {\\n            \\\"type\\\": \\\"axis\\\",\\n            \\\"anchor\\\": \\\"lhs\\\",\\n            \\\"select\\\": \\\"row\\\",\\n            \\\"label\\\": 115\\n          },\\n          \\\"to\\\": {\\n            \\\"type\\\": \\\"axis\\\",\\n            \\\"anchor\\\": \\\"rhs\\\",\\n            \\\"select\\\": \\\"row\\\",\\n            \\\"label\\\": 1920\\n          }\\n        },\\n        {\\n          \\\"type\\\": \\\"map\\\",\\n          \\\"from\\\": {\\n            \\\"type\\\": \\\"axis\\\",\\n            \\\"anchor\\\": \\\"lhs\\\",\\n            \\\"select\\\": \\\"row\\\",\\n            \\\"label\\\": 117\\n          },\\n          \\\"to\\\": {\\n            \\\"type\\\": \\\"axis\\\",\\n            \\\"anchor\\\": \\\"rhs\\\",\\n            \\\"select\\\": \\\"row\\\",\\n            \\\"label\\\": 1920\\n          }\\n        },\\n        {\\n          \\\"type\\\": \\\"map\\\",\\n          \\\"from\\\": {\\n            \\\"type\\\": \\\"axis\\\",\\n            \\\"anchor\\\": \\\"lhs\\\",\\n            \\\"select\\\": \\\"row\\\",\\n            \\\"label\\\": 146\\n          },\\n          \\\"to\\\": {\\n            \\\"type\\\": \\\"axis\\\",\\n            \\\"anchor\\\": \\\"rhs\\\",\\n            \\\"select\\\": \\\"row\\\",\\n            \\\"label\\\": 1920\\n          }\\n        },\\n        {\\n          \\\"type\\\": \\\"map\\\",\\n          \\\"from\\\": {\\n            \\\"type\\\": \\\"axis\\\",\\n            \\\"anchor\\\": \\\"lhs\\\",\\n            \\\"select\\\": \\\"row\\\",\\n            \\\"label\\\": 155\\n          },\\n          \\\"to\\\": {\\n            \\\"type\\\": \\\"axis\\\",\\n            \\\"anchor\\\": \\\"rhs\\\",\\n            \\\"select\\\": \\\"row\\\",\\n            \\\"label\\\": 1920\\n          }\\n        },\\n        {\\n          \\\"type\\\": \\\"map\\\",\\n          \\\"from\\\": {\\n            \\\"type\\\": \\\"axis\\\",\\n            \\\"anchor\\\": \\\"lhs\\\",\\n            \\\"select\\\": \\\"row\\\",\\n            \\\"label\\\": 53\\n          },\\n          \\\"to\\\": {\\n            \\\"type\\\": \\\"axis\\\",\\n            \\\"anchor\\\": \\\"rhs\\\",\\n            \\\"select\\\": \\\"row\\\",\\n            \\\"label\\\": 1930\\n          }\\n        },\\n        {\\n          \\\"type\\\": \\\"map\\\",\\n          \\\"from\\\": {\\n            \\\"type\\\": \\\"axis\\\",\\n            \\\"anchor\\\": \\\"lhs\\\",\\n            \\\"select\\\": \\\"row\\\",\\n            \\\"label\\\": 75\\n          },\\n          \\\"to\\\": {\\n            \\\"type\\\": \\\"axis\\\",\\n            \\\"anchor\\\": \\\"rhs\\\",\\n            \\\"select\\\": \\\"row\\\",\\n            \\\"label\\\": 1930\\n          }\\n        },\\n        {\\n          \\\"type\\\": \\\"map\\\",\\n          \\\"from\\\": {\\n            \\\"type\\\": \\\"axis\\\",\\n            \\\"anchor\\\": \\\"lhs\\\",\\n            \\\"select\\\": \\\"row\\\",\\n            \\\"label\\\": 97\\n          },\\n          \\\"to\\\": {\\n            \\\"type\\\": \\\"axis\\\",\\n            \\\"anchor\\\": \\\"rhs\\\",\\n            \\\"select\\\": \\\"row\\\",\\n            \\\"label\\\": 1930\\n          }\\n        },\\n        {\\n          \\\"type\\\": \\\"map\\\",\\n          \\\"from\\\": {\\n            \\\"type\\\": \\\"axis\\\",\\n            \\\"anchor\\\": \\\"lhs\\\",\\n            \\\"select\\\": \\\"row\\\",\\n            \\\"label\\\": 133\\n          },\\n          \\\"to\\\": {\\n            \\\"type\\\": \\\"axis\\\",\\n            \\\"anchor\\\": \\\"rhs\\\",\\n            \\\"select\\\": \\\"row\\\",\\n            \\\"label\\\": 1930\\n          }\\n        },\\n        {\\n          \\\"type\\\": \\\"map\\\",\\n          \\\"from\\\": {\\n            \\\"type\\\": \\\"axis\\\",\\n            \\\"anchor\\\": \\\"lhs\\\",\\n            \\\"select\\\": \\\"row\\\",\\n            \\\"label\\\": 188\\n          },\\n          \\\"to\\\": {\\n            \\\"type\\\": \\\"axis\\\",\\n            \\\"anchor\\\": \\\"rhs\\\",\\n            \\\"select\\\": \\\"row\\\",\\n            \\\"label\\\": 1930\\n          }\\n        },\\n        {\\n          \\\"type\\\": \\\"map\\\",\\n          \\\"from\\\": {\\n            \\\"type\\\": \\\"axis\\\",\\n            \\\"anchor\\\": \\\"lhs\\\",\\n            \\\"select\\\": \\\"row\\\",\\n            \\\"label\\\": 198\\n          },\\n          \\\"to\\\": {\\n            \\\"type\\\": \\\"axis\\\",\\n            \\\"anchor\\\": \\\"rhs\\\",\\n            \\\"select\\\": \\\"row\\\",\\n            \\\"label\\\": 1930\\n          }\\n        },\\n        {\\n          \\\"type\\\": \\\"map\\\",\\n          \\\"from\\\": {\\n            \\\"type\\\": \\\"axis\\\",\\n            \\\"anchor\\\": \\\"lhs\\\",\\n            \\\"select\\\": \\\"row\\\",\\n            \\\"label\\\": 206\\n          },\\n          \\\"to\\\": {\\n            \\\"type\\\": \\\"axis\\\",\\n            \\\"anchor\\\": \\\"rhs\\\",\\n            \\\"select\\\": \\\"row\\\",\\n            \\\"label\\\": 1930\\n          }\\n        },\\n        {\\n          \\\"type\\\": \\\"map\\\",\\n          \\\"from\\\": {\\n            \\\"type\\\": \\\"axis\\\",\\n            \\\"anchor\\\": \\\"lhs\\\",\\n            \\\"select\\\": \\\"row\\\",\\n            \\\"label\\\": 32\\n          },\\n          \\\"to\\\": {\\n            \\\"type\\\": \\\"axis\\\",\\n            \\\"anchor\\\": \\\"rhs\\\",\\n            \\\"select\\\": \\\"row\\\",\\n            \\\"label\\\": 1940\\n          }\\n        },\\n        {\\n          \\\"type\\\": \\\"map\\\",\\n          \\\"from\\\": {\\n            \\\"type\\\": \\\"axis\\\",\\n            \\\"anchor\\\": \\\"lhs\\\",\\n            \\\"select\\\": \\\"row\\\",\\n            \\\"label\\\": 37\\n          },\\n          \\\"to\\\": {\\n            \\\"type\\\": \\\"axis\\\",\\n            \\\"anchor\\\": \\\"rhs\\\",\\n            \\\"select\\\": \\\"row\\\",\\n            \\\"label\\\": 1940\\n          }\\n        },\\n        {\\n          \\\"type\\\": \\\"map\\\",\\n          \\\"from\\\": {\\n            \\\"type\\\": \\\"axis\\\",\\n            \\\"anchor\\\": \\\"lhs\\\",\\n            \\\"select\\\": \\\"row\\\",\\n            \\\"label\\\": 52\\n          },\\n          \\\"to\\\": {\\n            \\\"type\\\": \\\"axis\\\",\\n            \\\"anchor\\\": \\\"rhs\\\",\\n            \\\"select\\\": \\\"row\\\",\\n            \\\"label\\\": 1940\\n          }\\n        },\\n        {\\n          \\\"type\\\": \\\"map\\\",\\n          \\\"from\\\": {\\n            \\\"type\\\": \\\"axis\\\",\\n            \\\"anchor\\\": \\\"lhs\\\",\\n            \\\"select\\\": \\\"row\\\",\\n            \\\"label\\\": 56\\n          },\\n          \\\"to\\\": {\\n            \\\"type\\\": \\\"axis\\\",\\n            \\\"anchor\\\": \\\"rhs\\\",\\n            \\\"select\\\": \\\"row\\\",\\n            \\\"label\\\": 1940\\n          }\\n        },\\n        {\\n          \\\"type\\\": \\\"map\\\",\\n          \\\"from\\\": {\\n            \\\"type\\\": \\\"axis\\\",\\n            \\\"anchor\\\": \\\"lhs\\\",\\n            \\\"select\\\": \\\"row\\\",\\n            \\\"label\\\": 88\\n          },\\n          \\\"to\\\": {\\n            \\\"type\\\": \\\"axis\\\",\\n            \\\"anchor\\\": \\\"rhs\\\",\\n            \\\"select\\\": \\\"row\\\",\\n            \\\"label\\\": 1940\\n          }\\n        },\\n        {\\n          \\\"type\\\": \\\"map\\\",\\n          \\\"from\\\": {\\n            \\\"type\\\": \\\"axis\\\",\\n            \\\"anchor\\\": \\\"lhs\\\",\\n            \\\"select\\\": \\\"row\\\",\\n            \\\"label\\\": 134\\n          },\\n          \\\"to\\\": {\\n            \\\"type\\\": \\\"axis\\\",\\n            \\\"anchor\\\": \\\"rhs\\\",\\n            \\\"select\\\": \\\"row\\\",\\n            \\\"label\\\": 1940\\n          }\\n        },\\n        {\\n          \\\"type\\\": \\\"map\\\",\\n          \\\"from\\\": {\\n            \\\"type\\\": \\\"axis\\\",\\n            \\\"anchor\\\": \\\"lhs\\\",\\n            \\\"select\\\": \\\"row\\\",\\n            \\\"label\\\": 142\\n          },\\n          \\\"to\\\": {\\n            \\\"type\\\": \\\"axis\\\",\\n            \\\"anchor\\\": \\\"rhs\\\",\\n            \\\"select\\\": \\\"row\\\",\\n            \\\"label\\\": 1940\\n          }\\n        },\\n        {\\n          \\\"type\\\": \\\"map\\\",\\n          \\\"from\\\": {\\n            \\\"type\\\": \\\"axis\\\",\\n            \\\"anchor\\\": \\\"lhs\\\",\\n            \\\"select\\\": \\\"row\\\",\\n            \\\"label\\\": 154\\n          },\\n          \\\"to\\\": {\\n            \\\"type\\\": \\\"axis\\\",\\n            \\\"anchor\\\": \\\"rhs\\\",\\n            \\\"select\\\": \\\"row\\\",\\n            \\\"label\\\": 1940\\n          }\\n        },\\n        {\\n          \\\"type\\\": \\\"map\\\",\\n          \\\"from\\\": {\\n            \\\"type\\\": \\\"axis\\\",\\n            \\\"anchor\\\": \\\"lhs\\\",\\n            \\\"select\\\": \\\"row\\\",\\n            \\\"label\\\": 161\\n          },\\n          \\\"to\\\": {\\n            \\\"type\\\": \\\"axis\\\",\\n            \\\"anchor\\\": \\\"rhs\\\",\\n            \\\"select\\\": \\\"row\\\",\\n            \\\"label\\\": 1940\\n          }\\n        },\\n        {\\n          \\\"type\\\": \\\"map\\\",\\n          \\\"from\\\": {\\n            \\\"type\\\": \\\"axis\\\",\\n            \\\"anchor\\\": \\\"lhs\\\",\\n            \\\"select\\\": \\\"row\\\",\\n            \\\"label\\\": 162\\n          },\\n          \\\"to\\\": {\\n            \\\"type\\\": \\\"axis\\\",\\n            \\\"anchor\\\": \\\"rhs\\\",\\n            \\\"select\\\": \\\"row\\\",\\n            \\\"label\\\": 1940\\n          }\\n        },\\n        {\\n          \\\"type\\\": \\\"map\\\",\\n          \\\"from\\\": {\\n            \\\"type\\\": \\\"axis\\\",\\n            \\\"anchor\\\": \\\"lhs\\\",\\n            \\\"select\\\": \\\"row\\\",\\n            \\\"label\\\": 175\\n          },\\n          \\\"to\\\": {\\n            \\\"type\\\": \\\"axis\\\",\\n            \\\"anchor\\\": \\\"rhs\\\",\\n            \\\"select\\\": \\\"row\\\",\\n            \\\"label\\\": 1940\\n          }\\n        },\\n        {\\n          \\\"type\\\": \\\"map\\\",\\n          \\\"from\\\": {\\n            \\\"type\\\": \\\"axis\\\",\\n            \\\"anchor\\\": \\\"lhs\\\",\\n            \\\"select\\\": \\\"row\\\",\\n            \\\"label\\\": 180\\n          },\\n          \\\"to\\\": {\\n            \\\"type\\\": \\\"axis\\\",\\n            \\\"anchor\\\": \\\"rhs\\\",\\n            \\\"select\\\": \\\"row\\\",\\n            \\\"label\\\": 1940\\n          }\\n        },\\n        {\\n          \\\"type\\\": \\\"map\\\",\\n          \\\"from\\\": {\\n            \\\"type\\\": \\\"axis\\\",\\n            \\\"anchor\\\": \\\"lhs\\\",\\n            \\\"select\\\": \\\"row\\\",\\n            \\\"label\\\": 204\\n          },\\n          \\\"to\\\": {\\n            \\\"type\\\": \\\"axis\\\",\\n            \\\"anchor\\\": \\\"rhs\\\",\\n            \\\"select\\\": \\\"row\\\",\\n            \\\"label\\\": 1940\\n          }\\n        },\\n        {\\n          \\\"type\\\": \\\"map\\\",\\n          \\\"from\\\": {\\n            \\\"type\\\": \\\"axis\\\",\\n            \\\"anchor\\\": \\\"lhs\\\",\\n            \\\"select\\\": \\\"row\\\",\\n            \\\"label\\\": 224\\n          },\\n          \\\"to\\\": {\\n            \\\"type\\\": \\\"axis\\\",\\n            \\\"anchor\\\": \\\"rhs\\\",\\n            \\\"select\\\": \\\"row\\\",\\n            \\\"label\\\": 1940\\n          }\\n        },\\n        {\\n          \\\"type\\\": \\\"map\\\",\\n          \\\"from\\\": {\\n            \\\"type\\\": \\\"axis\\\",\\n            \\\"anchor\\\": \\\"lhs\\\",\\n            \\\"select\\\": \\\"row\\\",\\n            \\\"label\\\": 7\\n          },\\n          \\\"to\\\": {\\n            \\\"type\\\": \\\"axis\\\",\\n            \\\"anchor\\\": \\\"rhs\\\",\\n            \\\"select\\\": \\\"row\\\",\\n            \\\"label\\\": 1950\\n          }\\n        },\\n        {\\n          \\\"type\\\": \\\"map\\\",\\n          \\\"from\\\": {\\n            \\\"type\\\": \\\"axis\\\",\\n            \\\"anchor\\\": \\\"lhs\\\",\\n            \\\"select\\\": \\\"row\\\",\\n            \\\"label\\\": 14\\n          },\\n          \\\"to\\\": {\\n            \\\"type\\\": \\\"axis\\\",\\n            \\\"anchor\\\": \\\"rhs\\\",\\n            \\\"select\\\": \\\"row\\\",\\n            \\\"label\\\": 1950\\n          }\\n        },\\n        {\\n          \\\"type\\\": \\\"map\\\",\\n          \\\"from\\\": {\\n            \\\"type\\\": \\\"axis\\\",\\n            \\\"anchor\\\": \\\"lhs\\\",\\n            \\\"select\\\": \\\"row\\\",\\n            \\\"label\\\": 17\\n          },\\n          \\\"to\\\": {\\n            \\\"type\\\": \\\"axis\\\",\\n            \\\"anchor\\\": \\\"rhs\\\",\\n            \\\"select\\\": \\\"row\\\",\\n            \\\"label\\\": 1950\\n          }\\n        },\\n        {\\n          \\\"type\\\": \\\"map\\\",\\n          \\\"from\\\": {\\n            \\\"type\\\": \\\"axis\\\",\\n            \\\"anchor\\\": \\\"lhs\\\",\\n            \\\"select\\\": \\\"row\\\",\\n            \\\"label\\\": 29\\n          },\\n          \\\"to\\\": {\\n            \\\"type\\\": \\\"axis\\\",\\n            \\\"anchor\\\": \\\"rhs\\\",\\n            \\\"select\\\": \\\"row\\\",\\n            \\\"label\\\": 1950\\n          }\\n        },\\n        {\\n          \\\"type\\\": \\\"map\\\",\\n          \\\"from\\\": {\\n            \\\"type\\\": \\\"axis\\\",\\n            \\\"anchor\\\": \\\"lhs\\\",\\n            \\\"select\\\": \\\"row\\\",\\n            \\\"label\\\": 41\\n          },\\n          \\\"to\\\": {\\n            \\\"type\\\": \\\"axis\\\",\\n            \\\"anchor\\\": \\\"rhs\\\",\\n            \\\"select\\\": \\\"row\\\",\\n            \\\"label\\\": 1950\\n          }\\n        },\\n        {\\n          \\\"type\\\": \\\"map\\\",\\n          \\\"from\\\": {\\n            \\\"type\\\": \\\"axis\\\",\\n            \\\"anchor\\\": \\\"lhs\\\",\\n            \\\"select\\\": \\\"row\\\",\\n            \\\"label\\\": 42\\n          },\\n          \\\"to\\\": {\\n            \\\"type\\\": \\\"axis\\\",\\n            \\\"anchor\\\": \\\"rhs\\\",\\n            \\\"select\\\": \\\"row\\\",\\n            \\\"label\\\": 1950\\n          }\\n        },\\n        {\\n          \\\"type\\\": \\\"map\\\",\\n          \\\"from\\\": {\\n            \\\"type\\\": \\\"axis\\\",\\n            \\\"anchor\\\": \\\"lhs\\\",\\n            \\\"select\\\": \\\"row\\\",\\n            \\\"label\\\": 65\\n          },\\n          \\\"to\\\": {\\n            \\\"type\\\": \\\"axis\\\",\\n            \\\"anchor\\\": \\\"rhs\\\",\\n            \\\"select\\\": \\\"row\\\",\\n            \\\"label\\\": 1950\\n          }\\n        },\\n        {\\n          \\\"type\\\": \\\"map\\\",\\n          \\\"from\\\": {\\n            \\\"type\\\": \\\"axis\\\",\\n            \\\"anchor\\\": \\\"lhs\\\",\\n            \\\"select\\\": \\\"row\\\",\\n            \\\"label\\\": 68\\n          },\\n          \\\"to\\\": {\\n            \\\"type\\\": \\\"axis\\\",\\n            \\\"anchor\\\": \\\"rhs\\\",\\n            \\\"select\\\": \\\"row\\\",\\n            \\\"label\\\": 1950\\n          }\\n        },\\n        {\\n          \\\"type\\\": \\\"map\\\",\\n          \\\"from\\\": {\\n            \\\"type\\\": \\\"axis\\\",\\n            \\\"anchor\\\": \\\"lhs\\\",\\n            \\\"select\\\": \\\"row\\\",\\n            \\\"label\\\": 71\\n          },\\n          \\\"to\\\": {\\n            \\\"type\\\": \\\"axis\\\",\\n            \\\"anchor\\\": \\\"rhs\\\",\\n            \\\"select\\\": \\\"row\\\",\\n            \\\"label\\\": 1950\\n          }\\n        },\\n        {\\n          \\\"type\\\": \\\"map\\\",\\n          \\\"from\\\": {\\n            \\\"type\\\": \\\"axis\\\",\\n            \\\"anchor\\\": \\\"lhs\\\",\\n            \\\"select\\\": \\\"row\\\",\\n            \\\"label\\\": 77\\n          },\\n          \\\"to\\\": {\\n            \\\"type\\\": \\\"axis\\\",\\n            \\\"anchor\\\": \\\"rhs\\\",\\n            \\\"select\\\": \\\"row\\\",\\n            \\\"label\\\": 1950\\n          }\\n        },\\n        {\\n          \\\"type\\\": \\\"map\\\",\\n          \\\"from\\\": {\\n            \\\"type\\\": \\\"axis\\\",\\n            \\\"anchor\\\": \\\"lhs\\\",\\n            \\\"select\\\": \\\"row\\\",\\n            \\\"label\\\": 80\\n          },\\n          \\\"to\\\": {\\n            \\\"type\\\": \\\"axis\\\",\\n            \\\"anchor\\\": \\\"rhs\\\",\\n            \\\"select\\\": \\\"row\\\",\\n            \\\"label\\\": 1950\\n          }\\n        },\\n        {\\n          \\\"type\\\": \\\"map\\\",\\n          \\\"from\\\": {\\n            \\\"type\\\": \\\"axis\\\",\\n            \\\"anchor\\\": \\\"lhs\\\",\\n            \\\"select\\\": \\\"row\\\",\\n            \\\"label\\\": 98\\n          },\\n          \\\"to\\\": {\\n            \\\"type\\\": \\\"axis\\\",\\n            \\\"anchor\\\": \\\"rhs\\\",\\n            \\\"select\\\": \\\"row\\\",\\n            \\\"label\\\": 1950\\n          }\\n        },\\n        {\\n          \\\"type\\\": \\\"map\\\",\\n          \\\"from\\\": {\\n            \\\"type\\\": \\\"axis\\\",\\n            \\\"anchor\\\": \\\"lhs\\\",\\n            \\\"select\\\": \\\"row\\\",\\n            \\\"label\\\": 100\\n          },\\n          \\\"to\\\": {\\n            \\\"type\\\": \\\"axis\\\",\\n            \\\"anchor\\\": \\\"rhs\\\",\\n            \\\"select\\\": \\\"row\\\",\\n            \\\"label\\\": 1950\\n          }\\n        },\\n        {\\n          \\\"type\\\": \\\"map\\\",\\n          \\\"from\\\": {\\n            \\\"type\\\": \\\"axis\\\",\\n            \\\"anchor\\\": \\\"lhs\\\",\\n            \\\"select\\\": \\\"row\\\",\\n            \\\"label\\\": 105\\n          },\\n          \\\"to\\\": {\\n            \\\"type\\\": \\\"axis\\\",\\n            \\\"anchor\\\": \\\"rhs\\\",\\n            \\\"select\\\": \\\"row\\\",\\n            \\\"label\\\": 1950\\n          }\\n        },\\n        {\\n          \\\"type\\\": \\\"map\\\",\\n          \\\"from\\\": {\\n            \\\"type\\\": \\\"axis\\\",\\n            \\\"anchor\\\": \\\"lhs\\\",\\n            \\\"select\\\": \\\"row\\\",\\n            \\\"label\\\": 108\\n          },\\n          \\\"to\\\": {\\n            \\\"type\\\": \\\"axis\\\",\\n            \\\"anchor\\\": \\\"rhs\\\",\\n            \\\"select\\\": \\\"row\\\",\\n            \\\"label\\\": 1950\\n          }\\n        },\\n        {\\n          \\\"type\\\": \\\"map\\\",\\n          \\\"from\\\": {\\n            \\\"type\\\": \\\"axis\\\",\\n            \\\"anchor\\\": \\\"lhs\\\",\\n            \\\"select\\\": \\\"row\\\",\\n            \\\"label\\\": 129\\n          },\\n          \\\"to\\\": {\\n            \\\"type\\\": \\\"axis\\\",\\n            \\\"anchor\\\": \\\"rhs\\\",\\n            \\\"select\\\": \\\"row\\\",\\n            \\\"label\\\": 1950\\n          }\\n        },\\n        {\\n          \\\"type\\\": \\\"map\\\",\\n          \\\"from\\\": {\\n            \\\"type\\\": \\\"axis\\\",\\n            \\\"anchor\\\": \\\"lhs\\\",\\n            \\\"select\\\": \\\"row\\\",\\n            \\\"label\\\": 131\\n          },\\n          \\\"to\\\": {\\n            \\\"type\\\": \\\"axis\\\",\\n            \\\"anchor\\\": \\\"rhs\\\",\\n            \\\"select\\\": \\\"row\\\",\\n            \\\"label\\\": 1950\\n          }\\n        },\\n        {\\n          \\\"type\\\": \\\"map\\\",\\n          \\\"from\\\": {\\n            \\\"type\\\": \\\"axis\\\",\\n            \\\"anchor\\\": \\\"lhs\\\",\\n            \\\"select\\\": \\\"row\\\",\\n            \\\"label\\\": 132\\n          },\\n          \\\"to\\\": {\\n            \\\"type\\\": \\\"axis\\\",\\n            \\\"anchor\\\": \\\"rhs\\\",\\n            \\\"select\\\": \\\"row\\\",\\n            \\\"label\\\": 1950\\n          }\\n        },\\n        {\\n          \\\"type\\\": \\\"map\\\",\\n          \\\"from\\\": {\\n            \\\"type\\\": \\\"axis\\\",\\n            \\\"anchor\\\": \\\"lhs\\\",\\n            \\\"select\\\": \\\"row\\\",\\n            \\\"label\\\": 140\\n          },\\n          \\\"to\\\": {\\n            \\\"type\\\": \\\"axis\\\",\\n            \\\"anchor\\\": \\\"rhs\\\",\\n            \\\"select\\\": \\\"row\\\",\\n            \\\"label\\\": 1950\\n          }\\n        },\\n        {\\n          \\\"type\\\": \\\"map\\\",\\n          \\\"from\\\": {\\n            \\\"type\\\": \\\"axis\\\",\\n            \\\"anchor\\\": \\\"lhs\\\",\\n            \\\"select\\\": \\\"row\\\",\\n            \\\"label\\\": 152\\n          },\\n          \\\"to\\\": {\\n            \\\"type\\\": \\\"axis\\\",\\n            \\\"anchor\\\": \\\"rhs\\\",\\n            \\\"select\\\": \\\"row\\\",\\n            \\\"label\\\": 1950\\n          }\\n        },\\n        {\\n          \\\"type\\\": \\\"map\\\",\\n          \\\"from\\\": {\\n            \\\"type\\\": \\\"axis\\\",\\n            \\\"anchor\\\": \\\"lhs\\\",\\n            \\\"select\\\": \\\"row\\\",\\n            \\\"label\\\": 165\\n          },\\n          \\\"to\\\": {\\n            \\\"type\\\": \\\"axis\\\",\\n            \\\"anchor\\\": \\\"rhs\\\",\\n            \\\"select\\\": \\\"row\\\",\\n            \\\"label\\\": 1950\\n          }\\n        },\\n        {\\n          \\\"type\\\": \\\"map\\\",\\n          \\\"from\\\": {\\n            \\\"type\\\": \\\"axis\\\",\\n            \\\"anchor\\\": \\\"lhs\\\",\\n            \\\"select\\\": \\\"row\\\",\\n            \\\"label\\\": 166\\n          },\\n          \\\"to\\\": {\\n            \\\"type\\\": \\\"axis\\\",\\n            \\\"anchor\\\": \\\"rhs\\\",\\n            \\\"select\\\": \\\"row\\\",\\n            \\\"label\\\": 1950\\n          }\\n        },\\n        {\\n          \\\"type\\\": \\\"map\\\",\\n          \\\"from\\\": {\\n            \\\"type\\\": \\\"axis\\\",\\n            \\\"anchor\\\": \\\"lhs\\\",\\n            \\\"select\\\": \\\"row\\\",\\n            \\\"label\\\": 173\\n          },\\n          \\\"to\\\": {\\n            \\\"type\\\": \\\"axis\\\",\\n            \\\"anchor\\\": \\\"rhs\\\",\\n            \\\"select\\\": \\\"row\\\",\\n            \\\"label\\\": 1950\\n          }\\n        },\\n        {\\n          \\\"type\\\": \\\"map\\\",\\n          \\\"from\\\": {\\n            \\\"type\\\": \\\"axis\\\",\\n            \\\"anchor\\\": \\\"lhs\\\",\\n            \\\"select\\\": \\\"row\\\",\\n            \\\"label\\\": 186\\n          },\\n          \\\"to\\\": {\\n            \\\"type\\\": \\\"axis\\\",\\n            \\\"anchor\\\": \\\"rhs\\\",\\n            \\\"select\\\": \\\"row\\\",\\n            \\\"label\\\": 1950\\n          }\\n        },\\n        {\\n          \\\"type\\\": \\\"map\\\",\\n          \\\"from\\\": {\\n            \\\"type\\\": \\\"axis\\\",\\n            \\\"anchor\\\": \\\"lhs\\\",\\n            \\\"select\\\": \\\"row\\\",\\n            \\\"label\\\": 193\\n          },\\n          \\\"to\\\": {\\n            \\\"type\\\": \\\"axis\\\",\\n            \\\"anchor\\\": \\\"rhs\\\",\\n            \\\"select\\\": \\\"row\\\",\\n            \\\"label\\\": 1950\\n          }\\n        },\\n        {\\n          \\\"type\\\": \\\"map\\\",\\n          \\\"from\\\": {\\n            \\\"type\\\": \\\"axis\\\",\\n            \\\"anchor\\\": \\\"lhs\\\",\\n            \\\"select\\\": \\\"row\\\",\\n            \\\"label\\\": 195\\n          },\\n          \\\"to\\\": {\\n            \\\"type\\\": \\\"axis\\\",\\n            \\\"anchor\\\": \\\"rhs\\\",\\n            \\\"select\\\": \\\"row\\\",\\n            \\\"label\\\": 1950\\n          }\\n        },\\n        {\\n          \\\"type\\\": \\\"map\\\",\\n          \\\"from\\\": {\\n            \\\"type\\\": \\\"axis\\\",\\n            \\\"anchor\\\": \\\"lhs\\\",\\n            \\\"select\\\": \\\"row\\\",\\n            \\\"label\\\": 199\\n          },\\n          \\\"to\\\": {\\n            \\\"type\\\": \\\"axis\\\",\\n            \\\"anchor\\\": \\\"rhs\\\",\\n            \\\"select\\\": \\\"row\\\",\\n            \\\"label\\\": 1950\\n          }\\n        },\\n        {\\n          \\\"type\\\": \\\"map\\\",\\n          \\\"from\\\": {\\n            \\\"type\\\": \\\"axis\\\",\\n            \\\"anchor\\\": \\\"lhs\\\",\\n            \\\"select\\\": \\\"row\\\",\\n            \\\"label\\\": 220\\n          },\\n          \\\"to\\\": {\\n            \\\"type\\\": \\\"axis\\\",\\n            \\\"anchor\\\": \\\"rhs\\\",\\n            \\\"select\\\": \\\"row\\\",\\n            \\\"label\\\": 1950\\n          }\\n        },\\n        {\\n          \\\"type\\\": \\\"map\\\",\\n          \\\"from\\\": {\\n            \\\"type\\\": \\\"axis\\\",\\n            \\\"anchor\\\": \\\"lhs\\\",\\n            \\\"select\\\": \\\"row\\\",\\n            \\\"label\\\": 237\\n          },\\n          \\\"to\\\": {\\n            \\\"type\\\": \\\"axis\\\",\\n            \\\"anchor\\\": \\\"rhs\\\",\\n            \\\"select\\\": \\\"row\\\",\\n            \\\"label\\\": 1950\\n          }\\n        },\\n        {\\n          \\\"type\\\": \\\"map\\\",\\n          \\\"from\\\": {\\n            \\\"type\\\": \\\"axis\\\",\\n            \\\"anchor\\\": \\\"lhs\\\",\\n            \\\"select\\\": \\\"row\\\",\\n            \\\"label\\\": 246\\n          },\\n          \\\"to\\\": {\\n            \\\"type\\\": \\\"axis\\\",\\n            \\\"anchor\\\": \\\"rhs\\\",\\n            \\\"select\\\": \\\"row\\\",\\n            \\\"label\\\": 1950\\n          }\\n        },\\n        {\\n          \\\"type\\\": \\\"map\\\",\\n          \\\"from\\\": {\\n            \\\"type\\\": \\\"axis\\\",\\n            \\\"anchor\\\": \\\"lhs\\\",\\n            \\\"select\\\": \\\"row\\\",\\n            \\\"label\\\": 1\\n          },\\n          \\\"to\\\": {\\n            \\\"type\\\": \\\"axis\\\",\\n            \\\"anchor\\\": \\\"rhs\\\",\\n            \\\"select\\\": \\\"row\\\",\\n            \\\"label\\\": 1960\\n          }\\n        },\\n        {\\n          \\\"type\\\": \\\"map\\\",\\n          \\\"from\\\": {\\n            \\\"type\\\": \\\"axis\\\",\\n            \\\"anchor\\\": \\\"lhs\\\",\\n            \\\"select\\\": \\\"row\\\",\\n            \\\"label\\\": 3\\n          },\\n          \\\"to\\\": {\\n            \\\"type\\\": \\\"axis\\\",\\n            \\\"anchor\\\": \\\"rhs\\\",\\n            \\\"select\\\": \\\"row\\\",\\n            \\\"label\\\": 1960\\n          }\\n        },\\n        {\\n          \\\"type\\\": \\\"map\\\",\\n          \\\"from\\\": {\\n            \\\"type\\\": \\\"axis\\\",\\n            \\\"anchor\\\": \\\"lhs\\\",\\n            \\\"select\\\": \\\"row\\\",\\n            \\\"label\\\": 5\\n          },\\n          \\\"to\\\": {\\n            \\\"type\\\": \\\"axis\\\",\\n            \\\"anchor\\\": \\\"rhs\\\",\\n            \\\"select\\\": \\\"row\\\",\\n            \\\"label\\\": 1960\\n          }\\n        },\\n        {\\n          \\\"type\\\": \\\"map\\\",\\n          \\\"from\\\": {\\n            \\\"type\\\": \\\"axis\\\",\\n            \\\"anchor\\\": \\\"lhs\\\",\\n            \\\"select\\\": \\\"row\\\",\\n            \\\"label\\\": 15\\n          },\\n          \\\"to\\\": {\\n            \\\"type\\\": \\\"axis\\\",\\n            \\\"anchor\\\": \\\"rhs\\\",\\n            \\\"select\\\": \\\"row\\\",\\n            \\\"label\\\": 1960\\n          }\\n        },\\n        {\\n          \\\"type\\\": \\\"map\\\",\\n          \\\"from\\\": {\\n            \\\"type\\\": \\\"axis\\\",\\n            \\\"anchor\\\": \\\"lhs\\\",\\n            \\\"select\\\": \\\"row\\\",\\n            \\\"label\\\": 26\\n          },\\n          \\\"to\\\": {\\n            \\\"type\\\": \\\"axis\\\",\\n            \\\"anchor\\\": \\\"rhs\\\",\\n            \\\"select\\\": \\\"row\\\",\\n            \\\"label\\\": 1960\\n          }\\n        },\\n        {\\n          \\\"type\\\": \\\"map\\\",\\n          \\\"from\\\": {\\n            \\\"type\\\": \\\"axis\\\",\\n            \\\"anchor\\\": \\\"lhs\\\",\\n            \\\"select\\\": \\\"row\\\",\\n            \\\"label\\\": 43\\n          },\\n          \\\"to\\\": {\\n            \\\"type\\\": \\\"axis\\\",\\n            \\\"anchor\\\": \\\"rhs\\\",\\n            \\\"select\\\": \\\"row\\\",\\n            \\\"label\\\": 1960\\n          }\\n        },\\n        {\\n          \\\"type\\\": \\\"map\\\",\\n          \\\"from\\\": {\\n            \\\"type\\\": \\\"axis\\\",\\n            \\\"anchor\\\": \\\"lhs\\\",\\n            \\\"select\\\": \\\"row\\\",\\n            \\\"label\\\": 54\\n          },\\n          \\\"to\\\": {\\n            \\\"type\\\": \\\"axis\\\",\\n            \\\"anchor\\\": \\\"rhs\\\",\\n            \\\"select\\\": \\\"row\\\",\\n            \\\"label\\\": 1960\\n          }\\n        },\\n        {\\n          \\\"type\\\": \\\"map\\\",\\n          \\\"from\\\": {\\n            \\\"type\\\": \\\"axis\\\",\\n            \\\"anchor\\\": \\\"lhs\\\",\\n            \\\"select\\\": \\\"row\\\",\\n            \\\"label\\\": 62\\n          },\\n          \\\"to\\\": {\\n            \\\"type\\\": \\\"axis\\\",\\n            \\\"anchor\\\": \\\"rhs\\\",\\n            \\\"select\\\": \\\"row\\\",\\n            \\\"label\\\": 1960\\n          }\\n        },\\n        {\\n          \\\"type\\\": \\\"map\\\",\\n          \\\"from\\\": {\\n            \\\"type\\\": \\\"axis\\\",\\n            \\\"anchor\\\": \\\"lhs\\\",\\n            \\\"select\\\": \\\"row\\\",\\n            \\\"label\\\": 66\\n          },\\n          \\\"to\\\": {\\n            \\\"type\\\": \\\"axis\\\",\\n            \\\"anchor\\\": \\\"rhs\\\",\\n            \\\"select\\\": \\\"row\\\",\\n            \\\"label\\\": 1960\\n          }\\n        },\\n        {\\n          \\\"type\\\": \\\"map\\\",\\n          \\\"from\\\": {\\n            \\\"type\\\": \\\"axis\\\",\\n            \\\"anchor\\\": \\\"lhs\\\",\\n            \\\"select\\\": \\\"row\\\",\\n            \\\"label\\\": 69\\n          },\\n          \\\"to\\\": {\\n            \\\"type\\\": \\\"axis\\\",\\n            \\\"anchor\\\": \\\"rhs\\\",\\n            \\\"select\\\": \\\"row\\\",\\n            \\\"label\\\": 1960\\n          }\\n        },\\n        {\\n          \\\"type\\\": \\\"map\\\",\\n          \\\"from\\\": {\\n            \\\"type\\\": \\\"axis\\\",\\n            \\\"anchor\\\": \\\"lhs\\\",\\n            \\\"select\\\": \\\"row\\\",\\n            \\\"label\\\": 116\\n          },\\n          \\\"to\\\": {\\n            \\\"type\\\": \\\"axis\\\",\\n            \\\"anchor\\\": \\\"rhs\\\",\\n            \\\"select\\\": \\\"row\\\",\\n            \\\"label\\\": 1960\\n          }\\n        },\\n        {\\n          \\\"type\\\": \\\"map\\\",\\n          \\\"from\\\": {\\n            \\\"type\\\": \\\"axis\\\",\\n            \\\"anchor\\\": \\\"lhs\\\",\\n            \\\"select\\\": \\\"row\\\",\\n            \\\"label\\\": 119\\n          },\\n          \\\"to\\\": {\\n            \\\"type\\\": \\\"axis\\\",\\n            \\\"anchor\\\": \\\"rhs\\\",\\n            \\\"select\\\": \\\"row\\\",\\n            \\\"label\\\": 1960\\n          }\\n        },\\n        {\\n          \\\"type\\\": \\\"map\\\",\\n          \\\"from\\\": {\\n            \\\"type\\\": \\\"axis\\\",\\n            \\\"anchor\\\": \\\"lhs\\\",\\n            \\\"select\\\": \\\"row\\\",\\n            \\\"label\\\": 137\\n          },\\n          \\\"to\\\": {\\n            \\\"type\\\": \\\"axis\\\",\\n            \\\"anchor\\\": \\\"rhs\\\",\\n            \\\"select\\\": \\\"row\\\",\\n            \\\"label\\\": 1960\\n          }\\n        },\\n        {\\n          \\\"type\\\": \\\"map\\\",\\n          \\\"from\\\": {\\n            \\\"type\\\": \\\"axis\\\",\\n            \\\"anchor\\\": \\\"lhs\\\",\\n            \\\"select\\\": \\\"row\\\",\\n            \\\"label\\\": 147\\n          },\\n          \\\"to\\\": {\\n            \\\"type\\\": \\\"axis\\\",\\n            \\\"anchor\\\": \\\"rhs\\\",\\n            \\\"select\\\": \\\"row\\\",\\n            \\\"label\\\": 1960\\n          }\\n        },\\n        {\\n          \\\"type\\\": \\\"map\\\",\\n          \\\"from\\\": {\\n            \\\"type\\\": \\\"axis\\\",\\n            \\\"anchor\\\": \\\"lhs\\\",\\n            \\\"select\\\": \\\"row\\\",\\n            \\\"label\\\": 150\\n          },\\n          \\\"to\\\": {\\n            \\\"type\\\": \\\"axis\\\",\\n            \\\"anchor\\\": \\\"rhs\\\",\\n            \\\"select\\\": \\\"row\\\",\\n            \\\"label\\\": 1960\\n          }\\n        },\\n        {\\n          \\\"type\\\": \\\"map\\\",\\n          \\\"from\\\": {\\n            \\\"type\\\": \\\"axis\\\",\\n            \\\"anchor\\\": \\\"lhs\\\",\\n            \\\"select\\\": \\\"row\\\",\\n            \\\"label\\\": 158\\n          },\\n          \\\"to\\\": {\\n            \\\"type\\\": \\\"axis\\\",\\n            \\\"anchor\\\": \\\"rhs\\\",\\n            \\\"select\\\": \\\"row\\\",\\n            \\\"label\\\": 1960\\n          }\\n        },\\n        {\\n          \\\"type\\\": \\\"map\\\",\\n          \\\"from\\\": {\\n            \\\"type\\\": \\\"axis\\\",\\n            \\\"anchor\\\": \\\"lhs\\\",\\n            \\\"select\\\": \\\"row\\\",\\n            \\\"label\\\": 159\\n          },\\n          \\\"to\\\": {\\n            \\\"type\\\": \\\"axis\\\",\\n            \\\"anchor\\\": \\\"rhs\\\",\\n            \\\"select\\\": \\\"row\\\",\\n            \\\"label\\\": 1960\\n          }\\n        },\\n        {\\n          \\\"type\\\": \\\"map\\\",\\n          \\\"from\\\": {\\n            \\\"type\\\": \\\"axis\\\",\\n            \\\"anchor\\\": \\\"lhs\\\",\\n            \\\"select\\\": \\\"row\\\",\\n            \\\"label\\\": 167\\n          },\\n          \\\"to\\\": {\\n            \\\"type\\\": \\\"axis\\\",\\n            \\\"anchor\\\": \\\"rhs\\\",\\n            \\\"select\\\": \\\"row\\\",\\n            \\\"label\\\": 1960\\n          }\\n        },\\n        {\\n          \\\"type\\\": \\\"map\\\",\\n          \\\"from\\\": {\\n            \\\"type\\\": \\\"axis\\\",\\n            \\\"anchor\\\": \\\"lhs\\\",\\n            \\\"select\\\": \\\"row\\\",\\n            \\\"label\\\": 200\\n          },\\n          \\\"to\\\": {\\n            \\\"type\\\": \\\"axis\\\",\\n            \\\"anchor\\\": \\\"rhs\\\",\\n            \\\"select\\\": \\\"row\\\",\\n            \\\"label\\\": 1960\\n          }\\n        },\\n        {\\n          \\\"type\\\": \\\"map\\\",\\n          \\\"from\\\": {\\n            \\\"type\\\": \\\"axis\\\",\\n            \\\"anchor\\\": \\\"lhs\\\",\\n            \\\"select\\\": \\\"row\\\",\\n            \\\"label\\\": 211\\n          },\\n          \\\"to\\\": {\\n            \\\"type\\\": \\\"axis\\\",\\n            \\\"anchor\\\": \\\"rhs\\\",\\n            \\\"select\\\": \\\"row\\\",\\n            \\\"label\\\": 1960\\n          }\\n        },\\n        {\\n          \\\"type\\\": \\\"map\\\",\\n          \\\"from\\\": {\\n            \\\"type\\\": \\\"axis\\\",\\n            \\\"anchor\\\": \\\"lhs\\\",\\n            \\\"select\\\": \\\"row\\\",\\n            \\\"label\\\": 227\\n          },\\n          \\\"to\\\": {\\n            \\\"type\\\": \\\"axis\\\",\\n            \\\"anchor\\\": \\\"rhs\\\",\\n            \\\"select\\\": \\\"row\\\",\\n            \\\"label\\\": 1960\\n          }\\n        },\\n        {\\n          \\\"type\\\": \\\"map\\\",\\n          \\\"from\\\": {\\n            \\\"type\\\": \\\"axis\\\",\\n            \\\"anchor\\\": \\\"lhs\\\",\\n            \\\"select\\\": \\\"row\\\",\\n            \\\"label\\\": 243\\n          },\\n          \\\"to\\\": {\\n            \\\"type\\\": \\\"axis\\\",\\n            \\\"anchor\\\": \\\"rhs\\\",\\n            \\\"select\\\": \\\"row\\\",\\n            \\\"label\\\": 1960\\n          }\\n        },\\n        {\\n          \\\"type\\\": \\\"map\\\",\\n          \\\"from\\\": {\\n            \\\"type\\\": \\\"axis\\\",\\n            \\\"anchor\\\": \\\"lhs\\\",\\n            \\\"select\\\": \\\"row\\\",\\n            \\\"label\\\": 10\\n          },\\n          \\\"to\\\": {\\n            \\\"type\\\": \\\"axis\\\",\\n            \\\"anchor\\\": \\\"rhs\\\",\\n            \\\"select\\\": \\\"row\\\",\\n            \\\"label\\\": 1970\\n          }\\n        },\\n        {\\n          \\\"type\\\": \\\"map\\\",\\n          \\\"from\\\": {\\n            \\\"type\\\": \\\"axis\\\",\\n            \\\"anchor\\\": \\\"lhs\\\",\\n            \\\"select\\\": \\\"row\\\",\\n            \\\"label\\\": 11\\n          },\\n          \\\"to\\\": {\\n            \\\"type\\\": \\\"axis\\\",\\n            \\\"anchor\\\": \\\"rhs\\\",\\n            \\\"select\\\": \\\"row\\\",\\n            \\\"label\\\": 1970\\n          }\\n        },\\n        {\\n          \\\"type\\\": \\\"map\\\",\\n          \\\"from\\\": {\\n            \\\"type\\\": \\\"axis\\\",\\n            \\\"anchor\\\": \\\"lhs\\\",\\n            \\\"select\\\": \\\"row\\\",\\n            \\\"label\\\": 39\\n          },\\n          \\\"to\\\": {\\n            \\\"type\\\": \\\"axis\\\",\\n            \\\"anchor\\\": \\\"rhs\\\",\\n            \\\"select\\\": \\\"row\\\",\\n            \\\"label\\\": 1970\\n          }\\n        },\\n        {\\n          \\\"type\\\": \\\"map\\\",\\n          \\\"from\\\": {\\n            \\\"type\\\": \\\"axis\\\",\\n            \\\"anchor\\\": \\\"lhs\\\",\\n            \\\"select\\\": \\\"row\\\",\\n            \\\"label\\\": 45\\n          },\\n          \\\"to\\\": {\\n            \\\"type\\\": \\\"axis\\\",\\n            \\\"anchor\\\": \\\"rhs\\\",\\n            \\\"select\\\": \\\"row\\\",\\n            \\\"label\\\": 1970\\n          }\\n        },\\n        {\\n          \\\"type\\\": \\\"map\\\",\\n          \\\"from\\\": {\\n            \\\"type\\\": \\\"axis\\\",\\n            \\\"anchor\\\": \\\"lhs\\\",\\n            \\\"select\\\": \\\"row\\\",\\n            \\\"label\\\": 48\\n          },\\n          \\\"to\\\": {\\n            \\\"type\\\": \\\"axis\\\",\\n            \\\"anchor\\\": \\\"rhs\\\",\\n            \\\"select\\\": \\\"row\\\",\\n            \\\"label\\\": 1970\\n          }\\n        },\\n        {\\n          \\\"type\\\": \\\"map\\\",\\n          \\\"from\\\": {\\n            \\\"type\\\": \\\"axis\\\",\\n            \\\"anchor\\\": \\\"lhs\\\",\\n            \\\"select\\\": \\\"row\\\",\\n            \\\"label\\\": 67\\n          },\\n          \\\"to\\\": {\\n            \\\"type\\\": \\\"axis\\\",\\n            \\\"anchor\\\": \\\"rhs\\\",\\n            \\\"select\\\": \\\"row\\\",\\n            \\\"label\\\": 1970\\n          }\\n        },\\n        {\\n          \\\"type\\\": \\\"map\\\",\\n          \\\"from\\\": {\\n            \\\"type\\\": \\\"axis\\\",\\n            \\\"anchor\\\": \\\"lhs\\\",\\n            \\\"select\\\": \\\"row\\\",\\n            \\\"label\\\": 74\\n          },\\n          \\\"to\\\": {\\n            \\\"type\\\": \\\"axis\\\",\\n            \\\"anchor\\\": \\\"rhs\\\",\\n            \\\"select\\\": \\\"row\\\",\\n            \\\"label\\\": 1970\\n          }\\n        },\\n        {\\n          \\\"type\\\": \\\"map\\\",\\n          \\\"from\\\": {\\n            \\\"type\\\": \\\"axis\\\",\\n            \\\"anchor\\\": \\\"lhs\\\",\\n            \\\"select\\\": \\\"row\\\",\\n            \\\"label\\\": 83\\n          },\\n          \\\"to\\\": {\\n            \\\"type\\\": \\\"axis\\\",\\n            \\\"anchor\\\": \\\"rhs\\\",\\n            \\\"select\\\": \\\"row\\\",\\n            \\\"label\\\": 1970\\n          }\\n        },\\n        {\\n          \\\"type\\\": \\\"map\\\",\\n          \\\"from\\\": {\\n            \\\"type\\\": \\\"axis\\\",\\n            \\\"anchor\\\": \\\"lhs\\\",\\n            \\\"select\\\": \\\"row\\\",\\n            \\\"label\\\": 95\\n          },\\n          \\\"to\\\": {\\n            \\\"type\\\": \\\"axis\\\",\\n            \\\"anchor\\\": \\\"rhs\\\",\\n            \\\"select\\\": \\\"row\\\",\\n            \\\"label\\\": 1970\\n          }\\n        },\\n        {\\n          \\\"type\\\": \\\"map\\\",\\n          \\\"from\\\": {\\n            \\\"type\\\": \\\"axis\\\",\\n            \\\"anchor\\\": \\\"lhs\\\",\\n            \\\"select\\\": \\\"row\\\",\\n            \\\"label\\\": 96\\n          },\\n          \\\"to\\\": {\\n            \\\"type\\\": \\\"axis\\\",\\n            \\\"anchor\\\": \\\"rhs\\\",\\n            \\\"select\\\": \\\"row\\\",\\n            \\\"label\\\": 1970\\n          }\\n        },\\n        {\\n          \\\"type\\\": \\\"map\\\",\\n          \\\"from\\\": {\\n            \\\"type\\\": \\\"axis\\\",\\n            \\\"anchor\\\": \\\"lhs\\\",\\n            \\\"select\\\": \\\"row\\\",\\n            \\\"label\\\": 126\\n          },\\n          \\\"to\\\": {\\n            \\\"type\\\": \\\"axis\\\",\\n            \\\"anchor\\\": \\\"rhs\\\",\\n            \\\"select\\\": \\\"row\\\",\\n            \\\"label\\\": 1970\\n          }\\n        },\\n        {\\n          \\\"type\\\": \\\"map\\\",\\n          \\\"from\\\": {\\n            \\\"type\\\": \\\"axis\\\",\\n            \\\"anchor\\\": \\\"lhs\\\",\\n            \\\"select\\\": \\\"row\\\",\\n            \\\"label\\\": 139\\n          },\\n          \\\"to\\\": {\\n            \\\"type\\\": \\\"axis\\\",\\n            \\\"anchor\\\": \\\"rhs\\\",\\n            \\\"select\\\": \\\"row\\\",\\n            \\\"label\\\": 1970\\n          }\\n        },\\n        {\\n          \\\"type\\\": \\\"map\\\",\\n          \\\"from\\\": {\\n            \\\"type\\\": \\\"axis\\\",\\n            \\\"anchor\\\": \\\"lhs\\\",\\n            \\\"select\\\": \\\"row\\\",\\n            \\\"label\\\": 141\\n          },\\n          \\\"to\\\": {\\n            \\\"type\\\": \\\"axis\\\",\\n            \\\"anchor\\\": \\\"rhs\\\",\\n            \\\"select\\\": \\\"row\\\",\\n            \\\"label\\\": 1970\\n          }\\n        },\\n        {\\n          \\\"type\\\": \\\"map\\\",\\n          \\\"from\\\": {\\n            \\\"type\\\": \\\"axis\\\",\\n            \\\"anchor\\\": \\\"lhs\\\",\\n            \\\"select\\\": \\\"row\\\",\\n            \\\"label\\\": 160\\n          },\\n          \\\"to\\\": {\\n            \\\"type\\\": \\\"axis\\\",\\n            \\\"anchor\\\": \\\"rhs\\\",\\n            \\\"select\\\": \\\"row\\\",\\n            \\\"label\\\": 1970\\n          }\\n        },\\n        {\\n          \\\"type\\\": \\\"map\\\",\\n          \\\"from\\\": {\\n            \\\"type\\\": \\\"axis\\\",\\n            \\\"anchor\\\": \\\"lhs\\\",\\n            \\\"select\\\": \\\"row\\\",\\n            \\\"label\\\": 170\\n          },\\n          \\\"to\\\": {\\n            \\\"type\\\": \\\"axis\\\",\\n            \\\"anchor\\\": \\\"rhs\\\",\\n            \\\"select\\\": \\\"row\\\",\\n            \\\"label\\\": 1970\\n          }\\n        },\\n        {\\n          \\\"type\\\": \\\"map\\\",\\n          \\\"from\\\": {\\n            \\\"type\\\": \\\"axis\\\",\\n            \\\"anchor\\\": \\\"lhs\\\",\\n            \\\"select\\\": \\\"row\\\",\\n            \\\"label\\\": 218\\n          },\\n          \\\"to\\\": {\\n            \\\"type\\\": \\\"axis\\\",\\n            \\\"anchor\\\": \\\"rhs\\\",\\n            \\\"select\\\": \\\"row\\\",\\n            \\\"label\\\": 1970\\n          }\\n        },\\n        {\\n          \\\"type\\\": \\\"map\\\",\\n          \\\"from\\\": {\\n            \\\"type\\\": \\\"axis\\\",\\n            \\\"anchor\\\": \\\"lhs\\\",\\n            \\\"select\\\": \\\"row\\\",\\n            \\\"label\\\": 219\\n          },\\n          \\\"to\\\": {\\n            \\\"type\\\": \\\"axis\\\",\\n            \\\"anchor\\\": \\\"rhs\\\",\\n            \\\"select\\\": \\\"row\\\",\\n            \\\"label\\\": 1970\\n          }\\n        },\\n        {\\n          \\\"type\\\": \\\"map\\\",\\n          \\\"from\\\": {\\n            \\\"type\\\": \\\"axis\\\",\\n            \\\"anchor\\\": \\\"lhs\\\",\\n            \\\"select\\\": \\\"row\\\",\\n            \\\"label\\\": 234\\n          },\\n          \\\"to\\\": {\\n            \\\"type\\\": \\\"axis\\\",\\n            \\\"anchor\\\": \\\"rhs\\\",\\n            \\\"select\\\": \\\"row\\\",\\n            \\\"label\\\": 1970\\n          }\\n        },\\n        {\\n          \\\"type\\\": \\\"map\\\",\\n          \\\"from\\\": {\\n            \\\"type\\\": \\\"axis\\\",\\n            \\\"anchor\\\": \\\"lhs\\\",\\n            \\\"select\\\": \\\"row\\\",\\n            \\\"label\\\": 236\\n          },\\n          \\\"to\\\": {\\n            \\\"type\\\": \\\"axis\\\",\\n            \\\"anchor\\\": \\\"rhs\\\",\\n            \\\"select\\\": \\\"row\\\",\\n            \\\"label\\\": 1970\\n          }\\n        },\\n        {\\n          \\\"type\\\": \\\"map\\\",\\n          \\\"from\\\": {\\n            \\\"type\\\": \\\"axis\\\",\\n            \\\"anchor\\\": \\\"lhs\\\",\\n            \\\"select\\\": \\\"row\\\",\\n            \\\"label\\\": 247\\n          },\\n          \\\"to\\\": {\\n            \\\"type\\\": \\\"axis\\\",\\n            \\\"anchor\\\": \\\"rhs\\\",\\n            \\\"select\\\": \\\"row\\\",\\n            \\\"label\\\": 1970\\n          }\\n        },\\n        {\\n          \\\"type\\\": \\\"map\\\",\\n          \\\"from\\\": {\\n            \\\"type\\\": \\\"axis\\\",\\n            \\\"anchor\\\": \\\"lhs\\\",\\n            \\\"select\\\": \\\"row\\\",\\n            \\\"label\\\": 249\\n          },\\n          \\\"to\\\": {\\n            \\\"type\\\": \\\"axis\\\",\\n            \\\"anchor\\\": \\\"rhs\\\",\\n            \\\"select\\\": \\\"row\\\",\\n            \\\"label\\\": 1970\\n          }\\n        },\\n        {\\n          \\\"type\\\": \\\"map\\\",\\n          \\\"from\\\": {\\n            \\\"type\\\": \\\"axis\\\",\\n            \\\"anchor\\\": \\\"lhs\\\",\\n            \\\"select\\\": \\\"row\\\",\\n            \\\"label\\\": 0\\n          },\\n          \\\"to\\\": {\\n            \\\"type\\\": \\\"axis\\\",\\n            \\\"anchor\\\": \\\"rhs\\\",\\n            \\\"select\\\": \\\"row\\\",\\n            \\\"label\\\": 1980\\n          }\\n        },\\n        {\\n          \\\"type\\\": \\\"map\\\",\\n          \\\"from\\\": {\\n            \\\"type\\\": \\\"axis\\\",\\n            \\\"anchor\\\": \\\"lhs\\\",\\n            \\\"select\\\": \\\"row\\\",\\n            \\\"label\\\": 24\\n          },\\n          \\\"to\\\": {\\n            \\\"type\\\": \\\"axis\\\",\\n            \\\"anchor\\\": \\\"rhs\\\",\\n            \\\"select\\\": \\\"row\\\",\\n            \\\"label\\\": 1980\\n          }\\n        },\\n        {\\n          \\\"type\\\": \\\"map\\\",\\n          \\\"from\\\": {\\n            \\\"type\\\": \\\"axis\\\",\\n            \\\"anchor\\\": \\\"lhs\\\",\\n            \\\"select\\\": \\\"row\\\",\\n            \\\"label\\\": 27\\n          },\\n          \\\"to\\\": {\\n            \\\"type\\\": \\\"axis\\\",\\n            \\\"anchor\\\": \\\"rhs\\\",\\n            \\\"select\\\": \\\"row\\\",\\n            \\\"label\\\": 1980\\n          }\\n        },\\n        {\\n          \\\"type\\\": \\\"map\\\",\\n          \\\"from\\\": {\\n            \\\"type\\\": \\\"axis\\\",\\n            \\\"anchor\\\": \\\"lhs\\\",\\n            \\\"select\\\": \\\"row\\\",\\n            \\\"label\\\": 38\\n          },\\n          \\\"to\\\": {\\n            \\\"type\\\": \\\"axis\\\",\\n            \\\"anchor\\\": \\\"rhs\\\",\\n            \\\"select\\\": \\\"row\\\",\\n            \\\"label\\\": 1980\\n          }\\n        },\\n        {\\n          \\\"type\\\": \\\"map\\\",\\n          \\\"from\\\": {\\n            \\\"type\\\": \\\"axis\\\",\\n            \\\"anchor\\\": \\\"lhs\\\",\\n            \\\"select\\\": \\\"row\\\",\\n            \\\"label\\\": 47\\n          },\\n          \\\"to\\\": {\\n            \\\"type\\\": \\\"axis\\\",\\n            \\\"anchor\\\": \\\"rhs\\\",\\n            \\\"select\\\": \\\"row\\\",\\n            \\\"label\\\": 1980\\n          }\\n        },\\n        {\\n          \\\"type\\\": \\\"map\\\",\\n          \\\"from\\\": {\\n            \\\"type\\\": \\\"axis\\\",\\n            \\\"anchor\\\": \\\"lhs\\\",\\n            \\\"select\\\": \\\"row\\\",\\n            \\\"label\\\": 60\\n          },\\n          \\\"to\\\": {\\n            \\\"type\\\": \\\"axis\\\",\\n            \\\"anchor\\\": \\\"rhs\\\",\\n            \\\"select\\\": \\\"row\\\",\\n            \\\"label\\\": 1980\\n          }\\n        },\\n        {\\n          \\\"type\\\": \\\"map\\\",\\n          \\\"from\\\": {\\n            \\\"type\\\": \\\"axis\\\",\\n            \\\"anchor\\\": \\\"lhs\\\",\\n            \\\"select\\\": \\\"row\\\",\\n            \\\"label\\\": 64\\n          },\\n          \\\"to\\\": {\\n            \\\"type\\\": \\\"axis\\\",\\n            \\\"anchor\\\": \\\"rhs\\\",\\n            \\\"select\\\": \\\"row\\\",\\n            \\\"label\\\": 1980\\n          }\\n        },\\n        {\\n          \\\"type\\\": \\\"map\\\",\\n          \\\"from\\\": {\\n            \\\"type\\\": \\\"axis\\\",\\n            \\\"anchor\\\": \\\"lhs\\\",\\n            \\\"select\\\": \\\"row\\\",\\n            \\\"label\\\": 79\\n          },\\n          \\\"to\\\": {\\n            \\\"type\\\": \\\"axis\\\",\\n            \\\"anchor\\\": \\\"rhs\\\",\\n            \\\"select\\\": \\\"row\\\",\\n            \\\"label\\\": 1980\\n          }\\n        },\\n        {\\n          \\\"type\\\": \\\"map\\\",\\n          \\\"from\\\": {\\n            \\\"type\\\": \\\"axis\\\",\\n            \\\"anchor\\\": \\\"lhs\\\",\\n            \\\"select\\\": \\\"row\\\",\\n            \\\"label\\\": 87\\n          },\\n          \\\"to\\\": {\\n            \\\"type\\\": \\\"axis\\\",\\n            \\\"anchor\\\": \\\"rhs\\\",\\n            \\\"select\\\": \\\"row\\\",\\n            \\\"label\\\": 1980\\n          }\\n        },\\n        {\\n          \\\"type\\\": \\\"map\\\",\\n          \\\"from\\\": {\\n            \\\"type\\\": \\\"axis\\\",\\n            \\\"anchor\\\": \\\"lhs\\\",\\n            \\\"select\\\": \\\"row\\\",\\n            \\\"label\\\": 92\\n          },\\n          \\\"to\\\": {\\n            \\\"type\\\": \\\"axis\\\",\\n            \\\"anchor\\\": \\\"rhs\\\",\\n            \\\"select\\\": \\\"row\\\",\\n            \\\"label\\\": 1980\\n          }\\n        },\\n        {\\n          \\\"type\\\": \\\"map\\\",\\n          \\\"from\\\": {\\n            \\\"type\\\": \\\"axis\\\",\\n            \\\"anchor\\\": \\\"lhs\\\",\\n            \\\"select\\\": \\\"row\\\",\\n            \\\"label\\\": 93\\n          },\\n          \\\"to\\\": {\\n            \\\"type\\\": \\\"axis\\\",\\n            \\\"anchor\\\": \\\"rhs\\\",\\n            \\\"select\\\": \\\"row\\\",\\n            \\\"label\\\": 1980\\n          }\\n        },\\n        {\\n          \\\"type\\\": \\\"map\\\",\\n          \\\"from\\\": {\\n            \\\"type\\\": \\\"axis\\\",\\n            \\\"anchor\\\": \\\"lhs\\\",\\n            \\\"select\\\": \\\"row\\\",\\n            \\\"label\\\": 109\\n          },\\n          \\\"to\\\": {\\n            \\\"type\\\": \\\"axis\\\",\\n            \\\"anchor\\\": \\\"rhs\\\",\\n            \\\"select\\\": \\\"row\\\",\\n            \\\"label\\\": 1980\\n          }\\n        },\\n        {\\n          \\\"type\\\": \\\"map\\\",\\n          \\\"from\\\": {\\n            \\\"type\\\": \\\"axis\\\",\\n            \\\"anchor\\\": \\\"lhs\\\",\\n            \\\"select\\\": \\\"row\\\",\\n            \\\"label\\\": 113\\n          },\\n          \\\"to\\\": {\\n            \\\"type\\\": \\\"axis\\\",\\n            \\\"anchor\\\": \\\"rhs\\\",\\n            \\\"select\\\": \\\"row\\\",\\n            \\\"label\\\": 1980\\n          }\\n        },\\n        {\\n          \\\"type\\\": \\\"map\\\",\\n          \\\"from\\\": {\\n            \\\"type\\\": \\\"axis\\\",\\n            \\\"anchor\\\": \\\"lhs\\\",\\n            \\\"select\\\": \\\"row\\\",\\n            \\\"label\\\": 122\\n          },\\n          \\\"to\\\": {\\n            \\\"type\\\": \\\"axis\\\",\\n            \\\"anchor\\\": \\\"rhs\\\",\\n            \\\"select\\\": \\\"row\\\",\\n            \\\"label\\\": 1980\\n          }\\n        },\\n        {\\n          \\\"type\\\": \\\"map\\\",\\n          \\\"from\\\": {\\n            \\\"type\\\": \\\"axis\\\",\\n            \\\"anchor\\\": \\\"lhs\\\",\\n            \\\"select\\\": \\\"row\\\",\\n            \\\"label\\\": 128\\n          },\\n          \\\"to\\\": {\\n            \\\"type\\\": \\\"axis\\\",\\n            \\\"anchor\\\": \\\"rhs\\\",\\n            \\\"select\\\": \\\"row\\\",\\n            \\\"label\\\": 1980\\n          }\\n        },\\n        {\\n          \\\"type\\\": \\\"map\\\",\\n          \\\"from\\\": {\\n            \\\"type\\\": \\\"axis\\\",\\n            \\\"anchor\\\": \\\"lhs\\\",\\n            \\\"select\\\": \\\"row\\\",\\n            \\\"label\\\": 130\\n          },\\n          \\\"to\\\": {\\n            \\\"type\\\": \\\"axis\\\",\\n            \\\"anchor\\\": \\\"rhs\\\",\\n            \\\"select\\\": \\\"row\\\",\\n            \\\"label\\\": 1980\\n          }\\n        },\\n        {\\n          \\\"type\\\": \\\"map\\\",\\n          \\\"from\\\": {\\n            \\\"type\\\": \\\"axis\\\",\\n            \\\"anchor\\\": \\\"lhs\\\",\\n            \\\"select\\\": \\\"row\\\",\\n            \\\"label\\\": 136\\n          },\\n          \\\"to\\\": {\\n            \\\"type\\\": \\\"axis\\\",\\n            \\\"anchor\\\": \\\"rhs\\\",\\n            \\\"select\\\": \\\"row\\\",\\n            \\\"label\\\": 1980\\n          }\\n        },\\n        {\\n          \\\"type\\\": \\\"map\\\",\\n          \\\"from\\\": {\\n            \\\"type\\\": \\\"axis\\\",\\n            \\\"anchor\\\": \\\"lhs\\\",\\n            \\\"select\\\": \\\"row\\\",\\n            \\\"label\\\": 144\\n          },\\n          \\\"to\\\": {\\n            \\\"type\\\": \\\"axis\\\",\\n            \\\"anchor\\\": \\\"rhs\\\",\\n            \\\"select\\\": \\\"row\\\",\\n            \\\"label\\\": 1980\\n          }\\n        },\\n        {\\n          \\\"type\\\": \\\"map\\\",\\n          \\\"from\\\": {\\n            \\\"type\\\": \\\"axis\\\",\\n            \\\"anchor\\\": \\\"lhs\\\",\\n            \\\"select\\\": \\\"row\\\",\\n            \\\"label\\\": 145\\n          },\\n          \\\"to\\\": {\\n            \\\"type\\\": \\\"axis\\\",\\n            \\\"anchor\\\": \\\"rhs\\\",\\n            \\\"select\\\": \\\"row\\\",\\n            \\\"label\\\": 1980\\n          }\\n        },\\n        {\\n          \\\"type\\\": \\\"map\\\",\\n          \\\"from\\\": {\\n            \\\"type\\\": \\\"axis\\\",\\n            \\\"anchor\\\": \\\"lhs\\\",\\n            \\\"select\\\": \\\"row\\\",\\n            \\\"label\\\": 168\\n          },\\n          \\\"to\\\": {\\n            \\\"type\\\": \\\"axis\\\",\\n            \\\"anchor\\\": \\\"rhs\\\",\\n            \\\"select\\\": \\\"row\\\",\\n            \\\"label\\\": 1980\\n          }\\n        },\\n        {\\n          \\\"type\\\": \\\"map\\\",\\n          \\\"from\\\": {\\n            \\\"type\\\": \\\"axis\\\",\\n            \\\"anchor\\\": \\\"lhs\\\",\\n            \\\"select\\\": \\\"row\\\",\\n            \\\"label\\\": 169\\n          },\\n          \\\"to\\\": {\\n            \\\"type\\\": \\\"axis\\\",\\n            \\\"anchor\\\": \\\"rhs\\\",\\n            \\\"select\\\": \\\"row\\\",\\n            \\\"label\\\": 1980\\n          }\\n        },\\n        {\\n          \\\"type\\\": \\\"map\\\",\\n          \\\"from\\\": {\\n            \\\"type\\\": \\\"axis\\\",\\n            \\\"anchor\\\": \\\"lhs\\\",\\n            \\\"select\\\": \\\"row\\\",\\n            \\\"label\\\": 176\\n          },\\n          \\\"to\\\": {\\n            \\\"type\\\": \\\"axis\\\",\\n            \\\"anchor\\\": \\\"rhs\\\",\\n            \\\"select\\\": \\\"row\\\",\\n            \\\"label\\\": 1980\\n          }\\n        },\\n        {\\n          \\\"type\\\": \\\"map\\\",\\n          \\\"from\\\": {\\n            \\\"type\\\": \\\"axis\\\",\\n            \\\"anchor\\\": \\\"lhs\\\",\\n            \\\"select\\\": \\\"row\\\",\\n            \\\"label\\\": 177\\n          },\\n          \\\"to\\\": {\\n            \\\"type\\\": \\\"axis\\\",\\n            \\\"anchor\\\": \\\"rhs\\\",\\n            \\\"select\\\": \\\"row\\\",\\n            \\\"label\\\": 1980\\n          }\\n        },\\n        {\\n          \\\"type\\\": \\\"map\\\",\\n          \\\"from\\\": {\\n            \\\"type\\\": \\\"axis\\\",\\n            \\\"anchor\\\": \\\"lhs\\\",\\n            \\\"select\\\": \\\"row\\\",\\n            \\\"label\\\": 181\\n          },\\n          \\\"to\\\": {\\n            \\\"type\\\": \\\"axis\\\",\\n            \\\"anchor\\\": \\\"rhs\\\",\\n            \\\"select\\\": \\\"row\\\",\\n            \\\"label\\\": 1980\\n          }\\n        },\\n        {\\n          \\\"type\\\": \\\"map\\\",\\n          \\\"from\\\": {\\n            \\\"type\\\": \\\"axis\\\",\\n            \\\"anchor\\\": \\\"lhs\\\",\\n            \\\"select\\\": \\\"row\\\",\\n            \\\"label\\\": 187\\n          },\\n          \\\"to\\\": {\\n            \\\"type\\\": \\\"axis\\\",\\n            \\\"anchor\\\": \\\"rhs\\\",\\n            \\\"select\\\": \\\"row\\\",\\n            \\\"label\\\": 1980\\n          }\\n        },\\n        {\\n          \\\"type\\\": \\\"map\\\",\\n          \\\"from\\\": {\\n            \\\"type\\\": \\\"axis\\\",\\n            \\\"anchor\\\": \\\"lhs\\\",\\n            \\\"select\\\": \\\"row\\\",\\n            \\\"label\\\": 189\\n          },\\n          \\\"to\\\": {\\n            \\\"type\\\": \\\"axis\\\",\\n            \\\"anchor\\\": \\\"rhs\\\",\\n            \\\"select\\\": \\\"row\\\",\\n            \\\"label\\\": 1980\\n          }\\n        },\\n        {\\n          \\\"type\\\": \\\"map\\\",\\n          \\\"from\\\": {\\n            \\\"type\\\": \\\"axis\\\",\\n            \\\"anchor\\\": \\\"lhs\\\",\\n            \\\"select\\\": \\\"row\\\",\\n            \\\"label\\\": 194\\n          },\\n          \\\"to\\\": {\\n            \\\"type\\\": \\\"axis\\\",\\n            \\\"anchor\\\": \\\"rhs\\\",\\n            \\\"select\\\": \\\"row\\\",\\n            \\\"label\\\": 1980\\n          }\\n        },\\n        {\\n          \\\"type\\\": \\\"map\\\",\\n          \\\"from\\\": {\\n            \\\"type\\\": \\\"axis\\\",\\n            \\\"anchor\\\": \\\"lhs\\\",\\n            \\\"select\\\": \\\"row\\\",\\n            \\\"label\\\": 196\\n          },\\n          \\\"to\\\": {\\n            \\\"type\\\": \\\"axis\\\",\\n            \\\"anchor\\\": \\\"rhs\\\",\\n            \\\"select\\\": \\\"row\\\",\\n            \\\"label\\\": 1980\\n          }\\n        },\\n        {\\n          \\\"type\\\": \\\"map\\\",\\n          \\\"from\\\": {\\n            \\\"type\\\": \\\"axis\\\",\\n            \\\"anchor\\\": \\\"lhs\\\",\\n            \\\"select\\\": \\\"row\\\",\\n            \\\"label\\\": 205\\n          },\\n          \\\"to\\\": {\\n            \\\"type\\\": \\\"axis\\\",\\n            \\\"anchor\\\": \\\"rhs\\\",\\n            \\\"select\\\": \\\"row\\\",\\n            \\\"label\\\": 1980\\n          }\\n        },\\n        {\\n          \\\"type\\\": \\\"map\\\",\\n          \\\"from\\\": {\\n            \\\"type\\\": \\\"axis\\\",\\n            \\\"anchor\\\": \\\"lhs\\\",\\n            \\\"select\\\": \\\"row\\\",\\n            \\\"label\\\": 209\\n          },\\n          \\\"to\\\": {\\n            \\\"type\\\": \\\"axis\\\",\\n            \\\"anchor\\\": \\\"rhs\\\",\\n            \\\"select\\\": \\\"row\\\",\\n            \\\"label\\\": 1980\\n          }\\n        },\\n        {\\n          \\\"type\\\": \\\"map\\\",\\n          \\\"from\\\": {\\n            \\\"type\\\": \\\"axis\\\",\\n            \\\"anchor\\\": \\\"lhs\\\",\\n            \\\"select\\\": \\\"row\\\",\\n            \\\"label\\\": 232\\n          },\\n          \\\"to\\\": {\\n            \\\"type\\\": \\\"axis\\\",\\n            \\\"anchor\\\": \\\"rhs\\\",\\n            \\\"select\\\": \\\"row\\\",\\n            \\\"label\\\": 1980\\n          }\\n        },\\n        {\\n          \\\"type\\\": \\\"map\\\",\\n          \\\"from\\\": {\\n            \\\"type\\\": \\\"axis\\\",\\n            \\\"anchor\\\": \\\"lhs\\\",\\n            \\\"select\\\": \\\"row\\\",\\n            \\\"label\\\": 4\\n          },\\n          \\\"to\\\": {\\n            \\\"type\\\": \\\"axis\\\",\\n            \\\"anchor\\\": \\\"rhs\\\",\\n            \\\"select\\\": \\\"row\\\",\\n            \\\"label\\\": 1990\\n          }\\n        },\\n        {\\n          \\\"type\\\": \\\"map\\\",\\n          \\\"from\\\": {\\n            \\\"type\\\": \\\"axis\\\",\\n            \\\"anchor\\\": \\\"lhs\\\",\\n            \\\"select\\\": \\\"row\\\",\\n            \\\"label\\\": 6\\n          },\\n          \\\"to\\\": {\\n            \\\"type\\\": \\\"axis\\\",\\n            \\\"anchor\\\": \\\"rhs\\\",\\n            \\\"select\\\": \\\"row\\\",\\n            \\\"label\\\": 1990\\n          }\\n        },\\n        {\\n          \\\"type\\\": \\\"map\\\",\\n          \\\"from\\\": {\\n            \\\"type\\\": \\\"axis\\\",\\n            \\\"anchor\\\": \\\"lhs\\\",\\n            \\\"select\\\": \\\"row\\\",\\n            \\\"label\\\": 13\\n          },\\n          \\\"to\\\": {\\n            \\\"type\\\": \\\"axis\\\",\\n            \\\"anchor\\\": \\\"rhs\\\",\\n            \\\"select\\\": \\\"row\\\",\\n            \\\"label\\\": 1990\\n          }\\n        },\\n        {\\n          \\\"type\\\": \\\"map\\\",\\n          \\\"from\\\": {\\n            \\\"type\\\": \\\"axis\\\",\\n            \\\"anchor\\\": \\\"lhs\\\",\\n            \\\"select\\\": \\\"row\\\",\\n            \\\"label\\\": 22\\n          },\\n          \\\"to\\\": {\\n            \\\"type\\\": \\\"axis\\\",\\n            \\\"anchor\\\": \\\"rhs\\\",\\n            \\\"select\\\": \\\"row\\\",\\n            \\\"label\\\": 1990\\n          }\\n        },\\n        {\\n          \\\"type\\\": \\\"map\\\",\\n          \\\"from\\\": {\\n            \\\"type\\\": \\\"axis\\\",\\n            \\\"anchor\\\": \\\"lhs\\\",\\n            \\\"select\\\": \\\"row\\\",\\n            \\\"label\\\": 23\\n          },\\n          \\\"to\\\": {\\n            \\\"type\\\": \\\"axis\\\",\\n            \\\"anchor\\\": \\\"rhs\\\",\\n            \\\"select\\\": \\\"row\\\",\\n            \\\"label\\\": 1990\\n          }\\n        },\\n        {\\n          \\\"type\\\": \\\"map\\\",\\n          \\\"from\\\": {\\n            \\\"type\\\": \\\"axis\\\",\\n            \\\"anchor\\\": \\\"lhs\\\",\\n            \\\"select\\\": \\\"row\\\",\\n            \\\"label\\\": 28\\n          },\\n          \\\"to\\\": {\\n            \\\"type\\\": \\\"axis\\\",\\n            \\\"anchor\\\": \\\"rhs\\\",\\n            \\\"select\\\": \\\"row\\\",\\n            \\\"label\\\": 1990\\n          }\\n        },\\n        {\\n          \\\"type\\\": \\\"map\\\",\\n          \\\"from\\\": {\\n            \\\"type\\\": \\\"axis\\\",\\n            \\\"anchor\\\": \\\"lhs\\\",\\n            \\\"select\\\": \\\"row\\\",\\n            \\\"label\\\": 30\\n          },\\n          \\\"to\\\": {\\n            \\\"type\\\": \\\"axis\\\",\\n            \\\"anchor\\\": \\\"rhs\\\",\\n            \\\"select\\\": \\\"row\\\",\\n            \\\"label\\\": 1990\\n          }\\n        },\\n        {\\n          \\\"type\\\": \\\"map\\\",\\n          \\\"from\\\": {\\n            \\\"type\\\": \\\"axis\\\",\\n            \\\"anchor\\\": \\\"lhs\\\",\\n            \\\"select\\\": \\\"row\\\",\\n            \\\"label\\\": 34\\n          },\\n          \\\"to\\\": {\\n            \\\"type\\\": \\\"axis\\\",\\n            \\\"anchor\\\": \\\"rhs\\\",\\n            \\\"select\\\": \\\"row\\\",\\n            \\\"label\\\": 1990\\n          }\\n        },\\n        {\\n          \\\"type\\\": \\\"map\\\",\\n          \\\"from\\\": {\\n            \\\"type\\\": \\\"axis\\\",\\n            \\\"anchor\\\": \\\"lhs\\\",\\n            \\\"select\\\": \\\"row\\\",\\n            \\\"label\\\": 46\\n          },\\n          \\\"to\\\": {\\n            \\\"type\\\": \\\"axis\\\",\\n            \\\"anchor\\\": \\\"rhs\\\",\\n            \\\"select\\\": \\\"row\\\",\\n            \\\"label\\\": 1990\\n          }\\n        },\\n        {\\n          \\\"type\\\": \\\"map\\\",\\n          \\\"from\\\": {\\n            \\\"type\\\": \\\"axis\\\",\\n            \\\"anchor\\\": \\\"lhs\\\",\\n            \\\"select\\\": \\\"row\\\",\\n            \\\"label\\\": 55\\n          },\\n          \\\"to\\\": {\\n            \\\"type\\\": \\\"axis\\\",\\n            \\\"anchor\\\": \\\"rhs\\\",\\n            \\\"select\\\": \\\"row\\\",\\n            \\\"label\\\": 1990\\n          }\\n        },\\n        {\\n          \\\"type\\\": \\\"map\\\",\\n          \\\"from\\\": {\\n            \\\"type\\\": \\\"axis\\\",\\n            \\\"anchor\\\": \\\"lhs\\\",\\n            \\\"select\\\": \\\"row\\\",\\n            \\\"label\\\": 63\\n          },\\n          \\\"to\\\": {\\n            \\\"type\\\": \\\"axis\\\",\\n            \\\"anchor\\\": \\\"rhs\\\",\\n            \\\"select\\\": \\\"row\\\",\\n            \\\"label\\\": 1990\\n          }\\n        },\\n        {\\n          \\\"type\\\": \\\"map\\\",\\n          \\\"from\\\": {\\n            \\\"type\\\": \\\"axis\\\",\\n            \\\"anchor\\\": \\\"lhs\\\",\\n            \\\"select\\\": \\\"row\\\",\\n            \\\"label\\\": 70\\n          },\\n          \\\"to\\\": {\\n            \\\"type\\\": \\\"axis\\\",\\n            \\\"anchor\\\": \\\"rhs\\\",\\n            \\\"select\\\": \\\"row\\\",\\n            \\\"label\\\": 1990\\n          }\\n        },\\n        {\\n          \\\"type\\\": \\\"map\\\",\\n          \\\"from\\\": {\\n            \\\"type\\\": \\\"axis\\\",\\n            \\\"anchor\\\": \\\"lhs\\\",\\n            \\\"select\\\": \\\"row\\\",\\n            \\\"label\\\": 76\\n          },\\n          \\\"to\\\": {\\n            \\\"type\\\": \\\"axis\\\",\\n            \\\"anchor\\\": \\\"rhs\\\",\\n            \\\"select\\\": \\\"row\\\",\\n            \\\"label\\\": 1990\\n          }\\n        },\\n        {\\n          \\\"type\\\": \\\"map\\\",\\n          \\\"from\\\": {\\n            \\\"type\\\": \\\"axis\\\",\\n            \\\"anchor\\\": \\\"lhs\\\",\\n            \\\"select\\\": \\\"row\\\",\\n            \\\"label\\\": 106\\n          },\\n          \\\"to\\\": {\\n            \\\"type\\\": \\\"axis\\\",\\n            \\\"anchor\\\": \\\"rhs\\\",\\n            \\\"select\\\": \\\"row\\\",\\n            \\\"label\\\": 1990\\n          }\\n        },\\n        {\\n          \\\"type\\\": \\\"map\\\",\\n          \\\"from\\\": {\\n            \\\"type\\\": \\\"axis\\\",\\n            \\\"anchor\\\": \\\"lhs\\\",\\n            \\\"select\\\": \\\"row\\\",\\n            \\\"label\\\": 110\\n          },\\n          \\\"to\\\": {\\n            \\\"type\\\": \\\"axis\\\",\\n            \\\"anchor\\\": \\\"rhs\\\",\\n            \\\"select\\\": \\\"row\\\",\\n            \\\"label\\\": 1990\\n          }\\n        },\\n        {\\n          \\\"type\\\": \\\"map\\\",\\n          \\\"from\\\": {\\n            \\\"type\\\": \\\"axis\\\",\\n            \\\"anchor\\\": \\\"lhs\\\",\\n            \\\"select\\\": \\\"row\\\",\\n            \\\"label\\\": 111\\n          },\\n          \\\"to\\\": {\\n            \\\"type\\\": \\\"axis\\\",\\n            \\\"anchor\\\": \\\"rhs\\\",\\n            \\\"select\\\": \\\"row\\\",\\n            \\\"label\\\": 1990\\n          }\\n        },\\n        {\\n          \\\"type\\\": \\\"map\\\",\\n          \\\"from\\\": {\\n            \\\"type\\\": \\\"axis\\\",\\n            \\\"anchor\\\": \\\"lhs\\\",\\n            \\\"select\\\": \\\"row\\\",\\n            \\\"label\\\": 118\\n          },\\n          \\\"to\\\": {\\n            \\\"type\\\": \\\"axis\\\",\\n            \\\"anchor\\\": \\\"rhs\\\",\\n            \\\"select\\\": \\\"row\\\",\\n            \\\"label\\\": 1990\\n          }\\n        },\\n        {\\n          \\\"type\\\": \\\"map\\\",\\n          \\\"from\\\": {\\n            \\\"type\\\": \\\"axis\\\",\\n            \\\"anchor\\\": \\\"lhs\\\",\\n            \\\"select\\\": \\\"row\\\",\\n            \\\"label\\\": 135\\n          },\\n          \\\"to\\\": {\\n            \\\"type\\\": \\\"axis\\\",\\n            \\\"anchor\\\": \\\"rhs\\\",\\n            \\\"select\\\": \\\"row\\\",\\n            \\\"label\\\": 1990\\n          }\\n        },\\n        {\\n          \\\"type\\\": \\\"map\\\",\\n          \\\"from\\\": {\\n            \\\"type\\\": \\\"axis\\\",\\n            \\\"anchor\\\": \\\"lhs\\\",\\n            \\\"select\\\": \\\"row\\\",\\n            \\\"label\\\": 143\\n          },\\n          \\\"to\\\": {\\n            \\\"type\\\": \\\"axis\\\",\\n            \\\"anchor\\\": \\\"rhs\\\",\\n            \\\"select\\\": \\\"row\\\",\\n            \\\"label\\\": 1990\\n          }\\n        },\\n        {\\n          \\\"type\\\": \\\"map\\\",\\n          \\\"from\\\": {\\n            \\\"type\\\": \\\"axis\\\",\\n            \\\"anchor\\\": \\\"lhs\\\",\\n            \\\"select\\\": \\\"row\\\",\\n            \\\"label\\\": 156\\n          },\\n          \\\"to\\\": {\\n            \\\"type\\\": \\\"axis\\\",\\n            \\\"anchor\\\": \\\"rhs\\\",\\n            \\\"select\\\": \\\"row\\\",\\n            \\\"label\\\": 1990\\n          }\\n        },\\n        {\\n          \\\"type\\\": \\\"map\\\",\\n          \\\"from\\\": {\\n            \\\"type\\\": \\\"axis\\\",\\n            \\\"anchor\\\": \\\"lhs\\\",\\n            \\\"select\\\": \\\"row\\\",\\n            \\\"label\\\": 163\\n          },\\n          \\\"to\\\": {\\n            \\\"type\\\": \\\"axis\\\",\\n            \\\"anchor\\\": \\\"rhs\\\",\\n            \\\"select\\\": \\\"row\\\",\\n            \\\"label\\\": 1990\\n          }\\n        },\\n        {\\n          \\\"type\\\": \\\"map\\\",\\n          \\\"from\\\": {\\n            \\\"type\\\": \\\"axis\\\",\\n            \\\"anchor\\\": \\\"lhs\\\",\\n            \\\"select\\\": \\\"row\\\",\\n            \\\"label\\\": 171\\n          },\\n          \\\"to\\\": {\\n            \\\"type\\\": \\\"axis\\\",\\n            \\\"anchor\\\": \\\"rhs\\\",\\n            \\\"select\\\": \\\"row\\\",\\n            \\\"label\\\": 1990\\n          }\\n        },\\n        {\\n          \\\"type\\\": \\\"map\\\",\\n          \\\"from\\\": {\\n            \\\"type\\\": \\\"axis\\\",\\n            \\\"anchor\\\": \\\"lhs\\\",\\n            \\\"select\\\": \\\"row\\\",\\n            \\\"label\\\": 172\\n          },\\n          \\\"to\\\": {\\n            \\\"type\\\": \\\"axis\\\",\\n            \\\"anchor\\\": \\\"rhs\\\",\\n            \\\"select\\\": \\\"row\\\",\\n            \\\"label\\\": 1990\\n          }\\n        },\\n        {\\n          \\\"type\\\": \\\"map\\\",\\n          \\\"from\\\": {\\n            \\\"type\\\": \\\"axis\\\",\\n            \\\"anchor\\\": \\\"lhs\\\",\\n            \\\"select\\\": \\\"row\\\",\\n            \\\"label\\\": 182\\n          },\\n          \\\"to\\\": {\\n            \\\"type\\\": \\\"axis\\\",\\n            \\\"anchor\\\": \\\"rhs\\\",\\n            \\\"select\\\": \\\"row\\\",\\n            \\\"label\\\": 1990\\n          }\\n        },\\n        {\\n          \\\"type\\\": \\\"map\\\",\\n          \\\"from\\\": {\\n            \\\"type\\\": \\\"axis\\\",\\n            \\\"anchor\\\": \\\"lhs\\\",\\n            \\\"select\\\": \\\"row\\\",\\n            \\\"label\\\": 185\\n          },\\n          \\\"to\\\": {\\n            \\\"type\\\": \\\"axis\\\",\\n            \\\"anchor\\\": \\\"rhs\\\",\\n            \\\"select\\\": \\\"row\\\",\\n            \\\"label\\\": 1990\\n          }\\n        },\\n        {\\n          \\\"type\\\": \\\"map\\\",\\n          \\\"from\\\": {\\n            \\\"type\\\": \\\"axis\\\",\\n            \\\"anchor\\\": \\\"lhs\\\",\\n            \\\"select\\\": \\\"row\\\",\\n            \\\"label\\\": 191\\n          },\\n          \\\"to\\\": {\\n            \\\"type\\\": \\\"axis\\\",\\n            \\\"anchor\\\": \\\"rhs\\\",\\n            \\\"select\\\": \\\"row\\\",\\n            \\\"label\\\": 1990\\n          }\\n        },\\n        {\\n          \\\"type\\\": \\\"map\\\",\\n          \\\"from\\\": {\\n            \\\"type\\\": \\\"axis\\\",\\n            \\\"anchor\\\": \\\"lhs\\\",\\n            \\\"select\\\": \\\"row\\\",\\n            \\\"label\\\": 197\\n          },\\n          \\\"to\\\": {\\n            \\\"type\\\": \\\"axis\\\",\\n            \\\"anchor\\\": \\\"rhs\\\",\\n            \\\"select\\\": \\\"row\\\",\\n            \\\"label\\\": 1990\\n          }\\n        },\\n        {\\n          \\\"type\\\": \\\"map\\\",\\n          \\\"from\\\": {\\n            \\\"type\\\": \\\"axis\\\",\\n            \\\"anchor\\\": \\\"lhs\\\",\\n            \\\"select\\\": \\\"row\\\",\\n            \\\"label\\\": 201\\n          },\\n          \\\"to\\\": {\\n            \\\"type\\\": \\\"axis\\\",\\n            \\\"anchor\\\": \\\"rhs\\\",\\n            \\\"select\\\": \\\"row\\\",\\n            \\\"label\\\": 1990\\n          }\\n        },\\n        {\\n          \\\"type\\\": \\\"map\\\",\\n          \\\"from\\\": {\\n            \\\"type\\\": \\\"axis\\\",\\n            \\\"anchor\\\": \\\"lhs\\\",\\n            \\\"select\\\": \\\"row\\\",\\n            \\\"label\\\": 207\\n          },\\n          \\\"to\\\": {\\n            \\\"type\\\": \\\"axis\\\",\\n            \\\"anchor\\\": \\\"rhs\\\",\\n            \\\"select\\\": \\\"row\\\",\\n            \\\"label\\\": 1990\\n          }\\n        },\\n        {\\n          \\\"type\\\": \\\"map\\\",\\n          \\\"from\\\": {\\n            \\\"type\\\": \\\"axis\\\",\\n            \\\"anchor\\\": \\\"lhs\\\",\\n            \\\"select\\\": \\\"row\\\",\\n            \\\"label\\\": 213\\n          },\\n          \\\"to\\\": {\\n            \\\"type\\\": \\\"axis\\\",\\n            \\\"anchor\\\": \\\"rhs\\\",\\n            \\\"select\\\": \\\"row\\\",\\n            \\\"label\\\": 1990\\n          }\\n        },\\n        {\\n          \\\"type\\\": \\\"map\\\",\\n          \\\"from\\\": {\\n            \\\"type\\\": \\\"axis\\\",\\n            \\\"anchor\\\": \\\"lhs\\\",\\n            \\\"select\\\": \\\"row\\\",\\n            \\\"label\\\": 221\\n          },\\n          \\\"to\\\": {\\n            \\\"type\\\": \\\"axis\\\",\\n            \\\"anchor\\\": \\\"rhs\\\",\\n            \\\"select\\\": \\\"row\\\",\\n            \\\"label\\\": 1990\\n          }\\n        },\\n        {\\n          \\\"type\\\": \\\"map\\\",\\n          \\\"from\\\": {\\n            \\\"type\\\": \\\"axis\\\",\\n            \\\"anchor\\\": \\\"lhs\\\",\\n            \\\"select\\\": \\\"row\\\",\\n            \\\"label\\\": 222\\n          },\\n          \\\"to\\\": {\\n            \\\"type\\\": \\\"axis\\\",\\n            \\\"anchor\\\": \\\"rhs\\\",\\n            \\\"select\\\": \\\"row\\\",\\n            \\\"label\\\": 1990\\n          }\\n        },\\n        {\\n          \\\"type\\\": \\\"map\\\",\\n          \\\"from\\\": {\\n            \\\"type\\\": \\\"axis\\\",\\n            \\\"anchor\\\": \\\"lhs\\\",\\n            \\\"select\\\": \\\"row\\\",\\n            \\\"label\\\": 226\\n          },\\n          \\\"to\\\": {\\n            \\\"type\\\": \\\"axis\\\",\\n            \\\"anchor\\\": \\\"rhs\\\",\\n            \\\"select\\\": \\\"row\\\",\\n            \\\"label\\\": 1990\\n          }\\n        },\\n        {\\n          \\\"type\\\": \\\"map\\\",\\n          \\\"from\\\": {\\n            \\\"type\\\": \\\"axis\\\",\\n            \\\"anchor\\\": \\\"lhs\\\",\\n            \\\"select\\\": \\\"row\\\",\\n            \\\"label\\\": 228\\n          },\\n          \\\"to\\\": {\\n            \\\"type\\\": \\\"axis\\\",\\n            \\\"anchor\\\": \\\"rhs\\\",\\n            \\\"select\\\": \\\"row\\\",\\n            \\\"label\\\": 1990\\n          }\\n        },\\n        {\\n          \\\"type\\\": \\\"map\\\",\\n          \\\"from\\\": {\\n            \\\"type\\\": \\\"axis\\\",\\n            \\\"anchor\\\": \\\"lhs\\\",\\n            \\\"select\\\": \\\"row\\\",\\n            \\\"label\\\": 229\\n          },\\n          \\\"to\\\": {\\n            \\\"type\\\": \\\"axis\\\",\\n            \\\"anchor\\\": \\\"rhs\\\",\\n            \\\"select\\\": \\\"row\\\",\\n            \\\"label\\\": 1990\\n          }\\n        },\\n        {\\n          \\\"type\\\": \\\"map\\\",\\n          \\\"from\\\": {\\n            \\\"type\\\": \\\"axis\\\",\\n            \\\"anchor\\\": \\\"lhs\\\",\\n            \\\"select\\\": \\\"row\\\",\\n            \\\"label\\\": 230\\n          },\\n          \\\"to\\\": {\\n            \\\"type\\\": \\\"axis\\\",\\n            \\\"anchor\\\": \\\"rhs\\\",\\n            \\\"select\\\": \\\"row\\\",\\n            \\\"label\\\": 1990\\n          }\\n        },\\n        {\\n          \\\"type\\\": \\\"map\\\",\\n          \\\"from\\\": {\\n            \\\"type\\\": \\\"axis\\\",\\n            \\\"anchor\\\": \\\"lhs\\\",\\n            \\\"select\\\": \\\"row\\\",\\n            \\\"label\\\": 233\\n          },\\n          \\\"to\\\": {\\n            \\\"type\\\": \\\"axis\\\",\\n            \\\"anchor\\\": \\\"rhs\\\",\\n            \\\"select\\\": \\\"row\\\",\\n            \\\"label\\\": 1990\\n          }\\n        },\\n        {\\n          \\\"type\\\": \\\"map\\\",\\n          \\\"from\\\": {\\n            \\\"type\\\": \\\"axis\\\",\\n            \\\"anchor\\\": \\\"lhs\\\",\\n            \\\"select\\\": \\\"row\\\",\\n            \\\"label\\\": 235\\n          },\\n          \\\"to\\\": {\\n            \\\"type\\\": \\\"axis\\\",\\n            \\\"anchor\\\": \\\"rhs\\\",\\n            \\\"select\\\": \\\"row\\\",\\n            \\\"label\\\": 1990\\n          }\\n        },\\n        {\\n          \\\"type\\\": \\\"map\\\",\\n          \\\"from\\\": {\\n            \\\"type\\\": \\\"axis\\\",\\n            \\\"anchor\\\": \\\"lhs\\\",\\n            \\\"select\\\": \\\"row\\\",\\n            \\\"label\\\": 239\\n          },\\n          \\\"to\\\": {\\n            \\\"type\\\": \\\"axis\\\",\\n            \\\"anchor\\\": \\\"rhs\\\",\\n            \\\"select\\\": \\\"row\\\",\\n            \\\"label\\\": 1990\\n          }\\n        },\\n        {\\n          \\\"type\\\": \\\"map\\\",\\n          \\\"from\\\": {\\n            \\\"type\\\": \\\"axis\\\",\\n            \\\"anchor\\\": \\\"lhs\\\",\\n            \\\"select\\\": \\\"row\\\",\\n            \\\"label\\\": 241\\n          },\\n          \\\"to\\\": {\\n            \\\"type\\\": \\\"axis\\\",\\n            \\\"anchor\\\": \\\"rhs\\\",\\n            \\\"select\\\": \\\"row\\\",\\n            \\\"label\\\": 1990\\n          }\\n        },\\n        {\\n          \\\"type\\\": \\\"map\\\",\\n          \\\"from\\\": {\\n            \\\"type\\\": \\\"axis\\\",\\n            \\\"anchor\\\": \\\"lhs\\\",\\n            \\\"select\\\": \\\"row\\\",\\n            \\\"label\\\": 245\\n          },\\n          \\\"to\\\": {\\n            \\\"type\\\": \\\"axis\\\",\\n            \\\"anchor\\\": \\\"rhs\\\",\\n            \\\"select\\\": \\\"row\\\",\\n            \\\"label\\\": 1990\\n          }\\n        },\\n        {\\n          \\\"type\\\": \\\"map\\\",\\n          \\\"from\\\": {\\n            \\\"type\\\": \\\"axis\\\",\\n            \\\"anchor\\\": \\\"lhs\\\",\\n            \\\"select\\\": \\\"row\\\",\\n            \\\"label\\\": 248\\n          },\\n          \\\"to\\\": {\\n            \\\"type\\\": \\\"axis\\\",\\n            \\\"anchor\\\": \\\"rhs\\\",\\n            \\\"select\\\": \\\"row\\\",\\n            \\\"label\\\": 1990\\n          }\\n        },\\n        {\\n          \\\"type\\\": \\\"map\\\",\\n          \\\"from\\\": {\\n            \\\"type\\\": \\\"axis\\\",\\n            \\\"anchor\\\": \\\"lhs\\\",\\n            \\\"select\\\": \\\"row\\\",\\n            \\\"label\\\": 18\\n          },\\n          \\\"to\\\": {\\n            \\\"type\\\": \\\"axis\\\",\\n            \\\"anchor\\\": \\\"rhs\\\",\\n            \\\"select\\\": \\\"row\\\",\\n            \\\"label\\\": 2000\\n          }\\n        },\\n        {\\n          \\\"type\\\": \\\"map\\\",\\n          \\\"from\\\": {\\n            \\\"type\\\": \\\"axis\\\",\\n            \\\"anchor\\\": \\\"lhs\\\",\\n            \\\"select\\\": \\\"row\\\",\\n            \\\"label\\\": 19\\n          },\\n          \\\"to\\\": {\\n            \\\"type\\\": \\\"axis\\\",\\n            \\\"anchor\\\": \\\"rhs\\\",\\n            \\\"select\\\": \\\"row\\\",\\n            \\\"label\\\": 2000\\n          }\\n        },\\n        {\\n          \\\"type\\\": \\\"map\\\",\\n          \\\"from\\\": {\\n            \\\"type\\\": \\\"axis\\\",\\n            \\\"anchor\\\": \\\"lhs\\\",\\n            \\\"select\\\": \\\"row\\\",\\n            \\\"label\\\": 21\\n          },\\n          \\\"to\\\": {\\n            \\\"type\\\": \\\"axis\\\",\\n            \\\"anchor\\\": \\\"rhs\\\",\\n            \\\"select\\\": \\\"row\\\",\\n            \\\"label\\\": 2000\\n          }\\n        },\\n        {\\n          \\\"type\\\": \\\"map\\\",\\n          \\\"from\\\": {\\n            \\\"type\\\": \\\"axis\\\",\\n            \\\"anchor\\\": \\\"lhs\\\",\\n            \\\"select\\\": \\\"row\\\",\\n            \\\"label\\\": 31\\n          },\\n          \\\"to\\\": {\\n            \\\"type\\\": \\\"axis\\\",\\n            \\\"anchor\\\": \\\"rhs\\\",\\n            \\\"select\\\": \\\"row\\\",\\n            \\\"label\\\": 2000\\n          }\\n        },\\n        {\\n          \\\"type\\\": \\\"map\\\",\\n          \\\"from\\\": {\\n            \\\"type\\\": \\\"axis\\\",\\n            \\\"anchor\\\": \\\"lhs\\\",\\n            \\\"select\\\": \\\"row\\\",\\n            \\\"label\\\": 33\\n          },\\n          \\\"to\\\": {\\n            \\\"type\\\": \\\"axis\\\",\\n            \\\"anchor\\\": \\\"rhs\\\",\\n            \\\"select\\\": \\\"row\\\",\\n            \\\"label\\\": 2000\\n          }\\n        },\\n        {\\n          \\\"type\\\": \\\"map\\\",\\n          \\\"from\\\": {\\n            \\\"type\\\": \\\"axis\\\",\\n            \\\"anchor\\\": \\\"lhs\\\",\\n            \\\"select\\\": \\\"row\\\",\\n            \\\"label\\\": 35\\n          },\\n          \\\"to\\\": {\\n            \\\"type\\\": \\\"axis\\\",\\n            \\\"anchor\\\": \\\"rhs\\\",\\n            \\\"select\\\": \\\"row\\\",\\n            \\\"label\\\": 2000\\n          }\\n        },\\n        {\\n          \\\"type\\\": \\\"map\\\",\\n          \\\"from\\\": {\\n            \\\"type\\\": \\\"axis\\\",\\n            \\\"anchor\\\": \\\"lhs\\\",\\n            \\\"select\\\": \\\"row\\\",\\n            \\\"label\\\": 36\\n          },\\n          \\\"to\\\": {\\n            \\\"type\\\": \\\"axis\\\",\\n            \\\"anchor\\\": \\\"rhs\\\",\\n            \\\"select\\\": \\\"row\\\",\\n            \\\"label\\\": 2000\\n          }\\n        },\\n        {\\n          \\\"type\\\": \\\"map\\\",\\n          \\\"from\\\": {\\n            \\\"type\\\": \\\"axis\\\",\\n            \\\"anchor\\\": \\\"lhs\\\",\\n            \\\"select\\\": \\\"row\\\",\\n            \\\"label\\\": 44\\n          },\\n          \\\"to\\\": {\\n            \\\"type\\\": \\\"axis\\\",\\n            \\\"anchor\\\": \\\"rhs\\\",\\n            \\\"select\\\": \\\"row\\\",\\n            \\\"label\\\": 2000\\n          }\\n        },\\n        {\\n          \\\"type\\\": \\\"map\\\",\\n          \\\"from\\\": {\\n            \\\"type\\\": \\\"axis\\\",\\n            \\\"anchor\\\": \\\"lhs\\\",\\n            \\\"select\\\": \\\"row\\\",\\n            \\\"label\\\": 51\\n          },\\n          \\\"to\\\": {\\n            \\\"type\\\": \\\"axis\\\",\\n            \\\"anchor\\\": \\\"rhs\\\",\\n            \\\"select\\\": \\\"row\\\",\\n            \\\"label\\\": 2000\\n          }\\n        },\\n        {\\n          \\\"type\\\": \\\"map\\\",\\n          \\\"from\\\": {\\n            \\\"type\\\": \\\"axis\\\",\\n            \\\"anchor\\\": \\\"lhs\\\",\\n            \\\"select\\\": \\\"row\\\",\\n            \\\"label\\\": 57\\n          },\\n          \\\"to\\\": {\\n            \\\"type\\\": \\\"axis\\\",\\n            \\\"anchor\\\": \\\"rhs\\\",\\n            \\\"select\\\": \\\"row\\\",\\n            \\\"label\\\": 2000\\n          }\\n        },\\n        {\\n          \\\"type\\\": \\\"map\\\",\\n          \\\"from\\\": {\\n            \\\"type\\\": \\\"axis\\\",\\n            \\\"anchor\\\": \\\"lhs\\\",\\n            \\\"select\\\": \\\"row\\\",\\n            \\\"label\\\": 58\\n          },\\n          \\\"to\\\": {\\n            \\\"type\\\": \\\"axis\\\",\\n            \\\"anchor\\\": \\\"rhs\\\",\\n            \\\"select\\\": \\\"row\\\",\\n            \\\"label\\\": 2000\\n          }\\n        },\\n        {\\n          \\\"type\\\": \\\"map\\\",\\n          \\\"from\\\": {\\n            \\\"type\\\": \\\"axis\\\",\\n            \\\"anchor\\\": \\\"lhs\\\",\\n            \\\"select\\\": \\\"row\\\",\\n            \\\"label\\\": 59\\n          },\\n          \\\"to\\\": {\\n            \\\"type\\\": \\\"axis\\\",\\n            \\\"anchor\\\": \\\"rhs\\\",\\n            \\\"select\\\": \\\"row\\\",\\n            \\\"label\\\": 2000\\n          }\\n        },\\n        {\\n          \\\"type\\\": \\\"map\\\",\\n          \\\"from\\\": {\\n            \\\"type\\\": \\\"axis\\\",\\n            \\\"anchor\\\": \\\"lhs\\\",\\n            \\\"select\\\": \\\"row\\\",\\n            \\\"label\\\": 73\\n          },\\n          \\\"to\\\": {\\n            \\\"type\\\": \\\"axis\\\",\\n            \\\"anchor\\\": \\\"rhs\\\",\\n            \\\"select\\\": \\\"row\\\",\\n            \\\"label\\\": 2000\\n          }\\n        },\\n        {\\n          \\\"type\\\": \\\"map\\\",\\n          \\\"from\\\": {\\n            \\\"type\\\": \\\"axis\\\",\\n            \\\"anchor\\\": \\\"lhs\\\",\\n            \\\"select\\\": \\\"row\\\",\\n            \\\"label\\\": 78\\n          },\\n          \\\"to\\\": {\\n            \\\"type\\\": \\\"axis\\\",\\n            \\\"anchor\\\": \\\"rhs\\\",\\n            \\\"select\\\": \\\"row\\\",\\n            \\\"label\\\": 2000\\n          }\\n        },\\n        {\\n          \\\"type\\\": \\\"map\\\",\\n          \\\"from\\\": {\\n            \\\"type\\\": \\\"axis\\\",\\n            \\\"anchor\\\": \\\"lhs\\\",\\n            \\\"select\\\": \\\"row\\\",\\n            \\\"label\\\": 81\\n          },\\n          \\\"to\\\": {\\n            \\\"type\\\": \\\"axis\\\",\\n            \\\"anchor\\\": \\\"rhs\\\",\\n            \\\"select\\\": \\\"row\\\",\\n            \\\"label\\\": 2000\\n          }\\n        },\\n        {\\n          \\\"type\\\": \\\"map\\\",\\n          \\\"from\\\": {\\n            \\\"type\\\": \\\"axis\\\",\\n            \\\"anchor\\\": \\\"lhs\\\",\\n            \\\"select\\\": \\\"row\\\",\\n            \\\"label\\\": 82\\n          },\\n          \\\"to\\\": {\\n            \\\"type\\\": \\\"axis\\\",\\n            \\\"anchor\\\": \\\"rhs\\\",\\n            \\\"select\\\": \\\"row\\\",\\n            \\\"label\\\": 2000\\n          }\\n        },\\n        {\\n          \\\"type\\\": \\\"map\\\",\\n          \\\"from\\\": {\\n            \\\"type\\\": \\\"axis\\\",\\n            \\\"anchor\\\": \\\"lhs\\\",\\n            \\\"select\\\": \\\"row\\\",\\n            \\\"label\\\": 85\\n          },\\n          \\\"to\\\": {\\n            \\\"type\\\": \\\"axis\\\",\\n            \\\"anchor\\\": \\\"rhs\\\",\\n            \\\"select\\\": \\\"row\\\",\\n            \\\"label\\\": 2000\\n          }\\n        },\\n        {\\n          \\\"type\\\": \\\"map\\\",\\n          \\\"from\\\": {\\n            \\\"type\\\": \\\"axis\\\",\\n            \\\"anchor\\\": \\\"lhs\\\",\\n            \\\"select\\\": \\\"row\\\",\\n            \\\"label\\\": 89\\n          },\\n          \\\"to\\\": {\\n            \\\"type\\\": \\\"axis\\\",\\n            \\\"anchor\\\": \\\"rhs\\\",\\n            \\\"select\\\": \\\"row\\\",\\n            \\\"label\\\": 2000\\n          }\\n        },\\n        {\\n          \\\"type\\\": \\\"map\\\",\\n          \\\"from\\\": {\\n            \\\"type\\\": \\\"axis\\\",\\n            \\\"anchor\\\": \\\"lhs\\\",\\n            \\\"select\\\": \\\"row\\\",\\n            \\\"label\\\": 91\\n          },\\n          \\\"to\\\": {\\n            \\\"type\\\": \\\"axis\\\",\\n            \\\"anchor\\\": \\\"rhs\\\",\\n            \\\"select\\\": \\\"row\\\",\\n            \\\"label\\\": 2000\\n          }\\n        },\\n        {\\n          \\\"type\\\": \\\"map\\\",\\n          \\\"from\\\": {\\n            \\\"type\\\": \\\"axis\\\",\\n            \\\"anchor\\\": \\\"lhs\\\",\\n            \\\"select\\\": \\\"row\\\",\\n            \\\"label\\\": 94\\n          },\\n          \\\"to\\\": {\\n            \\\"type\\\": \\\"axis\\\",\\n            \\\"anchor\\\": \\\"rhs\\\",\\n            \\\"select\\\": \\\"row\\\",\\n            \\\"label\\\": 2000\\n          }\\n        },\\n        {\\n          \\\"type\\\": \\\"map\\\",\\n          \\\"from\\\": {\\n            \\\"type\\\": \\\"axis\\\",\\n            \\\"anchor\\\": \\\"lhs\\\",\\n            \\\"select\\\": \\\"row\\\",\\n            \\\"label\\\": 99\\n          },\\n          \\\"to\\\": {\\n            \\\"type\\\": \\\"axis\\\",\\n            \\\"anchor\\\": \\\"rhs\\\",\\n            \\\"select\\\": \\\"row\\\",\\n            \\\"label\\\": 2000\\n          }\\n        },\\n        {\\n          \\\"type\\\": \\\"map\\\",\\n          \\\"from\\\": {\\n            \\\"type\\\": \\\"axis\\\",\\n            \\\"anchor\\\": \\\"lhs\\\",\\n            \\\"select\\\": \\\"row\\\",\\n            \\\"label\\\": 102\\n          },\\n          \\\"to\\\": {\\n            \\\"type\\\": \\\"axis\\\",\\n            \\\"anchor\\\": \\\"rhs\\\",\\n            \\\"select\\\": \\\"row\\\",\\n            \\\"label\\\": 2000\\n          }\\n        },\\n        {\\n          \\\"type\\\": \\\"map\\\",\\n          \\\"from\\\": {\\n            \\\"type\\\": \\\"axis\\\",\\n            \\\"anchor\\\": \\\"lhs\\\",\\n            \\\"select\\\": \\\"row\\\",\\n            \\\"label\\\": 103\\n          },\\n          \\\"to\\\": {\\n            \\\"type\\\": \\\"axis\\\",\\n            \\\"anchor\\\": \\\"rhs\\\",\\n            \\\"select\\\": \\\"row\\\",\\n            \\\"label\\\": 2000\\n          }\\n        },\\n        {\\n          \\\"type\\\": \\\"map\\\",\\n          \\\"from\\\": {\\n            \\\"type\\\": \\\"axis\\\",\\n            \\\"anchor\\\": \\\"lhs\\\",\\n            \\\"select\\\": \\\"row\\\",\\n            \\\"label\\\": 104\\n          },\\n          \\\"to\\\": {\\n            \\\"type\\\": \\\"axis\\\",\\n            \\\"anchor\\\": \\\"rhs\\\",\\n            \\\"select\\\": \\\"row\\\",\\n            \\\"label\\\": 2000\\n          }\\n        },\\n        {\\n          \\\"type\\\": \\\"map\\\",\\n          \\\"from\\\": {\\n            \\\"type\\\": \\\"axis\\\",\\n            \\\"anchor\\\": \\\"lhs\\\",\\n            \\\"select\\\": \\\"row\\\",\\n            \\\"label\\\": 114\\n          },\\n          \\\"to\\\": {\\n            \\\"type\\\": \\\"axis\\\",\\n            \\\"anchor\\\": \\\"rhs\\\",\\n            \\\"select\\\": \\\"row\\\",\\n            \\\"label\\\": 2000\\n          }\\n        },\\n        {\\n          \\\"type\\\": \\\"map\\\",\\n          \\\"from\\\": {\\n            \\\"type\\\": \\\"axis\\\",\\n            \\\"anchor\\\": \\\"lhs\\\",\\n            \\\"select\\\": \\\"row\\\",\\n            \\\"label\\\": 120\\n          },\\n          \\\"to\\\": {\\n            \\\"type\\\": \\\"axis\\\",\\n            \\\"anchor\\\": \\\"rhs\\\",\\n            \\\"select\\\": \\\"row\\\",\\n            \\\"label\\\": 2000\\n          }\\n        },\\n        {\\n          \\\"type\\\": \\\"map\\\",\\n          \\\"from\\\": {\\n            \\\"type\\\": \\\"axis\\\",\\n            \\\"anchor\\\": \\\"lhs\\\",\\n            \\\"select\\\": \\\"row\\\",\\n            \\\"label\\\": 123\\n          },\\n          \\\"to\\\": {\\n            \\\"type\\\": \\\"axis\\\",\\n            \\\"anchor\\\": \\\"rhs\\\",\\n            \\\"select\\\": \\\"row\\\",\\n            \\\"label\\\": 2000\\n          }\\n        },\\n        {\\n          \\\"type\\\": \\\"map\\\",\\n          \\\"from\\\": {\\n            \\\"type\\\": \\\"axis\\\",\\n            \\\"anchor\\\": \\\"lhs\\\",\\n            \\\"select\\\": \\\"row\\\",\\n            \\\"label\\\": 124\\n          },\\n          \\\"to\\\": {\\n            \\\"type\\\": \\\"axis\\\",\\n            \\\"anchor\\\": \\\"rhs\\\",\\n            \\\"select\\\": \\\"row\\\",\\n            \\\"label\\\": 2000\\n          }\\n        },\\n        {\\n          \\\"type\\\": \\\"map\\\",\\n          \\\"from\\\": {\\n            \\\"type\\\": \\\"axis\\\",\\n            \\\"anchor\\\": \\\"lhs\\\",\\n            \\\"select\\\": \\\"row\\\",\\n            \\\"label\\\": 125\\n          },\\n          \\\"to\\\": {\\n            \\\"type\\\": \\\"axis\\\",\\n            \\\"anchor\\\": \\\"rhs\\\",\\n            \\\"select\\\": \\\"row\\\",\\n            \\\"label\\\": 2000\\n          }\\n        },\\n        {\\n          \\\"type\\\": \\\"map\\\",\\n          \\\"from\\\": {\\n            \\\"type\\\": \\\"axis\\\",\\n            \\\"anchor\\\": \\\"lhs\\\",\\n            \\\"select\\\": \\\"row\\\",\\n            \\\"label\\\": 127\\n          },\\n          \\\"to\\\": {\\n            \\\"type\\\": \\\"axis\\\",\\n            \\\"anchor\\\": \\\"rhs\\\",\\n            \\\"select\\\": \\\"row\\\",\\n            \\\"label\\\": 2000\\n          }\\n        },\\n        {\\n          \\\"type\\\": \\\"map\\\",\\n          \\\"from\\\": {\\n            \\\"type\\\": \\\"axis\\\",\\n            \\\"anchor\\\": \\\"lhs\\\",\\n            \\\"select\\\": \\\"row\\\",\\n            \\\"label\\\": 149\\n          },\\n          \\\"to\\\": {\\n            \\\"type\\\": \\\"axis\\\",\\n            \\\"anchor\\\": \\\"rhs\\\",\\n            \\\"select\\\": \\\"row\\\",\\n            \\\"label\\\": 2000\\n          }\\n        },\\n        {\\n          \\\"type\\\": \\\"map\\\",\\n          \\\"from\\\": {\\n            \\\"type\\\": \\\"axis\\\",\\n            \\\"anchor\\\": \\\"lhs\\\",\\n            \\\"select\\\": \\\"row\\\",\\n            \\\"label\\\": 151\\n          },\\n          \\\"to\\\": {\\n            \\\"type\\\": \\\"axis\\\",\\n            \\\"anchor\\\": \\\"rhs\\\",\\n            \\\"select\\\": \\\"row\\\",\\n            \\\"label\\\": 2000\\n          }\\n        },\\n        {\\n          \\\"type\\\": \\\"map\\\",\\n          \\\"from\\\": {\\n            \\\"type\\\": \\\"axis\\\",\\n            \\\"anchor\\\": \\\"lhs\\\",\\n            \\\"select\\\": \\\"row\\\",\\n            \\\"label\\\": 157\\n          },\\n          \\\"to\\\": {\\n            \\\"type\\\": \\\"axis\\\",\\n            \\\"anchor\\\": \\\"rhs\\\",\\n            \\\"select\\\": \\\"row\\\",\\n            \\\"label\\\": 2000\\n          }\\n        },\\n        {\\n          \\\"type\\\": \\\"map\\\",\\n          \\\"from\\\": {\\n            \\\"type\\\": \\\"axis\\\",\\n            \\\"anchor\\\": \\\"lhs\\\",\\n            \\\"select\\\": \\\"row\\\",\\n            \\\"label\\\": 164\\n          },\\n          \\\"to\\\": {\\n            \\\"type\\\": \\\"axis\\\",\\n            \\\"anchor\\\": \\\"rhs\\\",\\n            \\\"select\\\": \\\"row\\\",\\n            \\\"label\\\": 2000\\n          }\\n        },\\n        {\\n          \\\"type\\\": \\\"map\\\",\\n          \\\"from\\\": {\\n            \\\"type\\\": \\\"axis\\\",\\n            \\\"anchor\\\": \\\"lhs\\\",\\n            \\\"select\\\": \\\"row\\\",\\n            \\\"label\\\": 174\\n          },\\n          \\\"to\\\": {\\n            \\\"type\\\": \\\"axis\\\",\\n            \\\"anchor\\\": \\\"rhs\\\",\\n            \\\"select\\\": \\\"row\\\",\\n            \\\"label\\\": 2000\\n          }\\n        },\\n        {\\n          \\\"type\\\": \\\"map\\\",\\n          \\\"from\\\": {\\n            \\\"type\\\": \\\"axis\\\",\\n            \\\"anchor\\\": \\\"lhs\\\",\\n            \\\"select\\\": \\\"row\\\",\\n            \\\"label\\\": 179\\n          },\\n          \\\"to\\\": {\\n            \\\"type\\\": \\\"axis\\\",\\n            \\\"anchor\\\": \\\"rhs\\\",\\n            \\\"select\\\": \\\"row\\\",\\n            \\\"label\\\": 2000\\n          }\\n        },\\n        {\\n          \\\"type\\\": \\\"map\\\",\\n          \\\"from\\\": {\\n            \\\"type\\\": \\\"axis\\\",\\n            \\\"anchor\\\": \\\"lhs\\\",\\n            \\\"select\\\": \\\"row\\\",\\n            \\\"label\\\": 183\\n          },\\n          \\\"to\\\": {\\n            \\\"type\\\": \\\"axis\\\",\\n            \\\"anchor\\\": \\\"rhs\\\",\\n            \\\"select\\\": \\\"row\\\",\\n            \\\"label\\\": 2000\\n          }\\n        },\\n        {\\n          \\\"type\\\": \\\"map\\\",\\n          \\\"from\\\": {\\n            \\\"type\\\": \\\"axis\\\",\\n            \\\"anchor\\\": \\\"lhs\\\",\\n            \\\"select\\\": \\\"row\\\",\\n            \\\"label\\\": 184\\n          },\\n          \\\"to\\\": {\\n            \\\"type\\\": \\\"axis\\\",\\n            \\\"anchor\\\": \\\"rhs\\\",\\n            \\\"select\\\": \\\"row\\\",\\n            \\\"label\\\": 2000\\n          }\\n        },\\n        {\\n          \\\"type\\\": \\\"map\\\",\\n          \\\"from\\\": {\\n            \\\"type\\\": \\\"axis\\\",\\n            \\\"anchor\\\": \\\"lhs\\\",\\n            \\\"select\\\": \\\"row\\\",\\n            \\\"label\\\": 190\\n          },\\n          \\\"to\\\": {\\n            \\\"type\\\": \\\"axis\\\",\\n            \\\"anchor\\\": \\\"rhs\\\",\\n            \\\"select\\\": \\\"row\\\",\\n            \\\"label\\\": 2000\\n          }\\n        },\\n        {\\n          \\\"type\\\": \\\"map\\\",\\n          \\\"from\\\": {\\n            \\\"type\\\": \\\"axis\\\",\\n            \\\"anchor\\\": \\\"lhs\\\",\\n            \\\"select\\\": \\\"row\\\",\\n            \\\"label\\\": 203\\n          },\\n          \\\"to\\\": {\\n            \\\"type\\\": \\\"axis\\\",\\n            \\\"anchor\\\": \\\"rhs\\\",\\n            \\\"select\\\": \\\"row\\\",\\n            \\\"label\\\": 2000\\n          }\\n        },\\n        {\\n          \\\"type\\\": \\\"map\\\",\\n          \\\"from\\\": {\\n            \\\"type\\\": \\\"axis\\\",\\n            \\\"anchor\\\": \\\"lhs\\\",\\n            \\\"select\\\": \\\"row\\\",\\n            \\\"label\\\": 208\\n          },\\n          \\\"to\\\": {\\n            \\\"type\\\": \\\"axis\\\",\\n            \\\"anchor\\\": \\\"rhs\\\",\\n            \\\"select\\\": \\\"row\\\",\\n            \\\"label\\\": 2000\\n          }\\n        },\\n        {\\n          \\\"type\\\": \\\"map\\\",\\n          \\\"from\\\": {\\n            \\\"type\\\": \\\"axis\\\",\\n            \\\"anchor\\\": \\\"lhs\\\",\\n            \\\"select\\\": \\\"row\\\",\\n            \\\"label\\\": 214\\n          },\\n          \\\"to\\\": {\\n            \\\"type\\\": \\\"axis\\\",\\n            \\\"anchor\\\": \\\"rhs\\\",\\n            \\\"select\\\": \\\"row\\\",\\n            \\\"label\\\": 2000\\n          }\\n        },\\n        {\\n          \\\"type\\\": \\\"map\\\",\\n          \\\"from\\\": {\\n            \\\"type\\\": \\\"axis\\\",\\n            \\\"anchor\\\": \\\"lhs\\\",\\n            \\\"select\\\": \\\"row\\\",\\n            \\\"label\\\": 215\\n          },\\n          \\\"to\\\": {\\n            \\\"type\\\": \\\"axis\\\",\\n            \\\"anchor\\\": \\\"rhs\\\",\\n            \\\"select\\\": \\\"row\\\",\\n            \\\"label\\\": 2000\\n          }\\n        },\\n        {\\n          \\\"type\\\": \\\"map\\\",\\n          \\\"from\\\": {\\n            \\\"type\\\": \\\"axis\\\",\\n            \\\"anchor\\\": \\\"lhs\\\",\\n            \\\"select\\\": \\\"row\\\",\\n            \\\"label\\\": 216\\n          },\\n          \\\"to\\\": {\\n            \\\"type\\\": \\\"axis\\\",\\n            \\\"anchor\\\": \\\"rhs\\\",\\n            \\\"select\\\": \\\"row\\\",\\n            \\\"label\\\": 2000\\n          }\\n        },\\n        {\\n          \\\"type\\\": \\\"map\\\",\\n          \\\"from\\\": {\\n            \\\"type\\\": \\\"axis\\\",\\n            \\\"anchor\\\": \\\"lhs\\\",\\n            \\\"select\\\": \\\"row\\\",\\n            \\\"label\\\": 217\\n          },\\n          \\\"to\\\": {\\n            \\\"type\\\": \\\"axis\\\",\\n            \\\"anchor\\\": \\\"rhs\\\",\\n            \\\"select\\\": \\\"row\\\",\\n            \\\"label\\\": 2000\\n          }\\n        },\\n        {\\n          \\\"type\\\": \\\"map\\\",\\n          \\\"from\\\": {\\n            \\\"type\\\": \\\"axis\\\",\\n            \\\"anchor\\\": \\\"lhs\\\",\\n            \\\"select\\\": \\\"row\\\",\\n            \\\"label\\\": 225\\n          },\\n          \\\"to\\\": {\\n            \\\"type\\\": \\\"axis\\\",\\n            \\\"anchor\\\": \\\"rhs\\\",\\n            \\\"select\\\": \\\"row\\\",\\n            \\\"label\\\": 2000\\n          }\\n        },\\n        {\\n          \\\"type\\\": \\\"map\\\",\\n          \\\"from\\\": {\\n            \\\"type\\\": \\\"axis\\\",\\n            \\\"anchor\\\": \\\"lhs\\\",\\n            \\\"select\\\": \\\"row\\\",\\n            \\\"label\\\": 231\\n          },\\n          \\\"to\\\": {\\n            \\\"type\\\": \\\"axis\\\",\\n            \\\"anchor\\\": \\\"rhs\\\",\\n            \\\"select\\\": \\\"row\\\",\\n            \\\"label\\\": 2000\\n          }\\n        },\\n        {\\n          \\\"type\\\": \\\"map\\\",\\n          \\\"from\\\": {\\n            \\\"type\\\": \\\"axis\\\",\\n            \\\"anchor\\\": \\\"lhs\\\",\\n            \\\"select\\\": \\\"row\\\",\\n            \\\"label\\\": 240\\n          },\\n          \\\"to\\\": {\\n            \\\"type\\\": \\\"axis\\\",\\n            \\\"anchor\\\": \\\"rhs\\\",\\n            \\\"select\\\": \\\"row\\\",\\n            \\\"label\\\": 2000\\n          }\\n        },\\n        {\\n          \\\"type\\\": \\\"map\\\",\\n          \\\"from\\\": {\\n            \\\"type\\\": \\\"axis\\\",\\n            \\\"anchor\\\": \\\"lhs\\\",\\n            \\\"select\\\": \\\"row\\\",\\n            \\\"label\\\": 242\\n          },\\n          \\\"to\\\": {\\n            \\\"type\\\": \\\"axis\\\",\\n            \\\"anchor\\\": \\\"rhs\\\",\\n            \\\"select\\\": \\\"row\\\",\\n            \\\"label\\\": 2000\\n          }\\n        },\\n        {\\n          \\\"type\\\": \\\"map\\\",\\n          \\\"from\\\": {\\n            \\\"type\\\": \\\"axis\\\",\\n            \\\"anchor\\\": \\\"lhs\\\",\\n            \\\"select\\\": \\\"row\\\",\\n            \\\"label\\\": 244\\n          },\\n          \\\"to\\\": {\\n            \\\"type\\\": \\\"axis\\\",\\n            \\\"anchor\\\": \\\"rhs\\\",\\n            \\\"select\\\": \\\"row\\\",\\n            \\\"label\\\": 2000\\n          }\\n        },\\n        {\\n          \\\"type\\\": \\\"map\\\",\\n          \\\"from\\\": {\\n            \\\"type\\\": \\\"axis\\\",\\n            \\\"anchor\\\": \\\"lhs\\\",\\n            \\\"select\\\": \\\"row\\\",\\n            \\\"label\\\": 2\\n          },\\n          \\\"to\\\": {\\n            \\\"type\\\": \\\"axis\\\",\\n            \\\"anchor\\\": \\\"rhs\\\",\\n            \\\"select\\\": \\\"row\\\",\\n            \\\"label\\\": 2010\\n          }\\n        },\\n        {\\n          \\\"type\\\": \\\"map\\\",\\n          \\\"from\\\": {\\n            \\\"type\\\": \\\"axis\\\",\\n            \\\"anchor\\\": \\\"lhs\\\",\\n            \\\"select\\\": \\\"row\\\",\\n            \\\"label\\\": 8\\n          },\\n          \\\"to\\\": {\\n            \\\"type\\\": \\\"axis\\\",\\n            \\\"anchor\\\": \\\"rhs\\\",\\n            \\\"select\\\": \\\"row\\\",\\n            \\\"label\\\": 2010\\n          }\\n        },\\n        {\\n          \\\"type\\\": \\\"map\\\",\\n          \\\"from\\\": {\\n            \\\"type\\\": \\\"axis\\\",\\n            \\\"anchor\\\": \\\"lhs\\\",\\n            \\\"select\\\": \\\"row\\\",\\n            \\\"label\\\": 9\\n          },\\n          \\\"to\\\": {\\n            \\\"type\\\": \\\"axis\\\",\\n            \\\"anchor\\\": \\\"rhs\\\",\\n            \\\"select\\\": \\\"row\\\",\\n            \\\"label\\\": 2010\\n          }\\n        },\\n        {\\n          \\\"type\\\": \\\"map\\\",\\n          \\\"from\\\": {\\n            \\\"type\\\": \\\"axis\\\",\\n            \\\"anchor\\\": \\\"lhs\\\",\\n            \\\"select\\\": \\\"row\\\",\\n            \\\"label\\\": 12\\n          },\\n          \\\"to\\\": {\\n            \\\"type\\\": \\\"axis\\\",\\n            \\\"anchor\\\": \\\"rhs\\\",\\n            \\\"select\\\": \\\"row\\\",\\n            \\\"label\\\": 2010\\n          }\\n        },\\n        {\\n          \\\"type\\\": \\\"map\\\",\\n          \\\"from\\\": {\\n            \\\"type\\\": \\\"axis\\\",\\n            \\\"anchor\\\": \\\"lhs\\\",\\n            \\\"select\\\": \\\"row\\\",\\n            \\\"label\\\": 16\\n          },\\n          \\\"to\\\": {\\n            \\\"type\\\": \\\"axis\\\",\\n            \\\"anchor\\\": \\\"rhs\\\",\\n            \\\"select\\\": \\\"row\\\",\\n            \\\"label\\\": 2010\\n          }\\n        },\\n        {\\n          \\\"type\\\": \\\"map\\\",\\n          \\\"from\\\": {\\n            \\\"type\\\": \\\"axis\\\",\\n            \\\"anchor\\\": \\\"lhs\\\",\\n            \\\"select\\\": \\\"row\\\",\\n            \\\"label\\\": 20\\n          },\\n          \\\"to\\\": {\\n            \\\"type\\\": \\\"axis\\\",\\n            \\\"anchor\\\": \\\"rhs\\\",\\n            \\\"select\\\": \\\"row\\\",\\n            \\\"label\\\": 2010\\n          }\\n        },\\n        {\\n          \\\"type\\\": \\\"map\\\",\\n          \\\"from\\\": {\\n            \\\"type\\\": \\\"axis\\\",\\n            \\\"anchor\\\": \\\"lhs\\\",\\n            \\\"select\\\": \\\"row\\\",\\n            \\\"label\\\": 25\\n          },\\n          \\\"to\\\": {\\n            \\\"type\\\": \\\"axis\\\",\\n            \\\"anchor\\\": \\\"rhs\\\",\\n            \\\"select\\\": \\\"row\\\",\\n            \\\"label\\\": 2010\\n          }\\n        },\\n        {\\n          \\\"type\\\": \\\"map\\\",\\n          \\\"from\\\": {\\n            \\\"type\\\": \\\"axis\\\",\\n            \\\"anchor\\\": \\\"lhs\\\",\\n            \\\"select\\\": \\\"row\\\",\\n            \\\"label\\\": 40\\n          },\\n          \\\"to\\\": {\\n            \\\"type\\\": \\\"axis\\\",\\n            \\\"anchor\\\": \\\"rhs\\\",\\n            \\\"select\\\": \\\"row\\\",\\n            \\\"label\\\": 2010\\n          }\\n        },\\n        {\\n          \\\"type\\\": \\\"map\\\",\\n          \\\"from\\\": {\\n            \\\"type\\\": \\\"axis\\\",\\n            \\\"anchor\\\": \\\"lhs\\\",\\n            \\\"select\\\": \\\"row\\\",\\n            \\\"label\\\": 49\\n          },\\n          \\\"to\\\": {\\n            \\\"type\\\": \\\"axis\\\",\\n            \\\"anchor\\\": \\\"rhs\\\",\\n            \\\"select\\\": \\\"row\\\",\\n            \\\"label\\\": 2010\\n          }\\n        },\\n        {\\n          \\\"type\\\": \\\"map\\\",\\n          \\\"from\\\": {\\n            \\\"type\\\": \\\"axis\\\",\\n            \\\"anchor\\\": \\\"lhs\\\",\\n            \\\"select\\\": \\\"row\\\",\\n            \\\"label\\\": 50\\n          },\\n          \\\"to\\\": {\\n            \\\"type\\\": \\\"axis\\\",\\n            \\\"anchor\\\": \\\"rhs\\\",\\n            \\\"select\\\": \\\"row\\\",\\n            \\\"label\\\": 2010\\n          }\\n        },\\n        {\\n          \\\"type\\\": \\\"map\\\",\\n          \\\"from\\\": {\\n            \\\"type\\\": \\\"axis\\\",\\n            \\\"anchor\\\": \\\"lhs\\\",\\n            \\\"select\\\": \\\"row\\\",\\n            \\\"label\\\": 61\\n          },\\n          \\\"to\\\": {\\n            \\\"type\\\": \\\"axis\\\",\\n            \\\"anchor\\\": \\\"rhs\\\",\\n            \\\"select\\\": \\\"row\\\",\\n            \\\"label\\\": 2010\\n          }\\n        },\\n        {\\n          \\\"type\\\": \\\"map\\\",\\n          \\\"from\\\": {\\n            \\\"type\\\": \\\"axis\\\",\\n            \\\"anchor\\\": \\\"lhs\\\",\\n            \\\"select\\\": \\\"row\\\",\\n            \\\"label\\\": 72\\n          },\\n          \\\"to\\\": {\\n            \\\"type\\\": \\\"axis\\\",\\n            \\\"anchor\\\": \\\"rhs\\\",\\n            \\\"select\\\": \\\"row\\\",\\n            \\\"label\\\": 2010\\n          }\\n        },\\n        {\\n          \\\"type\\\": \\\"map\\\",\\n          \\\"from\\\": {\\n            \\\"type\\\": \\\"axis\\\",\\n            \\\"anchor\\\": \\\"lhs\\\",\\n            \\\"select\\\": \\\"row\\\",\\n            \\\"label\\\": 84\\n          },\\n          \\\"to\\\": {\\n            \\\"type\\\": \\\"axis\\\",\\n            \\\"anchor\\\": \\\"rhs\\\",\\n            \\\"select\\\": \\\"row\\\",\\n            \\\"label\\\": 2010\\n          }\\n        },\\n        {\\n          \\\"type\\\": \\\"map\\\",\\n          \\\"from\\\": {\\n            \\\"type\\\": \\\"axis\\\",\\n            \\\"anchor\\\": \\\"lhs\\\",\\n            \\\"select\\\": \\\"row\\\",\\n            \\\"label\\\": 86\\n          },\\n          \\\"to\\\": {\\n            \\\"type\\\": \\\"axis\\\",\\n            \\\"anchor\\\": \\\"rhs\\\",\\n            \\\"select\\\": \\\"row\\\",\\n            \\\"label\\\": 2010\\n          }\\n        },\\n        {\\n          \\\"type\\\": \\\"map\\\",\\n          \\\"from\\\": {\\n            \\\"type\\\": \\\"axis\\\",\\n            \\\"anchor\\\": \\\"lhs\\\",\\n            \\\"select\\\": \\\"row\\\",\\n            \\\"label\\\": 90\\n          },\\n          \\\"to\\\": {\\n            \\\"type\\\": \\\"axis\\\",\\n            \\\"anchor\\\": \\\"rhs\\\",\\n            \\\"select\\\": \\\"row\\\",\\n            \\\"label\\\": 2010\\n          }\\n        },\\n        {\\n          \\\"type\\\": \\\"map\\\",\\n          \\\"from\\\": {\\n            \\\"type\\\": \\\"axis\\\",\\n            \\\"anchor\\\": \\\"lhs\\\",\\n            \\\"select\\\": \\\"row\\\",\\n            \\\"label\\\": 101\\n          },\\n          \\\"to\\\": {\\n            \\\"type\\\": \\\"axis\\\",\\n            \\\"anchor\\\": \\\"rhs\\\",\\n            \\\"select\\\": \\\"row\\\",\\n            \\\"label\\\": 2010\\n          }\\n        },\\n        {\\n          \\\"type\\\": \\\"map\\\",\\n          \\\"from\\\": {\\n            \\\"type\\\": \\\"axis\\\",\\n            \\\"anchor\\\": \\\"lhs\\\",\\n            \\\"select\\\": \\\"row\\\",\\n            \\\"label\\\": 107\\n          },\\n          \\\"to\\\": {\\n            \\\"type\\\": \\\"axis\\\",\\n            \\\"anchor\\\": \\\"rhs\\\",\\n            \\\"select\\\": \\\"row\\\",\\n            \\\"label\\\": 2010\\n          }\\n        },\\n        {\\n          \\\"type\\\": \\\"map\\\",\\n          \\\"from\\\": {\\n            \\\"type\\\": \\\"axis\\\",\\n            \\\"anchor\\\": \\\"lhs\\\",\\n            \\\"select\\\": \\\"row\\\",\\n            \\\"label\\\": 112\\n          },\\n          \\\"to\\\": {\\n            \\\"type\\\": \\\"axis\\\",\\n            \\\"anchor\\\": \\\"rhs\\\",\\n            \\\"select\\\": \\\"row\\\",\\n            \\\"label\\\": 2010\\n          }\\n        },\\n        {\\n          \\\"type\\\": \\\"map\\\",\\n          \\\"from\\\": {\\n            \\\"type\\\": \\\"axis\\\",\\n            \\\"anchor\\\": \\\"lhs\\\",\\n            \\\"select\\\": \\\"row\\\",\\n            \\\"label\\\": 121\\n          },\\n          \\\"to\\\": {\\n            \\\"type\\\": \\\"axis\\\",\\n            \\\"anchor\\\": \\\"rhs\\\",\\n            \\\"select\\\": \\\"row\\\",\\n            \\\"label\\\": 2010\\n          }\\n        },\\n        {\\n          \\\"type\\\": \\\"map\\\",\\n          \\\"from\\\": {\\n            \\\"type\\\": \\\"axis\\\",\\n            \\\"anchor\\\": \\\"lhs\\\",\\n            \\\"select\\\": \\\"row\\\",\\n            \\\"label\\\": 138\\n          },\\n          \\\"to\\\": {\\n            \\\"type\\\": \\\"axis\\\",\\n            \\\"anchor\\\": \\\"rhs\\\",\\n            \\\"select\\\": \\\"row\\\",\\n            \\\"label\\\": 2010\\n          }\\n        },\\n        {\\n          \\\"type\\\": \\\"map\\\",\\n          \\\"from\\\": {\\n            \\\"type\\\": \\\"axis\\\",\\n            \\\"anchor\\\": \\\"lhs\\\",\\n            \\\"select\\\": \\\"row\\\",\\n            \\\"label\\\": 148\\n          },\\n          \\\"to\\\": {\\n            \\\"type\\\": \\\"axis\\\",\\n            \\\"anchor\\\": \\\"rhs\\\",\\n            \\\"select\\\": \\\"row\\\",\\n            \\\"label\\\": 2010\\n          }\\n        },\\n        {\\n          \\\"type\\\": \\\"map\\\",\\n          \\\"from\\\": {\\n            \\\"type\\\": \\\"axis\\\",\\n            \\\"anchor\\\": \\\"lhs\\\",\\n            \\\"select\\\": \\\"row\\\",\\n            \\\"label\\\": 153\\n          },\\n          \\\"to\\\": {\\n            \\\"type\\\": \\\"axis\\\",\\n            \\\"anchor\\\": \\\"rhs\\\",\\n            \\\"select\\\": \\\"row\\\",\\n            \\\"label\\\": 2010\\n          }\\n        },\\n        {\\n          \\\"type\\\": \\\"map\\\",\\n          \\\"from\\\": {\\n            \\\"type\\\": \\\"axis\\\",\\n            \\\"anchor\\\": \\\"lhs\\\",\\n            \\\"select\\\": \\\"row\\\",\\n            \\\"label\\\": 178\\n          },\\n          \\\"to\\\": {\\n            \\\"type\\\": \\\"axis\\\",\\n            \\\"anchor\\\": \\\"rhs\\\",\\n            \\\"select\\\": \\\"row\\\",\\n            \\\"label\\\": 2010\\n          }\\n        },\\n        {\\n          \\\"type\\\": \\\"map\\\",\\n          \\\"from\\\": {\\n            \\\"type\\\": \\\"axis\\\",\\n            \\\"anchor\\\": \\\"lhs\\\",\\n            \\\"select\\\": \\\"row\\\",\\n            \\\"label\\\": 192\\n          },\\n          \\\"to\\\": {\\n            \\\"type\\\": \\\"axis\\\",\\n            \\\"anchor\\\": \\\"rhs\\\",\\n            \\\"select\\\": \\\"row\\\",\\n            \\\"label\\\": 2010\\n          }\\n        },\\n        {\\n          \\\"type\\\": \\\"map\\\",\\n          \\\"from\\\": {\\n            \\\"type\\\": \\\"axis\\\",\\n            \\\"anchor\\\": \\\"lhs\\\",\\n            \\\"select\\\": \\\"row\\\",\\n            \\\"label\\\": 202\\n          },\\n          \\\"to\\\": {\\n            \\\"type\\\": \\\"axis\\\",\\n            \\\"anchor\\\": \\\"rhs\\\",\\n            \\\"select\\\": \\\"row\\\",\\n            \\\"label\\\": 2010\\n          }\\n        },\\n        {\\n          \\\"type\\\": \\\"map\\\",\\n          \\\"from\\\": {\\n            \\\"type\\\": \\\"axis\\\",\\n            \\\"anchor\\\": \\\"lhs\\\",\\n            \\\"select\\\": \\\"row\\\",\\n            \\\"label\\\": 210\\n          },\\n          \\\"to\\\": {\\n            \\\"type\\\": \\\"axis\\\",\\n            \\\"anchor\\\": \\\"rhs\\\",\\n            \\\"select\\\": \\\"row\\\",\\n            \\\"label\\\": 2010\\n          }\\n        },\\n        {\\n          \\\"type\\\": \\\"map\\\",\\n          \\\"from\\\": {\\n            \\\"type\\\": \\\"axis\\\",\\n            \\\"anchor\\\": \\\"lhs\\\",\\n            \\\"select\\\": \\\"row\\\",\\n            \\\"label\\\": 212\\n          },\\n          \\\"to\\\": {\\n            \\\"type\\\": \\\"axis\\\",\\n            \\\"anchor\\\": \\\"rhs\\\",\\n            \\\"select\\\": \\\"row\\\",\\n            \\\"label\\\": 2010\\n          }\\n        },\\n        {\\n          \\\"type\\\": \\\"map\\\",\\n          \\\"from\\\": {\\n            \\\"type\\\": \\\"axis\\\",\\n            \\\"anchor\\\": \\\"lhs\\\",\\n            \\\"select\\\": \\\"row\\\",\\n            \\\"label\\\": 223\\n          },\\n          \\\"to\\\": {\\n            \\\"type\\\": \\\"axis\\\",\\n            \\\"anchor\\\": \\\"rhs\\\",\\n            \\\"select\\\": \\\"row\\\",\\n            \\\"label\\\": 2010\\n          }\\n        },\\n        {\\n          \\\"type\\\": \\\"map\\\",\\n          \\\"from\\\": {\\n            \\\"type\\\": \\\"axis\\\",\\n            \\\"anchor\\\": \\\"lhs\\\",\\n            \\\"select\\\": \\\"row\\\",\\n            \\\"label\\\": 238\\n          },\\n          \\\"to\\\": {\\n            \\\"type\\\": \\\"axis\\\",\\n            \\\"anchor\\\": \\\"rhs\\\",\\n            \\\"select\\\": \\\"row\\\",\\n            \\\"label\\\": 2010\\n          }\\n        }\\n      ],\\n      \\\"data\\\": {\\n        \\\"lhs\\\": \\\"prev_rhs\\\",\\n        \\\"rhs\\\": {\\n          \\\"type\\\": \\\"DataFrame\\\",\\n          \\\"columns\\\": {\\n            \\\"names\\\": [\\n              null\\n            ],\\n            \\\"labels\\\": [\\n              \\\"Title\\\",\\n              \\\"Votes\\\",\\n              \\\"Rating\\\",\\n              \\\"Year\\\"\\n            ]\\n          },\\n          \\\"index\\\": {\\n            \\\"names\\\": [\\n              \\\"Decade\\\"\\n            ],\\n            \\\"labels\\\": [\\n              1920,\\n              1930,\\n              1940,\\n              1950,\\n              1960,\\n              1970,\\n              1980,\\n              1990,\\n              2000,\\n              2010\\n            ]\\n          },\\n          \\\"data\\\": [\\n            [\\n              \\\"The Kid\\\",\\n              98794,\\n              8.3,\\n              1927\\n            ],\\n            [\\n              \\\"The Wizard of Oz\\\",\\n              259235,\\n              8.5,\\n              1939\\n            ],\\n            [\\n              \\\"The Treasure of the Sierra Madre\\\",\\n              350551,\\n              8.6,\\n              1949\\n            ],\\n            [\\n              \\\"Witness for the Prosecution\\\",\\n              384187,\\n              8.9,\\n              1959\\n            ],\\n            [\\n              \\\"Y\\\\u00f4jinb\\\\u00f4\\\",\\n              447875,\\n              8.9,\\n              1969\\n            ],\\n            [\\n              \\\"The Sting\\\",\\n              1027398,\\n              9.2,\\n              1979\\n            ],\\n            [\\n              \\\"Tonari no Totoro\\\",\\n              700283,\\n              8.7,\\n              1989\\n            ],\\n            [\\n              \\\"Unforgiven\\\",\\n              1498733,\\n              9.2,\\n              1999\\n            ],\\n            [\\n              \\\"Yip Man\\\",\\n              1473049,\\n              8.9,\\n              2009\\n            ],\\n            [\\n              \\\"X-Men: Days of Future Past\\\",\\n              1271949,\\n              8.7,\\n              2015\\n            ]\\n          ]\\n        }\\n      }\\n    }\\n  ]\\n}\", {\"nohover\": true, \"maxDisplayRows\": 7, \"maxDisplayCols\": 5, \"colorPalette\": [\"#e41a1c\", \"#377eb8\", \"#4daf4a\", \"#984ea3\", \"#ff7f00\", \"#a65628\", \"#f781bf\", \"#999999\"]});\n",
       "</script>\n"
      ],
      "text/plain": [
       "<IPython.core.display.HTML object>"
      ]
     },
     "metadata": {},
     "output_type": "display_data"
    }
   ],
   "source": [
    "%%pt\n",
    "imdb.reset_index().groupby('Decade').max()"
   ]
  },
  {
   "cell_type": "markdown",
   "metadata": {
    "slideshow": {
     "slide_type": "fragment"
    }
   },
   "source": [
    "- Acontece que este método **não** produz a resposta correta.\n",
    "- Quando usamos um método de agregação (por exemplo, `.max()`), a agregação é feita para cada coluna individualmente.\n",
    "- Embora seja verdade que o filme com maior audiência da década de 1990 tem uma classificação de 9,2, esse filme **não** Imperdoável – em vez disso, Imperdoável é o filme mais recente no alfabeto entre todos os filmes da década de 1990.\n",
    "- Usar o `max` não ajuda aqui."
   ]
  },
  {
   "cell_type": "markdown",
   "metadata": {
    "slideshow": {
     "slide_type": "slide"
    }
   },
   "source": [
    "## Problemas de desafio\n",
    "\n",
    "Não abordaremos esses problemas em aula, mas eles estão aqui para você praticar com alguns exemplos mais difíceis. Para acessar as soluções, você precisará assistir [this solution walkthrough video](https://youtu.be/xg7rnjWnZ48) (início às 10h).\n",
    "\n",
    "Antes de assistir ao vídeo, **tente resolver esses problemas por conta própria** – eles são uma ótima preparação para trabalhos de casa, projetos e exames!"
   ]
  },
  {
   "cell_type": "markdown",
   "metadata": {
    "slideshow": {
     "slide_type": "slide"
    }
   },
   "source": [
    "### Pergunta: Há quantos anos mais de 3 filmes foram classificados acima de 8,5?"
   ]
  },
  {
   "cell_type": "code",
   "execution_count": null,
   "metadata": {},
   "outputs": [],
   "source": []
  },
  {
   "cell_type": "markdown",
   "metadata": {
    "slideshow": {
     "slide_type": "slide"
    }
   },
   "source": [
    "#### Além: Usando `.sum()` em um array/série booleana\n",
    "\n",
    "- A soma de um array/série booleana fornece uma contagem do número de elementos `True`. Isso ocorre porque Python trata `True` como 1 e `False` como 0.\n",
    "- Você pode usar esse fato aqui?"
   ]
  },
  {
   "cell_type": "code",
   "execution_count": null,
   "metadata": {},
   "outputs": [],
   "source": []
  },
  {
   "cell_type": "markdown",
   "metadata": {
    "slideshow": {
     "slide_type": "slide"
    }
   },
   "source": [
    "### Pergunta: Dos anos com mais de 3 filmes, qual teve a classificação média mais alta?"
   ]
  },
  {
   "cell_type": "code",
   "execution_count": null,
   "metadata": {},
   "outputs": [],
   "source": []
  },
  {
   "cell_type": "markdown",
   "metadata": {
    "slideshow": {
     "slide_type": "slide"
    }
   },
   "source": [
    "### Pergunta: Qual ano teve os títulos de filmes mais longos, em média?\n",
    "\n",
    "_Dica:_ Use `.str.len()` na coluna ou índice que contém os nomes dos filmes."
   ]
  },
  {
   "cell_type": "code",
   "execution_count": null,
   "metadata": {},
   "outputs": [],
   "source": []
  },
  {
   "cell_type": "markdown",
   "metadata": {
    "slideshow": {
     "slide_type": "slide"
    }
   },
   "source": [
    "### Pergunta: Qual é a classificação média dos filmes dos anos que tiveram pelo menos 3 filmes no Top 250?"
   ]
  },
  {
   "cell_type": "code",
   "execution_count": null,
   "metadata": {},
   "outputs": [],
   "source": []
  },
  {
   "cell_type": "markdown",
   "metadata": {
    "slideshow": {
     "slide_type": "slide"
    }
   },
   "source": [
    "## Resumo, da próxima vez"
   ]
  },
  {
   "cell_type": "markdown",
   "metadata": {
    "slideshow": {
     "slide_type": "slide"
    }
   },
   "source": [
    "### Resumo\n",
    "\n",
    "- Podemos escrever consultas que envolvam múltiplas condições, desde que:\n",
    "- Coloque parênteses em todas as condições.\n",
    "- Separe as condições usando `&` se você precisar que todas sejam verdadeiras, ou `|` se você precisar que pelo menos uma seja verdadeira.\n",
    "- A chamada de método `df.groupby(column_name).agg_method()` **agrega** todas as linhas com o mesmo valor para `column_name` em uma única linha no DataFrame resultante, usando `agg_method()` para combinar valores.\n",
    "- Métodos de agregação a serem conhecidos: `.count()`, `.sum()`, `.mean()`, `.median()`, `.max()` e `.min()`."
   ]
  },
  {
   "cell_type": "markdown",
   "metadata": {
    "slideshow": {
     "slide_type": "slide"
    }
   },
   "source": [
    "### Próxima vez\n",
    "\n",
    "Uma imagem vale mais que 1000 palavras – é hora de visualizar!"
   ]
  }
 ],
 "metadata": {
  "kernelspec": {
   "display_name": "Python 3 (ipykernel)",
   "language": "python",
   "name": "python3"
  },
  "language_info": {
   "codemirror_mode": {
    "name": "ipython",
    "version": 3
   },
   "file_extension": ".py",
   "mimetype": "text/x-python",
   "name": "python",
   "nbconvert_exporter": "python",
   "pygments_lexer": "ipython3",
   "version": "3.11.2"
  },
  "livereveal": {
   "scroll": true,
   "transition": "none"
  },
  "rise": {
   "enable_chalkboard": true
  }
 },
 "nbformat": 4,
 "nbformat_minor": 2
}
