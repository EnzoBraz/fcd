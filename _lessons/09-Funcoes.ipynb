{
 "cells": [
  {
   "cell_type": "markdown",
   "metadata": {},
   "source": [
    "---\n",
    "layout: page\n",
    "title: Funções\n",
    "nav_order: 9\n",
    "---\n",
    "[<img src=\"https://raw.githubusercontent.com/flaviovdf/fcd/master/assets/colab_favicon_small.png\" style=\"float: right;\">](https://colab.research.google.com/github/flaviovdf/fcd/blob/master/_lessons/09-Funcoes.ipynb)\n",
    "\n",
    "# Tópico 9 – Funções e Apply\n",
    "{: .no_toc .mb-2 }\n",
    "\n",
    "Vamos aprender sobre funções Python e como aplicar as mesmas em `DataFrame`.\n",
    "{: .fs-6 .fw-300 }\n",
    "\n",
    "{: .no_toc .text-delta }\n",
    "Resultados Esperados\n",
    "\n",
    "1. Entender como definir funções `def`\n",
    "1. Entender como aplicar funções em `DataFrame`s (`apply`)\n",
    "\n",
    "{: .no_toc .text-delta }\n",
    "Material Adaptado do [DSC10 (UCSD)](https://dsc10.com/)"
   ]
  },
  {
   "cell_type": "code",
   "execution_count": 1,
   "metadata": {
    "execution": {
     "iopub.execute_input": "2024-04-09T17:30:59.626830Z",
     "iopub.status.busy": "2024-04-09T17:30:59.625858Z",
     "iopub.status.idle": "2024-04-09T17:31:00.359929Z",
     "shell.execute_reply": "2024-04-09T17:31:00.359273Z"
    },
    "slideshow": {
     "slide_type": "skip"
    }
   },
   "outputs": [],
   "source": [
    "import babypandas as bpd\n",
    "import matplotlib.pyplot as plt\n",
    "import numpy as np\n",
    "plt.style.use('ggplot')"
   ]
  },
  {
   "cell_type": "markdown",
   "metadata": {
    "slideshow": {
     "slide_type": "slide"
    }
   },
   "source": [
    "### Agenda\n",
    "\n",
    "- Funções.\n",
    "- Aplicando funções a DataFrames.\n",
    "- Exemplo: Nomes de alunos."
   ]
  },
  {
   "cell_type": "markdown",
   "metadata": {
    "slideshow": {
     "slide_type": "slide"
    }
   },
   "source": [
    "## Funções"
   ]
  },
  {
   "cell_type": "markdown",
   "metadata": {
    "slideshow": {
     "slide_type": "slide"
    }
   },
   "source": [
    "### Definindo funções\n",
    "* Aprendemos bastante como fazer em Python:\n",
    "* Manipular arrays, séries e DataFrames.\n",
    "* Execute operações em strings.\n",
    "* Crie visualizações.\n",
    "* Mas até agora, estamos restritos ao uso de funções existentes (por exemplo, `max`, `np.sqrt`, `len`) e métodos (por exemplo, `.groupby`, `.assign`, `.plot`)."
   ]
  },
  {
   "cell_type": "markdown",
   "metadata": {
    "slideshow": {
     "slide_type": "slide"
    }
   },
   "source": [
    "### Motivação\n",
    "\n",
    "Suponha que você dirija até um restaurante 🥘 em Ouro Preto, localizado a exatamente 100 quilômetros de distância.\n",
    "\n",
    "- Nos primeiros 80 quilômetros, você dirige a 80 quilômetros por hora.\n",
    "- Nos últimos 20 quilômetros, você dirige a 60 quilômetros por hora."
   ]
  },
  {
   "cell_type": "markdown",
   "metadata": {
    "slideshow": {
     "slide_type": "fragment"
    }
   },
   "source": [
    "- **Pergunta:** Qual é a sua **velocidade média** durante a viagem?"
   ]
  },
  {
   "cell_type": "markdown",
   "metadata": {
    "slideshow": {
     "slide_type": "fragment"
    }
   },
   "source": [
    "- 🚨 A resposta não é 70 quilômetros por hora! Você precisa usar o fato de que $\\text{velocidade} = \\frac{\\text{distancia}}{\\text{tempo}}$."
   ]
  },
  {
   "cell_type": "markdown",
   "metadata": {
    "slideshow": {
     "slide_type": "slide"
    }
   },
   "source": [
    "$$\\text{velocidade média} = \\frac{\\text{distância}}{\\text{tempo}} = \\frac{80 + 20}{\\text{tempo}_1 + \\text{tempo}_2} \\text { km por hora}$$"
   ]
  },
  {
   "cell_type": "markdown",
   "metadata": {
    "slideshow": {
     "slide_type": "fragment"
    }
   },
   "source": [
    "No segmento 1, quando você dirigiu 80 quilômetros a 80 quilômetros por hora, você dirigiu por $\\frac{80}{80}$ horas:\n",
    "\n",
    "$$\\text{velocidade}_1 = \\frac{\\text{distância}_1}{\\text{tempo}_1}$$"
   ]
  },
  {
   "cell_type": "markdown",
   "metadata": {
    "slideshow": {
     "slide_type": "fragment"
    }
   },
   "source": [
    "$$80 \\text{ km por hora} = \\frac{80 \\text{ km}}{\\text{time}_1} \\implies \\text{time}_1 = \\frac{80}{80} \\text{ horas} = 1$$"
   ]
  },
  {
   "cell_type": "markdown",
   "metadata": {
    "slideshow": {
     "slide_type": "fragment"
    }
   },
   "source": [
    "Da mesma forma, no segmento 2, quando você dirigiu 20 quilômetros a 60 quilômetros por hora, você dirigiu por $\\text{time}_2 = \\frac{20}{60} \\text{ horas} = \\frac{1}{3} horas$."
   ]
  },
  {
   "cell_type": "markdown",
   "metadata": {
    "slideshow": {
     "slide_type": "fragment"
    }
   },
   "source": [
    "Então,\n",
    "\n",
    "$$\\text{velocidade média} = \\frac{80 + 20}{\\frac{1}{1} + \\frac{1}{3}} \\text{ km por hora} $$"
   ]
  },
  {
   "cell_type": "markdown",
   "metadata": {
    "slideshow": {
     "slide_type": "fragment"
    }
   },
   "source": [
    "$$\\begin{align*}\\text{velocidade média} &= 100 \\cdot \\frac{1}{\\frac{1}{1} + \\frac{1}{3}} \\text{ km por hora} \\\\ &= 100 \\frac{1}{\\frac{3 + 1}{3}} \\\\ &= 100 \\frac{3}{4} \\\\ &= 75 \\text{ km por hora}\\end{align*} $$"
   ]
  },
  {
   "cell_type": "markdown",
   "metadata": {
    "slideshow": {
     "slide_type": "slide"
    }
   },
   "source": [
    "### Exemplo: média harmônica\n",
    "\n",
    "A **média harmônica** ($\\text{HM}$) de dois números positivos, $a$ e $b$, é definida como\n",
    "\n",
    "$$\\text{HM} = \\frac{2}{\\frac{1}{a} + \\frac{1}{b}}$$\n",
    "\n",
    "Geralmente é usado para encontrar a média de múltiplas **taxas**."
   ]
  },
  {
   "cell_type": "markdown",
   "metadata": {
    "slideshow": {
     "slide_type": "fragment"
    }
   },
   "source": [
    "Encontrar a média harmônica de 80 e 60 não é difícil:"
   ]
  },
  {
   "cell_type": "code",
   "execution_count": 2,
   "metadata": {
    "execution": {
     "iopub.execute_input": "2024-04-09T17:31:00.363479Z",
     "iopub.status.busy": "2024-04-09T17:31:00.363210Z",
     "iopub.status.idle": "2024-04-09T17:31:00.369507Z",
     "shell.execute_reply": "2024-04-09T17:31:00.368779Z"
    }
   },
   "outputs": [
    {
     "data": {
      "text/plain": [
       "1.5"
      ]
     },
     "execution_count": 2,
     "metadata": {},
     "output_type": "execute_result"
    }
   ],
   "source": [
    "2 / (1 / 1 + 1 / 3)"
   ]
  },
  {
   "cell_type": "markdown",
   "metadata": {},
   "source": [
    "Mas e se quisermos determinar a média harmónica de 80 e 70? 80 e 90? 20 e 40? **Isso exigiria muito copiar e colar, o que é propenso a erros.**"
   ]
  },
  {
   "cell_type": "markdown",
   "metadata": {
    "slideshow": {
     "slide_type": "slide"
    }
   },
   "source": [
    "Acontece que podemos **definir** nossa própria função de \"média harmônica\" **apenas uma vez e reutilizá-la várias vezes."
   ]
  },
  {
   "cell_type": "code",
   "execution_count": 3,
   "metadata": {
    "execution": {
     "iopub.execute_input": "2024-04-09T17:31:00.409856Z",
     "iopub.status.busy": "2024-04-09T17:31:00.409336Z",
     "iopub.status.idle": "2024-04-09T17:31:00.413114Z",
     "shell.execute_reply": "2024-04-09T17:31:00.412407Z"
    }
   },
   "outputs": [],
   "source": [
    "def harmonic_mean(a, b):\n",
    "    return 2 / (1 / a + 1 / b)"
   ]
  },
  {
   "cell_type": "code",
   "execution_count": 4,
   "metadata": {
    "execution": {
     "iopub.execute_input": "2024-04-09T17:31:00.415426Z",
     "iopub.status.busy": "2024-04-09T17:31:00.415179Z",
     "iopub.status.idle": "2024-04-09T17:31:00.419537Z",
     "shell.execute_reply": "2024-04-09T17:31:00.418728Z"
    },
    "scrolled": true
   },
   "outputs": [
    {
     "data": {
      "text/plain": [
       "1.5"
      ]
     },
     "execution_count": 4,
     "metadata": {},
     "output_type": "execute_result"
    }
   ],
   "source": [
    "harmonic_mean(1, 3)"
   ]
  },
  {
   "cell_type": "code",
   "execution_count": 5,
   "metadata": {
    "execution": {
     "iopub.execute_input": "2024-04-09T17:31:00.422825Z",
     "iopub.status.busy": "2024-04-09T17:31:00.422304Z",
     "iopub.status.idle": "2024-04-09T17:31:00.426696Z",
     "shell.execute_reply": "2024-04-09T17:31:00.426005Z"
    }
   },
   "outputs": [
    {
     "data": {
      "text/plain": [
       "1.6666666666666667"
      ]
     },
     "execution_count": 5,
     "metadata": {},
     "output_type": "execute_result"
    }
   ],
   "source": [
    "harmonic_mean(1, 5)"
   ]
  },
  {
   "cell_type": "markdown",
   "metadata": {
    "slideshow": {
     "slide_type": "fragment"
    }
   },
   "source": [
    "Observe que só tivemos que especificar como calcular a média harmônica uma vez!"
   ]
  },
  {
   "cell_type": "markdown",
   "metadata": {
    "slideshow": {
     "slide_type": "slide"
    }
   },
   "source": [
    "### Funções\n",
    "\n",
    "Funções são uma forma de dividir nosso código em pequenas subpartes para evitar que escrevamos código repetitivo. Cada vez que **definirmos** nossa própria função em Python, usaremos o seguinte padrão."
   ]
  },
  {
   "cell_type": "code",
   "execution_count": 6,
   "metadata": {
    "execution": {
     "iopub.execute_input": "2024-04-09T17:31:00.429395Z",
     "iopub.status.busy": "2024-04-09T17:31:00.429141Z",
     "iopub.status.idle": "2024-04-09T17:31:00.433963Z",
     "shell.execute_reply": "2024-04-09T17:31:00.433071Z"
    }
   },
   "outputs": [
    {
     "data": {
      "text/html": [
       "\n",
       "        <iframe\n",
       "            width=\"960\"\n",
       "            height=\"569\"\n",
       "            src=\"https://docs.google.com/presentation/d/e/2PACX-1vRKMMwGtrQOeLefj31fCtmbNOaJuKY32eBz1VwHi_5ui0AGYV3MoCjPUtQ_4SB1f9x4Iu6gbH0vFvmB/embed?start=false&loop=false&delayms=60000\"\n",
       "            frameborder=\"0\"\n",
       "            allowfullscreen\n",
       "            \n",
       "        ></iframe>\n",
       "        "
      ],
      "text/plain": [
       "<IPython.lib.display.IFrame at 0x7f85caf0fb10>"
      ]
     },
     "metadata": {},
     "output_type": "display_data"
    }
   ],
   "source": [
    "from IPython.display import display, IFrame\n",
    "def show_def():\n",
    "    src = \"https://docs.google.com/presentation/d/e/2PACX-1vRKMMwGtrQOeLefj31fCtmbNOaJuKY32eBz1VwHi_5ui0AGYV3MoCjPUtQ_4SB1f9x4Iu6gbH0vFvmB/embed?start=false&loop=false&delayms=60000\"\n",
    "    width = 960 \n",
    "    height = 569\n",
    "    display(IFrame(src, width, height))\n",
    "show_def()"
   ]
  },
  {
   "cell_type": "markdown",
   "metadata": {
    "slideshow": {
     "slide_type": "slide"
    }
   },
   "source": [
    "### Funções são \"receitas\"\n",
    "\n",
    "- As funções recebem entradas, conhecidas como **argumentos**, fazem algo e produzem algumas saídas.\n",
    "- A beleza das funções é que **você não precisa saber como elas são implementadas para usá-las!**\n",
    "- Esta é a premissa da ideia de **abstração** na ciência da computação – você ouvirá muito sobre isso no DSC 20."
   ]
  },
  {
   "cell_type": "code",
   "execution_count": 7,
   "metadata": {
    "execution": {
     "iopub.execute_input": "2024-04-09T17:31:00.437527Z",
     "iopub.status.busy": "2024-04-09T17:31:00.437276Z",
     "iopub.status.idle": "2024-04-09T17:31:00.441737Z",
     "shell.execute_reply": "2024-04-09T17:31:00.441107Z"
    }
   },
   "outputs": [
    {
     "data": {
      "text/plain": [
       "1.0"
      ]
     },
     "execution_count": 7,
     "metadata": {},
     "output_type": "execute_result"
    }
   ],
   "source": [
    "harmonic_mean(1, 1)"
   ]
  },
  {
   "cell_type": "code",
   "execution_count": 8,
   "metadata": {
    "execution": {
     "iopub.execute_input": "2024-04-09T17:31:00.444403Z",
     "iopub.status.busy": "2024-04-09T17:31:00.444163Z",
     "iopub.status.idle": "2024-04-09T17:31:00.448406Z",
     "shell.execute_reply": "2024-04-09T17:31:00.447739Z"
    }
   },
   "outputs": [
    {
     "data": {
      "text/plain": [
       "1.5"
      ]
     },
     "execution_count": 8,
     "metadata": {},
     "output_type": "execute_result"
    }
   ],
   "source": [
    "harmonic_mean(1, 3)"
   ]
  },
  {
   "cell_type": "code",
   "execution_count": 9,
   "metadata": {
    "execution": {
     "iopub.execute_input": "2024-04-09T17:31:00.451320Z",
     "iopub.status.busy": "2024-04-09T17:31:00.451020Z",
     "iopub.status.idle": "2024-04-09T17:31:00.455992Z",
     "shell.execute_reply": "2024-04-09T17:31:00.455307Z"
    }
   },
   "outputs": [
    {
     "data": {
      "text/plain": [
       "1.3333333333333333"
      ]
     },
     "execution_count": 9,
     "metadata": {},
     "output_type": "execute_result"
    }
   ],
   "source": [
    "harmonic_mean(1, 2)"
   ]
  },
  {
   "cell_type": "markdown",
   "metadata": {
    "slideshow": {
     "slide_type": "slide"
    }
   },
   "source": [
    "### Parâmetros e argumentos\n",
    "\n",
    "`triple` tem um **parâmetro**, `x`."
   ]
  },
  {
   "cell_type": "code",
   "execution_count": 10,
   "metadata": {
    "execution": {
     "iopub.execute_input": "2024-04-09T17:31:00.458988Z",
     "iopub.status.busy": "2024-04-09T17:31:00.458693Z",
     "iopub.status.idle": "2024-04-09T17:31:00.462133Z",
     "shell.execute_reply": "2024-04-09T17:31:00.461517Z"
    }
   },
   "outputs": [],
   "source": [
    "def triple(x):\n",
    "    return x * 3"
   ]
  },
  {
   "cell_type": "markdown",
   "metadata": {},
   "source": [
    "Quando chamamos `triple` com o **argumento** 5, você pode fingir que há uma primeira linha invisível no corpo de `triple` que diz `x = 5`."
   ]
  },
  {
   "cell_type": "code",
   "execution_count": 11,
   "metadata": {
    "execution": {
     "iopub.execute_input": "2024-04-09T17:31:00.465078Z",
     "iopub.status.busy": "2024-04-09T17:31:00.464781Z",
     "iopub.status.idle": "2024-04-09T17:31:00.469057Z",
     "shell.execute_reply": "2024-04-09T17:31:00.468372Z"
    }
   },
   "outputs": [
    {
     "data": {
      "text/plain": [
       "15"
      ]
     },
     "execution_count": 11,
     "metadata": {},
     "output_type": "execute_result"
    }
   ],
   "source": [
    "triple(5)"
   ]
  },
  {
   "cell_type": "markdown",
   "metadata": {
    "slideshow": {
     "slide_type": "fragment"
    }
   },
   "source": [
    "Observe que os argumentos podem ser de qualquer tipo!"
   ]
  },
  {
   "cell_type": "code",
   "execution_count": 12,
   "metadata": {
    "execution": {
     "iopub.execute_input": "2024-04-09T17:31:00.471997Z",
     "iopub.status.busy": "2024-04-09T17:31:00.471697Z",
     "iopub.status.idle": "2024-04-09T17:31:00.476266Z",
     "shell.execute_reply": "2024-04-09T17:31:00.475608Z"
    }
   },
   "outputs": [
    {
     "data": {
      "text/plain": [
       "'tritontritontriton'"
      ]
     },
     "execution_count": 12,
     "metadata": {},
     "output_type": "execute_result"
    }
   ],
   "source": [
    "triple('triton')"
   ]
  },
  {
   "cell_type": "markdown",
   "metadata": {
    "slideshow": {
     "slide_type": "slide"
    }
   },
   "source": [
    "### Funções podem receber 0 ou mais argumentos\n",
    "\n",
    "As funções podem ter qualquer número de argumentos. Até agora, criamos uma função que leva dois argumentos – `harmonic_mean` – e uma função que leva um argumento – `triple`."
   ]
  },
  {
   "cell_type": "markdown",
   "metadata": {
    "slideshow": {
     "slide_type": "fragment"
    }
   },
   "source": [
    "`saudação` não aceita argumentos!"
   ]
  },
  {
   "cell_type": "code",
   "execution_count": 13,
   "metadata": {
    "execution": {
     "iopub.execute_input": "2024-04-09T17:31:00.479074Z",
     "iopub.status.busy": "2024-04-09T17:31:00.478872Z",
     "iopub.status.idle": "2024-04-09T17:31:00.481990Z",
     "shell.execute_reply": "2024-04-09T17:31:00.481295Z"
    },
    "slideshow": {
     "slide_type": "-"
    }
   },
   "outputs": [],
   "source": [
    "def greeting():\n",
    "    return 'Hi! 👋'"
   ]
  },
  {
   "cell_type": "code",
   "execution_count": 14,
   "metadata": {
    "execution": {
     "iopub.execute_input": "2024-04-09T17:31:00.484606Z",
     "iopub.status.busy": "2024-04-09T17:31:00.484376Z",
     "iopub.status.idle": "2024-04-09T17:31:00.488869Z",
     "shell.execute_reply": "2024-04-09T17:31:00.488168Z"
    }
   },
   "outputs": [
    {
     "data": {
      "text/plain": [
       "'Hi! 👋'"
      ]
     },
     "execution_count": 14,
     "metadata": {},
     "output_type": "execute_result"
    }
   ],
   "source": [
    "greeting()"
   ]
  },
  {
   "cell_type": "markdown",
   "metadata": {
    "slideshow": {
     "slide_type": "slide"
    }
   },
   "source": [
    "### As funções não são executadas até que você as chame!\n",
    "\n",
    "O corpo de uma função não é executado até que você use (**call**) a função.\n",
    "\n",
    "Aqui, podemos definir `where_is_the_error` sem ver uma mensagem de erro."
   ]
  },
  {
   "cell_type": "code",
   "execution_count": 15,
   "metadata": {
    "execution": {
     "iopub.execute_input": "2024-04-09T17:31:00.492001Z",
     "iopub.status.busy": "2024-04-09T17:31:00.491707Z",
     "iopub.status.idle": "2024-04-09T17:31:00.495592Z",
     "shell.execute_reply": "2024-04-09T17:31:00.494906Z"
    }
   },
   "outputs": [],
   "source": [
    "def where_is_the_error(something):\n",
    "    '''You can describe your function within triple quotes. For example, this function \n",
    "    illustrates that errors don't occur until functions are executed (called).'''\n",
    "    return (1 / 0) + something"
   ]
  },
  {
   "cell_type": "markdown",
   "metadata": {},
   "source": [
    "Somente quando **chamamos** `where_is_the_error` que o Python nos dá uma mensagem de erro."
   ]
  },
  {
   "cell_type": "code",
   "execution_count": 16,
   "metadata": {
    "execution": {
     "iopub.execute_input": "2024-04-09T17:31:00.498158Z",
     "iopub.status.busy": "2024-04-09T17:31:00.497933Z",
     "iopub.status.idle": "2024-04-09T17:31:00.703277Z",
     "shell.execute_reply": "2024-04-09T17:31:00.702614Z"
    },
    "tags": [
     "raises-exception"
    ]
   },
   "outputs": [
    {
     "ename": "ZeroDivisionError",
     "evalue": "division by zero",
     "output_type": "error",
     "traceback": [
      "\u001b[0;31m---------------------------------------------------------------------------\u001b[0m",
      "\u001b[0;31mZeroDivisionError\u001b[0m                         Traceback (most recent call last)",
      "Cell \u001b[0;32mIn[16], line 1\u001b[0m\n\u001b[0;32m----> 1\u001b[0m \u001b[43mwhere_is_the_error\u001b[49m\u001b[43m(\u001b[49m\u001b[38;5;241;43m5\u001b[39;49m\u001b[43m)\u001b[49m\n",
      "Cell \u001b[0;32mIn[15], line 4\u001b[0m, in \u001b[0;36mwhere_is_the_error\u001b[0;34m(something)\u001b[0m\n\u001b[1;32m      1\u001b[0m \u001b[38;5;28;01mdef\u001b[39;00m \u001b[38;5;21mwhere_is_the_error\u001b[39m(something):\n\u001b[1;32m      2\u001b[0m \u001b[38;5;250m    \u001b[39m\u001b[38;5;124;03m'''You can describe your function within triple quotes. For example, this function \u001b[39;00m\n\u001b[1;32m      3\u001b[0m \u001b[38;5;124;03m    illustrates that errors don't occur until functions are executed (called).'''\u001b[39;00m\n\u001b[0;32m----> 4\u001b[0m     \u001b[38;5;28;01mreturn\u001b[39;00m (\u001b[38;5;241;43m1\u001b[39;49m\u001b[43m \u001b[49m\u001b[38;5;241;43m/\u001b[39;49m\u001b[43m \u001b[49m\u001b[38;5;241;43m0\u001b[39;49m) \u001b[38;5;241m+\u001b[39m something\n",
      "\u001b[0;31mZeroDivisionError\u001b[0m: division by zero"
     ]
    }
   ],
   "source": [
    "where_is_the_error(5)"
   ]
  },
  {
   "cell_type": "markdown",
   "metadata": {
    "slideshow": {
     "slide_type": "slide"
    }
   },
   "source": [
    "### Exemplo: `primeiro_nome`\n",
    "\n",
    "Vamos criar uma função chamada `first_name` que recebe o nome completo de alguém e retorna seu primeiro nome. Um exemplo de comportamento é mostrado abaixo.\n",
    "```py\n",
    ">>> first_name('Flavio Figueiredo')\n",
    "'Flavio'\n",
    "```\n",
    "*Dica*: Use o método string `.split`."
   ]
  },
  {
   "cell_type": "markdown",
   "metadata": {
    "slideshow": {
     "slide_type": "fragment"
    }
   },
   "source": [
    "Estratégia geral para escrever funções:\n",
    "1. Primeiro, tente fazer com que o comportamento funcione em um único exemplo.\n",
    "2. Em seguida, encapsule esse comportamento dentro de uma função."
   ]
  },
  {
   "cell_type": "code",
   "execution_count": 17,
   "metadata": {
    "execution": {
     "iopub.execute_input": "2024-04-09T17:31:00.706583Z",
     "iopub.status.busy": "2024-04-09T17:31:00.706376Z",
     "iopub.status.idle": "2024-04-09T17:31:00.710758Z",
     "shell.execute_reply": "2024-04-09T17:31:00.710063Z"
    }
   },
   "outputs": [
    {
     "data": {
      "text/plain": [
       "'Flavio'"
      ]
     },
     "execution_count": 17,
     "metadata": {},
     "output_type": "execute_result"
    }
   ],
   "source": [
    "'Flavio Figueiredo'.split(' ')[0]"
   ]
  },
  {
   "cell_type": "code",
   "execution_count": 18,
   "metadata": {
    "execution": {
     "iopub.execute_input": "2024-04-09T17:31:00.713671Z",
     "iopub.status.busy": "2024-04-09T17:31:00.713403Z",
     "iopub.status.idle": "2024-04-09T17:31:00.716612Z",
     "shell.execute_reply": "2024-04-09T17:31:00.715958Z"
    }
   },
   "outputs": [],
   "source": [
    "def first_name(full_name):\n",
    "    '''Returns the first name given a full name.'''\n",
    "    return full_name.split(' ')[0]"
   ]
  },
  {
   "cell_type": "code",
   "execution_count": 19,
   "metadata": {
    "execution": {
     "iopub.execute_input": "2024-04-09T17:31:00.719140Z",
     "iopub.status.busy": "2024-04-09T17:31:00.718839Z",
     "iopub.status.idle": "2024-04-09T17:31:00.723379Z",
     "shell.execute_reply": "2024-04-09T17:31:00.722705Z"
    }
   },
   "outputs": [
    {
     "data": {
      "text/plain": [
       "'Flavio'"
      ]
     },
     "execution_count": 19,
     "metadata": {},
     "output_type": "execute_result"
    }
   ],
   "source": [
    "first_name('Flavio Figueiredo')"
   ]
  },
  {
   "cell_type": "code",
   "execution_count": 20,
   "metadata": {
    "execution": {
     "iopub.execute_input": "2024-04-09T17:31:00.725697Z",
     "iopub.status.busy": "2024-04-09T17:31:00.725465Z",
     "iopub.status.idle": "2024-04-09T17:31:00.729755Z",
     "shell.execute_reply": "2024-04-09T17:31:00.728841Z"
    }
   },
   "outputs": [
    {
     "data": {
      "text/plain": [
       "'Mestre'"
      ]
     },
     "execution_count": 20,
     "metadata": {},
     "output_type": "execute_result"
    }
   ],
   "source": [
    "# What if there are three names?\n",
    "first_name('Mestre Flavio Figueiredo')"
   ]
  },
  {
   "cell_type": "markdown",
   "metadata": {
    "slideshow": {
     "slide_type": "slide"
    }
   },
   "source": [
    "### Retornando\n",
    "\n",
    "- A palavra-chave `return` especifica qual deve ser a saída da sua função, ou seja, como será avaliada uma chamada para a sua função.\n",
    "- A maioria das funções que escrevemos usará `return`, mas usar `return` não é obrigatório.\n",
    "- Tenha cuidado: `print` e `return` funcionam de forma diferente!"
   ]
  },
  {
   "cell_type": "code",
   "execution_count": 21,
   "metadata": {
    "execution": {
     "iopub.execute_input": "2024-04-09T17:31:00.733759Z",
     "iopub.status.busy": "2024-04-09T17:31:00.733438Z",
     "iopub.status.idle": "2024-04-09T17:31:00.738597Z",
     "shell.execute_reply": "2024-04-09T17:31:00.737593Z"
    }
   },
   "outputs": [],
   "source": [
    "def pythagorean(a, b):\n",
    "    '''Computes the hypotenuse length of a triangle with legs a and b.'''\n",
    "    c = (a ** 2 + b ** 2) ** 0.5\n",
    "    print(c)"
   ]
  },
  {
   "cell_type": "code",
   "execution_count": 22,
   "metadata": {
    "execution": {
     "iopub.execute_input": "2024-04-09T17:31:00.741689Z",
     "iopub.status.busy": "2024-04-09T17:31:00.741434Z",
     "iopub.status.idle": "2024-04-09T17:31:00.745476Z",
     "shell.execute_reply": "2024-04-09T17:31:00.744765Z"
    }
   },
   "outputs": [
    {
     "name": "stdout",
     "output_type": "stream",
     "text": [
      "5.0\n"
     ]
    }
   ],
   "source": [
    "x = pythagorean(3, 4)"
   ]
  },
  {
   "cell_type": "code",
   "execution_count": 23,
   "metadata": {
    "execution": {
     "iopub.execute_input": "2024-04-09T17:31:00.748361Z",
     "iopub.status.busy": "2024-04-09T17:31:00.748070Z",
     "iopub.status.idle": "2024-04-09T17:31:00.751263Z",
     "shell.execute_reply": "2024-04-09T17:31:00.750614Z"
    }
   },
   "outputs": [],
   "source": [
    "# No output – why?\n",
    "x"
   ]
  },
  {
   "cell_type": "code",
   "execution_count": 24,
   "metadata": {
    "execution": {
     "iopub.execute_input": "2024-04-09T17:31:00.754395Z",
     "iopub.status.busy": "2024-04-09T17:31:00.753931Z",
     "iopub.status.idle": "2024-04-09T17:31:00.766116Z",
     "shell.execute_reply": "2024-04-09T17:31:00.765352Z"
    },
    "tags": [
     "raises-exception"
    ]
   },
   "outputs": [
    {
     "ename": "TypeError",
     "evalue": "unsupported operand type(s) for +: 'NoneType' and 'int'",
     "output_type": "error",
     "traceback": [
      "\u001b[0;31m---------------------------------------------------------------------------\u001b[0m",
      "\u001b[0;31mTypeError\u001b[0m                                 Traceback (most recent call last)",
      "Cell \u001b[0;32mIn[24], line 2\u001b[0m\n\u001b[1;32m      1\u001b[0m \u001b[38;5;66;03m# Errors – why?\u001b[39;00m\n\u001b[0;32m----> 2\u001b[0m \u001b[43mx\u001b[49m\u001b[43m \u001b[49m\u001b[38;5;241;43m+\u001b[39;49m\u001b[43m \u001b[49m\u001b[38;5;241;43m10\u001b[39;49m\n",
      "\u001b[0;31mTypeError\u001b[0m: unsupported operand type(s) for +: 'NoneType' and 'int'"
     ]
    }
   ],
   "source": [
    "# Errors – why?\n",
    "x + 10"
   ]
  },
  {
   "cell_type": "code",
   "execution_count": 25,
   "metadata": {
    "execution": {
     "iopub.execute_input": "2024-04-09T17:31:00.768758Z",
     "iopub.status.busy": "2024-04-09T17:31:00.768508Z",
     "iopub.status.idle": "2024-04-09T17:31:00.771993Z",
     "shell.execute_reply": "2024-04-09T17:31:00.771391Z"
    },
    "slideshow": {
     "slide_type": "slide"
    }
   },
   "outputs": [],
   "source": [
    "def better_pythagorean(a, b):\n",
    "    '''Computes the hypotenuse length of a triangle with legs a and b, and actually returns the result.'''\n",
    "    c = (a ** 2 + b ** 2) ** 0.5\n",
    "    return c"
   ]
  },
  {
   "cell_type": "code",
   "execution_count": 26,
   "metadata": {
    "execution": {
     "iopub.execute_input": "2024-04-09T17:31:00.774927Z",
     "iopub.status.busy": "2024-04-09T17:31:00.774624Z",
     "iopub.status.idle": "2024-04-09T17:31:00.779230Z",
     "shell.execute_reply": "2024-04-09T17:31:00.778543Z"
    }
   },
   "outputs": [
    {
     "data": {
      "text/plain": [
       "5.0"
      ]
     },
     "execution_count": 26,
     "metadata": {},
     "output_type": "execute_result"
    }
   ],
   "source": [
    "x = better_pythagorean(3, 4)\n",
    "x"
   ]
  },
  {
   "cell_type": "code",
   "execution_count": 27,
   "metadata": {
    "execution": {
     "iopub.execute_input": "2024-04-09T17:31:00.782141Z",
     "iopub.status.busy": "2024-04-09T17:31:00.781889Z",
     "iopub.status.idle": "2024-04-09T17:31:00.786899Z",
     "shell.execute_reply": "2024-04-09T17:31:00.786253Z"
    }
   },
   "outputs": [
    {
     "data": {
      "text/plain": [
       "15.0"
      ]
     },
     "execution_count": 27,
     "metadata": {},
     "output_type": "execute_result"
    }
   ],
   "source": [
    "x + 10"
   ]
  },
  {
   "cell_type": "markdown",
   "metadata": {
    "slideshow": {
     "slide_type": "slide"
    }
   },
   "source": [
    "### Retornando\n",
    "Depois que uma função executa uma instrução `return`, ela para de funcionar."
   ]
  },
  {
   "cell_type": "code",
   "execution_count": 28,
   "metadata": {
    "execution": {
     "iopub.execute_input": "2024-04-09T17:31:00.789602Z",
     "iopub.status.busy": "2024-04-09T17:31:00.789349Z",
     "iopub.status.idle": "2024-04-09T17:31:00.792467Z",
     "shell.execute_reply": "2024-04-09T17:31:00.791764Z"
    }
   },
   "outputs": [],
   "source": [
    "def motivational(quote):\n",
    "    return 0\n",
    "    print(\"Uma frase motivacional:\", quote)"
   ]
  },
  {
   "cell_type": "code",
   "execution_count": 29,
   "metadata": {
    "execution": {
     "iopub.execute_input": "2024-04-09T17:31:00.795400Z",
     "iopub.status.busy": "2024-04-09T17:31:00.795101Z",
     "iopub.status.idle": "2024-04-09T17:31:00.799571Z",
     "shell.execute_reply": "2024-04-09T17:31:00.798989Z"
    }
   },
   "outputs": [
    {
     "data": {
      "text/plain": [
       "0"
      ]
     },
     "execution_count": 29,
     "metadata": {},
     "output_type": "execute_result"
    }
   ],
   "source": [
    "motivational('Caia sete vezes e se levante oito.')"
   ]
  },
  {
   "cell_type": "markdown",
   "metadata": {
    "slideshow": {
     "slide_type": "slide"
    }
   },
   "source": [
    "### Escopo 🩺\n",
    "\n",
    "Os nomes que você escolhe para os parâmetros de uma função são conhecidos apenas por essa função (conhecido como **escopo local**). O restante do seu notebook não é afetado pelos nomes dos parâmetros."
   ]
  },
  {
   "cell_type": "code",
   "execution_count": 30,
   "metadata": {
    "execution": {
     "iopub.execute_input": "2024-04-09T17:31:00.801986Z",
     "iopub.status.busy": "2024-04-09T17:31:00.801742Z",
     "iopub.status.idle": "2024-04-09T17:31:00.805003Z",
     "shell.execute_reply": "2024-04-09T17:31:00.804375Z"
    }
   },
   "outputs": [],
   "source": [
    "def what_is_awesome(s):\n",
    "    return s + ' is awesome!'"
   ]
  },
  {
   "cell_type": "code",
   "execution_count": 31,
   "metadata": {
    "execution": {
     "iopub.execute_input": "2024-04-09T17:31:00.807668Z",
     "iopub.status.busy": "2024-04-09T17:31:00.807422Z",
     "iopub.status.idle": "2024-04-09T17:31:00.811620Z",
     "shell.execute_reply": "2024-04-09T17:31:00.810959Z"
    }
   },
   "outputs": [
    {
     "data": {
      "text/plain": [
       "'data science is awesome!'"
      ]
     },
     "execution_count": 31,
     "metadata": {},
     "output_type": "execute_result"
    }
   ],
   "source": [
    "what_is_awesome('data science')"
   ]
  },
  {
   "cell_type": "code",
   "execution_count": 32,
   "metadata": {
    "execution": {
     "iopub.execute_input": "2024-04-09T17:31:00.814496Z",
     "iopub.status.busy": "2024-04-09T17:31:00.814244Z",
     "iopub.status.idle": "2024-04-09T17:31:00.817405Z",
     "shell.execute_reply": "2024-04-09T17:31:00.816703Z"
    }
   },
   "outputs": [],
   "source": [
    "# descomente para ver o erro\n",
    "# s"
   ]
  },
  {
   "cell_type": "code",
   "execution_count": 33,
   "metadata": {
    "execution": {
     "iopub.execute_input": "2024-04-09T17:31:00.820119Z",
     "iopub.status.busy": "2024-04-09T17:31:00.819745Z",
     "iopub.status.idle": "2024-04-09T17:31:00.823256Z",
     "shell.execute_reply": "2024-04-09T17:31:00.822566Z"
    }
   },
   "outputs": [],
   "source": [
    "s = 'FCD'"
   ]
  },
  {
   "cell_type": "code",
   "execution_count": 34,
   "metadata": {
    "execution": {
     "iopub.execute_input": "2024-04-09T17:31:00.826180Z",
     "iopub.status.busy": "2024-04-09T17:31:00.825931Z",
     "iopub.status.idle": "2024-04-09T17:31:00.830640Z",
     "shell.execute_reply": "2024-04-09T17:31:00.829974Z"
    }
   },
   "outputs": [
    {
     "data": {
      "text/plain": [
       "'data science is awesome!'"
      ]
     },
     "execution_count": 34,
     "metadata": {},
     "output_type": "execute_result"
    }
   ],
   "source": [
    "what_is_awesome('data science')"
   ]
  },
  {
   "cell_type": "markdown",
   "metadata": {
    "slideshow": {
     "slide_type": "slide"
    }
   },
   "source": [
    "## Aplicando funções a DataFrames"
   ]
  },
  {
   "cell_type": "markdown",
   "metadata": {
    "slideshow": {
     "slide_type": "slide"
    }
   },
   "source": [
    "### Dados dos alunos de FCD\n",
    "\n",
    "A `df` do DataFrame contém os nomes de todos os alunos matrículados em FCD."
   ]
  },
  {
   "cell_type": "code",
   "execution_count": 35,
   "metadata": {
    "execution": {
     "iopub.execute_input": "2024-04-09T17:31:00.833665Z",
     "iopub.status.busy": "2024-04-09T17:31:00.833413Z",
     "iopub.status.idle": "2024-04-09T17:31:00.837567Z",
     "shell.execute_reply": "2024-04-09T17:31:00.836754Z"
    }
   },
   "outputs": [],
   "source": [
    "nomes = 'ANNY \\\n",
    "ARTHUR \\\n",
    "ARTHUR \\\n",
    "CAIO \\\n",
    "CAROLINA \\\n",
    "CLARA \\\n",
    "DANIELLE \\\n",
    "EDUARDO \\\n",
    "EDUARDO \\\n",
    "EMANUEL \\\n",
    "ENZO \\\n",
    "FELIPE \\\n",
    "FELIPE \\\n",
    "FRANCISCO \\\n",
    "GABRIEL \\\n",
    "GABRIEL \\\n",
    "GABRIELLY \\\n",
    "GAEL \\\n",
    "GUILHERME \\\n",
    "GUILHERME \\\n",
    "GUSTAVO \\\n",
    "ISAAC \\\n",
    "JOAO \\\n",
    "JOAO \\\n",
    "KARINA \\\n",
    "LETICIA \\\n",
    "LETICIA \\\n",
    "LIVIA \\\n",
    "LORRANY \\\n",
    "LUCAS \\\n",
    "LUIS \\\n",
    "MARCO \\\n",
    "MATEUS \\\n",
    "MATEUS \\\n",
    "MATHEUS \\\n",
    "RAIZA \\\n",
    "RENATO \\\n",
    "SOPHIA \\\n",
    "THAYRELAN \\\n",
    "VICTOR'"
   ]
  },
  {
   "cell_type": "code",
   "execution_count": 36,
   "metadata": {
    "execution": {
     "iopub.execute_input": "2024-04-09T17:31:00.840284Z",
     "iopub.status.busy": "2024-04-09T17:31:00.840039Z",
     "iopub.status.idle": "2024-04-09T17:31:00.850189Z",
     "shell.execute_reply": "2024-04-09T17:31:00.849505Z"
    }
   },
   "outputs": [
    {
     "data": {
      "text/html": [
       "<div>\n",
       "<style scoped>\n",
       "    .dataframe tbody tr th:only-of-type {\n",
       "        vertical-align: middle;\n",
       "    }\n",
       "\n",
       "    .dataframe tbody tr th {\n",
       "        vertical-align: top;\n",
       "    }\n",
       "\n",
       "    .dataframe thead th {\n",
       "        text-align: right;\n",
       "    }\n",
       "</style>\n",
       "<table border=\"1\" class=\"dataframe\">\n",
       "  <thead>\n",
       "    <tr style=\"text-align: right;\">\n",
       "      <th></th>\n",
       "      <th>nome</th>\n",
       "    </tr>\n",
       "  </thead>\n",
       "  <tbody>\n",
       "    <tr>\n",
       "      <th>18</th>\n",
       "      <td>GUILHERME</td>\n",
       "    </tr>\n",
       "    <tr>\n",
       "      <th>6</th>\n",
       "      <td>DANIELLE</td>\n",
       "    </tr>\n",
       "    <tr>\n",
       "      <th>33</th>\n",
       "      <td>MATEUS</td>\n",
       "    </tr>\n",
       "    <tr>\n",
       "      <th>19</th>\n",
       "      <td>GUILHERME</td>\n",
       "    </tr>\n",
       "    <tr>\n",
       "      <th>1</th>\n",
       "      <td>ARTHUR</td>\n",
       "    </tr>\n",
       "    <tr>\n",
       "      <th>...</th>\n",
       "      <td>...</td>\n",
       "    </tr>\n",
       "    <tr>\n",
       "      <th>17</th>\n",
       "      <td>GAEL</td>\n",
       "    </tr>\n",
       "    <tr>\n",
       "      <th>9</th>\n",
       "      <td>EMANUEL</td>\n",
       "    </tr>\n",
       "    <tr>\n",
       "      <th>29</th>\n",
       "      <td>LUCAS</td>\n",
       "    </tr>\n",
       "    <tr>\n",
       "      <th>32</th>\n",
       "      <td>MATEUS</td>\n",
       "    </tr>\n",
       "    <tr>\n",
       "      <th>0</th>\n",
       "      <td>ANNY</td>\n",
       "    </tr>\n",
       "  </tbody>\n",
       "</table>\n",
       "<p>40 rows × 1 columns</p>\n",
       "</div>"
      ],
      "text/plain": [
       "         nome\n",
       "18  GUILHERME\n",
       "6    DANIELLE\n",
       "33     MATEUS\n",
       "19  GUILHERME\n",
       "1      ARTHUR\n",
       "..        ...\n",
       "17       GAEL\n",
       "9     EMANUEL\n",
       "29      LUCAS\n",
       "32     MATEUS\n",
       "0        ANNY\n",
       "\n",
       "[40 rows x 1 columns]"
      ]
     },
     "execution_count": 36,
     "metadata": {},
     "output_type": "execute_result"
    }
   ],
   "source": [
    "df = bpd.DataFrame().assign(\n",
    "    nome=nomes.split()\n",
    ")\n",
    "df = df.sample(df.shape[0])\n",
    "df"
   ]
  },
  {
   "cell_type": "markdown",
   "metadata": {
    "slideshow": {
     "slide_type": "slide"
    }
   },
   "source": [
    "### Exemplo: qual a primeira letra mais comum entre os nomes dos discentes de FCD?"
   ]
  },
  {
   "cell_type": "markdown",
   "metadata": {
    "slideshow": {
     "slide_type": "fragment"
    }
   },
   "source": [
    "- **Problema**: Não podemos responder agora, pois não temos uma coluna com primeira letra. Se o fizéssemos, poderíamos agrupar por ele.\n",
    "\n"
   ]
  },
  {
   "cell_type": "markdown",
   "metadata": {
    "slideshow": {
     "slide_type": "fragment"
    }
   },
   "source": [
    "- **Solução**: Criar uma função."
   ]
  },
  {
   "cell_type": "markdown",
   "metadata": {
    "slideshow": {
     "slide_type": "slide"
    }
   },
   "source": [
    "### Criando uma função `primeira_letra`\n",
    "\n",
    "De alguma forma, precisamos chamar `'primeira_letra'` no `'nome'` de cada aluno."
   ]
  },
  {
   "cell_type": "code",
   "execution_count": 37,
   "metadata": {
    "execution": {
     "iopub.execute_input": "2024-04-09T17:31:00.852841Z",
     "iopub.status.busy": "2024-04-09T17:31:00.852586Z",
     "iopub.status.idle": "2024-04-09T17:31:00.856236Z",
     "shell.execute_reply": "2024-04-09T17:31:00.855578Z"
    }
   },
   "outputs": [],
   "source": [
    "def primeira_letra(nome):\n",
    "    return nome[0]"
   ]
  },
  {
   "cell_type": "code",
   "execution_count": 38,
   "metadata": {
    "execution": {
     "iopub.execute_input": "2024-04-09T17:31:00.858899Z",
     "iopub.status.busy": "2024-04-09T17:31:00.858705Z",
     "iopub.status.idle": "2024-04-09T17:31:00.862862Z",
     "shell.execute_reply": "2024-04-09T17:31:00.862185Z"
    },
    "scrolled": true
   },
   "outputs": [
    {
     "data": {
      "text/plain": [
       "'F'"
      ]
     },
     "execution_count": 38,
     "metadata": {},
     "output_type": "execute_result"
    }
   ],
   "source": [
    "primeira_letra('FLAVIO')"
   ]
  },
  {
   "cell_type": "code",
   "execution_count": 39,
   "metadata": {
    "execution": {
     "iopub.execute_input": "2024-04-09T17:31:00.865754Z",
     "iopub.status.busy": "2024-04-09T17:31:00.865485Z",
     "iopub.status.idle": "2024-04-09T17:31:00.870153Z",
     "shell.execute_reply": "2024-04-09T17:31:00.869289Z"
    }
   },
   "outputs": [
    {
     "data": {
      "text/plain": [
       "'G'"
      ]
     },
     "execution_count": 39,
     "metadata": {},
     "output_type": "execute_result"
    }
   ],
   "source": [
    "primeira_letra(df.get('nome').iloc[0])"
   ]
  },
  {
   "cell_type": "code",
   "execution_count": 40,
   "metadata": {
    "execution": {
     "iopub.execute_input": "2024-04-09T17:31:00.872959Z",
     "iopub.status.busy": "2024-04-09T17:31:00.872481Z",
     "iopub.status.idle": "2024-04-09T17:31:00.877055Z",
     "shell.execute_reply": "2024-04-09T17:31:00.876397Z"
    }
   },
   "outputs": [
    {
     "data": {
      "text/plain": [
       "'D'"
      ]
     },
     "execution_count": 40,
     "metadata": {},
     "output_type": "execute_result"
    }
   ],
   "source": [
    "primeira_letra(df.get('nome').iloc[1])"
   ]
  },
  {
   "cell_type": "markdown",
   "metadata": {},
   "source": [
    "Idealmente, existe uma solução melhor do que fazer isso centenas de vezes..."
   ]
  },
  {
   "cell_type": "markdown",
   "metadata": {
    "slideshow": {
     "slide_type": "slide"
    }
   },
   "source": [
    "### `.apply`\n",
    "\n",
    "- Para **aplicar** uma função a cada elemento da coluna `column_name` no DataFrame `df`, use\n",
    "\n",
    "<br>\n",
    "\n",
    "<center><code>df.get(column_name).apply(function_name)</code></center>"
   ]
  },
  {
   "cell_type": "markdown",
   "metadata": {
    "slideshow": {
     "slide_type": "fragment"
    }
   },
   "source": [
    "- O método `.apply` é um método de uma **Series** **não** de um DataFrame.\n",
    "- **Importante:** Usamos `.apply` em séries, **não** em DataFrames.\n",
    "- A saída de `.apply` também é uma série."
   ]
  },
  {
   "cell_type": "markdown",
   "metadata": {
    "slideshow": {
     "slide_type": "fragment"
    }
   },
   "source": [
    "- Passe _apenas o nome_ da função – não a chame!\n",
    "- Bom ✅: `.apply(primeira_letra)`.\n",
    "- Ruim ❌: `.apply(primeira_letra())`."
   ]
  },
  {
   "cell_type": "code",
   "execution_count": 41,
   "metadata": {
    "execution": {
     "iopub.execute_input": "2024-04-09T17:31:00.879773Z",
     "iopub.status.busy": "2024-04-09T17:31:00.879475Z",
     "iopub.status.idle": "2024-04-09T17:31:00.885420Z",
     "shell.execute_reply": "2024-04-09T17:31:00.884750Z"
    },
    "scrolled": true,
    "slideshow": {
     "slide_type": "fragment"
    }
   },
   "outputs": [
    {
     "data": {
      "text/plain": [
       "18    G\n",
       "6     D\n",
       "33    M\n",
       "19    G\n",
       "1     A\n",
       "     ..\n",
       "17    G\n",
       "9     E\n",
       "29    L\n",
       "32    M\n",
       "0     A\n",
       "Name: nome, Length: 40, dtype: object"
      ]
     },
     "execution_count": 41,
     "metadata": {},
     "output_type": "execute_result"
    }
   ],
   "source": [
    "df.get('nome').apply(primeira_letra)"
   ]
  },
  {
   "cell_type": "markdown",
   "metadata": {
    "slideshow": {
     "slide_type": "slide"
    }
   },
   "source": [
    "### Exemplo: nomes próprios comuns"
   ]
  },
  {
   "cell_type": "code",
   "execution_count": 42,
   "metadata": {
    "execution": {
     "iopub.execute_input": "2024-04-09T17:31:00.887959Z",
     "iopub.status.busy": "2024-04-09T17:31:00.887713Z",
     "iopub.status.idle": "2024-04-09T17:31:00.896852Z",
     "shell.execute_reply": "2024-04-09T17:31:00.896179Z"
    }
   },
   "outputs": [
    {
     "data": {
      "text/html": [
       "<div>\n",
       "<style scoped>\n",
       "    .dataframe tbody tr th:only-of-type {\n",
       "        vertical-align: middle;\n",
       "    }\n",
       "\n",
       "    .dataframe tbody tr th {\n",
       "        vertical-align: top;\n",
       "    }\n",
       "\n",
       "    .dataframe thead th {\n",
       "        text-align: right;\n",
       "    }\n",
       "</style>\n",
       "<table border=\"1\" class=\"dataframe\">\n",
       "  <thead>\n",
       "    <tr style=\"text-align: right;\">\n",
       "      <th></th>\n",
       "      <th>nome</th>\n",
       "      <th>primeira</th>\n",
       "    </tr>\n",
       "  </thead>\n",
       "  <tbody>\n",
       "    <tr>\n",
       "      <th>18</th>\n",
       "      <td>GUILHERME</td>\n",
       "      <td>G</td>\n",
       "    </tr>\n",
       "    <tr>\n",
       "      <th>6</th>\n",
       "      <td>DANIELLE</td>\n",
       "      <td>D</td>\n",
       "    </tr>\n",
       "    <tr>\n",
       "      <th>33</th>\n",
       "      <td>MATEUS</td>\n",
       "      <td>M</td>\n",
       "    </tr>\n",
       "    <tr>\n",
       "      <th>19</th>\n",
       "      <td>GUILHERME</td>\n",
       "      <td>G</td>\n",
       "    </tr>\n",
       "    <tr>\n",
       "      <th>1</th>\n",
       "      <td>ARTHUR</td>\n",
       "      <td>A</td>\n",
       "    </tr>\n",
       "    <tr>\n",
       "      <th>...</th>\n",
       "      <td>...</td>\n",
       "      <td>...</td>\n",
       "    </tr>\n",
       "    <tr>\n",
       "      <th>17</th>\n",
       "      <td>GAEL</td>\n",
       "      <td>G</td>\n",
       "    </tr>\n",
       "    <tr>\n",
       "      <th>9</th>\n",
       "      <td>EMANUEL</td>\n",
       "      <td>E</td>\n",
       "    </tr>\n",
       "    <tr>\n",
       "      <th>29</th>\n",
       "      <td>LUCAS</td>\n",
       "      <td>L</td>\n",
       "    </tr>\n",
       "    <tr>\n",
       "      <th>32</th>\n",
       "      <td>MATEUS</td>\n",
       "      <td>M</td>\n",
       "    </tr>\n",
       "    <tr>\n",
       "      <th>0</th>\n",
       "      <td>ANNY</td>\n",
       "      <td>A</td>\n",
       "    </tr>\n",
       "  </tbody>\n",
       "</table>\n",
       "<p>40 rows × 2 columns</p>\n",
       "</div>"
      ],
      "text/plain": [
       "         nome primeira\n",
       "18  GUILHERME        G\n",
       "6    DANIELLE        D\n",
       "33     MATEUS        M\n",
       "19  GUILHERME        G\n",
       "1      ARTHUR        A\n",
       "..        ...      ...\n",
       "17       GAEL        G\n",
       "9     EMANUEL        E\n",
       "29      LUCAS        L\n",
       "32     MATEUS        M\n",
       "0        ANNY        A\n",
       "\n",
       "[40 rows x 2 columns]"
      ]
     },
     "execution_count": 42,
     "metadata": {},
     "output_type": "execute_result"
    }
   ],
   "source": [
    "df = df.assign(\n",
    "    primeira=df.get('nome').apply(primeira_letra)\n",
    ")\n",
    "df"
   ]
  },
  {
   "cell_type": "code",
   "execution_count": 43,
   "metadata": {
    "execution": {
     "iopub.execute_input": "2024-04-09T17:31:00.899835Z",
     "iopub.status.busy": "2024-04-09T17:31:00.899317Z",
     "iopub.status.idle": "2024-04-09T17:31:00.906002Z",
     "shell.execute_reply": "2024-04-09T17:31:00.905312Z"
    },
    "scrolled": true
   },
   "outputs": [
    {
     "data": {
      "text/plain": [
       "primeira\n",
       "G    7\n",
       "L    6\n",
       "E    4\n",
       "M    4\n",
       "A    3\n",
       "    ..\n",
       "I    1\n",
       "K    1\n",
       "S    1\n",
       "T    1\n",
       "V    1\n",
       "Length: 15, dtype: int64"
      ]
     },
     "execution_count": 43,
     "metadata": {},
     "output_type": "execute_result"
    }
   ],
   "source": [
    "letra_count = (df.\n",
    "               groupby('primeira').\n",
    "               size().\n",
    "               sort_values(ascending=False)\n",
    ")\n",
    "letra_count"
   ]
  },
  {
   "cell_type": "markdown",
   "metadata": {
    "slideshow": {
     "slide_type": "slide"
    }
   },
   "source": [
    "### Atividade\n",
    "\n",
    "Abaixo:\n",
    "- Crie um **gráfico de barras** para a `primeira` e `ultima` letra de cada nome.\n",
    "- O que você consegue tirar dos dois gráficos?"
   ]
  },
  {
   "cell_type": "code",
   "execution_count": 44,
   "metadata": {
    "execution": {
     "iopub.execute_input": "2024-04-09T17:31:00.908946Z",
     "iopub.status.busy": "2024-04-09T17:31:00.908656Z",
     "iopub.status.idle": "2024-04-09T17:31:00.912657Z",
     "shell.execute_reply": "2024-04-09T17:31:00.912059Z"
    }
   },
   "outputs": [
    {
     "data": {
      "text/plain": [
       "Ellipsis"
      ]
     },
     "execution_count": 44,
     "metadata": {},
     "output_type": "execute_result"
    }
   ],
   "source": [
    "..."
   ]
  },
  {
   "cell_type": "code",
   "execution_count": 45,
   "metadata": {
    "execution": {
     "iopub.execute_input": "2024-04-09T17:31:00.915346Z",
     "iopub.status.busy": "2024-04-09T17:31:00.915152Z",
     "iopub.status.idle": "2024-04-09T17:31:00.919219Z",
     "shell.execute_reply": "2024-04-09T17:31:00.918565Z"
    }
   },
   "outputs": [
    {
     "data": {
      "text/plain": [
       "Ellipsis"
      ]
     },
     "execution_count": 45,
     "metadata": {},
     "output_type": "execute_result"
    }
   ],
   "source": [
    "..."
   ]
  },
  {
   "cell_type": "markdown",
   "metadata": {
    "slideshow": {
     "slide_type": "slide"
    }
   },
   "source": [
    "### Nota: `.apply` também funciona com funções já existentes!\n",
    "\n",
    "Por exemplo, para encontrar o comprimento de cada nome, podemos usar a função `len`:"
   ]
  },
  {
   "cell_type": "code",
   "execution_count": 46,
   "metadata": {
    "execution": {
     "iopub.execute_input": "2024-04-09T17:31:00.921981Z",
     "iopub.status.busy": "2024-04-09T17:31:00.921603Z",
     "iopub.status.idle": "2024-04-09T17:31:00.928847Z",
     "shell.execute_reply": "2024-04-09T17:31:00.928179Z"
    }
   },
   "outputs": [
    {
     "data": {
      "text/html": [
       "<div>\n",
       "<style scoped>\n",
       "    .dataframe tbody tr th:only-of-type {\n",
       "        vertical-align: middle;\n",
       "    }\n",
       "\n",
       "    .dataframe tbody tr th {\n",
       "        vertical-align: top;\n",
       "    }\n",
       "\n",
       "    .dataframe thead th {\n",
       "        text-align: right;\n",
       "    }\n",
       "</style>\n",
       "<table border=\"1\" class=\"dataframe\">\n",
       "  <thead>\n",
       "    <tr style=\"text-align: right;\">\n",
       "      <th></th>\n",
       "      <th>nome</th>\n",
       "      <th>primeira</th>\n",
       "    </tr>\n",
       "  </thead>\n",
       "  <tbody>\n",
       "    <tr>\n",
       "      <th>18</th>\n",
       "      <td>GUILHERME</td>\n",
       "      <td>G</td>\n",
       "    </tr>\n",
       "    <tr>\n",
       "      <th>6</th>\n",
       "      <td>DANIELLE</td>\n",
       "      <td>D</td>\n",
       "    </tr>\n",
       "    <tr>\n",
       "      <th>33</th>\n",
       "      <td>MATEUS</td>\n",
       "      <td>M</td>\n",
       "    </tr>\n",
       "    <tr>\n",
       "      <th>19</th>\n",
       "      <td>GUILHERME</td>\n",
       "      <td>G</td>\n",
       "    </tr>\n",
       "    <tr>\n",
       "      <th>1</th>\n",
       "      <td>ARTHUR</td>\n",
       "      <td>A</td>\n",
       "    </tr>\n",
       "    <tr>\n",
       "      <th>...</th>\n",
       "      <td>...</td>\n",
       "      <td>...</td>\n",
       "    </tr>\n",
       "    <tr>\n",
       "      <th>17</th>\n",
       "      <td>GAEL</td>\n",
       "      <td>G</td>\n",
       "    </tr>\n",
       "    <tr>\n",
       "      <th>9</th>\n",
       "      <td>EMANUEL</td>\n",
       "      <td>E</td>\n",
       "    </tr>\n",
       "    <tr>\n",
       "      <th>29</th>\n",
       "      <td>LUCAS</td>\n",
       "      <td>L</td>\n",
       "    </tr>\n",
       "    <tr>\n",
       "      <th>32</th>\n",
       "      <td>MATEUS</td>\n",
       "      <td>M</td>\n",
       "    </tr>\n",
       "    <tr>\n",
       "      <th>0</th>\n",
       "      <td>ANNY</td>\n",
       "      <td>A</td>\n",
       "    </tr>\n",
       "  </tbody>\n",
       "</table>\n",
       "<p>40 rows × 2 columns</p>\n",
       "</div>"
      ],
      "text/plain": [
       "         nome primeira\n",
       "18  GUILHERME        G\n",
       "6    DANIELLE        D\n",
       "33     MATEUS        M\n",
       "19  GUILHERME        G\n",
       "1      ARTHUR        A\n",
       "..        ...      ...\n",
       "17       GAEL        G\n",
       "9     EMANUEL        E\n",
       "29      LUCAS        L\n",
       "32     MATEUS        M\n",
       "0        ANNY        A\n",
       "\n",
       "[40 rows x 2 columns]"
      ]
     },
     "execution_count": 46,
     "metadata": {},
     "output_type": "execute_result"
    }
   ],
   "source": [
    "df"
   ]
  },
  {
   "cell_type": "code",
   "execution_count": 47,
   "metadata": {
    "execution": {
     "iopub.execute_input": "2024-04-09T17:31:00.931696Z",
     "iopub.status.busy": "2024-04-09T17:31:00.931408Z",
     "iopub.status.idle": "2024-04-09T17:31:00.937189Z",
     "shell.execute_reply": "2024-04-09T17:31:00.936437Z"
    }
   },
   "outputs": [
    {
     "data": {
      "text/plain": [
       "18    9\n",
       "6     8\n",
       "33    6\n",
       "19    9\n",
       "1     6\n",
       "     ..\n",
       "17    4\n",
       "9     7\n",
       "29    5\n",
       "32    6\n",
       "0     4\n",
       "Name: nome, Length: 40, dtype: int64"
      ]
     },
     "execution_count": 47,
     "metadata": {},
     "output_type": "execute_result"
    }
   ],
   "source": [
    "df.get('nome').apply(len)"
   ]
  },
  {
   "cell_type": "markdown",
   "metadata": {
    "slideshow": {
     "slide_type": "slide"
    }
   },
   "source": [
    "### Atividade\n",
    "\n",
    "Encontre o nome mais curto da turma que seja compartilhado por pelo menos dois alunos na mesma seção.\n",
    "\n",
    "*Dica*: Você terá que usar `.assign` e `.apply`."
   ]
  },
  {
   "cell_type": "code",
   "execution_count": 48,
   "metadata": {
    "execution": {
     "iopub.execute_input": "2024-04-09T17:31:00.940344Z",
     "iopub.status.busy": "2024-04-09T17:31:00.940062Z",
     "iopub.status.idle": "2024-04-09T17:31:00.944420Z",
     "shell.execute_reply": "2024-04-09T17:31:00.943751Z"
    }
   },
   "outputs": [
    {
     "data": {
      "text/plain": [
       "Ellipsis"
      ]
     },
     "execution_count": 48,
     "metadata": {},
     "output_type": "execute_result"
    }
   ],
   "source": [
    "..."
   ]
  },
  {
   "cell_type": "markdown",
   "metadata": {
    "slideshow": {
     "slide_type": "slide"
    }
   },
   "source": [
    "## Resumo, da próxima vez"
   ]
  },
  {
   "cell_type": "markdown",
   "metadata": {
    "slideshow": {
     "slide_type": "slide"
    }
   },
   "source": [
    "### Resumo\n",
    "\n",
    "- Funções são uma forma de dividir nosso código em pequenas subpartes para evitar que escrevamos código repetitivo.\n",
    "- O método `.apply` nos permite chamar uma função em cada elemento de uma Série, o que geralmente vem de `.get`ting uma coluna de um DataFrame."
   ]
  },
  {
   "cell_type": "markdown",
   "metadata": {
    "slideshow": {
     "slide_type": "slide"
    }
   },
   "source": [
    "### Próxima vez\n",
    "\n",
    "Manipulações mais avançadas de DataFrame!"
   ]
  }
 ],
 "metadata": {
  "kernelspec": {
   "display_name": "Python 3 (ipykernel)",
   "language": "python",
   "name": "python3"
  },
  "language_info": {
   "codemirror_mode": {
    "name": "ipython",
    "version": 3
   },
   "file_extension": ".py",
   "mimetype": "text/x-python",
   "name": "python",
   "nbconvert_exporter": "python",
   "pygments_lexer": "ipython3",
   "version": "3.11.2"
  },
  "livereveal": {
   "scroll": true,
   "transition": "none"
  },
  "rise": {
   "enable_chalkboard": true
  }
 },
 "nbformat": 4,
 "nbformat_minor": 4
}
