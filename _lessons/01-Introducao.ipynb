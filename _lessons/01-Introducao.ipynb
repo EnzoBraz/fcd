{
 "cells": [
  {
   "cell_type": "markdown",
   "metadata": {},
   "source": [
    "---\n",
    "layout: page\n",
    "title: Introdução\n",
    "nav_order: 1\n",
    "---\n",
    "\n",
    "# Aula 1 - Introdução\n",
    "\n",
    "{: .no_toc .mb-2 }\n",
    "\n",
    "Apresentando o curso.\n",
    "{: .fs-6 .fw-300 }\n",
    "\n",
    "{: .no_toc .text-delta }\n",
    "Resultados Esperados\n",
    "\n",
    "1. Entender um pouco de onde veio a ciência de dados\n",
    "1. Receber as tarefas de configuração do ambiente\n",
    "1. Ficar motivado!"
   ]
  },
  {
   "cell_type": "code",
   "execution_count": 1,
   "metadata": {
    "execution": {
     "iopub.execute_input": "2024-03-11T16:35:24.209232Z",
     "iopub.status.busy": "2024-03-11T16:35:24.208285Z",
     "iopub.status.idle": "2024-03-11T16:35:24.960298Z",
     "shell.execute_reply": "2024-03-11T16:35:24.959620Z"
    },
    "slideshow": {
     "slide_type": "skip"
    }
   },
   "outputs": [],
   "source": [
    "# Imports\n",
    "import babypandas as bpd\n",
    "import numpy as np\n",
    "\n",
    "import plotly.express as px\n",
    "import matplotlib.pyplot as plt\n",
    "plt.style.use('ggplot')"
   ]
  },
  {
   "cell_type": "markdown",
   "metadata": {
    "slideshow": {
     "slide_type": "slide"
    }
   },
   "source": [
    "## Fundamentos de Ciência de Dados - 2024.1"
   ]
  },
  {
   "cell_type": "markdown",
   "metadata": {
    "slideshow": {
     "slide_type": "slide"
    }
   },
   "source": [
    "### Bem-vindo ao curso de Ciência de Dados (UFMG)! 👋\n",
    "- Hoje terermos uma visita guiada à ciência de dados.\n",
    "- Nosso curso foi desenvolvido pela UC Berkeley em 2015 (data8.org).\n",
    "- Em 2017 criamos a matéria de Introdução à Ciência de Dados (DCC212).\n",
    "  - Vocês vão ver essa matéria\n",
    "  - Porém o data8 era muito simples para o quarto período\n",
    "- Voltamos com a ideia de ter o data8 no primeiro período no curso de Ciência de Dados\n",
    "- Nos baseamos na abordagem de sucesso da UCSD (data10.com)\n",
    "  - Também adaptada de Berkeley\n",
    "- **Objetivo:** Aprenda programação e estatísticas suficientes para fazer ciência de dados.\n",
    "  - Estatísticas sem muita matemática, principalmente simulação.\n",
    "  - Estabelece as bases para todos os outros cursos do curso."
   ]
  },
  {
   "cell_type": "markdown",
   "metadata": {
    "slideshow": {
     "slide_type": "slide"
    }
   },
   "source": [
    "### Agenda\n",
    "\n",
    "- Pessoal do curso.\n",
    "- O que é ciência de dados?\n",
    "- Como será esse curso?\n",
    "- Demonstração com base na literatura."
   ]
  },
  {
   "cell_type": "markdown",
   "metadata": {
    "slideshow": {
     "slide_type": "slide"
    }
   },
   "source": [
    "## Equipe do curso"
   ]
  },
  {
   "cell_type": "markdown",
   "metadata": {
    "slideshow": {
     "slide_type": "slide"
    }
   },
   "source": [
    "### Professor: Flavio Vinicius Diniz de Figueiredo (DCC)\n",
    "- BSc em Ciência da Computação pela UFCG\n",
    "- Mestrado e Doutorado em Ciência da Computação pela UFMG\n",
    "  - Estudos parciais na Carnegie Mellon University e University of Brittish Columbia\n",
    "- Já ensinou mais de 20 turmas de Introdução à Ciência de Dados (4o Período)\n",
    "- Membro da comissão que fundou o curso\n",
    "  - Em particula\n",
    "### Professor: Uriel Moreira Silva (DEST)\n",
    "- BS em Matemática e Ciência da Computação pela Loyola Maryland, PhD em Matemática (combinatória) pela UCSD 🔱.\n",
    "- Ensino na UCSD: Matemática ➡️ CSE ➡️ DSC.\n",
    "- 9ª vez ensinando DSC 10!\n",
    "- Também ensine o DSC 40A com frequência.\n",
    "- Interesses externos: artesanato, jogos de tabuleiro, caminhadas, panificação 🎂."
   ]
  },
  {
   "cell_type": "markdown",
   "metadata": {
    "slideshow": {
     "slide_type": "slide"
    }
   },
   "source": [
    "### TAs, Tutores e Mascote\n",
    "\n",
    "Além disso, temos vários outros membros da equipe do curso que estão aqui para apoiá-lo nas discussões, no horário comercial e online.\n",
    "\n",
    "- **2 Garaduate Tas**: Dayan Stockard e Dasha Varkus.\n",
    "- **17 professores de graduação**: Gabriel Cha, Eric Chen, Charlie Gillet, Vanessa Hu, Dylan Lee, Anthony Li, Jasmine Lo, Linda Long, Aishani Mohapatra, Harshita Saha, Abel Seyoum, Selim Shaalan, Yutian (Skylar) Shi , Tony Ta, Zairan Xiang, Diego Zavalza e Luran (Lauren) Zhang,\n",
    "- **1 mascote panda de pelúcia**: Bebê Panda. 🐼\n",
    "\n",
    "Saiba mais sobre eles em [dsc10.com/staff](https://dsc10.com/staff)."
   ]
  },
  {
   "cell_type": "markdown",
   "metadata": {
    "slideshow": {
     "slide_type": "slide"
    }
   },
   "source": [
    "## O que é “ciência de dados”? 🤔"
   ]
  },
  {
   "cell_type": "markdown",
   "metadata": {
    "slideshow": {
     "slide_type": "slide"
    }
   },
   "source": [
    "<center><img src='01-Introducao/images/what-is-ds.png' width=1250>Todo mundo parece ter sua própria definição de ciência de dados.</center>"
   ]
  },
  {
   "cell_type": "markdown",
   "metadata": {
    "slideshow": {
     "slide_type": "slide"
    }
   },
   "source": [
    "### O que é \"ciência de dados\"?\n",
    "\n",
    "A ciência de dados trata de **tirar conclusões úteis a partir de dados usando computação**. Ao longo do trimestre, abordaremos vários aspectos da ciência de dados:"
   ]
  },
  {
   "cell_type": "markdown",
   "metadata": {
    "slideshow": {
     "slide_type": "fragment"
    }
   },
   "source": [
    "- Primeiras 4 semanas: use Python para **explorar** dados.\n",
    "- Muita visualização 📈📊 e “manipulação de dados”, utilizando ferramentas padrão da indústria."
   ]
  },
  {
   "cell_type": "markdown",
   "metadata": {
    "slideshow": {
     "slide_type": "fragment"
    }
   },
   "source": [
    "- Próximas 4 semanas: use dados para **inferir** sobre uma população, dada apenas uma amostra.\n",
    "- Confie fortemente na simulação, em vez de fórmulas."
   ]
  },
  {
   "cell_type": "markdown",
   "metadata": {
    "slideshow": {
     "slide_type": "fragment"
    }
   },
   "source": [
    "- Últimas duas semanas: use dados do passado para **prever** o que pode acontecer no futuro.\n",
    "- Um gostinho de aprendizado de máquina 🤖."
   ]
  },
  {
   "cell_type": "markdown",
   "metadata": {
    "slideshow": {
     "slide_type": "slide"
    }
   },
   "source": [
    "### A ciência de dados é mais relevante do que nunca 🤧\n",
    "\n",
    "Passamos alguns anos analisando gráficos como este:\n",
    "\n",
    "<center><img src='01-Introducao/images/covid.jpg' width=75%></center>"
   ]
  },
  {
   "cell_type": "markdown",
   "metadata": {
    "slideshow": {
     "slide_type": "slide"
    }
   },
   "source": [
    "### Também pode ser divertido!\n",
    "\n",
    "<center><img src='01-Introducao/images/rapper_vocab.jpg' width=75%></center>\n",
    "\n",
    "Do artigo de [The Pudding](https://pudding.cool/) em [The Pudding](https://pudding.cool/)."
   ]
  },
  {
   "cell_type": "markdown",
   "metadata": {
    "slideshow": {
     "slide_type": "slide"
    }
   },
   "source": [
    "## Logística do curso"
   ]
  },
  {
   "cell_type": "markdown",
   "metadata": {
    "slideshow": {
     "slide_type": "slide"
    }
   },
   "source": [
    "### Site do curso\n",
    "\n",
    "O site do curso é o seu balcão único para todas as coisas relacionadas ao curso.\n",
    "\n",
    "<center><h3><a href=\"https://flaviovdf.io/fcd\">https://flaviovdf.io/fcd</a></h3></center>\n",
    "\n",
    "É aqui que serão postadas palestras, trabalhos de casa, laboratórios, discussões e todos os outros conteúdos. **Verifique com frequência!!**"
   ]
  },
  {
   "cell_type": "markdown",
   "metadata": {
    "slideshow": {
     "slide_type": "slide"
    }
   },
   "source": [
    "### Ambientes da UFMG\n",
    "\n",
    "- **Moodle**: fórum de perguntas e respostas. Todos os anúncios serão feitos aqui.\n",
    "- **Virtual Programming Lab**: onde você enviará todas as tarefas para avaliação automática. Dentro do moodle."
   ]
  },
  {
   "cell_type": "markdown",
   "metadata": {
    "slideshow": {
     "slide_type": "slide"
    }
   },
   "source": [
    "### Palestra\n",
    "\n",
    "- As palestras serão presenciais!!\n",
    "- A participação nunca será exigida, mas é incentivada. Caso você seja reprovado na matéria e tenha menos que 75% de presença, **reprovação por falta!!** (isso é ruim). Caso passe, não olhamos suas presenças.\n",
    "- Os slides/código da aula serão vinculados ao site do curso, tanto em formato de código \"executável\" quanto em arquivo HTML (✏️), que você pode salvar como PDF e anotar em seu tablet.\n",
    "- Tentaremos tornar as palestras envolventes. **Traga seu laptop ou tablet**, se tiver."
   ]
  },
  {
   "cell_type": "markdown",
   "metadata": {
    "slideshow": {
     "slide_type": "slide"
    }
   },
   "source": [
    "### Verificação de conceito ✅ – Resposta em [cc.dsc10.com](http://cc.dsc10.com)\n",
    "\n",
    "**Quantos dos seguintes alimentos se qualificam como sanduíche?**\n",
    "\n",
    "<center><img src='images/foods.png' width=30%></center>\n",
    "\n",
    "UMA.0\n",
    "B. 1\n",
    "C. 2\n",
    "D.3\n",
    "E. 4             \n",
    "\n",
    "_(Sempre usaremos o mesmo link para verificações de conceito, então você deve marcá-lo._)\n",
    "\n"
   ]
  },
  {
   "cell_type": "markdown",
   "metadata": {
    "slideshow": {
     "slide_type": "slide"
    }
   },
   "source": [
    "### Discussão\n",
    "\n",
    "- As seções de discussão foram elaboradas para que você pratique as **ideias conceituais** do curso.\n",
    "- Todos os trabalhos desta aula serão feitos no computador através de código, mas os exames são em papel e presenciais.\n",
    "- Para cada discussão, preparamos um conjunto de problemas, **composto de problemas de exames antigos** (ver [practice.dsc10.com](https://practice.dsc10.com)).\n",
    "- Os conjuntos de problemas são publicados online, portanto traga um computador ou tablet para acessá-los. Mas, assim como nos exames, você responderá aos problemas **no papel**.\n",
    "- Os conjuntos de problemas para discussão não são enviados a lugar nenhum.\n",
    "- A participação não é obrigatória, porém **crédito extra** é fornecido pela participação.\n",
    "- Se você comparecer, deverá comparecer à seção de discussão à qual foi designado.\n",
    "- Assim como as palestras, as discussões serão podcastadas."
   ]
  },
  {
   "cell_type": "markdown",
   "metadata": {
    "slideshow": {
     "slide_type": "slide"
    }
   },
   "source": [
    "### Cronograma de Discussão\n",
    "\n",
    "Cada aluno é designado para uma discussão específica da seguinte maneira. Você pode solicitar uma alteração de horário em [Beginning of Quarter Survey](https://forms.gle/EpXSJitSUFtBiNgN9). <span style=\"color:red\"><b>🚨 Ignore a discussão e o tempo de laboratório listados na programação do seu curso.</b></span>\n",
    "\n",
    "<center><img src='images/discussion.jpg' width=90%></center>"
   ]
  },
  {
   "cell_type": "markdown",
   "metadata": {
    "slideshow": {
     "slide_type": "slide"
    }
   },
   "source": [
    "### Laboratórios\n",
    "\n",
    "- Os laboratórios referem-se a **tarefas de laboratório**, que são uma parte obrigatória do curso e ajudam você a desenvolver fluência em Python e no trabalho com dados.\n",
    "- Ao trabalhar nos laboratórios, você poderá executar **testes de autoavaliação** que informam se suas respostas estão corretas.\n",
    "- Para laboratórios, se você passar em todos os testes do autonivelador, obterá 100\\%!\n",
    "- Você deve enviar laboratórios individualmente, mas pode discutir ideias com outras pessoas (sem compartilhamento de código).\n",
    "- Os laboratórios geralmente acontecem aos **sábados às 23h59** no Gradescope. O primeiro laboratório (previsto para sábado, 14 de janeiro) terá instruções de envio."
   ]
  },
  {
   "cell_type": "markdown",
   "metadata": {
    "slideshow": {
     "slide_type": "slide"
    }
   },
   "source": [
    "### Trabalhos de casa e projetos\n",
    "\n",
    "- As tarefas semanais de lição de casa baseiam-se nas habilidades que você desenvolve nos laboratórios.\n",
    "- Uma diferença fundamental entre trabalhos de casa e laboratórios é que **passar nos testes de autoavaliação não garante uma pontuação perfeita!**\n",
    "- Nos trabalhos de casa, temos “testes ocultos” que só são executados após o envio do trabalho.\n",
    "- Os testes que lhe são disponibilizados no próprio trabalho apenas verificam se a sua resposta é razoável/no caminho certo.\n",
    "- Novamente, você mesmo deve fazer as tarefas de casa, mas pode discutir ideias com outros alunos (sem compartilhar código).\n",
    "- Os trabalhos de casa geralmente são entregues às **terças-feiras às 23h59** e enviados ao Gradescope.\n",
    "- No **Projeto Intermediário** e no **Projeto Final**, você se aprofundará em um conjunto de dados! Os projetos são mais longos do que os trabalhos de casa, por isso damos-lhe mais tempo para trabalhar neles.\n",
    "- Projetos deste trimestre: Restaurantes 🍔 e Great British Bake Off Great British Bake Off 👩‍🍳🍰.\n",
    "- Você pode trabalhar em projetos com parceiros, seguindo estes [project partner guidelines](https://dsc10.com/project-partners). Vocês dois devem contribuir ativamente em **todas as partes** do projeto."
   ]
  },
  {
   "cell_type": "markdown",
   "metadata": {
    "slideshow": {
     "slide_type": "slide"
    }
   },
   "source": [
    "### Exames\n",
    "\n",
    "Teremos dois exames neste trimestre.\n",
    "- **Exame de meio de semestre**: sexta-feira, 10 de fevereiro, no horário agendado da aula.\n",
    "- **Exame Final**: Sábado, 18 de março, das 15h às 18h.\n",
    "- Ambos os exames serão realizados presencialmente e em papel. Deixe-nos saber se você tiver um conflito no [Beginning of Quarter Survey](https://forms.gle/EpXSJitSUFtBiNgN9)."
   ]
  },
  {
   "cell_type": "markdown",
   "metadata": {
    "slideshow": {
     "slide_type": "slide"
    }
   },
   "source": [
    "### Leituras e recursos\n",
    "\n",
    "- Faremos leituras de duas fontes. As leituras de cada palestra serão publicadas na página inicial do curso.\n",
    "- [Computational and Inferential Thinking (CIT)](https://inferencialthinking.com), o livro criado para a versão deste curso em Berkeley.\n",
    "- [`babypandas` notes](https://notes.dsc10.com), escrito especificamente para a primeira parte do DSC 10.\n",
    "- A guia [Resources](https://dsc10.com/resources) do site do curso contém links para recursos úteis que você deseja usar ao longo do curso (por exemplo, folha de referência do DSC 10, tutoriais de programação, vídeos complementares).\n",
    "- A guia [Debugging](https://dsc10.com/debugging) do site do curso contém respostas para muitos problemas técnicos comuns."
   ]
  },
  {
   "cell_type": "markdown",
   "metadata": {
    "slideshow": {
     "slide_type": "slide"
    }
   },
   "source": [
    "### Uma semana típica no DSC 10\n",
    "\n",
    "| Domingo | Segunda-feira | Terça-feira | Quarta-feira | Quinta-feira | Sexta-feira | Sábado |\n",
    "|: -- :|: -- :|: -- :|: -- :|: -- :|: -- :|: -- :|\n",
    "| Nada! 😎 | Palestra | | Palestra | | Palestra | |\n",
    "| | | | Discussão | | | |\n",
    "| | | **HW devido** | | | | **Laboratório previsto** |\n",
    "\n",
    "Consulte [Syllabus](https://dsc10.com/syllabus) para obter mais detalhes."
   ]
  },
  {
   "cell_type": "markdown",
   "metadata": {
    "slideshow": {
     "slide_type": "slide"
    }
   },
   "source": [
    "### Primeira tarefa\n",
    "- O laboratório 0 será entregue **Sábado, 14 de janeiro às 23h59**.\n",
    "- Será lançado ainda hoje\n",
    "- <span style='color:red'><b>🚨 Importante: comece cedo e envie com frequência</b>.</span>"
   ]
  },
  {
   "cell_type": "markdown",
   "metadata": {
    "slideshow": {
     "slide_type": "slide"
    }
   },
   "source": [
    "### Conseguindo ajuda\n",
    "Este é um curso difícil e rápido, mas estamos aqui para ajudá-lo – veja como:\n",
    "\n",
    "- **Horário de expediente (OH)**.\n",
    "- Remoto e presencial durante toda a semana.\n",
    "- Veja a programação e o link do Zoom no [Calendar 📆](https://dsc10.com/calendar).\n",
    "- **EdStem**.\n",
    "- Poste aqui qualquer dúvida logística ou conceitual (não envie por e-mail).\n",
    "- Nenhum código ou soluções em postagens públicas. Essas postagens devem ser privadas para instrutores + funcionários.\n",
    "- Caso contrário, poste publicamente (anonimamente, se desejar).\n",
    "- <span style=\"color:red;\"><b>🚨 Importante: use isso a seu favor!</b></span>"
   ]
  },
  {
   "cell_type": "markdown",
   "metadata": {
    "slideshow": {
     "slide_type": "slide"
    }
   },
   "source": [
    "### Oportunidade: bootcamp Python\n",
    "\n",
    "Diversity in Data Science, uma organização estudantil, está realizando um bootcamp Python de uma semana especificamente **para alunos do DSC 10 sem experiência anterior em programação**. O bootcamp é **esta semana**. Inscreva-se [here](https://docs.google.com/forms/d/e/1FAIpQLSdlRXdN6hzlC8IWGA8iuABDseRFkX22m2nATTQRJvkg_DTyPg/viewform).\n",
    "\n",
    "\n",
    "<center><img src='images/bootcamp.png' width=40%></center>"
   ]
  },
  {
   "cell_type": "markdown",
   "metadata": {
    "slideshow": {
     "slide_type": "slide"
    }
   },
   "source": [
    "### Conselhos de alunos anteriores\n",
    "\n",
    "Ao final de cada trimestre, solicitamos aos alunos do DSC 10 que dêem conselhos aos futuros alunos do curso. Aqui estão algumas respostas:\n",
    "\n",
    "> \"Vá para o horário de expediente! Arranje um parceiro para o projeto mesmo que não queira. Se você não entende algum assunto tente o seguinte: vá para o horário de expediente, pergunte no [EdStem], confira as [leituras] , veja as notas da aula. Comece as tarefas mais cedo, tente terminar 2 dias antes para verificar seu trabalho.\n",
    "\n",
    "> \"Eu aconselharia que participasse das discussões e do horário de expediente sempre que possível, pois muitas vezes me descobri aprendendo coisas novas mesmo quando não vinha com uma pergunta pronta.\"\n",
    "\n",
    "> \"NÃO fique para trás nas palestras. Torna-se muito difícil acompanhar os conceitos. Vá para a seção de discussão! Ouvir um conceito explicado uma vez pode ser difícil de entender, então a seção de discussão foi extremamente útil.\"\n",
    "\n",
    "> \"Vá para o horário de expediente! É muito importante dar voz à voz. Converse com o professor após as aulas, compareça ao horário de expediente, poste suas dúvidas e faça uma pergunta.\""
   ]
  },
  {
   "cell_type": "markdown",
   "metadata": {
    "slideshow": {
     "slide_type": "slide"
    }
   },
   "source": [
    "### Colaboração\n",
    "\n",
    "#### Fazer perguntas é altamente recomendável!\n",
    "- Discuta todas as questões entre si (exceto exames).\n",
    "- Envie tarefas de laboratório individualmente, mas você pode trabalhar com outras pessoas (sem compartilhamento de código).\n",
    "- Envie trabalhos de casa individualmente, mas você pode discutir estratégias de resolução de problemas com outras pessoas (sem compartilhamento de código).\n",
    "- Apresentar projetos individualmente ou em pares utilizando programação em pares."
   ]
  },
  {
   "cell_type": "markdown",
   "metadata": {
    "slideshow": {
     "slide_type": "fragment"
    }
   },
   "source": [
    "#### Os limites da colaboração:\n",
    "- Não compartilhem soluções entre si nem olhem o código de alguém.\n",
    "- Os parceiros do projecto devem contribuir para todas as partes do projecto. Não divida o projeto.\n",
    "- Violações de integridade acadêmica geralmente resultam em reprovação no curso."
   ]
  },
  {
   "cell_type": "markdown",
   "metadata": {
    "slideshow": {
     "slide_type": "slide"
    }
   },
   "source": [
    "### Estamos aqui para ajudá-lo!\n",
    "\n",
    "Independentemente da sua formação, você pode ter sucesso neste curso. **Nenhuma experiência anterior em programação ou estatística será assumida!**\n",
    "\n",
    "Assista no YouTube: [We’re All Data Scientists | Rebecca Nugent | TEDxCMU](https://www.youtube.com/watch?v=YMnqPTLoj7o)."
   ]
  },
  {
   "cell_type": "markdown",
   "metadata": {
    "slideshow": {
     "slide_type": "slide"
    }
   },
   "source": [
    "### Recursos do campus\n",
    "\n",
    "Serviços de Aconselhamento e Psicologia (CAPS) é uma unidade do campus que oferece “aconselhamento de curto prazo para questões acadêmicas, profissionais e pessoais e também oferece serviços de psiquiatria para circunstâncias em que a medicação pode ajudar no aconselhamento”.\n",
    "Se você ou alguém que você conhece precisar de cuidados de saúde mental, entre em contato com o CAPS.\n",
    "\n",
    "<center><h3><a href=\"https://caps.ucsd.edu/\">caps.ucsd.edu</a></h3></center>"
   ]
  },
  {
   "cell_type": "markdown",
   "metadata": {
    "slideshow": {
     "slide_type": "slide"
    }
   },
   "source": [
    "## Demonstração"
   ]
  },
  {
   "cell_type": "markdown",
   "metadata": {
    "slideshow": {
     "slide_type": "slide"
    }
   },
   "source": [
    "### Próxima vez\n",
    "\n",
    "- Na quarta-feira começaremos a programar 💻 em Python 🐍.\n",
    "- Fique atento ao anúncio via EdStem sobre se a aula de quarta-feira será remota ou presencial. De qualquer forma, as seções de discussão presencial começarão na quarta-feira!"
   ]
  }
 ],
 "metadata": {
  "kernelspec": {
   "display_name": "Python 3 (ipykernel)",
   "language": "python",
   "name": "python3"
  },
  "language_info": {
   "codemirror_mode": {
    "name": "ipython",
    "version": 3
   },
   "file_extension": ".py",
   "mimetype": "text/x-python",
   "name": "python",
   "nbconvert_exporter": "python",
   "pygments_lexer": "ipython3",
   "version": "3.11.2"
  },
  "livereveal": {
   "scroll": true,
   "transition": "none"
  },
  "rise": {
   "enable_chalkboard": true
  }
 },
 "nbformat": 4,
 "nbformat_minor": 4
}
