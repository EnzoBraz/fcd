{
 "cells": [
  {
   "cell_type": "markdown",
   "metadata": {
    "slideshow": {
     "slide_type": "slide"
    }
   },
   "source": [
    "---\n",
    "layout: page\n",
    "title: Expressões\n",
    "nav_order: 3\n",
    "---\n",
    "[<img src=\"./colab_favicon_small.png\" style=\"float: right;\">](https://colab.research.google.com/github/flaviovdf/fcd/blob/master/_lessons/03-Expressoes.ipynb)\n",
    "\n",
    "# Tópico 3 - Expressões\n",
    "\n",
    "{: .no_toc .mb-2 }\n",
    "\n",
    "Primeiros passos em Python.\n",
    "{: .fs-6 .fw-300 }\n",
    "\n",
    "{: .no_toc .text-delta }\n",
    "Resultados Esperados\n",
    "\n",
    "1. Saber o que é um notebook e um arquivo `.py`\n",
    "1. Saber realizar matemática simples em python\n",
    "1. Entender as ferramentas base da ciência de dados"
   ]
  },
  {
   "cell_type": "code",
   "execution_count": 1,
   "metadata": {
    "execution": {
     "iopub.execute_input": "2024-03-13T12:46:01.449633Z",
     "iopub.status.busy": "2024-03-13T12:46:01.449323Z",
     "iopub.status.idle": "2024-03-13T12:46:01.456839Z",
     "shell.execute_reply": "2024-03-13T12:46:01.456595Z"
    },
    "slideshow": {
     "slide_type": "skip"
    }
   },
   "outputs": [],
   "source": [
    "# Ignore este código, porém execute o mesmo\n",
    "\n",
    "from IPython.display import IFrame\n",
    "def show_nested_eval():\n",
    "    src = 'https://docs.google.com/presentation/d/e/2PACX-1vQpW0NzwT3LjZsIIDAgtSMRM1cl41Gp_Lf8k9GT-gm5sGAIynw4rsgiEFbIybClD6QtxarKaVKLbR9U/embed?start=false&loop=false&delayms=60000\" frameborder=\"0\" width=\"960\" height=\"569\" allowfullscreen=\"true\" mozallowfullscreen=\"true\" webkitallowfullscreen=\"true\"'\n",
    "    width = 960\n",
    "    height = 569\n",
    "    return IFrame(src, width, height)"
   ]
  },
  {
   "cell_type": "markdown",
   "metadata": {
    "slideshow": {
     "slide_type": "slide"
    }
   },
   "source": [
    "### Agenda\n",
    "\n",
    "- O que é código? O que são notebooks Jupyter?\n",
    "- Expressões.\n",
    "- Variáveis.\n",
    "- Expressões de chamada.\n",
    "- Tipos de dados.\n",
    "\n",
    "Muita programação – acompanhe no notebook clicando no link \"Expressões e tipos de dados\" em [course website](https://dsc10.com)."
   ]
  },
  {
   "cell_type": "markdown",
   "metadata": {
    "slideshow": {
     "slide_type": "slide"
    }
   },
   "source": [
    "## O que é código? O que são notebooks Jupyter? 💻"
   ]
  },
  {
   "cell_type": "markdown",
   "metadata": {
    "slideshow": {
     "slide_type": "slide"
    }
   },
   "source": [
    "### O que é código?\n",
    "\n",
    "- As instruções para computadores são escritas em **linguagens de programação** e são chamadas de **código**.\n",
    "- “Programas de computador” nada mais são do que **receitas**: escrevemos programas que dizem ao computador exatamente o que fazer, e ele faz exatamente isso – nada mais e nada menos."
   ]
  },
  {
   "cell_type": "markdown",
   "metadata": {
    "slideshow": {
     "slide_type": "slide"
    }
   },
   "source": [
    "### Por que Python?\n",
    "\n",
    "<center>\n",
    "<img src='https://raw.githubusercontent.com/flaviovdf/fcd/master/assets/03-Expressoes/images/languages.jpg' width=400>\n",
    "</center>\n",
    "\n",
    "- Popular.\n",
    "- Variedade de usos.\n",
    "- Desenvolvimento web.\n",
    "- Ciência de dados e aprendizado de máquina.\n",
    "- Não é realmente usado para desenvolvimento de aplicativos.\n",
    "- Fácil de mergulhar!"
   ]
  },
  {
   "cell_type": "markdown",
   "metadata": {
    "slideshow": {
     "slide_type": "slide"
    }
   },
   "source": [
    "### Notebooks Jupyter 📓\n",
    "\n",
    "- Frequentemente, mas não nesta classe, o código é escrito em um editor de texto e depois executado em uma interface de linha de comando.\n",
    "\n",
    "<center>\n",
    "<img src='https://raw.githubusercontent.com/flaviovdf/fcd/master/assets/03-Expressoes/images/terminal.png' width=800>\n",
    "</center>\n",
    "\n",
    "- **Jupyter Notebooks** nos permite escrever e executar código em um único documento. Eles também nos permitem incorporar texto e código. **Usaremos Jupyter Notebooks durante todo o trimestre**.\n",
    "- [DataHub](https://datahub.ucsd.edu) é um servidor que permite executar Jupyter Notebooks a partir de seu navegador sem precisar instalar nenhum software localmente."
   ]
  },
  {
   "cell_type": "markdown",
   "metadata": {
    "slideshow": {
     "slide_type": "slide"
    }
   },
   "source": [
    "### À parte: slides da aula\n",
    "\n",
    "- Os slides das palestras que você está vendo agora também estão no formato de um Jupyter Notebook – estamos apenas usando uma extensão (chamada _RISE_) para fazê-los parecer slides.\n",
    "- Ao clicar no link \"aula\" no site do curso, você verá o caderno de aula no formato de caderno normal.\n",
    "- Para visualizá-lo em forma de slides, clique no botão do gráfico de barras na barra de ferramentas.\n",
    "\n",
    "<center><img src='https://raw.githubusercontent.com/flaviovdf/fcd/master/assets/03-Expressoes/images/rise.png' width=10%><i>Este botão!</i></center>"
   ]
  },
  {
   "cell_type": "markdown",
   "metadata": {
    "slideshow": {
     "slide_type": "slide"
    }
   },
   "source": [
    "## Expressões"
   ]
  },
  {
   "cell_type": "markdown",
   "metadata": {
    "slideshow": {
     "slide_type": "slide"
    }
   },
   "source": [
    "### Python como calculadora\n",
    "\n",
    "- Uma **expressão** é uma combinação de valores, operadores e funções que **avalia** algum **valor**."
   ]
  },
  {
   "cell_type": "markdown",
   "metadata": {
    "slideshow": {
     "slide_type": "fragment"
    }
   },
   "source": [
    "- Por enquanto, vamos pensar no Python como uma calculadora – ele pega expressões e as avalia."
   ]
  },
  {
   "cell_type": "markdown",
   "metadata": {
    "slideshow": {
     "slide_type": "fragment"
    }
   },
   "source": [
    "- Inseriremos nossas expressões em **células de código**. Para executar uma célula de código:\n",
    "- **Pressione `shift` + `enter` (ou `shift` + `return`) no teclado (de preferência)**, ou\n",
    "- Pressione o botão \"▶ Executar\" na barra de ferramentas."
   ]
  },
  {
   "cell_type": "code",
   "execution_count": 2,
   "metadata": {
    "execution": {
     "iopub.execute_input": "2024-03-13T12:46:01.458535Z",
     "iopub.status.busy": "2024-03-13T12:46:01.458296Z",
     "iopub.status.idle": "2024-03-13T12:46:01.464069Z",
     "shell.execute_reply": "2024-03-13T12:46:01.463550Z"
    },
    "slideshow": {
     "slide_type": "fragment"
    }
   },
   "outputs": [
    {
     "data": {
      "text/plain": [
       "17"
      ]
     },
     "execution_count": 2,
     "metadata": {},
     "output_type": "execute_result"
    }
   ],
   "source": [
    "17"
   ]
  },
  {
   "cell_type": "code",
   "execution_count": 3,
   "metadata": {
    "execution": {
     "iopub.execute_input": "2024-03-13T12:46:01.484407Z",
     "iopub.status.busy": "2024-03-13T12:46:01.484286Z",
     "iopub.status.idle": "2024-03-13T12:46:01.486746Z",
     "shell.execute_reply": "2024-03-13T12:46:01.486508Z"
    }
   },
   "outputs": [
    {
     "data": {
      "text/plain": [
       "2.14"
      ]
     },
     "execution_count": 3,
     "metadata": {},
     "output_type": "execute_result"
    }
   ],
   "source": [
    "-1 + 3.14"
   ]
  },
  {
   "cell_type": "code",
   "execution_count": 4,
   "metadata": {
    "execution": {
     "iopub.execute_input": "2024-03-13T12:46:01.488220Z",
     "iopub.status.busy": "2024-03-13T12:46:01.487983Z",
     "iopub.status.idle": "2024-03-13T12:46:01.490165Z",
     "shell.execute_reply": "2024-03-13T12:46:01.489946Z"
    }
   },
   "outputs": [
    {
     "data": {
      "text/plain": [
       "8"
      ]
     },
     "execution_count": 4,
     "metadata": {},
     "output_type": "execute_result"
    }
   ],
   "source": [
    "2 ** 3"
   ]
  },
  {
   "cell_type": "code",
   "execution_count": 5,
   "metadata": {
    "execution": {
     "iopub.execute_input": "2024-03-13T12:46:01.491534Z",
     "iopub.status.busy": "2024-03-13T12:46:01.491433Z",
     "iopub.status.idle": "2024-03-13T12:46:01.493578Z",
     "shell.execute_reply": "2024-03-13T12:46:01.493360Z"
    }
   },
   "outputs": [
    {
     "data": {
      "text/plain": [
       "1.5"
      ]
     },
     "execution_count": 5,
     "metadata": {},
     "output_type": "execute_result"
    }
   ],
   "source": [
    "(17 - 14) / 2"
   ]
  },
  {
   "cell_type": "code",
   "execution_count": 6,
   "metadata": {
    "execution": {
     "iopub.execute_input": "2024-03-13T12:46:01.494787Z",
     "iopub.status.busy": "2024-03-13T12:46:01.494710Z",
     "iopub.status.idle": "2024-03-13T12:46:01.496661Z",
     "shell.execute_reply": "2024-03-13T12:46:01.496450Z"
    },
    "scrolled": true
   },
   "outputs": [
    {
     "data": {
      "text/plain": [
       "5"
      ]
     },
     "execution_count": 6,
     "metadata": {},
     "output_type": "execute_result"
    }
   ],
   "source": [
    "# Only one value is displayed. Why?\n",
    "3 * 4\n",
    "5"
   ]
  },
  {
   "cell_type": "markdown",
   "metadata": {
    "slideshow": {
     "slide_type": "slide"
    }
   },
   "source": [
    "### Operaçoes aritimeticas\n",
    "\n",
    "| Operação | Operador | Exemplo | Valor |\n",
    "| --- | --- | --- | --- |\n",
    "| Adição | `+` | `2 + 3` | `5` |\n",
    "| Subtração | `-` | `2 - 3` | `-1` |\n",
    "| Multiplicação | `*` | `2 * 3` | `6` |\n",
    "| Divisão | `/` | `7/3` | `2.66667` |\n",
    "| Restante | `%` | `7% 3` | `1` |\n",
    "| Exponenciação | `**` | `2 ** 0,5` | `1.41421` |"
   ]
  },
  {
   "cell_type": "markdown",
   "metadata": {
    "slideshow": {
     "slide_type": "slide"
    }
   },
   "source": [
    "### Python usa a ordem típica de operações – PEMDAS (BEDMAS? 🛏️)"
   ]
  },
  {
   "cell_type": "code",
   "execution_count": 7,
   "metadata": {
    "execution": {
     "iopub.execute_input": "2024-03-13T12:46:01.498036Z",
     "iopub.status.busy": "2024-03-13T12:46:01.497808Z",
     "iopub.status.idle": "2024-03-13T12:46:01.499908Z",
     "shell.execute_reply": "2024-03-13T12:46:01.499694Z"
    }
   },
   "outputs": [
    {
     "data": {
      "text/plain": [
       "12"
      ]
     },
     "execution_count": 7,
     "metadata": {},
     "output_type": "execute_result"
    }
   ],
   "source": [
    "3 * 2 ** 2"
   ]
  },
  {
   "cell_type": "code",
   "execution_count": 8,
   "metadata": {
    "execution": {
     "iopub.execute_input": "2024-03-13T12:46:01.501142Z",
     "iopub.status.busy": "2024-03-13T12:46:01.501057Z",
     "iopub.status.idle": "2024-03-13T12:46:01.503125Z",
     "shell.execute_reply": "2024-03-13T12:46:01.502912Z"
    }
   },
   "outputs": [
    {
     "data": {
      "text/plain": [
       "36"
      ]
     },
     "execution_count": 8,
     "metadata": {},
     "output_type": "execute_result"
    }
   ],
   "source": [
    "(3 * 2) ** 2"
   ]
  },
  {
   "cell_type": "markdown",
   "metadata": {
    "slideshow": {
     "slide_type": "slide"
    }
   },
   "source": [
    "### Atividade\n",
    "\n",
    "Na célula abaixo, substitua as reticências por uma expressão equivalente a\n",
    "\n",
    "$$(19 + 6 \\cdot 3) - 15 \\cdot \\left(\\sqrt{100} \\cdot \\frac{1}{30}\\right) \\cdot \\frac{3}{5} + \\frac{4 ^2}{2^3} + \\left( 6 - \\frac{2}{3} \\right) \\cdot 12 $$\n",
    "\n",
    "Tente usar parênteses somente quando necessário."
   ]
  },
  {
   "cell_type": "code",
   "execution_count": 9,
   "metadata": {
    "execution": {
     "iopub.execute_input": "2024-03-13T12:46:01.504256Z",
     "iopub.status.busy": "2024-03-13T12:46:01.504165Z",
     "iopub.status.idle": "2024-03-13T12:46:01.506172Z",
     "shell.execute_reply": "2024-03-13T12:46:01.505960Z"
    }
   },
   "outputs": [
    {
     "data": {
      "text/plain": [
       "Ellipsis"
      ]
     },
     "execution_count": 9,
     "metadata": {},
     "output_type": "execute_result"
    }
   ],
   "source": [
    "..."
   ]
  },
  {
   "cell_type": "markdown",
   "metadata": {
    "slideshow": {
     "slide_type": "slide"
    }
   },
   "source": [
    "## Variáveis"
   ]
  },
  {
   "cell_type": "markdown",
   "metadata": {
    "slideshow": {
     "slide_type": "slide"
    }
   },
   "source": [
    "### Motivação\n",
    "\n",
    "Abaixo, calculamos o número de segundos em um ano."
   ]
  },
  {
   "cell_type": "code",
   "execution_count": 10,
   "metadata": {
    "execution": {
     "iopub.execute_input": "2024-03-13T12:46:01.507416Z",
     "iopub.status.busy": "2024-03-13T12:46:01.507336Z",
     "iopub.status.idle": "2024-03-13T12:46:01.509260Z",
     "shell.execute_reply": "2024-03-13T12:46:01.509048Z"
    }
   },
   "outputs": [
    {
     "data": {
      "text/plain": [
       "31536000"
      ]
     },
     "execution_count": 10,
     "metadata": {},
     "output_type": "execute_result"
    }
   ],
   "source": [
    "60 * 60 * 24 * 365"
   ]
  },
  {
   "cell_type": "markdown",
   "metadata": {
    "slideshow": {
     "slide_type": "fragment"
    }
   },
   "source": [
    "Se quisermos utilizar o valor acima mais tarde no nosso bloco de notas para determinar, digamos, o número de segundos em 12 anos, teremos de copiar e colar a expressão. **Isso é inconveniente e propenso a introduzir erros.**"
   ]
  },
  {
   "cell_type": "code",
   "execution_count": 11,
   "metadata": {
    "execution": {
     "iopub.execute_input": "2024-03-13T12:46:01.510648Z",
     "iopub.status.busy": "2024-03-13T12:46:01.510412Z",
     "iopub.status.idle": "2024-03-13T12:46:01.512429Z",
     "shell.execute_reply": "2024-03-13T12:46:01.512190Z"
    }
   },
   "outputs": [
    {
     "data": {
      "text/plain": [
       "378432000"
      ]
     },
     "execution_count": 11,
     "metadata": {},
     "output_type": "execute_result"
    }
   ],
   "source": [
    "60 * 60 * 24 * 365 * 12"
   ]
  },
  {
   "cell_type": "markdown",
   "metadata": {
    "slideshow": {
     "slide_type": "fragment"
    }
   },
   "source": [
    "Seria ótimo se pudéssemos **armazenar** o valor inicial e consultá-lo mais tarde!"
   ]
  },
  {
   "cell_type": "markdown",
   "metadata": {
    "slideshow": {
     "slide_type": "slide"
    }
   },
   "source": [
    "### Variáveis ​​e instruções de atribuição\n",
    "\n",
    "- Uma **variável** é um local para armazenar um valor para que possa ser consultado posteriormente em nosso código. Para definir uma variável, usamos uma **instrução de atribuição**.\n",
    "\n",
    "$$ \\overbrace{\\texttt{minhavariável}}^{\\text{nome}} = \\overbrace{\\texttt{2 + 3}}^{\\text{qualquer expressão}} $$"
   ]
  },
  {
   "cell_type": "markdown",
   "metadata": {
    "slideshow": {
     "slide_type": "fragment"
    }
   },
   "source": [
    "- Uma instrução de atribuição altera o significado do **nome** à esquerda do símbolo `=`."
   ]
  },
  {
   "cell_type": "markdown",
   "metadata": {
    "slideshow": {
     "slide_type": "fragment"
    }
   },
   "source": [
    "- A expressão do lado direito do símbolo `=` é avaliada antes de ser atribuída ao nome do lado esquerdo.\n",
    "* por exemplo. `myvariable` está vinculado a `5` (valor) e não a `2 + 3` (expressão)."
   ]
  },
  {
   "cell_type": "markdown",
   "metadata": {
    "slideshow": {
     "slide_type": "slide"
    }
   },
   "source": [
    "Observe que antes de usá-lo em uma instrução de atribuição, `more_than_1` não tem significado."
   ]
  },
  {
   "cell_type": "code",
   "execution_count": 12,
   "metadata": {
    "execution": {
     "iopub.execute_input": "2024-03-13T12:46:01.513803Z",
     "iopub.status.busy": "2024-03-13T12:46:01.513724Z",
     "iopub.status.idle": "2024-03-13T12:46:01.515164Z",
     "shell.execute_reply": "2024-03-13T12:46:01.514948Z"
    },
    "scrolled": true
   },
   "outputs": [],
   "source": [
    "# Descomente e execute\n",
    "# more_than_1"
   ]
  },
  {
   "cell_type": "markdown",
   "metadata": {
    "slideshow": {
     "slide_type": "fragment"
    }
   },
   "source": [
    "Depois de usá-lo em uma instrução de atribuição, podemos perguntar ao Python seu valor."
   ]
  },
  {
   "cell_type": "code",
   "execution_count": 13,
   "metadata": {
    "execution": {
     "iopub.execute_input": "2024-03-13T12:46:01.516380Z",
     "iopub.status.busy": "2024-03-13T12:46:01.516299Z",
     "iopub.status.idle": "2024-03-13T12:46:01.517792Z",
     "shell.execute_reply": "2024-03-13T12:46:01.517578Z"
    }
   },
   "outputs": [],
   "source": [
    "# Note that an assignment statement doesn't output anything!\n",
    "more_than_1 = 15 - 5"
   ]
  },
  {
   "cell_type": "code",
   "execution_count": 14,
   "metadata": {
    "execution": {
     "iopub.execute_input": "2024-03-13T12:46:01.519048Z",
     "iopub.status.busy": "2024-03-13T12:46:01.518965Z",
     "iopub.status.idle": "2024-03-13T12:46:01.520853Z",
     "shell.execute_reply": "2024-03-13T12:46:01.520645Z"
    }
   },
   "outputs": [
    {
     "data": {
      "text/plain": [
       "10"
      ]
     },
     "execution_count": 14,
     "metadata": {},
     "output_type": "execute_result"
    }
   ],
   "source": [
    "more_than_1"
   ]
  },
  {
   "cell_type": "markdown",
   "metadata": {
    "slideshow": {
     "slide_type": "fragment"
    }
   },
   "source": [
    "Sempre que usamos `more_than_1` em uma expressão, `10` é substituído por `10`."
   ]
  },
  {
   "cell_type": "code",
   "execution_count": 15,
   "metadata": {
    "execution": {
     "iopub.execute_input": "2024-03-13T12:46:01.522160Z",
     "iopub.status.busy": "2024-03-13T12:46:01.522072Z",
     "iopub.status.idle": "2024-03-13T12:46:01.523994Z",
     "shell.execute_reply": "2024-03-13T12:46:01.523784Z"
    }
   },
   "outputs": [
    {
     "data": {
      "text/plain": [
       "20"
      ]
     },
     "execution_count": 15,
     "metadata": {},
     "output_type": "execute_result"
    }
   ],
   "source": [
    "more_than_1 * 2"
   ]
  },
  {
   "cell_type": "markdown",
   "metadata": {
    "slideshow": {
     "slide_type": "fragment"
    }
   },
   "source": [
    "Observe que a expressão acima **não alterou** o valor de `more_than_1`, porque **não reatribuímos `more_than_1`**!"
   ]
  },
  {
   "cell_type": "code",
   "execution_count": 16,
   "metadata": {
    "execution": {
     "iopub.execute_input": "2024-03-13T12:46:01.525385Z",
     "iopub.status.busy": "2024-03-13T12:46:01.525143Z",
     "iopub.status.idle": "2024-03-13T12:46:01.527245Z",
     "shell.execute_reply": "2024-03-13T12:46:01.527028Z"
    }
   },
   "outputs": [
    {
     "data": {
      "text/plain": [
       "10"
      ]
     },
     "execution_count": 16,
     "metadata": {},
     "output_type": "execute_result"
    }
   ],
   "source": [
    "more_than_1"
   ]
  },
  {
   "cell_type": "markdown",
   "metadata": {
    "slideshow": {
     "slide_type": "slide"
    }
   },
   "source": [
    "### Nomeando variáveis\n",
    "\n",
    "- Geralmente, dê nomes úteis às suas variáveis ​​para que você saiba a que elas se referem.\n",
    "- Os nomes das variáveis ​​podem conter caracteres maiúsculos e minúsculos, dígitos de 0 a 9 e sublinhados.\n",
    "- Eles não podem começar com um número.\n",
    "- Eles diferenciam maiúsculas de minúsculas!"
   ]
  },
  {
   "cell_type": "markdown",
   "metadata": {
    "slideshow": {
     "slide_type": "fragment"
    }
   },
   "source": [
    "As instruções de atribuição a seguir são **válidas**, mas usam nomes de variáveis ​​**ruins** 😕."
   ]
  },
  {
   "cell_type": "code",
   "execution_count": 17,
   "metadata": {
    "execution": {
     "iopub.execute_input": "2024-03-13T12:46:01.528500Z",
     "iopub.status.busy": "2024-03-13T12:46:01.528409Z",
     "iopub.status.idle": "2024-03-13T12:46:01.530017Z",
     "shell.execute_reply": "2024-03-13T12:46:01.529798Z"
    }
   },
   "outputs": [],
   "source": [
    "six = 15"
   ]
  },
  {
   "cell_type": "code",
   "execution_count": 18,
   "metadata": {
    "execution": {
     "iopub.execute_input": "2024-03-13T12:46:01.531244Z",
     "iopub.status.busy": "2024-03-13T12:46:01.531164Z",
     "iopub.status.idle": "2024-03-13T12:46:01.532741Z",
     "shell.execute_reply": "2024-03-13T12:46:01.532519Z"
    }
   },
   "outputs": [],
   "source": [
    "i_45love_chocolate_9999 = 60 * 60 * 24 * 365"
   ]
  },
  {
   "cell_type": "markdown",
   "metadata": {
    "slideshow": {
     "slide_type": "fragment"
    }
   },
   "source": [
    "As instruções de atribuição a seguir são **válidas** e usam nomes de variáveis ​​**bons** ✅."
   ]
  },
  {
   "cell_type": "code",
   "execution_count": 19,
   "metadata": {
    "execution": {
     "iopub.execute_input": "2024-03-13T12:46:01.533961Z",
     "iopub.status.busy": "2024-03-13T12:46:01.533881Z",
     "iopub.status.idle": "2024-03-13T12:46:01.535524Z",
     "shell.execute_reply": "2024-03-13T12:46:01.535266Z"
    },
    "tags": [
     "raises-exception"
    ]
   },
   "outputs": [],
   "source": [
    "seconds_per_hour = 60 * 60\n",
    "hours_per_year = 24 * 365\n",
    "seconds_per_year = seconds_per_hour * hours_per_year"
   ]
  },
  {
   "cell_type": "markdown",
   "metadata": {
    "slideshow": {
     "slide_type": "fragment"
    }
   },
   "source": [
    "As seguintes \"declarações de atribuição\" são **inválidas ❌**."
   ]
  },
  {
   "cell_type": "code",
   "execution_count": 20,
   "metadata": {
    "execution": {
     "iopub.execute_input": "2024-03-13T12:46:01.536944Z",
     "iopub.status.busy": "2024-03-13T12:46:01.536714Z",
     "iopub.status.idle": "2024-03-13T12:46:01.538236Z",
     "shell.execute_reply": "2024-03-13T12:46:01.538016Z"
    }
   },
   "outputs": [],
   "source": [
    "# Descomente e execute\n",
    "# 6 = 15"
   ]
  },
  {
   "cell_type": "code",
   "execution_count": 21,
   "metadata": {
    "execution": {
     "iopub.execute_input": "2024-03-13T12:46:01.539415Z",
     "iopub.status.busy": "2024-03-13T12:46:01.539335Z",
     "iopub.status.idle": "2024-03-13T12:46:01.540784Z",
     "shell.execute_reply": "2024-03-13T12:46:01.540571Z"
    }
   },
   "outputs": [],
   "source": [
    "# Descomente e execute\n",
    "# 3 = 2 + 1"
   ]
  },
  {
   "cell_type": "markdown",
   "metadata": {
    "slideshow": {
     "slide_type": "slide"
    }
   },
   "source": [
    "### Declarações de atribuição não são equações matemáticas!\n",
    "\n",
    "- Ao contrário da matemática, onde $x = 3$ significa a mesma coisa que $3 = x$, as instruções de atribuição **não** são \"simétricas\".\n",
    "- Uma instrução de atribuição atribui (ou \"liga\") o nome à esquerda de `=` ao valor à direita de `=`, nada mais."
   ]
  },
  {
   "cell_type": "code",
   "execution_count": 22,
   "metadata": {
    "execution": {
     "iopub.execute_input": "2024-03-13T12:46:01.542018Z",
     "iopub.status.busy": "2024-03-13T12:46:01.541929Z",
     "iopub.status.idle": "2024-03-13T12:46:01.543909Z",
     "shell.execute_reply": "2024-03-13T12:46:01.543682Z"
    }
   },
   "outputs": [
    {
     "data": {
      "text/plain": [
       "3"
      ]
     },
     "execution_count": 22,
     "metadata": {},
     "output_type": "execute_result"
    }
   ],
   "source": [
    "x = 3\n",
    "x"
   ]
  },
  {
   "cell_type": "code",
   "execution_count": 23,
   "metadata": {
    "execution": {
     "iopub.execute_input": "2024-03-13T12:46:01.545062Z",
     "iopub.status.busy": "2024-03-13T12:46:01.544973Z",
     "iopub.status.idle": "2024-03-13T12:46:01.546435Z",
     "shell.execute_reply": "2024-03-13T12:46:01.546226Z"
    }
   },
   "outputs": [],
   "source": [
    "# Descomente e execute\n",
    "# 4 = x"
   ]
  },
  {
   "cell_type": "markdown",
   "metadata": {
    "slideshow": {
     "slide_type": "slide"
    }
   },
   "source": [
    "### O valor de uma variável é definido no momento da atribuição"
   ]
  },
  {
   "cell_type": "code",
   "execution_count": 24,
   "metadata": {
    "execution": {
     "iopub.execute_input": "2024-03-13T12:46:01.547749Z",
     "iopub.status.busy": "2024-03-13T12:46:01.547659Z",
     "iopub.status.idle": "2024-03-13T12:46:01.549292Z",
     "shell.execute_reply": "2024-03-13T12:46:01.549073Z"
    }
   },
   "outputs": [],
   "source": [
    "uc = 2\n",
    "sd = 3 + uc"
   ]
  },
  {
   "cell_type": "markdown",
   "metadata": {
    "slideshow": {
     "slide_type": "fragment"
    }
   },
   "source": [
    "As declarações de atribuição não são **promessas** – o valor de uma variável pode mudar!"
   ]
  },
  {
   "cell_type": "code",
   "execution_count": 25,
   "metadata": {
    "execution": {
     "iopub.execute_input": "2024-03-13T12:46:01.550625Z",
     "iopub.status.busy": "2024-03-13T12:46:01.550532Z",
     "iopub.status.idle": "2024-03-13T12:46:01.552140Z",
     "shell.execute_reply": "2024-03-13T12:46:01.551894Z"
    }
   },
   "outputs": [],
   "source": [
    "uc = 7"
   ]
  },
  {
   "cell_type": "markdown",
   "metadata": {
    "slideshow": {
     "slide_type": "fragment"
    }
   },
   "source": [
    "Observe que mesmo depois de alterar `uc`, não alteramos `sd`, então ainda é o mesmo de antes."
   ]
  },
  {
   "cell_type": "code",
   "execution_count": 26,
   "metadata": {
    "execution": {
     "iopub.execute_input": "2024-03-13T12:46:01.553444Z",
     "iopub.status.busy": "2024-03-13T12:46:01.553352Z",
     "iopub.status.idle": "2024-03-13T12:46:01.555396Z",
     "shell.execute_reply": "2024-03-13T12:46:01.555154Z"
    }
   },
   "outputs": [
    {
     "data": {
      "text/plain": [
       "5"
      ]
     },
     "execution_count": 26,
     "metadata": {},
     "output_type": "execute_result"
    }
   ],
   "source": [
    "sd"
   ]
  },
  {
   "cell_type": "markdown",
   "metadata": {
    "slideshow": {
     "slide_type": "slide"
    }
   },
   "source": [
    "### Uma analogia útil\n",
    "\n",
    "<center>\n",
    "<img src='https://raw.githubusercontent.com/flaviovdf/fcd/master/assets/03-Expressoes/images/images/box.png' width=600>\n",
    "</center>\n",
    "\n",
    "- Uma metáfora comum é que as variáveis ​​são como caixas ou contêineres ([source](https://www.tomasbeuzen.com/python-programming-for-data-science/chapters/chapter1-basics.html)).\n",
    "- Outra analogia: uma declaração de atribuição é como colocar um adesivo em um valor."
   ]
  },
  {
   "cell_type": "markdown",
   "metadata": {
    "slideshow": {
     "slide_type": "slide"
    }
   },
   "source": [
    "### Verificação de conceito ✅\n",
    "\n",
    "Suponha que você executou as três linhas de código a seguir:\n",
    "\n",
    "```py\n",
    "side_length = 5\n",
    "area = side_length ** 2\n",
    "side_length = side_length + 2\n",
    "```\n",
    "\n",
    "Quais são os valores de `side_length` e `area` após a execução?\n",
    "\n",
    "A. `comprimento_lateral = 5`, `área = 25`\n",
    "\n",
    "B. `comprimento_lateral = 5`, `área = 49`\n",
    "\n",
    "C. `comprimento_lateral = 7`, `área = 25`\n",
    "\n",
    "D. `comprimento_lateral = 7`, `área = 49`\n",
    "\n",
    "E. Nenhuma das opções acima"
   ]
  },
  {
   "cell_type": "markdown",
   "metadata": {
    "slideshow": {
     "slide_type": "slide"
    }
   },
   "source": [
    "## Expressões de chamada 📞"
   ]
  },
  {
   "cell_type": "markdown",
   "metadata": {
    "slideshow": {
     "slide_type": "slide"
    }
   },
   "source": [
    "### Funções algébricas\n",
    "\n",
    "- Em matemática, as funções recebem alguma entrada e retornam alguma saída.\n",
    "\n",
    "$$f(x, y) = 2x^2 + 3xy - 1$$\n",
    "\n",
    "- Podemos determinar a saída de uma função mesmo se passarmos coisas complicadas.\n",
    "\n",
    "$$f\\left(\\frac{1+2}{3+4}, (-1)^{15}\\right)$$"
   ]
  },
  {
   "cell_type": "markdown",
   "metadata": {
    "slideshow": {
     "slide_type": "slide"
    }
   },
   "source": [
    "### Expressões de chamada\n",
    "\n",
    "* **Expressões de chamada** em Python invocam funções – elas dizem a uma função para \"executar sua receita\".\n",
    "* As funções em Python funcionam da mesma forma que as funções em matemática.\n",
    "* As entradas para funções são chamadas de **argumentos**."
   ]
  },
  {
   "cell_type": "code",
   "execution_count": 27,
   "metadata": {
    "execution": {
     "iopub.execute_input": "2024-03-13T12:46:01.556681Z",
     "iopub.status.busy": "2024-03-13T12:46:01.556599Z",
     "iopub.status.idle": "2024-03-13T12:46:01.558606Z",
     "shell.execute_reply": "2024-03-13T12:46:01.558364Z"
    }
   },
   "outputs": [
    {
     "data": {
      "text/plain": [
       "12"
      ]
     },
     "execution_count": 27,
     "metadata": {},
     "output_type": "execute_result"
    }
   ],
   "source": [
    "abs(-12)"
   ]
  },
  {
   "cell_type": "markdown",
   "metadata": {
    "slideshow": {
     "slide_type": "slide"
    }
   },
   "source": [
    "### Algumas funções podem receber um número variável de argumentos"
   ]
  },
  {
   "cell_type": "code",
   "execution_count": 28,
   "metadata": {
    "execution": {
     "iopub.execute_input": "2024-03-13T12:46:01.559800Z",
     "iopub.status.busy": "2024-03-13T12:46:01.559722Z",
     "iopub.status.idle": "2024-03-13T12:46:01.561771Z",
     "shell.execute_reply": "2024-03-13T12:46:01.561528Z"
    }
   },
   "outputs": [
    {
     "data": {
      "text/plain": [
       "3"
      ]
     },
     "execution_count": 28,
     "metadata": {},
     "output_type": "execute_result"
    }
   ],
   "source": [
    "max(3, -4)"
   ]
  },
  {
   "cell_type": "code",
   "execution_count": 29,
   "metadata": {
    "execution": {
     "iopub.execute_input": "2024-03-13T12:46:01.562938Z",
     "iopub.status.busy": "2024-03-13T12:46:01.562860Z",
     "iopub.status.idle": "2024-03-13T12:46:01.564801Z",
     "shell.execute_reply": "2024-03-13T12:46:01.564586Z"
    }
   },
   "outputs": [
    {
     "data": {
      "text/plain": [
       "10"
      ]
     },
     "execution_count": 29,
     "metadata": {},
     "output_type": "execute_result"
    }
   ],
   "source": [
    "max(2, -3, -6, 10, -4)"
   ]
  },
  {
   "cell_type": "code",
   "execution_count": 30,
   "metadata": {
    "execution": {
     "iopub.execute_input": "2024-03-13T12:46:01.566040Z",
     "iopub.status.busy": "2024-03-13T12:46:01.565957Z",
     "iopub.status.idle": "2024-03-13T12:46:01.568002Z",
     "shell.execute_reply": "2024-03-13T12:46:01.567761Z"
    }
   },
   "outputs": [
    {
     "data": {
      "text/plain": [
       "9"
      ]
     },
     "execution_count": 30,
     "metadata": {},
     "output_type": "execute_result"
    }
   ],
   "source": [
    "# Only two arguments!\n",
    "max(4 + 5, 5 - 4)"
   ]
  },
  {
   "cell_type": "markdown",
   "metadata": {
    "slideshow": {
     "slide_type": "slide"
    }
   },
   "source": [
    "### Use ```?``` depois de uma função para ver a documentação de uma função\n",
    "Ou use a função `help`, por ex. `ajuda(máx.)`."
   ]
  },
  {
   "cell_type": "code",
   "execution_count": 31,
   "metadata": {
    "execution": {
     "iopub.execute_input": "2024-03-13T12:46:01.569185Z",
     "iopub.status.busy": "2024-03-13T12:46:01.569102Z",
     "iopub.status.idle": "2024-03-13T12:46:01.571001Z",
     "shell.execute_reply": "2024-03-13T12:46:01.570769Z"
    }
   },
   "outputs": [],
   "source": [
    "max?"
   ]
  },
  {
   "cell_type": "markdown",
   "metadata": {
    "slideshow": {
     "slide_type": "slide"
    }
   },
   "source": [
    "### Exemplo: `redondo`"
   ]
  },
  {
   "cell_type": "code",
   "execution_count": 32,
   "metadata": {
    "execution": {
     "iopub.execute_input": "2024-03-13T12:46:01.572377Z",
     "iopub.status.busy": "2024-03-13T12:46:01.572300Z",
     "iopub.status.idle": "2024-03-13T12:46:01.574348Z",
     "shell.execute_reply": "2024-03-13T12:46:01.574134Z"
    }
   },
   "outputs": [
    {
     "data": {
      "text/plain": [
       "1"
      ]
     },
     "execution_count": 32,
     "metadata": {},
     "output_type": "execute_result"
    }
   ],
   "source": [
    "my_number = 1.22\n",
    "round(my_number)"
   ]
  },
  {
   "cell_type": "code",
   "execution_count": 33,
   "metadata": {
    "execution": {
     "iopub.execute_input": "2024-03-13T12:46:01.575635Z",
     "iopub.status.busy": "2024-03-13T12:46:01.575552Z",
     "iopub.status.idle": "2024-03-13T12:46:01.593525Z",
     "shell.execute_reply": "2024-03-13T12:46:01.593284Z"
    }
   },
   "outputs": [],
   "source": [
    "round?"
   ]
  },
  {
   "cell_type": "code",
   "execution_count": 34,
   "metadata": {
    "execution": {
     "iopub.execute_input": "2024-03-13T12:46:01.594833Z",
     "iopub.status.busy": "2024-03-13T12:46:01.594747Z",
     "iopub.status.idle": "2024-03-13T12:46:01.596860Z",
     "shell.execute_reply": "2024-03-13T12:46:01.596648Z"
    }
   },
   "outputs": [
    {
     "data": {
      "text/plain": [
       "1.222"
      ]
     },
     "execution_count": 34,
     "metadata": {},
     "output_type": "execute_result"
    }
   ],
   "source": [
    "round(1.22222, 3)"
   ]
  },
  {
   "cell_type": "markdown",
   "metadata": {
    "slideshow": {
     "slide_type": "slide"
    }
   },
   "source": [
    "### Avaliação aninhada\n",
    "\n",
    "Podemos **aninhar** muitas chamadas de função para avaliar expressões sofisticadas."
   ]
  },
  {
   "cell_type": "code",
   "execution_count": 35,
   "metadata": {
    "execution": {
     "iopub.execute_input": "2024-03-13T12:46:01.598089Z",
     "iopub.status.busy": "2024-03-13T12:46:01.598012Z",
     "iopub.status.idle": "2024-03-13T12:46:01.600262Z",
     "shell.execute_reply": "2024-03-13T12:46:01.600048Z"
    }
   },
   "outputs": [
    {
     "data": {
      "text/plain": [
       "1"
      ]
     },
     "execution_count": 35,
     "metadata": {},
     "output_type": "execute_result"
    }
   ],
   "source": [
    "min(abs(max(-1, -2, -3, min(4, -2))), max(5, 100))"
   ]
  },
  {
   "cell_type": "markdown",
   "metadata": {
    "slideshow": {
     "slide_type": "fragment"
    }
   },
   "source": [
    "...como isso funcionou?"
   ]
  },
  {
   "cell_type": "code",
   "execution_count": 36,
   "metadata": {
    "execution": {
     "iopub.execute_input": "2024-03-13T12:46:01.601482Z",
     "iopub.status.busy": "2024-03-13T12:46:01.601395Z",
     "iopub.status.idle": "2024-03-13T12:46:01.603409Z",
     "shell.execute_reply": "2024-03-13T12:46:01.603194Z"
    },
    "scrolled": false,
    "slideshow": {
     "slide_type": "fragment"
    }
   },
   "outputs": [
    {
     "data": {
      "text/html": [
       "\n",
       "        <iframe\n",
       "            width=\"960\"\n",
       "            height=\"569\"\n",
       "            src=\"https://docs.google.com/presentation/d/e/2PACX-1vQpW0NzwT3LjZsIIDAgtSMRM1cl41Gp_Lf8k9GT-gm5sGAIynw4rsgiEFbIybClD6QtxarKaVKLbR9U/embed?start=false&loop=false&delayms=60000\" frameborder=\"0\" width=\"960\" height=\"569\" allowfullscreen=\"true\" mozallowfullscreen=\"true\" webkitallowfullscreen=\"true\"\"\n",
       "            frameborder=\"0\"\n",
       "            allowfullscreen\n",
       "            \n",
       "        ></iframe>\n",
       "        "
      ],
      "text/plain": [
       "<IPython.lib.display.IFrame at 0x7f54fb886550>"
      ]
     },
     "execution_count": 36,
     "metadata": {},
     "output_type": "execute_result"
    }
   ],
   "source": [
    "show_nested_eval()"
   ]
  },
  {
   "cell_type": "markdown",
   "metadata": {
    "slideshow": {
     "slide_type": "slide"
    }
   },
   "source": [
    "### Importar instruções\n",
    "- Python não tem tudo que precisamos integrado.\n",
    "- Para obter funcionalidades adicionais, importamos **módulos** por meio de **instruções de importação**.\n",
    "- **Módulos** podem ser considerados coleções de funções e valores Python.\n",
    "- Chame essas funções usando a sintaxe `module.function()`, chamada \"notação de ponto\"."
   ]
  },
  {
   "cell_type": "markdown",
   "metadata": {
    "slideshow": {
     "slide_type": "slide"
    }
   },
   "source": [
    "### Exemplo: `import math`\n",
    "\n",
    "`sqrt`, `log`, `pow`, etc."
   ]
  },
  {
   "cell_type": "code",
   "execution_count": 37,
   "metadata": {
    "execution": {
     "iopub.execute_input": "2024-03-13T12:46:01.604656Z",
     "iopub.status.busy": "2024-03-13T12:46:01.604566Z",
     "iopub.status.idle": "2024-03-13T12:46:01.606152Z",
     "shell.execute_reply": "2024-03-13T12:46:01.605941Z"
    }
   },
   "outputs": [],
   "source": [
    "import math"
   ]
  },
  {
   "cell_type": "code",
   "execution_count": 38,
   "metadata": {
    "execution": {
     "iopub.execute_input": "2024-03-13T12:46:01.607384Z",
     "iopub.status.busy": "2024-03-13T12:46:01.607132Z",
     "iopub.status.idle": "2024-03-13T12:46:01.609282Z",
     "shell.execute_reply": "2024-03-13T12:46:01.609048Z"
    }
   },
   "outputs": [
    {
     "data": {
      "text/plain": [
       "3.0"
      ]
     },
     "execution_count": 38,
     "metadata": {},
     "output_type": "execute_result"
    }
   ],
   "source": [
    "math.sqrt(9)"
   ]
  },
  {
   "cell_type": "code",
   "execution_count": 39,
   "metadata": {
    "execution": {
     "iopub.execute_input": "2024-03-13T12:46:01.610563Z",
     "iopub.status.busy": "2024-03-13T12:46:01.610485Z",
     "iopub.status.idle": "2024-03-13T12:46:01.612410Z",
     "shell.execute_reply": "2024-03-13T12:46:01.612195Z"
    }
   },
   "outputs": [
    {
     "data": {
      "text/plain": [
       "9.0"
      ]
     },
     "execution_count": 39,
     "metadata": {},
     "output_type": "execute_result"
    }
   ],
   "source": [
    "math.pow(3, 2)"
   ]
  },
  {
   "cell_type": "code",
   "execution_count": 40,
   "metadata": {
    "execution": {
     "iopub.execute_input": "2024-03-13T12:46:01.613606Z",
     "iopub.status.busy": "2024-03-13T12:46:01.613528Z",
     "iopub.status.idle": "2024-03-13T12:46:01.615249Z",
     "shell.execute_reply": "2024-03-13T12:46:01.615022Z"
    }
   },
   "outputs": [],
   "source": [
    "# What base is log?\n",
    "math.log?"
   ]
  },
  {
   "cell_type": "markdown",
   "metadata": {
    "slideshow": {
     "slide_type": "fragment"
    }
   },
   "source": [
    "Ele também possui constantes integradas!"
   ]
  },
  {
   "cell_type": "code",
   "execution_count": 41,
   "metadata": {
    "execution": {
     "iopub.execute_input": "2024-03-13T12:46:01.616440Z",
     "iopub.status.busy": "2024-03-13T12:46:01.616360Z",
     "iopub.status.idle": "2024-03-13T12:46:01.618261Z",
     "shell.execute_reply": "2024-03-13T12:46:01.618049Z"
    }
   },
   "outputs": [
    {
     "data": {
      "text/plain": [
       "3.141592653589793"
      ]
     },
     "execution_count": 41,
     "metadata": {},
     "output_type": "execute_result"
    }
   ],
   "source": [
    "math.pi"
   ]
  },
  {
   "cell_type": "markdown",
   "metadata": {
    "slideshow": {
     "slide_type": "slide"
    }
   },
   "source": [
    "### Verificação de conceito ✅\n",
    "\n",
    "Suponha que você executou as seguintes instruções:\n",
    "\n",
    "```py\n",
    "x = 3\n",
    "y = -2\n",
    "```\n",
    "\n",
    "Qual desses exemplos resulta em um erro?\n",
    "\n",
    "A. `abs(x, y)`\n",
    "\n",
    "B. `math.pow(x, abs(y))`\n",
    "\n",
    "C. `redondo (x, max (abs (y ** 2)))`\n",
    "\n",
    "D. `math.pow(x, math.pow(y, x))`\n",
    "\n",
    "E. Mais de um dos itens acima"
   ]
  },
  {
   "cell_type": "code",
   "execution_count": null,
   "metadata": {
    "slideshow": {
     "slide_type": "-"
    }
   },
   "outputs": [],
   "source": []
  },
  {
   "cell_type": "markdown",
   "metadata": {
    "slideshow": {
     "slide_type": "slide"
    }
   },
   "source": [
    "## Tipos de dados"
   ]
  },
  {
   "cell_type": "markdown",
   "metadata": {
    "slideshow": {
     "slide_type": "slide"
    }
   },
   "source": [
    "### Qual é a diferença? 🧐"
   ]
  },
  {
   "cell_type": "code",
   "execution_count": 42,
   "metadata": {
    "execution": {
     "iopub.execute_input": "2024-03-13T12:46:01.619486Z",
     "iopub.status.busy": "2024-03-13T12:46:01.619403Z",
     "iopub.status.idle": "2024-03-13T12:46:01.621301Z",
     "shell.execute_reply": "2024-03-13T12:46:01.621087Z"
    }
   },
   "outputs": [
    {
     "data": {
      "text/plain": [
       "2.0"
      ]
     },
     "execution_count": 42,
     "metadata": {},
     "output_type": "execute_result"
    }
   ],
   "source": [
    "4 / 2"
   ]
  },
  {
   "cell_type": "code",
   "execution_count": 43,
   "metadata": {
    "execution": {
     "iopub.execute_input": "2024-03-13T12:46:01.622502Z",
     "iopub.status.busy": "2024-03-13T12:46:01.622425Z",
     "iopub.status.idle": "2024-03-13T12:46:01.624434Z",
     "shell.execute_reply": "2024-03-13T12:46:01.624189Z"
    }
   },
   "outputs": [
    {
     "data": {
      "text/plain": [
       "2"
      ]
     },
     "execution_count": 43,
     "metadata": {},
     "output_type": "execute_result"
    }
   ],
   "source": [
    "5 - 3"
   ]
  },
  {
   "cell_type": "markdown",
   "metadata": {
    "slideshow": {
     "slide_type": "fragment"
    }
   },
   "source": [
    "Para nós, `2.0` e `2` são o mesmo número, $2$. Mas para Python, isso parece ser diferente!"
   ]
  },
  {
   "cell_type": "markdown",
   "metadata": {
    "slideshow": {
     "slide_type": "slide"
    }
   },
   "source": [
    "### Tipos de dados\n",
    "- Todo valor em Python tem um **tipo**.\n",
    "- Use a função `type` para verificar o tipo de um valor.\n",
    "- É importante entender como diferentes tipos funcionam com diferentes operações, pois os resultados podem nem sempre ser os que esperamos."
   ]
  },
  {
   "cell_type": "markdown",
   "metadata": {
    "slideshow": {
     "slide_type": "slide"
    }
   },
   "source": [
    "### Dois tipos de dados numéricos: ```int``` e ```float```\n",
    "- ```int``` : Um número inteiro de qualquer tamanho.\n",
    "- ```float```: Um número com ponto decimal."
   ]
  },
  {
   "cell_type": "markdown",
   "metadata": {
    "slideshow": {
     "slide_type": "slide"
    }
   },
   "source": [
    "### ```int```\n",
    "- Se você usar essas operações entre `int`s (`+`, `-`, `*`, `**`), o resultado será outro `int`.\n",
    "- `int`s têm precisão arbitrária em Python, o que significa que seus cálculos serão sempre exatos."
   ]
  },
  {
   "cell_type": "code",
   "execution_count": 44,
   "metadata": {
    "execution": {
     "iopub.execute_input": "2024-03-13T12:46:01.625756Z",
     "iopub.status.busy": "2024-03-13T12:46:01.625667Z",
     "iopub.status.idle": "2024-03-13T12:46:01.627726Z",
     "shell.execute_reply": "2024-03-13T12:46:01.627471Z"
    }
   },
   "outputs": [
    {
     "data": {
      "text/plain": [
       "8"
      ]
     },
     "execution_count": 44,
     "metadata": {},
     "output_type": "execute_result"
    }
   ],
   "source": [
    "3 + 5"
   ]
  },
  {
   "cell_type": "code",
   "execution_count": 45,
   "metadata": {
    "execution": {
     "iopub.execute_input": "2024-03-13T12:46:01.629012Z",
     "iopub.status.busy": "2024-03-13T12:46:01.628928Z",
     "iopub.status.idle": "2024-03-13T12:46:01.631097Z",
     "shell.execute_reply": "2024-03-13T12:46:01.630860Z"
    }
   },
   "outputs": [
    {
     "data": {
      "text/plain": [
       "int"
      ]
     },
     "execution_count": 45,
     "metadata": {},
     "output_type": "execute_result"
    }
   ],
   "source": [
    "type(3 + 5)"
   ]
  },
  {
   "cell_type": "code",
   "execution_count": 46,
   "metadata": {
    "execution": {
     "iopub.execute_input": "2024-03-13T12:46:01.632318Z",
     "iopub.status.busy": "2024-03-13T12:46:01.632233Z",
     "iopub.status.idle": "2024-03-13T12:46:01.634341Z",
     "shell.execute_reply": "2024-03-13T12:46:01.634046Z"
    }
   },
   "outputs": [
    {
     "data": {
      "text/plain": [
       "2037035976334486086268445688409378161051468393665936250636140449354381299763336706183397376"
      ]
     },
     "execution_count": 46,
     "metadata": {},
     "output_type": "execute_result"
    }
   ],
   "source": [
    "2 ** 300"
   ]
  },
  {
   "cell_type": "code",
   "execution_count": 47,
   "metadata": {
    "execution": {
     "iopub.execute_input": "2024-03-13T12:46:01.635704Z",
     "iopub.status.busy": "2024-03-13T12:46:01.635618Z",
     "iopub.status.idle": "2024-03-13T12:46:01.637787Z",
     "shell.execute_reply": "2024-03-13T12:46:01.637541Z"
    },
    "scrolled": true
   },
   "outputs": [
    {
     "data": {
      "text/plain": [
       "1230231922161117176931558813276752514640713895736833715766118029160058800614672948775360067838593459582429649254051804908512884180898236823585082482065348331234959350355845017413023320111360666922624728239756880416434478315693675013413090757208690376793296658810662941824493488451726505303712916005346747908623702673480919353936813105736620402352744776903840477883651100322409301983488363802930540482487909763484098253940728685132044408863734754271212592471778643949486688511721051561970432780747454823776808464180697103083861812184348565522740195796682622205511845512080552010310050255801589349645928001133745474220715013683413907542779063759833876101354235184245096670042160720629411581502371248008430447184842098610320580417992206662247328722122088513643683907670360209162653670641130936997002170500675501374723998766005827579300723253474890612250135171889174899079911291512399773872178519018229989376"
      ]
     },
     "execution_count": 47,
     "metadata": {},
     "output_type": "execute_result"
    }
   ],
   "source": [
    "2 ** 3000"
   ]
  },
  {
   "cell_type": "markdown",
   "metadata": {
    "slideshow": {
     "slide_type": "slide"
    }
   },
   "source": [
    "### ```float```\n",
    "* Um `float` é especificado usando um ponto **decimal**.\n",
    "* Um `float` pode ser impresso usando notação científica."
   ]
  },
  {
   "cell_type": "code",
   "execution_count": 48,
   "metadata": {
    "execution": {
     "iopub.execute_input": "2024-03-13T12:46:01.639112Z",
     "iopub.status.busy": "2024-03-13T12:46:01.639025Z",
     "iopub.status.idle": "2024-03-13T12:46:01.640994Z",
     "shell.execute_reply": "2024-03-13T12:46:01.640734Z"
    }
   },
   "outputs": [
    {
     "data": {
      "text/plain": [
       "5.2"
      ]
     },
     "execution_count": 48,
     "metadata": {},
     "output_type": "execute_result"
    }
   ],
   "source": [
    "2.0 + 3.2"
   ]
  },
  {
   "cell_type": "code",
   "execution_count": 49,
   "metadata": {
    "execution": {
     "iopub.execute_input": "2024-03-13T12:46:01.642331Z",
     "iopub.status.busy": "2024-03-13T12:46:01.642251Z",
     "iopub.status.idle": "2024-03-13T12:46:01.644263Z",
     "shell.execute_reply": "2024-03-13T12:46:01.643991Z"
    }
   },
   "outputs": [
    {
     "data": {
      "text/plain": [
       "float"
      ]
     },
     "execution_count": 49,
     "metadata": {},
     "output_type": "execute_result"
    }
   ],
   "source": [
    "type(2.0 + 3.2)"
   ]
  },
  {
   "cell_type": "code",
   "execution_count": 50,
   "metadata": {
    "execution": {
     "iopub.execute_input": "2024-03-13T12:46:01.645418Z",
     "iopub.status.busy": "2024-03-13T12:46:01.645329Z",
     "iopub.status.idle": "2024-03-13T12:46:01.647557Z",
     "shell.execute_reply": "2024-03-13T12:46:01.647243Z"
    }
   },
   "outputs": [
    {
     "data": {
      "text/plain": [
       "2.037035976334486e+90"
      ]
     },
     "execution_count": 50,
     "metadata": {},
     "output_type": "execute_result"
    }
   ],
   "source": [
    "2.0 ** 300"
   ]
  },
  {
   "cell_type": "markdown",
   "metadata": {
    "slideshow": {
     "slide_type": "slide"
    }
   },
   "source": [
    "### As armadilhas do ```float```\n",
    "* `float`s têm tamanho limitado (mas o limite é enorme).\n",
    "* `float`s têm precisão limitada de 15-16 casas decimais.\n",
    "* Depois da aritmética, as últimas casas decimais podem estar erradas de maneiras inesperadas (precisão limitada!)."
   ]
  },
  {
   "cell_type": "code",
   "execution_count": 51,
   "metadata": {
    "execution": {
     "iopub.execute_input": "2024-03-13T12:46:01.648884Z",
     "iopub.status.busy": "2024-03-13T12:46:01.648783Z",
     "iopub.status.idle": "2024-03-13T12:46:01.650845Z",
     "shell.execute_reply": "2024-03-13T12:46:01.650594Z"
    },
    "slideshow": {
     "slide_type": "-"
    }
   },
   "outputs": [
    {
     "data": {
      "text/plain": [
       "1.2"
      ]
     },
     "execution_count": 51,
     "metadata": {},
     "output_type": "execute_result"
    }
   ],
   "source": [
    "1 + 0.2"
   ]
  },
  {
   "cell_type": "code",
   "execution_count": 52,
   "metadata": {
    "execution": {
     "iopub.execute_input": "2024-03-13T12:46:01.652076Z",
     "iopub.status.busy": "2024-03-13T12:46:01.651986Z",
     "iopub.status.idle": "2024-03-13T12:46:01.654003Z",
     "shell.execute_reply": "2024-03-13T12:46:01.653764Z"
    },
    "tags": [
     "raises-exception"
    ]
   },
   "outputs": [
    {
     "data": {
      "text/plain": [
       "1.2000000000000002"
      ]
     },
     "execution_count": 52,
     "metadata": {},
     "output_type": "execute_result"
    }
   ],
   "source": [
    "1 + 0.1 + 0.1"
   ]
  },
  {
   "cell_type": "code",
   "execution_count": 53,
   "metadata": {
    "execution": {
     "iopub.execute_input": "2024-03-13T12:46:01.655115Z",
     "iopub.status.busy": "2024-03-13T12:46:01.655026Z",
     "iopub.status.idle": "2024-03-13T12:46:01.656478Z",
     "shell.execute_reply": "2024-03-13T12:46:01.656224Z"
    }
   },
   "outputs": [],
   "source": [
    "# Descomente e execute\n",
    "# 2.0 ** 3000"
   ]
  },
  {
   "cell_type": "markdown",
   "metadata": {
    "slideshow": {
     "slide_type": "slide"
    }
   },
   "source": [
    "### Coerção de tipo entre ```int``` e ```float```\n",
    "- Por padrão, Python muda um `int` para um `float` em uma expressão mista envolvendo ambos os tipos.\n",
    "- Observe que a divisão de dois `int`s retorna automaticamente um valor `float`.\n",
    "- Um valor pode ser explicitamente **coagido** (ou seja, convertido) usando as funções ```int``` e ```float```."
   ]
  },
  {
   "cell_type": "code",
   "execution_count": 54,
   "metadata": {
    "execution": {
     "iopub.execute_input": "2024-03-13T12:46:01.657744Z",
     "iopub.status.busy": "2024-03-13T12:46:01.657651Z",
     "iopub.status.idle": "2024-03-13T12:46:01.659633Z",
     "shell.execute_reply": "2024-03-13T12:46:01.659366Z"
    },
    "slideshow": {
     "slide_type": "-"
    }
   },
   "outputs": [
    {
     "data": {
      "text/plain": [
       "5.0"
      ]
     },
     "execution_count": 54,
     "metadata": {},
     "output_type": "execute_result"
    }
   ],
   "source": [
    "2.0 + 3"
   ]
  },
  {
   "cell_type": "code",
   "execution_count": 55,
   "metadata": {
    "execution": {
     "iopub.execute_input": "2024-03-13T12:46:01.660888Z",
     "iopub.status.busy": "2024-03-13T12:46:01.660795Z",
     "iopub.status.idle": "2024-03-13T12:46:01.662818Z",
     "shell.execute_reply": "2024-03-13T12:46:01.662545Z"
    }
   },
   "outputs": [
    {
     "data": {
      "text/plain": [
       "2.0"
      ]
     },
     "execution_count": 55,
     "metadata": {},
     "output_type": "execute_result"
    }
   ],
   "source": [
    "2 / 1"
   ]
  },
  {
   "cell_type": "code",
   "execution_count": 56,
   "metadata": {
    "execution": {
     "iopub.execute_input": "2024-03-13T12:46:01.664071Z",
     "iopub.status.busy": "2024-03-13T12:46:01.663982Z",
     "iopub.status.idle": "2024-03-13T12:46:01.665989Z",
     "shell.execute_reply": "2024-03-13T12:46:01.665725Z"
    }
   },
   "outputs": [
    {
     "data": {
      "text/plain": [
       "2"
      ]
     },
     "execution_count": 56,
     "metadata": {},
     "output_type": "execute_result"
    }
   ],
   "source": [
    "# Want an integer back\n",
    "int(2 / 1)"
   ]
  },
  {
   "cell_type": "code",
   "execution_count": 57,
   "metadata": {
    "execution": {
     "iopub.execute_input": "2024-03-13T12:46:01.667123Z",
     "iopub.status.busy": "2024-03-13T12:46:01.667031Z",
     "iopub.status.idle": "2024-03-13T12:46:01.669020Z",
     "shell.execute_reply": "2024-03-13T12:46:01.668748Z"
    }
   },
   "outputs": [
    {
     "data": {
      "text/plain": [
       "3"
      ]
     },
     "execution_count": 57,
     "metadata": {},
     "output_type": "execute_result"
    }
   ],
   "source": [
    "# int chops off the decimal point, effectively rounding DOWN\n",
    "int(3.9)"
   ]
  },
  {
   "cell_type": "markdown",
   "metadata": {
    "slideshow": {
     "slide_type": "slide"
    }
   },
   "source": [
    "### À parte: modelo de memória Jupyter\n",
    "\n",
    "<center><img src='https://raw.githubusercontent.com/flaviovdf/fcd/master/assets/03-Expressoes/images/elephant.png' width=20%></center>\n",
    "\n",
    "Nosso caderno **ainda** lembra todas as variáveis ​​que definimos anteriormente na aula."
   ]
  },
  {
   "cell_type": "code",
   "execution_count": 58,
   "metadata": {
    "execution": {
     "iopub.execute_input": "2024-03-13T12:46:01.670330Z",
     "iopub.status.busy": "2024-03-13T12:46:01.670249Z",
     "iopub.status.idle": "2024-03-13T12:46:01.672126Z",
     "shell.execute_reply": "2024-03-13T12:46:01.671871Z"
    }
   },
   "outputs": [
    {
     "data": {
      "text/plain": [
       "10"
      ]
     },
     "execution_count": 58,
     "metadata": {},
     "output_type": "execute_result"
    }
   ],
   "source": [
    "more_than_1"
   ]
  },
  {
   "cell_type": "markdown",
   "metadata": {
    "slideshow": {
     "slide_type": "fragment"
    }
   },
   "source": [
    "- No entanto, se você voltar ao seu notebook depois de algumas horas, ele normalmente “esquecerá” todas as variáveis ​​que conhecia.\n",
    "- Quando isso acontecer, você precisará executar novamente as células do seu notebook.\n",
    "- Veja [Navigating DataHub and Jupyter Notebooks](https://www.youtube.com/watch?v=Hq8VaNirDRQ) para mais."
   ]
  },
  {
   "cell_type": "markdown",
   "metadata": {
    "slideshow": {
     "slide_type": "slide"
    }
   },
   "source": [
    "## Resumo, da próxima vez"
   ]
  },
  {
   "cell_type": "markdown",
   "metadata": {
    "slideshow": {
     "slide_type": "slide"
    }
   },
   "source": [
    "### Resumo\n",
    "\n",
    "- Expressões são avaliadas como valores. Python exibirá o valor da última expressão em uma célula por padrão.\n",
    "- Python conhece todos os operadores matemáticos padrão e segue PEMDAS.\n",
    "- As instruções de atribuição nos permitem vincular valores a variáveis.\n",
    "- Podemos chamar funções em Python da mesma forma que chamamos funções em matemática.\n",
    "- Python conhece algumas funções por padrão, e as instruções de importação nos permitem trazer funcionalidades adicionais dos módulos.\n",
    "- Todos os valores em Python possuem um tipo de dados.\n",
    "- `int`s e `float`s são números.\n",
    "- `int`s são inteiros, enquanto `float`s contêm pontos decimais."
   ]
  },
  {
   "cell_type": "markdown",
   "metadata": {
    "slideshow": {
     "slide_type": "slide"
    }
   },
   "source": [
    "### Próxima vez\n",
    "\n",
    "- Aprenderemos sobre strings, um tipo de dados em Python projetado para armazenar texto.\n",
    "- Também aprenderemos como armazenar sequências, ou muitas informações, em uma única variável.\n",
    "\n",
    "**Observação:** Apresentaremos alguns códigos em laboratórios e trabalhos de casa também. Nem tudo estará em palestra. **Você aprenderá fazendo!**"
   ]
  }
 ],
 "metadata": {
  "kernelspec": {
   "display_name": "Python 3 (ipykernel)",
   "language": "python",
   "name": "python3"
  },
  "language_info": {
   "codemirror_mode": {
    "name": "ipython",
    "version": 3
   },
   "file_extension": ".py",
   "mimetype": "text/x-python",
   "name": "python",
   "nbconvert_exporter": "python",
   "pygments_lexer": "ipython3",
   "version": "3.11.6"
  },
  "livereveal": {
   "scroll": true,
   "transition": "none"
  },
  "rise": {
   "enable_chalkboard": true
  }
 },
 "nbformat": 4,
 "nbformat_minor": 2
}
