{
 "cells": [
  {
   "cell_type": "markdown",
   "metadata": {
    "slideshow": {
     "slide_type": "slide"
    }
   },
   "source": [
    "---\n",
    "layout: page\n",
    "title: Expressões\n",
    "nav_order: 3\n",
    "---\n",
    "[<img src=\"./colab_favicon_small.png\" style=\"float: right;\">](https://colab.research.google.com/github/flaviovdf/fcd/blob/master/_lessons/03-Expressoes.ipynb)\n",
    "\n",
    "# Tópico 3 - Expressões\n",
    "\n",
    "{: .no_toc .mb-2 }\n",
    "\n",
    "Primeiros passos em Python.\n",
    "{: .fs-6 .fw-300 }\n",
    "\n",
    "{: .no_toc .text-delta }\n",
    "Resultados Esperados\n",
    "\n",
    "1. Saber o que é um notebook e um arquivo `.py`\n",
    "1. Saber realizar matemática simples em python\n",
    "1. Entender as ferramentas base da ciência de dados"
   ]
  },
  {
   "cell_type": "code",
   "execution_count": 1,
   "metadata": {
    "execution": {
     "iopub.execute_input": "2024-03-14T16:14:26.589794Z",
     "iopub.status.busy": "2024-03-14T16:14:26.588902Z",
     "iopub.status.idle": "2024-03-14T16:14:26.608654Z",
     "shell.execute_reply": "2024-03-14T16:14:26.606686Z"
    },
    "slideshow": {
     "slide_type": "skip"
    }
   },
   "outputs": [],
   "source": [
    "# Ignore este código, porém execute o mesmo\n",
    "\n",
    "from IPython.display import IFrame\n",
    "def show_nested_eval():\n",
    "    src = 'https://docs.google.com/presentation/d/e/2PACX-1vQpW0NzwT3LjZsIIDAgtSMRM1cl41Gp_Lf8k9GT-gm5sGAIynw4rsgiEFbIybClD6QtxarKaVKLbR9U/embed?start=false&loop=false&delayms=60000\" frameborder=\"0\" width=\"960\" height=\"569\" allowfullscreen=\"true\" mozallowfullscreen=\"true\" webkitallowfullscreen=\"true\"'\n",
    "    width = 960\n",
    "    height = 569\n",
    "    return IFrame(src, width, height)"
   ]
  },
  {
   "cell_type": "markdown",
   "metadata": {
    "slideshow": {
     "slide_type": "slide"
    }
   },
   "source": [
    "### Agenda\n",
    "\n",
    "- O que é código? O que são notebooks Jupyter?\n",
    "- Expressões.\n",
    "- Variáveis.\n",
    "- Expressões de chamada.\n",
    "- Tipos de dados.\n",
    "\n",
    "Muita programação – acompanhe no notebook clicando no link do Collab acima!"
   ]
  },
  {
   "cell_type": "markdown",
   "metadata": {
    "slideshow": {
     "slide_type": "slide"
    }
   },
   "source": [
    "## O que é código? O que são notebooks Jupyter? 💻"
   ]
  },
  {
   "cell_type": "markdown",
   "metadata": {
    "slideshow": {
     "slide_type": "slide"
    }
   },
   "source": [
    "### O que é código?\n",
    "\n",
    "- As instruções para computadores são escritas em **linguagens de programação** e são chamadas de **código**.\n",
    "- “Programas de computador” nada mais são do que **receitas**: escrevemos programas que dizem ao computador exatamente o que fazer, e ele faz exatamente isso – nada mais e nada menos."
   ]
  },
  {
   "cell_type": "markdown",
   "metadata": {
    "slideshow": {
     "slide_type": "slide"
    }
   },
   "source": [
    "### Por que Python?\n",
    "\n",
    "<center>\n",
    "<img src='https://raw.githubusercontent.com/flaviovdf/fcd/master/assets/03-Expressoes/images/languages.jpg' width=400>\n",
    "</center>\n",
    "\n",
    "- Popular.\n",
    "- Variedade de usos.\n",
    "- Desenvolvimento web.\n",
    "- Ciência de dados e aprendizado de máquina.\n",
    "- Não é realmente usado para desenvolvimento de aplicativos.\n",
    "- Fácil de mergulhar!"
   ]
  },
  {
   "cell_type": "markdown",
   "metadata": {
    "slideshow": {
     "slide_type": "slide"
    }
   },
   "source": [
    "### Notebooks Jupyter 📓\n",
    "\n",
    "- Frequentemente, mas não nesta classe, o código é escrito em um editor de texto e depois executado em uma interface de linha de comando.\n",
    "\n",
    "<center>\n",
    "<img src='https://raw.githubusercontent.com/flaviovdf/fcd/master/assets/03-Expressoes/images/terminal.png' width=800>\n",
    "</center>\n",
    "\n",
    "- **Jupyter Notebooks** nos permite escrever e executar código em um único documento. Eles também nos permitem incorporar texto e código. **Usaremos Jupyter Notebooks durante todo o trimestre**."
   ]
  },
  {
   "cell_type": "markdown",
   "metadata": {
    "slideshow": {
     "slide_type": "slide"
    }
   },
   "source": [
    "## Expressões"
   ]
  },
  {
   "cell_type": "markdown",
   "metadata": {
    "slideshow": {
     "slide_type": "slide"
    }
   },
   "source": [
    "### Python como calculadora\n",
    "\n",
    "- Uma **expressão** é uma combinação de valores, operadores e funções que **avalia** algum **valor**."
   ]
  },
  {
   "cell_type": "markdown",
   "metadata": {
    "slideshow": {
     "slide_type": "fragment"
    }
   },
   "source": [
    "- Por enquanto, vamos pensar no Python como uma calculadora – ele pega expressões e as avalia."
   ]
  },
  {
   "cell_type": "markdown",
   "metadata": {
    "slideshow": {
     "slide_type": "fragment"
    }
   },
   "source": [
    "- Inseriremos nossas expressões em **células de código**. Para executar uma célula de código:\n",
    "- **Pressione `shift` + `enter` (ou `shift` + `return`) no teclado (de preferência)**, ou\n",
    "- Pressione o botão \"▶ Executar\" na barra de ferramentas."
   ]
  },
  {
   "cell_type": "code",
   "execution_count": 2,
   "metadata": {
    "execution": {
     "iopub.execute_input": "2024-03-14T16:14:26.616787Z",
     "iopub.status.busy": "2024-03-14T16:14:26.616262Z",
     "iopub.status.idle": "2024-03-14T16:14:26.625716Z",
     "shell.execute_reply": "2024-03-14T16:14:26.624820Z"
    },
    "slideshow": {
     "slide_type": "fragment"
    }
   },
   "outputs": [
    {
     "data": {
      "text/plain": [
       "17"
      ]
     },
     "execution_count": 2,
     "metadata": {},
     "output_type": "execute_result"
    }
   ],
   "source": [
    "17"
   ]
  },
  {
   "cell_type": "code",
   "execution_count": 3,
   "metadata": {
    "execution": {
     "iopub.execute_input": "2024-03-14T16:14:26.663301Z",
     "iopub.status.busy": "2024-03-14T16:14:26.663091Z",
     "iopub.status.idle": "2024-03-14T16:14:26.667495Z",
     "shell.execute_reply": "2024-03-14T16:14:26.666782Z"
    }
   },
   "outputs": [
    {
     "data": {
      "text/plain": [
       "2.14"
      ]
     },
     "execution_count": 3,
     "metadata": {},
     "output_type": "execute_result"
    }
   ],
   "source": [
    "-1 + 3.14"
   ]
  },
  {
   "cell_type": "code",
   "execution_count": 4,
   "metadata": {
    "execution": {
     "iopub.execute_input": "2024-03-14T16:14:26.670214Z",
     "iopub.status.busy": "2024-03-14T16:14:26.670020Z",
     "iopub.status.idle": "2024-03-14T16:14:26.674176Z",
     "shell.execute_reply": "2024-03-14T16:14:26.673515Z"
    }
   },
   "outputs": [
    {
     "data": {
      "text/plain": [
       "8"
      ]
     },
     "execution_count": 4,
     "metadata": {},
     "output_type": "execute_result"
    }
   ],
   "source": [
    "2 ** 3"
   ]
  },
  {
   "cell_type": "code",
   "execution_count": 5,
   "metadata": {
    "execution": {
     "iopub.execute_input": "2024-03-14T16:14:26.677254Z",
     "iopub.status.busy": "2024-03-14T16:14:26.676813Z",
     "iopub.status.idle": "2024-03-14T16:14:26.681036Z",
     "shell.execute_reply": "2024-03-14T16:14:26.680313Z"
    }
   },
   "outputs": [
    {
     "data": {
      "text/plain": [
       "1.5"
      ]
     },
     "execution_count": 5,
     "metadata": {},
     "output_type": "execute_result"
    }
   ],
   "source": [
    "(17 - 14) / 2"
   ]
  },
  {
   "cell_type": "code",
   "execution_count": 6,
   "metadata": {
    "execution": {
     "iopub.execute_input": "2024-03-14T16:14:26.684471Z",
     "iopub.status.busy": "2024-03-14T16:14:26.683838Z",
     "iopub.status.idle": "2024-03-14T16:14:26.688121Z",
     "shell.execute_reply": "2024-03-14T16:14:26.687448Z"
    },
    "scrolled": true
   },
   "outputs": [
    {
     "data": {
      "text/plain": [
       "5"
      ]
     },
     "execution_count": 6,
     "metadata": {},
     "output_type": "execute_result"
    }
   ],
   "source": [
    "# Only one value is displayed. Why?\n",
    "3 * 4\n",
    "5"
   ]
  },
  {
   "cell_type": "markdown",
   "metadata": {
    "slideshow": {
     "slide_type": "slide"
    }
   },
   "source": [
    "### Operaçoes aritimeticas\n",
    "\n",
    "| Operação | Operador | Exemplo | Valor |\n",
    "| --- | --- | --- | --- |\n",
    "| Adição | `+` | `2 + 3` | `5` |\n",
    "| Subtração | `-` | `2 - 3` | `-1` |\n",
    "| Multiplicação | `*` | `2 * 3` | `6` |\n",
    "| Divisão | `/` | `7/3` | `2.66667` |\n",
    "| Restante | `%` | `7% 3` | `1` |\n",
    "| Exponenciação | `**` | `2 ** 0,5` | `1.41421` |"
   ]
  },
  {
   "cell_type": "markdown",
   "metadata": {
    "slideshow": {
     "slide_type": "slide"
    }
   },
   "source": [
    "### Python usa a ordem típica de operações – PEMDAS (BEDMAS? 🛏️)"
   ]
  },
  {
   "cell_type": "code",
   "execution_count": 7,
   "metadata": {
    "execution": {
     "iopub.execute_input": "2024-03-14T16:14:26.691161Z",
     "iopub.status.busy": "2024-03-14T16:14:26.690910Z",
     "iopub.status.idle": "2024-03-14T16:14:26.695610Z",
     "shell.execute_reply": "2024-03-14T16:14:26.694940Z"
    }
   },
   "outputs": [
    {
     "data": {
      "text/plain": [
       "12"
      ]
     },
     "execution_count": 7,
     "metadata": {},
     "output_type": "execute_result"
    }
   ],
   "source": [
    "3 * 2 ** 2"
   ]
  },
  {
   "cell_type": "code",
   "execution_count": 8,
   "metadata": {
    "execution": {
     "iopub.execute_input": "2024-03-14T16:14:26.698194Z",
     "iopub.status.busy": "2024-03-14T16:14:26.697936Z",
     "iopub.status.idle": "2024-03-14T16:14:26.702397Z",
     "shell.execute_reply": "2024-03-14T16:14:26.701713Z"
    }
   },
   "outputs": [
    {
     "data": {
      "text/plain": [
       "36"
      ]
     },
     "execution_count": 8,
     "metadata": {},
     "output_type": "execute_result"
    }
   ],
   "source": [
    "(3 * 2) ** 2"
   ]
  },
  {
   "cell_type": "markdown",
   "metadata": {
    "slideshow": {
     "slide_type": "slide"
    }
   },
   "source": [
    "### Atividade\n",
    "\n",
    "Na célula abaixo, substitua as reticências por uma expressão equivalente a\n",
    "\n",
    "$$(19 + 6 \\cdot 3) - 15 \\cdot \\left(\\sqrt{100} \\cdot \\frac{1}{30}\\right) \\cdot \\frac{3}{5} + \\frac{4 ^2}{2^3} + \\left( 6 - \\frac{2}{3} \\right) \\cdot 12 $$\n",
    "\n",
    "Tente usar parênteses somente quando necessário."
   ]
  },
  {
   "cell_type": "code",
   "execution_count": 9,
   "metadata": {
    "execution": {
     "iopub.execute_input": "2024-03-14T16:14:26.705155Z",
     "iopub.status.busy": "2024-03-14T16:14:26.704918Z",
     "iopub.status.idle": "2024-03-14T16:14:26.709383Z",
     "shell.execute_reply": "2024-03-14T16:14:26.708437Z"
    }
   },
   "outputs": [
    {
     "data": {
      "text/plain": [
       "Ellipsis"
      ]
     },
     "execution_count": 9,
     "metadata": {},
     "output_type": "execute_result"
    }
   ],
   "source": [
    "..."
   ]
  },
  {
   "cell_type": "markdown",
   "metadata": {
    "slideshow": {
     "slide_type": "slide"
    }
   },
   "source": [
    "## Variáveis"
   ]
  },
  {
   "cell_type": "markdown",
   "metadata": {
    "slideshow": {
     "slide_type": "slide"
    }
   },
   "source": [
    "### Motivação\n",
    "\n",
    "Abaixo, calculamos o número de segundos em um ano."
   ]
  },
  {
   "cell_type": "code",
   "execution_count": 10,
   "metadata": {
    "execution": {
     "iopub.execute_input": "2024-03-14T16:14:26.712490Z",
     "iopub.status.busy": "2024-03-14T16:14:26.712192Z",
     "iopub.status.idle": "2024-03-14T16:14:26.717270Z",
     "shell.execute_reply": "2024-03-14T16:14:26.716592Z"
    }
   },
   "outputs": [
    {
     "data": {
      "text/plain": [
       "31536000"
      ]
     },
     "execution_count": 10,
     "metadata": {},
     "output_type": "execute_result"
    }
   ],
   "source": [
    "60 * 60 * 24 * 365"
   ]
  },
  {
   "cell_type": "markdown",
   "metadata": {
    "slideshow": {
     "slide_type": "fragment"
    }
   },
   "source": [
    "Se quisermos utilizar o valor acima mais tarde no nosso bloco de notas para determinar, digamos, o número de segundos em 12 anos, teremos de copiar e colar a expressão. **Isso é inconveniente e propenso a introduzir erros.**"
   ]
  },
  {
   "cell_type": "code",
   "execution_count": 11,
   "metadata": {
    "execution": {
     "iopub.execute_input": "2024-03-14T16:14:26.719924Z",
     "iopub.status.busy": "2024-03-14T16:14:26.719627Z",
     "iopub.status.idle": "2024-03-14T16:14:26.724356Z",
     "shell.execute_reply": "2024-03-14T16:14:26.723699Z"
    }
   },
   "outputs": [
    {
     "data": {
      "text/plain": [
       "378432000"
      ]
     },
     "execution_count": 11,
     "metadata": {},
     "output_type": "execute_result"
    }
   ],
   "source": [
    "60 * 60 * 24 * 365 * 12"
   ]
  },
  {
   "cell_type": "markdown",
   "metadata": {
    "slideshow": {
     "slide_type": "fragment"
    }
   },
   "source": [
    "Seria ótimo se pudéssemos **armazenar** o valor inicial e consultá-lo mais tarde!"
   ]
  },
  {
   "cell_type": "markdown",
   "metadata": {
    "slideshow": {
     "slide_type": "slide"
    }
   },
   "source": [
    "### Variáveis ​​e instruções de atribuição\n",
    "\n",
    "- Uma **variável** é um local para armazenar um valor para que possa ser consultado posteriormente em nosso código. Para definir uma variável, usamos uma **instrução de atribuição**.\n",
    "\n",
    "$$ \\overbrace{\\texttt{minhavariável}}^{\\text{nome}} = \\overbrace{\\texttt{2 + 3}}^{\\text{qualquer expressão}} $$"
   ]
  },
  {
   "cell_type": "markdown",
   "metadata": {
    "slideshow": {
     "slide_type": "fragment"
    }
   },
   "source": [
    "- Uma instrução de atribuição altera o significado do **nome** à esquerda do símbolo `=`."
   ]
  },
  {
   "cell_type": "markdown",
   "metadata": {
    "slideshow": {
     "slide_type": "fragment"
    }
   },
   "source": [
    "- A expressão do lado direito do símbolo `=` é avaliada antes de ser atribuída ao nome do lado esquerdo.\n",
    "* por exemplo. `myvariable` está vinculado a `5` (valor) e não a `2 + 3` (expressão)."
   ]
  },
  {
   "cell_type": "markdown",
   "metadata": {
    "slideshow": {
     "slide_type": "slide"
    }
   },
   "source": [
    "Observe que antes de usá-lo em uma instrução de atribuição, `more_than_1` não tem significado."
   ]
  },
  {
   "cell_type": "code",
   "execution_count": 12,
   "metadata": {
    "execution": {
     "iopub.execute_input": "2024-03-14T16:14:26.727738Z",
     "iopub.status.busy": "2024-03-14T16:14:26.727482Z",
     "iopub.status.idle": "2024-03-14T16:14:26.730511Z",
     "shell.execute_reply": "2024-03-14T16:14:26.729796Z"
    },
    "scrolled": true
   },
   "outputs": [],
   "source": [
    "# Descomente e execute\n",
    "# more_than_1"
   ]
  },
  {
   "cell_type": "markdown",
   "metadata": {
    "slideshow": {
     "slide_type": "fragment"
    }
   },
   "source": [
    "Depois de usá-lo em uma instrução de atribuição, podemos perguntar ao Python seu valor."
   ]
  },
  {
   "cell_type": "code",
   "execution_count": 13,
   "metadata": {
    "execution": {
     "iopub.execute_input": "2024-03-14T16:14:26.733632Z",
     "iopub.status.busy": "2024-03-14T16:14:26.733377Z",
     "iopub.status.idle": "2024-03-14T16:14:26.736805Z",
     "shell.execute_reply": "2024-03-14T16:14:26.736091Z"
    }
   },
   "outputs": [],
   "source": [
    "# Note that an assignment statement doesn't output anything!\n",
    "more_than_1 = 15 - 5"
   ]
  },
  {
   "cell_type": "code",
   "execution_count": 14,
   "metadata": {
    "execution": {
     "iopub.execute_input": "2024-03-14T16:14:26.739631Z",
     "iopub.status.busy": "2024-03-14T16:14:26.739376Z",
     "iopub.status.idle": "2024-03-14T16:14:26.743894Z",
     "shell.execute_reply": "2024-03-14T16:14:26.743242Z"
    }
   },
   "outputs": [
    {
     "data": {
      "text/plain": [
       "10"
      ]
     },
     "execution_count": 14,
     "metadata": {},
     "output_type": "execute_result"
    }
   ],
   "source": [
    "more_than_1"
   ]
  },
  {
   "cell_type": "markdown",
   "metadata": {
    "slideshow": {
     "slide_type": "fragment"
    }
   },
   "source": [
    "Sempre que usamos `more_than_1` em uma expressão, `10` é substituído por `10`."
   ]
  },
  {
   "cell_type": "code",
   "execution_count": 15,
   "metadata": {
    "execution": {
     "iopub.execute_input": "2024-03-14T16:14:26.746763Z",
     "iopub.status.busy": "2024-03-14T16:14:26.746507Z",
     "iopub.status.idle": "2024-03-14T16:14:26.751152Z",
     "shell.execute_reply": "2024-03-14T16:14:26.750458Z"
    }
   },
   "outputs": [
    {
     "data": {
      "text/plain": [
       "20"
      ]
     },
     "execution_count": 15,
     "metadata": {},
     "output_type": "execute_result"
    }
   ],
   "source": [
    "more_than_1 * 2"
   ]
  },
  {
   "cell_type": "markdown",
   "metadata": {
    "slideshow": {
     "slide_type": "fragment"
    }
   },
   "source": [
    "Observe que a expressão acima **não alterou** o valor de `more_than_1`, porque **não reatribuímos `more_than_1`**!"
   ]
  },
  {
   "cell_type": "code",
   "execution_count": 16,
   "metadata": {
    "execution": {
     "iopub.execute_input": "2024-03-14T16:14:26.754122Z",
     "iopub.status.busy": "2024-03-14T16:14:26.753882Z",
     "iopub.status.idle": "2024-03-14T16:14:26.757958Z",
     "shell.execute_reply": "2024-03-14T16:14:26.757309Z"
    }
   },
   "outputs": [
    {
     "data": {
      "text/plain": [
       "10"
      ]
     },
     "execution_count": 16,
     "metadata": {},
     "output_type": "execute_result"
    }
   ],
   "source": [
    "more_than_1"
   ]
  },
  {
   "cell_type": "markdown",
   "metadata": {
    "slideshow": {
     "slide_type": "slide"
    }
   },
   "source": [
    "### Nomeando variáveis\n",
    "\n",
    "- Geralmente, dê nomes úteis às suas variáveis ​​para que você saiba a que elas se referem.\n",
    "- Os nomes das variáveis ​​podem conter caracteres maiúsculos e minúsculos, dígitos de 0 a 9 e sublinhados.\n",
    "- Eles não podem começar com um número.\n",
    "- Eles diferenciam maiúsculas de minúsculas!"
   ]
  },
  {
   "cell_type": "markdown",
   "metadata": {
    "slideshow": {
     "slide_type": "fragment"
    }
   },
   "source": [
    "As instruções de atribuição a seguir são **válidas**, mas usam nomes de variáveis ​​**ruins** 😕."
   ]
  },
  {
   "cell_type": "code",
   "execution_count": 17,
   "metadata": {
    "execution": {
     "iopub.execute_input": "2024-03-14T16:14:26.760353Z",
     "iopub.status.busy": "2024-03-14T16:14:26.760113Z",
     "iopub.status.idle": "2024-03-14T16:14:26.763019Z",
     "shell.execute_reply": "2024-03-14T16:14:26.762303Z"
    }
   },
   "outputs": [],
   "source": [
    "six = 15"
   ]
  },
  {
   "cell_type": "code",
   "execution_count": 18,
   "metadata": {
    "execution": {
     "iopub.execute_input": "2024-03-14T16:14:26.765920Z",
     "iopub.status.busy": "2024-03-14T16:14:26.765665Z",
     "iopub.status.idle": "2024-03-14T16:14:26.769197Z",
     "shell.execute_reply": "2024-03-14T16:14:26.768530Z"
    }
   },
   "outputs": [],
   "source": [
    "i_45love_chocolate_9999 = 60 * 60 * 24 * 365"
   ]
  },
  {
   "cell_type": "markdown",
   "metadata": {
    "slideshow": {
     "slide_type": "fragment"
    }
   },
   "source": [
    "As instruções de atribuição a seguir são **válidas** e usam nomes de variáveis ​​**bons** ✅."
   ]
  },
  {
   "cell_type": "code",
   "execution_count": 19,
   "metadata": {
    "execution": {
     "iopub.execute_input": "2024-03-14T16:14:26.771804Z",
     "iopub.status.busy": "2024-03-14T16:14:26.771560Z",
     "iopub.status.idle": "2024-03-14T16:14:26.774755Z",
     "shell.execute_reply": "2024-03-14T16:14:26.774027Z"
    },
    "tags": [
     "raises-exception"
    ]
   },
   "outputs": [],
   "source": [
    "seconds_per_hour = 60 * 60\n",
    "hours_per_year = 24 * 365\n",
    "seconds_per_year = seconds_per_hour * hours_per_year"
   ]
  },
  {
   "cell_type": "markdown",
   "metadata": {
    "slideshow": {
     "slide_type": "fragment"
    }
   },
   "source": [
    "As seguintes \"declarações de atribuição\" são **inválidas ❌**."
   ]
  },
  {
   "cell_type": "code",
   "execution_count": 20,
   "metadata": {
    "execution": {
     "iopub.execute_input": "2024-03-14T16:14:26.777565Z",
     "iopub.status.busy": "2024-03-14T16:14:26.777323Z",
     "iopub.status.idle": "2024-03-14T16:14:26.780141Z",
     "shell.execute_reply": "2024-03-14T16:14:26.779510Z"
    }
   },
   "outputs": [],
   "source": [
    "# Descomente e execute\n",
    "# 6 = 15"
   ]
  },
  {
   "cell_type": "code",
   "execution_count": 21,
   "metadata": {
    "execution": {
     "iopub.execute_input": "2024-03-14T16:14:26.783105Z",
     "iopub.status.busy": "2024-03-14T16:14:26.782805Z",
     "iopub.status.idle": "2024-03-14T16:14:26.785926Z",
     "shell.execute_reply": "2024-03-14T16:14:26.785303Z"
    }
   },
   "outputs": [],
   "source": [
    "# Descomente e execute\n",
    "# 3 = 2 + 1"
   ]
  },
  {
   "cell_type": "markdown",
   "metadata": {
    "slideshow": {
     "slide_type": "slide"
    }
   },
   "source": [
    "### Declarações de atribuição não são equações matemáticas!\n",
    "\n",
    "- Ao contrário da matemática, onde $x = 3$ significa a mesma coisa que $3 = x$, as instruções de atribuição **não** são \"simétricas\".\n",
    "- Uma instrução de atribuição atribui (ou \"liga\") o nome à esquerda de `=` ao valor à direita de `=`, nada mais."
   ]
  },
  {
   "cell_type": "code",
   "execution_count": 22,
   "metadata": {
    "execution": {
     "iopub.execute_input": "2024-03-14T16:14:26.788459Z",
     "iopub.status.busy": "2024-03-14T16:14:26.788172Z",
     "iopub.status.idle": "2024-03-14T16:14:26.792566Z",
     "shell.execute_reply": "2024-03-14T16:14:26.791968Z"
    }
   },
   "outputs": [
    {
     "data": {
      "text/plain": [
       "3"
      ]
     },
     "execution_count": 22,
     "metadata": {},
     "output_type": "execute_result"
    }
   ],
   "source": [
    "x = 3\n",
    "x"
   ]
  },
  {
   "cell_type": "code",
   "execution_count": 23,
   "metadata": {
    "execution": {
     "iopub.execute_input": "2024-03-14T16:14:26.795238Z",
     "iopub.status.busy": "2024-03-14T16:14:26.794996Z",
     "iopub.status.idle": "2024-03-14T16:14:26.797876Z",
     "shell.execute_reply": "2024-03-14T16:14:26.797190Z"
    }
   },
   "outputs": [],
   "source": [
    "# Descomente e execute\n",
    "# 4 = x"
   ]
  },
  {
   "cell_type": "markdown",
   "metadata": {
    "slideshow": {
     "slide_type": "slide"
    }
   },
   "source": [
    "### O valor de uma variável é definido no momento da atribuição"
   ]
  },
  {
   "cell_type": "code",
   "execution_count": 24,
   "metadata": {
    "execution": {
     "iopub.execute_input": "2024-03-14T16:14:26.800382Z",
     "iopub.status.busy": "2024-03-14T16:14:26.800147Z",
     "iopub.status.idle": "2024-03-14T16:14:26.803185Z",
     "shell.execute_reply": "2024-03-14T16:14:26.802525Z"
    }
   },
   "outputs": [],
   "source": [
    "uc = 2\n",
    "sd = 3 + uc"
   ]
  },
  {
   "cell_type": "markdown",
   "metadata": {
    "slideshow": {
     "slide_type": "fragment"
    }
   },
   "source": [
    "As declarações de atribuição não são **promessas** – o valor de uma variável pode mudar!"
   ]
  },
  {
   "cell_type": "code",
   "execution_count": 25,
   "metadata": {
    "execution": {
     "iopub.execute_input": "2024-03-14T16:14:26.806201Z",
     "iopub.status.busy": "2024-03-14T16:14:26.805689Z",
     "iopub.status.idle": "2024-03-14T16:14:26.809059Z",
     "shell.execute_reply": "2024-03-14T16:14:26.808394Z"
    }
   },
   "outputs": [],
   "source": [
    "uc = 7"
   ]
  },
  {
   "cell_type": "markdown",
   "metadata": {
    "slideshow": {
     "slide_type": "fragment"
    }
   },
   "source": [
    "Observe que mesmo depois de alterar `uc`, não alteramos `sd`, então ainda é o mesmo de antes."
   ]
  },
  {
   "cell_type": "code",
   "execution_count": 26,
   "metadata": {
    "execution": {
     "iopub.execute_input": "2024-03-14T16:14:26.812057Z",
     "iopub.status.busy": "2024-03-14T16:14:26.811779Z",
     "iopub.status.idle": "2024-03-14T16:14:26.818131Z",
     "shell.execute_reply": "2024-03-14T16:14:26.816885Z"
    }
   },
   "outputs": [
    {
     "data": {
      "text/plain": [
       "5"
      ]
     },
     "execution_count": 26,
     "metadata": {},
     "output_type": "execute_result"
    }
   ],
   "source": [
    "sd"
   ]
  },
  {
   "cell_type": "markdown",
   "metadata": {
    "slideshow": {
     "slide_type": "slide"
    }
   },
   "source": [
    "### Uma analogia útil\n",
    "\n",
    "<center>\n",
    "<img src='https://raw.githubusercontent.com/flaviovdf/fcd/master/assets/03-Expressoes/images/box.png' width=600>\n",
    "</center>\n",
    "\n",
    "- Uma metáfora comum é que as variáveis ​​são como caixas ou contêineres ([source](https://www.tomasbeuzen.com/python-programming-for-data-science/chapters/chapter1-basics.html)).\n",
    "- Outra analogia: uma declaração de atribuição é como colocar um adesivo em um valor."
   ]
  },
  {
   "cell_type": "markdown",
   "metadata": {
    "slideshow": {
     "slide_type": "slide"
    }
   },
   "source": [
    "### Verificação de conceito ✅\n",
    "\n",
    "Suponha que você executou as três linhas de código a seguir:\n",
    "\n",
    "```py\n",
    "side_length = 5\n",
    "area = side_length ** 2\n",
    "side_length = side_length + 2\n",
    "```\n",
    "\n",
    "Quais são os valores de `side_length` e `area` após a execução?\n",
    "\n",
    "A. `comprimento_lateral = 5`, `área = 25`\n",
    "\n",
    "B. `comprimento_lateral = 5`, `área = 49`\n",
    "\n",
    "C. `comprimento_lateral = 7`, `área = 25`\n",
    "\n",
    "D. `comprimento_lateral = 7`, `área = 49`\n",
    "\n",
    "E. Nenhuma das opções acima"
   ]
  },
  {
   "cell_type": "markdown",
   "metadata": {
    "slideshow": {
     "slide_type": "slide"
    }
   },
   "source": [
    "## Expressões de chamada 📞"
   ]
  },
  {
   "cell_type": "markdown",
   "metadata": {
    "slideshow": {
     "slide_type": "slide"
    }
   },
   "source": [
    "### Funções algébricas\n",
    "\n",
    "- Em matemática, as funções recebem alguma entrada e retornam alguma saída.\n",
    "\n",
    "$$f(x, y) = 2x^2 + 3xy - 1$$\n",
    "\n",
    "- Podemos determinar a saída de uma função mesmo se passarmos coisas complicadas.\n",
    "\n",
    "$$f\\left(\\frac{1+2}{3+4}, (-1)^{15}\\right)$$"
   ]
  },
  {
   "cell_type": "markdown",
   "metadata": {
    "slideshow": {
     "slide_type": "slide"
    }
   },
   "source": [
    "### Expressões de chamada\n",
    "\n",
    "* **Expressões de chamada** em Python invocam funções – elas dizem a uma função para \"executar sua receita\".\n",
    "* As funções em Python funcionam da mesma forma que as funções em matemática.\n",
    "* As entradas para funções são chamadas de **argumentos**."
   ]
  },
  {
   "cell_type": "code",
   "execution_count": 27,
   "metadata": {
    "execution": {
     "iopub.execute_input": "2024-03-14T16:14:26.822430Z",
     "iopub.status.busy": "2024-03-14T16:14:26.822126Z",
     "iopub.status.idle": "2024-03-14T16:14:26.826320Z",
     "shell.execute_reply": "2024-03-14T16:14:26.825667Z"
    }
   },
   "outputs": [
    {
     "data": {
      "text/plain": [
       "12"
      ]
     },
     "execution_count": 27,
     "metadata": {},
     "output_type": "execute_result"
    }
   ],
   "source": [
    "abs(-12)"
   ]
  },
  {
   "cell_type": "markdown",
   "metadata": {
    "slideshow": {
     "slide_type": "slide"
    }
   },
   "source": [
    "### Algumas funções podem receber um número variável de argumentos"
   ]
  },
  {
   "cell_type": "code",
   "execution_count": 28,
   "metadata": {
    "execution": {
     "iopub.execute_input": "2024-03-14T16:14:26.828692Z",
     "iopub.status.busy": "2024-03-14T16:14:26.828459Z",
     "iopub.status.idle": "2024-03-14T16:14:26.833088Z",
     "shell.execute_reply": "2024-03-14T16:14:26.832368Z"
    }
   },
   "outputs": [
    {
     "data": {
      "text/plain": [
       "3"
      ]
     },
     "execution_count": 28,
     "metadata": {},
     "output_type": "execute_result"
    }
   ],
   "source": [
    "max(3, -4)"
   ]
  },
  {
   "cell_type": "code",
   "execution_count": 29,
   "metadata": {
    "execution": {
     "iopub.execute_input": "2024-03-14T16:14:26.836103Z",
     "iopub.status.busy": "2024-03-14T16:14:26.835766Z",
     "iopub.status.idle": "2024-03-14T16:14:26.839973Z",
     "shell.execute_reply": "2024-03-14T16:14:26.839319Z"
    }
   },
   "outputs": [
    {
     "data": {
      "text/plain": [
       "10"
      ]
     },
     "execution_count": 29,
     "metadata": {},
     "output_type": "execute_result"
    }
   ],
   "source": [
    "max(2, -3, -6, 10, -4)"
   ]
  },
  {
   "cell_type": "code",
   "execution_count": 30,
   "metadata": {
    "execution": {
     "iopub.execute_input": "2024-03-14T16:14:26.842423Z",
     "iopub.status.busy": "2024-03-14T16:14:26.842132Z",
     "iopub.status.idle": "2024-03-14T16:14:26.846914Z",
     "shell.execute_reply": "2024-03-14T16:14:26.846179Z"
    }
   },
   "outputs": [
    {
     "data": {
      "text/plain": [
       "9"
      ]
     },
     "execution_count": 30,
     "metadata": {},
     "output_type": "execute_result"
    }
   ],
   "source": [
    "# Only two arguments!\n",
    "max(4 + 5, 5 - 4)"
   ]
  },
  {
   "cell_type": "markdown",
   "metadata": {
    "slideshow": {
     "slide_type": "slide"
    }
   },
   "source": [
    "### Use ```?``` depois de uma função para ver a documentação de uma função\n",
    "Ou use a função `help`, por ex. `ajuda(máx.)`."
   ]
  },
  {
   "cell_type": "code",
   "execution_count": 31,
   "metadata": {
    "execution": {
     "iopub.execute_input": "2024-03-14T16:14:26.849496Z",
     "iopub.status.busy": "2024-03-14T16:14:26.849180Z",
     "iopub.status.idle": "2024-03-14T16:14:26.853021Z",
     "shell.execute_reply": "2024-03-14T16:14:26.852305Z"
    }
   },
   "outputs": [],
   "source": [
    "max?"
   ]
  },
  {
   "cell_type": "markdown",
   "metadata": {
    "slideshow": {
     "slide_type": "slide"
    }
   },
   "source": [
    "### Exemplo: `round`"
   ]
  },
  {
   "cell_type": "code",
   "execution_count": 32,
   "metadata": {
    "execution": {
     "iopub.execute_input": "2024-03-14T16:14:26.855809Z",
     "iopub.status.busy": "2024-03-14T16:14:26.855565Z",
     "iopub.status.idle": "2024-03-14T16:14:26.859712Z",
     "shell.execute_reply": "2024-03-14T16:14:26.859063Z"
    }
   },
   "outputs": [
    {
     "data": {
      "text/plain": [
       "1"
      ]
     },
     "execution_count": 32,
     "metadata": {},
     "output_type": "execute_result"
    }
   ],
   "source": [
    "my_number = 1.22\n",
    "round(my_number)"
   ]
  },
  {
   "cell_type": "code",
   "execution_count": 33,
   "metadata": {
    "execution": {
     "iopub.execute_input": "2024-03-14T16:14:26.862499Z",
     "iopub.status.busy": "2024-03-14T16:14:26.862202Z",
     "iopub.status.idle": "2024-03-14T16:14:26.895601Z",
     "shell.execute_reply": "2024-03-14T16:14:26.894929Z"
    }
   },
   "outputs": [],
   "source": [
    "round?"
   ]
  },
  {
   "cell_type": "code",
   "execution_count": 34,
   "metadata": {
    "execution": {
     "iopub.execute_input": "2024-03-14T16:14:26.898553Z",
     "iopub.status.busy": "2024-03-14T16:14:26.898276Z",
     "iopub.status.idle": "2024-03-14T16:14:26.902292Z",
     "shell.execute_reply": "2024-03-14T16:14:26.901706Z"
    }
   },
   "outputs": [
    {
     "data": {
      "text/plain": [
       "1.222"
      ]
     },
     "execution_count": 34,
     "metadata": {},
     "output_type": "execute_result"
    }
   ],
   "source": [
    "round(1.22222, 3)"
   ]
  },
  {
   "cell_type": "markdown",
   "metadata": {
    "slideshow": {
     "slide_type": "slide"
    }
   },
   "source": [
    "### Avaliação aninhada\n",
    "\n",
    "Podemos **aninhar** muitas chamadas de função para avaliar expressões sofisticadas."
   ]
  },
  {
   "cell_type": "code",
   "execution_count": 35,
   "metadata": {
    "execution": {
     "iopub.execute_input": "2024-03-14T16:14:26.905397Z",
     "iopub.status.busy": "2024-03-14T16:14:26.905000Z",
     "iopub.status.idle": "2024-03-14T16:14:26.910593Z",
     "shell.execute_reply": "2024-03-14T16:14:26.909888Z"
    }
   },
   "outputs": [
    {
     "data": {
      "text/plain": [
       "1"
      ]
     },
     "execution_count": 35,
     "metadata": {},
     "output_type": "execute_result"
    }
   ],
   "source": [
    "min(abs(max(-1, -2, -3, min(4, -2))), max(5, 100))"
   ]
  },
  {
   "cell_type": "markdown",
   "metadata": {
    "slideshow": {
     "slide_type": "fragment"
    }
   },
   "source": [
    "...como isso funcionou?"
   ]
  },
  {
   "cell_type": "code",
   "execution_count": 36,
   "metadata": {
    "execution": {
     "iopub.execute_input": "2024-03-14T16:14:26.913486Z",
     "iopub.status.busy": "2024-03-14T16:14:26.913202Z",
     "iopub.status.idle": "2024-03-14T16:14:26.917387Z",
     "shell.execute_reply": "2024-03-14T16:14:26.916675Z"
    },
    "scrolled": false,
    "slideshow": {
     "slide_type": "fragment"
    }
   },
   "outputs": [
    {
     "data": {
      "text/html": [
       "\n",
       "        <iframe\n",
       "            width=\"960\"\n",
       "            height=\"569\"\n",
       "            src=\"https://docs.google.com/presentation/d/e/2PACX-1vQpW0NzwT3LjZsIIDAgtSMRM1cl41Gp_Lf8k9GT-gm5sGAIynw4rsgiEFbIybClD6QtxarKaVKLbR9U/embed?start=false&loop=false&delayms=60000\" frameborder=\"0\" width=\"960\" height=\"569\" allowfullscreen=\"true\" mozallowfullscreen=\"true\" webkitallowfullscreen=\"true\"\"\n",
       "            frameborder=\"0\"\n",
       "            allowfullscreen\n",
       "            \n",
       "        ></iframe>\n",
       "        "
      ],
      "text/plain": [
       "<IPython.lib.display.IFrame at 0x7f299fe20110>"
      ]
     },
     "execution_count": 36,
     "metadata": {},
     "output_type": "execute_result"
    }
   ],
   "source": [
    "show_nested_eval()"
   ]
  },
  {
   "cell_type": "markdown",
   "metadata": {
    "slideshow": {
     "slide_type": "slide"
    }
   },
   "source": [
    "### Importar instruções\n",
    "- Python não tem tudo que precisamos integrado.\n",
    "- Para obter funcionalidades adicionais, importamos **módulos** por meio de **instruções de importação**.\n",
    "- **Módulos** podem ser considerados coleções de funções e valores Python.\n",
    "- Chame essas funções usando a sintaxe `module.function()`, chamada \"notação de ponto\"."
   ]
  },
  {
   "cell_type": "markdown",
   "metadata": {
    "slideshow": {
     "slide_type": "slide"
    }
   },
   "source": [
    "### Exemplo: `import math`\n",
    "\n",
    "`sqrt`, `log`, `pow`, etc."
   ]
  },
  {
   "cell_type": "code",
   "execution_count": 37,
   "metadata": {
    "execution": {
     "iopub.execute_input": "2024-03-14T16:14:26.920410Z",
     "iopub.status.busy": "2024-03-14T16:14:26.920207Z",
     "iopub.status.idle": "2024-03-14T16:14:26.923310Z",
     "shell.execute_reply": "2024-03-14T16:14:26.922565Z"
    }
   },
   "outputs": [],
   "source": [
    "import math"
   ]
  },
  {
   "cell_type": "code",
   "execution_count": 38,
   "metadata": {
    "execution": {
     "iopub.execute_input": "2024-03-14T16:14:26.926328Z",
     "iopub.status.busy": "2024-03-14T16:14:26.925807Z",
     "iopub.status.idle": "2024-03-14T16:14:26.929890Z",
     "shell.execute_reply": "2024-03-14T16:14:26.929280Z"
    }
   },
   "outputs": [
    {
     "data": {
      "text/plain": [
       "3.0"
      ]
     },
     "execution_count": 38,
     "metadata": {},
     "output_type": "execute_result"
    }
   ],
   "source": [
    "math.sqrt(9)"
   ]
  },
  {
   "cell_type": "code",
   "execution_count": 39,
   "metadata": {
    "execution": {
     "iopub.execute_input": "2024-03-14T16:14:26.933080Z",
     "iopub.status.busy": "2024-03-14T16:14:26.932585Z",
     "iopub.status.idle": "2024-03-14T16:14:26.936843Z",
     "shell.execute_reply": "2024-03-14T16:14:26.936175Z"
    }
   },
   "outputs": [
    {
     "data": {
      "text/plain": [
       "9.0"
      ]
     },
     "execution_count": 39,
     "metadata": {},
     "output_type": "execute_result"
    }
   ],
   "source": [
    "math.pow(3, 2)"
   ]
  },
  {
   "cell_type": "code",
   "execution_count": 40,
   "metadata": {
    "execution": {
     "iopub.execute_input": "2024-03-14T16:14:26.939288Z",
     "iopub.status.busy": "2024-03-14T16:14:26.939064Z",
     "iopub.status.idle": "2024-03-14T16:14:26.942496Z",
     "shell.execute_reply": "2024-03-14T16:14:26.941846Z"
    }
   },
   "outputs": [],
   "source": [
    "# What base is log?\n",
    "math.log?"
   ]
  },
  {
   "cell_type": "markdown",
   "metadata": {
    "slideshow": {
     "slide_type": "fragment"
    }
   },
   "source": [
    "Ele também possui constantes integradas!"
   ]
  },
  {
   "cell_type": "code",
   "execution_count": 41,
   "metadata": {
    "execution": {
     "iopub.execute_input": "2024-03-14T16:14:26.945461Z",
     "iopub.status.busy": "2024-03-14T16:14:26.945171Z",
     "iopub.status.idle": "2024-03-14T16:14:26.949681Z",
     "shell.execute_reply": "2024-03-14T16:14:26.948953Z"
    }
   },
   "outputs": [
    {
     "data": {
      "text/plain": [
       "3.141592653589793"
      ]
     },
     "execution_count": 41,
     "metadata": {},
     "output_type": "execute_result"
    }
   ],
   "source": [
    "math.pi"
   ]
  },
  {
   "cell_type": "markdown",
   "metadata": {
    "slideshow": {
     "slide_type": "slide"
    }
   },
   "source": [
    "### Verificação de conceito ✅\n",
    "\n",
    "Suponha que você executou as seguintes instruções:\n",
    "\n",
    "```py\n",
    "x = 3\n",
    "y = -2\n",
    "```\n",
    "\n",
    "Qual desses exemplos resulta em um erro?\n",
    "\n",
    "A. `abs(x, y)`\n",
    "\n",
    "B. `math.pow(x, abs(y))`\n",
    "\n",
    "C. `round(x, max (abs (y ** 2)))`\n",
    "\n",
    "D. `math.pow(x, math.pow(y, x))`\n",
    "\n",
    "E. Mais de um dos itens acima"
   ]
  },
  {
   "cell_type": "code",
   "execution_count": null,
   "metadata": {
    "slideshow": {
     "slide_type": "-"
    }
   },
   "outputs": [],
   "source": []
  },
  {
   "cell_type": "markdown",
   "metadata": {
    "slideshow": {
     "slide_type": "slide"
    }
   },
   "source": [
    "## Tipos de dados"
   ]
  },
  {
   "cell_type": "markdown",
   "metadata": {
    "slideshow": {
     "slide_type": "slide"
    }
   },
   "source": [
    "### Qual é a diferença? 🧐"
   ]
  },
  {
   "cell_type": "code",
   "execution_count": 42,
   "metadata": {
    "execution": {
     "iopub.execute_input": "2024-03-14T16:14:26.952894Z",
     "iopub.status.busy": "2024-03-14T16:14:26.952644Z",
     "iopub.status.idle": "2024-03-14T16:14:26.957214Z",
     "shell.execute_reply": "2024-03-14T16:14:26.956561Z"
    }
   },
   "outputs": [
    {
     "data": {
      "text/plain": [
       "2.0"
      ]
     },
     "execution_count": 42,
     "metadata": {},
     "output_type": "execute_result"
    }
   ],
   "source": [
    "4 / 2"
   ]
  },
  {
   "cell_type": "code",
   "execution_count": 43,
   "metadata": {
    "execution": {
     "iopub.execute_input": "2024-03-14T16:14:26.959736Z",
     "iopub.status.busy": "2024-03-14T16:14:26.959504Z",
     "iopub.status.idle": "2024-03-14T16:14:26.963613Z",
     "shell.execute_reply": "2024-03-14T16:14:26.962831Z"
    }
   },
   "outputs": [
    {
     "data": {
      "text/plain": [
       "2"
      ]
     },
     "execution_count": 43,
     "metadata": {},
     "output_type": "execute_result"
    }
   ],
   "source": [
    "5 - 3"
   ]
  },
  {
   "cell_type": "markdown",
   "metadata": {
    "slideshow": {
     "slide_type": "fragment"
    }
   },
   "source": [
    "Para nós, `2.0` e `2` são o mesmo número, $2$. Mas para Python, isso parece ser diferente!"
   ]
  },
  {
   "cell_type": "markdown",
   "metadata": {
    "slideshow": {
     "slide_type": "slide"
    }
   },
   "source": [
    "### Tipos de dados\n",
    "- Todo valor em Python tem um **tipo**.\n",
    "- Use a função `type` para verificar o tipo de um valor.\n",
    "- É importante entender como diferentes tipos funcionam com diferentes operações, pois os resultados podem nem sempre ser os que esperamos."
   ]
  },
  {
   "cell_type": "markdown",
   "metadata": {
    "slideshow": {
     "slide_type": "slide"
    }
   },
   "source": [
    "### Dois tipos de dados numéricos: ```int``` e ```float```\n",
    "- ```int``` : Um número inteiro de qualquer tamanho.\n",
    "- ```float```: Um número com ponto decimal."
   ]
  },
  {
   "cell_type": "markdown",
   "metadata": {
    "slideshow": {
     "slide_type": "slide"
    }
   },
   "source": [
    "### ```int```\n",
    "- Se você usar essas operações entre `int`s (`+`, `-`, `*`, `**`), o resultado será outro `int`.\n",
    "- `int`s têm precisão arbitrária em Python, o que significa que seus cálculos serão sempre exatos."
   ]
  },
  {
   "cell_type": "code",
   "execution_count": 44,
   "metadata": {
    "execution": {
     "iopub.execute_input": "2024-03-14T16:14:26.966996Z",
     "iopub.status.busy": "2024-03-14T16:14:26.966727Z",
     "iopub.status.idle": "2024-03-14T16:14:26.970856Z",
     "shell.execute_reply": "2024-03-14T16:14:26.970202Z"
    }
   },
   "outputs": [
    {
     "data": {
      "text/plain": [
       "8"
      ]
     },
     "execution_count": 44,
     "metadata": {},
     "output_type": "execute_result"
    }
   ],
   "source": [
    "3 + 5"
   ]
  },
  {
   "cell_type": "code",
   "execution_count": 45,
   "metadata": {
    "execution": {
     "iopub.execute_input": "2024-03-14T16:14:26.973800Z",
     "iopub.status.busy": "2024-03-14T16:14:26.973379Z",
     "iopub.status.idle": "2024-03-14T16:14:26.977902Z",
     "shell.execute_reply": "2024-03-14T16:14:26.977255Z"
    }
   },
   "outputs": [
    {
     "data": {
      "text/plain": [
       "int"
      ]
     },
     "execution_count": 45,
     "metadata": {},
     "output_type": "execute_result"
    }
   ],
   "source": [
    "type(3 + 5)"
   ]
  },
  {
   "cell_type": "code",
   "execution_count": 46,
   "metadata": {
    "execution": {
     "iopub.execute_input": "2024-03-14T16:14:26.980631Z",
     "iopub.status.busy": "2024-03-14T16:14:26.980400Z",
     "iopub.status.idle": "2024-03-14T16:14:26.985001Z",
     "shell.execute_reply": "2024-03-14T16:14:26.984342Z"
    }
   },
   "outputs": [
    {
     "data": {
      "text/plain": [
       "2037035976334486086268445688409378161051468393665936250636140449354381299763336706183397376"
      ]
     },
     "execution_count": 46,
     "metadata": {},
     "output_type": "execute_result"
    }
   ],
   "source": [
    "2 ** 300"
   ]
  },
  {
   "cell_type": "code",
   "execution_count": 47,
   "metadata": {
    "execution": {
     "iopub.execute_input": "2024-03-14T16:14:26.987650Z",
     "iopub.status.busy": "2024-03-14T16:14:26.987389Z",
     "iopub.status.idle": "2024-03-14T16:14:26.991953Z",
     "shell.execute_reply": "2024-03-14T16:14:26.991321Z"
    },
    "scrolled": true
   },
   "outputs": [
    {
     "data": {
      "text/plain": [
       "1230231922161117176931558813276752514640713895736833715766118029160058800614672948775360067838593459582429649254051804908512884180898236823585082482065348331234959350355845017413023320111360666922624728239756880416434478315693675013413090757208690376793296658810662941824493488451726505303712916005346747908623702673480919353936813105736620402352744776903840477883651100322409301983488363802930540482487909763484098253940728685132044408863734754271212592471778643949486688511721051561970432780747454823776808464180697103083861812184348565522740195796682622205511845512080552010310050255801589349645928001133745474220715013683413907542779063759833876101354235184245096670042160720629411581502371248008430447184842098610320580417992206662247328722122088513643683907670360209162653670641130936997002170500675501374723998766005827579300723253474890612250135171889174899079911291512399773872178519018229989376"
      ]
     },
     "execution_count": 47,
     "metadata": {},
     "output_type": "execute_result"
    }
   ],
   "source": [
    "2 ** 3000"
   ]
  },
  {
   "cell_type": "markdown",
   "metadata": {
    "slideshow": {
     "slide_type": "slide"
    }
   },
   "source": [
    "### ```float```\n",
    "* Um `float` é especificado usando um ponto **decimal**.\n",
    "* Um `float` pode ser impresso usando notação científica."
   ]
  },
  {
   "cell_type": "code",
   "execution_count": 48,
   "metadata": {
    "execution": {
     "iopub.execute_input": "2024-03-14T16:14:26.994954Z",
     "iopub.status.busy": "2024-03-14T16:14:26.994706Z",
     "iopub.status.idle": "2024-03-14T16:14:26.999278Z",
     "shell.execute_reply": "2024-03-14T16:14:26.998559Z"
    }
   },
   "outputs": [
    {
     "data": {
      "text/plain": [
       "5.2"
      ]
     },
     "execution_count": 48,
     "metadata": {},
     "output_type": "execute_result"
    }
   ],
   "source": [
    "2.0 + 3.2"
   ]
  },
  {
   "cell_type": "code",
   "execution_count": 49,
   "metadata": {
    "execution": {
     "iopub.execute_input": "2024-03-14T16:14:27.001989Z",
     "iopub.status.busy": "2024-03-14T16:14:27.001755Z",
     "iopub.status.idle": "2024-03-14T16:14:27.005957Z",
     "shell.execute_reply": "2024-03-14T16:14:27.005282Z"
    }
   },
   "outputs": [
    {
     "data": {
      "text/plain": [
       "float"
      ]
     },
     "execution_count": 49,
     "metadata": {},
     "output_type": "execute_result"
    }
   ],
   "source": [
    "type(2.0 + 3.2)"
   ]
  },
  {
   "cell_type": "code",
   "execution_count": 50,
   "metadata": {
    "execution": {
     "iopub.execute_input": "2024-03-14T16:14:27.008688Z",
     "iopub.status.busy": "2024-03-14T16:14:27.008454Z",
     "iopub.status.idle": "2024-03-14T16:14:27.013048Z",
     "shell.execute_reply": "2024-03-14T16:14:27.012421Z"
    }
   },
   "outputs": [
    {
     "data": {
      "text/plain": [
       "2.037035976334486e+90"
      ]
     },
     "execution_count": 50,
     "metadata": {},
     "output_type": "execute_result"
    }
   ],
   "source": [
    "2.0 ** 300"
   ]
  },
  {
   "cell_type": "markdown",
   "metadata": {
    "slideshow": {
     "slide_type": "slide"
    }
   },
   "source": [
    "### As armadilhas do ```float```\n",
    "* `float`s têm tamanho limitado (mas o limite é enorme).\n",
    "* `float`s têm precisão limitada de 15-16 casas decimais.\n",
    "* Depois da aritmética, as últimas casas decimais podem estar erradas de maneiras inesperadas (precisão limitada!)."
   ]
  },
  {
   "cell_type": "code",
   "execution_count": 51,
   "metadata": {
    "execution": {
     "iopub.execute_input": "2024-03-14T16:14:27.015887Z",
     "iopub.status.busy": "2024-03-14T16:14:27.015637Z",
     "iopub.status.idle": "2024-03-14T16:14:27.019769Z",
     "shell.execute_reply": "2024-03-14T16:14:27.019096Z"
    },
    "slideshow": {
     "slide_type": "-"
    }
   },
   "outputs": [
    {
     "data": {
      "text/plain": [
       "1.2"
      ]
     },
     "execution_count": 51,
     "metadata": {},
     "output_type": "execute_result"
    }
   ],
   "source": [
    "1 + 0.2"
   ]
  },
  {
   "cell_type": "code",
   "execution_count": 52,
   "metadata": {
    "execution": {
     "iopub.execute_input": "2024-03-14T16:14:27.022443Z",
     "iopub.status.busy": "2024-03-14T16:14:27.022213Z",
     "iopub.status.idle": "2024-03-14T16:14:27.026269Z",
     "shell.execute_reply": "2024-03-14T16:14:27.025571Z"
    },
    "tags": [
     "raises-exception"
    ]
   },
   "outputs": [
    {
     "data": {
      "text/plain": [
       "1.2000000000000002"
      ]
     },
     "execution_count": 52,
     "metadata": {},
     "output_type": "execute_result"
    }
   ],
   "source": [
    "1 + 0.1 + 0.1"
   ]
  },
  {
   "cell_type": "code",
   "execution_count": 53,
   "metadata": {
    "execution": {
     "iopub.execute_input": "2024-03-14T16:14:27.028955Z",
     "iopub.status.busy": "2024-03-14T16:14:27.028717Z",
     "iopub.status.idle": "2024-03-14T16:14:27.031577Z",
     "shell.execute_reply": "2024-03-14T16:14:27.030888Z"
    }
   },
   "outputs": [],
   "source": [
    "# Descomente e execute\n",
    "# 2.0 ** 3000"
   ]
  },
  {
   "cell_type": "markdown",
   "metadata": {
    "slideshow": {
     "slide_type": "slide"
    }
   },
   "source": [
    "### Coerção de tipo entre ```int``` e ```float```\n",
    "- Por padrão, Python muda um `int` para um `float` em uma expressão mista envolvendo ambos os tipos.\n",
    "- Observe que a divisão de dois `int`s retorna automaticamente um valor `float`.\n",
    "- Um valor pode ser explicitamente **coagido** (ou seja, convertido) usando as funções ```int``` e ```float```."
   ]
  },
  {
   "cell_type": "code",
   "execution_count": 54,
   "metadata": {
    "execution": {
     "iopub.execute_input": "2024-03-14T16:14:27.034557Z",
     "iopub.status.busy": "2024-03-14T16:14:27.034207Z",
     "iopub.status.idle": "2024-03-14T16:14:27.038400Z",
     "shell.execute_reply": "2024-03-14T16:14:27.037678Z"
    },
    "slideshow": {
     "slide_type": "-"
    }
   },
   "outputs": [
    {
     "data": {
      "text/plain": [
       "5.0"
      ]
     },
     "execution_count": 54,
     "metadata": {},
     "output_type": "execute_result"
    }
   ],
   "source": [
    "2.0 + 3"
   ]
  },
  {
   "cell_type": "code",
   "execution_count": 55,
   "metadata": {
    "execution": {
     "iopub.execute_input": "2024-03-14T16:14:27.041494Z",
     "iopub.status.busy": "2024-03-14T16:14:27.041199Z",
     "iopub.status.idle": "2024-03-14T16:14:27.045422Z",
     "shell.execute_reply": "2024-03-14T16:14:27.044858Z"
    }
   },
   "outputs": [
    {
     "data": {
      "text/plain": [
       "2.0"
      ]
     },
     "execution_count": 55,
     "metadata": {},
     "output_type": "execute_result"
    }
   ],
   "source": [
    "2 / 1"
   ]
  },
  {
   "cell_type": "code",
   "execution_count": 56,
   "metadata": {
    "execution": {
     "iopub.execute_input": "2024-03-14T16:14:27.048267Z",
     "iopub.status.busy": "2024-03-14T16:14:27.047997Z",
     "iopub.status.idle": "2024-03-14T16:14:27.052530Z",
     "shell.execute_reply": "2024-03-14T16:14:27.051894Z"
    }
   },
   "outputs": [
    {
     "data": {
      "text/plain": [
       "2"
      ]
     },
     "execution_count": 56,
     "metadata": {},
     "output_type": "execute_result"
    }
   ],
   "source": [
    "# Want an integer back\n",
    "int(2 / 1)"
   ]
  },
  {
   "cell_type": "code",
   "execution_count": 57,
   "metadata": {
    "execution": {
     "iopub.execute_input": "2024-03-14T16:14:27.055140Z",
     "iopub.status.busy": "2024-03-14T16:14:27.054714Z",
     "iopub.status.idle": "2024-03-14T16:14:27.058879Z",
     "shell.execute_reply": "2024-03-14T16:14:27.058173Z"
    }
   },
   "outputs": [
    {
     "data": {
      "text/plain": [
       "3"
      ]
     },
     "execution_count": 57,
     "metadata": {},
     "output_type": "execute_result"
    }
   ],
   "source": [
    "# int chops off the decimal point, effectively rounding DOWN\n",
    "int(3.9)"
   ]
  },
  {
   "cell_type": "markdown",
   "metadata": {
    "slideshow": {
     "slide_type": "slide"
    }
   },
   "source": [
    "### À parte: modelo de memória Jupyter\n",
    "\n",
    "<center><img src='https://raw.githubusercontent.com/flaviovdf/fcd/master/assets/03-Expressoes/images/elephant.png' width=20%></center>\n",
    "\n",
    "Nosso caderno **ainda** lembra todas as variáveis ​​que definimos anteriormente na aula."
   ]
  },
  {
   "cell_type": "code",
   "execution_count": 58,
   "metadata": {
    "execution": {
     "iopub.execute_input": "2024-03-14T16:14:27.062026Z",
     "iopub.status.busy": "2024-03-14T16:14:27.061677Z",
     "iopub.status.idle": "2024-03-14T16:14:27.065797Z",
     "shell.execute_reply": "2024-03-14T16:14:27.065139Z"
    }
   },
   "outputs": [
    {
     "data": {
      "text/plain": [
       "10"
      ]
     },
     "execution_count": 58,
     "metadata": {},
     "output_type": "execute_result"
    }
   ],
   "source": [
    "more_than_1"
   ]
  },
  {
   "cell_type": "markdown",
   "metadata": {
    "slideshow": {
     "slide_type": "fragment"
    }
   },
   "source": [
    "- No entanto, se você voltar ao seu notebook depois de algumas horas, ele normalmente “esquecerá” todas as variáveis ​​que conhecia.\n",
    "- Quando isso acontecer, você precisará executar novamente as células do seu notebook."
   ]
  },
  {
   "cell_type": "markdown",
   "metadata": {
    "slideshow": {
     "slide_type": "slide"
    }
   },
   "source": [
    "## Resumo, da próxima vez"
   ]
  },
  {
   "cell_type": "markdown",
   "metadata": {
    "slideshow": {
     "slide_type": "slide"
    }
   },
   "source": [
    "### Resumo\n",
    "\n",
    "- Expressões são avaliadas como valores. Python exibirá o valor da última expressão em uma célula por padrão.\n",
    "- Python conhece todos os operadores matemáticos padrão e segue PEMDAS.\n",
    "- As instruções de atribuição nos permitem vincular valores a variáveis.\n",
    "- Podemos chamar funções em Python da mesma forma que chamamos funções em matemática.\n",
    "- Python conhece algumas funções por padrão, e as instruções de importação nos permitem trazer funcionalidades adicionais dos módulos.\n",
    "- Todos os valores em Python possuem um tipo de dados.\n",
    "- `int`s e `float`s são números.\n",
    "- `int`s são inteiros, enquanto `float`s contêm pontos decimais."
   ]
  },
  {
   "cell_type": "markdown",
   "metadata": {
    "slideshow": {
     "slide_type": "slide"
    }
   },
   "source": [
    "### Próxima vez\n",
    "\n",
    "- Aprenderemos sobre strings, um tipo de dados em Python projetado para armazenar texto.\n",
    "- Também aprenderemos como armazenar sequências, ou muitas informações, em uma única variável.\n",
    "\n",
    "**Observação:** Apresentaremos alguns códigos em laboratórios e trabalhos de casa também. Nem tudo estará em palestra. **Você aprenderá fazendo!**"
   ]
  }
 ],
 "metadata": {
  "kernelspec": {
   "display_name": "Python 3 (ipykernel)",
   "language": "python",
   "name": "python3"
  },
  "language_info": {
   "codemirror_mode": {
    "name": "ipython",
    "version": 3
   },
   "file_extension": ".py",
   "mimetype": "text/x-python",
   "name": "python",
   "nbconvert_exporter": "python",
   "pygments_lexer": "ipython3",
   "version": "3.11.2"
  },
  "livereveal": {
   "scroll": true,
   "transition": "none"
  },
  "rise": {
   "enable_chalkboard": true
  }
 },
 "nbformat": 4,
 "nbformat_minor": 2
}
